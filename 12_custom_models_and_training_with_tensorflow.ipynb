{
  "cells": [
    {
      "cell_type": "markdown",
      "metadata": {
        "id": "C7sjDEDiAxrK"
      },
      "source": [
        "**12장 – 텐서플로를 사용한 사용자 정의 모델과 훈련**"
      ]
    },
    {
      "cell_type": "markdown",
      "metadata": {
        "id": "YUAFnQdfAxrM"
      },
      "source": [
        "_이 노트북에는 12장의 모든 샘플 코드와 연습 문제에 대한 해답, 부록 C의 코드 예제가 포함되어 있습니다_."
      ]
    },
    {
      "cell_type": "markdown",
      "metadata": {
        "id": "jX7ukQPOAxrM"
      },
      "source": [
        "<table align=\"left\">\n",
        "  <td>\n",
        "    <a href=\"https://colab.research.google.com/github/rickiepark/handson-ml3/blob/main/12_custom_models_and_training_with_tensorflow.ipynb\" target=\"_parent\"><img src=\"https://colab.research.google.com/assets/colab-badge.svg\" alt=\"Open In Colab\"/></a>\n",
        "  </td>\n",
        "</table>"
      ]
    },
    {
      "cell_type": "markdown",
      "metadata": {
        "id": "sFcMpxP2AxrN",
        "tags": []
      },
      "source": [
        "# 설정"
      ]
    },
    {
      "cell_type": "markdown",
      "metadata": {
        "id": "mwy7Yxo_AxrN"
      },
      "source": [
        "이 프로젝트에는 Python 3.7 이상이 필요합니다:"
      ]
    },
    {
      "cell_type": "code",
      "execution_count": 381,
      "metadata": {
        "id": "xNKQVwanAxrN"
      },
      "outputs": [],
      "source": [
        "import sys\n",
        "\n",
        "assert sys.version_info >= (3, 7)"
      ]
    },
    {
      "cell_type": "markdown",
      "metadata": {
        "id": "C1IOdJ7mAxrO"
      },
      "source": [
        "그리고 TensorFlow ≥ 2.8:"
      ]
    },
    {
      "cell_type": "code",
      "execution_count": 382,
      "metadata": {
        "id": "0Ddo9OPsAxrO"
      },
      "outputs": [],
      "source": [
        "from packaging import version\n",
        "import tensorflow as tf\n",
        "from collections import OrderedDict\n",
        "from tqdm import trange\n",
        "\n",
        "\n",
        "assert version.parse(tf.__version__) >= version.parse(\"2.8.0\")"
      ]
    },
    {
      "cell_type": "code",
      "execution_count": 384,
      "metadata": {
        "id": "JN8_1_vCAxrP"
      },
      "outputs": [],
      "source": [
        "import sys\n",
        "# 코랩의 경우 나눔 폰트를 설치합니다.\n",
        "if 'google.colab' in sys.modules:\n",
        "    !sudo apt-get -qq -y install fonts-nanum\n",
        "    import matplotlib.font_manager as fm\n",
        "    font_files = fm.findSystemFonts(fontpaths=['/usr/share/fonts/truetype/nanum'])\n",
        "    for fpath in font_files:\n",
        "        fm.fontManager.addfont(fpath)\n",
        "\n",
        "# 나눔 폰트를 사용합니다.\n",
        "import matplotlib\n",
        "\n",
        "matplotlib.rc('font', family='NanumBarunGothic')\n",
        "matplotlib.rcParams['axes.unicode_minus'] = False"
      ]
    },
    {
      "cell_type": "markdown",
      "metadata": {
        "id": "Y5lX_jAOAxrP"
      },
      "source": [
        "## 넘파이처럼 텐서플로 사용하기"
      ]
    },
    {
      "cell_type": "markdown",
      "metadata": {
        "id": "PyPC0lBMAxrP"
      },
      "source": [
        "### 텐서 및 연산"
      ]
    },
    {
      "cell_type": "markdown",
      "metadata": {
        "id": "yiDDeZuHAxrQ"
      },
      "source": [
        "#### 텐서"
      ]
    },
    {
      "cell_type": "code",
      "execution_count": 385,
      "metadata": {
        "colab": {
          "base_uri": "https://localhost:8080/"
        },
        "id": "V1OI3MGjAxrQ",
        "outputId": "2c143855-7857-4500-f739-36bf86b53675"
      },
      "outputs": [
        {
          "output_type": "execute_result",
          "data": {
            "text/plain": [
              "<tf.Tensor: shape=(2, 3), dtype=float32, numpy=\n",
              "array([[1., 2., 3.],\n",
              "       [4., 5., 6.]], dtype=float32)>"
            ]
          },
          "metadata": {},
          "execution_count": 385
        }
      ],
      "source": [
        "t = tf.constant([[1., 2., 3.], [4., 5., 6.]]) # 행렬\n",
        "t"
      ]
    },
    {
      "cell_type": "code",
      "execution_count": 386,
      "metadata": {
        "colab": {
          "base_uri": "https://localhost:8080/"
        },
        "id": "U5M77FruAxrQ",
        "outputId": "75d9356c-95ae-4f0a-b5eb-6f9da8e560de"
      },
      "outputs": [
        {
          "output_type": "execute_result",
          "data": {
            "text/plain": [
              "TensorShape([2, 3])"
            ]
          },
          "metadata": {},
          "execution_count": 386
        }
      ],
      "source": [
        "t.shape"
      ]
    },
    {
      "cell_type": "code",
      "execution_count": 387,
      "metadata": {
        "colab": {
          "base_uri": "https://localhost:8080/"
        },
        "id": "CbvAXuawAxrR",
        "outputId": "6a11ef0a-919d-4cba-bdfc-9f93998cab2a"
      },
      "outputs": [
        {
          "output_type": "execute_result",
          "data": {
            "text/plain": [
              "tf.float32"
            ]
          },
          "metadata": {},
          "execution_count": 387
        }
      ],
      "source": [
        "t.dtype"
      ]
    },
    {
      "cell_type": "markdown",
      "metadata": {
        "id": "DeWM0-UNAxrR"
      },
      "source": [
        "#### 인덱싱"
      ]
    },
    {
      "cell_type": "code",
      "execution_count": 388,
      "metadata": {
        "colab": {
          "base_uri": "https://localhost:8080/"
        },
        "id": "_8b8zwp0AxrR",
        "outputId": "1ba00e36-a226-4972-92ca-390df23cf3c1"
      },
      "outputs": [
        {
          "output_type": "execute_result",
          "data": {
            "text/plain": [
              "<tf.Tensor: shape=(2, 2), dtype=float32, numpy=\n",
              "array([[2., 3.],\n",
              "       [5., 6.]], dtype=float32)>"
            ]
          },
          "metadata": {},
          "execution_count": 388
        }
      ],
      "source": [
        "t[:, 1:]"
      ]
    },
    {
      "cell_type": "code",
      "execution_count": 389,
      "metadata": {
        "colab": {
          "base_uri": "https://localhost:8080/"
        },
        "id": "zr6WTVXWAxrR",
        "outputId": "2b2e0ec0-705c-4ffb-9376-1badbd892d39"
      },
      "outputs": [
        {
          "output_type": "execute_result",
          "data": {
            "text/plain": [
              "<tf.Tensor: shape=(2, 1), dtype=float32, numpy=\n",
              "array([[2.],\n",
              "       [5.]], dtype=float32)>"
            ]
          },
          "metadata": {},
          "execution_count": 389
        }
      ],
      "source": [
        "t[..., 1, tf.newaxis]"
      ]
    },
    {
      "cell_type": "markdown",
      "metadata": {
        "id": "r8gzp0IuAxrR"
      },
      "source": [
        "#### 연산"
      ]
    },
    {
      "cell_type": "code",
      "execution_count": 390,
      "metadata": {
        "colab": {
          "base_uri": "https://localhost:8080/"
        },
        "id": "A2MP_j5ZAxrS",
        "outputId": "62ac84a5-17ba-449a-d863-cc6072b215ca"
      },
      "outputs": [
        {
          "output_type": "execute_result",
          "data": {
            "text/plain": [
              "<tf.Tensor: shape=(2, 3), dtype=float32, numpy=\n",
              "array([[11., 12., 13.],\n",
              "       [14., 15., 16.]], dtype=float32)>"
            ]
          },
          "metadata": {},
          "execution_count": 390
        }
      ],
      "source": [
        "t + 10"
      ]
    },
    {
      "cell_type": "code",
      "execution_count": 391,
      "metadata": {
        "colab": {
          "base_uri": "https://localhost:8080/"
        },
        "id": "1pJxYGP_AxrS",
        "outputId": "bfee6a9e-4bb4-4227-a2b4-ecd031897810"
      },
      "outputs": [
        {
          "output_type": "execute_result",
          "data": {
            "text/plain": [
              "<tf.Tensor: shape=(2, 3), dtype=float32, numpy=\n",
              "array([[ 1.,  4.,  9.],\n",
              "       [16., 25., 36.]], dtype=float32)>"
            ]
          },
          "metadata": {},
          "execution_count": 391
        }
      ],
      "source": [
        "tf.square(t)"
      ]
    },
    {
      "cell_type": "code",
      "execution_count": 392,
      "metadata": {
        "colab": {
          "base_uri": "https://localhost:8080/"
        },
        "id": "mcLo21_iAxrS",
        "outputId": "e5a7f34b-5bdf-4c09-8714-b2ee566c0524"
      },
      "outputs": [
        {
          "output_type": "execute_result",
          "data": {
            "text/plain": [
              "<tf.Tensor: shape=(2, 2), dtype=float32, numpy=\n",
              "array([[14., 32.],\n",
              "       [32., 77.]], dtype=float32)>"
            ]
          },
          "metadata": {},
          "execution_count": 392
        }
      ],
      "source": [
        "t @ tf.transpose(t)"
      ]
    },
    {
      "cell_type": "markdown",
      "metadata": {
        "id": "WkBUbZ7hAxrS"
      },
      "source": [
        "#### 스칼라"
      ]
    },
    {
      "cell_type": "code",
      "execution_count": 393,
      "metadata": {
        "colab": {
          "base_uri": "https://localhost:8080/"
        },
        "id": "omn-bldFAxrS",
        "outputId": "bbc788ec-ce1b-4876-99ae-9284e1393d1a"
      },
      "outputs": [
        {
          "output_type": "execute_result",
          "data": {
            "text/plain": [
              "<tf.Tensor: shape=(), dtype=int32, numpy=42>"
            ]
          },
          "metadata": {},
          "execution_count": 393
        }
      ],
      "source": [
        "tf.constant(42)"
      ]
    },
    {
      "cell_type": "markdown",
      "metadata": {
        "id": "V46tEuLXAxrS"
      },
      "source": [
        "#### 케라스의 저수준 API"
      ]
    },
    {
      "cell_type": "markdown",
      "metadata": {
        "id": "Un53vnAOAxrT"
      },
      "source": [
        "여전히 케라스 저수준 API를 사용하는 코드를 실행할 수 있습니다:"
      ]
    },
    {
      "cell_type": "code",
      "execution_count": 394,
      "metadata": {
        "colab": {
          "base_uri": "https://localhost:8080/"
        },
        "id": "L82N01k2AxrT",
        "outputId": "1338af55-c988-4d34-fc5a-fd514df467cf"
      },
      "outputs": [
        {
          "output_type": "execute_result",
          "data": {
            "text/plain": [
              "<tf.Tensor: shape=(3, 2), dtype=float32, numpy=\n",
              "array([[11., 26.],\n",
              "       [14., 35.],\n",
              "       [19., 46.]], dtype=float32)>"
            ]
          },
          "metadata": {},
          "execution_count": 394
        }
      ],
      "source": [
        "K = tf.keras.backend\n",
        "K.square(K.transpose(t)) + 10"
      ]
    },
    {
      "cell_type": "markdown",
      "metadata": {
        "id": "qkoesP6uAxrT"
      },
      "source": [
        "하지만 케라스는 더 이상 멀티 백엔드를 지원하지 않으므로 대신 TF의 저수준 API를 직접 사용해야 합니다:"
      ]
    },
    {
      "cell_type": "code",
      "execution_count": 395,
      "metadata": {
        "colab": {
          "base_uri": "https://localhost:8080/"
        },
        "id": "gBDCe42PAxrT",
        "outputId": "9892a4ea-1d1e-484f-ebef-1baf7e349dcb"
      },
      "outputs": [
        {
          "output_type": "execute_result",
          "data": {
            "text/plain": [
              "<tf.Tensor: shape=(3, 2), dtype=float32, numpy=\n",
              "array([[11., 26.],\n",
              "       [14., 35.],\n",
              "       [19., 46.]], dtype=float32)>"
            ]
          },
          "metadata": {},
          "execution_count": 395
        }
      ],
      "source": [
        "tf.square(tf.transpose(t)) + 10"
      ]
    },
    {
      "cell_type": "markdown",
      "metadata": {
        "id": "lLBJR7srAxrT"
      },
      "source": [
        "### 텐서와 넘파이"
      ]
    },
    {
      "cell_type": "code",
      "execution_count": 396,
      "metadata": {
        "colab": {
          "base_uri": "https://localhost:8080/"
        },
        "id": "fi4jcBHHAxrT",
        "outputId": "88d37fc1-55e9-4f2b-cb90-9dc2f2bef184"
      },
      "outputs": [
        {
          "output_type": "execute_result",
          "data": {
            "text/plain": [
              "<tf.Tensor: shape=(3,), dtype=float64, numpy=array([2., 4., 5.])>"
            ]
          },
          "metadata": {},
          "execution_count": 396
        }
      ],
      "source": [
        "import numpy as np\n",
        "\n",
        "a = np.array([2., 4., 5.])\n",
        "tf.constant(a)"
      ]
    },
    {
      "cell_type": "code",
      "execution_count": 397,
      "metadata": {
        "colab": {
          "base_uri": "https://localhost:8080/"
        },
        "id": "DfgBFTIlAxrT",
        "outputId": "b2b9dd93-cf85-4e2d-95b8-844eabee2bc2"
      },
      "outputs": [
        {
          "output_type": "execute_result",
          "data": {
            "text/plain": [
              "array([[1., 2., 3.],\n",
              "       [4., 5., 6.]], dtype=float32)"
            ]
          },
          "metadata": {},
          "execution_count": 397
        }
      ],
      "source": [
        "t.numpy()"
      ]
    },
    {
      "cell_type": "code",
      "execution_count": 398,
      "metadata": {
        "colab": {
          "base_uri": "https://localhost:8080/"
        },
        "id": "JBXYk1dXAxrT",
        "outputId": "0a1fdbbd-6d2e-4231-86a3-69950e029569"
      },
      "outputs": [
        {
          "output_type": "execute_result",
          "data": {
            "text/plain": [
              "array([[1., 2., 3.],\n",
              "       [4., 5., 6.]], dtype=float32)"
            ]
          },
          "metadata": {},
          "execution_count": 398
        }
      ],
      "source": [
        "np.array(t)"
      ]
    },
    {
      "cell_type": "code",
      "execution_count": 399,
      "metadata": {
        "colab": {
          "base_uri": "https://localhost:8080/"
        },
        "id": "E555f4-eAxrU",
        "outputId": "373233ec-06a7-40c9-fb1c-a63afb5ba172"
      },
      "outputs": [
        {
          "output_type": "execute_result",
          "data": {
            "text/plain": [
              "<tf.Tensor: shape=(3,), dtype=float64, numpy=array([ 4., 16., 25.])>"
            ]
          },
          "metadata": {},
          "execution_count": 399
        }
      ],
      "source": [
        "tf.square(a)"
      ]
    },
    {
      "cell_type": "code",
      "execution_count": 401,
      "metadata": {
        "colab": {
          "base_uri": "https://localhost:8080/"
        },
        "id": "u3zp3ymEAxrU",
        "outputId": "9b2bd835-4046-4e66-a62d-703343c94fe6"
      },
      "outputs": [
        {
          "output_type": "execute_result",
          "data": {
            "text/plain": [
              "array([[ 1.,  4.,  9.],\n",
              "       [16., 25., 36.]], dtype=float32)"
            ]
          },
          "metadata": {},
          "execution_count": 401
        }
      ],
      "source": [
        "np.square(t)"
      ]
    },
    {
      "cell_type": "markdown",
      "metadata": {
        "id": "bkrb8RMGAxrU"
      },
      "source": [
        "### 타입 변환"
      ]
    },
    {
      "cell_type": "code",
      "execution_count": 402,
      "metadata": {
        "colab": {
          "base_uri": "https://localhost:8080/"
        },
        "id": "1T2zObbgAxrU",
        "outputId": "d16c9088-72a8-4c8b-b7d1-dc279121df25"
      },
      "outputs": [
        {
          "output_type": "stream",
          "name": "stdout",
          "text": [
            "cannot compute AddV2 as input #1(zero-based) was expected to be a float tensor but is a int32 tensor [Op:AddV2] name: \n"
          ]
        }
      ],
      "source": [
        "try:\n",
        "    tf.constant(2.0) + tf.constant(40)\n",
        "except tf.errors.InvalidArgumentError as ex:\n",
        "    print(ex)"
      ]
    },
    {
      "cell_type": "code",
      "execution_count": 403,
      "metadata": {
        "colab": {
          "base_uri": "https://localhost:8080/"
        },
        "id": "REJyTlwkAxrU",
        "outputId": "c7eb0417-d65e-4a92-da9f-72e7da4b9959"
      },
      "outputs": [
        {
          "output_type": "stream",
          "name": "stdout",
          "text": [
            "cannot compute AddV2 as input #1(zero-based) was expected to be a float tensor but is a double tensor [Op:AddV2] name: \n"
          ]
        }
      ],
      "source": [
        "try:\n",
        "    tf.constant(2.0) + tf.constant(40., dtype=tf.float64)\n",
        "except tf.errors.InvalidArgumentError as ex:\n",
        "    print(ex)"
      ]
    },
    {
      "cell_type": "code",
      "execution_count": 404,
      "metadata": {
        "colab": {
          "base_uri": "https://localhost:8080/"
        },
        "id": "voj491m-AxrU",
        "outputId": "c7ef9350-379f-47a8-bc73-adb1299aad39"
      },
      "outputs": [
        {
          "output_type": "execute_result",
          "data": {
            "text/plain": [
              "<tf.Tensor: shape=(), dtype=float32, numpy=42.0>"
            ]
          },
          "metadata": {},
          "execution_count": 404
        }
      ],
      "source": [
        "t2 = tf.constant(40., dtype=tf.float64)\n",
        "tf.constant(2.0) + tf.cast(t2, tf.float32)"
      ]
    },
    {
      "cell_type": "markdown",
      "metadata": {
        "id": "K6E_xZ7FAxrU"
      },
      "source": [
        "### 변수"
      ]
    },
    {
      "cell_type": "code",
      "execution_count": 405,
      "metadata": {
        "colab": {
          "base_uri": "https://localhost:8080/"
        },
        "id": "ojTQabFEAxrV",
        "outputId": "30404078-4c6d-4f4c-a576-d138953fb4e5"
      },
      "outputs": [
        {
          "output_type": "execute_result",
          "data": {
            "text/plain": [
              "<tf.Variable 'Variable:0' shape=(2, 3) dtype=float32, numpy=\n",
              "array([[1., 2., 3.],\n",
              "       [4., 5., 6.]], dtype=float32)>"
            ]
          },
          "metadata": {},
          "execution_count": 405
        }
      ],
      "source": [
        "v = tf.Variable([[1., 2., 3.], [4., 5., 6.]])\n",
        "v"
      ]
    },
    {
      "cell_type": "code",
      "execution_count": 406,
      "metadata": {
        "colab": {
          "base_uri": "https://localhost:8080/"
        },
        "id": "zk6PmMzbAxrV",
        "outputId": "cbae644a-5179-4396-e8e1-4feb4cff07a7"
      },
      "outputs": [
        {
          "output_type": "execute_result",
          "data": {
            "text/plain": [
              "<tf.Variable 'UnreadVariable' shape=(2, 3) dtype=float32, numpy=\n",
              "array([[ 2.,  4.,  6.],\n",
              "       [ 8., 10., 12.]], dtype=float32)>"
            ]
          },
          "metadata": {},
          "execution_count": 406
        }
      ],
      "source": [
        "v.assign(2 * v)"
      ]
    },
    {
      "cell_type": "code",
      "execution_count": 407,
      "metadata": {
        "colab": {
          "base_uri": "https://localhost:8080/"
        },
        "id": "ydDSJtkDAxrV",
        "outputId": "c33f48f6-1bd6-4ee1-8db8-b226145c03c8"
      },
      "outputs": [
        {
          "output_type": "execute_result",
          "data": {
            "text/plain": [
              "<tf.Variable 'UnreadVariable' shape=(2, 3) dtype=float32, numpy=\n",
              "array([[ 2., 42.,  6.],\n",
              "       [ 8., 10., 12.]], dtype=float32)>"
            ]
          },
          "metadata": {},
          "execution_count": 407
        }
      ],
      "source": [
        "v[0, 1].assign(42)"
      ]
    },
    {
      "cell_type": "code",
      "execution_count": 408,
      "metadata": {
        "colab": {
          "base_uri": "https://localhost:8080/"
        },
        "id": "5GbX-IxqAxrV",
        "outputId": "26e58fe3-1976-4337-9cb0-8d7ff68ac2ce",
        "tags": []
      },
      "outputs": [
        {
          "output_type": "execute_result",
          "data": {
            "text/plain": [
              "<tf.Variable 'UnreadVariable' shape=(2, 3) dtype=float32, numpy=\n",
              "array([[ 2., 42.,  0.],\n",
              "       [ 8., 10.,  1.]], dtype=float32)>"
            ]
          },
          "metadata": {},
          "execution_count": 408
        }
      ],
      "source": [
        "v[:, 2].assign([0., 1.])"
      ]
    },
    {
      "cell_type": "code",
      "execution_count": 409,
      "metadata": {
        "colab": {
          "base_uri": "https://localhost:8080/"
        },
        "id": "4OX5vh4rAxrV",
        "outputId": "b30920e1-9991-4528-bcc8-21239a5707c2"
      },
      "outputs": [
        {
          "output_type": "execute_result",
          "data": {
            "text/plain": [
              "<tf.Variable 'UnreadVariable' shape=(2, 3) dtype=float32, numpy=\n",
              "array([[100.,  42.,   0.],\n",
              "       [  8.,  10., 200.]], dtype=float32)>"
            ]
          },
          "metadata": {},
          "execution_count": 409
        }
      ],
      "source": [
        "v.scatter_nd_update(\n",
        "    indices=[[0, 0], [1, 2]], updates=[100., 200.])"
      ]
    },
    {
      "cell_type": "code",
      "execution_count": 410,
      "metadata": {
        "colab": {
          "base_uri": "https://localhost:8080/"
        },
        "id": "EA-7BthwAxrV",
        "outputId": "8c446420-0e88-498b-8312-9a742cb1accf"
      },
      "outputs": [
        {
          "output_type": "execute_result",
          "data": {
            "text/plain": [
              "<tf.Variable 'UnreadVariable' shape=(2, 3) dtype=float32, numpy=\n",
              "array([[4., 5., 6.],\n",
              "       [1., 2., 3.]], dtype=float32)>"
            ]
          },
          "metadata": {},
          "execution_count": 410
        }
      ],
      "source": [
        "# 추가 코드 - scatter_update() 사용 방법을 보여줍니다.\n",
        "sparse_delta = tf.IndexedSlices(values=[[1., 2., 3.], [4., 5., 6.]],\n",
        "                                indices=[1, 0])\n",
        "v.scatter_update(sparse_delta)"
      ]
    },
    {
      "cell_type": "code",
      "execution_count": 411,
      "metadata": {
        "colab": {
          "base_uri": "https://localhost:8080/"
        },
        "id": "cXN3oYYjAxrV",
        "outputId": "0c7d4bc5-2880-476d-ad5d-413bbecdc361"
      },
      "outputs": [
        {
          "output_type": "stream",
          "name": "stdout",
          "text": [
            "'ResourceVariable' object does not support item assignment\n"
          ]
        }
      ],
      "source": [
        "try:\n",
        "    v[1] = [7., 8., 9.]\n",
        "except TypeError as ex:\n",
        "    print(ex)"
      ]
    },
    {
      "cell_type": "markdown",
      "metadata": {
        "id": "d7G6WFDrAxrW"
      },
      "source": [
        "### 문자열"
      ]
    },
    {
      "cell_type": "markdown",
      "metadata": {
        "id": "zD1fDn0hAxrW"
      },
      "source": [
        "이 섹션과 이후 섹션의 코드는 부록 C에 해당합니다."
      ]
    },
    {
      "cell_type": "code",
      "execution_count": 412,
      "metadata": {
        "colab": {
          "base_uri": "https://localhost:8080/"
        },
        "id": "GsDN85PRAxrW",
        "outputId": "aa2824b4-232e-4e42-f43b-112cb38cc782"
      },
      "outputs": [
        {
          "output_type": "execute_result",
          "data": {
            "text/plain": [
              "<tf.Tensor: shape=(), dtype=string, numpy=b'hello world'>"
            ]
          },
          "metadata": {},
          "execution_count": 412
        }
      ],
      "source": [
        "tf.constant(b\"hello world\")"
      ]
    },
    {
      "cell_type": "code",
      "execution_count": 413,
      "metadata": {
        "colab": {
          "base_uri": "https://localhost:8080/"
        },
        "id": "bSJynyadAxrW",
        "outputId": "b129ffc7-4ee8-4390-835e-93054a7775aa"
      },
      "outputs": [
        {
          "output_type": "execute_result",
          "data": {
            "text/plain": [
              "<tf.Tensor: shape=(), dtype=string, numpy=b'caf\\xc3\\xa9'>"
            ]
          },
          "metadata": {},
          "execution_count": 413
        }
      ],
      "source": [
        "tf.constant(\"café\")"
      ]
    },
    {
      "cell_type": "code",
      "execution_count": 414,
      "metadata": {
        "colab": {
          "base_uri": "https://localhost:8080/"
        },
        "id": "-Xy-h4QkAxrW",
        "outputId": "d98c3cc0-b6b5-493c-a090-72189300d3e8"
      },
      "outputs": [
        {
          "output_type": "execute_result",
          "data": {
            "text/plain": [
              "<tf.Tensor: shape=(4,), dtype=int32, numpy=array([ 99,  97, 102, 233], dtype=int32)>"
            ]
          },
          "metadata": {},
          "execution_count": 414
        }
      ],
      "source": [
        "u = tf.constant([ord(c) for c in \"café\"])\n",
        "u"
      ]
    },
    {
      "cell_type": "code",
      "execution_count": 415,
      "metadata": {
        "colab": {
          "base_uri": "https://localhost:8080/"
        },
        "id": "rQL2muPVAxrW",
        "outputId": "964f21ed-2df4-40f9-9710-0dc598a7becb"
      },
      "outputs": [
        {
          "output_type": "execute_result",
          "data": {
            "text/plain": [
              "<tf.Tensor: shape=(), dtype=int32, numpy=4>"
            ]
          },
          "metadata": {},
          "execution_count": 415
        }
      ],
      "source": [
        "b = tf.strings.unicode_encode(u, \"UTF-8\")\n",
        "tf.strings.length(b, unit=\"UTF8_CHAR\")"
      ]
    },
    {
      "cell_type": "code",
      "execution_count": 416,
      "metadata": {
        "colab": {
          "base_uri": "https://localhost:8080/"
        },
        "id": "2YvVp9bSAxrW",
        "outputId": "97058414-c556-48e7-8dec-7eca398bd370"
      },
      "outputs": [
        {
          "output_type": "execute_result",
          "data": {
            "text/plain": [
              "<tf.Tensor: shape=(4,), dtype=int32, numpy=array([ 99,  97, 102, 233], dtype=int32)>"
            ]
          },
          "metadata": {},
          "execution_count": 416
        }
      ],
      "source": [
        "tf.strings.unicode_decode(b, \"UTF-8\")"
      ]
    },
    {
      "cell_type": "markdown",
      "metadata": {
        "id": "6RpxZM16AxrW"
      },
      "source": [
        "### 다른 데이터 구조"
      ]
    },
    {
      "cell_type": "markdown",
      "metadata": {
        "id": "RI0_AWrFAxrW"
      },
      "source": [
        "이 섹션의 코드는 부록 C에 있습니다."
      ]
    },
    {
      "cell_type": "markdown",
      "metadata": {
        "id": "gZNHPgBiAxrX"
      },
      "source": [
        "#### 문자열 배열"
      ]
    },
    {
      "cell_type": "code",
      "execution_count": 417,
      "metadata": {
        "colab": {
          "base_uri": "https://localhost:8080/"
        },
        "id": "4jMNXDJoAxrX",
        "outputId": "17ec5312-0fe1-41c7-cc9c-e65ec967f027"
      },
      "outputs": [
        {
          "output_type": "execute_result",
          "data": {
            "text/plain": [
              "<tf.Tensor: shape=(), dtype=string, numpy=b'hello world'>"
            ]
          },
          "metadata": {},
          "execution_count": 417
        }
      ],
      "source": [
        "tf.constant(b\"hello world\")"
      ]
    },
    {
      "cell_type": "code",
      "execution_count": 418,
      "metadata": {
        "colab": {
          "base_uri": "https://localhost:8080/"
        },
        "id": "m2MTywzxAxrX",
        "outputId": "0edee31c-d17c-47b2-9ec9-c249fc478d4a"
      },
      "outputs": [
        {
          "output_type": "execute_result",
          "data": {
            "text/plain": [
              "<tf.Tensor: shape=(), dtype=string, numpy=b'caf\\xc3\\xa9'>"
            ]
          },
          "metadata": {},
          "execution_count": 418
        }
      ],
      "source": [
        "tf.constant(\"café\")"
      ]
    },
    {
      "cell_type": "code",
      "execution_count": 419,
      "metadata": {
        "colab": {
          "base_uri": "https://localhost:8080/"
        },
        "id": "Zi5cZWcHAxrX",
        "outputId": "da8c298a-90e2-4cb6-cec8-28feed5c67bf"
      },
      "outputs": [
        {
          "output_type": "execute_result",
          "data": {
            "text/plain": [
              "<tf.Tensor: shape=(4,), dtype=int32, numpy=array([ 99,  97, 102, 233], dtype=int32)>"
            ]
          },
          "metadata": {},
          "execution_count": 419
        }
      ],
      "source": [
        "u = tf.constant([ord(c) for c in \"café\"])\n",
        "u"
      ]
    },
    {
      "cell_type": "code",
      "execution_count": 420,
      "metadata": {
        "colab": {
          "base_uri": "https://localhost:8080/"
        },
        "id": "Mhgz8OoxAxrX",
        "outputId": "0ab8c994-3e59-42fd-afb8-026701a45c1a"
      },
      "outputs": [
        {
          "output_type": "execute_result",
          "data": {
            "text/plain": [
              "<tf.Tensor: shape=(), dtype=string, numpy=b'caf\\xc3\\xa9'>"
            ]
          },
          "metadata": {},
          "execution_count": 420
        }
      ],
      "source": [
        "b = tf.strings.unicode_encode(u, \"UTF-8\")\n",
        "b"
      ]
    },
    {
      "cell_type": "code",
      "execution_count": 421,
      "metadata": {
        "colab": {
          "base_uri": "https://localhost:8080/"
        },
        "id": "M_hZqjvnAxrX",
        "outputId": "545db2b7-30d0-4db7-e201-c9d425fcd01e"
      },
      "outputs": [
        {
          "output_type": "execute_result",
          "data": {
            "text/plain": [
              "<tf.Tensor: shape=(), dtype=int32, numpy=4>"
            ]
          },
          "metadata": {},
          "execution_count": 421
        }
      ],
      "source": [
        "tf.strings.length(b, unit=\"UTF8_CHAR\")"
      ]
    },
    {
      "cell_type": "code",
      "execution_count": 422,
      "metadata": {
        "colab": {
          "base_uri": "https://localhost:8080/"
        },
        "id": "WB9KciAFAxrX",
        "outputId": "935ffe4b-4b06-486c-fab3-f93e38a1cc94"
      },
      "outputs": [
        {
          "output_type": "execute_result",
          "data": {
            "text/plain": [
              "<tf.Tensor: shape=(4,), dtype=int32, numpy=array([ 99,  97, 102, 233], dtype=int32)>"
            ]
          },
          "metadata": {},
          "execution_count": 422
        }
      ],
      "source": [
        "tf.strings.unicode_decode(b, \"UTF-8\")"
      ]
    },
    {
      "cell_type": "code",
      "execution_count": 423,
      "metadata": {
        "id": "XYVKG6PCAxrX"
      },
      "outputs": [],
      "source": [
        "p = tf.constant([\"Café\", \"Coffee\", \"caffè\", \"咖啡\"])"
      ]
    },
    {
      "cell_type": "code",
      "execution_count": 424,
      "metadata": {
        "colab": {
          "base_uri": "https://localhost:8080/"
        },
        "id": "__ZYEY-IAxrX",
        "outputId": "cdd9b64e-e6f0-4c88-9dc0-6b43efafa21f"
      },
      "outputs": [
        {
          "output_type": "execute_result",
          "data": {
            "text/plain": [
              "<tf.Tensor: shape=(4,), dtype=int32, numpy=array([4, 6, 5, 2], dtype=int32)>"
            ]
          },
          "metadata": {},
          "execution_count": 424
        }
      ],
      "source": [
        "tf.strings.length(p, unit=\"UTF8_CHAR\")"
      ]
    },
    {
      "cell_type": "code",
      "execution_count": 425,
      "metadata": {
        "colab": {
          "base_uri": "https://localhost:8080/"
        },
        "id": "bw01QOHRAxrY",
        "outputId": "b26624c3-b206-4dfa-ad26-ff6e55ad9deb"
      },
      "outputs": [
        {
          "output_type": "execute_result",
          "data": {
            "text/plain": [
              "<tf.RaggedTensor [[67, 97, 102, 233], [67, 111, 102, 102, 101, 101],\n",
              " [99, 97, 102, 102, 232], [21654, 21857]]>"
            ]
          },
          "metadata": {},
          "execution_count": 425
        }
      ],
      "source": [
        "r = tf.strings.unicode_decode(p, \"UTF8\")\n",
        "r"
      ]
    },
    {
      "cell_type": "markdown",
      "metadata": {
        "id": "5vRBco4hAxrY"
      },
      "source": [
        "#### 래그드 텐서"
      ]
    },
    {
      "cell_type": "code",
      "execution_count": 426,
      "metadata": {
        "colab": {
          "base_uri": "https://localhost:8080/"
        },
        "id": "-CM3R_m5AxrY",
        "outputId": "6ad35333-d397-4aba-aa94-720884141df3"
      },
      "outputs": [
        {
          "output_type": "execute_result",
          "data": {
            "text/plain": [
              "<tf.Tensor: shape=(6,), dtype=int32, numpy=array([ 67, 111, 102, 102, 101, 101], dtype=int32)>"
            ]
          },
          "metadata": {},
          "execution_count": 426
        }
      ],
      "source": [
        "r[1]"
      ]
    },
    {
      "cell_type": "code",
      "execution_count": 427,
      "metadata": {
        "colab": {
          "base_uri": "https://localhost:8080/"
        },
        "id": "3sgYgXB3AxrY",
        "outputId": "cdc2e00d-80db-4154-cc9c-55ead40df316"
      },
      "outputs": [
        {
          "output_type": "execute_result",
          "data": {
            "text/plain": [
              "<tf.RaggedTensor [[67, 111, 102, 102, 101, 101], [99, 97, 102, 102, 232]]>"
            ]
          },
          "metadata": {},
          "execution_count": 427
        }
      ],
      "source": [
        "r[1:3]  # 추가 코드 - 래그드 텐서의 슬라이스는 래그드 텐서입니다."
      ]
    },
    {
      "cell_type": "code",
      "execution_count": 428,
      "metadata": {
        "colab": {
          "base_uri": "https://localhost:8080/"
        },
        "id": "eWw-dmXJAxrY",
        "outputId": "ebc613bf-173f-4cc7-8089-95452c9fca6c"
      },
      "outputs": [
        {
          "output_type": "execute_result",
          "data": {
            "text/plain": [
              "<tf.RaggedTensor [[67, 97, 102, 233], [67, 111, 102, 102, 101, 101],\n",
              " [99, 97, 102, 102, 232], [21654, 21857], [65, 66], [], [67]]>"
            ]
          },
          "metadata": {},
          "execution_count": 428
        }
      ],
      "source": [
        "r2 = tf.ragged.constant([[65, 66], [], [67]])\n",
        "tf.concat([r, r2], axis=0)"
      ]
    },
    {
      "cell_type": "code",
      "execution_count": 429,
      "metadata": {
        "colab": {
          "base_uri": "https://localhost:8080/"
        },
        "id": "IgM0lcTlAxrY",
        "outputId": "1a38b585-f10e-49c5-c401-a89e47ef6121"
      },
      "outputs": [
        {
          "output_type": "stream",
          "name": "stdout",
          "text": [
            "<tf.RaggedTensor [[67, 97, 102, 233, 68, 69, 70], [67, 111, 102, 102, 101, 101, 71],\n",
            " [99, 97, 102, 102, 232], [21654, 21857, 72, 73]]>\n"
          ]
        }
      ],
      "source": [
        "r3 = tf.ragged.constant([[68, 69, 70], [71], [], [72, 73]])\n",
        "print(tf.concat([r, r3], axis=1))"
      ]
    },
    {
      "cell_type": "code",
      "execution_count": 430,
      "metadata": {
        "colab": {
          "base_uri": "https://localhost:8080/"
        },
        "id": "7Q7rYycBAxrY",
        "outputId": "d9873af9-1aa0-46e6-e4cf-19498f5e4ad1"
      },
      "outputs": [
        {
          "output_type": "execute_result",
          "data": {
            "text/plain": [
              "<tf.Tensor: shape=(4, 6), dtype=int32, numpy=\n",
              "array([[   67,    97,   102,   233,     0,     0],\n",
              "       [   67,   111,   102,   102,   101,   101],\n",
              "       [   99,    97,   102,   102,   232,     0],\n",
              "       [21654, 21857,     0,     0,     0,     0]], dtype=int32)>"
            ]
          },
          "metadata": {},
          "execution_count": 430
        }
      ],
      "source": [
        "r.to_tensor()"
      ]
    },
    {
      "cell_type": "markdown",
      "metadata": {
        "id": "_-k1oueCAxrY"
      },
      "source": [
        "#### 희소 텐서"
      ]
    },
    {
      "cell_type": "code",
      "execution_count": 431,
      "metadata": {
        "id": "9czxHg_BAxrY"
      },
      "outputs": [],
      "source": [
        "s = tf.SparseTensor(indices=[[0, 1], [1, 0], [2, 3]],\n",
        "                    values=[1., 2., 3.],\n",
        "                    dense_shape=[3, 4])"
      ]
    },
    {
      "cell_type": "code",
      "execution_count": 432,
      "metadata": {
        "colab": {
          "base_uri": "https://localhost:8080/"
        },
        "id": "LO9aP3-eAxrZ",
        "outputId": "c56d701d-9a28-4ff4-f0ce-336753df92bc"
      },
      "outputs": [
        {
          "output_type": "execute_result",
          "data": {
            "text/plain": [
              "<tf.Tensor: shape=(3, 4), dtype=float32, numpy=\n",
              "array([[0., 1., 0., 0.],\n",
              "       [2., 0., 0., 0.],\n",
              "       [0., 0., 0., 3.]], dtype=float32)>"
            ]
          },
          "metadata": {},
          "execution_count": 432
        }
      ],
      "source": [
        "tf.sparse.to_dense(s)"
      ]
    },
    {
      "cell_type": "code",
      "execution_count": 433,
      "metadata": {
        "colab": {
          "base_uri": "https://localhost:8080/"
        },
        "id": "Hx-pnTOXAxrZ",
        "outputId": "83344b63-5013-4738-dbbe-6b32a3b3569a"
      },
      "outputs": [
        {
          "output_type": "execute_result",
          "data": {
            "text/plain": [
              "SparseTensor(indices=tf.Tensor(\n",
              "[[0 1]\n",
              " [1 0]\n",
              " [2 3]], shape=(3, 2), dtype=int64), values=tf.Tensor([ 42.  84. 126.], shape=(3,), dtype=float32), dense_shape=tf.Tensor([3 4], shape=(2,), dtype=int64))"
            ]
          },
          "metadata": {},
          "execution_count": 433
        }
      ],
      "source": [
        "s * 42.0"
      ]
    },
    {
      "cell_type": "code",
      "execution_count": 434,
      "metadata": {
        "colab": {
          "base_uri": "https://localhost:8080/"
        },
        "id": "1AUkxI9zAxrZ",
        "outputId": "a93e615c-1a71-4ee1-d538-b857d9c36144"
      },
      "outputs": [
        {
          "output_type": "stream",
          "name": "stdout",
          "text": [
            "unsupported operand type(s) for +: 'SparseTensor' and 'float'\n"
          ]
        }
      ],
      "source": [
        "try:\n",
        "    s + 42.0\n",
        "except TypeError as ex:\n",
        "    print(ex)"
      ]
    },
    {
      "cell_type": "code",
      "execution_count": 435,
      "metadata": {
        "colab": {
          "base_uri": "https://localhost:8080/"
        },
        "id": "pFgjJfkJAxrZ",
        "outputId": "b3f3ade7-f9ea-4a76-8ee6-bfce4197bca7"
      },
      "outputs": [
        {
          "output_type": "execute_result",
          "data": {
            "text/plain": [
              "<tf.Tensor: shape=(3, 2), dtype=float32, numpy=\n",
              "array([[ 30.,  40.],\n",
              "       [ 20.,  40.],\n",
              "       [210., 240.]], dtype=float32)>"
            ]
          },
          "metadata": {},
          "execution_count": 435
        }
      ],
      "source": [
        "# 추가 코드 - 희소 텐서와 밀집 텐서를 곱하는 방법을 보여줍니다.\n",
        "s4 = tf.constant([[10., 20.], [30., 40.], [50., 60.], [70., 80.]])\n",
        "tf.sparse.sparse_dense_matmul(s, s4)"
      ]
    },
    {
      "cell_type": "code",
      "execution_count": 436,
      "metadata": {
        "colab": {
          "base_uri": "https://localhost:8080/"
        },
        "id": "yHory7jKAxrZ",
        "outputId": "691a419e-11f4-40a2-e40d-937efb6aba68"
      },
      "outputs": [
        {
          "output_type": "stream",
          "name": "stdout",
          "text": [
            "{{function_node __wrapped__SparseToDense_device_/job:localhost/replica:0/task:0/device:GPU:0}} indices[1] is out of order. Many sparse ops require sorted indices.\n",
            "  Use `tf.sparse.reorder` to create a correctly ordered copy.\n",
            "\n",
            "\n",
            "\t [[{{node SparseToDense}}]] [Op:SparseToDense] name: \n"
          ]
        }
      ],
      "source": [
        "# 추가 코드 - 희소 텐서를 생성할 때 값을 \"읽는 순서\"로 제공해야 하며, 그렇지 않으면 `to_dense()`가 실패합니다.\n",
        "s5 = tf.SparseTensor(indices=[[0, 2], [0, 1]],  # 잘못된 순서!\n",
        "                     values=[1., 2.],\n",
        "                     dense_shape=[3, 4])\n",
        "try:\n",
        "    tf.sparse.to_dense(s5)\n",
        "except tf.errors.InvalidArgumentError as ex:\n",
        "    print(ex)"
      ]
    },
    {
      "cell_type": "code",
      "execution_count": 437,
      "metadata": {
        "colab": {
          "base_uri": "https://localhost:8080/"
        },
        "id": "OqVH-dpGAxrZ",
        "outputId": "61a0159f-127c-4cca-900b-c7aa90c89bfd"
      },
      "outputs": [
        {
          "output_type": "execute_result",
          "data": {
            "text/plain": [
              "<tf.Tensor: shape=(3, 4), dtype=float32, numpy=\n",
              "array([[0., 2., 1., 0.],\n",
              "       [0., 0., 0., 0.],\n",
              "       [0., 0., 0., 0.]], dtype=float32)>"
            ]
          },
          "metadata": {},
          "execution_count": 437
        }
      ],
      "source": [
        "# 추가 코드 - 희소 텐서 s5의 값을 재정렬하여 수정하는 방법을 보여줍니다.\n",
        "s6 = tf.sparse.reorder(s5)\n",
        "tf.sparse.to_dense(s6)"
      ]
    },
    {
      "cell_type": "markdown",
      "metadata": {
        "id": "To8AbsxmAxra"
      },
      "source": [
        "#### 텐서 배열"
      ]
    },
    {
      "cell_type": "code",
      "execution_count": 438,
      "metadata": {
        "id": "0BxExIGRAxra"
      },
      "outputs": [],
      "source": [
        "array = tf.TensorArray(dtype=tf.float32, size=3)\n",
        "array = array.write(0, tf.constant([1., 2.]))\n",
        "array = array.write(1, tf.constant([3., 10.]))\n",
        "array = array.write(2, tf.constant([5., 7.]))\n",
        "tensor1 = array.read(1)  # tf.constant([3., 10.])을 반환하고 (0으로 채웁니다!)"
      ]
    },
    {
      "cell_type": "code",
      "execution_count": 439,
      "metadata": {
        "colab": {
          "base_uri": "https://localhost:8080/"
        },
        "id": "Pa6Wau4mAxra",
        "outputId": "e89bb8a5-ec70-40ac-cab4-2a9bfba36c04"
      },
      "outputs": [
        {
          "output_type": "execute_result",
          "data": {
            "text/plain": [
              "<tf.Tensor: shape=(3, 2), dtype=float32, numpy=\n",
              "array([[1., 2.],\n",
              "       [0., 0.],\n",
              "       [5., 7.]], dtype=float32)>"
            ]
          },
          "metadata": {},
          "execution_count": 439
        }
      ],
      "source": [
        "array.stack()"
      ]
    },
    {
      "cell_type": "code",
      "execution_count": 440,
      "metadata": {
        "colab": {
          "base_uri": "https://localhost:8080/"
        },
        "id": "BoO188ZgAxra",
        "outputId": "e0b6cd81-ff4a-4174-bd01-3edfe74a5003"
      },
      "outputs": [
        {
          "output_type": "execute_result",
          "data": {
            "text/plain": [
              "<tf.Tensor: shape=(3, 2), dtype=float32, numpy=\n",
              "array([[ 1.,  2.],\n",
              "       [ 3., 10.],\n",
              "       [ 5.,  7.]], dtype=float32)>"
            ]
          },
          "metadata": {},
          "execution_count": 440
        }
      ],
      "source": [
        "# 추가 코드 - clear_after_read를 비활성화하는 방법을 보여줍니다.\n",
        "array2 = tf.TensorArray(dtype=tf.float32, size=3, clear_after_read=False)\n",
        "array2 = array2.write(0, tf.constant([1., 2.]))\n",
        "array2 = array2.write(1, tf.constant([3., 10.]))\n",
        "array2 = array2.write(2, tf.constant([5., 7.]))\n",
        "tensor2 = array2.read(1)  # tf.constant([3., 10.])를 반환합니다.\n",
        "array2.stack()"
      ]
    },
    {
      "cell_type": "code",
      "execution_count": 441,
      "metadata": {
        "colab": {
          "base_uri": "https://localhost:8080/"
        },
        "id": "a1bKgzxHAxra",
        "outputId": "96d17a5b-27aa-4bed-fb4a-2e1fea3dd60f"
      },
      "outputs": [
        {
          "output_type": "execute_result",
          "data": {
            "text/plain": [
              "<tf.Tensor: shape=(3, 2), dtype=float32, numpy=\n",
              "array([[1., 2.],\n",
              "       [0., 0.],\n",
              "       [5., 7.]], dtype=float32)>"
            ]
          },
          "metadata": {},
          "execution_count": 441
        }
      ],
      "source": [
        "# 추가 코드 - 동적 크기의 텐서 배열을 생성하고 사용하는 방법을 보여줍니다.\n",
        "array3 = tf.TensorArray(dtype=tf.float32, size=0, dynamic_size=True)\n",
        "array3 = array3.write(0, tf.constant([1., 2.]))\n",
        "array3 = array3.write(1, tf.constant([3., 10.]))\n",
        "array3 = array3.write(2, tf.constant([5., 7.]))\n",
        "tensor3 = array3.read(1)\n",
        "array3.stack()"
      ]
    },
    {
      "cell_type": "markdown",
      "metadata": {
        "id": "z9DLr8QEAxra"
      },
      "source": [
        "#### 집합"
      ]
    },
    {
      "cell_type": "code",
      "execution_count": 442,
      "metadata": {
        "colab": {
          "base_uri": "https://localhost:8080/"
        },
        "id": "Lw6V_M4sAxra",
        "outputId": "98d9a683-ac67-4101-ceb6-bd2d1484bced"
      },
      "outputs": [
        {
          "output_type": "execute_result",
          "data": {
            "text/plain": [
              "SparseTensor(indices=tf.Tensor(\n",
              "[[0 0]\n",
              " [0 1]\n",
              " [0 2]\n",
              " [0 3]\n",
              " [0 4]], shape=(5, 2), dtype=int64), values=tf.Tensor([ 1  5  6  9 11], shape=(5,), dtype=int32), dense_shape=tf.Tensor([1 5], shape=(2,), dtype=int64))"
            ]
          },
          "metadata": {},
          "execution_count": 442
        }
      ],
      "source": [
        "a = tf.constant([[1, 5, 9]])\n",
        "b = tf.constant([[5, 6, 9, 11]])\n",
        "u = tf.sets.union(a, b)\n",
        "u"
      ]
    },
    {
      "cell_type": "code",
      "execution_count": 443,
      "metadata": {
        "colab": {
          "base_uri": "https://localhost:8080/"
        },
        "id": "JOCIBh5DAxra",
        "outputId": "3a7a8c41-70bb-48ac-da12-b4567c87e2fb"
      },
      "outputs": [
        {
          "output_type": "execute_result",
          "data": {
            "text/plain": [
              "<tf.Tensor: shape=(1, 5), dtype=int32, numpy=array([[ 1,  5,  6,  9, 11]], dtype=int32)>"
            ]
          },
          "metadata": {},
          "execution_count": 443
        }
      ],
      "source": [
        "tf.sparse.to_dense(u)"
      ]
    },
    {
      "cell_type": "code",
      "execution_count": 444,
      "metadata": {
        "colab": {
          "base_uri": "https://localhost:8080/"
        },
        "id": "Ysq--SHTAxra",
        "outputId": "1db35aca-a337-4dc2-df2a-890547d28025"
      },
      "outputs": [
        {
          "output_type": "execute_result",
          "data": {
            "text/plain": [
              "<tf.Tensor: shape=(2, 5), dtype=int32, numpy=\n",
              "array([[ 1,  5,  6,  9, 11],\n",
              "       [ 0, 10, 13,  0,  0]], dtype=int32)>"
            ]
          },
          "metadata": {},
          "execution_count": 444
        }
      ],
      "source": [
        "a = tf.constant([[1, 5, 9], [10, 0, 0]])\n",
        "b = tf.constant([[5, 6, 9, 11], [13, 0, 0, 0]])\n",
        "u = tf.sets.union(a, b)\n",
        "tf.sparse.to_dense(u)"
      ]
    },
    {
      "cell_type": "code",
      "execution_count": 445,
      "metadata": {
        "colab": {
          "base_uri": "https://localhost:8080/"
        },
        "id": "_v3UrL4iAxrb",
        "outputId": "1c39379e-659b-41ea-e270-0f4c70978075"
      },
      "outputs": [
        {
          "output_type": "execute_result",
          "data": {
            "text/plain": [
              "<tf.Tensor: shape=(2, 5), dtype=int32, numpy=\n",
              "array([[ 1,  5,  6,  9, 11],\n",
              "       [-1, 10, 13, -1, -1]], dtype=int32)>"
            ]
          },
          "metadata": {},
          "execution_count": 445
        }
      ],
      "source": [
        "# 추가 코드 - 다른 기본값(이 경우 -1)을 사용하는 방법을 보여줍니다.\n",
        "a = tf.constant([[1, 5, 9], [10, -1, -1]])\n",
        "b = tf.constant([[5, 6, 9, 11], [13, -1, -1, -1]])\n",
        "u = tf.sets.union(a, b)\n",
        "tf.sparse.to_dense(u, default_value=-1)"
      ]
    },
    {
      "cell_type": "code",
      "execution_count": 446,
      "metadata": {
        "colab": {
          "base_uri": "https://localhost:8080/"
        },
        "id": "KSgMPHJDAxrb",
        "outputId": "5d134e53-856e-4556-b79c-82f2185b170a"
      },
      "outputs": [
        {
          "output_type": "execute_result",
          "data": {
            "text/plain": [
              "<tf.Tensor: shape=(2, 3), dtype=int32, numpy=\n",
              "array([[2, 3, 7],\n",
              "       [7, 0, 0]], dtype=int32)>"
            ]
          },
          "metadata": {},
          "execution_count": 446
        }
      ],
      "source": [
        "# 추가 코드 - `tf.sets.difference()`를 사용하는 방법을 보여줍니다.\n",
        "set1 = tf.constant([[2, 3, 5, 7], [7, 9, 0, 0]])\n",
        "set2 = tf.constant([[4, 5, 6], [9, 10, 0]])\n",
        "tf.sparse.to_dense(tf.sets.difference(set1, set2))"
      ]
    },
    {
      "cell_type": "code",
      "execution_count": 447,
      "metadata": {
        "colab": {
          "base_uri": "https://localhost:8080/"
        },
        "id": "0eooV96SAxrb",
        "outputId": "f65c7118-2680-43be-f9d3-3003b56f24bb"
      },
      "outputs": [
        {
          "output_type": "execute_result",
          "data": {
            "text/plain": [
              "<tf.Tensor: shape=(2, 2), dtype=int32, numpy=\n",
              "array([[5, 0],\n",
              "       [0, 9]], dtype=int32)>"
            ]
          },
          "metadata": {},
          "execution_count": 447
        }
      ],
      "source": [
        "# 추가 코드 - `tf.sets.difference()`를 사용하는 방법을 보여줍니다.\n",
        "tf.sparse.to_dense(tf.sets.intersection(set1, set2))"
      ]
    },
    {
      "cell_type": "code",
      "execution_count": 448,
      "metadata": {
        "colab": {
          "base_uri": "https://localhost:8080/"
        },
        "id": "6SwJyFhUAxrb",
        "outputId": "9573fc8b-0f02-49f0-be11-0ede60f9f103"
      },
      "outputs": [
        {
          "output_type": "execute_result",
          "data": {
            "text/plain": [
              "<tf.Tensor: shape=(1,), dtype=bool, numpy=array([ True])>"
            ]
          },
          "metadata": {},
          "execution_count": 448
        }
      ],
      "source": [
        "# 추가 코드 - set1[0]에 5가 포함되어 있는지 확인합니다.\n",
        "tf.sets.size(tf.sets.intersection(set1[:1], tf.constant([[5, 0, 0, 0]]))) > 0"
      ]
    },
    {
      "cell_type": "markdown",
      "metadata": {
        "id": "bsHvqIjtAxrb"
      },
      "source": [
        "#### 큐"
      ]
    },
    {
      "cell_type": "code",
      "execution_count": 449,
      "metadata": {
        "colab": {
          "base_uri": "https://localhost:8080/"
        },
        "id": "1_1mwRJ3Axrb",
        "outputId": "7f06f640-a0c9-4d8a-b2ca-052b84424fdb"
      },
      "outputs": [
        {
          "output_type": "execute_result",
          "data": {
            "text/plain": [
              "<tf.Tensor: shape=(), dtype=int32, numpy=2>"
            ]
          },
          "metadata": {},
          "execution_count": 449
        }
      ],
      "source": [
        "q = tf.queue.FIFOQueue(3, [tf.int32, tf.string], shapes=[(), ()])\n",
        "q.enqueue([10, b\"windy\"])\n",
        "q.enqueue([15, b\"sunny\"])\n",
        "q.size()"
      ]
    },
    {
      "cell_type": "code",
      "execution_count": 450,
      "metadata": {
        "colab": {
          "base_uri": "https://localhost:8080/"
        },
        "id": "5WQ1dE_HAxrb",
        "outputId": "a7accfe1-3b51-4b62-b999-2cc4d7078340"
      },
      "outputs": [
        {
          "output_type": "execute_result",
          "data": {
            "text/plain": [
              "[<tf.Tensor: shape=(), dtype=int32, numpy=10>,\n",
              " <tf.Tensor: shape=(), dtype=string, numpy=b'windy'>]"
            ]
          },
          "metadata": {},
          "execution_count": 450
        }
      ],
      "source": [
        "q.dequeue()"
      ]
    },
    {
      "cell_type": "code",
      "execution_count": 451,
      "metadata": {
        "id": "udUYygHeAxrb"
      },
      "outputs": [],
      "source": [
        "q.enqueue_many([[13, 16], [b'cloudy', b'rainy']])"
      ]
    },
    {
      "cell_type": "code",
      "execution_count": 452,
      "metadata": {
        "colab": {
          "base_uri": "https://localhost:8080/"
        },
        "id": "tJlE67eKAxrc",
        "outputId": "abed2fb7-226f-427d-a099-90c350201177"
      },
      "outputs": [
        {
          "output_type": "execute_result",
          "data": {
            "text/plain": [
              "[<tf.Tensor: shape=(3,), dtype=int32, numpy=array([15, 13, 16], dtype=int32)>,\n",
              " <tf.Tensor: shape=(3,), dtype=string, numpy=array([b'sunny', b'cloudy', b'rainy'], dtype=object)>]"
            ]
          },
          "metadata": {},
          "execution_count": 452
        }
      ],
      "source": [
        "q.dequeue_many(3)"
      ]
    },
    {
      "cell_type": "markdown",
      "metadata": {
        "id": "dw_LFcqOAxrc"
      },
      "source": [
        "## 사용자 정의 손실"
      ]
    },
    {
      "cell_type": "code",
      "execution_count": 453,
      "metadata": {
        "id": "h8ITtrkcAxrc"
      },
      "outputs": [],
      "source": [
        "def huber_fn(y_true, y_pred):\n",
        "    error = y_true - y_pred\n",
        "    is_small_error = tf.abs(error) < 1\n",
        "    squared_loss = tf.square(error) / 2\n",
        "    linear_loss  = tf.abs(error) - 0.5\n",
        "    return tf.where(is_small_error, squared_loss, linear_loss)"
      ]
    },
    {
      "cell_type": "code",
      "execution_count": 454,
      "metadata": {
        "colab": {
          "base_uri": "https://localhost:8080/",
          "height": 373
        },
        "id": "sMf7oMPXAxrc",
        "outputId": "f12de3c6-be24-4978-993e-aafc453644e9"
      },
      "outputs": [
        {
          "output_type": "display_data",
          "data": {
            "text/plain": [
              "<Figure size 800x350 with 1 Axes>"
            ],
            "image/png": "[encoded data removed]"
          },
          "metadata": {}
        }
      ],
      "source": [
        "# 추가 코드 - 후버 손실의 모습을 보여줍니다.\n",
        "\n",
        "import matplotlib.pyplot as plt\n",
        "\n",
        "plt.figure(figsize=(8, 3.5))\n",
        "z = np.linspace(-4, 4, 200)\n",
        "z_center = np.linspace(-1, 1, 200)\n",
        "plt.plot(z, huber_fn(0, z), \"b-\", linewidth=2, label=\"huber($z$)\")\n",
        "plt.plot(z, z ** 2 / 2, \"r:\", linewidth=1)\n",
        "plt.plot(z_center, z_center ** 2 / 2, \"r\", linewidth=2)\n",
        "plt.plot([-1, -1], [0, huber_fn(0., -1.)], \"k--\")\n",
        "plt.plot([1, 1], [0, huber_fn(0., 1.)], \"k--\")\n",
        "plt.gca().axhline(y=0, color='k')\n",
        "plt.gca().axvline(x=0, color='k')\n",
        "plt.text(2.1, 3.5, r\"$\\frac{1}{2}z^2$\", color=\"r\", fontsize=15)\n",
        "plt.text(3.0, 2.2, r\"$|z| - \\frac{1}{2}$\", color=\"b\", fontsize=15)\n",
        "plt.axis([-4, 4, 0, 4])\n",
        "plt.grid(True)\n",
        "plt.xlabel(\"$z$\")\n",
        "plt.legend(fontsize=14)\n",
        "plt.title(\"후버 손실\", fontsize=14)\n",
        "plt.show()"
      ]
    },
    {
      "cell_type": "markdown",
      "metadata": {
        "id": "L2CATH3GAxrc"
      },
      "source": [
        "사용자 정의 손실 함수를 테스트하기 위해 기본 케라스 모델을 만들고 캘리포니아 주택 데이터셋으로 훈련해 보겠습니다:"
      ]
    },
    {
      "cell_type": "code",
      "execution_count": 455,
      "metadata": {
        "id": "H1VF7XsaAxrc",
        "tags": [],
        "outputId": "04661f91-5dfb-4f68-f1b9-38fe2845ef9b",
        "colab": {
          "base_uri": "https://localhost:8080/"
        }
      },
      "outputs": [
        {
          "output_type": "stream",
          "name": "stderr",
          "text": [
            "/usr/local/lib/python3.10/dist-packages/keras/src/layers/core/dense.py:87: UserWarning: Do not pass an `input_shape`/`input_dim` argument to a layer. When using Sequential models, prefer using an `Input(shape)` object as the first layer in the model instead.\n",
            "  super().__init__(activity_regularizer=activity_regularizer, **kwargs)\n"
          ]
        }
      ],
      "source": [
        "# 추가 코드 - 캘리포니아 주택 데이터셋을 로드, 분할 및 스케일을 조정한 다음 간단한 케라스 모델을 생성합니다.\n",
        "\n",
        "from sklearn.datasets import fetch_california_housing\n",
        "from sklearn.model_selection import train_test_split\n",
        "from sklearn.preprocessing import StandardScaler\n",
        "\n",
        "housing = fetch_california_housing()\n",
        "X_train_full, X_test, y_train_full, y_test = train_test_split(\n",
        "    housing.data, housing.target.reshape(-1, 1), random_state=42)\n",
        "X_train, X_valid, y_train, y_valid = train_test_split(\n",
        "    X_train_full, y_train_full, random_state=42)\n",
        "\n",
        "scaler = StandardScaler()\n",
        "X_train_scaled = scaler.fit_transform(X_train)\n",
        "X_valid_scaled = scaler.transform(X_valid)\n",
        "X_test_scaled = scaler.transform(X_test)\n",
        "\n",
        "input_shape = X_train.shape[1:]\n",
        "\n",
        "tf.keras.utils.set_random_seed(42)\n",
        "model = tf.keras.Sequential([\n",
        "    tf.keras.layers.Dense(30, activation=\"relu\", kernel_initializer=\"he_normal\",\n",
        "                          input_shape=input_shape),\n",
        "    tf.keras.layers.Dense(1),\n",
        "])"
      ]
    },
    {
      "cell_type": "code",
      "execution_count": 456,
      "metadata": {
        "id": "48JLXr2TAxrc"
      },
      "outputs": [],
      "source": [
        "model.compile(loss=huber_fn, optimizer=\"nadam\", metrics=[\"mae\"])"
      ]
    },
    {
      "cell_type": "code",
      "execution_count": 457,
      "metadata": {
        "colab": {
          "base_uri": "https://localhost:8080/"
        },
        "id": "tjwQXkydAxrc",
        "outputId": "a875f798-fbb6-4dcf-fd05-834ab7d172e6",
        "scrolled": true
      },
      "outputs": [
        {
          "output_type": "stream",
          "name": "stdout",
          "text": [
            "Epoch 1/2\n",
            "\u001b[1m363/363\u001b[0m \u001b[32m━━━━━━━━━━━━━━━━━━━━\u001b[0m\u001b[37m\u001b[0m \u001b[1m3s\u001b[0m 4ms/step - loss: 0.7494 - mae: 1.1371 - val_loss: 0.3474 - val_mae: 0.6522\n",
            "Epoch 2/2\n",
            "\u001b[1m363/363\u001b[0m \u001b[32m━━━━━━━━━━━━━━━━━━━━\u001b[0m\u001b[37m\u001b[0m \u001b[1m1s\u001b[0m 2ms/step - loss: 0.2607 - mae: 0.5681 - val_loss: 0.2553 - val_mae: 0.5383\n"
          ]
        },
        {
          "output_type": "execute_result",
          "data": {
            "text/plain": [
              "<keras.src.callbacks.history.History at 0x7aad152269e0>"
            ]
          },
          "metadata": {},
          "execution_count": 457
        }
      ],
      "source": [
        "model.fit(X_train_scaled, y_train, epochs=2,\n",
        "          validation_data=(X_valid_scaled, y_valid))"
      ]
    },
    {
      "cell_type": "markdown",
      "metadata": {
        "id": "4-07_kd7Axrd"
      },
      "source": [
        "## 사용자 정의 요소를 가진 모델을 저장하고 로드하기"
      ]
    },
    {
      "cell_type": "code",
      "execution_count": 460,
      "metadata": {
        "id": "Q7tph7CeAxrd"
      },
      "outputs": [],
      "source": [
        "model.save(\"my_model_with_a_custom_loss.keras\")  # 추가 코드 - 정상적으로 저장됩니다."
      ]
    },
    {
      "cell_type": "code",
      "execution_count": 461,
      "metadata": {
        "id": "AB2rQdS1Axrd"
      },
      "outputs": [],
      "source": [
        "model = tf.keras.models.load_model(\"my_model_with_a_custom_loss.keras\",\n",
        "                                   custom_objects={\"huber_fn\": huber_fn})"
      ]
    },
    {
      "cell_type": "code",
      "execution_count": 462,
      "metadata": {
        "colab": {
          "base_uri": "https://localhost:8080/"
        },
        "id": "NDkbf9O8Axrd",
        "outputId": "45f06872-a7ac-44d9-a9fc-82eceffd377e"
      },
      "outputs": [
        {
          "output_type": "stream",
          "name": "stdout",
          "text": [
            "Epoch 1/2\n",
            "\u001b[1m363/363\u001b[0m \u001b[32m━━━━━━━━━━━━━━━━━━━━\u001b[0m\u001b[37m\u001b[0m \u001b[1m6s\u001b[0m 8ms/step - loss: 0.2188 - mae: 0.5096 - val_loss: 0.2129 - val_mae: 0.4876\n",
            "Epoch 2/2\n",
            "\u001b[1m363/363\u001b[0m \u001b[32m━━━━━━━━━━━━━━━━━━━━\u001b[0m\u001b[37m\u001b[0m \u001b[1m2s\u001b[0m 4ms/step - loss: 0.1990 - mae: 0.4809 - val_loss: 0.1891 - val_mae: 0.4610\n"
          ]
        },
        {
          "output_type": "execute_result",
          "data": {
            "text/plain": [
              "<keras.src.callbacks.history.History at 0x7aad154e85e0>"
            ]
          },
          "metadata": {},
          "execution_count": 462
        }
      ],
      "source": [
        "model.fit(X_train_scaled, y_train, epochs=2,\n",
        "          validation_data=(X_valid_scaled, y_valid))"
      ]
    },
    {
      "cell_type": "code",
      "execution_count": 463,
      "metadata": {
        "id": "mJH4gpIDAxrd"
      },
      "outputs": [],
      "source": [
        "def create_huber(threshold=1.0):\n",
        "    def huber_fn(y_true, y_pred):\n",
        "        error = y_true - y_pred\n",
        "        is_small_error = tf.abs(error) < threshold\n",
        "        squared_loss = tf.square(error) / 2\n",
        "        linear_loss  = threshold * tf.abs(error) - threshold ** 2 / 2\n",
        "        return tf.where(is_small_error, squared_loss, linear_loss)\n",
        "    return huber_fn"
      ]
    },
    {
      "cell_type": "code",
      "execution_count": 464,
      "metadata": {
        "id": "T3d5H-VFAxrd"
      },
      "outputs": [],
      "source": [
        "model.compile(loss=create_huber(2.0), optimizer=\"nadam\", metrics=[\"mae\"])"
      ]
    },
    {
      "cell_type": "code",
      "execution_count": 465,
      "metadata": {
        "colab": {
          "base_uri": "https://localhost:8080/"
        },
        "id": "BFdizsdgAxrd",
        "outputId": "9fbf1454-cfe1-43c8-c5e3-059c8e5413e6",
        "scrolled": true
      },
      "outputs": [
        {
          "output_type": "stream",
          "name": "stdout",
          "text": [
            "Epoch 1/2\n",
            "\u001b[1m363/363\u001b[0m \u001b[32m━━━━━━━━━━━━━━━━━━━━\u001b[0m\u001b[37m\u001b[0m \u001b[1m5s\u001b[0m 10ms/step - loss: 0.2148 - mae: 0.4689 - val_loss: 0.2084 - val_mae: 0.4504\n",
            "Epoch 2/2\n",
            "\u001b[1m363/363\u001b[0m \u001b[32m━━━━━━━━━━━━━━━━━━━━\u001b[0m\u001b[37m\u001b[0m \u001b[1m1s\u001b[0m 4ms/step - loss: 0.2054 - mae: 0.4597 - val_loss: 0.1807 - val_mae: 0.4340\n"
          ]
        },
        {
          "output_type": "execute_result",
          "data": {
            "text/plain": [
              "<keras.src.callbacks.history.History at 0x7aad154eb880>"
            ]
          },
          "metadata": {},
          "execution_count": 465
        }
      ],
      "source": [
        "model.fit(X_train_scaled, y_train, epochs=2,\n",
        "          validation_data=(X_valid_scaled, y_valid))"
      ]
    },
    {
      "cell_type": "code",
      "execution_count": 467,
      "metadata": {
        "id": "59g4fFXUAxrd"
      },
      "outputs": [],
      "source": [
        "model.save(\"my_model_with_a_custom_loss_threshold_2.keras\")"
      ]
    },
    {
      "cell_type": "code",
      "execution_count": 468,
      "metadata": {
        "id": "_Kq6XfV1Axrd"
      },
      "outputs": [],
      "source": [
        "model = tf.keras.models.load_model(\"my_model_with_a_custom_loss_threshold_2.keras\",\n",
        "                                   custom_objects={\"huber_fn\": create_huber(2.0)})"
      ]
    },
    {
      "cell_type": "code",
      "execution_count": 469,
      "metadata": {
        "colab": {
          "base_uri": "https://localhost:8080/"
        },
        "id": "VZM9Q3aSAxre",
        "outputId": "2f8d9fbf-00b9-45e2-ea62-ef866fe7b9b5"
      },
      "outputs": [
        {
          "output_type": "stream",
          "name": "stdout",
          "text": [
            "Epoch 1/2\n",
            "\u001b[1m363/363\u001b[0m \u001b[32m━━━━━━━━━━━━━━━━━━━━\u001b[0m\u001b[37m\u001b[0m \u001b[1m2s\u001b[0m 4ms/step - loss: 0.2000 - mae: 0.4540 - val_loss: 0.1853 - val_mae: 0.4339\n",
            "Epoch 2/2\n",
            "\u001b[1m363/363\u001b[0m \u001b[32m━━━━━━━━━━━━━━━━━━━━\u001b[0m\u001b[37m\u001b[0m \u001b[1m2s\u001b[0m 2ms/step - loss: 0.1959 - mae: 0.4490 - val_loss: 0.1976 - val_mae: 0.4367\n"
          ]
        },
        {
          "output_type": "execute_result",
          "data": {
            "text/plain": [
              "<keras.src.callbacks.history.History at 0x7aad154b9090>"
            ]
          },
          "metadata": {},
          "execution_count": 469
        }
      ],
      "source": [
        "model.fit(X_train_scaled, y_train, epochs=2,\n",
        "          validation_data=(X_valid_scaled, y_valid))"
      ]
    },
    {
      "cell_type": "code",
      "execution_count": 470,
      "metadata": {
        "id": "Geic7wZ9Axre"
      },
      "outputs": [],
      "source": [
        "class HuberLoss(tf.keras.losses.Loss):\n",
        "    def __init__(self, threshold=1.0, **kwargs):\n",
        "        self.threshold = threshold\n",
        "        super().__init__(**kwargs)\n",
        "\n",
        "    def call(self, y_true, y_pred):\n",
        "        error = y_true - y_pred\n",
        "        is_small_error = tf.abs(error) < self.threshold\n",
        "        squared_loss = tf.square(error) / 2\n",
        "        linear_loss  = self.threshold * tf.abs(error) - self.threshold**2 / 2\n",
        "        return tf.where(is_small_error, squared_loss, linear_loss)\n",
        "\n",
        "    def get_config(self):\n",
        "        base_config = super().get_config()\n",
        "        return {**base_config, \"threshold\": self.threshold}"
      ]
    },
    {
      "cell_type": "code",
      "execution_count": 471,
      "metadata": {
        "id": "dq0XagVZAxre"
      },
      "outputs": [],
      "source": [
        "# 추가 코드 - 간단한 케라스 모델을 또 하나 생성합니다.\n",
        "tf.keras.utils.set_random_seed(42)\n",
        "model = tf.keras.Sequential([\n",
        "    tf.keras.layers.Dense(30, activation=\"relu\", kernel_initializer=\"he_normal\",\n",
        "                          input_shape=input_shape),\n",
        "    tf.keras.layers.Dense(1),\n",
        "])"
      ]
    },
    {
      "cell_type": "code",
      "execution_count": 472,
      "metadata": {
        "id": "YU2e8QsUAxre"
      },
      "outputs": [],
      "source": [
        "model.compile(loss=HuberLoss(2.), optimizer=\"nadam\", metrics=[\"mae\"])"
      ]
    },
    {
      "cell_type": "code",
      "execution_count": 473,
      "metadata": {
        "colab": {
          "base_uri": "https://localhost:8080/"
        },
        "id": "1sav9-HsAxre",
        "outputId": "79952f43-e7d3-42df-a805-e792e649e341"
      },
      "outputs": [
        {
          "output_type": "stream",
          "name": "stdout",
          "text": [
            "Epoch 1/2\n",
            "\u001b[1m363/363\u001b[0m \u001b[32m━━━━━━━━━━━━━━━━━━━━\u001b[0m\u001b[37m\u001b[0m \u001b[1m3s\u001b[0m 4ms/step - loss: 1.0512 - mae: 1.1438 - val_loss: 0.5086 - val_mae: 0.6718\n",
            "Epoch 2/2\n",
            "\u001b[1m363/363\u001b[0m \u001b[32m━━━━━━━━━━━━━━━━━━━━\u001b[0m\u001b[37m\u001b[0m \u001b[1m2s\u001b[0m 3ms/step - loss: 0.3170 - mae: 0.5816 - val_loss: 0.3527 - val_mae: 0.5571\n"
          ]
        },
        {
          "output_type": "execute_result",
          "data": {
            "text/plain": [
              "<keras.src.callbacks.history.History at 0x7aad14ebb310>"
            ]
          },
          "metadata": {},
          "execution_count": 473
        }
      ],
      "source": [
        "model.fit(X_train_scaled, y_train, epochs=2,\n",
        "          validation_data=(X_valid_scaled, y_valid))"
      ]
    },
    {
      "cell_type": "code",
      "execution_count": 474,
      "metadata": {
        "id": "hWAYNxvXAxre"
      },
      "outputs": [],
      "source": [
        "model.save(\"my_model_with_a_custom_loss_class.keras\")  # 추가 코드 - 정상 저장"
      ]
    },
    {
      "cell_type": "code",
      "execution_count": 475,
      "metadata": {
        "id": "r7u-ejM6Axre"
      },
      "outputs": [],
      "source": [
        "model = tf.keras.models.load_model(\"my_model_with_a_custom_loss_class.keras\",\n",
        "                                   custom_objects={\"HuberLoss\": HuberLoss})"
      ]
    },
    {
      "cell_type": "code",
      "execution_count": 476,
      "metadata": {
        "colab": {
          "base_uri": "https://localhost:8080/"
        },
        "id": "Dj4Ng3SlAxre",
        "outputId": "ec1784c2-07c8-4457-b7fd-5677fb099f76"
      },
      "outputs": [
        {
          "output_type": "stream",
          "name": "stdout",
          "text": [
            "Epoch 1/2\n",
            "\u001b[1m363/363\u001b[0m \u001b[32m━━━━━━━━━━━━━━━━━━━━\u001b[0m\u001b[37m\u001b[0m \u001b[1m4s\u001b[0m 7ms/step - loss: 0.2612 - mae: 0.5244 - val_loss: 0.2689 - val_mae: 0.4982\n",
            "Epoch 2/2\n",
            "\u001b[1m363/363\u001b[0m \u001b[32m━━━━━━━━━━━━━━━━━━━━\u001b[0m\u001b[37m\u001b[0m \u001b[1m3s\u001b[0m 2ms/step - loss: 0.2328 - mae: 0.4929 - val_loss: 0.2207 - val_mae: 0.4657\n"
          ]
        },
        {
          "output_type": "execute_result",
          "data": {
            "text/plain": [
              "<keras.src.callbacks.history.History at 0x7aad14300940>"
            ]
          },
          "metadata": {},
          "execution_count": 476
        }
      ],
      "source": [
        "# 추가 코드 - 정상적으로 로드되고 모델을 정상적으로 사용할 수 있음을 보여줍니다.\n",
        "model.fit(X_train_scaled, y_train, epochs=2,\n",
        "          validation_data=(X_valid_scaled, y_valid))"
      ]
    },
    {
      "cell_type": "code",
      "execution_count": 477,
      "metadata": {
        "colab": {
          "base_uri": "https://localhost:8080/"
        },
        "id": "YSN4u6loAxre",
        "outputId": "8286cd3d-0b27-40d3-b44e-b8cb0c13bb0f"
      },
      "outputs": [
        {
          "output_type": "execute_result",
          "data": {
            "text/plain": [
              "2.0"
            ]
          },
          "metadata": {},
          "execution_count": 477
        }
      ],
      "source": [
        "model.loss.threshold  # 추가 코드 - threshold가 올바르게 로드되었습니다."
      ]
    },
    {
      "cell_type": "markdown",
      "metadata": {
        "id": "XJYIUz1bAxrf"
      },
      "source": [
        "## 기타 사용자 정의 기능"
      ]
    },
    {
      "cell_type": "code",
      "execution_count": 478,
      "metadata": {
        "id": "KgqccYnMAxrf"
      },
      "outputs": [],
      "source": [
        "def my_softplus(z):\n",
        "    return tf.math.log(1.0 + tf.exp(z))\n",
        "\n",
        "def my_glorot_initializer(shape, dtype=tf.float32):\n",
        "    stddev = tf.sqrt(2. / (shape[0] + shape[1]))\n",
        "    return tf.random.normal(shape, stddev=stddev, dtype=dtype)\n",
        "\n",
        "def my_l1_regularizer(weights):\n",
        "    return tf.reduce_sum(tf.abs(0.01 * weights))\n",
        "\n",
        "def my_positive_weights(weights):  # 반환 값은 tf.nn.relu(weights)입니다.\n",
        "    return tf.where(weights < 0., tf.zeros_like(weights), weights)"
      ]
    },
    {
      "cell_type": "code",
      "execution_count": 479,
      "metadata": {
        "id": "AA-eG-A6Axrf"
      },
      "outputs": [],
      "source": [
        "layer = tf.keras.layers.Dense(1, activation=my_softplus,\n",
        "                              kernel_initializer=my_glorot_initializer,\n",
        "                              kernel_regularizer=my_l1_regularizer,\n",
        "                              kernel_constraint=my_positive_weights)"
      ]
    },
    {
      "cell_type": "code",
      "execution_count": 484,
      "metadata": {
        "colab": {
          "base_uri": "https://localhost:8080/",
          "height": 406
        },
        "id": "4tcdzl_bAxrf",
        "outputId": "c5758b1a-57e7-4d31-b257-ebeecff6a6f0"
      },
      "outputs": [
        {
          "output_type": "error",
          "ename": "ValueError",
          "evalue": "Invalid value for attribute `regularizer`. Expected an instance of `keras.regularizers.Regularizer`, or `None`. Received: regularizer=<function my_l1_regularizer at 0x7aad15ba9480>",
          "traceback": [
            "\u001b[0;31m---------------------------------------------------------------------------\u001b[0m",
            "\u001b[0;31mValueError\u001b[0m                                Traceback (most recent call last)",
            "\u001b[0;32m<ipython-input-484-270b7563d8ce>\u001b[0m in \u001b[0;36m<cell line: 4>\u001b[0;34m()\u001b[0m\n\u001b[1;32m      2\u001b[0m \u001b[0;34m\u001b[0m\u001b[0m\n\u001b[1;32m      3\u001b[0m \u001b[0mtf\u001b[0m\u001b[0;34m.\u001b[0m\u001b[0mkeras\u001b[0m\u001b[0;34m.\u001b[0m\u001b[0mutils\u001b[0m\u001b[0;34m.\u001b[0m\u001b[0mset_random_seed\u001b[0m\u001b[0;34m(\u001b[0m\u001b[0;36m42\u001b[0m\u001b[0;34m)\u001b[0m\u001b[0;34m\u001b[0m\u001b[0;34m\u001b[0m\u001b[0m\n\u001b[0;32m----> 4\u001b[0;31m model = tf.keras.Sequential([\n\u001b[0m\u001b[1;32m      5\u001b[0m     tf.keras.layers.Dense(30, activation=\"relu\", kernel_initializer=\"he_normal\",\n\u001b[1;32m      6\u001b[0m                           input_shape=input_shape),\n",
            "\u001b[0;32m/usr/local/lib/python3.10/dist-packages/keras/src/models/sequential.py\u001b[0m in \u001b[0;36m__init__\u001b[0;34m(self, layers, trainable, name)\u001b[0m\n\u001b[1;32m     73\u001b[0m             \u001b[0;32mfor\u001b[0m \u001b[0mlayer\u001b[0m \u001b[0;32min\u001b[0m \u001b[0mlayers\u001b[0m\u001b[0;34m:\u001b[0m\u001b[0;34m\u001b[0m\u001b[0;34m\u001b[0m\u001b[0m\n\u001b[1;32m     74\u001b[0m                 \u001b[0mself\u001b[0m\u001b[0;34m.\u001b[0m\u001b[0madd\u001b[0m\u001b[0;34m(\u001b[0m\u001b[0mlayer\u001b[0m\u001b[0;34m,\u001b[0m \u001b[0mrebuild\u001b[0m\u001b[0;34m=\u001b[0m\u001b[0;32mFalse\u001b[0m\u001b[0;34m)\u001b[0m\u001b[0;34m\u001b[0m\u001b[0;34m\u001b[0m\u001b[0m\n\u001b[0;32m---> 75\u001b[0;31m             \u001b[0mself\u001b[0m\u001b[0;34m.\u001b[0m\u001b[0m_maybe_rebuild\u001b[0m\u001b[0;34m(\u001b[0m\u001b[0;34m)\u001b[0m\u001b[0;34m\u001b[0m\u001b[0;34m\u001b[0m\u001b[0m\n\u001b[0m\u001b[1;32m     76\u001b[0m \u001b[0;34m\u001b[0m\u001b[0m\n\u001b[1;32m     77\u001b[0m     \u001b[0;32mdef\u001b[0m \u001b[0madd\u001b[0m\u001b[0;34m(\u001b[0m\u001b[0mself\u001b[0m\u001b[0;34m,\u001b[0m \u001b[0mlayer\u001b[0m\u001b[0;34m,\u001b[0m \u001b[0mrebuild\u001b[0m\u001b[0;34m=\u001b[0m\u001b[0;32mTrue\u001b[0m\u001b[0;34m)\u001b[0m\u001b[0;34m:\u001b[0m\u001b[0;34m\u001b[0m\u001b[0;34m\u001b[0m\u001b[0m\n",
            "\u001b[0;32m/usr/local/lib/python3.10/dist-packages/keras/src/models/sequential.py\u001b[0m in \u001b[0;36m_maybe_rebuild\u001b[0;34m(self)\u001b[0m\n\u001b[1;32m    138\u001b[0m         \u001b[0;32mif\u001b[0m \u001b[0misinstance\u001b[0m\u001b[0;34m(\u001b[0m\u001b[0mself\u001b[0m\u001b[0;34m.\u001b[0m\u001b[0m_layers\u001b[0m\u001b[0;34m[\u001b[0m\u001b[0;36m0\u001b[0m\u001b[0;34m]\u001b[0m\u001b[0;34m,\u001b[0m \u001b[0mInputLayer\u001b[0m\u001b[0;34m)\u001b[0m \u001b[0;32mand\u001b[0m \u001b[0mlen\u001b[0m\u001b[0;34m(\u001b[0m\u001b[0mself\u001b[0m\u001b[0;34m.\u001b[0m\u001b[0m_layers\u001b[0m\u001b[0;34m)\u001b[0m \u001b[0;34m>\u001b[0m \u001b[0;36m1\u001b[0m\u001b[0;34m:\u001b[0m\u001b[0;34m\u001b[0m\u001b[0;34m\u001b[0m\u001b[0m\n\u001b[1;32m    139\u001b[0m             \u001b[0minput_shape\u001b[0m \u001b[0;34m=\u001b[0m \u001b[0mself\u001b[0m\u001b[0;34m.\u001b[0m\u001b[0m_layers\u001b[0m\u001b[0;34m[\u001b[0m\u001b[0;36m0\u001b[0m\u001b[0;34m]\u001b[0m\u001b[0;34m.\u001b[0m\u001b[0mbatch_shape\u001b[0m\u001b[0;34m\u001b[0m\u001b[0;34m\u001b[0m\u001b[0m\n\u001b[0;32m--> 140\u001b[0;31m             \u001b[0mself\u001b[0m\u001b[0;34m.\u001b[0m\u001b[0mbuild\u001b[0m\u001b[0;34m(\u001b[0m\u001b[0minput_shape\u001b[0m\u001b[0;34m)\u001b[0m\u001b[0;34m\u001b[0m\u001b[0;34m\u001b[0m\u001b[0m\n\u001b[0m\u001b[1;32m    141\u001b[0m         \u001b[0;32melif\u001b[0m \u001b[0mhasattr\u001b[0m\u001b[0;34m(\u001b[0m\u001b[0mself\u001b[0m\u001b[0;34m.\u001b[0m\u001b[0m_layers\u001b[0m\u001b[0;34m[\u001b[0m\u001b[0;36m0\u001b[0m\u001b[0;34m]\u001b[0m\u001b[0;34m,\u001b[0m \u001b[0;34m\"input_shape\"\u001b[0m\u001b[0;34m)\u001b[0m \u001b[0;32mand\u001b[0m \u001b[0mlen\u001b[0m\u001b[0;34m(\u001b[0m\u001b[0mself\u001b[0m\u001b[0;34m.\u001b[0m\u001b[0m_layers\u001b[0m\u001b[0;34m)\u001b[0m \u001b[0;34m>\u001b[0m \u001b[0;36m1\u001b[0m\u001b[0;34m:\u001b[0m\u001b[0;34m\u001b[0m\u001b[0;34m\u001b[0m\u001b[0m\n\u001b[1;32m    142\u001b[0m             \u001b[0;31m# We can build the Sequential model if the first layer has the\u001b[0m\u001b[0;34m\u001b[0m\u001b[0;34m\u001b[0m\u001b[0m\n",
            "\u001b[0;32m/usr/local/lib/python3.10/dist-packages/keras/src/layers/layer.py\u001b[0m in \u001b[0;36mbuild_wrapper\u001b[0;34m(*args, **kwargs)\u001b[0m\n\u001b[1;32m    224\u001b[0m             \u001b[0;32mwith\u001b[0m \u001b[0mobj\u001b[0m\u001b[0;34m.\u001b[0m\u001b[0m_open_name_scope\u001b[0m\u001b[0;34m(\u001b[0m\u001b[0;34m)\u001b[0m\u001b[0;34m:\u001b[0m\u001b[0;34m\u001b[0m\u001b[0;34m\u001b[0m\u001b[0m\n\u001b[1;32m    225\u001b[0m                 \u001b[0mobj\u001b[0m\u001b[0;34m.\u001b[0m\u001b[0m_path\u001b[0m \u001b[0;34m=\u001b[0m \u001b[0mcurrent_path\u001b[0m\u001b[0;34m(\u001b[0m\u001b[0;34m)\u001b[0m\u001b[0;34m\u001b[0m\u001b[0;34m\u001b[0m\u001b[0m\n\u001b[0;32m--> 226\u001b[0;31m                 \u001b[0moriginal_build_method\u001b[0m\u001b[0;34m(\u001b[0m\u001b[0;34m*\u001b[0m\u001b[0margs\u001b[0m\u001b[0;34m,\u001b[0m \u001b[0;34m**\u001b[0m\u001b[0mkwargs\u001b[0m\u001b[0;34m)\u001b[0m\u001b[0;34m\u001b[0m\u001b[0;34m\u001b[0m\u001b[0m\n\u001b[0m\u001b[1;32m    227\u001b[0m             \u001b[0;31m# Record build config.\u001b[0m\u001b[0;34m\u001b[0m\u001b[0;34m\u001b[0m\u001b[0m\n\u001b[1;32m    228\u001b[0m             \u001b[0msignature\u001b[0m \u001b[0;34m=\u001b[0m \u001b[0minspect\u001b[0m\u001b[0;34m.\u001b[0m\u001b[0msignature\u001b[0m\u001b[0;34m(\u001b[0m\u001b[0moriginal_build_method\u001b[0m\u001b[0;34m)\u001b[0m\u001b[0;34m\u001b[0m\u001b[0;34m\u001b[0m\u001b[0m\n",
            "\u001b[0;32m/usr/local/lib/python3.10/dist-packages/keras/src/models/sequential.py\u001b[0m in \u001b[0;36mbuild\u001b[0;34m(self, input_shape)\u001b[0m\n\u001b[1;32m    184\u001b[0m         \u001b[0;32mfor\u001b[0m \u001b[0mlayer\u001b[0m \u001b[0;32min\u001b[0m \u001b[0mself\u001b[0m\u001b[0;34m.\u001b[0m\u001b[0m_layers\u001b[0m\u001b[0;34m[\u001b[0m\u001b[0;36m1\u001b[0m\u001b[0;34m:\u001b[0m\u001b[0;34m]\u001b[0m\u001b[0;34m:\u001b[0m\u001b[0;34m\u001b[0m\u001b[0;34m\u001b[0m\u001b[0m\n\u001b[1;32m    185\u001b[0m             \u001b[0;32mtry\u001b[0m\u001b[0;34m:\u001b[0m\u001b[0;34m\u001b[0m\u001b[0;34m\u001b[0m\u001b[0m\n\u001b[0;32m--> 186\u001b[0;31m                 \u001b[0mx\u001b[0m \u001b[0;34m=\u001b[0m \u001b[0mlayer\u001b[0m\u001b[0;34m(\u001b[0m\u001b[0mx\u001b[0m\u001b[0;34m)\u001b[0m\u001b[0;34m\u001b[0m\u001b[0;34m\u001b[0m\u001b[0m\n\u001b[0m\u001b[1;32m    187\u001b[0m             \u001b[0;32mexcept\u001b[0m \u001b[0mNotImplementedError\u001b[0m\u001b[0;34m:\u001b[0m\u001b[0;34m\u001b[0m\u001b[0;34m\u001b[0m\u001b[0m\n\u001b[1;32m    188\u001b[0m                 \u001b[0;31m# Can happen if shape inference is not implemented.\u001b[0m\u001b[0;34m\u001b[0m\u001b[0;34m\u001b[0m\u001b[0m\n",
            "\u001b[0;32m/usr/local/lib/python3.10/dist-packages/keras/src/utils/traceback_utils.py\u001b[0m in \u001b[0;36merror_handler\u001b[0;34m(*args, **kwargs)\u001b[0m\n\u001b[1;32m    120\u001b[0m             \u001b[0;31m# To get the full stack trace, call:\u001b[0m\u001b[0;34m\u001b[0m\u001b[0;34m\u001b[0m\u001b[0m\n\u001b[1;32m    121\u001b[0m             \u001b[0;31m# `keras.config.disable_traceback_filtering()`\u001b[0m\u001b[0;34m\u001b[0m\u001b[0;34m\u001b[0m\u001b[0m\n\u001b[0;32m--> 122\u001b[0;31m             \u001b[0;32mraise\u001b[0m \u001b[0me\u001b[0m\u001b[0;34m.\u001b[0m\u001b[0mwith_traceback\u001b[0m\u001b[0;34m(\u001b[0m\u001b[0mfiltered_tb\u001b[0m\u001b[0;34m)\u001b[0m \u001b[0;32mfrom\u001b[0m \u001b[0;32mNone\u001b[0m\u001b[0;34m\u001b[0m\u001b[0;34m\u001b[0m\u001b[0m\n\u001b[0m\u001b[1;32m    123\u001b[0m         \u001b[0;32mfinally\u001b[0m\u001b[0;34m:\u001b[0m\u001b[0;34m\u001b[0m\u001b[0;34m\u001b[0m\u001b[0m\n\u001b[1;32m    124\u001b[0m             \u001b[0;32mdel\u001b[0m \u001b[0mfiltered_tb\u001b[0m\u001b[0;34m\u001b[0m\u001b[0;34m\u001b[0m\u001b[0m\n",
            "\u001b[0;32m/usr/local/lib/python3.10/dist-packages/keras/src/backend/common/variables.py\u001b[0m in \u001b[0;36mregularizer\u001b[0;34m(self, value)\u001b[0m\n\u001b[1;32m    303\u001b[0m \u001b[0;34m\u001b[0m\u001b[0m\n\u001b[1;32m    304\u001b[0m         \u001b[0;32mif\u001b[0m \u001b[0mvalue\u001b[0m \u001b[0;32mis\u001b[0m \u001b[0;32mnot\u001b[0m \u001b[0;32mNone\u001b[0m \u001b[0;32mand\u001b[0m \u001b[0;32mnot\u001b[0m \u001b[0misinstance\u001b[0m\u001b[0;34m(\u001b[0m\u001b[0mvalue\u001b[0m\u001b[0;34m,\u001b[0m \u001b[0mRegularizer\u001b[0m\u001b[0;34m)\u001b[0m\u001b[0;34m:\u001b[0m\u001b[0;34m\u001b[0m\u001b[0;34m\u001b[0m\u001b[0m\n\u001b[0;32m--> 305\u001b[0;31m             raise ValueError(\n\u001b[0m\u001b[1;32m    306\u001b[0m                 \u001b[0;34m\"Invalid value for attribute `regularizer`. Expected an \"\u001b[0m\u001b[0;34m\u001b[0m\u001b[0;34m\u001b[0m\u001b[0m\n\u001b[1;32m    307\u001b[0m                 \u001b[0;34m\"instance of `keras.regularizers.Regularizer`, or `None`. \"\u001b[0m\u001b[0;34m\u001b[0m\u001b[0;34m\u001b[0m\u001b[0m\n",
            "\u001b[0;31mValueError\u001b[0m: Invalid value for attribute `regularizer`. Expected an instance of `keras.regularizers.Regularizer`, or `None`. Received: regularizer=<function my_l1_regularizer at 0x7aad15ba9480>"
          ]
        }
      ],
      "source": [
        "# 추가 코드 - 사용자 정의 요소가 많이 포함된 모델을 빌드, 훈련, 저장, 로드, 훈련할 수 있습니다.\n",
        "\n",
        "tf.keras.utils.set_random_seed(42)\n",
        "model = tf.keras.Sequential([\n",
        "    tf.keras.layers.Dense(30, activation=\"relu\", kernel_initializer=\"he_normal\",\n",
        "                          input_shape=input_shape),\n",
        "    tf.keras.layers.Dense(1, activation=my_softplus,\n",
        "                          kernel_initializer=my_glorot_initializer,\n",
        "                          kernel_regularizer=my_l1_regularizer,\n",
        "                          kernel_constraint=my_positive_weights)\n",
        "])\n",
        "model.compile(loss=\"mse\", optimizer=\"nadam\", metrics=[\"mae\"])\n",
        "model.fit(X_train_scaled, y_train, epochs=2,\n",
        "          validation_data=(X_valid_scaled, y_valid))\n",
        "model.save(\"my_model_with_many_custom_parts\")\n",
        "model = tf.keras.models.load_model(\n",
        "    \"my_model_with_many_custom_parts\",\n",
        "    custom_objects={\n",
        "       \"my_l1_regularizer\": my_l1_regularizer,\n",
        "       \"my_positive_weights\": my_positive_weights,\n",
        "       \"my_glorot_initializer\": my_glorot_initializer,\n",
        "       \"my_softplus\": my_softplus,\n",
        "    }\n",
        ")\n",
        "model.fit(X_train_scaled, y_train, epochs=2,\n",
        "          validation_data=(X_valid_scaled, y_valid))"
      ]
    },
    {
      "cell_type": "code",
      "execution_count": 485,
      "metadata": {
        "id": "Tm1vXkgqAxrf"
      },
      "outputs": [],
      "source": [
        "class MyL1Regularizer(tf.keras.regularizers.Regularizer):\n",
        "    def __init__(self, factor):\n",
        "        self.factor = factor\n",
        "\n",
        "    def __call__(self, weights):\n",
        "        return tf.reduce_sum(tf.abs(self.factor * weights))\n",
        "\n",
        "    def get_config(self):\n",
        "        return {\"factor\": self.factor}"
      ]
    },
    {
      "cell_type": "code",
      "execution_count": 486,
      "metadata": {
        "colab": {
          "base_uri": "https://localhost:8080/",
          "height": 388
        },
        "id": "ou_qdhJKAxrf",
        "outputId": "108d1a8e-70d3-458b-e207-e4d13b470f37"
      },
      "outputs": [
        {
          "output_type": "error",
          "ename": "ValueError",
          "evalue": "Invalid value for attribute `constraint`. Expected an instance of `keras.constraints.Constraint`, or `None`. Received: constraint=<function my_positive_weights at 0x7aad15ba9120>",
          "traceback": [
            "\u001b[0;31m---------------------------------------------------------------------------\u001b[0m",
            "\u001b[0;31mValueError\u001b[0m                                Traceback (most recent call last)",
            "\u001b[0;32m<ipython-input-486-a794001e7a47>\u001b[0m in \u001b[0;36m<cell line: 4>\u001b[0;34m()\u001b[0m\n\u001b[1;32m      2\u001b[0m \u001b[0;34m\u001b[0m\u001b[0m\n\u001b[1;32m      3\u001b[0m \u001b[0mtf\u001b[0m\u001b[0;34m.\u001b[0m\u001b[0mkeras\u001b[0m\u001b[0;34m.\u001b[0m\u001b[0mutils\u001b[0m\u001b[0;34m.\u001b[0m\u001b[0mset_random_seed\u001b[0m\u001b[0;34m(\u001b[0m\u001b[0;36m42\u001b[0m\u001b[0;34m)\u001b[0m\u001b[0;34m\u001b[0m\u001b[0;34m\u001b[0m\u001b[0m\n\u001b[0;32m----> 4\u001b[0;31m model = tf.keras.Sequential([\n\u001b[0m\u001b[1;32m      5\u001b[0m     tf.keras.layers.Dense(30, activation=\"relu\", kernel_initializer=\"he_normal\",\n\u001b[1;32m      6\u001b[0m                           input_shape=input_shape),\n",
            "\u001b[0;32m/usr/local/lib/python3.10/dist-packages/keras/src/models/sequential.py\u001b[0m in \u001b[0;36m__init__\u001b[0;34m(self, layers, trainable, name)\u001b[0m\n\u001b[1;32m     73\u001b[0m             \u001b[0;32mfor\u001b[0m \u001b[0mlayer\u001b[0m \u001b[0;32min\u001b[0m \u001b[0mlayers\u001b[0m\u001b[0;34m:\u001b[0m\u001b[0;34m\u001b[0m\u001b[0;34m\u001b[0m\u001b[0m\n\u001b[1;32m     74\u001b[0m                 \u001b[0mself\u001b[0m\u001b[0;34m.\u001b[0m\u001b[0madd\u001b[0m\u001b[0;34m(\u001b[0m\u001b[0mlayer\u001b[0m\u001b[0;34m,\u001b[0m \u001b[0mrebuild\u001b[0m\u001b[0;34m=\u001b[0m\u001b[0;32mFalse\u001b[0m\u001b[0;34m)\u001b[0m\u001b[0;34m\u001b[0m\u001b[0;34m\u001b[0m\u001b[0m\n\u001b[0;32m---> 75\u001b[0;31m             \u001b[0mself\u001b[0m\u001b[0;34m.\u001b[0m\u001b[0m_maybe_rebuild\u001b[0m\u001b[0;34m(\u001b[0m\u001b[0;34m)\u001b[0m\u001b[0;34m\u001b[0m\u001b[0;34m\u001b[0m\u001b[0m\n\u001b[0m\u001b[1;32m     76\u001b[0m \u001b[0;34m\u001b[0m\u001b[0m\n\u001b[1;32m     77\u001b[0m     \u001b[0;32mdef\u001b[0m \u001b[0madd\u001b[0m\u001b[0;34m(\u001b[0m\u001b[0mself\u001b[0m\u001b[0;34m,\u001b[0m \u001b[0mlayer\u001b[0m\u001b[0;34m,\u001b[0m \u001b[0mrebuild\u001b[0m\u001b[0;34m=\u001b[0m\u001b[0;32mTrue\u001b[0m\u001b[0;34m)\u001b[0m\u001b[0;34m:\u001b[0m\u001b[0;34m\u001b[0m\u001b[0;34m\u001b[0m\u001b[0m\n",
            "\u001b[0;32m/usr/local/lib/python3.10/dist-packages/keras/src/models/sequential.py\u001b[0m in \u001b[0;36m_maybe_rebuild\u001b[0;34m(self)\u001b[0m\n\u001b[1;32m    138\u001b[0m         \u001b[0;32mif\u001b[0m \u001b[0misinstance\u001b[0m\u001b[0;34m(\u001b[0m\u001b[0mself\u001b[0m\u001b[0;34m.\u001b[0m\u001b[0m_layers\u001b[0m\u001b[0;34m[\u001b[0m\u001b[0;36m0\u001b[0m\u001b[0;34m]\u001b[0m\u001b[0;34m,\u001b[0m \u001b[0mInputLayer\u001b[0m\u001b[0;34m)\u001b[0m \u001b[0;32mand\u001b[0m \u001b[0mlen\u001b[0m\u001b[0;34m(\u001b[0m\u001b[0mself\u001b[0m\u001b[0;34m.\u001b[0m\u001b[0m_layers\u001b[0m\u001b[0;34m)\u001b[0m \u001b[0;34m>\u001b[0m \u001b[0;36m1\u001b[0m\u001b[0;34m:\u001b[0m\u001b[0;34m\u001b[0m\u001b[0;34m\u001b[0m\u001b[0m\n\u001b[1;32m    139\u001b[0m             \u001b[0minput_shape\u001b[0m \u001b[0;34m=\u001b[0m \u001b[0mself\u001b[0m\u001b[0;34m.\u001b[0m\u001b[0m_layers\u001b[0m\u001b[0;34m[\u001b[0m\u001b[0;36m0\u001b[0m\u001b[0;34m]\u001b[0m\u001b[0;34m.\u001b[0m\u001b[0mbatch_shape\u001b[0m\u001b[0;34m\u001b[0m\u001b[0;34m\u001b[0m\u001b[0m\n\u001b[0;32m--> 140\u001b[0;31m             \u001b[0mself\u001b[0m\u001b[0;34m.\u001b[0m\u001b[0mbuild\u001b[0m\u001b[0;34m(\u001b[0m\u001b[0minput_shape\u001b[0m\u001b[0;34m)\u001b[0m\u001b[0;34m\u001b[0m\u001b[0;34m\u001b[0m\u001b[0m\n\u001b[0m\u001b[1;32m    141\u001b[0m         \u001b[0;32melif\u001b[0m \u001b[0mhasattr\u001b[0m\u001b[0;34m(\u001b[0m\u001b[0mself\u001b[0m\u001b[0;34m.\u001b[0m\u001b[0m_layers\u001b[0m\u001b[0;34m[\u001b[0m\u001b[0;36m0\u001b[0m\u001b[0;34m]\u001b[0m\u001b[0;34m,\u001b[0m \u001b[0;34m\"input_shape\"\u001b[0m\u001b[0;34m)\u001b[0m \u001b[0;32mand\u001b[0m \u001b[0mlen\u001b[0m\u001b[0;34m(\u001b[0m\u001b[0mself\u001b[0m\u001b[0;34m.\u001b[0m\u001b[0m_layers\u001b[0m\u001b[0;34m)\u001b[0m \u001b[0;34m>\u001b[0m \u001b[0;36m1\u001b[0m\u001b[0;34m:\u001b[0m\u001b[0;34m\u001b[0m\u001b[0;34m\u001b[0m\u001b[0m\n\u001b[1;32m    142\u001b[0m             \u001b[0;31m# We can build the Sequential model if the first layer has the\u001b[0m\u001b[0;34m\u001b[0m\u001b[0;34m\u001b[0m\u001b[0m\n",
            "\u001b[0;32m/usr/local/lib/python3.10/dist-packages/keras/src/layers/layer.py\u001b[0m in \u001b[0;36mbuild_wrapper\u001b[0;34m(*args, **kwargs)\u001b[0m\n\u001b[1;32m    224\u001b[0m             \u001b[0;32mwith\u001b[0m \u001b[0mobj\u001b[0m\u001b[0;34m.\u001b[0m\u001b[0m_open_name_scope\u001b[0m\u001b[0;34m(\u001b[0m\u001b[0;34m)\u001b[0m\u001b[0;34m:\u001b[0m\u001b[0;34m\u001b[0m\u001b[0;34m\u001b[0m\u001b[0m\n\u001b[1;32m    225\u001b[0m                 \u001b[0mobj\u001b[0m\u001b[0;34m.\u001b[0m\u001b[0m_path\u001b[0m \u001b[0;34m=\u001b[0m \u001b[0mcurrent_path\u001b[0m\u001b[0;34m(\u001b[0m\u001b[0;34m)\u001b[0m\u001b[0;34m\u001b[0m\u001b[0;34m\u001b[0m\u001b[0m\n\u001b[0;32m--> 226\u001b[0;31m                 \u001b[0moriginal_build_method\u001b[0m\u001b[0;34m(\u001b[0m\u001b[0;34m*\u001b[0m\u001b[0margs\u001b[0m\u001b[0;34m,\u001b[0m \u001b[0;34m**\u001b[0m\u001b[0mkwargs\u001b[0m\u001b[0;34m)\u001b[0m\u001b[0;34m\u001b[0m\u001b[0;34m\u001b[0m\u001b[0m\n\u001b[0m\u001b[1;32m    227\u001b[0m             \u001b[0;31m# Record build config.\u001b[0m\u001b[0;34m\u001b[0m\u001b[0;34m\u001b[0m\u001b[0m\n\u001b[1;32m    228\u001b[0m             \u001b[0msignature\u001b[0m \u001b[0;34m=\u001b[0m \u001b[0minspect\u001b[0m\u001b[0;34m.\u001b[0m\u001b[0msignature\u001b[0m\u001b[0;34m(\u001b[0m\u001b[0moriginal_build_method\u001b[0m\u001b[0;34m)\u001b[0m\u001b[0;34m\u001b[0m\u001b[0;34m\u001b[0m\u001b[0m\n",
            "\u001b[0;32m/usr/local/lib/python3.10/dist-packages/keras/src/models/sequential.py\u001b[0m in \u001b[0;36mbuild\u001b[0;34m(self, input_shape)\u001b[0m\n\u001b[1;32m    184\u001b[0m         \u001b[0;32mfor\u001b[0m \u001b[0mlayer\u001b[0m \u001b[0;32min\u001b[0m \u001b[0mself\u001b[0m\u001b[0;34m.\u001b[0m\u001b[0m_layers\u001b[0m\u001b[0;34m[\u001b[0m\u001b[0;36m1\u001b[0m\u001b[0;34m:\u001b[0m\u001b[0;34m]\u001b[0m\u001b[0;34m:\u001b[0m\u001b[0;34m\u001b[0m\u001b[0;34m\u001b[0m\u001b[0m\n\u001b[1;32m    185\u001b[0m             \u001b[0;32mtry\u001b[0m\u001b[0;34m:\u001b[0m\u001b[0;34m\u001b[0m\u001b[0;34m\u001b[0m\u001b[0m\n\u001b[0;32m--> 186\u001b[0;31m                 \u001b[0mx\u001b[0m \u001b[0;34m=\u001b[0m \u001b[0mlayer\u001b[0m\u001b[0;34m(\u001b[0m\u001b[0mx\u001b[0m\u001b[0;34m)\u001b[0m\u001b[0;34m\u001b[0m\u001b[0;34m\u001b[0m\u001b[0m\n\u001b[0m\u001b[1;32m    187\u001b[0m             \u001b[0;32mexcept\u001b[0m \u001b[0mNotImplementedError\u001b[0m\u001b[0;34m:\u001b[0m\u001b[0;34m\u001b[0m\u001b[0;34m\u001b[0m\u001b[0m\n\u001b[1;32m    188\u001b[0m                 \u001b[0;31m# Can happen if shape inference is not implemented.\u001b[0m\u001b[0;34m\u001b[0m\u001b[0;34m\u001b[0m\u001b[0m\n",
            "\u001b[0;32m/usr/local/lib/python3.10/dist-packages/keras/src/utils/traceback_utils.py\u001b[0m in \u001b[0;36merror_handler\u001b[0;34m(*args, **kwargs)\u001b[0m\n\u001b[1;32m    120\u001b[0m             \u001b[0;31m# To get the full stack trace, call:\u001b[0m\u001b[0;34m\u001b[0m\u001b[0;34m\u001b[0m\u001b[0m\n\u001b[1;32m    121\u001b[0m             \u001b[0;31m# `keras.config.disable_traceback_filtering()`\u001b[0m\u001b[0;34m\u001b[0m\u001b[0;34m\u001b[0m\u001b[0m\n\u001b[0;32m--> 122\u001b[0;31m             \u001b[0;32mraise\u001b[0m \u001b[0me\u001b[0m\u001b[0;34m.\u001b[0m\u001b[0mwith_traceback\u001b[0m\u001b[0;34m(\u001b[0m\u001b[0mfiltered_tb\u001b[0m\u001b[0;34m)\u001b[0m \u001b[0;32mfrom\u001b[0m \u001b[0;32mNone\u001b[0m\u001b[0;34m\u001b[0m\u001b[0;34m\u001b[0m\u001b[0m\n\u001b[0m\u001b[1;32m    123\u001b[0m         \u001b[0;32mfinally\u001b[0m\u001b[0;34m:\u001b[0m\u001b[0;34m\u001b[0m\u001b[0;34m\u001b[0m\u001b[0m\n\u001b[1;32m    124\u001b[0m             \u001b[0;32mdel\u001b[0m \u001b[0mfiltered_tb\u001b[0m\u001b[0;34m\u001b[0m\u001b[0;34m\u001b[0m\u001b[0m\n",
            "\u001b[0;32m/usr/local/lib/python3.10/dist-packages/keras/src/backend/common/variables.py\u001b[0m in \u001b[0;36mconstraint\u001b[0;34m(self, value)\u001b[0m\n\u001b[1;32m    319\u001b[0m \u001b[0;34m\u001b[0m\u001b[0m\n\u001b[1;32m    320\u001b[0m         \u001b[0;32mif\u001b[0m \u001b[0mvalue\u001b[0m \u001b[0;32mis\u001b[0m \u001b[0;32mnot\u001b[0m \u001b[0;32mNone\u001b[0m \u001b[0;32mand\u001b[0m \u001b[0;32mnot\u001b[0m \u001b[0misinstance\u001b[0m\u001b[0;34m(\u001b[0m\u001b[0mvalue\u001b[0m\u001b[0;34m,\u001b[0m \u001b[0mConstraint\u001b[0m\u001b[0;34m)\u001b[0m\u001b[0;34m:\u001b[0m\u001b[0;34m\u001b[0m\u001b[0;34m\u001b[0m\u001b[0m\n\u001b[0;32m--> 321\u001b[0;31m             raise ValueError(\n\u001b[0m\u001b[1;32m    322\u001b[0m                 \u001b[0;34m\"Invalid value for attribute `constraint`. Expected an \"\u001b[0m\u001b[0;34m\u001b[0m\u001b[0;34m\u001b[0m\u001b[0m\n\u001b[1;32m    323\u001b[0m                 \u001b[0;34m\"instance of `keras.constraints.Constraint`, or `None`. \"\u001b[0m\u001b[0;34m\u001b[0m\u001b[0;34m\u001b[0m\u001b[0m\n",
            "\u001b[0;31mValueError\u001b[0m: Invalid value for attribute `constraint`. Expected an instance of `keras.constraints.Constraint`, or `None`. Received: constraint=<function my_positive_weights at 0x7aad15ba9120>"
          ]
        }
      ],
      "source": [
        "# 추가 코드 - 이번에는 사용자 정의 규제 클래스를 사용하는 경우 정상적으로 작동하는지 보여줍니다.\n",
        "\n",
        "tf.keras.utils.set_random_seed(42)\n",
        "model = tf.keras.Sequential([\n",
        "    tf.keras.layers.Dense(30, activation=\"relu\", kernel_initializer=\"he_normal\",\n",
        "                          input_shape=input_shape),\n",
        "    tf.keras.layers.Dense(1, activation=my_softplus,\n",
        "                          kernel_regularizer=MyL1Regularizer(0.01),\n",
        "                          kernel_constraint=my_positive_weights,\n",
        "                          kernel_initializer=my_glorot_initializer),\n",
        "])\n",
        "model.compile(loss=\"mse\", optimizer=\"nadam\", metrics=[\"mae\"])\n",
        "model.fit(X_train_scaled, y_train, epochs=2,\n",
        "          validation_data=(X_valid_scaled, y_valid))\n",
        "model.save(\"my_model_with_many_custom_parts\")\n",
        "model = tf.keras.models.load_model(\n",
        "    \"my_model_with_many_custom_parts\",\n",
        "    custom_objects={\n",
        "       \"MyL1Regularizer\": MyL1Regularizer,\n",
        "       \"my_positive_weights\": my_positive_weights,\n",
        "       \"my_glorot_initializer\": my_glorot_initializer,\n",
        "       \"my_softplus\": my_softplus,\n",
        "    }\n",
        ")\n",
        "model.fit(X_train_scaled, y_train, epochs=2,\n",
        "          validation_data=(X_valid_scaled, y_valid))"
      ]
    },
    {
      "cell_type": "markdown",
      "metadata": {
        "id": "RXmm0A9rAxrf"
      },
      "source": [
        "## 사용자 정의 지표"
      ]
    },
    {
      "cell_type": "code",
      "execution_count": 487,
      "metadata": {
        "id": "xnKzilGhAxrf"
      },
      "outputs": [],
      "source": [
        "# 추가 코드 - 다시 한 번 기본 케라스 모델을 만들어 보겠습니다.\n",
        "tf.keras.utils.set_random_seed(42)\n",
        "model = tf.keras.Sequential([\n",
        "    tf.keras.layers.Dense(30, activation=\"relu\", kernel_initializer=\"he_normal\",\n",
        "                          input_shape=input_shape),\n",
        "    tf.keras.layers.Dense(1),\n",
        "])"
      ]
    },
    {
      "cell_type": "code",
      "execution_count": 488,
      "metadata": {
        "id": "DJPKkv0FAxrg"
      },
      "outputs": [],
      "source": [
        "model.compile(loss=\"mse\", optimizer=\"nadam\", metrics=[create_huber(2.0)])"
      ]
    },
    {
      "cell_type": "code",
      "execution_count": 489,
      "metadata": {
        "colab": {
          "base_uri": "https://localhost:8080/"
        },
        "id": "s5sLLfxVAxrg",
        "outputId": "468c4393-614e-4f29-c209-351135821119"
      },
      "outputs": [
        {
          "output_type": "stream",
          "name": "stdout",
          "text": [
            "Epoch 1/2\n",
            "\u001b[1m363/363\u001b[0m \u001b[32m━━━━━━━━━━━━━━━━━━━━\u001b[0m\u001b[37m\u001b[0m \u001b[1m2s\u001b[0m 3ms/step - huber_fn: 1.0788 - loss: 2.5942\n",
            "Epoch 2/2\n",
            "\u001b[1m363/363\u001b[0m \u001b[32m━━━━━━━━━━━━━━━━━━━━\u001b[0m\u001b[37m\u001b[0m \u001b[1m2s\u001b[0m 2ms/step - huber_fn: 0.3403 - loss: 0.7644\n"
          ]
        },
        {
          "output_type": "execute_result",
          "data": {
            "text/plain": [
              "<keras.src.callbacks.history.History at 0x7aad140c5b10>"
            ]
          },
          "metadata": {},
          "execution_count": 489
        }
      ],
      "source": [
        "# 추가 코드 - 사용자 정의 지표로 모델 훈련하기\n",
        "model.fit(X_train_scaled, y_train, epochs=2)"
      ]
    },
    {
      "cell_type": "markdown",
      "metadata": {
        "id": "7Vh4j8hFAxrg"
      },
      "source": [
        "**노트**: 동일한 함수를 손실과 지표로 사용하면 약간 다른 결과에 놀랄 수 있습니다. 이는 부분적으로 연산이 정확히 같은 순서로 계산되지 않아 미세한 부동 소수점 오류가 발생할 수 있기 때문입니다. 더 중요한 것은 샘플 가중치 또는 클래스 가중치를 사용하는 경우 방정식이 약간 달라진다는 것입니다:\n",
        "* `fit()` 메서드는 에포크 시작 이후 지금까지 본 모든 배치 손실의 평균을 추적합니다. 각 배치 손실은 가중치가 적용된 샘플 손실의 합을 _배치 크기_로 나눈 값입니다. (가중치의 합으로 나눈 것이 아니므로 배치 손실은 손실의 가중 평균이 _아니다_.).\n",
        "* 에포크 시작 이후의 지표는 가중치가 적용된 샘플 손실의 합을 지금까지 본 모든 가중치의 합으로 나눈 값과 같습니다. 즉, 모든 샘플 손실의 가중 평균입니다. 위와 같지 않습니다."
      ]
    },
    {
      "cell_type": "markdown",
      "metadata": {
        "id": "z8_GhFUHAxrg"
      },
      "source": [
        "### 스트리밍 지표"
      ]
    },
    {
      "cell_type": "code",
      "execution_count": 490,
      "metadata": {
        "colab": {
          "base_uri": "https://localhost:8080/"
        },
        "id": "fzk8uz9qAxrg",
        "outputId": "65057361-91a1-429b-a069-7ec0a6a5b741"
      },
      "outputs": [
        {
          "output_type": "execute_result",
          "data": {
            "text/plain": [
              "<tf.Tensor: shape=(), dtype=float32, numpy=0.800000011920929>"
            ]
          },
          "metadata": {},
          "execution_count": 490
        }
      ],
      "source": [
        "precision = tf.keras.metrics.Precision()\n",
        "precision([0, 1, 1, 1, 0, 1, 0, 1], [1, 1, 0, 1, 0, 1, 0, 1])"
      ]
    },
    {
      "cell_type": "code",
      "execution_count": 491,
      "metadata": {
        "colab": {
          "base_uri": "https://localhost:8080/"
        },
        "id": "uyltKAhEAxrg",
        "outputId": "e6576a8c-3c58-41ce-880f-327616ae0194"
      },
      "outputs": [
        {
          "output_type": "execute_result",
          "data": {
            "text/plain": [
              "<tf.Tensor: shape=(), dtype=float32, numpy=0.5>"
            ]
          },
          "metadata": {},
          "execution_count": 491
        }
      ],
      "source": [
        "precision([0, 1, 0, 0, 1, 0, 1, 1], [1, 0, 1, 1, 0, 0, 0, 0])"
      ]
    },
    {
      "cell_type": "code",
      "execution_count": 492,
      "metadata": {
        "colab": {
          "base_uri": "https://localhost:8080/"
        },
        "id": "EzyuXv7wAxrg",
        "outputId": "2bed2021-12bd-4e12-fffa-b316d5ff3ed8"
      },
      "outputs": [
        {
          "output_type": "execute_result",
          "data": {
            "text/plain": [
              "<tf.Tensor: shape=(), dtype=float32, numpy=0.5>"
            ]
          },
          "metadata": {},
          "execution_count": 492
        }
      ],
      "source": [
        "precision.result()"
      ]
    },
    {
      "cell_type": "code",
      "execution_count": 493,
      "metadata": {
        "colab": {
          "base_uri": "https://localhost:8080/"
        },
        "id": "9CzGj48DAxrg",
        "outputId": "05fe27db-85e3-451b-c5e0-bf979b8c8b60"
      },
      "outputs": [
        {
          "output_type": "execute_result",
          "data": {
            "text/plain": [
              "[<KerasVariable shape=(1,), dtype=float32, path=precision_1/true_positives>,\n",
              " <KerasVariable shape=(1,), dtype=float32, path=precision_1/false_positives>]"
            ]
          },
          "metadata": {},
          "execution_count": 493
        }
      ],
      "source": [
        "precision.variables"
      ]
    },
    {
      "cell_type": "code",
      "execution_count": 494,
      "metadata": {
        "id": "XGk8OUh5Axrg",
        "outputId": "da0838ff-8708-48a1-92f4-94f315e081be",
        "colab": {
          "base_uri": "https://localhost:8080/",
          "height": 146
        }
      },
      "outputs": [
        {
          "output_type": "error",
          "ename": "AttributeError",
          "evalue": "'Precision' object has no attribute 'reset_states'",
          "traceback": [
            "\u001b[0;31m---------------------------------------------------------------------------\u001b[0m",
            "\u001b[0;31mAttributeError\u001b[0m                            Traceback (most recent call last)",
            "\u001b[0;32m<ipython-input-494-5fe6e584cdc6>\u001b[0m in \u001b[0;36m<cell line: 1>\u001b[0;34m()\u001b[0m\n\u001b[0;32m----> 1\u001b[0;31m \u001b[0mprecision\u001b[0m\u001b[0;34m.\u001b[0m\u001b[0mreset_states\u001b[0m\u001b[0;34m(\u001b[0m\u001b[0;34m)\u001b[0m\u001b[0;34m\u001b[0m\u001b[0;34m\u001b[0m\u001b[0m\n\u001b[0m",
            "\u001b[0;31mAttributeError\u001b[0m: 'Precision' object has no attribute 'reset_states'"
          ]
        }
      ],
      "source": [
        "precision.reset_states()"
      ]
    },
    {
      "cell_type": "markdown",
      "metadata": {
        "id": "HnU7bMCqAxrg"
      },
      "source": [
        "Creating a streaming metric:"
      ]
    },
    {
      "cell_type": "code",
      "execution_count": 506,
      "metadata": {
        "id": "wfr8lxBUAxrh"
      },
      "outputs": [],
      "source": [
        "class HuberMetric(tf.keras.metrics.Metric):\n",
        "    def __init__(self, threshold=1.0, **kwargs):\n",
        "        super().__init__(**kwargs)  # 기본 매개변수 처리 (예를 들어, dtype)\n",
        "        self.threshold = threshold\n",
        "        self.huber_fn = create_huber(threshold)\n",
        "        self.total = self.add_weight(name=\"total\", initializer=\"zeros\")\n",
        "        self.count = self.add_weight(name=\"count\", initializer=\"zeros\")\n",
        "\n",
        "    def update_state(self, y_true, y_pred, sample_weight=None):\n",
        "        sample_metrics = self.huber_fn(y_true, y_pred)\n",
        "        self.total.assign_add(tf.reduce_sum(sample_metrics))\n",
        "        self.count.assign_add(tf.cast(tf.size(y_true), tf.float32))\n",
        "\n",
        "    def result(self):\n",
        "        return self.total / self.count\n",
        "\n",
        "    def get_config(self):\n",
        "        base_config = super().get_config()\n",
        "        return {**base_config, \"threshold\": self.threshold}"
      ]
    },
    {
      "cell_type": "markdown",
      "metadata": {
        "id": "JJUFrZyaAxrh"
      },
      "source": [
        "**추가 자료** – 이 섹션의 나머지 부분에서는 `HuberMetric` 클래스를 테스트하고 `tf.keras.metrics.Mean`를 서브클래싱하는 또 다른 예를 보여줍니다."
      ]
    },
    {
      "cell_type": "code",
      "execution_count": 507,
      "metadata": {
        "colab": {
          "base_uri": "https://localhost:8080/"
        },
        "id": "1CXamD7gAxrh",
        "outputId": "747fc421-42a3-48f6-b3a2-b8c4c9fac611"
      },
      "outputs": [
        {
          "output_type": "execute_result",
          "data": {
            "text/plain": [
              "<tf.Tensor: shape=(), dtype=float32, numpy=14.0>"
            ]
          },
          "metadata": {},
          "execution_count": 507
        }
      ],
      "source": [
        "m = HuberMetric(2.)\n",
        "\n",
        "# total = 2 * |10 - 2| - 2²/2 = 14\n",
        "# count = 1\n",
        "# result = 14 / 1 = 14\n",
        "m(tf.constant([[2.]]), tf.constant([[10.]]))"
      ]
    },
    {
      "cell_type": "code",
      "execution_count": 508,
      "metadata": {
        "colab": {
          "base_uri": "https://localhost:8080/"
        },
        "id": "m2gmSzaEAxrh",
        "outputId": "ded136a2-d5a0-4f6f-b0c5-466e4a4e0e3e"
      },
      "outputs": [
        {
          "output_type": "execute_result",
          "data": {
            "text/plain": [
              "<tf.Tensor: shape=(), dtype=float32, numpy=7.0>"
            ]
          },
          "metadata": {},
          "execution_count": 508
        }
      ],
      "source": [
        "# total = total + (|1 - 0|² / 2) + (2 * |9.25 - 5| - 2² / 2) = 14 + 7 = 21\n",
        "# count = count + 2 = 3\n",
        "# result = total / count = 21 / 3 = 7\n",
        "m(tf.constant([[0.], [5.]]), tf.constant([[1.], [9.25]]))"
      ]
    },
    {
      "cell_type": "code",
      "execution_count": 509,
      "metadata": {
        "colab": {
          "base_uri": "https://localhost:8080/"
        },
        "id": "YtwdTpYDAxrh",
        "outputId": "18a6f1c2-e7d5-4ecc-93f0-d595bfd5c2f3"
      },
      "outputs": [
        {
          "output_type": "execute_result",
          "data": {
            "text/plain": [
              "<tf.Tensor: shape=(), dtype=float32, numpy=7.0>"
            ]
          },
          "metadata": {},
          "execution_count": 509
        }
      ],
      "source": [
        "m.result()"
      ]
    },
    {
      "cell_type": "code",
      "execution_count": 510,
      "metadata": {
        "colab": {
          "base_uri": "https://localhost:8080/"
        },
        "id": "Ae19HKP3Axrh",
        "outputId": "c1e846cf-8cb4-4251-c62e-14220bb5abad"
      },
      "outputs": [
        {
          "output_type": "execute_result",
          "data": {
            "text/plain": [
              "[<KerasVariable shape=(), dtype=float32, path=huber_metric_5/total>,\n",
              " <KerasVariable shape=(), dtype=float32, path=huber_metric_5/count>]"
            ]
          },
          "metadata": {},
          "execution_count": 510
        }
      ],
      "source": [
        "m.variables"
      ]
    },
    {
      "cell_type": "code",
      "execution_count": 511,
      "metadata": {
        "colab": {
          "base_uri": "https://localhost:8080/",
          "height": 164
        },
        "id": "2yBflIIAAxrh",
        "outputId": "efdbca65-b1ab-4e50-de15-bb7accba1b7b"
      },
      "outputs": [
        {
          "output_type": "error",
          "ename": "AttributeError",
          "evalue": "'HuberMetric' object has no attribute 'reset_states'",
          "traceback": [
            "\u001b[0;31m---------------------------------------------------------------------------\u001b[0m",
            "\u001b[0;31mAttributeError\u001b[0m                            Traceback (most recent call last)",
            "\u001b[0;32m<ipython-input-511-2f3bfe8ae7ce>\u001b[0m in \u001b[0;36m<cell line: 1>\u001b[0;34m()\u001b[0m\n\u001b[0;32m----> 1\u001b[0;31m \u001b[0mm\u001b[0m\u001b[0;34m.\u001b[0m\u001b[0mreset_states\u001b[0m\u001b[0;34m(\u001b[0m\u001b[0;34m)\u001b[0m\u001b[0;34m\u001b[0m\u001b[0;34m\u001b[0m\u001b[0m\n\u001b[0m\u001b[1;32m      2\u001b[0m \u001b[0mm\u001b[0m\u001b[0;34m.\u001b[0m\u001b[0mvariables\u001b[0m\u001b[0;34m\u001b[0m\u001b[0;34m\u001b[0m\u001b[0m\n",
            "\u001b[0;31mAttributeError\u001b[0m: 'HuberMetric' object has no attribute 'reset_states'"
          ]
        }
      ],
      "source": [
        "m.reset_states()\n",
        "m.variables"
      ]
    },
    {
      "cell_type": "markdown",
      "metadata": {
        "id": "IHirmthOAxrh"
      },
      "source": [
        "`HuberMetric` 클래스가 제대로 작동하는지 확인해 보겠습니다:"
      ]
    },
    {
      "cell_type": "code",
      "execution_count": 512,
      "metadata": {
        "id": "3AH5XvvXAxrh",
        "outputId": "c72c0bce-398d-4dce-e70f-9b9c0ca2d8db",
        "colab": {
          "base_uri": "https://localhost:8080/"
        }
      },
      "outputs": [
        {
          "output_type": "stream",
          "name": "stderr",
          "text": [
            "/usr/local/lib/python3.10/dist-packages/keras/src/layers/core/dense.py:87: UserWarning: Do not pass an `input_shape`/`input_dim` argument to a layer. When using Sequential models, prefer using an `Input(shape)` object as the first layer in the model instead.\n",
            "  super().__init__(activity_regularizer=activity_regularizer, **kwargs)\n"
          ]
        }
      ],
      "source": [
        "tf.keras.utils.set_random_seed(42)\n",
        "model = tf.keras.Sequential([\n",
        "    tf.keras.layers.Dense(30, activation=\"relu\", kernel_initializer=\"he_normal\",\n",
        "                          input_shape=input_shape),\n",
        "    tf.keras.layers.Dense(1),\n",
        "])"
      ]
    },
    {
      "cell_type": "code",
      "execution_count": 513,
      "metadata": {
        "id": "m5ExIJ5oAxri"
      },
      "outputs": [],
      "source": [
        "model.compile(loss=create_huber(2.0), optimizer=\"nadam\",\n",
        "              metrics=[HuberMetric(2.0)])"
      ]
    },
    {
      "cell_type": "code",
      "execution_count": 514,
      "metadata": {
        "colab": {
          "base_uri": "https://localhost:8080/"
        },
        "id": "wU0qMrn2Axri",
        "outputId": "bf8ee3e1-9d03-4031-bf5d-c4bf76506e79"
      },
      "outputs": [
        {
          "output_type": "stream",
          "name": "stdout",
          "text": [
            "Epoch 1/2\n",
            "\u001b[1m363/363\u001b[0m \u001b[32m━━━━━━━━━━━━━━━━━━━━\u001b[0m\u001b[37m\u001b[0m \u001b[1m2s\u001b[0m 2ms/step - huber_metric_6: 1.0512 - loss: 1.0512\n",
            "Epoch 2/2\n",
            "\u001b[1m363/363\u001b[0m \u001b[32m━━━━━━━━━━━━━━━━━━━━\u001b[0m\u001b[37m\u001b[0m \u001b[1m1s\u001b[0m 2ms/step - huber_metric_6: 0.3170 - loss: 0.3170\n"
          ]
        },
        {
          "output_type": "execute_result",
          "data": {
            "text/plain": [
              "<keras.src.callbacks.history.History at 0x7aad0e7ed9f0>"
            ]
          },
          "metadata": {},
          "execution_count": 514
        }
      ],
      "source": [
        "model.fit(X_train_scaled, y_train, epochs=2)"
      ]
    },
    {
      "cell_type": "code",
      "execution_count": 515,
      "metadata": {
        "id": "d38H2hPkAxri"
      },
      "outputs": [],
      "source": [
        "model.save(\"my_model_with_a_custom_metric.keras\")"
      ]
    },
    {
      "cell_type": "code",
      "execution_count": 516,
      "metadata": {
        "id": "Fm1d2JgSAxri"
      },
      "outputs": [],
      "source": [
        "model = tf.keras.models.load_model(\n",
        "    \"my_model_with_a_custom_metric.keras\",\n",
        "    custom_objects={\n",
        "        \"huber_fn\": create_huber(2.0),\n",
        "        \"HuberMetric\": HuberMetric\n",
        "    }\n",
        ")"
      ]
    },
    {
      "cell_type": "code",
      "execution_count": 517,
      "metadata": {
        "colab": {
          "base_uri": "https://localhost:8080/"
        },
        "id": "4hsey5XSAxri",
        "outputId": "f6aca55c-109d-4fdf-cc40-8f6ab8e7bf47"
      },
      "outputs": [
        {
          "output_type": "stream",
          "name": "stdout",
          "text": [
            "Epoch 1/2\n",
            "\u001b[1m363/363\u001b[0m \u001b[32m━━━━━━━━━━━━━━━━━━━━\u001b[0m\u001b[37m\u001b[0m \u001b[1m4s\u001b[0m 6ms/step - huber_metric_6: 0.2612 - loss: 0.2612\n",
            "Epoch 2/2\n",
            "\u001b[1m363/363\u001b[0m \u001b[32m━━━━━━━━━━━━━━━━━━━━\u001b[0m\u001b[37m\u001b[0m \u001b[1m2s\u001b[0m 2ms/step - huber_metric_6: 0.2328 - loss: 0.2328\n"
          ]
        },
        {
          "output_type": "execute_result",
          "data": {
            "text/plain": [
              "<keras.src.callbacks.history.History at 0x7aad0ddc2020>"
            ]
          },
          "metadata": {},
          "execution_count": 517
        }
      ],
      "source": [
        "model.fit(X_train_scaled, y_train, epochs=2)"
      ]
    },
    {
      "cell_type": "markdown",
      "metadata": {
        "id": "dAZg4651Axri"
      },
      "source": [
        "`model.metrics`은 모델 손실 다음에 모델의 지표를 담고 있으므로 `HuberMetric`은 `model.metrics[-1]`입니다:"
      ]
    },
    {
      "cell_type": "code",
      "execution_count": 518,
      "metadata": {
        "colab": {
          "base_uri": "https://localhost:8080/",
          "height": 146
        },
        "id": "7bIynYbPAxri",
        "outputId": "18704b40-d0de-4339-fe37-09daf7c24ca1"
      },
      "outputs": [
        {
          "output_type": "error",
          "ename": "AttributeError",
          "evalue": "'CompileMetrics' object has no attribute 'threshold'",
          "traceback": [
            "\u001b[0;31m---------------------------------------------------------------------------\u001b[0m",
            "\u001b[0;31mAttributeError\u001b[0m                            Traceback (most recent call last)",
            "\u001b[0;32m<ipython-input-518-951c326727f5>\u001b[0m in \u001b[0;36m<cell line: 1>\u001b[0;34m()\u001b[0m\n\u001b[0;32m----> 1\u001b[0;31m \u001b[0mmodel\u001b[0m\u001b[0;34m.\u001b[0m\u001b[0mmetrics\u001b[0m\u001b[0;34m[\u001b[0m\u001b[0;34m-\u001b[0m\u001b[0;36m1\u001b[0m\u001b[0;34m]\u001b[0m\u001b[0;34m.\u001b[0m\u001b[0mthreshold\u001b[0m\u001b[0;34m\u001b[0m\u001b[0;34m\u001b[0m\u001b[0m\n\u001b[0m",
            "\u001b[0;31mAttributeError\u001b[0m: 'CompileMetrics' object has no attribute 'threshold'"
          ]
        }
      ],
      "source": [
        "model.metrics[-1].threshold"
      ]
    },
    {
      "cell_type": "markdown",
      "metadata": {
        "id": "UZZVBn1lAxri"
      },
      "source": [
        "잘 작동하는 것 같습니다! 더 간단하게는 다음과 같이 클래스를 만들 수도 있습니다:"
      ]
    },
    {
      "cell_type": "code",
      "execution_count": 519,
      "metadata": {
        "id": "uB8h98UCAxri"
      },
      "outputs": [],
      "source": [
        "class HuberMetric(tf.keras.metrics.Mean):\n",
        "    def __init__(self, threshold=1.0, name='HuberMetric', dtype=None):\n",
        "        self.threshold = threshold\n",
        "        self.huber_fn = create_huber(threshold)\n",
        "        super().__init__(name=name, dtype=dtype)\n",
        "\n",
        "    def update_state(self, y_true, y_pred, sample_weight=None):\n",
        "        metric = self.huber_fn(y_true, y_pred)\n",
        "        super(HuberMetric, self).update_state(metric, sample_weight)\n",
        "\n",
        "    def get_config(self):\n",
        "        base_config = super().get_config()\n",
        "        return {**base_config, \"threshold\": self.threshold}"
      ]
    },
    {
      "cell_type": "markdown",
      "metadata": {
        "id": "tbYo0q7gAxrj"
      },
      "source": [
        "이 클래스는 크기를 더 잘 처리하며 샘플 가중치도 지원합니다."
      ]
    },
    {
      "cell_type": "code",
      "execution_count": 520,
      "metadata": {
        "id": "KwwfYIUzAxrj"
      },
      "outputs": [],
      "source": [
        "tf.keras.utils.set_random_seed(42)\n",
        "model = tf.keras.Sequential([\n",
        "    tf.keras.layers.Dense(30, activation=\"relu\", kernel_initializer=\"he_normal\",\n",
        "                          input_shape=input_shape),\n",
        "    tf.keras.layers.Dense(1),\n",
        "])"
      ]
    },
    {
      "cell_type": "code",
      "execution_count": 521,
      "metadata": {
        "id": "mQFwmPxvAxrj"
      },
      "outputs": [],
      "source": [
        "model.compile(loss=tf.keras.losses.Huber(2.0), optimizer=\"nadam\",\n",
        "              weighted_metrics=[HuberMetric(2.0)])"
      ]
    },
    {
      "cell_type": "code",
      "execution_count": 522,
      "metadata": {
        "colab": {
          "base_uri": "https://localhost:8080/"
        },
        "id": "1Z760c4eAxrj",
        "outputId": "6444171b-b399-4a29-88d6-63e244691359",
        "scrolled": true
      },
      "outputs": [
        {
          "output_type": "stream",
          "name": "stdout",
          "text": [
            "Epoch 1/2\n",
            "\u001b[1m363/363\u001b[0m \u001b[32m━━━━━━━━━━━━━━━━━━━━\u001b[0m\u001b[37m\u001b[0m \u001b[1m2s\u001b[0m 3ms/step - HuberMetric: 1.0599 - loss: 0.5274\n",
            "Epoch 2/2\n",
            "\u001b[1m363/363\u001b[0m \u001b[32m━━━━━━━━━━━━━━━━━━━━\u001b[0m\u001b[37m\u001b[0m \u001b[1m1s\u001b[0m 2ms/step - HuberMetric: 0.3215 - loss: 0.1598\n"
          ]
        }
      ],
      "source": [
        "np.random.seed(42)\n",
        "sample_weight = np.random.rand(len(y_train))\n",
        "history = model.fit(X_train_scaled, y_train, epochs=2,\n",
        "                    sample_weight=sample_weight)"
      ]
    },
    {
      "cell_type": "code",
      "execution_count": 523,
      "metadata": {
        "colab": {
          "base_uri": "https://localhost:8080/"
        },
        "id": "tiohRlrmAxrj",
        "outputId": "12c1ac84-b14e-41d5-d6e9-67f155dcfe4e"
      },
      "outputs": [
        {
          "output_type": "execute_result",
          "data": {
            "text/plain": [
              "(0.3256884217262268, 0.32568849524955656)"
            ]
          },
          "metadata": {},
          "execution_count": 523
        }
      ],
      "source": [
        "(history.history[\"loss\"][0],\n",
        " history.history[\"HuberMetric\"][0] * sample_weight.mean())"
      ]
    },
    {
      "cell_type": "code",
      "execution_count": 524,
      "metadata": {
        "id": "ApXwk937Axrj"
      },
      "outputs": [],
      "source": [
        "model.save(\"my_model_with_a_custom_metric_v2.keras\")"
      ]
    },
    {
      "cell_type": "code",
      "execution_count": 525,
      "metadata": {
        "id": "BIK-TcXEAxrj"
      },
      "outputs": [],
      "source": [
        "model = tf.keras.models.load_model(\"my_model_with_a_custom_metric_v2.keras\",\n",
        "                                   custom_objects={\"HuberMetric\": HuberMetric})"
      ]
    },
    {
      "cell_type": "code",
      "execution_count": 526,
      "metadata": {
        "colab": {
          "base_uri": "https://localhost:8080/"
        },
        "id": "DA9CXZgTAxrj",
        "outputId": "d4a298b8-bd35-4048-f053-15781a6dbaea"
      },
      "outputs": [
        {
          "output_type": "stream",
          "name": "stdout",
          "text": [
            "Epoch 1/2\n",
            "\u001b[1m363/363\u001b[0m \u001b[32m━━━━━━━━━━━━━━━━━━━━\u001b[0m\u001b[37m\u001b[0m \u001b[1m4s\u001b[0m 6ms/step - HuberMetric: 0.2627 - loss: 0.2262\n",
            "Epoch 2/2\n",
            "\u001b[1m363/363\u001b[0m \u001b[32m━━━━━━━━━━━━━━━━━━━━\u001b[0m\u001b[37m\u001b[0m \u001b[1m3s\u001b[0m 2ms/step - HuberMetric: 0.2298 - loss: 0.1999\n"
          ]
        },
        {
          "output_type": "execute_result",
          "data": {
            "text/plain": [
              "<keras.src.callbacks.history.History at 0x7aad0e5babc0>"
            ]
          },
          "metadata": {},
          "execution_count": 526
        }
      ],
      "source": [
        "model.fit(X_train_scaled, y_train, epochs=2)"
      ]
    },
    {
      "cell_type": "code",
      "execution_count": 527,
      "metadata": {
        "colab": {
          "base_uri": "https://localhost:8080/",
          "height": 146
        },
        "id": "YGc3D2KbAxrk",
        "outputId": "19b08d47-b6f3-451e-9b74-5a0dbc8221c4",
        "scrolled": true
      },
      "outputs": [
        {
          "output_type": "error",
          "ename": "AttributeError",
          "evalue": "'CompileMetrics' object has no attribute 'threshold'",
          "traceback": [
            "\u001b[0;31m---------------------------------------------------------------------------\u001b[0m",
            "\u001b[0;31mAttributeError\u001b[0m                            Traceback (most recent call last)",
            "\u001b[0;32m<ipython-input-527-951c326727f5>\u001b[0m in \u001b[0;36m<cell line: 1>\u001b[0;34m()\u001b[0m\n\u001b[0;32m----> 1\u001b[0;31m \u001b[0mmodel\u001b[0m\u001b[0;34m.\u001b[0m\u001b[0mmetrics\u001b[0m\u001b[0;34m[\u001b[0m\u001b[0;34m-\u001b[0m\u001b[0;36m1\u001b[0m\u001b[0;34m]\u001b[0m\u001b[0;34m.\u001b[0m\u001b[0mthreshold\u001b[0m\u001b[0;34m\u001b[0m\u001b[0;34m\u001b[0m\u001b[0m\n\u001b[0m",
            "\u001b[0;31mAttributeError\u001b[0m: 'CompileMetrics' object has no attribute 'threshold'"
          ]
        }
      ],
      "source": [
        "model.metrics[-1].threshold"
      ]
    },
    {
      "cell_type": "markdown",
      "metadata": {
        "id": "LHEBZvKPAxrk"
      },
      "source": [
        "## 사용자 정의 층"
      ]
    },
    {
      "cell_type": "code",
      "execution_count": 528,
      "metadata": {
        "id": "z1_acb9zAxrk"
      },
      "outputs": [],
      "source": [
        "exponential_layer = tf.keras.layers.Lambda(lambda x: tf.exp(x))"
      ]
    },
    {
      "cell_type": "code",
      "execution_count": 529,
      "metadata": {
        "colab": {
          "base_uri": "https://localhost:8080/",
          "height": 333
        },
        "id": "brtmfdE-Axrk",
        "outputId": "8cfe5b30-30b5-49e2-cc49-658d1d992247"
      },
      "outputs": [
        {
          "output_type": "error",
          "ename": "ValueError",
          "evalue": "Only input tensors may be passed as positional arguments. The following argument value should be passed as a keyword argument: -1.0 (of type <class 'float'>)",
          "traceback": [
            "\u001b[0;31m---------------------------------------------------------------------------\u001b[0m",
            "\u001b[0;31mValueError\u001b[0m                                Traceback (most recent call last)",
            "\u001b[0;32m<ipython-input-529-f2425780ffcb>\u001b[0m in \u001b[0;36m<cell line: 2>\u001b[0;34m()\u001b[0m\n\u001b[1;32m      1\u001b[0m \u001b[0;31m# 추가 코드 - 다른 층과 마찬가지로 함수로 사용할 수 있습니다:\u001b[0m\u001b[0;34m\u001b[0m\u001b[0;34m\u001b[0m\u001b[0m\n\u001b[0;32m----> 2\u001b[0;31m \u001b[0mexponential_layer\u001b[0m\u001b[0;34m(\u001b[0m\u001b[0;34m[\u001b[0m\u001b[0;34m-\u001b[0m\u001b[0;36m1.\u001b[0m\u001b[0;34m,\u001b[0m \u001b[0;36m0.\u001b[0m\u001b[0;34m,\u001b[0m \u001b[0;36m1.\u001b[0m\u001b[0;34m]\u001b[0m\u001b[0;34m)\u001b[0m\u001b[0;34m\u001b[0m\u001b[0;34m\u001b[0m\u001b[0m\n\u001b[0m",
            "\u001b[0;32m/usr/local/lib/python3.10/dist-packages/keras/src/utils/traceback_utils.py\u001b[0m in \u001b[0;36merror_handler\u001b[0;34m(*args, **kwargs)\u001b[0m\n\u001b[1;32m    120\u001b[0m             \u001b[0;31m# To get the full stack trace, call:\u001b[0m\u001b[0;34m\u001b[0m\u001b[0;34m\u001b[0m\u001b[0m\n\u001b[1;32m    121\u001b[0m             \u001b[0;31m# `keras.config.disable_traceback_filtering()`\u001b[0m\u001b[0;34m\u001b[0m\u001b[0;34m\u001b[0m\u001b[0m\n\u001b[0;32m--> 122\u001b[0;31m             \u001b[0;32mraise\u001b[0m \u001b[0me\u001b[0m\u001b[0;34m.\u001b[0m\u001b[0mwith_traceback\u001b[0m\u001b[0;34m(\u001b[0m\u001b[0mfiltered_tb\u001b[0m\u001b[0;34m)\u001b[0m \u001b[0;32mfrom\u001b[0m \u001b[0;32mNone\u001b[0m\u001b[0;34m\u001b[0m\u001b[0;34m\u001b[0m\u001b[0m\n\u001b[0m\u001b[1;32m    123\u001b[0m         \u001b[0;32mfinally\u001b[0m\u001b[0;34m:\u001b[0m\u001b[0;34m\u001b[0m\u001b[0;34m\u001b[0m\u001b[0m\n\u001b[1;32m    124\u001b[0m             \u001b[0;32mdel\u001b[0m \u001b[0mfiltered_tb\u001b[0m\u001b[0;34m\u001b[0m\u001b[0;34m\u001b[0m\u001b[0m\n",
            "\u001b[0;32m/usr/local/lib/python3.10/dist-packages/keras/src/layers/layer.py\u001b[0m in \u001b[0;36m__call__\u001b[0;34m(self, *args, **kwargs)\u001b[0m\n\u001b[1;32m    806\u001b[0m                     \u001b[0;32mand\u001b[0m \u001b[0marg\u001b[0m \u001b[0;32mis\u001b[0m \u001b[0;32mnot\u001b[0m \u001b[0;32mNone\u001b[0m\u001b[0;34m\u001b[0m\u001b[0;34m\u001b[0m\u001b[0m\n\u001b[1;32m    807\u001b[0m                 ):\n\u001b[0;32m--> 808\u001b[0;31m                     raise ValueError(\n\u001b[0m\u001b[1;32m    809\u001b[0m                         \u001b[0;34m\"Only input tensors may be passed as \"\u001b[0m\u001b[0;34m\u001b[0m\u001b[0;34m\u001b[0m\u001b[0m\n\u001b[1;32m    810\u001b[0m                         \u001b[0;34m\"positional arguments. The following argument value \"\u001b[0m\u001b[0;34m\u001b[0m\u001b[0;34m\u001b[0m\u001b[0m\n",
            "\u001b[0;31mValueError\u001b[0m: Only input tensors may be passed as positional arguments. The following argument value should be passed as a keyword argument: -1.0 (of type <class 'float'>)"
          ]
        }
      ],
      "source": [
        "# 추가 코드 - 다른 층과 마찬가지로 함수로 사용할 수 있습니다:\n",
        "exponential_layer([-1., 0., 1.])"
      ]
    },
    {
      "cell_type": "markdown",
      "metadata": {
        "id": "xn6MwQRAAxrk"
      },
      "source": [
        "회귀 모델의 출력에 지수 층을 추가하면 예측할 값이 양수이고 스케일이 매우 다른 경우(예: 0.001, 10., 10000) 유용할 수 있습니다."
      ]
    },
    {
      "cell_type": "code",
      "execution_count": 530,
      "metadata": {
        "colab": {
          "base_uri": "https://localhost:8080/"
        },
        "id": "4YY1BOGbAxrk",
        "outputId": "e2ad7bee-b0fe-412f-c869-abb1bd7ea0fc"
      },
      "outputs": [
        {
          "output_type": "stream",
          "name": "stdout",
          "text": [
            "Epoch 1/5\n",
            "\u001b[1m363/363\u001b[0m \u001b[32m━━━━━━━━━━━━━━━━━━━━\u001b[0m\u001b[37m\u001b[0m \u001b[1m2s\u001b[0m 4ms/step - loss: 1.2350 - val_loss: 0.4393\n",
            "Epoch 2/5\n",
            "\u001b[1m363/363\u001b[0m \u001b[32m━━━━━━━━━━━━━━━━━━━━\u001b[0m\u001b[37m\u001b[0m \u001b[1m1s\u001b[0m 2ms/step - loss: 0.6130 - val_loss: 0.4048\n",
            "Epoch 3/5\n",
            "\u001b[1m363/363\u001b[0m \u001b[32m━━━━━━━━━━━━━━━━━━━━\u001b[0m\u001b[37m\u001b[0m \u001b[1m1s\u001b[0m 2ms/step - loss: 0.5169 - val_loss: 0.3940\n",
            "Epoch 4/5\n",
            "\u001b[1m363/363\u001b[0m \u001b[32m━━━━━━━━━━━━━━━━━━━━\u001b[0m\u001b[37m\u001b[0m \u001b[1m1s\u001b[0m 2ms/step - loss: 0.4510 - val_loss: 0.3694\n",
            "Epoch 5/5\n",
            "\u001b[1m363/363\u001b[0m \u001b[32m━━━━━━━━━━━━━━━━━━━━\u001b[0m\u001b[37m\u001b[0m \u001b[1m1s\u001b[0m 2ms/step - loss: 0.5406 - val_loss: 0.3799\n",
            "\u001b[1m162/162\u001b[0m \u001b[32m━━━━━━━━━━━━━━━━━━━━\u001b[0m\u001b[37m\u001b[0m \u001b[1m0s\u001b[0m 2ms/step - loss: 0.3955\n"
          ]
        },
        {
          "output_type": "execute_result",
          "data": {
            "text/plain": [
              "0.39801740646362305"
            ]
          },
          "metadata": {},
          "execution_count": 530
        }
      ],
      "source": [
        "tf.keras.utils.set_random_seed(42)\n",
        "model = tf.keras.Sequential([\n",
        "    tf.keras.layers.Dense(30, activation=\"relu\", input_shape=input_shape),\n",
        "    tf.keras.layers.Dense(1),\n",
        "    exponential_layer\n",
        "])\n",
        "model.compile(loss=\"mse\", optimizer=\"sgd\")\n",
        "model.fit(X_train_scaled, y_train, epochs=5,\n",
        "          validation_data=(X_valid_scaled, y_valid))\n",
        "model.evaluate(X_test_scaled, y_test)"
      ]
    },
    {
      "cell_type": "markdown",
      "metadata": {
        "id": "gSgHQIJ6Axrk"
      },
      "source": [
        "또는 타깃을 타깃의 로그로 대체하고 출력 층에서 활성화 함수를 사용하지 않는 것이 더 나을 수 있습니다."
      ]
    },
    {
      "cell_type": "code",
      "execution_count": 531,
      "metadata": {
        "id": "vVR13Y31Axrk"
      },
      "outputs": [],
      "source": [
        "class MyDense(tf.keras.layers.Layer):\n",
        "    def __init__(self, units, activation=None, **kwargs):\n",
        "        super().__init__(**kwargs)\n",
        "        self.units = units\n",
        "        self.activation = tf.keras.activations.get(activation)\n",
        "\n",
        "    def build(self, batch_input_shape):\n",
        "        self.kernel = self.add_weight(\n",
        "            name=\"kernel\", shape=[batch_input_shape[-1], self.units],\n",
        "            initializer=\"he_normal\")\n",
        "        self.bias = self.add_weight(\n",
        "            name=\"bias\", shape=[self.units], initializer=\"zeros\")\n",
        "\n",
        "    def call(self, X):\n",
        "        return self.activation(X @ self.kernel + self.bias)\n",
        "\n",
        "    def get_config(self):\n",
        "        base_config = super().get_config()\n",
        "        return {**base_config, \"units\": self.units,\n",
        "                \"activation\": tf.keras.activations.serialize(self.activation)}"
      ]
    },
    {
      "cell_type": "code",
      "execution_count": 534,
      "metadata": {
        "colab": {
          "base_uri": "https://localhost:8080/"
        },
        "id": "_Lh96KyuAxrk",
        "outputId": "88ba7ced-ed7f-4ebd-e02b-990aa013e258"
      },
      "outputs": [
        {
          "output_type": "stream",
          "name": "stderr",
          "text": [
            "<ipython-input-531-72f990369efb>:3: UserWarning: Do not pass an `input_shape`/`input_dim` argument to a layer. When using Sequential models, prefer using an `Input(shape)` object as the first layer in the model instead.\n",
            "  super().__init__(**kwargs)\n"
          ]
        },
        {
          "output_type": "stream",
          "name": "stdout",
          "text": [
            "Epoch 1/2\n",
            "\u001b[1m363/363\u001b[0m \u001b[32m━━━━━━━━━━━━━━━━━━━━\u001b[0m\u001b[37m\u001b[0m \u001b[1m4s\u001b[0m 6ms/step - loss: 5.7265 - val_loss: 6.9256\n",
            "Epoch 2/2\n",
            "\u001b[1m363/363\u001b[0m \u001b[32m━━━━━━━━━━━━━━━━━━━━\u001b[0m\u001b[37m\u001b[0m \u001b[1m3s\u001b[0m 2ms/step - loss: 0.9550 - val_loss: 2.6011\n",
            "\u001b[1m162/162\u001b[0m \u001b[32m━━━━━━━━━━━━━━━━━━━━\u001b[0m\u001b[37m\u001b[0m \u001b[1m0s\u001b[0m 2ms/step - loss: 0.7227\n"
          ]
        }
      ],
      "source": [
        "# 추가 코드 - 사용자 정의 층을 보통처럼 사용할 수 있음을 보여줍니다.\n",
        "tf.keras.utils.set_random_seed(42)\n",
        "model = tf.keras.Sequential([\n",
        "    MyDense(30, activation=\"relu\", input_shape=input_shape),\n",
        "    MyDense(1)\n",
        "])\n",
        "model.compile(loss=\"mse\", optimizer=\"nadam\")\n",
        "model.fit(X_train_scaled, y_train, epochs=2,\n",
        "          validation_data=(X_valid_scaled, y_valid))\n",
        "model.evaluate(X_test_scaled, y_test)\n",
        "model.save(\"my_model_with_a_custom_layer.keras\")"
      ]
    },
    {
      "cell_type": "code",
      "execution_count": 535,
      "metadata": {
        "colab": {
          "base_uri": "https://localhost:8080/"
        },
        "id": "OMJn9UA7Axrk",
        "outputId": "ae3afe8c-0d77-430c-85c2-0b5c2e9fdac8"
      },
      "outputs": [
        {
          "output_type": "stream",
          "name": "stdout",
          "text": [
            "Epoch 1/2\n",
            "\u001b[1m363/363\u001b[0m \u001b[32m━━━━━━━━━━━━━━━━━━━━\u001b[0m\u001b[37m\u001b[0m \u001b[1m3s\u001b[0m 5ms/step - loss: 0.7034 - val_loss: 0.8613\n",
            "Epoch 2/2\n",
            "\u001b[1m363/363\u001b[0m \u001b[32m━━━━━━━━━━━━━━━━━━━━\u001b[0m\u001b[37m\u001b[0m \u001b[1m1s\u001b[0m 2ms/step - loss: 0.5803 - val_loss: 0.4588\n"
          ]
        },
        {
          "output_type": "execute_result",
          "data": {
            "text/plain": [
              "<keras.src.callbacks.history.History at 0x7aad0df03430>"
            ]
          },
          "metadata": {},
          "execution_count": 535
        }
      ],
      "source": [
        "# 추가 코드 - 사용자 정의 층을 가진 모델을 로드하는 방법을 보여줍니다.\n",
        "model = tf.keras.models.load_model(\"my_model_with_a_custom_layer.keras\",\n",
        "                                   custom_objects={\"MyDense\": MyDense})\n",
        "model.fit(X_train_scaled, y_train, epochs=2,\n",
        "          validation_data=(X_valid_scaled, y_valid))"
      ]
    },
    {
      "cell_type": "code",
      "execution_count": 536,
      "metadata": {
        "id": "8I7ct6m1Axrl"
      },
      "outputs": [],
      "source": [
        "class MyMultiLayer(tf.keras.layers.Layer):\n",
        "    def call(self, X):\n",
        "        X1, X2 = X\n",
        "        print(\"X1.shape: \", X1.shape ,\" X2.shape: \", X2.shape)  # extra code\n",
        "        return X1 + X2, X1 * X2, X1 / X2"
      ]
    },
    {
      "cell_type": "markdown",
      "metadata": {
        "id": "wuI7HeD9Axrl"
      },
      "source": [
        "사용자 정의 층은 다음과 같이 함수형 API를 사용하여 호출할 수 있습니다:"
      ]
    },
    {
      "cell_type": "code",
      "execution_count": 537,
      "metadata": {
        "colab": {
          "base_uri": "https://localhost:8080/"
        },
        "id": "H6X91b3DAxrl",
        "outputId": "b49be0b1-41c7-4f72-fc8f-74a26520ebfa"
      },
      "outputs": [
        {
          "output_type": "stream",
          "name": "stdout",
          "text": [
            "X1.shape:  (None, 2)  X2.shape:  (None, 2)\n"
          ]
        },
        {
          "output_type": "execute_result",
          "data": {
            "text/plain": [
              "(<KerasTensor shape=(None, 2), dtype=float32, sparse=False, name=keras_tensor_168>,\n",
              " <KerasTensor shape=(None, 2), dtype=float32, sparse=False, name=keras_tensor_169>,\n",
              " <KerasTensor shape=(None, 2), dtype=float32, sparse=False, name=keras_tensor_170>)"
            ]
          },
          "metadata": {},
          "execution_count": 537
        }
      ],
      "source": [
        "# 추가 코드 - 심볼릭 입력으로 MyMultiLayer를 테스트합니다.\n",
        "inputs1 = tf.keras.layers.Input(shape=[2])\n",
        "inputs2 = tf.keras.layers.Input(shape=[2])\n",
        "MyMultiLayer()((inputs1, inputs2))"
      ]
    },
    {
      "cell_type": "markdown",
      "metadata": {
        "id": "e_tIIUkAAxrl"
      },
      "source": [
        "`call()` 메서드는 심볼릭 입력을 받고 심볼릭 출력을 반환한다는 점에 유의하세요. 이 단계에서는 부분적인 크기만 지정합니다. 배치 크기를 알 수 없기 때문에 첫 번째 차원이 `None`입니다.\n",
        "\n",
        "실제 데이터를 사용자 정의 층에 전달할 수도 있습니다:"
      ]
    },
    {
      "cell_type": "code",
      "execution_count": 538,
      "metadata": {
        "colab": {
          "base_uri": "https://localhost:8080/"
        },
        "id": "kvY8ufHVAxrl",
        "outputId": "cefc3e76-2f30-4b27-b477-97452e135ab8"
      },
      "outputs": [
        {
          "output_type": "stream",
          "name": "stdout",
          "text": [
            "X1.shape:  (2, 2)  X2.shape:  (2, 2)\n"
          ]
        },
        {
          "output_type": "execute_result",
          "data": {
            "text/plain": [
              "(<tf.Tensor: shape=(2, 2), dtype=float32, numpy=\n",
              " array([[ 9., 18.],\n",
              "        [ 6., 10.]], dtype=float32)>,\n",
              " <tf.Tensor: shape=(2, 2), dtype=float32, numpy=\n",
              " array([[18., 72.],\n",
              "        [ 8., 21.]], dtype=float32)>,\n",
              " <tf.Tensor: shape=(2, 2), dtype=float32, numpy=\n",
              " array([[0.5      , 0.5      ],\n",
              "        [0.5      , 2.3333333]], dtype=float32)>)"
            ]
          },
          "metadata": {},
          "execution_count": 538
        }
      ],
      "source": [
        "# 추가 코드 - 실제 데이터로 MyMultiLayer를 테스트합니다.\n",
        "X1, X2 = np.array([[3., 6.], [2., 7.]]), np.array([[6., 12.], [4., 3.]])\n",
        "MyMultiLayer()((X1, X2))"
      ]
    },
    {
      "cell_type": "markdown",
      "metadata": {
        "id": "MofR-d5TAxrl"
      },
      "source": [
        "이제 훈련과 테스트 중에 다르게 동작하는 층을 만들어 보겠습니다:"
      ]
    },
    {
      "cell_type": "code",
      "execution_count": 539,
      "metadata": {
        "id": "YJkH97AEAxrl"
      },
      "outputs": [],
      "source": [
        "class MyGaussianNoise(tf.keras.layers.Layer):\n",
        "    def __init__(self, stddev, **kwargs):\n",
        "        super().__init__(**kwargs)\n",
        "        self.stddev = stddev\n",
        "\n",
        "    def call(self, X, training=None):\n",
        "        if training:\n",
        "            noise = tf.random.normal(tf.shape(X), stddev=self.stddev)\n",
        "            return X + noise\n",
        "        else:\n",
        "            return X\n",
        "\n",
        "    def compute_output_shape(self, batch_input_shape):\n",
        "        return batch_input_shape"
      ]
    },
    {
      "cell_type": "markdown",
      "metadata": {
        "id": "6IPN9u64Axrl"
      },
      "source": [
        "다음은 이 사용자 정의 층을 사용하는 간단한 모델입니다:"
      ]
    },
    {
      "cell_type": "code",
      "execution_count": 540,
      "metadata": {
        "colab": {
          "base_uri": "https://localhost:8080/"
        },
        "id": "j96OkK2AAxrl",
        "outputId": "fa2a7df2-1670-4bd8-f1fb-b8f355a0e9b6"
      },
      "outputs": [
        {
          "output_type": "stream",
          "name": "stdout",
          "text": [
            "Epoch 1/2\n"
          ]
        },
        {
          "output_type": "stream",
          "name": "stderr",
          "text": [
            "<ipython-input-539-5bf8abca19b7>:3: UserWarning: Do not pass an `input_shape`/`input_dim` argument to a layer. When using Sequential models, prefer using an `Input(shape)` object as the first layer in the model instead.\n",
            "  super().__init__(**kwargs)\n"
          ]
        },
        {
          "output_type": "stream",
          "name": "stdout",
          "text": [
            "\u001b[1m363/363\u001b[0m \u001b[32m━━━━━━━━━━━━━━━━━━━━\u001b[0m\u001b[37m\u001b[0m \u001b[1m3s\u001b[0m 4ms/step - loss: 2.7997 - val_loss: 24.8183\n",
            "Epoch 2/2\n",
            "\u001b[1m363/363\u001b[0m \u001b[32m━━━━━━━━━━━━━━━━━━━━\u001b[0m\u001b[37m\u001b[0m \u001b[1m1s\u001b[0m 2ms/step - loss: 1.3693 - val_loss: 14.8234\n",
            "\u001b[1m162/162\u001b[0m \u001b[32m━━━━━━━━━━━━━━━━━━━━\u001b[0m\u001b[37m\u001b[0m \u001b[1m0s\u001b[0m 2ms/step - loss: 1.1380\n"
          ]
        },
        {
          "output_type": "execute_result",
          "data": {
            "text/plain": [
              "1.1505368947982788"
            ]
          },
          "metadata": {},
          "execution_count": 540
        }
      ],
      "source": [
        "# 추가 코드 - MyGaussianNoise 테스트\n",
        "tf.keras.utils.set_random_seed(42)\n",
        "model = tf.keras.Sequential([\n",
        "    MyGaussianNoise(stddev=1.0, input_shape=input_shape),\n",
        "    tf.keras.layers.Dense(30, activation=\"relu\",\n",
        "                          kernel_initializer=\"he_normal\"),\n",
        "    tf.keras.layers.Dense(1)\n",
        "])\n",
        "model.compile(loss=\"mse\", optimizer=\"nadam\")\n",
        "model.fit(X_train_scaled, y_train, epochs=2,\n",
        "          validation_data=(X_valid_scaled, y_valid))\n",
        "model.evaluate(X_test_scaled, y_test)"
      ]
    },
    {
      "cell_type": "markdown",
      "metadata": {
        "id": "ZNNjOu3IAxrm"
      },
      "source": [
        "## 사용자 정의 모델"
      ]
    },
    {
      "cell_type": "code",
      "execution_count": 541,
      "metadata": {
        "id": "Tdb4LT1DAxrm"
      },
      "outputs": [],
      "source": [
        "class ResidualBlock(tf.keras.layers.Layer):\n",
        "    def __init__(self, n_layers, n_neurons, **kwargs):\n",
        "        super().__init__(**kwargs)\n",
        "        self.hidden = [tf.keras.layers.Dense(n_neurons, activation=\"relu\",\n",
        "                                             kernel_initializer=\"he_normal\")\n",
        "                       for _ in range(n_layers)]\n",
        "\n",
        "    def call(self, inputs):\n",
        "        Z = inputs\n",
        "        for layer in self.hidden:\n",
        "            Z = layer(Z)\n",
        "        return inputs + Z"
      ]
    },
    {
      "cell_type": "code",
      "execution_count": 542,
      "metadata": {
        "id": "9j7Am2wXAxrm"
      },
      "outputs": [],
      "source": [
        "class ResidualRegressor(tf.keras.Model):\n",
        "    def __init__(self, output_dim, **kwargs):\n",
        "        super().__init__(**kwargs)\n",
        "        self.hidden1 = tf.keras.layers.Dense(30, activation=\"relu\",\n",
        "                                             kernel_initializer=\"he_normal\")\n",
        "        self.block1 = ResidualBlock(2, 30)\n",
        "        self.block2 = ResidualBlock(2, 30)\n",
        "        self.out = tf.keras.layers.Dense(output_dim)\n",
        "\n",
        "    def call(self, inputs):\n",
        "        Z = self.hidden1(inputs)\n",
        "        for _ in range(1 + 3):\n",
        "            Z = self.block1(Z)\n",
        "        Z = self.block2(Z)\n",
        "        return self.out(Z)"
      ]
    },
    {
      "cell_type": "code",
      "execution_count": 545,
      "metadata": {
        "colab": {
          "base_uri": "https://localhost:8080/"
        },
        "id": "eogB59RYAxrm",
        "outputId": "65f81251-a2bc-4576-bc2a-5cf70ebb57c8"
      },
      "outputs": [
        {
          "output_type": "stream",
          "name": "stdout",
          "text": [
            "Epoch 1/2\n",
            "\u001b[1m363/363\u001b[0m \u001b[32m━━━━━━━━━━━━━━━━━━━━\u001b[0m\u001b[37m\u001b[0m \u001b[1m4s\u001b[0m 4ms/step - loss: 123.5810\n",
            "Epoch 2/2\n",
            "\u001b[1m363/363\u001b[0m \u001b[32m━━━━━━━━━━━━━━━━━━━━\u001b[0m\u001b[37m\u001b[0m \u001b[1m1s\u001b[0m 2ms/step - loss: 1.5416\n",
            "\u001b[1m162/162\u001b[0m \u001b[32m━━━━━━━━━━━━━━━━━━━━\u001b[0m\u001b[37m\u001b[0m \u001b[1m1s\u001b[0m 2ms/step - loss: 1.1639\n"
          ]
        }
      ],
      "source": [
        "# 추가 코드 - 모델을 정상적으로 사용할 수 있음을 보여줍니다.\n",
        "tf.keras.utils.set_random_seed(42)\n",
        "model = ResidualRegressor(1)\n",
        "model.compile(loss=\"mse\", optimizer=\"nadam\")\n",
        "history = model.fit(X_train_scaled, y_train, epochs=2)\n",
        "score = model.evaluate(X_test_scaled, y_test)\n",
        "model.save(\"my_custom_model.keras\")"
      ]
    },
    {
      "cell_type": "code",
      "execution_count": 550,
      "metadata": {
        "colab": {
          "base_uri": "https://localhost:8080/",
          "height": 569
        },
        "id": "vJWP5N0eAxrm",
        "outputId": "5f945874-1db8-4a30-934e-b3d4d911bd3a"
      },
      "outputs": [
        {
          "output_type": "error",
          "ename": "TypeError",
          "evalue": "Could not locate class 'ResidualRegressor'. Make sure custom classes are decorated with `@keras.saving.register_keras_serializable()`. Full object config: {'module': None, 'class_name': 'ResidualRegressor', 'config': {'name': 'residual_regressor_2', 'trainable': True, 'dtype': {'module': 'keras', 'class_name': 'DTypePolicy', 'config': {'name': 'float32'}, 'registered_name': None}}, 'registered_name': 'ResidualRegressor', 'build_config': {'input_shape': [None, 8]}, 'compile_config': {'optimizer': {'module': 'keras.optimizers', 'class_name': 'Nadam', 'config': {'name': 'nadam', 'learning_rate': 0.0010000000474974513, 'weight_decay': None, 'clipnorm': None, 'global_clipnorm': None, 'clipvalue': None, 'use_ema': False, 'ema_momentum': 0.99, 'ema_overwrite_frequency': None, 'loss_scale_factor': None, 'gradient_accumulation_steps': None, 'beta_1': 0.9, 'beta_2': 0.999, 'epsilon': 1e-07}, 'registered_name': None}, 'loss': 'mse', 'loss_weights': None, 'metrics': None, 'weighted_metrics': None, 'run_eagerly': False, 'steps_per_execution': 1, 'jit_compile': True}}",
          "traceback": [
            "\u001b[0;31m---------------------------------------------------------------------------\u001b[0m",
            "\u001b[0;31mTypeError\u001b[0m                                 Traceback (most recent call last)",
            "\u001b[0;32m<ipython-input-550-6a2b3d679d07>\u001b[0m in \u001b[0;36m<cell line: 4>\u001b[0;34m()\u001b[0m\n\u001b[1;32m      2\u001b[0m \u001b[0;32mfrom\u001b[0m \u001b[0mtensorflow\u001b[0m\u001b[0;34m.\u001b[0m\u001b[0mkeras\u001b[0m\u001b[0;34m.\u001b[0m\u001b[0mmodels\u001b[0m \u001b[0;32mimport\u001b[0m \u001b[0mload_model\u001b[0m\u001b[0;34m\u001b[0m\u001b[0;34m\u001b[0m\u001b[0m\n\u001b[1;32m      3\u001b[0m \u001b[0;34m\u001b[0m\u001b[0m\n\u001b[0;32m----> 4\u001b[0;31m \u001b[0mmodel\u001b[0m \u001b[0;34m=\u001b[0m \u001b[0mtf\u001b[0m\u001b[0;34m.\u001b[0m\u001b[0mkeras\u001b[0m\u001b[0;34m.\u001b[0m\u001b[0mmodels\u001b[0m\u001b[0;34m.\u001b[0m\u001b[0mload_model\u001b[0m\u001b[0;34m(\u001b[0m\u001b[0;34m\"my_custom_model.keras\"\u001b[0m\u001b[0;34m)\u001b[0m\u001b[0;34m\u001b[0m\u001b[0;34m\u001b[0m\u001b[0m\n\u001b[0m\u001b[1;32m      5\u001b[0m \u001b[0mhistory\u001b[0m \u001b[0;34m=\u001b[0m \u001b[0mmodel\u001b[0m\u001b[0;34m.\u001b[0m\u001b[0mfit\u001b[0m\u001b[0;34m(\u001b[0m\u001b[0mX_train_scaled\u001b[0m\u001b[0;34m,\u001b[0m \u001b[0my_train\u001b[0m\u001b[0;34m,\u001b[0m \u001b[0mepochs\u001b[0m\u001b[0;34m=\u001b[0m\u001b[0;36m2\u001b[0m\u001b[0;34m)\u001b[0m\u001b[0;34m\u001b[0m\u001b[0;34m\u001b[0m\u001b[0m\n\u001b[1;32m      6\u001b[0m \u001b[0mmodel\u001b[0m\u001b[0;34m.\u001b[0m\u001b[0mpredict\u001b[0m\u001b[0;34m(\u001b[0m\u001b[0mX_test_scaled\u001b[0m\u001b[0;34m[\u001b[0m\u001b[0;34m:\u001b[0m\u001b[0;36m3\u001b[0m\u001b[0;34m]\u001b[0m\u001b[0;34m)\u001b[0m\u001b[0;34m\u001b[0m\u001b[0;34m\u001b[0m\u001b[0m\n",
            "\u001b[0;32m/usr/local/lib/python3.10/dist-packages/keras/src/saving/saving_api.py\u001b[0m in \u001b[0;36mload_model\u001b[0;34m(filepath, custom_objects, compile, safe_mode)\u001b[0m\n\u001b[1;32m    185\u001b[0m \u001b[0;34m\u001b[0m\u001b[0m\n\u001b[1;32m    186\u001b[0m     \u001b[0;32mif\u001b[0m \u001b[0mis_keras_zip\u001b[0m \u001b[0;32mor\u001b[0m \u001b[0mis_keras_dir\u001b[0m\u001b[0;34m:\u001b[0m\u001b[0;34m\u001b[0m\u001b[0;34m\u001b[0m\u001b[0m\n\u001b[0;32m--> 187\u001b[0;31m         return saving_lib.load_model(\n\u001b[0m\u001b[1;32m    188\u001b[0m             \u001b[0mfilepath\u001b[0m\u001b[0;34m,\u001b[0m\u001b[0;34m\u001b[0m\u001b[0;34m\u001b[0m\u001b[0m\n\u001b[1;32m    189\u001b[0m             \u001b[0mcustom_objects\u001b[0m\u001b[0;34m=\u001b[0m\u001b[0mcustom_objects\u001b[0m\u001b[0;34m,\u001b[0m\u001b[0;34m\u001b[0m\u001b[0;34m\u001b[0m\u001b[0m\n",
            "\u001b[0;32m/usr/local/lib/python3.10/dist-packages/keras/src/saving/saving_lib.py\u001b[0m in \u001b[0;36mload_model\u001b[0;34m(filepath, custom_objects, compile, safe_mode)\u001b[0m\n\u001b[1;32m    363\u001b[0m             )\n\u001b[1;32m    364\u001b[0m         \u001b[0;32mwith\u001b[0m \u001b[0mopen\u001b[0m\u001b[0;34m(\u001b[0m\u001b[0mfilepath\u001b[0m\u001b[0;34m,\u001b[0m \u001b[0;34m\"rb\"\u001b[0m\u001b[0;34m)\u001b[0m \u001b[0;32mas\u001b[0m \u001b[0mf\u001b[0m\u001b[0;34m:\u001b[0m\u001b[0;34m\u001b[0m\u001b[0;34m\u001b[0m\u001b[0m\n\u001b[0;32m--> 365\u001b[0;31m             return _load_model_from_fileobj(\n\u001b[0m\u001b[1;32m    366\u001b[0m                 \u001b[0mf\u001b[0m\u001b[0;34m,\u001b[0m \u001b[0mcustom_objects\u001b[0m\u001b[0;34m,\u001b[0m \u001b[0mcompile\u001b[0m\u001b[0;34m,\u001b[0m \u001b[0msafe_mode\u001b[0m\u001b[0;34m\u001b[0m\u001b[0;34m\u001b[0m\u001b[0m\n\u001b[1;32m    367\u001b[0m             )\n",
            "\u001b[0;32m/usr/local/lib/python3.10/dist-packages/keras/src/saving/saving_lib.py\u001b[0m in \u001b[0;36m_load_model_from_fileobj\u001b[0;34m(fileobj, custom_objects, compile, safe_mode)\u001b[0m\n\u001b[1;32m    440\u001b[0m             \u001b[0mconfig_json\u001b[0m \u001b[0;34m=\u001b[0m \u001b[0mf\u001b[0m\u001b[0;34m.\u001b[0m\u001b[0mread\u001b[0m\u001b[0;34m(\u001b[0m\u001b[0;34m)\u001b[0m\u001b[0;34m\u001b[0m\u001b[0;34m\u001b[0m\u001b[0m\n\u001b[1;32m    441\u001b[0m \u001b[0;34m\u001b[0m\u001b[0m\n\u001b[0;32m--> 442\u001b[0;31m         model = _model_from_config(\n\u001b[0m\u001b[1;32m    443\u001b[0m             \u001b[0mconfig_json\u001b[0m\u001b[0;34m,\u001b[0m \u001b[0mcustom_objects\u001b[0m\u001b[0;34m,\u001b[0m \u001b[0mcompile\u001b[0m\u001b[0;34m,\u001b[0m \u001b[0msafe_mode\u001b[0m\u001b[0;34m\u001b[0m\u001b[0;34m\u001b[0m\u001b[0m\n\u001b[1;32m    444\u001b[0m         )\n",
            "\u001b[0;32m/usr/local/lib/python3.10/dist-packages/keras/src/saving/saving_lib.py\u001b[0m in \u001b[0;36m_model_from_config\u001b[0;34m(config_json, custom_objects, compile, safe_mode)\u001b[0m\n\u001b[1;32m    429\u001b[0m     \u001b[0;31m# Construct the model from the configuration file in the archive.\u001b[0m\u001b[0;34m\u001b[0m\u001b[0;34m\u001b[0m\u001b[0m\n\u001b[1;32m    430\u001b[0m     \u001b[0;32mwith\u001b[0m \u001b[0mObjectSharingScope\u001b[0m\u001b[0;34m(\u001b[0m\u001b[0;34m)\u001b[0m\u001b[0;34m:\u001b[0m\u001b[0;34m\u001b[0m\u001b[0;34m\u001b[0m\u001b[0m\n\u001b[0;32m--> 431\u001b[0;31m         model = deserialize_keras_object(\n\u001b[0m\u001b[1;32m    432\u001b[0m             \u001b[0mconfig_dict\u001b[0m\u001b[0;34m,\u001b[0m \u001b[0mcustom_objects\u001b[0m\u001b[0;34m,\u001b[0m \u001b[0msafe_mode\u001b[0m\u001b[0;34m=\u001b[0m\u001b[0msafe_mode\u001b[0m\u001b[0;34m\u001b[0m\u001b[0;34m\u001b[0m\u001b[0m\n\u001b[1;32m    433\u001b[0m         )\n",
            "\u001b[0;32m/usr/local/lib/python3.10/dist-packages/keras/src/saving/serialization_lib.py\u001b[0m in \u001b[0;36mdeserialize_keras_object\u001b[0;34m(config, custom_objects, safe_mode, **kwargs)\u001b[0m\n\u001b[1;32m    692\u001b[0m             \u001b[0;32mreturn\u001b[0m \u001b[0mobj\u001b[0m\u001b[0;34m\u001b[0m\u001b[0;34m\u001b[0m\u001b[0m\n\u001b[1;32m    693\u001b[0m \u001b[0;34m\u001b[0m\u001b[0m\n\u001b[0;32m--> 694\u001b[0;31m     cls = _retrieve_class_or_fn(\n\u001b[0m\u001b[1;32m    695\u001b[0m         \u001b[0mclass_name\u001b[0m\u001b[0;34m,\u001b[0m\u001b[0;34m\u001b[0m\u001b[0;34m\u001b[0m\u001b[0m\n\u001b[1;32m    696\u001b[0m         \u001b[0mregistered_name\u001b[0m\u001b[0;34m,\u001b[0m\u001b[0;34m\u001b[0m\u001b[0;34m\u001b[0m\u001b[0m\n",
            "\u001b[0;32m/usr/local/lib/python3.10/dist-packages/keras/src/saving/serialization_lib.py\u001b[0m in \u001b[0;36m_retrieve_class_or_fn\u001b[0;34m(name, registered_name, module, obj_type, full_config, custom_objects)\u001b[0m\n\u001b[1;32m    810\u001b[0m             \u001b[0;32mreturn\u001b[0m \u001b[0mobj\u001b[0m\u001b[0;34m\u001b[0m\u001b[0;34m\u001b[0m\u001b[0m\n\u001b[1;32m    811\u001b[0m \u001b[0;34m\u001b[0m\u001b[0m\n\u001b[0;32m--> 812\u001b[0;31m     raise TypeError(\n\u001b[0m\u001b[1;32m    813\u001b[0m         \u001b[0;34mf\"Could not locate {obj_type} '{name}'. \"\u001b[0m\u001b[0;34m\u001b[0m\u001b[0;34m\u001b[0m\u001b[0m\n\u001b[1;32m    814\u001b[0m         \u001b[0;34m\"Make sure custom classes are decorated with \"\u001b[0m\u001b[0;34m\u001b[0m\u001b[0;34m\u001b[0m\u001b[0m\n",
            "\u001b[0;31mTypeError\u001b[0m: Could not locate class 'ResidualRegressor'. Make sure custom classes are decorated with `@keras.saving.register_keras_serializable()`. Full object config: {'module': None, 'class_name': 'ResidualRegressor', 'config': {'name': 'residual_regressor_2', 'trainable': True, 'dtype': {'module': 'keras', 'class_name': 'DTypePolicy', 'config': {'name': 'float32'}, 'registered_name': None}}, 'registered_name': 'ResidualRegressor', 'build_config': {'input_shape': [None, 8]}, 'compile_config': {'optimizer': {'module': 'keras.optimizers', 'class_name': 'Nadam', 'config': {'name': 'nadam', 'learning_rate': 0.0010000000474974513, 'weight_decay': None, 'clipnorm': None, 'global_clipnorm': None, 'clipvalue': None, 'use_ema': False, 'ema_momentum': 0.99, 'ema_overwrite_frequency': None, 'loss_scale_factor': None, 'gradient_accumulation_steps': None, 'beta_1': 0.9, 'beta_2': 0.999, 'epsilon': 1e-07}, 'registered_name': None}, 'loss': 'mse', 'loss_weights': None, 'metrics': None, 'weighted_metrics': None, 'run_eagerly': False, 'steps_per_execution': 1, 'jit_compile': True}}"
          ]
        }
      ],
      "source": [
        "# 추가 코드 - 모델을 로드하고 훈련을 계속하거나 이를 사용하여 예측을 수행할 수 있습니다.\n",
        "from tensorflow.keras.models import load_model\n",
        "\n",
        "model = tf.keras.models.load_model(\"my_custom_model.keras\")\n",
        "history = model.fit(X_train_scaled, y_train, epochs=2)\n",
        "model.predict(X_test_scaled[:3])"
      ]
    },
    {
      "cell_type": "markdown",
      "metadata": {
        "id": "ftCLc4maAxrm"
      },
      "source": [
        "대신 시퀀셜 API를 사용하여 모델을 정의할 수도 있습니다:"
      ]
    },
    {
      "cell_type": "code",
      "execution_count": 551,
      "metadata": {
        "id": "g7DwZgzgAxrm"
      },
      "outputs": [],
      "source": [
        "tf.keras.utils.set_random_seed(42)\n",
        "block1 = ResidualBlock(2, 30)\n",
        "model = tf.keras.Sequential([\n",
        "    tf.keras.layers.Dense(30, activation=\"relu\",\n",
        "                          kernel_initializer=\"he_normal\"),\n",
        "    block1, block1, block1, block1,\n",
        "    ResidualBlock(2, 30),\n",
        "    tf.keras.layers.Dense(1)\n",
        "])"
      ]
    },
    {
      "cell_type": "markdown",
      "metadata": {
        "id": "dtgyQ107Axrm"
      },
      "source": [
        "## 모델 구성 요소에 기반한 손실과 지표"
      ]
    },
    {
      "cell_type": "markdown",
      "metadata": {
        "id": "e4xJVV_hAxrm"
      },
      "source": [
        "**경고**: TF 2.2의 문제([#46858](https://github.com/tensorflow/tensorflow/issues/46858))로 인해 `super().build()`가 실패합니다. 대신 `self.built = True`를 설정하여 이 문제를 해결할 수 있습니다."
      ]
    },
    {
      "cell_type": "code",
      "execution_count": 553,
      "metadata": {
        "id": "hw5LlKwGAxrm"
      },
      "outputs": [],
      "source": [
        "class ReconstructingRegressor(tf.keras.Model):\n",
        "    def __init__(self, output_dim, **kwargs):\n",
        "        super().__init__(**kwargs)\n",
        "        self.hidden = [tf.keras.layers.Dense(30, activation=\"relu\",\n",
        "                                             kernel_initializer=\"he_normal\")\n",
        "                       for _ in range(5)]\n",
        "        self.out = tf.keras.layers.Dense(output_dim)\n",
        "        self.reconstruction_mean = tf.keras.metrics.Mean(\n",
        "            name=\"reconstruction_error\")\n",
        "\n",
        "    def build(self, batch_input_shape):\n",
        "        n_inputs = batch_input_shape[-1]\n",
        "        self.reconstruct = tf.keras.layers.Dense(n_inputs)\n",
        "        self.built = True  # super().build(batch_input_shape)에 대한 해결 방법\n",
        "\n",
        "    def call(self, inputs, training=None):\n",
        "        Z = inputs\n",
        "        for layer in self.hidden:\n",
        "            Z = layer(Z)\n",
        "        reconstruction = self.reconstruct(Z)\n",
        "        recon_loss = tf.reduce_mean(tf.square(reconstruction - inputs))\n",
        "        self.add_loss(0.05 * recon_loss)\n",
        "        if training:\n",
        "            result = self.reconstruction_mean(recon_loss)\n",
        "            self.add_metric(result)\n",
        "        return self.out(Z)"
      ]
    },
    {
      "cell_type": "code",
      "execution_count": 557,
      "metadata": {
        "colab": {
          "base_uri": "https://localhost:8080/",
          "height": 460
        },
        "id": "oVJF57b8Axrn",
        "outputId": "cdb1cf63-c4ee-487c-aeb4-54e729ac8862"
      },
      "outputs": [
        {
          "output_type": "stream",
          "name": "stdout",
          "text": [
            "Epoch 1/5\n"
          ]
        },
        {
          "output_type": "error",
          "ename": "NotImplementedError",
          "evalue": "Exception encountered when calling ReconstructingRegressor.call().\n\n\u001b[1mLayer `add_metric()` method is deprecated add your metric in `Model.compile(metrics=[...]).`\u001b[0m\n\nArguments received by ReconstructingRegressor.call():\n  • inputs=tf.Tensor(shape=(None, 8), dtype=float32)\n  • training=True",
          "traceback": [
            "\u001b[0;31m---------------------------------------------------------------------------\u001b[0m",
            "\u001b[0;31mNotImplementedError\u001b[0m                       Traceback (most recent call last)",
            "\u001b[0;32m<ipython-input-557-ec689efddc0e>\u001b[0m in \u001b[0;36m<cell line: 5>\u001b[0;34m()\u001b[0m\n\u001b[1;32m      3\u001b[0m \u001b[0mmodel\u001b[0m \u001b[0;34m=\u001b[0m \u001b[0mReconstructingRegressor\u001b[0m\u001b[0;34m(\u001b[0m\u001b[0;36m1\u001b[0m\u001b[0;34m)\u001b[0m\u001b[0;34m\u001b[0m\u001b[0;34m\u001b[0m\u001b[0m\n\u001b[1;32m      4\u001b[0m \u001b[0mmodel\u001b[0m\u001b[0;34m.\u001b[0m\u001b[0mcompile\u001b[0m\u001b[0;34m(\u001b[0m\u001b[0mloss\u001b[0m\u001b[0;34m=\u001b[0m\u001b[0;34m\"mse\"\u001b[0m\u001b[0;34m,\u001b[0m \u001b[0moptimizer\u001b[0m\u001b[0;34m=\u001b[0m\u001b[0;34m\"nadam\"\u001b[0m\u001b[0;34m)\u001b[0m\u001b[0;34m\u001b[0m\u001b[0;34m\u001b[0m\u001b[0m\n\u001b[0;32m----> 5\u001b[0;31m \u001b[0mhistory\u001b[0m \u001b[0;34m=\u001b[0m \u001b[0mmodel\u001b[0m\u001b[0;34m.\u001b[0m\u001b[0mfit\u001b[0m\u001b[0;34m(\u001b[0m\u001b[0mX_train_scaled\u001b[0m\u001b[0;34m,\u001b[0m \u001b[0my_train\u001b[0m\u001b[0;34m,\u001b[0m \u001b[0mepochs\u001b[0m\u001b[0;34m=\u001b[0m\u001b[0;36m5\u001b[0m\u001b[0;34m)\u001b[0m\u001b[0;34m\u001b[0m\u001b[0;34m\u001b[0m\u001b[0m\n\u001b[0m\u001b[1;32m      6\u001b[0m \u001b[0my_pred\u001b[0m \u001b[0;34m=\u001b[0m \u001b[0mmodel\u001b[0m\u001b[0;34m.\u001b[0m\u001b[0mpredict\u001b[0m\u001b[0;34m(\u001b[0m\u001b[0mX_test_scaled\u001b[0m\u001b[0;34m)\u001b[0m\u001b[0;34m\u001b[0m\u001b[0;34m\u001b[0m\u001b[0m\n",
            "\u001b[0;32m/usr/local/lib/python3.10/dist-packages/keras/src/utils/traceback_utils.py\u001b[0m in \u001b[0;36merror_handler\u001b[0;34m(*args, **kwargs)\u001b[0m\n\u001b[1;32m    120\u001b[0m             \u001b[0;31m# To get the full stack trace, call:\u001b[0m\u001b[0;34m\u001b[0m\u001b[0;34m\u001b[0m\u001b[0m\n\u001b[1;32m    121\u001b[0m             \u001b[0;31m# `keras.config.disable_traceback_filtering()`\u001b[0m\u001b[0;34m\u001b[0m\u001b[0;34m\u001b[0m\u001b[0m\n\u001b[0;32m--> 122\u001b[0;31m             \u001b[0;32mraise\u001b[0m \u001b[0me\u001b[0m\u001b[0;34m.\u001b[0m\u001b[0mwith_traceback\u001b[0m\u001b[0;34m(\u001b[0m\u001b[0mfiltered_tb\u001b[0m\u001b[0;34m)\u001b[0m \u001b[0;32mfrom\u001b[0m \u001b[0;32mNone\u001b[0m\u001b[0;34m\u001b[0m\u001b[0;34m\u001b[0m\u001b[0m\n\u001b[0m\u001b[1;32m    123\u001b[0m         \u001b[0;32mfinally\u001b[0m\u001b[0;34m:\u001b[0m\u001b[0;34m\u001b[0m\u001b[0;34m\u001b[0m\u001b[0m\n\u001b[1;32m    124\u001b[0m             \u001b[0;32mdel\u001b[0m \u001b[0mfiltered_tb\u001b[0m\u001b[0;34m\u001b[0m\u001b[0;34m\u001b[0m\u001b[0m\n",
            "\u001b[0;32m<ipython-input-553-8c47accb1ecc>\u001b[0m in \u001b[0;36mcall\u001b[0;34m(self, inputs, training)\u001b[0m\n\u001b[1;32m     23\u001b[0m         \u001b[0;32mif\u001b[0m \u001b[0mtraining\u001b[0m\u001b[0;34m:\u001b[0m\u001b[0;34m\u001b[0m\u001b[0;34m\u001b[0m\u001b[0m\n\u001b[1;32m     24\u001b[0m             \u001b[0mresult\u001b[0m \u001b[0;34m=\u001b[0m \u001b[0mself\u001b[0m\u001b[0;34m.\u001b[0m\u001b[0mreconstruction_mean\u001b[0m\u001b[0;34m(\u001b[0m\u001b[0mrecon_loss\u001b[0m\u001b[0;34m)\u001b[0m\u001b[0;34m\u001b[0m\u001b[0;34m\u001b[0m\u001b[0m\n\u001b[0;32m---> 25\u001b[0;31m             \u001b[0mself\u001b[0m\u001b[0;34m.\u001b[0m\u001b[0madd_metric\u001b[0m\u001b[0;34m(\u001b[0m\u001b[0mresult\u001b[0m\u001b[0;34m)\u001b[0m\u001b[0;34m\u001b[0m\u001b[0;34m\u001b[0m\u001b[0m\n\u001b[0m\u001b[1;32m     26\u001b[0m         \u001b[0;32mreturn\u001b[0m \u001b[0mself\u001b[0m\u001b[0;34m.\u001b[0m\u001b[0mout\u001b[0m\u001b[0;34m(\u001b[0m\u001b[0mZ\u001b[0m\u001b[0;34m)\u001b[0m\u001b[0;34m\u001b[0m\u001b[0;34m\u001b[0m\u001b[0m\n",
            "\u001b[0;31mNotImplementedError\u001b[0m: Exception encountered when calling ReconstructingRegressor.call().\n\n\u001b[1mLayer `add_metric()` method is deprecated add your metric in `Model.compile(metrics=[...]).`\u001b[0m\n\nArguments received by ReconstructingRegressor.call():\n  • inputs=tf.Tensor(shape=(None, 8), dtype=float32)\n  • training=True"
          ]
        }
      ],
      "source": [
        "# 추가 코드\n",
        "tf.keras.utils.set_random_seed(42)\n",
        "model = ReconstructingRegressor(1)\n",
        "model.compile(loss=\"mse\", optimizer=\"nadam\")\n",
        "history = model.fit(X_train_scaled, y_train, epochs=5)\n",
        "y_pred = model.predict(X_test_scaled)"
      ]
    },
    {
      "cell_type": "markdown",
      "metadata": {
        "id": "gP9ugK0OAxrn"
      },
      "source": [
        "## 자동 미분을 사용해 그레이디언트 계산하기"
      ]
    },
    {
      "cell_type": "code",
      "execution_count": 559,
      "metadata": {
        "id": "E0es0JCqAxrn"
      },
      "outputs": [],
      "source": [
        "def f(w1, w2):\n",
        "    return 3 * w1 ** 2 + 2 * w1 * w2"
      ]
    },
    {
      "cell_type": "code",
      "execution_count": 560,
      "metadata": {
        "colab": {
          "base_uri": "https://localhost:8080/"
        },
        "id": "UWAjkQuUAxrn",
        "outputId": "0a05ea56-7780-4c09-f212-8c4f8ae84cdf"
      },
      "outputs": [
        {
          "output_type": "execute_result",
          "data": {
            "text/plain": [
              "36.000003007075065"
            ]
          },
          "metadata": {},
          "execution_count": 560
        }
      ],
      "source": [
        "w1, w2 = 5, 3\n",
        "eps = 1e-6\n",
        "(f(w1 + eps, w2) - f(w1, w2)) / eps"
      ]
    },
    {
      "cell_type": "code",
      "execution_count": 561,
      "metadata": {
        "colab": {
          "base_uri": "https://localhost:8080/"
        },
        "id": "lj0wtEByAxrn",
        "outputId": "07b5cfbf-ebcc-4397-c177-e14f50c673a7"
      },
      "outputs": [
        {
          "output_type": "execute_result",
          "data": {
            "text/plain": [
              "10.000000003174137"
            ]
          },
          "metadata": {},
          "execution_count": 561
        }
      ],
      "source": [
        "(f(w1, w2 + eps) - f(w1, w2)) / eps"
      ]
    },
    {
      "cell_type": "code",
      "execution_count": 562,
      "metadata": {
        "id": "-ByM5o2uAxrn"
      },
      "outputs": [],
      "source": [
        "w1, w2 = tf.Variable(5.), tf.Variable(3.)\n",
        "with tf.GradientTape() as tape:\n",
        "    z = f(w1, w2)\n",
        "\n",
        "gradients = tape.gradient(z, [w1, w2])"
      ]
    },
    {
      "cell_type": "code",
      "execution_count": 563,
      "metadata": {
        "colab": {
          "base_uri": "https://localhost:8080/"
        },
        "id": "CnXg-CRNAxrn",
        "outputId": "f55dfe91-1fdd-47fb-d320-22789b090a8b"
      },
      "outputs": [
        {
          "output_type": "execute_result",
          "data": {
            "text/plain": [
              "[<tf.Tensor: shape=(), dtype=float32, numpy=36.0>,\n",
              " <tf.Tensor: shape=(), dtype=float32, numpy=10.0>]"
            ]
          },
          "metadata": {},
          "execution_count": 563
        }
      ],
      "source": [
        "gradients"
      ]
    },
    {
      "cell_type": "code",
      "execution_count": 564,
      "metadata": {
        "colab": {
          "base_uri": "https://localhost:8080/"
        },
        "id": "3u9cxDqiAxrn",
        "outputId": "77fa3fe5-8ae4-4d13-9342-a5700e1a6dbd"
      },
      "outputs": [
        {
          "output_type": "stream",
          "name": "stdout",
          "text": [
            "A non-persistent GradientTape can only be used to compute one set of gradients (or jacobians)\n"
          ]
        }
      ],
      "source": [
        "with tf.GradientTape() as tape:\n",
        "    z = f(w1, w2)\n",
        "\n",
        "dz_dw1 = tape.gradient(z, w1)  # 텐서 36.0를 반환합니다.\n",
        "try:\n",
        "    dz_dw2 = tape.gradient(z, w2)  # RuntimeError가 발생합니다!\n",
        "except RuntimeError as ex:\n",
        "    print(ex)"
      ]
    },
    {
      "cell_type": "code",
      "execution_count": 565,
      "metadata": {
        "id": "7ZnWfZUGAxrn"
      },
      "outputs": [],
      "source": [
        "with tf.GradientTape(persistent=True) as tape:\n",
        "    z = f(w1, w2)\n",
        "\n",
        "dz_dw1 = tape.gradient(z, w1)  # 텐서 36.0를 반환합니다.\n",
        "dz_dw2 = tape.gradient(z, w2)  # 텐서 10.0을 반환하고 이제 정상적으로 작동합니다!\n",
        "del tape"
      ]
    },
    {
      "cell_type": "code",
      "execution_count": 566,
      "metadata": {
        "colab": {
          "base_uri": "https://localhost:8080/"
        },
        "id": "pGo4P-XXAxrn",
        "outputId": "d1679b7a-ce65-42cf-e371-b3f28de56134"
      },
      "outputs": [
        {
          "output_type": "execute_result",
          "data": {
            "text/plain": [
              "(<tf.Tensor: shape=(), dtype=float32, numpy=36.0>,\n",
              " <tf.Tensor: shape=(), dtype=float32, numpy=10.0>)"
            ]
          },
          "metadata": {},
          "execution_count": 566
        }
      ],
      "source": [
        "dz_dw1, dz_dw2"
      ]
    },
    {
      "cell_type": "code",
      "execution_count": 567,
      "metadata": {
        "id": "6miw3KASAxrn"
      },
      "outputs": [],
      "source": [
        "c1, c2 = tf.constant(5.), tf.constant(3.)\n",
        "with tf.GradientTape() as tape:\n",
        "    z = f(c1, c2)\n",
        "\n",
        "gradients = tape.gradient(z, [c1, c2])"
      ]
    },
    {
      "cell_type": "code",
      "execution_count": 568,
      "metadata": {
        "colab": {
          "base_uri": "https://localhost:8080/"
        },
        "id": "0ecoqYDZAxrn",
        "outputId": "13859b3a-f845-451a-f30e-75ded9e443f6"
      },
      "outputs": [
        {
          "output_type": "execute_result",
          "data": {
            "text/plain": [
              "[None, None]"
            ]
          },
          "metadata": {},
          "execution_count": 568
        }
      ],
      "source": [
        "gradients"
      ]
    },
    {
      "cell_type": "code",
      "execution_count": 569,
      "metadata": {
        "id": "d1W-u8IvAxro"
      },
      "outputs": [],
      "source": [
        "with tf.GradientTape() as tape:\n",
        "    tape.watch(c1)\n",
        "    tape.watch(c2)\n",
        "    z = f(c1, c2)\n",
        "\n",
        "gradients = tape.gradient(z, [c1, c2])"
      ]
    },
    {
      "cell_type": "code",
      "execution_count": 570,
      "metadata": {
        "colab": {
          "base_uri": "https://localhost:8080/"
        },
        "id": "I3vK-4zvAxro",
        "outputId": "7e3c3478-d26a-4c70-c4b6-1f55810c6157"
      },
      "outputs": [
        {
          "output_type": "execute_result",
          "data": {
            "text/plain": [
              "[<tf.Tensor: shape=(), dtype=float32, numpy=36.0>,\n",
              " <tf.Tensor: shape=(), dtype=float32, numpy=10.0>]"
            ]
          },
          "metadata": {},
          "execution_count": 570
        }
      ],
      "source": [
        "gradients"
      ]
    },
    {
      "cell_type": "code",
      "execution_count": 571,
      "metadata": {
        "colab": {
          "base_uri": "https://localhost:8080/"
        },
        "id": "mzqVAdkIAxro",
        "outputId": "57298d2b-b100-46f7-be1f-c94da2bb583e"
      },
      "outputs": [
        {
          "output_type": "execute_result",
          "data": {
            "text/plain": [
              "[<tf.Tensor: shape=(), dtype=float32, numpy=136.0>,\n",
              " <tf.Tensor: shape=(), dtype=float32, numpy=30.0>]"
            ]
          },
          "metadata": {},
          "execution_count": 571
        }
      ],
      "source": [
        "# 추가 코드 - 벡터가 주어지면 tape.gradient()를 사용해 벡터의 합의 그레이디언트을 계산합니다.\n",
        "with tf.GradientTape() as tape:\n",
        "    z1 = f(w1, w2 + 2.)\n",
        "    z2 = f(w1, w2 + 5.)\n",
        "    z3 = f(w1, w2 + 7.)\n",
        "\n",
        "tape.gradient([z1, z2, z3], [w1, w2])"
      ]
    },
    {
      "cell_type": "code",
      "execution_count": 572,
      "metadata": {
        "colab": {
          "base_uri": "https://localhost:8080/"
        },
        "id": "7MhsExJNAxro",
        "outputId": "eea4eef7-70d3-41fb-e6e8-35b8fa678b5c"
      },
      "outputs": [
        {
          "output_type": "execute_result",
          "data": {
            "text/plain": [
              "[<tf.Tensor: shape=(), dtype=float32, numpy=136.0>,\n",
              " <tf.Tensor: shape=(), dtype=float32, numpy=30.0>]"
            ]
          },
          "metadata": {},
          "execution_count": 572
        }
      ],
      "source": [
        "# 추가 코드 - 이전 셀과 동일한 결과를 얻었음을 보여줍니다.\n",
        "with tf.GradientTape() as tape:\n",
        "    z1 = f(w1, w2 + 2.)\n",
        "    z2 = f(w1, w2 + 5.)\n",
        "    z3 = f(w1, w2 + 7.)\n",
        "    z = z1 + z2 + z3\n",
        "\n",
        "tape.gradient(z, [w1, w2])"
      ]
    },
    {
      "cell_type": "code",
      "execution_count": 573,
      "metadata": {
        "id": "tkA4n1OJAxro"
      },
      "outputs": [],
      "source": [
        "# 추가 코드 - 야코비안과 헤시안을 계산하는 방법을 보여줍니다.\n",
        "with tf.GradientTape(persistent=True) as hessian_tape:\n",
        "    with tf.GradientTape() as jacobian_tape:\n",
        "        z = f(w1, w2)\n",
        "    jacobians = jacobian_tape.gradient(z, [w1, w2])\n",
        "hessians = [hessian_tape.gradient(jacobian, [w1, w2])\n",
        "            for jacobian in jacobians]\n",
        "del hessian_tape"
      ]
    },
    {
      "cell_type": "code",
      "execution_count": 574,
      "metadata": {
        "colab": {
          "base_uri": "https://localhost:8080/"
        },
        "id": "N4BFsV00Axro",
        "outputId": "426b3c75-510c-47e6-fab6-e821097a32c2"
      },
      "outputs": [
        {
          "output_type": "execute_result",
          "data": {
            "text/plain": [
              "[<tf.Tensor: shape=(), dtype=float32, numpy=36.0>,\n",
              " <tf.Tensor: shape=(), dtype=float32, numpy=10.0>]"
            ]
          },
          "metadata": {},
          "execution_count": 574
        }
      ],
      "source": [
        "jacobians"
      ]
    },
    {
      "cell_type": "code",
      "execution_count": 575,
      "metadata": {
        "colab": {
          "base_uri": "https://localhost:8080/"
        },
        "id": "1YXKHV9kAxro",
        "outputId": "1ef58395-38e1-46a4-d6e7-6fbad53a3732"
      },
      "outputs": [
        {
          "output_type": "execute_result",
          "data": {
            "text/plain": [
              "[[<tf.Tensor: shape=(), dtype=float32, numpy=6.0>,\n",
              "  <tf.Tensor: shape=(), dtype=float32, numpy=2.0>],\n",
              " [<tf.Tensor: shape=(), dtype=float32, numpy=2.0>, None]]"
            ]
          },
          "metadata": {},
          "execution_count": 575
        }
      ],
      "source": [
        "hessians"
      ]
    },
    {
      "cell_type": "code",
      "execution_count": 576,
      "metadata": {
        "id": "nT-SMLBDAxro"
      },
      "outputs": [],
      "source": [
        "def f(w1, w2):\n",
        "    return 3 * w1 ** 2 + tf.stop_gradient(2 * w1 * w2)\n",
        "\n",
        "with tf.GradientTape() as tape:\n",
        "    z = f(w1, w2)  # stop_gradient()를 사용하지 않은 경우와 동일한 결과\n",
        "\n",
        "gradients = tape.gradient(z, [w1, w2])"
      ]
    },
    {
      "cell_type": "code",
      "execution_count": 577,
      "metadata": {
        "colab": {
          "base_uri": "https://localhost:8080/"
        },
        "id": "Aq8qy9puAxro",
        "outputId": "4de224ea-9c65-4db6-94c3-804f26ea3dd4"
      },
      "outputs": [
        {
          "output_type": "execute_result",
          "data": {
            "text/plain": [
              "[<tf.Tensor: shape=(), dtype=float32, numpy=30.0>, None]"
            ]
          },
          "metadata": {},
          "execution_count": 577
        }
      ],
      "source": [
        "gradients"
      ]
    },
    {
      "cell_type": "code",
      "execution_count": 578,
      "metadata": {
        "colab": {
          "base_uri": "https://localhost:8080/"
        },
        "id": "fI4KbdJBAxro",
        "outputId": "259490dc-d313-42d4-9b57-cbac8048418e"
      },
      "outputs": [
        {
          "output_type": "execute_result",
          "data": {
            "text/plain": [
              "[<tf.Tensor: shape=(), dtype=float32, numpy=inf>]"
            ]
          },
          "metadata": {},
          "execution_count": 578
        }
      ],
      "source": [
        "x = tf.Variable(1e-50)\n",
        "with tf.GradientTape() as tape:\n",
        "    z = tf.sqrt(x)\n",
        "\n",
        "tape.gradient(z, [x])"
      ]
    },
    {
      "cell_type": "code",
      "execution_count": 579,
      "metadata": {
        "colab": {
          "base_uri": "https://localhost:8080/"
        },
        "id": "ISzNiEoOAxro",
        "outputId": "abc4eee4-5726-4e5e-8233-5f0c7164b06a"
      },
      "outputs": [
        {
          "output_type": "execute_result",
          "data": {
            "text/plain": [
              "<tf.Tensor: shape=(), dtype=float32, numpy=30.0>"
            ]
          },
          "metadata": {},
          "execution_count": 579
        }
      ],
      "source": [
        "tf.math.log(tf.exp(tf.constant(30., dtype=tf.float32)) + 1.)"
      ]
    },
    {
      "cell_type": "code",
      "execution_count": 580,
      "metadata": {
        "colab": {
          "base_uri": "https://localhost:8080/"
        },
        "id": "qhjNdoqlAxrp",
        "outputId": "98d300f1-ec13-40c2-e633-aa0a73687529"
      },
      "outputs": [
        {
          "output_type": "execute_result",
          "data": {
            "text/plain": [
              "[<tf.Tensor: shape=(1,), dtype=float32, numpy=array([nan], dtype=float32)>]"
            ]
          },
          "metadata": {},
          "execution_count": 580
        }
      ],
      "source": [
        "x = tf.Variable([1.0e30])\n",
        "with tf.GradientTape() as tape:\n",
        "    z = my_softplus(x)\n",
        "\n",
        "tape.gradient(z, [x])"
      ]
    },
    {
      "cell_type": "code",
      "execution_count": 581,
      "metadata": {
        "id": "EX9a8h0EAxrp"
      },
      "outputs": [],
      "source": [
        "def my_softplus(z):\n",
        "    return tf.math.log(1 + tf.exp(-tf.abs(z))) + tf.maximum(0., z)"
      ]
    },
    {
      "cell_type": "markdown",
      "metadata": {
        "id": "rzYK3EMAAxrp"
      },
      "source": [
        "다음은 이 방정식이 log(1 + exp(_z_))와 같다는 것을 증명하는 예입니다:\n",
        "* softplus(_z_) = log(1 + exp(_z_))\n",
        "* softplus(_z_) = log(1 + exp(_z_)) - log(exp(_z_)) + log(exp(_z_)) ; **같은 값을 더하고 뺍니다**\n",
        "* softplus(_z_) = log\\[(1 + exp(_z_)) / exp(_z_)\\] + log(exp(_z_)) ; **since log(_a_) - log(_b_) = log(_a_ / _b_)**\n",
        "* softplus(_z_) = log\\[(1 + exp(_z_)) / exp(_z_)\\] + _z_ ; **since log(exp(_z_)) = _z_**\n",
        "* softplus(_z_) = log\\[1 / exp(_z_) + exp(_z_) / exp(_z_)\\] + _z_ ; **since (1 + _a_) / _b_ = 1 / _b_ + _a_ / _b_**\n",
        "* softplus(_z_) = log\\[exp(–_z_) + 1\\] + _z_ ; **1 / exp(_z_) = exp(–z)이고 exp(_z_) / exp(_z_) = 1 이므로**\n",
        "* softplus(_z_) = softplus(–_z_) + _z_ ; **맨 위의 정의를 사용합니다. 다만 –_z_ 입니다**\n",
        "* softplus(_z_) = softplus(–|_z_|) + max(0, _z_) ; **_z_ < 0 나 _z_ ≥ 0 인 경우를 고려하면**"
      ]
    },
    {
      "cell_type": "code",
      "execution_count": 582,
      "metadata": {
        "id": "xDkt0wV5Axrp"
      },
      "outputs": [],
      "source": [
        "@tf.custom_gradient\n",
        "def my_softplus(z):\n",
        "    def my_softplus_gradients(grads):  # grads = 상위 층에서 역전파된 그레이디언트\n",
        "        return grads * (1 - 1 / (1 + tf.exp(z)))  # 안정적인 소프트플러스 그레이디언트\n",
        "\n",
        "    result = tf.math.log(1 + tf.exp(-tf.abs(z))) + tf.maximum(0., z)\n",
        "    return result, my_softplus_gradients"
      ]
    },
    {
      "cell_type": "code",
      "execution_count": 583,
      "metadata": {
        "colab": {
          "base_uri": "https://localhost:8080/"
        },
        "id": "HX9qyqsrAxrp",
        "outputId": "bb9bfd43-8c42-40fc-b499-80609708271d"
      },
      "outputs": [
        {
          "output_type": "execute_result",
          "data": {
            "text/plain": [
              "(<tf.Tensor: shape=(1,), dtype=float32, numpy=array([1000.], dtype=float32)>,\n",
              " [<tf.Tensor: shape=(1,), dtype=float32, numpy=array([1.], dtype=float32)>])"
            ]
          },
          "metadata": {},
          "execution_count": 583
        }
      ],
      "source": [
        "# 추가 코드 - 함수와 이 함수의 그레이디언트가 안정적임을 보여줍니다.\n",
        "x = tf.Variable([1000.])\n",
        "with tf.GradientTape() as tape:\n",
        "    z = my_softplus(x)\n",
        "\n",
        "z, tape.gradient(z, [x])"
      ]
    },
    {
      "cell_type": "markdown",
      "metadata": {
        "id": "lAS7G_AdAxrp"
      },
      "source": [
        "## 사용자 정의 훈련"
      ]
    },
    {
      "cell_type": "code",
      "execution_count": 584,
      "metadata": {
        "id": "ANc8FNOXAxrp"
      },
      "outputs": [],
      "source": [
        "tf.keras.utils.set_random_seed(42)  # 추가 코드 - 재현성 보장\n",
        "l2_reg = tf.keras.regularizers.l2(0.05)\n",
        "model = tf.keras.models.Sequential([\n",
        "    tf.keras.layers.Dense(30, activation=\"relu\", kernel_initializer=\"he_normal\",\n",
        "                          kernel_regularizer=l2_reg),\n",
        "    tf.keras.layers.Dense(1, kernel_regularizer=l2_reg)\n",
        "])"
      ]
    },
    {
      "cell_type": "code",
      "execution_count": 585,
      "metadata": {
        "id": "_zmZ0EA9Axrp"
      },
      "outputs": [],
      "source": [
        "def random_batch(X, y, batch_size=32):\n",
        "    idx = np.random.randint(len(X), size=batch_size)\n",
        "    return X[idx], y[idx]"
      ]
    },
    {
      "cell_type": "code",
      "execution_count": 586,
      "metadata": {
        "id": "tWl1XI8dAxrp"
      },
      "outputs": [],
      "source": [
        "def print_status_bar(step, total, loss, metrics=None):\n",
        "    metrics = \" - \".join([f\"{m.name}: {m.result():.4f}\"\n",
        "                          for m in [loss] + (metrics or [])])\n",
        "    end = \"\" if step < total else \"\\n\"\n",
        "    print(f\"\\r{step}/{total} - \" + metrics, end=end)"
      ]
    },
    {
      "cell_type": "code",
      "execution_count": 587,
      "metadata": {
        "id": "ki9ew4DnAxrp"
      },
      "outputs": [],
      "source": [
        "tf.keras.utils.set_random_seed(42)"
      ]
    },
    {
      "cell_type": "code",
      "execution_count": 588,
      "metadata": {
        "id": "mR-EpV9IAxrp",
        "outputId": "5d51abbf-1659-442e-ee49-094fff38708c",
        "colab": {
          "base_uri": "https://localhost:8080/",
          "height": 219
        }
      },
      "outputs": [
        {
          "output_type": "error",
          "ename": "AttributeError",
          "evalue": "module 'keras._tf_keras.keras.losses' has no attribute 'mean_squared_error'",
          "traceback": [
            "\u001b[0;31m---------------------------------------------------------------------------\u001b[0m",
            "\u001b[0;31mAttributeError\u001b[0m                            Traceback (most recent call last)",
            "\u001b[0;32m<ipython-input-588-b013ec31d0ec>\u001b[0m in \u001b[0;36m<cell line: 5>\u001b[0;34m()\u001b[0m\n\u001b[1;32m      3\u001b[0m \u001b[0mn_steps\u001b[0m \u001b[0;34m=\u001b[0m \u001b[0mlen\u001b[0m\u001b[0;34m(\u001b[0m\u001b[0mX_train\u001b[0m\u001b[0;34m)\u001b[0m \u001b[0;34m//\u001b[0m \u001b[0mbatch_size\u001b[0m\u001b[0;34m\u001b[0m\u001b[0;34m\u001b[0m\u001b[0m\n\u001b[1;32m      4\u001b[0m \u001b[0moptimizer\u001b[0m \u001b[0;34m=\u001b[0m \u001b[0mtf\u001b[0m\u001b[0;34m.\u001b[0m\u001b[0mkeras\u001b[0m\u001b[0;34m.\u001b[0m\u001b[0moptimizers\u001b[0m\u001b[0;34m.\u001b[0m\u001b[0mSGD\u001b[0m\u001b[0;34m(\u001b[0m\u001b[0mlearning_rate\u001b[0m\u001b[0;34m=\u001b[0m\u001b[0;36m0.01\u001b[0m\u001b[0;34m)\u001b[0m\u001b[0;34m\u001b[0m\u001b[0;34m\u001b[0m\u001b[0m\n\u001b[0;32m----> 5\u001b[0;31m \u001b[0mloss_fn\u001b[0m \u001b[0;34m=\u001b[0m \u001b[0mtf\u001b[0m\u001b[0;34m.\u001b[0m\u001b[0mkeras\u001b[0m\u001b[0;34m.\u001b[0m\u001b[0mlosses\u001b[0m\u001b[0;34m.\u001b[0m\u001b[0mmean_squared_error\u001b[0m\u001b[0;34m\u001b[0m\u001b[0;34m\u001b[0m\u001b[0m\n\u001b[0m\u001b[1;32m      6\u001b[0m \u001b[0mmean_loss\u001b[0m \u001b[0;34m=\u001b[0m \u001b[0mtf\u001b[0m\u001b[0;34m.\u001b[0m\u001b[0mkeras\u001b[0m\u001b[0;34m.\u001b[0m\u001b[0mmetrics\u001b[0m\u001b[0;34m.\u001b[0m\u001b[0mMean\u001b[0m\u001b[0;34m(\u001b[0m\u001b[0;34m)\u001b[0m\u001b[0;34m\u001b[0m\u001b[0;34m\u001b[0m\u001b[0m\n\u001b[1;32m      7\u001b[0m \u001b[0mmetrics\u001b[0m \u001b[0;34m=\u001b[0m \u001b[0;34m[\u001b[0m\u001b[0mtf\u001b[0m\u001b[0;34m.\u001b[0m\u001b[0mkeras\u001b[0m\u001b[0;34m.\u001b[0m\u001b[0mmetrics\u001b[0m\u001b[0;34m.\u001b[0m\u001b[0mMeanAbsoluteError\u001b[0m\u001b[0;34m(\u001b[0m\u001b[0;34m)\u001b[0m\u001b[0;34m]\u001b[0m\u001b[0;34m\u001b[0m\u001b[0;34m\u001b[0m\u001b[0m\n",
            "\u001b[0;31mAttributeError\u001b[0m: module 'keras._tf_keras.keras.losses' has no attribute 'mean_squared_error'"
          ]
        }
      ],
      "source": [
        "n_epochs = 5\n",
        "batch_size = 32\n",
        "n_steps = len(X_train) // batch_size\n",
        "optimizer = tf.keras.optimizers.SGD(learning_rate=0.01)\n",
        "loss_fn = tf.keras.losses.mean_squared_error\n",
        "mean_loss = tf.keras.metrics.Mean()\n",
        "metrics = [tf.keras.metrics.MeanAbsoluteError()]"
      ]
    },
    {
      "cell_type": "code",
      "execution_count": 589,
      "metadata": {
        "colab": {
          "base_uri": "https://localhost:8080/",
          "height": 219
        },
        "id": "gIAbJpB-Axrp",
        "outputId": "98742a5e-31b0-4500-d466-1a80c9f1891a",
        "scrolled": true
      },
      "outputs": [
        {
          "output_type": "stream",
          "name": "stdout",
          "text": [
            "Epoch 1/5\n",
            "362/362 - mean: nan - sparse_categorical_accuracy: 0.6785\n"
          ]
        },
        {
          "output_type": "error",
          "ename": "AttributeError",
          "evalue": "'Mean' object has no attribute 'reset_states'",
          "traceback": [
            "\u001b[0;31m---------------------------------------------------------------------------\u001b[0m",
            "\u001b[0;31mAttributeError\u001b[0m                            Traceback (most recent call last)",
            "\u001b[0;32m<ipython-input-589-a58383369020>\u001b[0m in \u001b[0;36m<cell line: 1>\u001b[0;34m()\u001b[0m\n\u001b[1;32m     23\u001b[0m \u001b[0;34m\u001b[0m\u001b[0m\n\u001b[1;32m     24\u001b[0m     \u001b[0;32mfor\u001b[0m \u001b[0mmetric\u001b[0m \u001b[0;32min\u001b[0m \u001b[0;34m[\u001b[0m\u001b[0mmean_loss\u001b[0m\u001b[0;34m]\u001b[0m \u001b[0;34m+\u001b[0m \u001b[0mmetrics\u001b[0m\u001b[0;34m:\u001b[0m\u001b[0;34m\u001b[0m\u001b[0;34m\u001b[0m\u001b[0m\n\u001b[0;32m---> 25\u001b[0;31m         \u001b[0mmetric\u001b[0m\u001b[0;34m.\u001b[0m\u001b[0mreset_states\u001b[0m\u001b[0;34m(\u001b[0m\u001b[0;34m)\u001b[0m\u001b[0;34m\u001b[0m\u001b[0;34m\u001b[0m\u001b[0m\n\u001b[0m",
            "\u001b[0;31mAttributeError\u001b[0m: 'Mean' object has no attribute 'reset_states'"
          ]
        }
      ],
      "source": [
        "for epoch in range(1, n_epochs + 1):\n",
        "    print(f\"Epoch {epoch}/{n_epochs}\")\n",
        "    for step in range(1, n_steps + 1):\n",
        "        X_batch, y_batch = random_batch(X_train_scaled, y_train)\n",
        "        with tf.GradientTape() as tape:\n",
        "            y_pred = model(X_batch, training=True)\n",
        "            main_loss = tf.reduce_mean(loss_fn(y_batch, y_pred))\n",
        "            loss = tf.add_n([main_loss] + model.losses)\n",
        "\n",
        "        gradients = tape.gradient(loss, model.trainable_variables)\n",
        "        optimizer.apply_gradients(zip(gradients, model.trainable_variables))\n",
        "\n",
        "        # 추가 코드 - 모델 변수에 제약이 있는 경우\n",
        "        for variable in model.variables:\n",
        "            if variable.constraint is not None:\n",
        "                variable.assign(variable.constraint(variable))\n",
        "\n",
        "        mean_loss(loss)\n",
        "        for metric in metrics:\n",
        "            metric(y_batch, y_pred)\n",
        "\n",
        "        print_status_bar(step, n_steps, mean_loss, metrics)\n",
        "\n",
        "    for metric in [mean_loss] + metrics:\n",
        "        metric.reset_states()"
      ]
    },
    {
      "cell_type": "code",
      "execution_count": null,
      "metadata": {
        "colab": {
          "base_uri": "https://localhost:8080/",
          "height": 209,
          "referenced_widgets": [
            "e593a5241b8d44ed99f448bd431da411",
            "8806ef0fc0c748379a3d56146690b5a2",
            "84a8e9a8661c4779af4dfe3a445a3576",
            "429658200e424f519d88f2e165f7effc",
            "eb71a955064a4c64adf96b629a0ae381",
            "ff54289fba384597848d41674bd53909",
            "e98258ef2daf4b5cb3defa802b95a8f2",
            "ea88e562b283474db0d66c5e8da78e7a",
            "cdc5517881d34975a4ddc499fbd087f7",
            "3a6ae70475ed437cbb643c1048deb00e",
            "b46c44164ffd442185efcea730834f91",
            "f7b2267996574d8986e80c295059bb42",
            "44bccc54092448f99db0566aeb69333d",
            "85dcf484389449929746aa13df982cd1",
            "d54bc5fd12174a7db88eba2c78a0c388",
            "140936ae0ded4165839188989accf0fd",
            "773171184d944860af9335f2ac80ad31",
            "0e2af8454c774354b5e01e4c28d427e2",
            "2bea8139a1644646b1c85e79009afd86",
            "6800c0c05ec54f3caf65888f07a5c6c9",
            "9e62b2b6b4a9482790b281e90147bea7",
            "2e3f1a346844471fb3fab643d6188e26",
            "eaf498e6f7a644d3bfa1d044256067ef",
            "6ae85a4465be4d3f8ad73d047071afd0",
            "02dbebc64fc143fdbaac11688c756529",
            "1bdc5c3357344011b4928ed49ec54c73",
            "17f7097a864a4ff5ab710968ca6f237a",
            "5f9ddae8700a4c26bc0a3c87f15bf590",
            "dea6bb2491e24ab19aef6a26df91e03c",
            "fbac2871c02a4736a4cde808ba031d82",
            "a281e30af9bc435fa6c5d7e7117717d7",
            "89ae1ad5288c4568b10843e09b1a4e19",
            "0765fd15d29f4cb199e4ba2052dc1380",
            "0940d99b57c04f0bab5140980362fcbc",
            "12355cd4f2ce420a8204f1517013a49b",
            "5f1907a04d6f416591d6dfbb8a5c2034",
            "93e0e6fe8a3d4dec9ba4454bfab155e2",
            "91dbeacf3278411e9bf3d0205fa0fd67",
            "ab8aa6b5bafc4789b42f68a7f6b79bc9",
            "ad492c643ab24f1cbbc25dd31f313b50",
            "d1ff579fe62a43a0a27202f53d705c1f",
            "5ae6523218c5402cb84d21cfe559b6e2",
            "8eb343a19b5441d9be04cb8813067880",
            "25e3c54988894854989b216354f1eaae",
            "3a78ba5865d447f68a274e4c73a3a8d4",
            "b05cd9e9b3b64a66b9c406cfd51953e7",
            "f0f2f5bc89cb4d1f98ba694fe1525a9d",
            "55034ab0f57649ee9c7f230a098ea174",
            "42648b1e10dd4ef5be1f09d9b8b1d3d3",
            "64cae0ba53de4ee8b12dfeb1a4bd13fe",
            "1c92ffd2d2044f2889e3d295ca4d2400",
            "5fb7a86014af45a994654bc5d44757be",
            "c4805b48675b4004be8f766176336399",
            "62792003e83240e585f81e5d068e6b6f",
            "68159a1057bf4bd19143b60a15c2ed64",
            "9dc7451db5274a9b822c612b531f2b92",
            "d6afb5651cf54d14bd0b3462470999b9",
            "d4ad7b7008eb4f4b829b76f6e92d8d88",
            "228bfa3e9a714d899fa087dd9f528b03",
            "c26625f17c094e1aac4587a441f10c17",
            "798bd66f76244413aa7fad4be1a5580f",
            "0a96edbe20144016be1776bbed4c0384",
            "c24a35d73f0e4cfd9a10cf5fe8ad7aad",
            "ff290b8f6aeb4d5dafa010459dadb0a2",
            "c171b8b4dd8943ddbb129ef53266bb3f",
            "3e1dbf3276b644888f5414c64dfb1539"
          ]
        },
        "id": "bsXR8eRhAxrq",
        "outputId": "7b1f64ce-1cfe-489f-de2f-7bef492edc74"
      },
      "outputs": [
        {
          "output_type": "display_data",
          "data": {
            "text/plain": [
              "All epochs:   0%|          | 0/5 [00:00<?, ?it/s]"
            ],
            "application/vnd.jupyter.widget-view+json": {
              "version_major": 2,
              "version_minor": 0,
              "model_id": "e593a5241b8d44ed99f448bd431da411"
            }
          },
          "metadata": {}
        },
        {
          "output_type": "display_data",
          "data": {
            "text/plain": [
              "Epoch 1/5:   0%|          | 0/362 [00:00<?, ?it/s]"
            ],
            "application/vnd.jupyter.widget-view+json": {
              "version_major": 2,
              "version_minor": 0,
              "model_id": "f7b2267996574d8986e80c295059bb42"
            }
          },
          "metadata": {}
        },
        {
          "output_type": "display_data",
          "data": {
            "text/plain": [
              "Epoch 2/5:   0%|          | 0/362 [00:00<?, ?it/s]"
            ],
            "application/vnd.jupyter.widget-view+json": {
              "version_major": 2,
              "version_minor": 0,
              "model_id": "eaf498e6f7a644d3bfa1d044256067ef"
            }
          },
          "metadata": {}
        },
        {
          "output_type": "display_data",
          "data": {
            "text/plain": [
              "Epoch 3/5:   0%|          | 0/362 [00:00<?, ?it/s]"
            ],
            "application/vnd.jupyter.widget-view+json": {
              "version_major": 2,
              "version_minor": 0,
              "model_id": "0940d99b57c04f0bab5140980362fcbc"
            }
          },
          "metadata": {}
        },
        {
          "output_type": "display_data",
          "data": {
            "text/plain": [
              "Epoch 4/5:   0%|          | 0/362 [00:00<?, ?it/s]"
            ],
            "application/vnd.jupyter.widget-view+json": {
              "version_major": 2,
              "version_minor": 0,
              "model_id": "3a78ba5865d447f68a274e4c73a3a8d4"
            }
          },
          "metadata": {}
        },
        {
          "output_type": "display_data",
          "data": {
            "text/plain": [
              "Epoch 5/5:   0%|          | 0/362 [00:00<?, ?it/s]"
            ],
            "application/vnd.jupyter.widget-view+json": {
              "version_major": 2,
              "version_minor": 0,
              "model_id": "9dc7451db5274a9b822c612b531f2b92"
            }
          },
          "metadata": {}
        }
      ],
      "source": [
        "# 추가 코드 - tqdm 패키지를 사용하여 멋진 진행률 표시줄을 표시하는 방법을 보여줍니다.\n",
        "\n",
        "from tqdm.notebook import trange\n",
        "from collections import OrderedDict\n",
        "with trange(1, n_epochs + 1, desc=\"All epochs\") as epochs:\n",
        "    for epoch in epochs:\n",
        "        with trange(1, n_steps + 1, desc=f\"Epoch {epoch}/{n_epochs}\") as steps:\n",
        "            for step in steps:\n",
        "                X_batch, y_batch = random_batch(X_train_scaled, y_train)\n",
        "                with tf.GradientTape() as tape:\n",
        "                    y_pred = model(X_batch)\n",
        "                    main_loss = tf.reduce_mean(loss_fn(y_batch, y_pred))\n",
        "                    loss = tf.add_n([main_loss] + model.losses)\n",
        "\n",
        "                gradients = tape.gradient(loss, model.trainable_variables)\n",
        "                optimizer.apply_gradients(zip(gradients, model.trainable_variables))\n",
        "\n",
        "                for variable in model.variables:\n",
        "                    if variable.constraint is not None:\n",
        "                        variable.assign(variable.constraint(variable))\n",
        "\n",
        "                status = OrderedDict()\n",
        "                mean_loss(loss)\n",
        "                status[\"loss\"] = mean_loss.result().numpy()\n",
        "                for metric in metrics:\n",
        "                    metric(y_batch, y_pred)\n",
        "                    status[metric.name] = metric.result().numpy()\n",
        "\n",
        "                steps.set_postfix(status)\n",
        "\n",
        "        for metric in [mean_loss] + metrics:\n",
        "            metric.reset_states()"
      ]
    },
    {
      "cell_type": "markdown",
      "metadata": {
        "id": "nufrN7ggAxrq"
      },
      "source": [
        "## 텐서플로 함수"
      ]
    },
    {
      "cell_type": "code",
      "execution_count": null,
      "metadata": {
        "id": "00O0nYkAAxrq"
      },
      "outputs": [],
      "source": [
        "def cube(x):\n",
        "    return x ** 3"
      ]
    },
    {
      "cell_type": "code",
      "execution_count": null,
      "metadata": {
        "colab": {
          "base_uri": "https://localhost:8080/"
        },
        "id": "uEg23hqxAxrq",
        "outputId": "677a0c20-dbdb-4aea-e99d-6be98f6e67a6"
      },
      "outputs": [
        {
          "output_type": "execute_result",
          "data": {
            "text/plain": [
              "8"
            ]
          },
          "metadata": {},
          "execution_count": 179
        }
      ],
      "source": [
        "cube(2)"
      ]
    },
    {
      "cell_type": "code",
      "execution_count": null,
      "metadata": {
        "colab": {
          "base_uri": "https://localhost:8080/"
        },
        "id": "lrj1qhFyAxrq",
        "outputId": "49d5eca0-5f27-4f1d-f781-ab5b15d49e74"
      },
      "outputs": [
        {
          "output_type": "execute_result",
          "data": {
            "text/plain": [
              "<tf.Tensor: shape=(), dtype=float32, numpy=8.0>"
            ]
          },
          "metadata": {},
          "execution_count": 180
        }
      ],
      "source": [
        "cube(tf.constant(2.0))"
      ]
    },
    {
      "cell_type": "code",
      "execution_count": null,
      "metadata": {
        "colab": {
          "base_uri": "https://localhost:8080/"
        },
        "id": "guBTABFmAxrq",
        "outputId": "b64f55ea-dde2-4bc7-de89-f46ba32f0b12"
      },
      "outputs": [
        {
          "output_type": "execute_result",
          "data": {
            "text/plain": [
              "<tensorflow.python.eager.polymorphic_function.polymorphic_function.Function at 0x7cf0b0c69b40>"
            ]
          },
          "metadata": {},
          "execution_count": 181
        }
      ],
      "source": [
        "tf_cube = tf.function(cube)\n",
        "tf_cube"
      ]
    },
    {
      "cell_type": "code",
      "execution_count": null,
      "metadata": {
        "colab": {
          "base_uri": "https://localhost:8080/"
        },
        "id": "IfvIk4gFAxrq",
        "outputId": "37bb7264-b900-4c74-d365-1a12c63cbaae"
      },
      "outputs": [
        {
          "output_type": "execute_result",
          "data": {
            "text/plain": [
              "<tf.Tensor: shape=(), dtype=int32, numpy=8>"
            ]
          },
          "metadata": {},
          "execution_count": 182
        }
      ],
      "source": [
        "tf_cube(2)"
      ]
    },
    {
      "cell_type": "code",
      "execution_count": null,
      "metadata": {
        "colab": {
          "base_uri": "https://localhost:8080/"
        },
        "id": "zFa3QVFYAxrq",
        "outputId": "148b38c8-9f91-457a-9406-cd441d2af5c5"
      },
      "outputs": [
        {
          "output_type": "execute_result",
          "data": {
            "text/plain": [
              "<tf.Tensor: shape=(), dtype=float32, numpy=8.0>"
            ]
          },
          "metadata": {},
          "execution_count": 183
        }
      ],
      "source": [
        "tf_cube(tf.constant(2.0))"
      ]
    },
    {
      "cell_type": "code",
      "execution_count": null,
      "metadata": {
        "id": "IWMZGSPEAxrq"
      },
      "outputs": [],
      "source": [
        "@tf.function\n",
        "def tf_cube(x):\n",
        "    return x ** 3"
      ]
    },
    {
      "cell_type": "markdown",
      "metadata": {
        "id": "GyTfJbwrAxrq"
      },
      "source": [
        "**노트:** 이 섹션의 나머지 코드는 부록 D의 내용입니다."
      ]
    },
    {
      "cell_type": "markdown",
      "metadata": {
        "id": "-ksujIMzAxrr"
      },
      "source": [
        "### TF 함수와 콘크리트 함수"
      ]
    },
    {
      "cell_type": "code",
      "execution_count": null,
      "metadata": {
        "colab": {
          "base_uri": "https://localhost:8080/"
        },
        "id": "ejIT2i2pAxrr",
        "outputId": "9579445a-749e-43fa-bd5f-37b3528331d5"
      },
      "outputs": [
        {
          "output_type": "execute_result",
          "data": {
            "text/plain": [
              "<ConcreteFunction (x: TensorSpec(shape=(), dtype=tf.float32, name=None)) -> TensorSpec(shape=(), dtype=tf.float32, name=None) at 0x7CF0AEEF2710>"
            ]
          },
          "metadata": {},
          "execution_count": 185
        }
      ],
      "source": [
        "concrete_function = tf_cube.get_concrete_function(tf.constant(2.0))\n",
        "concrete_function"
      ]
    },
    {
      "cell_type": "code",
      "execution_count": null,
      "metadata": {
        "colab": {
          "base_uri": "https://localhost:8080/"
        },
        "id": "fTl77eYAAxrr",
        "outputId": "0314e191-b8d0-40b9-c4dd-39ed87f5e625"
      },
      "outputs": [
        {
          "output_type": "execute_result",
          "data": {
            "text/plain": [
              "<tf.Tensor: shape=(), dtype=float32, numpy=8.0>"
            ]
          },
          "metadata": {},
          "execution_count": 186
        }
      ],
      "source": [
        "concrete_function(tf.constant(2.0))"
      ]
    },
    {
      "cell_type": "code",
      "execution_count": null,
      "metadata": {
        "colab": {
          "base_uri": "https://localhost:8080/"
        },
        "id": "pb0a8LkdAxrr",
        "outputId": "a1f011d1-6742-4dbb-c4b1-a3eef04b63b1"
      },
      "outputs": [
        {
          "output_type": "execute_result",
          "data": {
            "text/plain": [
              "True"
            ]
          },
          "metadata": {},
          "execution_count": 187
        }
      ],
      "source": [
        "concrete_function is tf_cube.get_concrete_function(tf.constant(2.0))"
      ]
    },
    {
      "cell_type": "markdown",
      "metadata": {
        "id": "iJH3KGaPAxrr"
      },
      "source": [
        "### 함수 정의와 그래프 탐험하기"
      ]
    },
    {
      "cell_type": "code",
      "execution_count": null,
      "metadata": {
        "colab": {
          "base_uri": "https://localhost:8080/"
        },
        "id": "EPPO52zAAxrr",
        "outputId": "cfa6c340-7285-4ce4-ccb7-10d02ade6b8d"
      },
      "outputs": [
        {
          "output_type": "execute_result",
          "data": {
            "text/plain": [
              "<tensorflow.python.framework.func_graph.FuncGraph at 0x7cf0aef0db40>"
            ]
          },
          "metadata": {},
          "execution_count": 188
        }
      ],
      "source": [
        "concrete_function.graph"
      ]
    },
    {
      "cell_type": "code",
      "execution_count": null,
      "metadata": {
        "colab": {
          "base_uri": "https://localhost:8080/"
        },
        "id": "rRyMNm6ZAxrr",
        "outputId": "8d57dc29-892e-4951-a3de-fdd52b9a6c42"
      },
      "outputs": [
        {
          "output_type": "execute_result",
          "data": {
            "text/plain": [
              "[<tf.Operation 'x' type=Placeholder>,\n",
              " <tf.Operation 'pow/y' type=Const>,\n",
              " <tf.Operation 'pow' type=Pow>,\n",
              " <tf.Operation 'Identity' type=Identity>]"
            ]
          },
          "metadata": {},
          "execution_count": 189
        }
      ],
      "source": [
        "ops = concrete_function.graph.get_operations()\n",
        "ops"
      ]
    },
    {
      "cell_type": "code",
      "execution_count": null,
      "metadata": {
        "colab": {
          "base_uri": "https://localhost:8080/"
        },
        "id": "wghSPcJuAxrr",
        "outputId": "fed3107c-3d1e-46dd-88de-3c9e6119ea3b"
      },
      "outputs": [
        {
          "output_type": "execute_result",
          "data": {
            "text/plain": [
              "[<tf.Tensor 'x:0' shape=() dtype=float32>,\n",
              " <tf.Tensor 'pow/y:0' shape=() dtype=float32>]"
            ]
          },
          "metadata": {},
          "execution_count": 190
        }
      ],
      "source": [
        "pow_op = ops[2]\n",
        "list(pow_op.inputs)"
      ]
    },
    {
      "cell_type": "code",
      "execution_count": null,
      "metadata": {
        "colab": {
          "base_uri": "https://localhost:8080/"
        },
        "id": "8CAcuouzAxrr",
        "outputId": "2a0dc461-25e1-45be-d266-a05090f4fa77"
      },
      "outputs": [
        {
          "output_type": "execute_result",
          "data": {
            "text/plain": [
              "[<tf.Tensor 'pow:0' shape=() dtype=float32>]"
            ]
          },
          "metadata": {},
          "execution_count": 191
        }
      ],
      "source": [
        "pow_op.outputs"
      ]
    },
    {
      "cell_type": "code",
      "execution_count": null,
      "metadata": {
        "colab": {
          "base_uri": "https://localhost:8080/"
        },
        "id": "ki6l6QlIAxrr",
        "outputId": "264921ed-0eb5-4240-846b-18b1f311924e"
      },
      "outputs": [
        {
          "output_type": "execute_result",
          "data": {
            "text/plain": [
              "<tf.Operation 'x' type=Placeholder>"
            ]
          },
          "metadata": {},
          "execution_count": 192
        }
      ],
      "source": [
        "concrete_function.graph.get_operation_by_name('x')"
      ]
    },
    {
      "cell_type": "code",
      "execution_count": null,
      "metadata": {
        "colab": {
          "base_uri": "https://localhost:8080/"
        },
        "id": "LJe6V79wAxrr",
        "outputId": "798bb353-576f-4a1f-bdf1-455433fd3660"
      },
      "outputs": [
        {
          "output_type": "execute_result",
          "data": {
            "text/plain": [
              "<tf.Tensor 'Identity:0' shape=() dtype=float32>"
            ]
          },
          "metadata": {},
          "execution_count": 193
        }
      ],
      "source": [
        "concrete_function.graph.get_tensor_by_name('Identity:0')"
      ]
    },
    {
      "cell_type": "code",
      "execution_count": null,
      "metadata": {
        "colab": {
          "base_uri": "https://localhost:8080/"
        },
        "id": "eMau0rWJAxrr",
        "outputId": "ec2b4ed5-40c8-4106-e62c-24054ac8c013"
      },
      "outputs": [
        {
          "output_type": "execute_result",
          "data": {
            "text/plain": [
              "name: \"__inference_tf_cube_470259\"\n",
              "input_arg {\n",
              "  name: \"x\"\n",
              "  type: DT_FLOAT\n",
              "}\n",
              "output_arg {\n",
              "  name: \"identity\"\n",
              "  type: DT_FLOAT\n",
              "}"
            ]
          },
          "metadata": {},
          "execution_count": 194
        }
      ],
      "source": [
        "concrete_function.function_def.signature"
      ]
    },
    {
      "cell_type": "markdown",
      "metadata": {
        "id": "m3YK9ebhAxrs"
      },
      "source": [
        "### TF 함수가 파이썬 함수를 트레이싱하여 계산 그래프를 추출하는 방법"
      ]
    },
    {
      "cell_type": "code",
      "execution_count": null,
      "metadata": {
        "id": "aQ2EBGBOAxrs"
      },
      "outputs": [],
      "source": [
        "@tf.function\n",
        "def tf_cube(x):\n",
        "    print(f\"x = {x}\")\n",
        "    return x ** 3"
      ]
    },
    {
      "cell_type": "code",
      "execution_count": null,
      "metadata": {
        "colab": {
          "base_uri": "https://localhost:8080/"
        },
        "id": "yqAJdSL-Axrs",
        "outputId": "2e529b41-f4af-468e-9707-4a7c5a07a54a"
      },
      "outputs": [
        {
          "output_type": "stream",
          "name": "stdout",
          "text": [
            "x = Tensor(\"x:0\", shape=(), dtype=float32)\n"
          ]
        }
      ],
      "source": [
        "result = tf_cube(tf.constant(2.0))"
      ]
    },
    {
      "cell_type": "code",
      "execution_count": null,
      "metadata": {
        "colab": {
          "base_uri": "https://localhost:8080/"
        },
        "id": "rHNroERdAxrs",
        "outputId": "3b165a2c-4200-43a2-d3b0-44a90146b1ee"
      },
      "outputs": [
        {
          "output_type": "execute_result",
          "data": {
            "text/plain": [
              "<tf.Tensor: shape=(), dtype=float32, numpy=8.0>"
            ]
          },
          "metadata": {},
          "execution_count": 197
        }
      ],
      "source": [
        "result"
      ]
    },
    {
      "cell_type": "code",
      "execution_count": null,
      "metadata": {
        "colab": {
          "base_uri": "https://localhost:8080/"
        },
        "id": "Du-arMTdAxrs",
        "outputId": "49fd0426-ee3e-40be-b2f9-74b890228c52"
      },
      "outputs": [
        {
          "output_type": "stream",
          "name": "stdout",
          "text": [
            "x = 2\n"
          ]
        }
      ],
      "source": [
        "result = tf_cube(2)"
      ]
    },
    {
      "cell_type": "code",
      "execution_count": null,
      "metadata": {
        "colab": {
          "base_uri": "https://localhost:8080/"
        },
        "id": "-0FJXsF2Axrs",
        "outputId": "e4779542-bc1b-400f-869c-fed85343b2f9"
      },
      "outputs": [
        {
          "output_type": "stream",
          "name": "stdout",
          "text": [
            "x = 3\n"
          ]
        }
      ],
      "source": [
        "result = tf_cube(3)"
      ]
    },
    {
      "cell_type": "code",
      "execution_count": null,
      "metadata": {
        "colab": {
          "base_uri": "https://localhost:8080/"
        },
        "id": "EQiq6YLJAxrs",
        "outputId": "7e0b1d72-82c4-4f9b-fa0b-50351fcdfd41"
      },
      "outputs": [
        {
          "output_type": "stream",
          "name": "stdout",
          "text": [
            "x = Tensor(\"x:0\", shape=(1, 2), dtype=float32)\n"
          ]
        }
      ],
      "source": [
        "result = tf_cube(tf.constant([[1., 2.]]))  # 새로운 크기: 트레이싱!"
      ]
    },
    {
      "cell_type": "code",
      "execution_count": null,
      "metadata": {
        "colab": {
          "base_uri": "https://localhost:8080/"
        },
        "id": "J6Wec1VzAxrs",
        "outputId": "bd886584-6841-42c7-b7d6-98e0c37ace20"
      },
      "outputs": [
        {
          "output_type": "stream",
          "name": "stderr",
          "text": [
            "WARNING:tensorflow:5 out of the last 5 calls to <function tf_cube at 0x7cf0aef0f400> triggered tf.function retracing. Tracing is expensive and the excessive number of tracings could be due to (1) creating @tf.function repeatedly in a loop, (2) passing tensors with different shapes, (3) passing Python objects instead of tensors. For (1), please define your @tf.function outside of the loop. For (2), @tf.function has reduce_retracing=True option that can avoid unnecessary retracing. For (3), please refer to https://www.tensorflow.org/guide/function#controlling_retracing and https://www.tensorflow.org/api_docs/python/tf/function for  more details.\n"
          ]
        },
        {
          "output_type": "stream",
          "name": "stdout",
          "text": [
            "x = Tensor(\"x:0\", shape=(2, 2), dtype=float32)\n"
          ]
        }
      ],
      "source": [
        "result = tf_cube(tf.constant([[3., 4.], [5., 6.]]))  # 새로운 크기: 트레이싱!"
      ]
    },
    {
      "cell_type": "code",
      "execution_count": null,
      "metadata": {
        "id": "giQiBq6CAxrs"
      },
      "outputs": [],
      "source": [
        "result = tf_cube(tf.constant([[7., 8.], [9., 10.]]))  # 같은 크기: 트레이싱 없음"
      ]
    },
    {
      "cell_type": "markdown",
      "metadata": {
        "id": "5CIVAatSAxrs"
      },
      "source": [
        "It is also possible to specify a particular input signature:"
      ]
    },
    {
      "cell_type": "code",
      "execution_count": null,
      "metadata": {
        "id": "XK8U-vrNAxrs"
      },
      "outputs": [],
      "source": [
        "@tf.function(input_signature=[tf.TensorSpec([None, 28, 28], tf.float32)])\n",
        "def shrink(images):\n",
        "    print(\"Tracing\", images)  # 트레이싱을 출력하는 추가 코드\n",
        "    return images[:, ::2, ::2] # 행과 열의 절반을 삭제합니다."
      ]
    },
    {
      "cell_type": "code",
      "execution_count": null,
      "metadata": {
        "id": "TXOCIeVhAxrt"
      },
      "outputs": [],
      "source": [
        "tf.keras.utils.set_random_seed(42)"
      ]
    },
    {
      "cell_type": "code",
      "execution_count": null,
      "metadata": {
        "colab": {
          "base_uri": "https://localhost:8080/"
        },
        "id": "MBjUObyWAxrt",
        "outputId": "fb1f2d75-7a7d-480f-8331-e138cd2605bf"
      },
      "outputs": [
        {
          "output_type": "stream",
          "name": "stdout",
          "text": [
            "Tracing Tensor(\"images:0\", shape=(None, 28, 28), dtype=float32)\n"
          ]
        }
      ],
      "source": [
        "img_batch_1 = tf.random.uniform(shape=[100, 28, 28])\n",
        "img_batch_2 = tf.random.uniform(shape=[50, 28, 28])\n",
        "preprocessed_images = shrink(img_batch_1)  # 정상 작동, 함수 트레이싱\n",
        "preprocessed_images = shrink(img_batch_2)  # 정상 작동, 동일한 콘크리트 함수"
      ]
    },
    {
      "cell_type": "code",
      "execution_count": null,
      "metadata": {
        "colab": {
          "base_uri": "https://localhost:8080/",
          "height": 507
        },
        "id": "ootcVC_nAxrt",
        "outputId": "3c09613a-20a0-4b7b-d5d2-08093136cda8"
      },
      "outputs": [
        {
          "output_type": "error",
          "ename": "TypeError",
          "evalue": "Binding inputs to tf.function failed due to `Can not cast TensorSpec(shape=(2, 2, 2), dtype=tf.float32, name=None) to TensorSpec(shape=(None, 28, 28), dtype=tf.float32, name=None)`. Received args: (<tf.Tensor: shape=(2, 2, 2), dtype=float32, numpy=\narray([[[0.7413678 , 0.62854624],\n        [0.01738465, 0.3431449 ]],\n\n       [[0.51063764, 0.3777541 ],\n        [0.07321596, 0.02137029]]], dtype=float32)>,) and kwargs: {} for signature: (images: TensorSpec(shape=(None, 28, 28), dtype=tf.float32, name=None)).",
          "traceback": [
            "\u001b[0;31m---------------------------------------------------------------------------\u001b[0m",
            "\u001b[0;31mTypeError\u001b[0m                                 Traceback (most recent call last)",
            "\u001b[0;32m<ipython-input-206-493374f3af0d>\u001b[0m in \u001b[0;36m<cell line: 2>\u001b[0;34m()\u001b[0m\n\u001b[1;32m      1\u001b[0m \u001b[0mimg_batch_3\u001b[0m \u001b[0;34m=\u001b[0m \u001b[0mtf\u001b[0m\u001b[0;34m.\u001b[0m\u001b[0mrandom\u001b[0m\u001b[0;34m.\u001b[0m\u001b[0muniform\u001b[0m\u001b[0;34m(\u001b[0m\u001b[0mshape\u001b[0m\u001b[0;34m=\u001b[0m\u001b[0;34m[\u001b[0m\u001b[0;36m2\u001b[0m\u001b[0;34m,\u001b[0m \u001b[0;36m2\u001b[0m\u001b[0;34m,\u001b[0m \u001b[0;36m2\u001b[0m\u001b[0;34m]\u001b[0m\u001b[0;34m)\u001b[0m\u001b[0;34m\u001b[0m\u001b[0;34m\u001b[0m\u001b[0m\n\u001b[1;32m      2\u001b[0m \u001b[0;32mtry\u001b[0m\u001b[0;34m:\u001b[0m\u001b[0;34m\u001b[0m\u001b[0;34m\u001b[0m\u001b[0m\n\u001b[0;32m----> 3\u001b[0;31m     \u001b[0mpreprocessed_images\u001b[0m \u001b[0;34m=\u001b[0m \u001b[0mshrink\u001b[0m\u001b[0;34m(\u001b[0m\u001b[0mimg_batch_3\u001b[0m\u001b[0;34m)\u001b[0m  \u001b[0;31m# ValueError! 호환되지 않는 입력\u001b[0m\u001b[0;34m\u001b[0m\u001b[0;34m\u001b[0m\u001b[0m\n\u001b[0m\u001b[1;32m      4\u001b[0m \u001b[0;32mexcept\u001b[0m \u001b[0mValueError\u001b[0m \u001b[0;32mas\u001b[0m \u001b[0mex\u001b[0m\u001b[0;34m:\u001b[0m\u001b[0;34m\u001b[0m\u001b[0;34m\u001b[0m\u001b[0m\n\u001b[1;32m      5\u001b[0m     \u001b[0mprint\u001b[0m\u001b[0;34m(\u001b[0m\u001b[0mex\u001b[0m\u001b[0;34m)\u001b[0m\u001b[0;34m\u001b[0m\u001b[0;34m\u001b[0m\u001b[0m\n",
            "\u001b[0;32m/usr/local/lib/python3.10/dist-packages/tensorflow/python/util/traceback_utils.py\u001b[0m in \u001b[0;36merror_handler\u001b[0;34m(*args, **kwargs)\u001b[0m\n\u001b[1;32m    151\u001b[0m     \u001b[0;32mexcept\u001b[0m \u001b[0mException\u001b[0m \u001b[0;32mas\u001b[0m \u001b[0me\u001b[0m\u001b[0;34m:\u001b[0m\u001b[0;34m\u001b[0m\u001b[0;34m\u001b[0m\u001b[0m\n\u001b[1;32m    152\u001b[0m       \u001b[0mfiltered_tb\u001b[0m \u001b[0;34m=\u001b[0m \u001b[0m_process_traceback_frames\u001b[0m\u001b[0;34m(\u001b[0m\u001b[0me\u001b[0m\u001b[0;34m.\u001b[0m\u001b[0m__traceback__\u001b[0m\u001b[0;34m)\u001b[0m\u001b[0;34m\u001b[0m\u001b[0;34m\u001b[0m\u001b[0m\n\u001b[0;32m--> 153\u001b[0;31m       \u001b[0;32mraise\u001b[0m \u001b[0me\u001b[0m\u001b[0;34m.\u001b[0m\u001b[0mwith_traceback\u001b[0m\u001b[0;34m(\u001b[0m\u001b[0mfiltered_tb\u001b[0m\u001b[0;34m)\u001b[0m \u001b[0;32mfrom\u001b[0m \u001b[0;32mNone\u001b[0m\u001b[0;34m\u001b[0m\u001b[0;34m\u001b[0m\u001b[0m\n\u001b[0m\u001b[1;32m    154\u001b[0m     \u001b[0;32mfinally\u001b[0m\u001b[0;34m:\u001b[0m\u001b[0;34m\u001b[0m\u001b[0;34m\u001b[0m\u001b[0m\n\u001b[1;32m    155\u001b[0m       \u001b[0;32mdel\u001b[0m \u001b[0mfiltered_tb\u001b[0m\u001b[0;34m\u001b[0m\u001b[0;34m\u001b[0m\u001b[0m\n",
            "\u001b[0;32m/usr/local/lib/python3.10/dist-packages/tensorflow/python/eager/polymorphic_function/function_type_utils.py\u001b[0m in \u001b[0;36mbind_function_inputs\u001b[0;34m(args, kwargs, function_type, default_values)\u001b[0m\n\u001b[1;32m    444\u001b[0m     )\n\u001b[1;32m    445\u001b[0m   \u001b[0;32mexcept\u001b[0m \u001b[0mException\u001b[0m \u001b[0;32mas\u001b[0m \u001b[0me\u001b[0m\u001b[0;34m:\u001b[0m\u001b[0;34m\u001b[0m\u001b[0;34m\u001b[0m\u001b[0m\n\u001b[0;32m--> 446\u001b[0;31m     raise TypeError(\n\u001b[0m\u001b[1;32m    447\u001b[0m         \u001b[0;34mf\"Binding inputs to tf.function failed due to `{e}`. \"\u001b[0m\u001b[0;34m\u001b[0m\u001b[0;34m\u001b[0m\u001b[0m\n\u001b[1;32m    448\u001b[0m         \u001b[0;34mf\"Received args: {args} and kwargs: {sanitized_kwargs} for signature:\"\u001b[0m\u001b[0;34m\u001b[0m\u001b[0;34m\u001b[0m\u001b[0m\n",
            "\u001b[0;31mTypeError\u001b[0m: Binding inputs to tf.function failed due to `Can not cast TensorSpec(shape=(2, 2, 2), dtype=tf.float32, name=None) to TensorSpec(shape=(None, 28, 28), dtype=tf.float32, name=None)`. Received args: (<tf.Tensor: shape=(2, 2, 2), dtype=float32, numpy=\narray([[[0.7413678 , 0.62854624],\n        [0.01738465, 0.3431449 ]],\n\n       [[0.51063764, 0.3777541 ],\n        [0.07321596, 0.02137029]]], dtype=float32)>,) and kwargs: {} for signature: (images: TensorSpec(shape=(None, 28, 28), dtype=tf.float32, name=None))."
          ]
        }
      ],
      "source": [
        "img_batch_3 = tf.random.uniform(shape=[2, 2, 2])\n",
        "try:\n",
        "    preprocessed_images = shrink(img_batch_3)  # ValueError! 호환되지 않는 입력\n",
        "except ValueError as ex:\n",
        "    print(ex)"
      ]
    },
    {
      "cell_type": "markdown",
      "metadata": {
        "id": "4OjBRI8BAxrt"
      },
      "source": [
        "### Autograph를 사용해 제어 흐름 표현하기"
      ]
    },
    {
      "cell_type": "markdown",
      "metadata": {
        "id": "Xi63dzBGAxrt"
      },
      "source": [
        "`range()`를 사용하는 \"정적\" `for` 루프입니다:"
      ]
    },
    {
      "cell_type": "code",
      "execution_count": null,
      "metadata": {
        "id": "FgAkT4DFAxrt"
      },
      "outputs": [],
      "source": [
        "@tf.function\n",
        "def add_10(x):\n",
        "    for i in range(10):\n",
        "        x += 1\n",
        "    return x"
      ]
    },
    {
      "cell_type": "code",
      "execution_count": null,
      "metadata": {
        "colab": {
          "base_uri": "https://localhost:8080/"
        },
        "id": "0DaLQaE0Axrt",
        "outputId": "09902d26-cadd-4cae-e9b7-8ee187ba0100"
      },
      "outputs": [
        {
          "output_type": "execute_result",
          "data": {
            "text/plain": [
              "<tf.Tensor: shape=(), dtype=int32, numpy=15>"
            ]
          },
          "metadata": {},
          "execution_count": 208
        }
      ],
      "source": [
        "add_10(tf.constant(5))"
      ]
    },
    {
      "cell_type": "code",
      "execution_count": null,
      "metadata": {
        "colab": {
          "base_uri": "https://localhost:8080/"
        },
        "id": "y4CNvOlwAxrt",
        "outputId": "3455d614-ba0c-4844-bd61-91f24f8d2f97"
      },
      "outputs": [
        {
          "output_type": "execute_result",
          "data": {
            "text/plain": [
              "[<tf.Operation 'x' type=Placeholder>,\n",
              " <tf.Operation 'add/y' type=Const>,\n",
              " <tf.Operation 'add' type=AddV2>,\n",
              " <tf.Operation 'add_1/y' type=Const>,\n",
              " <tf.Operation 'add_1' type=AddV2>,\n",
              " <tf.Operation 'add_2/y' type=Const>,\n",
              " <tf.Operation 'add_2' type=AddV2>,\n",
              " <tf.Operation 'add_3/y' type=Const>,\n",
              " <tf.Operation 'add_3' type=AddV2>,\n",
              " <tf.Operation 'add_4/y' type=Const>,\n",
              " <tf.Operation 'add_4' type=AddV2>,\n",
              " <tf.Operation 'add_5/y' type=Const>,\n",
              " <tf.Operation 'add_5' type=AddV2>,\n",
              " <tf.Operation 'add_6/y' type=Const>,\n",
              " <tf.Operation 'add_6' type=AddV2>,\n",
              " <tf.Operation 'add_7/y' type=Const>,\n",
              " <tf.Operation 'add_7' type=AddV2>,\n",
              " <tf.Operation 'add_8/y' type=Const>,\n",
              " <tf.Operation 'add_8' type=AddV2>,\n",
              " <tf.Operation 'add_9/y' type=Const>,\n",
              " <tf.Operation 'add_9' type=AddV2>,\n",
              " <tf.Operation 'Identity' type=Identity>]"
            ]
          },
          "metadata": {},
          "execution_count": 209
        }
      ],
      "source": [
        "add_10.get_concrete_function(tf.constant(5)).graph.get_operations()"
      ]
    },
    {
      "cell_type": "markdown",
      "metadata": {
        "id": "Ih2sdaI1Axrt"
      },
      "source": [
        "`tf.while_loop()`를 사용하는 \"동적\" 루프입니다:"
      ]
    },
    {
      "cell_type": "code",
      "execution_count": null,
      "metadata": {
        "id": "ZSytfbE7Axrv"
      },
      "outputs": [],
      "source": [
        "# 추가 코드 - tf.while_loop를 사용하는 방법을 보여줍니다(일반적으로 @tf.function이 더 간단합니다).\n",
        "@tf.function\n",
        "def add_10(x):\n",
        "    condition = lambda i, x: tf.less(i, 10)\n",
        "    body = lambda i, x: (tf.add(i, 1), tf.add(x, 1))\n",
        "    final_i, final_x = tf.while_loop(condition, body, [tf.constant(0), x])\n",
        "    return final_x"
      ]
    },
    {
      "cell_type": "code",
      "execution_count": null,
      "metadata": {
        "colab": {
          "base_uri": "https://localhost:8080/"
        },
        "id": "rdfAbdJIAxrv",
        "outputId": "00cb2064-5a64-4248-ddd5-bd3fef8fdee7"
      },
      "outputs": [
        {
          "output_type": "execute_result",
          "data": {
            "text/plain": [
              "<tf.Tensor: shape=(), dtype=int32, numpy=15>"
            ]
          },
          "metadata": {},
          "execution_count": 211
        }
      ],
      "source": [
        "add_10(tf.constant(5))"
      ]
    },
    {
      "cell_type": "code",
      "execution_count": null,
      "metadata": {
        "colab": {
          "base_uri": "https://localhost:8080/"
        },
        "id": "ofZlMzAsAxrv",
        "outputId": "6b92cab1-a79f-4f55-ba03-28752411f51b"
      },
      "outputs": [
        {
          "output_type": "execute_result",
          "data": {
            "text/plain": [
              "[<tf.Operation 'x' type=Placeholder>,\n",
              " <tf.Operation 'Const' type=Const>,\n",
              " <tf.Operation 'while/maximum_iterations' type=Const>,\n",
              " <tf.Operation 'while/loop_counter' type=Const>,\n",
              " <tf.Operation 'while' type=StatelessWhile>,\n",
              " <tf.Operation 'Identity' type=Identity>]"
            ]
          },
          "metadata": {},
          "execution_count": 212
        }
      ],
      "source": [
        "add_10.get_concrete_function(tf.constant(5)).graph.get_operations()"
      ]
    },
    {
      "cell_type": "markdown",
      "metadata": {
        "id": "To_1E-ULAxrv"
      },
      "source": [
        "(autograph가 감지한) `tf.range()`를 사용하는 \"동적\" `for` 루프:"
      ]
    },
    {
      "cell_type": "code",
      "execution_count": null,
      "metadata": {
        "id": "Ik3ff2wUAxrv"
      },
      "outputs": [],
      "source": [
        "@tf.function\n",
        "def add_10(x):\n",
        "    for i in tf.range(10):\n",
        "        x = x + 1\n",
        "    return x"
      ]
    },
    {
      "cell_type": "code",
      "execution_count": null,
      "metadata": {
        "colab": {
          "base_uri": "https://localhost:8080/"
        },
        "id": "LQGPCnrRAxrw",
        "outputId": "fb2aad69-5ef6-40f1-97ec-b7a87390ba6e"
      },
      "outputs": [
        {
          "output_type": "execute_result",
          "data": {
            "text/plain": [
              "[<tf.Operation 'x' type=Placeholder>,\n",
              " <tf.Operation 'range/start' type=Const>,\n",
              " <tf.Operation 'range/limit' type=Const>,\n",
              " <tf.Operation 'range/delta' type=Const>,\n",
              " <tf.Operation 'range' type=Range>,\n",
              " <tf.Operation 'sub' type=Sub>,\n",
              " <tf.Operation 'floordiv' type=FloorDiv>,\n",
              " <tf.Operation 'mod' type=FloorMod>,\n",
              " <tf.Operation 'zeros_like' type=Const>,\n",
              " <tf.Operation 'NotEqual' type=NotEqual>,\n",
              " <tf.Operation 'Cast' type=Cast>,\n",
              " <tf.Operation 'add' type=AddV2>,\n",
              " <tf.Operation 'zeros_like_1' type=Const>,\n",
              " <tf.Operation 'Maximum' type=Maximum>,\n",
              " <tf.Operation 'while/maximum_iterations' type=Const>,\n",
              " <tf.Operation 'while/loop_counter' type=Const>,\n",
              " <tf.Operation 'while' type=StatelessWhile>,\n",
              " <tf.Operation 'Identity' type=Identity>]"
            ]
          },
          "metadata": {},
          "execution_count": 214
        }
      ],
      "source": [
        "add_10.get_concrete_function(tf.constant(0)).graph.get_operations()"
      ]
    },
    {
      "cell_type": "markdown",
      "metadata": {
        "id": "h5cAtawIAxrw"
      },
      "source": [
        "### TF 함수에서 변수와 다른 리소스 다루기"
      ]
    },
    {
      "cell_type": "code",
      "execution_count": null,
      "metadata": {
        "colab": {
          "base_uri": "https://localhost:8080/"
        },
        "id": "PRVaBEmGAxrw",
        "outputId": "2ccc6008-d917-4c84-df63-f08b75cfab9a"
      },
      "outputs": [
        {
          "output_type": "execute_result",
          "data": {
            "text/plain": [
              "<tf.Tensor: shape=(), dtype=int32, numpy=2>"
            ]
          },
          "metadata": {},
          "execution_count": 215
        }
      ],
      "source": [
        "counter = tf.Variable(0)\n",
        "\n",
        "@tf.function\n",
        "def increment(counter, c=1):\n",
        "    return counter.assign_add(c)\n",
        "\n",
        "increment(counter)  # counter는 이제 1과 같습니다.\n",
        "increment(counter)  # counter는 이제 2와 같습니다."
      ]
    },
    {
      "cell_type": "code",
      "execution_count": null,
      "metadata": {
        "colab": {
          "base_uri": "https://localhost:8080/"
        },
        "id": "pMIyf8CjAxrw",
        "outputId": "1841f2bb-7b52-4c4b-e378-757f42263f7c"
      },
      "outputs": [
        {
          "output_type": "execute_result",
          "data": {
            "text/plain": [
              "name: \"counter\"\n",
              "type: DT_RESOURCE"
            ]
          },
          "metadata": {},
          "execution_count": 216
        }
      ],
      "source": [
        "function_def = increment.get_concrete_function(counter).function_def\n",
        "function_def.signature.input_arg[0]"
      ]
    },
    {
      "cell_type": "code",
      "execution_count": null,
      "metadata": {
        "id": "9HG88LCFAxrw"
      },
      "outputs": [],
      "source": [
        "counter = tf.Variable(0)\n",
        "\n",
        "@tf.function\n",
        "def increment(c=1):\n",
        "    return counter.assign_add(c)"
      ]
    },
    {
      "cell_type": "code",
      "execution_count": null,
      "metadata": {
        "colab": {
          "base_uri": "https://localhost:8080/"
        },
        "id": "XPosV6MJAxrw",
        "outputId": "fa15cac8-e992-437d-9dbd-dbb2d19cff3a"
      },
      "outputs": [
        {
          "output_type": "execute_result",
          "data": {
            "text/plain": [
              "<tf.Tensor: shape=(), dtype=int32, numpy=2>"
            ]
          },
          "metadata": {},
          "execution_count": 218
        }
      ],
      "source": [
        "increment()\n",
        "increment()"
      ]
    },
    {
      "cell_type": "code",
      "execution_count": null,
      "metadata": {
        "colab": {
          "base_uri": "https://localhost:8080/"
        },
        "id": "0i3CSugcAxrw",
        "outputId": "bee64272-827e-4360-aabc-20ddbe6c4674"
      },
      "outputs": [
        {
          "output_type": "execute_result",
          "data": {
            "text/plain": [
              "name: \"assignaddvariableop_resource\"\n",
              "type: DT_RESOURCE"
            ]
          },
          "metadata": {},
          "execution_count": 219
        }
      ],
      "source": [
        "function_def = increment.get_concrete_function().function_def\n",
        "function_def.signature.input_arg[0]"
      ]
    },
    {
      "cell_type": "code",
      "execution_count": null,
      "metadata": {
        "id": "LlXsSHykAxrw"
      },
      "outputs": [],
      "source": [
        "class Counter:\n",
        "    def __init__(self):\n",
        "        self.counter = tf.Variable(0)\n",
        "\n",
        "    @tf.function\n",
        "    def increment(self, c=1):\n",
        "        return self.counter.assign_add(c)"
      ]
    },
    {
      "cell_type": "code",
      "execution_count": null,
      "metadata": {
        "colab": {
          "base_uri": "https://localhost:8080/"
        },
        "id": "PmsokL4UAxrw",
        "outputId": "3158d1cf-fe27-4c16-adb3-9b42fe289370"
      },
      "outputs": [
        {
          "output_type": "execute_result",
          "data": {
            "text/plain": [
              "<tf.Tensor: shape=(), dtype=int32, numpy=2>"
            ]
          },
          "metadata": {},
          "execution_count": 221
        }
      ],
      "source": [
        "c = Counter()\n",
        "c.increment()\n",
        "c.increment()"
      ]
    },
    {
      "cell_type": "code",
      "execution_count": null,
      "metadata": {
        "colab": {
          "base_uri": "https://localhost:8080/"
        },
        "id": "uKTfW75IAxrw",
        "outputId": "efa0e008-103f-4059-f04c-c214f838b4f8",
        "scrolled": true
      },
      "outputs": [
        {
          "output_type": "stream",
          "name": "stdout",
          "text": [
            "def tf__add(x):\n",
            "    with ag__.FunctionScope('add_10', 'fscope', ag__.ConversionOptions(recursive=True, user_requested=True, optional_features=(), internal_convert_user_code=True)) as fscope:\n",
            "        do_return = False\n",
            "        retval_ = ag__.UndefinedReturnValue()\n",
            "\n",
            "        def get_state():\n",
            "            return (x,)\n",
            "\n",
            "        def set_state(vars_):\n",
            "            nonlocal x\n",
            "            (x,) = vars_\n",
            "\n",
            "        def loop_body(itr):\n",
            "            nonlocal x\n",
            "            i = itr\n",
            "            x = ag__.ld(x)\n",
            "            x += 1\n",
            "        i = ag__.Undefined('i')\n",
            "        ag__.for_stmt(ag__.converted_call(ag__.ld(tf).range, (10,), None, fscope), None, loop_body, get_state, set_state, ('x',), {'iterate_names': 'i'})\n",
            "        try:\n",
            "            do_return = True\n",
            "            retval_ = ag__.ld(x)\n",
            "        except:\n",
            "            do_return = False\n",
            "            raise\n",
            "        return fscope.ret(retval_, do_return)\n",
            "\n"
          ]
        }
      ],
      "source": [
        "@tf.function\n",
        "def add_10(x):\n",
        "    for i in tf.range(10):\n",
        "        x += 1\n",
        "    return x\n",
        "\n",
        "print(tf.autograph.to_code(add_10.python_function))"
      ]
    },
    {
      "cell_type": "code",
      "execution_count": null,
      "metadata": {
        "id": "W_I7ORibAxrx"
      },
      "outputs": [],
      "source": [
        "# 추가 코드 - 구문 강조 표시로 autograph 코드를 표시하는 방법을 보여줍니다.\n",
        "def display_tf_code(func):\n",
        "    from IPython.display import display, Markdown\n",
        "    if hasattr(func, \"python_function\"):\n",
        "        func = func.python_function\n",
        "    code = tf.autograph.to_code(func)\n",
        "    display(Markdown(f'```python\\n{code}\\n```'))"
      ]
    },
    {
      "cell_type": "code",
      "execution_count": null,
      "metadata": {
        "colab": {
          "base_uri": "https://localhost:8080/",
          "height": 488
        },
        "id": "iFIBmaSWAxrx",
        "outputId": "adf2db57-47cb-4cbc-fb75-f6d0b637efd5"
      },
      "outputs": [
        {
          "output_type": "display_data",
          "data": {
            "text/plain": [
              "<IPython.core.display.Markdown object>"
            ],
            "text/markdown": "```python\ndef tf__add(x):\n    with ag__.FunctionScope('add_10', 'fscope', ag__.ConversionOptions(recursive=True, user_requested=True, optional_features=(), internal_convert_user_code=True)) as fscope:\n        do_return = False\n        retval_ = ag__.UndefinedReturnValue()\n\n        def get_state():\n            return (x,)\n\n        def set_state(vars_):\n            nonlocal x\n            (x,) = vars_\n\n        def loop_body(itr):\n            nonlocal x\n            i = itr\n            x = ag__.ld(x)\n            x += 1\n        i = ag__.Undefined('i')\n        ag__.for_stmt(ag__.converted_call(ag__.ld(tf).range, (10,), None, fscope), None, loop_body, get_state, set_state, ('x',), {'iterate_names': 'i'})\n        try:\n            do_return = True\n            retval_ = ag__.ld(x)\n        except:\n            do_return = False\n            raise\n        return fscope.ret(retval_, do_return)\n\n```"
          },
          "metadata": {}
        }
      ],
      "source": [
        "display_tf_code(add_10)"
      ]
    },
    {
      "cell_type": "markdown",
      "metadata": {
        "id": "PB0Sa4q9Axrx"
      },
      "source": [
        "## 케라스에 TF 함수 사용하기(또는 사용하지 않기)"
      ]
    },
    {
      "cell_type": "markdown",
      "metadata": {
        "id": "SpjPf0nJAxrx"
      },
      "source": [
        "기본적으로 tf.keras는 사용자 지정 코드를 TF 함수로 자동 변환하므로 `tf.function()`을 사용할 필요가 없습니다:"
      ]
    },
    {
      "cell_type": "code",
      "execution_count": null,
      "metadata": {
        "id": "7-1v1OwYAxrx"
      },
      "outputs": [],
      "source": [
        "# 사용자 정의 손실 함수\n",
        "def my_mse(y_true, y_pred):\n",
        "    print(\"손실 my_mse() 트레이싱\")\n",
        "    return tf.reduce_mean(tf.square(y_pred - y_true))"
      ]
    },
    {
      "cell_type": "code",
      "execution_count": null,
      "metadata": {
        "id": "p1skutQgAxrx"
      },
      "outputs": [],
      "source": [
        "# 사용자 정의 지표 함수\n",
        "def my_mae(y_true, y_pred):\n",
        "    print(\"지표 my_mae() 트레이싱\")\n",
        "    return tf.reduce_mean(tf.abs(y_pred - y_true))"
      ]
    },
    {
      "cell_type": "code",
      "execution_count": null,
      "metadata": {
        "id": "PpTUWOw7Axrx"
      },
      "outputs": [],
      "source": [
        "# 사용자 정의 층\n",
        "class MyDense(tf.keras.layers.Layer):\n",
        "    def __init__(self, units, activation=None, **kwargs):\n",
        "        super().__init__(**kwargs)\n",
        "        self.units = units\n",
        "        self.activation = tf.keras.activations.get(activation)\n",
        "\n",
        "    def build(self, input_shape):\n",
        "        self.kernel = self.add_weight(name='kernel',\n",
        "                                      shape=(input_shape[1], self.units),\n",
        "                                      initializer='uniform',\n",
        "                                      trainable=True)\n",
        "        self.biases = self.add_weight(name='bias',\n",
        "                                      shape=(self.units,),\n",
        "                                      initializer='zeros',\n",
        "                                      trainable=True)\n",
        "        super().build(input_shape)\n",
        "\n",
        "    def call(self, X):\n",
        "        print(\"MyDense.call() 트레이싱\")\n",
        "        return self.activation(X @ self.kernel + self.biases)"
      ]
    },
    {
      "cell_type": "code",
      "execution_count": null,
      "metadata": {
        "id": "YxycmeS9Axrx"
      },
      "outputs": [],
      "source": [
        "tf.keras.utils.set_random_seed(42)"
      ]
    },
    {
      "cell_type": "code",
      "execution_count": null,
      "metadata": {
        "id": "PS8DpbmLAxrx"
      },
      "outputs": [],
      "source": [
        "# 사용자 정의 모델\n",
        "class MyModel(tf.keras.Model):\n",
        "    def __init__(self, **kwargs):\n",
        "        super().__init__(**kwargs)\n",
        "        self.hidden1 = MyDense(30, activation=\"relu\")\n",
        "        self.hidden2 = MyDense(30, activation=\"relu\")\n",
        "        self.output_ = MyDense(1)\n",
        "\n",
        "    def call(self, input):\n",
        "        print(\"MyModel.call() 트레이싱\")\n",
        "        hidden1 = self.hidden1(input)\n",
        "        hidden2 = self.hidden2(hidden1)\n",
        "        concat = tf.keras.layers.concatenate([input, hidden2])\n",
        "        output = self.output_(concat)\n",
        "        return output\n",
        "\n",
        "model = MyModel()"
      ]
    },
    {
      "cell_type": "code",
      "execution_count": null,
      "metadata": {
        "id": "93rXOAQQAxrx"
      },
      "outputs": [],
      "source": [
        "model.compile(loss=my_mse, optimizer=\"nadam\", metrics=[my_mae])"
      ]
    },
    {
      "cell_type": "code",
      "execution_count": null,
      "metadata": {
        "colab": {
          "base_uri": "https://localhost:8080/"
        },
        "id": "P5NZCM16Axry",
        "outputId": "a72ab745-3ab9-4d83-9d2f-de29a2a4b624"
      },
      "outputs": [
        {
          "output_type": "stream",
          "name": "stdout",
          "text": [
            "Epoch 1/2\n",
            "MyModel.call() 트레이싱\n",
            "MyDense.call() 트레이싱\n",
            "MyDense.call() 트레이싱\n",
            "MyDense.call() 트레이싱\n",
            "손실 my_mse() 트레이싱\n",
            "지표 my_mae() 트레이싱\n",
            "MyModel.call() 트레이싱\n",
            "MyDense.call() 트레이싱\n",
            "MyDense.call() 트레이싱\n",
            "MyDense.call() 트레이싱\n",
            "손실 my_mse() 트레이싱\n",
            "지표 my_mae() 트레이싱\n",
            "359/363 [============================>.] - ETA: 0s - loss: 1.4387 - my_mae: 0.8244MyModel.call() 트레이싱\n",
            "MyDense.call() 트레이싱\n",
            "MyDense.call() 트레이싱\n",
            "MyDense.call() 트레이싱\n",
            "손실 my_mse() 트레이싱\n",
            "지표 my_mae() 트레이싱\n",
            "363/363 [==============================] - 3s 4ms/step - loss: 1.4293 - my_mae: 0.8214 - val_loss: 0.4888 - val_my_mae: 0.4757\n",
            "Epoch 2/2\n",
            "363/363 [==============================] - 2s 5ms/step - loss: 0.4383 - my_mae: 0.4757 - val_loss: 1.1306 - val_my_mae: 0.4804\n",
            "162/162 [==============================] - 0s 3ms/step - loss: 0.4214 - my_mae: 0.4710\n"
          ]
        },
        {
          "output_type": "execute_result",
          "data": {
            "text/plain": [
              "[0.4213947057723999, 0.47099101543426514]"
            ]
          },
          "metadata": {},
          "execution_count": 231
        }
      ],
      "source": [
        "model.fit(X_train_scaled, y_train, epochs=2,\n",
        "          validation_data=(X_valid_scaled, y_valid))\n",
        "model.evaluate(X_test_scaled, y_test)"
      ]
    },
    {
      "cell_type": "markdown",
      "metadata": {
        "id": "-d4A6OrzAxry"
      },
      "source": [
        "이 기능은 `dynamic=True`로 모델을 생성하거나 모델 생성자에서 `super().__init__(dynamic=True, **kwargs)`를 호출하여 해제할 수 있습니다:"
      ]
    },
    {
      "cell_type": "code",
      "execution_count": null,
      "metadata": {
        "id": "31LkRTp5Axry"
      },
      "outputs": [],
      "source": [
        "tf.keras.utils.set_random_seed(42)"
      ]
    },
    {
      "cell_type": "code",
      "execution_count": null,
      "metadata": {
        "id": "IAfSvsoIAxry"
      },
      "outputs": [],
      "source": [
        "model = MyModel(dynamic=True)"
      ]
    },
    {
      "cell_type": "code",
      "execution_count": null,
      "metadata": {
        "id": "OjqYAiKdAxry"
      },
      "outputs": [],
      "source": [
        "model.compile(loss=my_mse, optimizer=\"nadam\", metrics=[my_mae])"
      ]
    },
    {
      "cell_type": "markdown",
      "metadata": {
        "id": "WC2KyPdXAxry"
      },
      "source": [
        "이제 사용자 정의 코드가 각 반복마다 호출됩니다. 너무 많은 출력을 피하기 위해 작은 데이터셋으로 검증과 평가를 수행해 보겠습니다:"
      ]
    },
    {
      "cell_type": "code",
      "execution_count": null,
      "metadata": {
        "colab": {
          "base_uri": "https://localhost:8080/"
        },
        "id": "T8s4Ap8cAxry",
        "outputId": "a470b3b8-5ba4-4c5e-c690-3eb340825893"
      },
      "outputs": [
        {
          "output_type": "stream",
          "name": "stdout",
          "text": [
            "MyModel.call() 트레이싱\n",
            "MyDense.call() 트레이싱\n",
            "MyDense.call() 트레이싱\n",
            "MyDense.call() 트레이싱\n",
            "손실 my_mse() 트레이싱\n"
          ]
        },
        {
          "output_type": "stream",
          "name": "stderr",
          "text": [
            "WARNING:tensorflow:5 out of the last 14481 calls to <function _BaseOptimizer._update_step_xla at 0x7cf0a244f5b0> triggered tf.function retracing. Tracing is expensive and the excessive number of tracings could be due to (1) creating @tf.function repeatedly in a loop, (2) passing tensors with different shapes, (3) passing Python objects instead of tensors. For (1), please define your @tf.function outside of the loop. For (2), @tf.function has reduce_retracing=True option that can avoid unnecessary retracing. For (3), please refer to https://www.tensorflow.org/guide/function#controlling_retracing and https://www.tensorflow.org/api_docs/python/tf/function for  more details.\n",
            "WARNING:tensorflow:6 out of the last 14482 calls to <function _BaseOptimizer._update_step_xla at 0x7cf0a244f5b0> triggered tf.function retracing. Tracing is expensive and the excessive number of tracings could be due to (1) creating @tf.function repeatedly in a loop, (2) passing tensors with different shapes, (3) passing Python objects instead of tensors. For (1), please define your @tf.function outside of the loop. For (2), @tf.function has reduce_retracing=True option that can avoid unnecessary retracing. For (3), please refer to https://www.tensorflow.org/guide/function#controlling_retracing and https://www.tensorflow.org/api_docs/python/tf/function for  more details.\n"
          ]
        },
        {
          "output_type": "stream",
          "name": "stdout",
          "text": [
            "지표 my_mae() 트레이싱\n",
            "MyModel.call() 트레이싱\n",
            "MyDense.call() 트레이싱\n",
            "MyDense.call() 트레이싱\n",
            "MyDense.call() 트레이싱\n",
            "손실 my_mse() 트레이싱\n",
            "지표 my_mae() 트레이싱\n",
            "MyModel.call() 트레이싱\n",
            "MyDense.call() 트레이싱\n",
            "MyDense.call() 트레이싱\n",
            "MyDense.call() 트레이싱\n",
            "손실 my_mse() 트레이싱\n",
            "지표 my_mae() 트레이싱\n",
            "MyModel.call() 트레이싱\n",
            "MyDense.call() 트레이싱\n",
            "MyDense.call() 트레이싱\n",
            "MyDense.call() 트레이싱\n",
            "손실 my_mse() 트레이싱\n",
            "지표 my_mae() 트레이싱\n",
            "MyModel.call() 트레이싱\n",
            "MyDense.call() 트레이싱\n",
            "MyDense.call() 트레이싱\n",
            "MyDense.call() 트레이싱\n",
            "손실 my_mse() 트레이싱\n",
            "지표 my_mae() 트레이싱\n",
            "MyModel.call() 트레이싱\n",
            "MyDense.call() 트레이싱\n",
            "MyDense.call() 트레이싱\n",
            "MyDense.call() 트레이싱\n",
            "손실 my_mse() 트레이싱\n",
            "지표 my_mae() 트레이싱\n"
          ]
        },
        {
          "output_type": "execute_result",
          "data": {
            "text/plain": [
              "[5.549154281616211, 2.0611484050750732]"
            ]
          },
          "metadata": {},
          "execution_count": 235
        }
      ],
      "source": [
        "model.fit(X_train_scaled[:64], y_train[:64], epochs=1,\n",
        "          validation_data=(X_valid_scaled[:64], y_valid[:64]), verbose=0)\n",
        "model.evaluate(X_test_scaled[:64], y_test[:64], verbose=0)"
      ]
    },
    {
      "cell_type": "markdown",
      "metadata": {
        "id": "fahebWVbAxry"
      },
      "source": [
        "또는 `run_eagerly=True`로 모델을 컴파일할 수 있습니다:"
      ]
    },
    {
      "cell_type": "code",
      "execution_count": null,
      "metadata": {
        "id": "GQeEapv4Axry"
      },
      "outputs": [],
      "source": [
        "tf.keras.utils.set_random_seed(42)"
      ]
    },
    {
      "cell_type": "code",
      "execution_count": null,
      "metadata": {
        "id": "UCIW1vLWAxry"
      },
      "outputs": [],
      "source": [
        "model = MyModel()"
      ]
    },
    {
      "cell_type": "code",
      "execution_count": null,
      "metadata": {
        "id": "UUKjwuBtAxry"
      },
      "outputs": [],
      "source": [
        "model.compile(loss=my_mse, optimizer=\"nadam\", metrics=[my_mae], run_eagerly=True)"
      ]
    },
    {
      "cell_type": "code",
      "execution_count": null,
      "metadata": {
        "colab": {
          "base_uri": "https://localhost:8080/"
        },
        "id": "5JxmvAB_Axrz",
        "outputId": "a3df2e8b-f52d-4175-d623-b41a4220edca"
      },
      "outputs": [
        {
          "output_type": "stream",
          "name": "stdout",
          "text": [
            "MyModel.call() 트레이싱\n",
            "MyDense.call() 트레이싱\n",
            "MyDense.call() 트레이싱\n",
            "MyDense.call() 트레이싱\n",
            "손실 my_mse() 트레이싱\n",
            "지표 my_mae() 트레이싱\n",
            "MyModel.call() 트레이싱\n",
            "MyDense.call() 트레이싱\n",
            "MyDense.call() 트레이싱\n",
            "MyDense.call() 트레이싱\n",
            "손실 my_mse() 트레이싱\n",
            "지표 my_mae() 트레이싱\n",
            "MyModel.call() 트레이싱\n",
            "MyDense.call() 트레이싱\n",
            "MyDense.call() 트레이싱\n",
            "MyDense.call() 트레이싱\n",
            "손실 my_mse() 트레이싱\n",
            "지표 my_mae() 트레이싱\n",
            "MyModel.call() 트레이싱\n",
            "MyDense.call() 트레이싱\n",
            "MyDense.call() 트레이싱\n",
            "MyDense.call() 트레이싱\n",
            "손실 my_mse() 트레이싱\n",
            "지표 my_mae() 트레이싱\n",
            "MyModel.call() 트레이싱\n",
            "MyDense.call() 트레이싱\n",
            "MyDense.call() 트레이싱\n",
            "MyDense.call() 트레이싱\n",
            "손실 my_mse() 트레이싱\n",
            "지표 my_mae() 트레이싱\n",
            "MyModel.call() 트레이싱\n",
            "MyDense.call() 트레이싱\n",
            "MyDense.call() 트레이싱\n",
            "MyDense.call() 트레이싱\n",
            "손실 my_mse() 트레이싱\n",
            "지표 my_mae() 트레이싱\n"
          ]
        },
        {
          "output_type": "execute_result",
          "data": {
            "text/plain": [
              "[5.549154281616211, 2.0611484050750732]"
            ]
          },
          "metadata": {},
          "execution_count": 239
        }
      ],
      "source": [
        "model.fit(X_train_scaled[:64], y_train[:64], epochs=1,\n",
        "          validation_data=(X_valid_scaled[:64], y_valid[:64]), verbose=0)\n",
        "model.evaluate(X_test_scaled[:64], y_test[:64], verbose=0)"
      ]
    },
    {
      "cell_type": "markdown",
      "metadata": {
        "id": "LpAV_M0WAxrz"
      },
      "source": [
        "## 추가 자료 - 사용자 정의 옵티마이저"
      ]
    },
    {
      "cell_type": "markdown",
      "metadata": {
        "id": "rDvHsV5UAxrz"
      },
      "source": [
        "사용자 정의 옵티마이저를 정의하는 것은 그리 일반적이지 않지만, 만약 여러분이 옵티마이저를 작성해야 한다면 다음 예시를 참고하세요:"
      ]
    },
    {
      "cell_type": "code",
      "execution_count": null,
      "metadata": {
        "id": "eg-Ls3HoAxrz"
      },
      "outputs": [],
      "source": [
        "class MyMomentumOptimizer(tf.keras.optimizers.Optimizer):\n",
        "    def __init__(self, learning_rate=0.001, momentum=0.0, name=\"MyMomentumOptimizer\", **kwargs):\n",
        "        super().__init__(name, **kwargs)\n",
        "        self._learning_rate = self._build_learning_rate(learning_rate)\n",
        "        self.momentum = momentum\n",
        "\n",
        "    def build(self, var_list):\n",
        "        \"\"\"옵티마이저 변수 초기화\n",
        "        매개변수:\n",
        "          var_list: 모델 변수 목록\n",
        "        \"\"\"\n",
        "        super().build(var_list)\n",
        "        if hasattr(self, \"_built\") and self._built:\n",
        "            return\n",
        "        self.momentums = []\n",
        "        for var in var_list:\n",
        "            self.momentums.append(\n",
        "                self.add_variable_from_reference(\n",
        "                    model_variable=var, variable_name=\"m\"\n",
        "                )\n",
        "            )\n",
        "        self._built = True\n",
        "\n",
        "    def update_step(self, gradient, variable):\n",
        "        \"\"\"주어진 그레이디언트와 관련된 모델 변수로 스텝을 업데이트합니다.\"\"\"\n",
        "        lr = tf.cast(self.learning_rate, variable.dtype)\n",
        "        m = None\n",
        "        var_key = self._var_key(variable)\n",
        "        momentum = tf.cast(self.momentum, variable.dtype)\n",
        "        m = self.momentums[self._index_dict[var_key]]\n",
        "\n",
        "        if isinstance(gradient, tf.IndexedSlices):\n",
        "            # 희소한 그레이디언트\n",
        "            add_value = tf.IndexedSlices(\n",
        "                -gradient.values * lr, gradient.indices\n",
        "            )\n",
        "            if m is not None:\n",
        "                m.assign(m * momentum)\n",
        "                m.scatter_add(add_value)\n",
        "                variable.assign_add(m)\n",
        "            else:\n",
        "                variable.scatter_add(add_value)\n",
        "        else:\n",
        "            # 밀집 그레이디언트\n",
        "            if m is not None:\n",
        "                m.assign(-gradient * lr + m * momentum)\n",
        "                variable.assign_add(m)\n",
        "            else:\n",
        "                variable.assign_add(-gradient * lr)\n",
        "\n",
        "    def get_config(self):\n",
        "        base_config = super().get_config()\n",
        "        return {\n",
        "            **base_config,\n",
        "            \"learning_rate\": self._serialize_hyperparameter(self._learning_rate),\n",
        "            \"momentum\": self._serialize_hyperparameter(self.momentum),\n",
        "        }"
      ]
    },
    {
      "cell_type": "code",
      "execution_count": null,
      "metadata": {
        "colab": {
          "base_uri": "https://localhost:8080/"
        },
        "id": "37SeM0eAAxrz",
        "outputId": "c8d73421-08cb-4e17-f5ba-52059087706b"
      },
      "outputs": [
        {
          "output_type": "stream",
          "name": "stdout",
          "text": [
            "Epoch 1/5\n",
            "363/363 [==============================] - 1s 2ms/step - loss: 4.0546\n",
            "Epoch 2/5\n",
            "363/363 [==============================] - 1s 2ms/step - loss: 1.2763\n",
            "Epoch 3/5\n",
            "363/363 [==============================] - 1s 2ms/step - loss: 0.7623\n",
            "Epoch 4/5\n",
            "363/363 [==============================] - 1s 2ms/step - loss: 0.6428\n",
            "Epoch 5/5\n",
            "363/363 [==============================] - 1s 2ms/step - loss: 0.6102\n"
          ]
        },
        {
          "output_type": "execute_result",
          "data": {
            "text/plain": [
              "<keras.src.callbacks.History at 0x7cf0a212b8b0>"
            ]
          },
          "metadata": {},
          "execution_count": 241
        }
      ],
      "source": [
        "optimizer = MyMomentumOptimizer()\n",
        "\n",
        "tf.keras.utils.set_random_seed(42)\n",
        "model = tf.keras.Sequential([tf.keras.layers.Dense(1, input_shape=[8])])\n",
        "model.compile(loss=\"mse\", optimizer=optimizer)\n",
        "model.fit(X_train_scaled, y_train, epochs=5)"
      ]
    },
    {
      "cell_type": "markdown",
      "metadata": {
        "id": "YCQ5xZZG01bg"
      },
      "source": [
        "케라스에 내장된 모멘텀 옵티마이저와 비교해 보죠."
      ]
    },
    {
      "cell_type": "code",
      "execution_count": null,
      "metadata": {
        "id": "af0sOTu501bg",
        "outputId": "af0ccee0-af0f-41c1-a573-dd813a1ca7f9",
        "colab": {
          "base_uri": "https://localhost:8080/"
        }
      },
      "outputs": [
        {
          "output_type": "stream",
          "name": "stdout",
          "text": [
            "Epoch 1/5\n",
            "363/363 [==============================] - 1s 2ms/step - loss: 1.1844\n",
            "Epoch 2/5\n",
            "363/363 [==============================] - 1s 2ms/step - loss: 0.5635\n",
            "Epoch 3/5\n",
            "363/363 [==============================] - 1s 3ms/step - loss: 0.9703\n",
            "Epoch 4/5\n",
            "363/363 [==============================] - 1s 3ms/step - loss: 0.5678\n",
            "Epoch 5/5\n",
            "363/363 [==============================] - 1s 2ms/step - loss: 0.6350\n"
          ]
        },
        {
          "output_type": "execute_result",
          "data": {
            "text/plain": [
              "<keras.src.callbacks.History at 0x7cf0a2163670>"
            ]
          },
          "metadata": {},
          "execution_count": 242
        }
      ],
      "source": [
        "optimizer = tf.keras.optimizers.SGD(learning_rate=0.001, momentum=0.9)\n",
        "\n",
        "tf.keras.utils.set_random_seed(42)\n",
        "model = tf.keras.Sequential([tf.keras.layers.Dense(1, input_shape=[8])])\n",
        "model.compile(loss=\"mse\", optimizer=optimizer)\n",
        "model.fit(X_train_scaled, y_train, epochs=5)"
      ]
    },
    {
      "cell_type": "markdown",
      "metadata": {
        "id": "fVo-JwwwAxrz"
      },
      "source": [
        "# 연습문제 해답"
      ]
    },
    {
      "cell_type": "markdown",
      "metadata": {
        "id": "zcyVmMsAAxrz"
      },
      "source": [
        "## 1. to 11."
      ]
    },
    {
      "cell_type": "markdown",
      "metadata": {
        "id": "aviEodMhAxrz"
      },
      "source": [
        "부록 A 참조"
      ]
    },
    {
      "cell_type": "markdown",
      "metadata": {
        "id": "kAgNhFzmAxrz"
      },
      "source": [
        "## 12. _층 정규화_ 를 수행하는 사용자 정의 층을 구현하세요.\n",
        "\n",
        "_15장에서 순환 신경망을 사용할 때 이런 종류의 층을 사용합니다._"
      ]
    },
    {
      "cell_type": "markdown",
      "metadata": {
        "id": "8FwneyKMAxr0"
      },
      "source": [
        "### a.\n",
        "_문제: `build()` 메서드에서 두 개의 훈련 가능한 가중치 *α*와 *β*를 정의합니다. 두 가중치 모두 크기가 `input_shape[-1:]`이고 데이터 타입은 `tf.float32`입니다. *α*는 1로 초기화되고 *β*는 0으로 초기화되어야 합니다._"
      ]
    },
    {
      "cell_type": "markdown",
      "metadata": {
        "id": "sspawhAfAxr0"
      },
      "source": [
        "솔루션: 아래 참조."
      ]
    },
    {
      "cell_type": "markdown",
      "metadata": {
        "id": "gValdr8aAxr0"
      },
      "source": [
        "### b.\n",
        "_문제: `call()` 메서드는 샘플의 특성마다 평균 μ와 표준편차 σ를 계산해야 합니다. 이를 위해 전체 샘플의 평균 μ와 분산 σ<sup>2</sup>을 반환하는 `tf.nn.moments(inputs, axes=-1, keepdims=True)`을 사용할 수 있습니다(분산의 제곱근으로 표준편차를 계산합니다). 그다음 *α*⊗(*X* - μ)/(σ + ε) + *β*를 계산하여 반환합니다. 여기에서 ⊗는 원소별\n",
        "곱셈(`*`)을 나타냅니다. ε은 안전을 위한 항입니다(0으로 나누어지는 것을 막기 위한 작은 상수. 예를 들면 0.001)._"
      ]
    },
    {
      "cell_type": "code",
      "execution_count": null,
      "metadata": {
        "id": "Zqsjv7PpAxr0"
      },
      "outputs": [],
      "source": [
        "class LayerNormalization(tf.keras.layers.Layer):\n",
        "    def __init__(self, eps=0.001, **kwargs):\n",
        "        super().__init__(**kwargs)\n",
        "        self.eps = eps\n",
        "\n",
        "    def build(self, batch_input_shape):\n",
        "        self.alpha = self.add_weight(\n",
        "            name=\"alpha\", shape=batch_input_shape[-1:],\n",
        "            initializer=\"ones\")\n",
        "        self.beta = self.add_weight(\n",
        "            name=\"beta\", shape=batch_input_shape[-1:],\n",
        "            initializer=\"zeros\")\n",
        "        super().build(batch_input_shape) # 반드시 끝에 와야 합니다\n",
        "\n",
        "    def call(self, X):\n",
        "        mean, variance = tf.nn.moments(X, axes=-1, keepdims=True)\n",
        "        return self.alpha * (X - mean) / (tf.sqrt(variance + self.eps)) + self.beta\n",
        "\n",
        "    def compute_output_shape(self, batch_input_shape):\n",
        "        return batch_input_shape\n",
        "\n",
        "    def get_config(self):\n",
        "        base_config = super().get_config()\n",
        "        return {**base_config, \"eps\": self.eps}"
      ]
    },
    {
      "cell_type": "markdown",
      "metadata": {
        "id": "ozD6O4PdAxr0"
      },
      "source": [
        "_ε_ 하이퍼파라미터(`eps`)는 필수가 아닙니다. 또한 `tf.sqrt(variance) + self.eps` 보다 `tf.sqrt(variance + self.eps)`를 계산하는 것이 좋습니다. sqrt(z)의 도함수는 z=0에서 정의되지 않기 때문에 분산 벡터의 한 원소가 0에 가까우면 훈련이 이리저리 널뜁니다. 제곱근 안에 _ε_를 넣으면 이런 현상을 방지할 수 있습니다."
      ]
    },
    {
      "cell_type": "markdown",
      "metadata": {
        "id": "7QH6eoWmAxr0"
      },
      "source": [
        "### c.\n",
        "_문제: 사용자 정의 층이 `tf.keras.layers.LayerNormalization` 층과 동일한(또는 거의 동일한) 출력을 만드는지 확인하세요._"
      ]
    },
    {
      "cell_type": "markdown",
      "metadata": {
        "id": "m0jDFJFKAxr0"
      },
      "source": [
        "각 클래스의 객체를 만들고 데이터(예를 들면, 훈련 세트)를 적용해 보죠. 차이는 무시할 수 있는 수준입니다."
      ]
    },
    {
      "cell_type": "code",
      "execution_count": null,
      "metadata": {
        "colab": {
          "base_uri": "https://localhost:8080/"
        },
        "id": "clVKIuKYAxr0",
        "outputId": "30ad35ac-4986-4d38-a7a5-6bf3ecb7d34e"
      },
      "outputs": [
        {
          "output_type": "execute_result",
          "data": {
            "text/plain": [
              "<tf.Tensor: shape=(), dtype=float32, numpy=3.894674e-08>"
            ]
          },
          "metadata": {},
          "execution_count": 244
        }
      ],
      "source": [
        "X = X_train.astype(np.float32)\n",
        "\n",
        "custom_layer_norm = LayerNormalization()\n",
        "keras_layer_norm = tf.keras.layers.LayerNormalization()\n",
        "\n",
        "tf.reduce_mean(tf.keras.losses.mean_absolute_error(\n",
        "    keras_layer_norm(X), custom_layer_norm(X)))"
      ]
    },
    {
      "cell_type": "markdown",
      "metadata": {
        "id": "cLcPCLA1Axr0"
      },
      "source": [
        "네 충분히 가깝네요. 조금 더 확실하게 알파와 베타를 완전히 랜덤하게 지정하고 다시 비교해 보죠:"
      ]
    },
    {
      "cell_type": "code",
      "execution_count": null,
      "metadata": {
        "colab": {
          "base_uri": "https://localhost:8080/"
        },
        "id": "WSpbT-C4Axr0",
        "outputId": "8bda4ac5-e3ff-45fb-94bb-decf9c804b01"
      },
      "outputs": [
        {
          "output_type": "execute_result",
          "data": {
            "text/plain": [
              "<tf.Tensor: shape=(), dtype=float32, numpy=1.7224725e-08>"
            ]
          },
          "metadata": {},
          "execution_count": 245
        }
      ],
      "source": [
        "tf.keras.utils.set_random_seed(42)\n",
        "random_alpha = np.random.rand(X.shape[-1])\n",
        "random_beta = np.random.rand(X.shape[-1])\n",
        "\n",
        "custom_layer_norm.set_weights([random_alpha, random_beta])\n",
        "keras_layer_norm.set_weights([random_alpha, random_beta])\n",
        "\n",
        "tf.reduce_mean(tf.keras.losses.mean_absolute_error(\n",
        "    keras_layer_norm(X), custom_layer_norm(X)))"
      ]
    },
    {
      "cell_type": "markdown",
      "metadata": {
        "id": "etMAN21uAxr0"
      },
      "source": [
        "여전히 무시할 수 있는 수준입니다! 사용자 정의 층이 잘 동작합니다."
      ]
    },
    {
      "cell_type": "markdown",
      "metadata": {
        "id": "Tczap3MOAxr0"
      },
      "source": [
        "## 13. 사용자 정의 훈련 반복을 사용해 패션 MNIST 데이터셋으로 모델을 훈련해보세요.\n",
        "\n",
        "_패션 MNIST 데이터셋은 10장에서 소개했습니다._"
      ]
    },
    {
      "cell_type": "markdown",
      "metadata": {
        "id": "2tOj7JKKAxr1"
      },
      "source": [
        "### a.\n",
        "_문제: 에포크, 반복, 평균 훈련 손실, (반복마다 업데이트되는) 에포크의 평균 정확도는 물론 에포크 끝에서 검증 손실과 정확도를 출력하세요._"
      ]
    },
    {
      "cell_type": "code",
      "execution_count": null,
      "metadata": {
        "colab": {
          "base_uri": "https://localhost:8080/"
        },
        "id": "HxmdPj7gAxr1",
        "outputId": "d9785be8-4ea4-40ba-d2be-3a701a7affa9"
      },
      "outputs": [
        {
          "output_type": "stream",
          "name": "stdout",
          "text": [
            "Downloading data from https://storage.googleapis.com/tensorflow/tf-keras-datasets/train-labels-idx1-ubyte.gz\n",
            "29515/29515 [==============================] - 0s 0us/step\n",
            "Downloading data from https://storage.googleapis.com/tensorflow/tf-keras-datasets/train-images-idx3-ubyte.gz\n",
            "26421880/26421880 [==============================] - 0s 0us/step\n",
            "Downloading data from https://storage.googleapis.com/tensorflow/tf-keras-datasets/t10k-labels-idx1-ubyte.gz\n",
            "5148/5148 [==============================] - 0s 0us/step\n",
            "Downloading data from https://storage.googleapis.com/tensorflow/tf-keras-datasets/t10k-images-idx3-ubyte.gz\n",
            "4422102/4422102 [==============================] - 0s 0us/step\n"
          ]
        }
      ],
      "source": [
        "(X_train_full, y_train_full), (X_test, y_test) = tf.keras.datasets.fashion_mnist.load_data()\n",
        "X_train_full = X_train_full.astype(np.float32) / 255.\n",
        "X_valid, X_train = X_train_full[:5000], X_train_full[5000:]\n",
        "y_valid, y_train = y_train_full[:5000], y_train_full[5000:]\n",
        "X_test = X_test.astype(np.float32) / 255."
      ]
    },
    {
      "cell_type": "code",
      "execution_count": null,
      "metadata": {
        "id": "gf78zFM7Axr1"
      },
      "outputs": [],
      "source": [
        "tf.keras.utils.set_random_seed(42)"
      ]
    },
    {
      "cell_type": "code",
      "execution_count": null,
      "metadata": {
        "id": "iKpfDKCsAxr1"
      },
      "outputs": [],
      "source": [
        "model = tf.keras.Sequential([\n",
        "    tf.keras.layers.Flatten(input_shape=[28, 28]),\n",
        "    tf.keras.layers.Dense(100, activation=\"relu\"),\n",
        "    tf.keras.layers.Dense(10, activation=\"softmax\"),\n",
        "])"
      ]
    },
    {
      "cell_type": "code",
      "execution_count": null,
      "metadata": {
        "id": "3qJ_XgmaAxr1"
      },
      "outputs": [],
      "source": [
        "n_epochs = 5\n",
        "batch_size = 32\n",
        "n_steps = len(X_train) // batch_size\n",
        "optimizer = tf.keras.optimizers.Nadam(learning_rate=0.01)\n",
        "loss_fn = tf.keras.losses.sparse_categorical_crossentropy\n",
        "mean_loss = tf.keras.metrics.Mean()\n",
        "metrics = [tf.keras.metrics.SparseCategoricalAccuracy()]"
      ]
    },
    {
      "cell_type": "code",
      "execution_count": 379,
      "metadata": {
        "colab": {
          "base_uri": "https://localhost:8080/",
          "height": 1000
        },
        "id": "pSytRZyVAxr1",
        "outputId": "915afe2a-329f-4a82-9b21-c169bd1c1015"
      },
      "outputs": [
        {
          "metadata": {
            "tags": null
          },
          "name": "stderr",
          "output_type": "stream",
          "text": [
            "All epochs:   0%|          | 0/5 [00:00<?, ?it/s]\n",
            "Epoch 1/5:   0%|          | 0/1718 [00:00<?, ?it/s]\u001b[A\n",
            "Epoch 1/5:   0%|          | 0/1718 [00:00<?, ?it/s, loss=2.37, sparse_categorical_accuracy=0.156]\u001b[A\n",
            "Epoch 1/5:   0%|          | 1/1718 [00:00<02:57,  9.69it/s, loss=2.37, sparse_categorical_accuracy=0.156]\u001b[A\n",
            "Epoch 1/5:   0%|          | 1/1718 [00:00<02:57,  9.69it/s, loss=2.69, sparse_categorical_accuracy=0.234]\u001b[A\n",
            "Epoch 1/5:   0%|          | 1/1718 [00:00<02:57,  9.69it/s, loss=2.68, sparse_categorical_accuracy=0.24] \u001b[A\n",
            "Epoch 1/5:   0%|          | 3/1718 [00:00<01:50, 15.53it/s, loss=2.68, sparse_categorical_accuracy=0.24]\u001b[A\n",
            "Epoch 1/5:   0%|          | 3/1718 [00:00<01:50, 15.53it/s, loss=2.58, sparse_categorical_accuracy=0.281]\u001b[A\n",
            "Epoch 1/5:   0%|          | 3/1718 [00:00<01:50, 15.53it/s, loss=2.42, sparse_categorical_accuracy=0.306]\u001b[A\n",
            "Epoch 1/5:   0%|          | 3/1718 [00:00<01:50, 15.53it/s, loss=2.26, sparse_categorical_accuracy=0.312]\u001b[A\n",
            "Epoch 1/5:   0%|          | 6/1718 [00:00<01:31, 18.64it/s, loss=2.26, sparse_categorical_accuracy=0.312]\u001b[A\n",
            "Epoch 1/5:   0%|          | 6/1718 [00:00<01:31, 18.64it/s, loss=2.15, sparse_categorical_accuracy=0.335]\u001b[A\n",
            "Epoch 1/5:   0%|          | 6/1718 [00:00<01:31, 18.64it/s, loss=2.09, sparse_categorical_accuracy=0.355]\u001b[A\n",
            "Epoch 1/5:   0%|          | 6/1718 [00:00<01:31, 18.64it/s, loss=1.98, sparse_categorical_accuracy=0.382]\u001b[A\n",
            "Epoch 1/5:   1%|          | 9/1718 [00:00<01:26, 19.76it/s, loss=1.98, sparse_categorical_accuracy=0.382]\u001b[A\n",
            "Epoch 1/5:   1%|          | 9/1718 [00:00<01:26, 19.76it/s, loss=1.87, sparse_categorical_accuracy=0.397]\u001b[A\n",
            "Epoch 1/5:   1%|          | 9/1718 [00:00<01:26, 19.76it/s, loss=1.82, sparse_categorical_accuracy=0.406]\u001b[A\n",
            "Epoch 1/5:   1%|          | 9/1718 [00:00<01:26, 19.76it/s, loss=1.74, sparse_categorical_accuracy=0.43] \u001b[A\n",
            "Epoch 1/5:   1%|          | 12/1718 [00:00<01:23, 20.55it/s, loss=1.74, sparse_categorical_accuracy=0.43]\u001b[A\n",
            "Epoch 1/5:   1%|          | 12/1718 [00:00<01:23, 20.55it/s, loss=1.65, sparse_categorical_accuracy=0.462]\u001b[A\n",
            "Epoch 1/5:   1%|          | 12/1718 [00:00<01:23, 20.55it/s, loss=1.62, sparse_categorical_accuracy=0.473]\u001b[A\n",
            "Epoch 1/5:   1%|          | 12/1718 [00:00<01:23, 20.55it/s, loss=1.58, sparse_categorical_accuracy=0.475]\u001b[A\n",
            "Epoch 1/5:   1%|          | 15/1718 [00:00<01:29, 19.03it/s, loss=1.58, sparse_categorical_accuracy=0.475]\u001b[A\n",
            "Epoch 1/5:   1%|          | 15/1718 [00:00<01:29, 19.03it/s, loss=1.54, sparse_categorical_accuracy=0.49] \u001b[A\n",
            "Epoch 1/5:   1%|          | 15/1718 [00:00<01:29, 19.03it/s, loss=1.5, sparse_categorical_accuracy=0.507]\u001b[A\n",
            "Epoch 1/5:   1%|          | 17/1718 [00:00<01:33, 18.15it/s, loss=1.5, sparse_categorical_accuracy=0.507]\u001b[A\n",
            "Epoch 1/5:   1%|          | 17/1718 [00:00<01:33, 18.15it/s, loss=1.46, sparse_categorical_accuracy=0.521]\u001b[A\n",
            "Epoch 1/5:   1%|          | 17/1718 [00:01<01:33, 18.15it/s, loss=1.43, sparse_categorical_accuracy=0.523]\u001b[A\n",
            "Epoch 1/5:   1%|          | 19/1718 [00:01<01:36, 17.59it/s, loss=1.43, sparse_categorical_accuracy=0.523]\u001b[A\n",
            "Epoch 1/5:   1%|          | 19/1718 [00:01<01:36, 17.59it/s, loss=1.42, sparse_categorical_accuracy=0.527]\u001b[A\n",
            "Epoch 1/5:   1%|          | 19/1718 [00:01<01:36, 17.59it/s, loss=1.39, sparse_categorical_accuracy=0.533]\u001b[A\n",
            "Epoch 1/5:   1%|          | 21/1718 [00:01<01:33, 18.14it/s, loss=1.39, sparse_categorical_accuracy=0.533]\u001b[A\n",
            "Epoch 1/5:   1%|          | 21/1718 [00:01<01:33, 18.14it/s, loss=1.37, sparse_categorical_accuracy=0.537]\u001b[A\n",
            "Epoch 1/5:   1%|          | 21/1718 [00:01<01:33, 18.14it/s, loss=1.33, sparse_categorical_accuracy=0.55] \u001b[A\n",
            "Epoch 1/5:   1%|          | 21/1718 [00:01<01:33, 18.14it/s, loss=1.32, sparse_categorical_accuracy=0.552]\u001b[A\n",
            "Epoch 1/5:   1%|▏         | 24/1718 [00:01<01:27, 19.38it/s, loss=1.32, sparse_categorical_accuracy=0.552]\u001b[A\n",
            "Epoch 1/5:   1%|▏         | 24/1718 [00:01<01:27, 19.38it/s, loss=1.3, sparse_categorical_accuracy=0.556] \u001b[A\n",
            "Epoch 1/5:   1%|▏         | 24/1718 [00:01<01:27, 19.38it/s, loss=1.29, sparse_categorical_accuracy=0.56]\u001b[A\n",
            "Epoch 1/5:   1%|▏         | 24/1718 [00:01<01:27, 19.38it/s, loss=1.27, sparse_categorical_accuracy=0.565]\u001b[A\n",
            "Epoch 1/5:   2%|▏         | 27/1718 [00:01<01:24, 19.95it/s, loss=1.27, sparse_categorical_accuracy=0.565]\u001b[A\n",
            "Epoch 1/5:   2%|▏         | 27/1718 [00:01<01:24, 19.95it/s, loss=1.26, sparse_categorical_accuracy=0.571]\u001b[A\n",
            "Epoch 1/5:   2%|▏         | 27/1718 [00:01<01:24, 19.95it/s, loss=1.24, sparse_categorical_accuracy=0.574]\u001b[A\n",
            "Epoch 1/5:   2%|▏         | 29/1718 [00:01<01:25, 19.74it/s, loss=1.24, sparse_categorical_accuracy=0.574]\u001b[A\n",
            "Epoch 1/5:   2%|▏         | 29/1718 [00:01<01:25, 19.74it/s, loss=1.22, sparse_categorical_accuracy=0.58] \u001b[A\n",
            "Epoch 1/5:   2%|▏         | 29/1718 [00:01<01:25, 19.74it/s, loss=1.21, sparse_categorical_accuracy=0.583]\u001b[A\n",
            "Epoch 1/5:   2%|▏         | 29/1718 [00:01<01:25, 19.74it/s, loss=1.2, sparse_categorical_accuracy=0.585] \u001b[A\n",
            "Epoch 1/5:   2%|▏         | 32/1718 [00:01<01:24, 19.90it/s, loss=1.2, sparse_categorical_accuracy=0.585]\u001b[A\n",
            "Epoch 1/5:   2%|▏         | 32/1718 [00:01<01:24, 19.90it/s, loss=1.2, sparse_categorical_accuracy=0.587]\u001b[A\n",
            "Epoch 1/5:   2%|▏         | 32/1718 [00:01<01:24, 19.90it/s, loss=1.19, sparse_categorical_accuracy=0.587]\u001b[A\n",
            "Epoch 1/5:   2%|▏         | 34/1718 [00:01<01:29, 18.71it/s, loss=1.19, sparse_categorical_accuracy=0.587]\u001b[A\n",
            "Epoch 1/5:   2%|▏         | 34/1718 [00:01<01:29, 18.71it/s, loss=1.17, sparse_categorical_accuracy=0.593]\u001b[A\n",
            "Epoch 1/5:   2%|▏         | 34/1718 [00:01<01:29, 18.71it/s, loss=1.16, sparse_categorical_accuracy=0.595]\u001b[A\n",
            "Epoch 1/5:   2%|▏         | 36/1718 [00:01<01:31, 18.30it/s, loss=1.16, sparse_categorical_accuracy=0.595]\u001b[A\n",
            "Epoch 1/5:   2%|▏         | 36/1718 [00:01<01:31, 18.30it/s, loss=1.15, sparse_categorical_accuracy=0.6]  \u001b[A\n",
            "Epoch 1/5:   2%|▏         | 36/1718 [00:02<01:31, 18.30it/s, loss=1.13, sparse_categorical_accuracy=0.604]\u001b[A\n",
            "Epoch 1/5:   2%|▏         | 38/1718 [00:02<01:35, 17.66it/s, loss=1.13, sparse_categorical_accuracy=0.604]\u001b[A\n",
            "Epoch 1/5:   2%|▏         | 38/1718 [00:02<01:35, 17.66it/s, loss=1.12, sparse_categorical_accuracy=0.607]\u001b[A\n",
            "Epoch 1/5:   2%|▏         | 38/1718 [00:02<01:35, 17.66it/s, loss=1.11, sparse_categorical_accuracy=0.609]\u001b[A\n",
            "Epoch 1/5:   2%|▏         | 38/1718 [00:02<01:35, 17.66it/s, loss=1.11, sparse_categorical_accuracy=0.61] \u001b[A\n",
            "Epoch 1/5:   2%|▏         | 41/1718 [00:02<01:31, 18.33it/s, loss=1.11, sparse_categorical_accuracy=0.61]\u001b[A\n",
            "Epoch 1/5:   2%|▏         | 41/1718 [00:02<01:31, 18.33it/s, loss=1.1, sparse_categorical_accuracy=0.612]\u001b[A\n",
            "Epoch 1/5:   2%|▏         | 41/1718 [00:02<01:31, 18.33it/s, loss=1.09, sparse_categorical_accuracy=0.612]\u001b[A\n",
            "Epoch 1/5:   2%|▏         | 41/1718 [00:02<01:31, 18.33it/s, loss=1.08, sparse_categorical_accuracy=0.616]\u001b[A\n",
            "Epoch 1/5:   3%|▎         | 44/1718 [00:02<01:25, 19.50it/s, loss=1.08, sparse_categorical_accuracy=0.616]\u001b[A\n",
            "Epoch 1/5:   3%|▎         | 44/1718 [00:02<01:25, 19.50it/s, loss=1.07, sparse_categorical_accuracy=0.62] \u001b[A\n",
            "Epoch 1/5:   3%|▎         | 44/1718 [00:02<01:25, 19.50it/s, loss=1.06, sparse_categorical_accuracy=0.622]\u001b[A\n",
            "Epoch 1/5:   3%|▎         | 44/1718 [00:02<01:25, 19.50it/s, loss=1.06, sparse_categorical_accuracy=0.621]\u001b[A\n",
            "Epoch 1/5:   3%|▎         | 47/1718 [00:02<01:23, 19.97it/s, loss=1.06, sparse_categorical_accuracy=0.621]\u001b[A\n",
            "Epoch 1/5:   3%|▎         | 47/1718 [00:02<01:23, 19.97it/s, loss=1.05, sparse_categorical_accuracy=0.624]\u001b[A\n",
            "Epoch 1/5:   3%|▎         | 47/1718 [00:02<01:23, 19.97it/s, loss=1.04, sparse_categorical_accuracy=0.628]\u001b[A\n",
            "Epoch 1/5:   3%|▎         | 47/1718 [00:02<01:23, 19.97it/s, loss=1.03, sparse_categorical_accuracy=0.63] \u001b[A\n",
            "Epoch 1/5:   3%|▎         | 50/1718 [00:02<01:21, 20.55it/s, loss=1.03, sparse_categorical_accuracy=0.63]\u001b[A\n",
            "Epoch 1/5:   3%|▎         | 50/1718 [00:02<01:21, 20.55it/s, loss=1.02, sparse_categorical_accuracy=0.631]\u001b[A\n",
            "Epoch 1/5:   3%|▎         | 50/1718 [00:02<01:21, 20.55it/s, loss=1.01, sparse_categorical_accuracy=0.635]\u001b[A\n",
            "Epoch 1/5:   3%|▎         | 50/1718 [00:02<01:21, 20.55it/s, loss=1.01, sparse_categorical_accuracy=0.636]\u001b[A\n",
            "Epoch 1/5:   3%|▎         | 53/1718 [00:02<01:27, 19.12it/s, loss=1.01, sparse_categorical_accuracy=0.636]\u001b[A\n",
            "Epoch 1/5:   3%|▎         | 53/1718 [00:02<01:27, 19.12it/s, loss=1.01, sparse_categorical_accuracy=0.637]\u001b[A\n",
            "Epoch 1/5:   3%|▎         | 53/1718 [00:02<01:27, 19.12it/s, loss=1, sparse_categorical_accuracy=0.638]   \u001b[A\n",
            "Epoch 1/5:   3%|▎         | 55/1718 [00:02<01:30, 18.41it/s, loss=1, sparse_categorical_accuracy=0.638]\u001b[A\n",
            "Epoch 1/5:   3%|▎         | 55/1718 [00:02<01:30, 18.41it/s, loss=0.993, sparse_categorical_accuracy=0.641]\u001b[A\n",
            "Epoch 1/5:   3%|▎         | 55/1718 [00:03<01:30, 18.41it/s, loss=0.988, sparse_categorical_accuracy=0.643]\u001b[A\n",
            "Epoch 1/5:   3%|▎         | 57/1718 [00:03<01:33, 17.69it/s, loss=0.988, sparse_categorical_accuracy=0.643]\u001b[A\n",
            "Epoch 1/5:   3%|▎         | 57/1718 [00:03<01:33, 17.69it/s, loss=0.984, sparse_categorical_accuracy=0.644]\u001b[A\n",
            "Epoch 1/5:   3%|▎         | 57/1718 [00:03<01:33, 17.69it/s, loss=0.981, sparse_categorical_accuracy=0.644]\u001b[A\n",
            "Epoch 1/5:   3%|▎         | 57/1718 [00:03<01:33, 17.69it/s, loss=0.979, sparse_categorical_accuracy=0.644]\u001b[A\n",
            "Epoch 1/5:   3%|▎         | 60/1718 [00:03<01:28, 18.65it/s, loss=0.979, sparse_categorical_accuracy=0.644]\u001b[A\n",
            "Epoch 1/5:   3%|▎         | 60/1718 [00:03<01:28, 18.65it/s, loss=0.975, sparse_categorical_accuracy=0.645]\u001b[A\n",
            "Epoch 1/5:   3%|▎         | 60/1718 [00:03<01:28, 18.65it/s, loss=0.971, sparse_categorical_accuracy=0.645]\u001b[A\n",
            "Epoch 1/5:   4%|▎         | 62/1718 [00:03<01:27, 18.92it/s, loss=0.971, sparse_categorical_accuracy=0.645]\u001b[A\n",
            "Epoch 1/5:   4%|▎         | 62/1718 [00:03<01:27, 18.92it/s, loss=0.96, sparse_categorical_accuracy=0.649] \u001b[A\n",
            "Epoch 1/5:   4%|▎         | 62/1718 [00:03<01:27, 18.92it/s, loss=0.955, sparse_categorical_accuracy=0.651]\u001b[A\n",
            "Epoch 1/5:   4%|▎         | 64/1718 [00:03<01:26, 19.02it/s, loss=0.955, sparse_categorical_accuracy=0.651]\u001b[A\n",
            "Epoch 1/5:   4%|▎         | 64/1718 [00:03<01:26, 19.02it/s, loss=0.95, sparse_categorical_accuracy=0.653] \u001b[A\n",
            "Epoch 1/5:   4%|▎         | 64/1718 [00:03<01:26, 19.02it/s, loss=0.949, sparse_categorical_accuracy=0.654]\u001b[A\n",
            "Epoch 1/5:   4%|▍         | 66/1718 [00:03<01:25, 19.27it/s, loss=0.949, sparse_categorical_accuracy=0.654]\u001b[A\n",
            "Epoch 1/5:   4%|▍         | 66/1718 [00:03<01:25, 19.27it/s, loss=0.944, sparse_categorical_accuracy=0.655]\u001b[A\n",
            "Epoch 1/5:   4%|▍         | 66/1718 [00:03<01:25, 19.27it/s, loss=0.94, sparse_categorical_accuracy=0.657] \u001b[A\n",
            "Epoch 1/5:   4%|▍         | 68/1718 [00:03<01:26, 19.00it/s, loss=0.94, sparse_categorical_accuracy=0.657]\u001b[A\n",
            "Epoch 1/5:   4%|▍         | 68/1718 [00:03<01:26, 19.00it/s, loss=0.935, sparse_categorical_accuracy=0.658]\u001b[A\n",
            "Epoch 1/5:   4%|▍         | 68/1718 [00:03<01:26, 19.00it/s, loss=0.928, sparse_categorical_accuracy=0.662]\u001b[A\n",
            "Epoch 1/5:   4%|▍         | 70/1718 [00:03<01:28, 18.58it/s, loss=0.928, sparse_categorical_accuracy=0.662]\u001b[A\n",
            "Epoch 1/5:   4%|▍         | 70/1718 [00:03<01:28, 18.58it/s, loss=0.925, sparse_categorical_accuracy=0.663]\u001b[A\n",
            "Epoch 1/5:   4%|▍         | 70/1718 [00:03<01:28, 18.58it/s, loss=0.922, sparse_categorical_accuracy=0.662]\u001b[A\n",
            "Epoch 1/5:   4%|▍         | 72/1718 [00:03<01:32, 17.79it/s, loss=0.922, sparse_categorical_accuracy=0.662]\u001b[A\n",
            "Epoch 1/5:   4%|▍         | 72/1718 [00:03<01:32, 17.79it/s, loss=0.915, sparse_categorical_accuracy=0.664]\u001b[A\n",
            "Epoch 1/5:   4%|▍         | 72/1718 [00:03<01:32, 17.79it/s, loss=0.912, sparse_categorical_accuracy=0.666]\u001b[A\n",
            "Epoch 1/5:   4%|▍         | 74/1718 [00:03<01:35, 17.29it/s, loss=0.912, sparse_categorical_accuracy=0.666]\u001b[A\n",
            "Epoch 1/5:   4%|▍         | 74/1718 [00:04<01:35, 17.29it/s, loss=0.908, sparse_categorical_accuracy=0.667]\u001b[A\n",
            "Epoch 1/5:   4%|▍         | 74/1718 [00:04<01:35, 17.29it/s, loss=0.907, sparse_categorical_accuracy=0.666]\u001b[A\n",
            "Epoch 1/5:   4%|▍         | 76/1718 [00:04<01:37, 16.92it/s, loss=0.907, sparse_categorical_accuracy=0.666]\u001b[A\n",
            "Epoch 1/5:   4%|▍         | 76/1718 [00:04<01:37, 16.92it/s, loss=0.905, sparse_categorical_accuracy=0.668]\u001b[A\n",
            "Epoch 1/5:   4%|▍         | 76/1718 [00:04<01:37, 16.92it/s, loss=0.899, sparse_categorical_accuracy=0.67] \u001b[A\n",
            "Epoch 1/5:   4%|▍         | 76/1718 [00:04<01:37, 16.92it/s, loss=0.895, sparse_categorical_accuracy=0.672]\u001b[A\n",
            "Epoch 1/5:   5%|▍         | 79/1718 [00:04<01:33, 17.56it/s, loss=0.895, sparse_categorical_accuracy=0.672]\u001b[A\n",
            "Epoch 1/5:   5%|▍         | 79/1718 [00:04<01:33, 17.56it/s, loss=0.891, sparse_categorical_accuracy=0.673]\u001b[A\n",
            "Epoch 1/5:   5%|▍         | 79/1718 [00:04<01:33, 17.56it/s, loss=0.886, sparse_categorical_accuracy=0.676]\u001b[A\n",
            "Epoch 1/5:   5%|▍         | 79/1718 [00:04<01:33, 17.56it/s, loss=0.887, sparse_categorical_accuracy=0.675]\u001b[A\n",
            "Epoch 1/5:   5%|▍         | 82/1718 [00:04<01:27, 18.61it/s, loss=0.887, sparse_categorical_accuracy=0.675]\u001b[A\n",
            "Epoch 1/5:   5%|▍         | 82/1718 [00:04<01:27, 18.61it/s, loss=0.882, sparse_categorical_accuracy=0.677]\u001b[A\n",
            "Epoch 1/5:   5%|▍         | 82/1718 [00:04<01:27, 18.61it/s, loss=0.877, sparse_categorical_accuracy=0.679]\u001b[A\n",
            "Epoch 1/5:   5%|▍         | 82/1718 [00:04<01:27, 18.61it/s, loss=0.875, sparse_categorical_accuracy=0.679]\u001b[A\n",
            "Epoch 1/5:   5%|▍         | 85/1718 [00:04<01:23, 19.53it/s, loss=0.875, sparse_categorical_accuracy=0.679]\u001b[A\n",
            "Epoch 1/5:   5%|▍         | 85/1718 [00:04<01:23, 19.53it/s, loss=0.871, sparse_categorical_accuracy=0.68] \u001b[A\n",
            "Epoch 1/5:   5%|▍         | 85/1718 [00:04<01:23, 19.53it/s, loss=0.866, sparse_categorical_accuracy=0.682]\u001b[A\n",
            "Epoch 1/5:   5%|▍         | 85/1718 [00:04<01:23, 19.53it/s, loss=0.865, sparse_categorical_accuracy=0.683]\u001b[A\n",
            "Epoch 1/5:   5%|▌         | 88/1718 [00:04<01:23, 19.58it/s, loss=0.865, sparse_categorical_accuracy=0.683]\u001b[A\n",
            "Epoch 1/5:   5%|▌         | 88/1718 [00:04<01:23, 19.58it/s, loss=0.863, sparse_categorical_accuracy=0.683]\u001b[A\n",
            "Epoch 1/5:   5%|▌         | 88/1718 [00:04<01:23, 19.58it/s, loss=0.861, sparse_categorical_accuracy=0.684]\u001b[A\n",
            "Epoch 1/5:   5%|▌         | 90/1718 [00:04<01:28, 18.40it/s, loss=0.861, sparse_categorical_accuracy=0.684]\u001b[A\n",
            "Epoch 1/5:   5%|▌         | 90/1718 [00:04<01:28, 18.40it/s, loss=0.858, sparse_categorical_accuracy=0.685]\u001b[A\n",
            "Epoch 1/5:   5%|▌         | 90/1718 [00:04<01:28, 18.40it/s, loss=0.856, sparse_categorical_accuracy=0.686]\u001b[A\n",
            "Epoch 1/5:   5%|▌         | 92/1718 [00:04<01:32, 17.57it/s, loss=0.856, sparse_categorical_accuracy=0.686]\u001b[A\n",
            "Epoch 1/5:   5%|▌         | 92/1718 [00:05<01:32, 17.57it/s, loss=0.857, sparse_categorical_accuracy=0.687]\u001b[A\n",
            "Epoch 1/5:   5%|▌         | 92/1718 [00:05<01:32, 17.57it/s, loss=0.856, sparse_categorical_accuracy=0.688]\u001b[A\n",
            "Epoch 1/5:   5%|▌         | 94/1718 [00:05<01:31, 17.75it/s, loss=0.856, sparse_categorical_accuracy=0.688]\u001b[A\n",
            "Epoch 1/5:   5%|▌         | 94/1718 [00:05<01:31, 17.75it/s, loss=0.852, sparse_categorical_accuracy=0.689]\u001b[A\n",
            "Epoch 1/5:   5%|▌         | 94/1718 [00:05<01:31, 17.75it/s, loss=0.848, sparse_categorical_accuracy=0.691]\u001b[A\n",
            "Epoch 1/5:   6%|▌         | 96/1718 [00:05<01:28, 18.30it/s, loss=0.848, sparse_categorical_accuracy=0.691]\u001b[A\n",
            "Epoch 1/5:   6%|▌         | 96/1718 [00:05<01:28, 18.30it/s, loss=0.845, sparse_categorical_accuracy=0.692]\u001b[A\n",
            "Epoch 1/5:   6%|▌         | 96/1718 [00:05<01:28, 18.30it/s, loss=0.842, sparse_categorical_accuracy=0.693]\u001b[A\n",
            "Epoch 1/5:   6%|▌         | 98/1718 [00:05<01:26, 18.74it/s, loss=0.842, sparse_categorical_accuracy=0.693]\u001b[A\n",
            "Epoch 1/5:   6%|▌         | 98/1718 [00:05<01:26, 18.74it/s, loss=0.838, sparse_categorical_accuracy=0.694]\u001b[A\n",
            "Epoch 1/5:   6%|▌         | 98/1718 [00:05<01:26, 18.74it/s, loss=0.836, sparse_categorical_accuracy=0.695]\u001b[A\n",
            "Epoch 1/5:   6%|▌         | 98/1718 [00:05<01:26, 18.74it/s, loss=0.834, sparse_categorical_accuracy=0.696]\u001b[A\n",
            "Epoch 1/5:   6%|▌         | 101/1718 [00:05<01:22, 19.60it/s, loss=0.834, sparse_categorical_accuracy=0.696]\u001b[A\n",
            "Epoch 1/5:   6%|▌         | 101/1718 [00:05<01:22, 19.60it/s, loss=0.831, sparse_categorical_accuracy=0.697]\u001b[A\n",
            "Epoch 1/5:   6%|▌         | 101/1718 [00:05<01:22, 19.60it/s, loss=0.827, sparse_categorical_accuracy=0.698]\u001b[A\n",
            "Epoch 1/5:   6%|▌         | 101/1718 [00:05<01:22, 19.60it/s, loss=0.824, sparse_categorical_accuracy=0.698]\u001b[A\n",
            "Epoch 1/5:   6%|▌         | 104/1718 [00:05<01:19, 20.18it/s, loss=0.824, sparse_categorical_accuracy=0.698]\u001b[A\n",
            "Epoch 1/5:   6%|▌         | 104/1718 [00:05<01:19, 20.18it/s, loss=0.82, sparse_categorical_accuracy=0.7]   \u001b[A\n",
            "Epoch 1/5:   6%|▌         | 104/1718 [00:05<01:19, 20.18it/s, loss=0.817, sparse_categorical_accuracy=0.701]\u001b[A\n",
            "Epoch 1/5:   6%|▌         | 104/1718 [00:05<01:19, 20.18it/s, loss=0.817, sparse_categorical_accuracy=0.702]\u001b[A\n",
            "Epoch 1/5:   6%|▌         | 107/1718 [00:05<01:20, 19.97it/s, loss=0.817, sparse_categorical_accuracy=0.702]\u001b[A\n",
            "Epoch 1/5:   6%|▌         | 107/1718 [00:05<01:20, 19.97it/s, loss=0.815, sparse_categorical_accuracy=0.702]\u001b[A\n",
            "Epoch 1/5:   6%|▌         | 107/1718 [00:05<01:20, 19.97it/s, loss=0.814, sparse_categorical_accuracy=0.702]\u001b[A\n",
            "Epoch 1/5:   6%|▋         | 109/1718 [00:05<01:25, 18.77it/s, loss=0.814, sparse_categorical_accuracy=0.702]\u001b[A\n",
            "Epoch 1/5:   6%|▋         | 109/1718 [00:05<01:25, 18.77it/s, loss=0.812, sparse_categorical_accuracy=0.702]\u001b[A\n",
            "Epoch 1/5:   6%|▋         | 109/1718 [00:05<01:25, 18.77it/s, loss=0.812, sparse_categorical_accuracy=0.702]\u001b[A\n",
            "Epoch 1/5:   6%|▋         | 111/1718 [00:05<01:34, 17.03it/s, loss=0.812, sparse_categorical_accuracy=0.702]\u001b[A\n",
            "Epoch 1/5:   6%|▋         | 111/1718 [00:06<01:34, 17.03it/s, loss=0.81, sparse_categorical_accuracy=0.703] \u001b[A\n",
            "Epoch 1/5:   6%|▋         | 111/1718 [00:06<01:34, 17.03it/s, loss=0.81, sparse_categorical_accuracy=0.704]\u001b[A\n",
            "Epoch 1/5:   7%|▋         | 113/1718 [00:06<01:45, 15.25it/s, loss=0.81, sparse_categorical_accuracy=0.704]\u001b[A\n",
            "Epoch 1/5:   7%|▋         | 113/1718 [00:06<01:45, 15.25it/s, loss=0.807, sparse_categorical_accuracy=0.705]\u001b[A\n",
            "Epoch 1/5:   7%|▋         | 113/1718 [00:06<01:45, 15.25it/s, loss=0.807, sparse_categorical_accuracy=0.705]\u001b[A\n",
            "Epoch 1/5:   7%|▋         | 115/1718 [00:06<01:44, 15.31it/s, loss=0.807, sparse_categorical_accuracy=0.705]\u001b[A\n",
            "Epoch 1/5:   7%|▋         | 115/1718 [00:06<01:44, 15.31it/s, loss=0.803, sparse_categorical_accuracy=0.706]\u001b[A\n",
            "Epoch 1/5:   7%|▋         | 115/1718 [00:06<01:44, 15.31it/s, loss=0.801, sparse_categorical_accuracy=0.708]\u001b[A\n",
            "Epoch 1/5:   7%|▋         | 117/1718 [00:06<01:46, 15.02it/s, loss=0.801, sparse_categorical_accuracy=0.708]\u001b[A\n",
            "Epoch 1/5:   7%|▋         | 117/1718 [00:06<01:46, 15.02it/s, loss=0.798, sparse_categorical_accuracy=0.709]\u001b[A\n",
            "Epoch 1/5:   7%|▋         | 117/1718 [00:06<01:46, 15.02it/s, loss=0.795, sparse_categorical_accuracy=0.71] \u001b[A\n",
            "Epoch 1/5:   7%|▋         | 119/1718 [00:06<01:43, 15.39it/s, loss=0.795, sparse_categorical_accuracy=0.71]\u001b[A\n",
            "Epoch 1/5:   7%|▋         | 119/1718 [00:06<01:43, 15.39it/s, loss=0.796, sparse_categorical_accuracy=0.71]\u001b[A\n",
            "Epoch 1/5:   7%|▋         | 119/1718 [00:06<01:43, 15.39it/s, loss=0.793, sparse_categorical_accuracy=0.711]\u001b[A\n",
            "Epoch 1/5:   7%|▋         | 121/1718 [00:06<01:41, 15.80it/s, loss=0.793, sparse_categorical_accuracy=0.711]\u001b[A\n",
            "Epoch 1/5:   7%|▋         | 121/1718 [00:06<01:41, 15.80it/s, loss=0.789, sparse_categorical_accuracy=0.712]\u001b[A\n",
            "Epoch 1/5:   7%|▋         | 121/1718 [00:06<01:41, 15.80it/s, loss=0.787, sparse_categorical_accuracy=0.713]\u001b[A\n",
            "Epoch 1/5:   7%|▋         | 123/1718 [00:06<01:51, 14.29it/s, loss=0.787, sparse_categorical_accuracy=0.713]\u001b[A\n",
            "Epoch 1/5:   7%|▋         | 123/1718 [00:06<01:51, 14.29it/s, loss=0.787, sparse_categorical_accuracy=0.713]\u001b[A\n",
            "Epoch 1/5:   7%|▋         | 123/1718 [00:06<01:51, 14.29it/s, loss=0.784, sparse_categorical_accuracy=0.714]\u001b[A\n",
            "Epoch 1/5:   7%|▋         | 125/1718 [00:06<01:57, 13.58it/s, loss=0.784, sparse_categorical_accuracy=0.714]\u001b[A\n",
            "Epoch 1/5:   7%|▋         | 125/1718 [00:07<01:57, 13.58it/s, loss=0.785, sparse_categorical_accuracy=0.714]\u001b[A\n",
            "Epoch 1/5:   7%|▋         | 125/1718 [00:07<01:57, 13.58it/s, loss=0.784, sparse_categorical_accuracy=0.714]\u001b[A\n",
            "Epoch 1/5:   7%|▋         | 127/1718 [00:07<01:48, 14.68it/s, loss=0.784, sparse_categorical_accuracy=0.714]\u001b[A\n",
            "Epoch 1/5:   7%|▋         | 127/1718 [00:07<01:48, 14.68it/s, loss=0.784, sparse_categorical_accuracy=0.715]\u001b[A\n",
            "Epoch 1/5:   7%|▋         | 127/1718 [00:07<01:48, 14.68it/s, loss=0.781, sparse_categorical_accuracy=0.716]\u001b[A\n",
            "Epoch 1/5:   8%|▊         | 129/1718 [00:07<01:43, 15.33it/s, loss=0.781, sparse_categorical_accuracy=0.716]\u001b[A\n",
            "Epoch 1/5:   8%|▊         | 129/1718 [00:07<01:43, 15.33it/s, loss=0.78, sparse_categorical_accuracy=0.716] \u001b[A\n",
            "Epoch 1/5:   8%|▊         | 129/1718 [00:07<01:43, 15.33it/s, loss=0.779, sparse_categorical_accuracy=0.717]\u001b[A\n",
            "Epoch 1/5:   8%|▊         | 131/1718 [00:07<01:39, 15.94it/s, loss=0.779, sparse_categorical_accuracy=0.717]\u001b[A\n",
            "Epoch 1/5:   8%|▊         | 131/1718 [00:07<01:39, 15.94it/s, loss=0.779, sparse_categorical_accuracy=0.716]\u001b[A\n",
            "Epoch 1/5:   8%|▊         | 131/1718 [00:07<01:39, 15.94it/s, loss=0.778, sparse_categorical_accuracy=0.717]\u001b[A\n",
            "Epoch 1/5:   8%|▊         | 133/1718 [00:07<01:38, 16.06it/s, loss=0.778, sparse_categorical_accuracy=0.717]\u001b[A\n",
            "Epoch 1/5:   8%|▊         | 133/1718 [00:07<01:38, 16.06it/s, loss=0.778, sparse_categorical_accuracy=0.717]\u001b[A\n",
            "Epoch 1/5:   8%|▊         | 133/1718 [00:07<01:38, 16.06it/s, loss=0.776, sparse_categorical_accuracy=0.718]\u001b[A\n",
            "Epoch 1/5:   8%|▊         | 135/1718 [00:07<01:43, 15.31it/s, loss=0.776, sparse_categorical_accuracy=0.718]\u001b[A\n",
            "Epoch 1/5:   8%|▊         | 135/1718 [00:07<01:43, 15.31it/s, loss=0.776, sparse_categorical_accuracy=0.718]\u001b[A\n",
            "Epoch 1/5:   8%|▊         | 135/1718 [00:07<01:43, 15.31it/s, loss=0.773, sparse_categorical_accuracy=0.719]\u001b[A\n",
            "Epoch 1/5:   8%|▊         | 137/1718 [00:07<01:45, 15.04it/s, loss=0.773, sparse_categorical_accuracy=0.719]\u001b[A\n",
            "Epoch 1/5:   8%|▊         | 137/1718 [00:07<01:45, 15.04it/s, loss=0.771, sparse_categorical_accuracy=0.72] \u001b[A\n",
            "Epoch 1/5:   8%|▊         | 137/1718 [00:07<01:45, 15.04it/s, loss=0.771, sparse_categorical_accuracy=0.72]\u001b[A\n",
            "Epoch 1/5:   8%|▊         | 139/1718 [00:07<01:47, 14.66it/s, loss=0.771, sparse_categorical_accuracy=0.72]\u001b[A\n",
            "Epoch 1/5:   8%|▊         | 139/1718 [00:07<01:47, 14.66it/s, loss=0.768, sparse_categorical_accuracy=0.721]\u001b[A\n",
            "Epoch 1/5:   8%|▊         | 139/1718 [00:08<01:47, 14.66it/s, loss=0.766, sparse_categorical_accuracy=0.722]\u001b[A\n",
            "Epoch 1/5:   8%|▊         | 141/1718 [00:08<01:54, 13.79it/s, loss=0.766, sparse_categorical_accuracy=0.722]\u001b[A\n",
            "Epoch 1/5:   8%|▊         | 141/1718 [00:08<01:54, 13.79it/s, loss=0.763, sparse_categorical_accuracy=0.723]\u001b[A\n",
            "Epoch 1/5:   8%|▊         | 141/1718 [00:08<01:54, 13.79it/s, loss=0.761, sparse_categorical_accuracy=0.724]\u001b[A\n",
            "Epoch 1/5:   8%|▊         | 143/1718 [00:08<01:54, 13.76it/s, loss=0.761, sparse_categorical_accuracy=0.724]\u001b[A\n",
            "Epoch 1/5:   8%|▊         | 143/1718 [00:08<01:54, 13.76it/s, loss=0.762, sparse_categorical_accuracy=0.723]\u001b[A\n",
            "Epoch 1/5:   8%|▊         | 143/1718 [00:08<01:54, 13.76it/s, loss=0.76, sparse_categorical_accuracy=0.724] \u001b[A\n",
            "Epoch 1/5:   8%|▊         | 145/1718 [00:08<01:53, 13.91it/s, loss=0.76, sparse_categorical_accuracy=0.724]\u001b[A\n",
            "Epoch 1/5:   8%|▊         | 145/1718 [00:08<01:53, 13.91it/s, loss=0.76, sparse_categorical_accuracy=0.724]\u001b[A\n",
            "Epoch 1/5:   8%|▊         | 145/1718 [00:08<01:53, 13.91it/s, loss=0.76, sparse_categorical_accuracy=0.724]\u001b[A\n",
            "Epoch 1/5:   9%|▊         | 147/1718 [00:08<01:49, 14.28it/s, loss=0.76, sparse_categorical_accuracy=0.724]\u001b[A\n",
            "Epoch 1/5:   9%|▊         | 147/1718 [00:08<01:49, 14.28it/s, loss=0.757, sparse_categorical_accuracy=0.725]\u001b[A\n",
            "Epoch 1/5:   9%|▊         | 147/1718 [00:08<01:49, 14.28it/s, loss=0.756, sparse_categorical_accuracy=0.726]\u001b[A\n",
            "Epoch 1/5:   9%|▊         | 149/1718 [00:08<01:46, 14.73it/s, loss=0.756, sparse_categorical_accuracy=0.726]\u001b[A\n",
            "Epoch 1/5:   9%|▊         | 149/1718 [00:08<01:46, 14.73it/s, loss=0.753, sparse_categorical_accuracy=0.727]\u001b[A\n",
            "Epoch 1/5:   9%|▊         | 149/1718 [00:08<01:46, 14.73it/s, loss=0.751, sparse_categorical_accuracy=0.728]\u001b[A\n",
            "Epoch 1/5:   9%|▉         | 151/1718 [00:08<01:46, 14.71it/s, loss=0.751, sparse_categorical_accuracy=0.728]\u001b[A\n",
            "Epoch 1/5:   9%|▉         | 151/1718 [00:08<01:46, 14.71it/s, loss=0.75, sparse_categorical_accuracy=0.728] \u001b[A\n",
            "Epoch 1/5:   9%|▉         | 151/1718 [00:08<01:46, 14.71it/s, loss=0.747, sparse_categorical_accuracy=0.729]\u001b[A\n",
            "Epoch 1/5:   9%|▉         | 153/1718 [00:08<01:49, 14.29it/s, loss=0.747, sparse_categorical_accuracy=0.729]\u001b[A\n",
            "Epoch 1/5:   9%|▉         | 153/1718 [00:08<01:49, 14.29it/s, loss=0.744, sparse_categorical_accuracy=0.73] \u001b[A\n",
            "Epoch 1/5:   9%|▉         | 153/1718 [00:08<01:49, 14.29it/s, loss=0.741, sparse_categorical_accuracy=0.731]\u001b[A\n",
            "Epoch 1/5:   9%|▉         | 155/1718 [00:09<01:47, 14.47it/s, loss=0.741, sparse_categorical_accuracy=0.731]\u001b[A\n",
            "Epoch 1/5:   9%|▉         | 155/1718 [00:09<01:47, 14.47it/s, loss=0.739, sparse_categorical_accuracy=0.732]\u001b[A\n",
            "Epoch 1/5:   9%|▉         | 155/1718 [00:09<01:47, 14.47it/s, loss=0.737, sparse_categorical_accuracy=0.732]\u001b[A\n",
            "Epoch 1/5:   9%|▉         | 157/1718 [00:09<01:44, 14.92it/s, loss=0.737, sparse_categorical_accuracy=0.732]\u001b[A\n",
            "Epoch 1/5:   9%|▉         | 157/1718 [00:09<01:44, 14.92it/s, loss=0.734, sparse_categorical_accuracy=0.733]\u001b[A\n",
            "Epoch 1/5:   9%|▉         | 157/1718 [00:09<01:44, 14.92it/s, loss=0.733, sparse_categorical_accuracy=0.734]\u001b[A\n",
            "Epoch 1/5:   9%|▉         | 159/1718 [00:09<01:47, 14.49it/s, loss=0.733, sparse_categorical_accuracy=0.734]\u001b[A\n",
            "Epoch 1/5:   9%|▉         | 159/1718 [00:09<01:47, 14.49it/s, loss=0.73, sparse_categorical_accuracy=0.734] \u001b[A\n",
            "Epoch 1/5:   9%|▉         | 159/1718 [00:09<01:47, 14.49it/s, loss=0.729, sparse_categorical_accuracy=0.735]\u001b[A\n",
            "Epoch 1/5:   9%|▉         | 161/1718 [00:09<01:50, 14.08it/s, loss=0.729, sparse_categorical_accuracy=0.735]\u001b[A\n",
            "Epoch 1/5:   9%|▉         | 161/1718 [00:09<01:50, 14.08it/s, loss=0.726, sparse_categorical_accuracy=0.735]\u001b[A\n",
            "Epoch 1/5:   9%|▉         | 161/1718 [00:09<01:50, 14.08it/s, loss=0.724, sparse_categorical_accuracy=0.736]\u001b[A\n",
            "Epoch 1/5:   9%|▉         | 163/1718 [00:09<01:45, 14.79it/s, loss=0.724, sparse_categorical_accuracy=0.736]\u001b[A\n",
            "Epoch 1/5:   9%|▉         | 163/1718 [00:09<01:45, 14.79it/s, loss=0.724, sparse_categorical_accuracy=0.735]\u001b[A\n",
            "Epoch 1/5:   9%|▉         | 163/1718 [00:09<01:45, 14.79it/s, loss=0.722, sparse_categorical_accuracy=0.737]\u001b[A\n",
            "Epoch 1/5:   9%|▉         | 163/1718 [00:09<01:45, 14.79it/s, loss=0.723, sparse_categorical_accuracy=0.737]\u001b[A\n",
            "Epoch 1/5:  10%|▉         | 166/1718 [00:09<01:37, 15.99it/s, loss=0.723, sparse_categorical_accuracy=0.737]\u001b[A\n",
            "Epoch 1/5:  10%|▉         | 166/1718 [00:09<01:37, 15.99it/s, loss=0.722, sparse_categorical_accuracy=0.737]\u001b[A\n",
            "Epoch 1/5:  10%|▉         | 166/1718 [00:09<01:37, 15.99it/s, loss=0.724, sparse_categorical_accuracy=0.738]\u001b[A\n",
            "Epoch 1/5:  10%|▉         | 168/1718 [00:09<01:38, 15.74it/s, loss=0.724, sparse_categorical_accuracy=0.738]\u001b[A\n",
            "Epoch 1/5:  10%|▉         | 168/1718 [00:09<01:38, 15.74it/s, loss=0.722, sparse_categorical_accuracy=0.739]\u001b[A\n",
            "Epoch 1/5:  10%|▉         | 168/1718 [00:09<01:38, 15.74it/s, loss=0.721, sparse_categorical_accuracy=0.739]\u001b[A\n",
            "Epoch 1/5:  10%|▉         | 170/1718 [00:09<01:37, 15.80it/s, loss=0.721, sparse_categorical_accuracy=0.739]\u001b[A\n",
            "Epoch 1/5:  10%|▉         | 170/1718 [00:10<01:37, 15.80it/s, loss=0.72, sparse_categorical_accuracy=0.739] \u001b[A\n",
            "Epoch 1/5:  10%|▉         | 170/1718 [00:10<01:37, 15.80it/s, loss=0.72, sparse_categorical_accuracy=0.739]\u001b[A\n",
            "Epoch 1/5:  10%|█         | 172/1718 [00:10<01:36, 16.07it/s, loss=0.72, sparse_categorical_accuracy=0.739]\u001b[A\n",
            "Epoch 1/5:  10%|█         | 172/1718 [00:10<01:36, 16.07it/s, loss=0.719, sparse_categorical_accuracy=0.74]\u001b[A\n",
            "Epoch 1/5:  10%|█         | 172/1718 [00:10<01:36, 16.07it/s, loss=0.718, sparse_categorical_accuracy=0.74]\u001b[A\n",
            "Epoch 1/5:  10%|█         | 174/1718 [00:10<01:30, 17.01it/s, loss=0.718, sparse_categorical_accuracy=0.74]\u001b[A\n",
            "Epoch 1/5:  10%|█         | 174/1718 [00:10<01:30, 17.01it/s, loss=0.719, sparse_categorical_accuracy=0.74]\u001b[A\n",
            "Epoch 1/5:  10%|█         | 174/1718 [00:10<01:30, 17.01it/s, loss=0.719, sparse_categorical_accuracy=0.739]\u001b[A\n",
            "Epoch 1/5:  10%|█         | 174/1718 [00:10<01:30, 17.01it/s, loss=0.719, sparse_categorical_accuracy=0.74] \u001b[A\n",
            "Epoch 1/5:  10%|█         | 177/1718 [00:10<01:22, 18.61it/s, loss=0.719, sparse_categorical_accuracy=0.74]\u001b[A\n",
            "Epoch 1/5:  10%|█         | 177/1718 [00:10<01:22, 18.61it/s, loss=0.718, sparse_categorical_accuracy=0.74]\u001b[A\n",
            "Epoch 1/5:  10%|█         | 177/1718 [00:10<01:22, 18.61it/s, loss=0.717, sparse_categorical_accuracy=0.74]\u001b[A\n",
            "Epoch 1/5:  10%|█         | 177/1718 [00:10<01:22, 18.61it/s, loss=0.716, sparse_categorical_accuracy=0.74]\u001b[A\n",
            "Epoch 1/5:  10%|█         | 180/1718 [00:10<01:19, 19.40it/s, loss=0.716, sparse_categorical_accuracy=0.74]\u001b[A\n",
            "Epoch 1/5:  10%|█         | 180/1718 [00:10<01:19, 19.40it/s, loss=0.714, sparse_categorical_accuracy=0.741]\u001b[A\n",
            "Epoch 1/5:  10%|█         | 180/1718 [00:10<01:19, 19.40it/s, loss=0.711, sparse_categorical_accuracy=0.743]\u001b[A\n",
            "Epoch 1/5:  11%|█         | 182/1718 [00:10<01:20, 19.18it/s, loss=0.711, sparse_categorical_accuracy=0.743]\u001b[A\n",
            "Epoch 1/5:  11%|█         | 182/1718 [00:10<01:20, 19.18it/s, loss=0.71, sparse_categorical_accuracy=0.743] \u001b[A\n",
            "Epoch 1/5:  11%|█         | 182/1718 [00:10<01:20, 19.18it/s, loss=0.71, sparse_categorical_accuracy=0.743]\u001b[A\n",
            "Epoch 1/5:  11%|█         | 184/1718 [00:10<01:20, 18.94it/s, loss=0.71, sparse_categorical_accuracy=0.743]\u001b[A\n",
            "Epoch 1/5:  11%|█         | 184/1718 [00:10<01:20, 18.94it/s, loss=0.709, sparse_categorical_accuracy=0.744]\u001b[A\n",
            "Epoch 1/5:  11%|█         | 184/1718 [00:10<01:20, 18.94it/s, loss=0.708, sparse_categorical_accuracy=0.745]\u001b[A\n",
            "Epoch 1/5:  11%|█         | 186/1718 [00:10<01:25, 17.99it/s, loss=0.708, sparse_categorical_accuracy=0.745]\u001b[A\n",
            "Epoch 1/5:  11%|█         | 186/1718 [00:10<01:25, 17.99it/s, loss=0.709, sparse_categorical_accuracy=0.744]\u001b[A\n",
            "Epoch 1/5:  11%|█         | 186/1718 [00:10<01:25, 17.99it/s, loss=0.707, sparse_categorical_accuracy=0.745]\u001b[A\n",
            "Epoch 1/5:  11%|█         | 188/1718 [00:10<01:28, 17.29it/s, loss=0.707, sparse_categorical_accuracy=0.745]\u001b[A\n",
            "Epoch 1/5:  11%|█         | 188/1718 [00:11<01:28, 17.29it/s, loss=0.71, sparse_categorical_accuracy=0.745] \u001b[A\n",
            "Epoch 1/5:  11%|█         | 188/1718 [00:11<01:28, 17.29it/s, loss=0.71, sparse_categorical_accuracy=0.745]\u001b[A\n",
            "Epoch 1/5:  11%|█         | 190/1718 [00:11<01:29, 17.08it/s, loss=0.71, sparse_categorical_accuracy=0.745]\u001b[A\n",
            "Epoch 1/5:  11%|█         | 190/1718 [00:11<01:29, 17.08it/s, loss=0.709, sparse_categorical_accuracy=0.745]\u001b[A\n",
            "Epoch 1/5:  11%|█         | 190/1718 [00:11<01:29, 17.08it/s, loss=0.708, sparse_categorical_accuracy=0.745]\u001b[A\n",
            "Epoch 1/5:  11%|█         | 192/1718 [00:11<01:25, 17.76it/s, loss=0.708, sparse_categorical_accuracy=0.745]\u001b[A\n",
            "Epoch 1/5:  11%|█         | 192/1718 [00:11<01:25, 17.76it/s, loss=0.708, sparse_categorical_accuracy=0.745]\u001b[A\n",
            "Epoch 1/5:  11%|█         | 192/1718 [00:11<01:25, 17.76it/s, loss=0.706, sparse_categorical_accuracy=0.746]\u001b[A\n",
            "Epoch 1/5:  11%|█         | 192/1718 [00:11<01:25, 17.76it/s, loss=0.706, sparse_categorical_accuracy=0.746]\u001b[A\n",
            "Epoch 1/5:  11%|█▏        | 195/1718 [00:11<01:20, 18.83it/s, loss=0.706, sparse_categorical_accuracy=0.746]\u001b[A\n",
            "Epoch 1/5:  11%|█▏        | 195/1718 [00:11<01:20, 18.83it/s, loss=0.705, sparse_categorical_accuracy=0.747]\u001b[A\n",
            "Epoch 1/5:  11%|█▏        | 195/1718 [00:11<01:20, 18.83it/s, loss=0.704, sparse_categorical_accuracy=0.747]\u001b[A\n",
            "Epoch 1/5:  11%|█▏        | 195/1718 [00:11<01:20, 18.83it/s, loss=0.702, sparse_categorical_accuracy=0.747]\u001b[A\n",
            "Epoch 1/5:  12%|█▏        | 198/1718 [00:11<01:17, 19.55it/s, loss=0.702, sparse_categorical_accuracy=0.747]\u001b[A\n",
            "Epoch 1/5:  12%|█▏        | 198/1718 [00:11<01:17, 19.55it/s, loss=0.702, sparse_categorical_accuracy=0.748]\u001b[A\n",
            "Epoch 1/5:  12%|█▏        | 198/1718 [00:11<01:17, 19.55it/s, loss=0.702, sparse_categorical_accuracy=0.748]\u001b[A\n",
            "Epoch 1/5:  12%|█▏        | 200/1718 [00:11<01:19, 19.12it/s, loss=0.702, sparse_categorical_accuracy=0.748]\u001b[A\n",
            "Epoch 1/5:  12%|█▏        | 200/1718 [00:11<01:19, 19.12it/s, loss=0.701, sparse_categorical_accuracy=0.748]\u001b[A\n",
            "Epoch 1/5:  12%|█▏        | 200/1718 [00:11<01:19, 19.12it/s, loss=0.7, sparse_categorical_accuracy=0.748]  \u001b[A\n",
            "Epoch 1/5:  12%|█▏        | 202/1718 [00:11<01:18, 19.28it/s, loss=0.7, sparse_categorical_accuracy=0.748]\u001b[A\n",
            "Epoch 1/5:  12%|█▏        | 202/1718 [00:11<01:18, 19.28it/s, loss=0.7, sparse_categorical_accuracy=0.748]\u001b[A\n",
            "Epoch 1/5:  12%|█▏        | 202/1718 [00:11<01:18, 19.28it/s, loss=0.698, sparse_categorical_accuracy=0.748]\u001b[A\n",
            "Epoch 1/5:  12%|█▏        | 204/1718 [00:11<01:23, 18.06it/s, loss=0.698, sparse_categorical_accuracy=0.748]\u001b[A\n",
            "Epoch 1/5:  12%|█▏        | 204/1718 [00:11<01:23, 18.06it/s, loss=0.698, sparse_categorical_accuracy=0.748]\u001b[A\n",
            "Epoch 1/5:  12%|█▏        | 204/1718 [00:11<01:23, 18.06it/s, loss=0.699, sparse_categorical_accuracy=0.748]\u001b[A\n",
            "Epoch 1/5:  12%|█▏        | 206/1718 [00:11<01:28, 17.16it/s, loss=0.699, sparse_categorical_accuracy=0.748]\u001b[A\n",
            "Epoch 1/5:  12%|█▏        | 206/1718 [00:11<01:28, 17.16it/s, loss=0.698, sparse_categorical_accuracy=0.749]\u001b[A\n",
            "Epoch 1/5:  12%|█▏        | 206/1718 [00:12<01:28, 17.16it/s, loss=0.697, sparse_categorical_accuracy=0.748]\u001b[A\n",
            "Epoch 1/5:  12%|█▏        | 208/1718 [00:12<01:29, 16.81it/s, loss=0.697, sparse_categorical_accuracy=0.748]\u001b[A\n",
            "Epoch 1/5:  12%|█▏        | 208/1718 [00:12<01:29, 16.81it/s, loss=0.699, sparse_categorical_accuracy=0.749]\u001b[A\n",
            "Epoch 1/5:  12%|█▏        | 208/1718 [00:12<01:29, 16.81it/s, loss=0.698, sparse_categorical_accuracy=0.749]\u001b[A\n",
            "Epoch 1/5:  12%|█▏        | 210/1718 [00:12<01:25, 17.59it/s, loss=0.698, sparse_categorical_accuracy=0.749]\u001b[A\n",
            "Epoch 1/5:  12%|█▏        | 210/1718 [00:12<01:25, 17.59it/s, loss=0.696, sparse_categorical_accuracy=0.75] \u001b[A\n",
            "Epoch 1/5:  12%|█▏        | 210/1718 [00:12<01:25, 17.59it/s, loss=0.695, sparse_categorical_accuracy=0.75]\u001b[A\n",
            "Epoch 1/5:  12%|█▏        | 212/1718 [00:12<01:22, 18.18it/s, loss=0.695, sparse_categorical_accuracy=0.75]\u001b[A\n",
            "Epoch 1/5:  12%|█▏        | 212/1718 [00:12<01:22, 18.18it/s, loss=0.696, sparse_categorical_accuracy=0.75]\u001b[A\n",
            "Epoch 1/5:  12%|█▏        | 212/1718 [00:12<01:22, 18.18it/s, loss=0.697, sparse_categorical_accuracy=0.749]\u001b[A\n",
            "Epoch 1/5:  12%|█▏        | 214/1718 [00:12<01:20, 18.60it/s, loss=0.697, sparse_categorical_accuracy=0.749]\u001b[A\n",
            "Epoch 1/5:  12%|█▏        | 214/1718 [00:12<01:20, 18.60it/s, loss=0.696, sparse_categorical_accuracy=0.75] \u001b[A\n",
            "Epoch 1/5:  12%|█▏        | 214/1718 [00:12<01:20, 18.60it/s, loss=0.696, sparse_categorical_accuracy=0.75]\u001b[A\n",
            "Epoch 1/5:  12%|█▏        | 214/1718 [00:12<01:20, 18.60it/s, loss=0.696, sparse_categorical_accuracy=0.75]\u001b[A\n",
            "Epoch 1/5:  13%|█▎        | 217/1718 [00:12<01:17, 19.33it/s, loss=0.696, sparse_categorical_accuracy=0.75]\u001b[A\n",
            "Epoch 1/5:  13%|█▎        | 217/1718 [00:12<01:17, 19.33it/s, loss=0.696, sparse_categorical_accuracy=0.75]\u001b[A\n",
            "Epoch 1/5:  13%|█▎        | 217/1718 [00:12<01:17, 19.33it/s, loss=0.694, sparse_categorical_accuracy=0.75]\u001b[A\n",
            "Epoch 1/5:  13%|█▎        | 219/1718 [00:12<01:22, 18.18it/s, loss=0.694, sparse_categorical_accuracy=0.75]\u001b[A\n",
            "Epoch 1/5:  13%|█▎        | 219/1718 [00:12<01:22, 18.18it/s, loss=0.694, sparse_categorical_accuracy=0.751]\u001b[A\n",
            "Epoch 1/5:  13%|█▎        | 219/1718 [00:12<01:22, 18.18it/s, loss=0.695, sparse_categorical_accuracy=0.751]\u001b[A\n",
            "Epoch 1/5:  13%|█▎        | 221/1718 [00:12<01:31, 16.30it/s, loss=0.695, sparse_categorical_accuracy=0.751]\u001b[A\n",
            "Epoch 1/5:  13%|█▎        | 221/1718 [00:12<01:31, 16.30it/s, loss=0.695, sparse_categorical_accuracy=0.751]\u001b[A\n",
            "Epoch 1/5:  13%|█▎        | 221/1718 [00:12<01:31, 16.30it/s, loss=0.696, sparse_categorical_accuracy=0.751]\u001b[A\n",
            "Epoch 1/5:  13%|█▎        | 223/1718 [00:12<01:38, 15.15it/s, loss=0.696, sparse_categorical_accuracy=0.751]\u001b[A\n",
            "Epoch 1/5:  13%|█▎        | 223/1718 [00:13<01:38, 15.15it/s, loss=0.695, sparse_categorical_accuracy=0.751]\u001b[A\n",
            "Epoch 1/5:  13%|█▎        | 223/1718 [00:13<01:38, 15.15it/s, loss=0.695, sparse_categorical_accuracy=0.752]\u001b[A\n",
            "Epoch 1/5:  13%|█▎        | 225/1718 [00:13<01:42, 14.61it/s, loss=0.695, sparse_categorical_accuracy=0.752]\u001b[A\n",
            "Epoch 1/5:  13%|█▎        | 225/1718 [00:13<01:42, 14.61it/s, loss=0.694, sparse_categorical_accuracy=0.752]\u001b[A\n",
            "Epoch 1/5:  13%|█▎        | 225/1718 [00:13<01:42, 14.61it/s, loss=0.695, sparse_categorical_accuracy=0.752]\u001b[A\n",
            "Epoch 1/5:  13%|█▎        | 227/1718 [00:13<01:46, 14.02it/s, loss=0.695, sparse_categorical_accuracy=0.752]\u001b[A\n",
            "Epoch 1/5:  13%|█▎        | 227/1718 [00:13<01:46, 14.02it/s, loss=0.694, sparse_categorical_accuracy=0.752]\u001b[A\n",
            "Epoch 1/5:  13%|█▎        | 227/1718 [00:13<01:46, 14.02it/s, loss=0.694, sparse_categorical_accuracy=0.752]\u001b[A\n",
            "Epoch 1/5:  13%|█▎        | 229/1718 [00:13<01:48, 13.77it/s, loss=0.694, sparse_categorical_accuracy=0.752]\u001b[A\n",
            "Epoch 1/5:  13%|█▎        | 229/1718 [00:13<01:48, 13.77it/s, loss=0.694, sparse_categorical_accuracy=0.752]\u001b[A\n",
            "Epoch 1/5:  13%|█▎        | 229/1718 [00:13<01:48, 13.77it/s, loss=0.693, sparse_categorical_accuracy=0.752]\u001b[A\n",
            "Epoch 1/5:  13%|█▎        | 231/1718 [00:13<01:47, 13.88it/s, loss=0.693, sparse_categorical_accuracy=0.752]\u001b[A\n",
            "Epoch 1/5:  13%|█▎        | 231/1718 [00:13<01:47, 13.88it/s, loss=0.692, sparse_categorical_accuracy=0.752]\u001b[A\n",
            "Epoch 1/5:  13%|█▎        | 231/1718 [00:13<01:47, 13.88it/s, loss=0.691, sparse_categorical_accuracy=0.752]\u001b[A\n",
            "Epoch 1/5:  14%|█▎        | 233/1718 [00:13<01:48, 13.64it/s, loss=0.691, sparse_categorical_accuracy=0.752]\u001b[A\n",
            "Epoch 1/5:  14%|█▎        | 233/1718 [00:13<01:48, 13.64it/s, loss=0.692, sparse_categorical_accuracy=0.752]\u001b[A\n",
            "Epoch 1/5:  14%|█▎        | 233/1718 [00:13<01:48, 13.64it/s, loss=0.692, sparse_categorical_accuracy=0.752]\u001b[A\n",
            "Epoch 1/5:  14%|█▎        | 235/1718 [00:13<01:50, 13.47it/s, loss=0.692, sparse_categorical_accuracy=0.752]\u001b[A\n",
            "Epoch 1/5:  14%|█▎        | 235/1718 [00:13<01:50, 13.47it/s, loss=0.69, sparse_categorical_accuracy=0.752] \u001b[A\n",
            "Epoch 1/5:  14%|█▎        | 235/1718 [00:13<01:50, 13.47it/s, loss=0.69, sparse_categorical_accuracy=0.752]\u001b[A\n",
            "Epoch 1/5:  14%|█▍        | 237/1718 [00:13<01:45, 13.98it/s, loss=0.69, sparse_categorical_accuracy=0.752]\u001b[A\n",
            "Epoch 1/5:  14%|█▍        | 237/1718 [00:14<01:45, 13.98it/s, loss=0.689, sparse_categorical_accuracy=0.753]\u001b[A\n",
            "Epoch 1/5:  14%|█▍        | 237/1718 [00:14<01:45, 13.98it/s, loss=0.688, sparse_categorical_accuracy=0.753]\u001b[A\n",
            "Epoch 1/5:  14%|█▍        | 239/1718 [00:14<01:41, 14.61it/s, loss=0.688, sparse_categorical_accuracy=0.753]\u001b[A\n",
            "Epoch 1/5:  14%|█▍        | 239/1718 [00:14<01:41, 14.61it/s, loss=0.688, sparse_categorical_accuracy=0.753]\u001b[A\n",
            "Epoch 1/5:  14%|█▍        | 239/1718 [00:14<01:41, 14.61it/s, loss=0.687, sparse_categorical_accuracy=0.753]\u001b[A\n",
            "Epoch 1/5:  14%|█▍        | 241/1718 [00:14<01:37, 15.11it/s, loss=0.687, sparse_categorical_accuracy=0.753]\u001b[A\n",
            "Epoch 1/5:  14%|█▍        | 241/1718 [00:14<01:37, 15.11it/s, loss=0.686, sparse_categorical_accuracy=0.753]\u001b[A\n",
            "Epoch 1/5:  14%|█▍        | 241/1718 [00:14<01:37, 15.11it/s, loss=0.685, sparse_categorical_accuracy=0.754]\u001b[A\n",
            "Epoch 1/5:  14%|█▍        | 243/1718 [00:14<01:34, 15.64it/s, loss=0.685, sparse_categorical_accuracy=0.754]\u001b[A\n",
            "Epoch 1/5:  14%|█▍        | 243/1718 [00:14<01:34, 15.64it/s, loss=0.684, sparse_categorical_accuracy=0.754]\u001b[A\n",
            "Epoch 1/5:  14%|█▍        | 243/1718 [00:14<01:34, 15.64it/s, loss=0.684, sparse_categorical_accuracy=0.754]\u001b[A\n",
            "Epoch 1/5:  14%|█▍        | 245/1718 [00:14<01:35, 15.37it/s, loss=0.684, sparse_categorical_accuracy=0.754]\u001b[A\n",
            "Epoch 1/5:  14%|█▍        | 245/1718 [00:14<01:35, 15.37it/s, loss=0.683, sparse_categorical_accuracy=0.755]\u001b[A\n",
            "Epoch 1/5:  14%|█▍        | 245/1718 [00:14<01:35, 15.37it/s, loss=0.683, sparse_categorical_accuracy=0.755]\u001b[A\n",
            "Epoch 1/5:  14%|█▍        | 247/1718 [00:14<01:40, 14.63it/s, loss=0.683, sparse_categorical_accuracy=0.755]\u001b[A\n",
            "Epoch 1/5:  14%|█▍        | 247/1718 [00:14<01:40, 14.63it/s, loss=0.682, sparse_categorical_accuracy=0.755]\u001b[A\n",
            "Epoch 1/5:  14%|█▍        | 247/1718 [00:14<01:40, 14.63it/s, loss=0.681, sparse_categorical_accuracy=0.755]\u001b[A\n",
            "Epoch 1/5:  14%|█▍        | 249/1718 [00:14<01:48, 13.60it/s, loss=0.681, sparse_categorical_accuracy=0.755]\u001b[A\n",
            "Epoch 1/5:  14%|█▍        | 249/1718 [00:14<01:48, 13.60it/s, loss=0.681, sparse_categorical_accuracy=0.755]\u001b[A\n",
            "Epoch 1/5:  14%|█▍        | 249/1718 [00:14<01:48, 13.60it/s, loss=0.68, sparse_categorical_accuracy=0.755] \u001b[A\n",
            "Epoch 1/5:  15%|█▍        | 251/1718 [00:14<01:52, 13.01it/s, loss=0.68, sparse_categorical_accuracy=0.755]\u001b[A\n",
            "Epoch 1/5:  15%|█▍        | 251/1718 [00:15<01:52, 13.01it/s, loss=0.679, sparse_categorical_accuracy=0.755]\u001b[A\n",
            "Epoch 1/5:  15%|█▍        | 251/1718 [00:15<01:52, 13.01it/s, loss=0.68, sparse_categorical_accuracy=0.755] \u001b[A\n",
            "Epoch 1/5:  15%|█▍        | 253/1718 [00:15<01:55, 12.64it/s, loss=0.68, sparse_categorical_accuracy=0.755]\u001b[A\n",
            "Epoch 1/5:  15%|█▍        | 253/1718 [00:15<01:55, 12.64it/s, loss=0.679, sparse_categorical_accuracy=0.755]\u001b[A\n",
            "Epoch 1/5:  15%|█▍        | 253/1718 [00:15<01:55, 12.64it/s, loss=0.678, sparse_categorical_accuracy=0.756]\u001b[A\n",
            "Epoch 1/5:  15%|█▍        | 255/1718 [00:15<01:53, 12.91it/s, loss=0.678, sparse_categorical_accuracy=0.756]\u001b[A\n",
            "Epoch 1/5:  15%|█▍        | 255/1718 [00:15<01:53, 12.91it/s, loss=0.678, sparse_categorical_accuracy=0.756]\u001b[A\n",
            "Epoch 1/5:  15%|█▍        | 255/1718 [00:15<01:53, 12.91it/s, loss=0.677, sparse_categorical_accuracy=0.756]\u001b[A\n",
            "Epoch 1/5:  15%|█▍        | 257/1718 [00:15<01:51, 13.06it/s, loss=0.677, sparse_categorical_accuracy=0.756]\u001b[A\n",
            "Epoch 1/5:  15%|█▍        | 257/1718 [00:15<01:51, 13.06it/s, loss=0.677, sparse_categorical_accuracy=0.756]\u001b[A\n",
            "Epoch 1/5:  15%|█▍        | 257/1718 [00:15<01:51, 13.06it/s, loss=0.676, sparse_categorical_accuracy=0.756]\u001b[A\n",
            "Epoch 1/5:  15%|█▌        | 259/1718 [00:15<01:44, 13.92it/s, loss=0.676, sparse_categorical_accuracy=0.756]\u001b[A\n",
            "Epoch 1/5:  15%|█▌        | 259/1718 [00:15<01:44, 13.92it/s, loss=0.677, sparse_categorical_accuracy=0.756]\u001b[A\n",
            "Epoch 1/5:  15%|█▌        | 259/1718 [00:15<01:44, 13.92it/s, loss=0.677, sparse_categorical_accuracy=0.756]\u001b[A\n",
            "Epoch 1/5:  15%|█▌        | 261/1718 [00:15<01:39, 14.60it/s, loss=0.677, sparse_categorical_accuracy=0.756]\u001b[A\n",
            "Epoch 1/5:  15%|█▌        | 261/1718 [00:15<01:39, 14.60it/s, loss=0.676, sparse_categorical_accuracy=0.756]\u001b[A\n",
            "Epoch 1/5:  15%|█▌        | 261/1718 [00:15<01:39, 14.60it/s, loss=0.675, sparse_categorical_accuracy=0.757]\u001b[A\n",
            "Epoch 1/5:  15%|█▌        | 263/1718 [00:15<01:55, 12.55it/s, loss=0.675, sparse_categorical_accuracy=0.757]\u001b[A\n",
            "Epoch 1/5:  15%|█▌        | 263/1718 [00:15<01:55, 12.55it/s, loss=0.674, sparse_categorical_accuracy=0.757]\u001b[A\n",
            "Epoch 1/5:  15%|█▌        | 263/1718 [00:16<01:55, 12.55it/s, loss=0.674, sparse_categorical_accuracy=0.757]\u001b[A\n",
            "Epoch 1/5:  15%|█▌        | 265/1718 [00:16<01:49, 13.27it/s, loss=0.674, sparse_categorical_accuracy=0.757]\u001b[A\n",
            "Epoch 1/5:  15%|█▌        | 265/1718 [00:16<01:49, 13.27it/s, loss=0.673, sparse_categorical_accuracy=0.757]\u001b[A\n",
            "Epoch 1/5:  15%|█▌        | 265/1718 [00:16<01:49, 13.27it/s, loss=0.672, sparse_categorical_accuracy=0.758]\u001b[A\n",
            "Epoch 1/5:  16%|█▌        | 267/1718 [00:16<01:44, 13.90it/s, loss=0.672, sparse_categorical_accuracy=0.758]\u001b[A\n",
            "Epoch 1/5:  16%|█▌        | 267/1718 [00:16<01:44, 13.90it/s, loss=0.671, sparse_categorical_accuracy=0.758]\u001b[A\n",
            "Epoch 1/5:  16%|█▌        | 267/1718 [00:16<01:44, 13.90it/s, loss=0.67, sparse_categorical_accuracy=0.758] \u001b[A\n",
            "Epoch 1/5:  16%|█▌        | 269/1718 [00:16<01:46, 13.61it/s, loss=0.67, sparse_categorical_accuracy=0.758]\u001b[A\n",
            "Epoch 1/5:  16%|█▌        | 269/1718 [00:16<01:46, 13.61it/s, loss=0.671, sparse_categorical_accuracy=0.758]\u001b[A\n",
            "Epoch 1/5:  16%|█▌        | 269/1718 [00:16<01:46, 13.61it/s, loss=0.671, sparse_categorical_accuracy=0.758]\u001b[A\n",
            "Epoch 1/5:  16%|█▌        | 271/1718 [00:16<01:43, 13.96it/s, loss=0.671, sparse_categorical_accuracy=0.758]\u001b[A\n",
            "Epoch 1/5:  16%|█▌        | 271/1718 [00:16<01:43, 13.96it/s, loss=0.67, sparse_categorical_accuracy=0.758] \u001b[A\n",
            "Epoch 1/5:  16%|█▌        | 271/1718 [00:16<01:43, 13.96it/s, loss=0.669, sparse_categorical_accuracy=0.759]\u001b[A\n",
            "Epoch 1/5:  16%|█▌        | 273/1718 [00:16<01:37, 14.87it/s, loss=0.669, sparse_categorical_accuracy=0.759]\u001b[A\n",
            "Epoch 1/5:  16%|█▌        | 273/1718 [00:16<01:37, 14.87it/s, loss=0.669, sparse_categorical_accuracy=0.759]\u001b[A\n",
            "Epoch 1/5:  16%|█▌        | 273/1718 [00:16<01:37, 14.87it/s, loss=0.669, sparse_categorical_accuracy=0.759]\u001b[A\n",
            "Epoch 1/5:  16%|█▌        | 275/1718 [00:16<01:31, 15.72it/s, loss=0.669, sparse_categorical_accuracy=0.759]\u001b[A\n",
            "Epoch 1/5:  16%|█▌        | 275/1718 [00:16<01:31, 15.72it/s, loss=0.668, sparse_categorical_accuracy=0.759]\u001b[A\n",
            "Epoch 1/5:  16%|█▌        | 275/1718 [00:16<01:31, 15.72it/s, loss=0.667, sparse_categorical_accuracy=0.759]\u001b[A\n",
            "Epoch 1/5:  16%|█▌        | 277/1718 [00:16<01:32, 15.63it/s, loss=0.667, sparse_categorical_accuracy=0.759]\u001b[A\n",
            "Epoch 1/5:  16%|█▌        | 277/1718 [00:16<01:32, 15.63it/s, loss=0.668, sparse_categorical_accuracy=0.759]\u001b[A\n",
            "Epoch 1/5:  16%|█▌        | 277/1718 [00:16<01:32, 15.63it/s, loss=0.667, sparse_categorical_accuracy=0.759]\u001b[A\n",
            "Epoch 1/5:  16%|█▌        | 279/1718 [00:16<01:37, 14.76it/s, loss=0.667, sparse_categorical_accuracy=0.759]\u001b[A\n",
            "Epoch 1/5:  16%|█▌        | 279/1718 [00:16<01:37, 14.76it/s, loss=0.667, sparse_categorical_accuracy=0.759]\u001b[A\n",
            "Epoch 1/5:  16%|█▌        | 279/1718 [00:17<01:37, 14.76it/s, loss=0.667, sparse_categorical_accuracy=0.759]\u001b[A\n",
            "Epoch 1/5:  16%|█▋        | 281/1718 [00:17<01:37, 14.80it/s, loss=0.667, sparse_categorical_accuracy=0.759]\u001b[A\n",
            "Epoch 1/5:  16%|█▋        | 281/1718 [00:17<01:37, 14.80it/s, loss=0.665, sparse_categorical_accuracy=0.76] \u001b[A\n",
            "Epoch 1/5:  16%|█▋        | 281/1718 [00:17<01:37, 14.80it/s, loss=0.664, sparse_categorical_accuracy=0.76]\u001b[A\n",
            "Epoch 1/5:  16%|█▋        | 283/1718 [00:17<01:30, 15.89it/s, loss=0.664, sparse_categorical_accuracy=0.76]\u001b[A\n",
            "Epoch 1/5:  16%|█▋        | 283/1718 [00:17<01:30, 15.89it/s, loss=0.664, sparse_categorical_accuracy=0.76]\u001b[A\n",
            "Epoch 1/5:  16%|█▋        | 283/1718 [00:17<01:30, 15.89it/s, loss=0.663, sparse_categorical_accuracy=0.76]\u001b[A\n",
            "Epoch 1/5:  17%|█▋        | 285/1718 [00:17<01:25, 16.79it/s, loss=0.663, sparse_categorical_accuracy=0.76]\u001b[A\n",
            "Epoch 1/5:  17%|█▋        | 285/1718 [00:17<01:25, 16.79it/s, loss=0.663, sparse_categorical_accuracy=0.76]\u001b[A\n",
            "Epoch 1/5:  17%|█▋        | 285/1718 [00:17<01:25, 16.79it/s, loss=0.662, sparse_categorical_accuracy=0.761]\u001b[A\n",
            "Epoch 1/5:  17%|█▋        | 287/1718 [00:17<01:21, 17.58it/s, loss=0.662, sparse_categorical_accuracy=0.761]\u001b[A\n",
            "Epoch 1/5:  17%|█▋        | 287/1718 [00:17<01:21, 17.58it/s, loss=0.662, sparse_categorical_accuracy=0.761]\u001b[A\n",
            "Epoch 1/5:  17%|█▋        | 287/1718 [00:17<01:21, 17.58it/s, loss=0.662, sparse_categorical_accuracy=0.76] \u001b[A\n",
            "Epoch 1/5:  17%|█▋        | 289/1718 [00:17<01:20, 17.85it/s, loss=0.662, sparse_categorical_accuracy=0.76]\u001b[A\n",
            "Epoch 1/5:  17%|█▋        | 289/1718 [00:17<01:20, 17.85it/s, loss=0.661, sparse_categorical_accuracy=0.76]\u001b[A\n",
            "Epoch 1/5:  17%|█▋        | 289/1718 [00:17<01:20, 17.85it/s, loss=0.66, sparse_categorical_accuracy=0.76] \u001b[A\n",
            "Epoch 1/5:  17%|█▋        | 291/1718 [00:17<01:18, 18.23it/s, loss=0.66, sparse_categorical_accuracy=0.76]\u001b[A\n",
            "Epoch 1/5:  17%|█▋        | 291/1718 [00:17<01:18, 18.23it/s, loss=0.66, sparse_categorical_accuracy=0.76]\u001b[A\n",
            "Epoch 1/5:  17%|█▋        | 291/1718 [00:17<01:18, 18.23it/s, loss=0.66, sparse_categorical_accuracy=0.76]\u001b[A\n",
            "Epoch 1/5:  17%|█▋        | 293/1718 [00:17<01:18, 18.27it/s, loss=0.66, sparse_categorical_accuracy=0.76]\u001b[A\n",
            "Epoch 1/5:  17%|█▋        | 293/1718 [00:17<01:18, 18.27it/s, loss=0.66, sparse_categorical_accuracy=0.76]\u001b[A\n",
            "Epoch 1/5:  17%|█▋        | 293/1718 [00:17<01:18, 18.27it/s, loss=0.661, sparse_categorical_accuracy=0.76]\u001b[A\n",
            "Epoch 1/5:  17%|█▋        | 295/1718 [00:17<01:22, 17.19it/s, loss=0.661, sparse_categorical_accuracy=0.76]\u001b[A\n",
            "Epoch 1/5:  17%|█▋        | 295/1718 [00:17<01:22, 17.19it/s, loss=0.66, sparse_categorical_accuracy=0.76] \u001b[A\n",
            "Epoch 1/5:  17%|█▋        | 295/1718 [00:17<01:22, 17.19it/s, loss=0.659, sparse_categorical_accuracy=0.761]\u001b[A\n",
            "Epoch 1/5:  17%|█▋        | 297/1718 [00:17<01:27, 16.18it/s, loss=0.659, sparse_categorical_accuracy=0.761]\u001b[A\n",
            "Epoch 1/5:  17%|█▋        | 297/1718 [00:18<01:27, 16.18it/s, loss=0.658, sparse_categorical_accuracy=0.761]\u001b[A\n",
            "Epoch 1/5:  17%|█▋        | 297/1718 [00:18<01:27, 16.18it/s, loss=0.657, sparse_categorical_accuracy=0.761]\u001b[A\n",
            "Epoch 1/5:  17%|█▋        | 299/1718 [00:18<01:28, 16.00it/s, loss=0.657, sparse_categorical_accuracy=0.761]\u001b[A\n",
            "Epoch 1/5:  17%|█▋        | 299/1718 [00:18<01:28, 16.00it/s, loss=0.658, sparse_categorical_accuracy=0.761]\u001b[A\n",
            "Epoch 1/5:  17%|█▋        | 299/1718 [00:18<01:28, 16.00it/s, loss=0.658, sparse_categorical_accuracy=0.761]\u001b[A\n",
            "Epoch 1/5:  18%|█▊        | 301/1718 [00:18<01:24, 16.84it/s, loss=0.658, sparse_categorical_accuracy=0.761]\u001b[A\n",
            "Epoch 1/5:  18%|█▊        | 301/1718 [00:18<01:24, 16.84it/s, loss=0.658, sparse_categorical_accuracy=0.761]\u001b[A\n",
            "Epoch 1/5:  18%|█▊        | 301/1718 [00:18<01:24, 16.84it/s, loss=0.657, sparse_categorical_accuracy=0.761]\u001b[A\n",
            "Epoch 1/5:  18%|█▊        | 301/1718 [00:18<01:24, 16.84it/s, loss=0.657, sparse_categorical_accuracy=0.762]\u001b[A\n",
            "Epoch 1/5:  18%|█▊        | 304/1718 [00:18<01:18, 18.12it/s, loss=0.657, sparse_categorical_accuracy=0.762]\u001b[A\n",
            "Epoch 1/5:  18%|█▊        | 304/1718 [00:18<01:18, 18.12it/s, loss=0.655, sparse_categorical_accuracy=0.762]\u001b[A\n",
            "Epoch 1/5:  18%|█▊        | 304/1718 [00:18<01:18, 18.12it/s, loss=0.655, sparse_categorical_accuracy=0.762]\u001b[A\n",
            "Epoch 1/5:  18%|█▊        | 306/1718 [00:18<01:17, 18.30it/s, loss=0.655, sparse_categorical_accuracy=0.762]\u001b[A\n",
            "Epoch 1/5:  18%|█▊        | 306/1718 [00:18<01:17, 18.30it/s, loss=0.654, sparse_categorical_accuracy=0.762]\u001b[A\n",
            "Epoch 1/5:  18%|█▊        | 306/1718 [00:18<01:17, 18.30it/s, loss=0.654, sparse_categorical_accuracy=0.762]\u001b[A\n",
            "Epoch 1/5:  18%|█▊        | 308/1718 [00:18<01:15, 18.68it/s, loss=0.654, sparse_categorical_accuracy=0.762]\u001b[A\n",
            "Epoch 1/5:  18%|█▊        | 308/1718 [00:18<01:15, 18.68it/s, loss=0.654, sparse_categorical_accuracy=0.763]\u001b[A\n",
            "Epoch 1/5:  18%|█▊        | 308/1718 [00:18<01:15, 18.68it/s, loss=0.653, sparse_categorical_accuracy=0.763]\u001b[A\n",
            "Epoch 1/5:  18%|█▊        | 310/1718 [00:18<01:14, 18.80it/s, loss=0.653, sparse_categorical_accuracy=0.763]\u001b[A\n",
            "Epoch 1/5:  18%|█▊        | 310/1718 [00:18<01:14, 18.80it/s, loss=0.653, sparse_categorical_accuracy=0.763]\u001b[A\n",
            "Epoch 1/5:  18%|█▊        | 310/1718 [00:18<01:14, 18.80it/s, loss=0.653, sparse_categorical_accuracy=0.763]\u001b[A\n",
            "Epoch 1/5:  18%|█▊        | 312/1718 [00:18<01:19, 17.63it/s, loss=0.653, sparse_categorical_accuracy=0.763]\u001b[A\n",
            "Epoch 1/5:  18%|█▊        | 312/1718 [00:18<01:19, 17.63it/s, loss=0.652, sparse_categorical_accuracy=0.763]\u001b[A\n",
            "Epoch 1/5:  18%|█▊        | 312/1718 [00:18<01:19, 17.63it/s, loss=0.651, sparse_categorical_accuracy=0.763]\u001b[A\n",
            "Epoch 1/5:  18%|█▊        | 314/1718 [00:18<01:23, 16.79it/s, loss=0.651, sparse_categorical_accuracy=0.763]\u001b[A\n",
            "Epoch 1/5:  18%|█▊        | 314/1718 [00:18<01:23, 16.79it/s, loss=0.65, sparse_categorical_accuracy=0.764] \u001b[A\n",
            "Epoch 1/5:  18%|█▊        | 314/1718 [00:19<01:23, 16.79it/s, loss=0.649, sparse_categorical_accuracy=0.764]\u001b[A\n",
            "Epoch 1/5:  18%|█▊        | 316/1718 [00:19<01:24, 16.67it/s, loss=0.649, sparse_categorical_accuracy=0.764]\u001b[A\n",
            "Epoch 1/5:  18%|█▊        | 316/1718 [00:19<01:24, 16.67it/s, loss=0.648, sparse_categorical_accuracy=0.765]\u001b[A\n",
            "Epoch 1/5:  18%|█▊        | 316/1718 [00:19<01:24, 16.67it/s, loss=0.648, sparse_categorical_accuracy=0.765]\u001b[A\n",
            "Epoch 1/5:  19%|█▊        | 318/1718 [00:19<01:20, 17.41it/s, loss=0.648, sparse_categorical_accuracy=0.765]\u001b[A\n",
            "Epoch 1/5:  19%|█▊        | 318/1718 [00:19<01:20, 17.41it/s, loss=0.647, sparse_categorical_accuracy=0.765]\u001b[A\n",
            "Epoch 1/5:  19%|█▊        | 318/1718 [00:19<01:20, 17.41it/s, loss=0.647, sparse_categorical_accuracy=0.765]\u001b[A\n",
            "Epoch 1/5:  19%|█▊        | 320/1718 [00:19<01:17, 17.95it/s, loss=0.647, sparse_categorical_accuracy=0.765]\u001b[A\n",
            "Epoch 1/5:  19%|█▊        | 320/1718 [00:19<01:17, 17.95it/s, loss=0.645, sparse_categorical_accuracy=0.765]\u001b[A\n",
            "Epoch 1/5:  19%|█▊        | 320/1718 [00:19<01:17, 17.95it/s, loss=0.646, sparse_categorical_accuracy=0.766]\u001b[A\n",
            "Epoch 1/5:  19%|█▊        | 322/1718 [00:19<01:16, 18.17it/s, loss=0.646, sparse_categorical_accuracy=0.766]\u001b[A\n",
            "Epoch 1/5:  19%|█▊        | 322/1718 [00:19<01:16, 18.17it/s, loss=0.645, sparse_categorical_accuracy=0.766]\u001b[A\n",
            "Epoch 1/5:  19%|█▊        | 322/1718 [00:19<01:16, 18.17it/s, loss=0.644, sparse_categorical_accuracy=0.766]\u001b[A\n",
            "Epoch 1/5:  19%|█▉        | 324/1718 [00:19<01:16, 18.32it/s, loss=0.644, sparse_categorical_accuracy=0.766]\u001b[A\n",
            "Epoch 1/5:  19%|█▉        | 324/1718 [00:19<01:16, 18.32it/s, loss=0.644, sparse_categorical_accuracy=0.766]\u001b[A\n",
            "Epoch 1/5:  19%|█▉        | 324/1718 [00:19<01:16, 18.32it/s, loss=0.643, sparse_categorical_accuracy=0.766]\u001b[A\n",
            "Epoch 1/5:  19%|█▉        | 326/1718 [00:19<01:21, 17.05it/s, loss=0.643, sparse_categorical_accuracy=0.766]\u001b[A\n",
            "Epoch 1/5:  19%|█▉        | 326/1718 [00:19<01:21, 17.05it/s, loss=0.643, sparse_categorical_accuracy=0.767]\u001b[A\n",
            "Epoch 1/5:  19%|█▉        | 326/1718 [00:19<01:21, 17.05it/s, loss=0.642, sparse_categorical_accuracy=0.767]\u001b[A\n",
            "Epoch 1/5:  19%|█▉        | 328/1718 [00:19<01:29, 15.46it/s, loss=0.642, sparse_categorical_accuracy=0.767]\u001b[A\n",
            "Epoch 1/5:  19%|█▉        | 328/1718 [00:19<01:29, 15.46it/s, loss=0.642, sparse_categorical_accuracy=0.767]\u001b[A\n",
            "Epoch 1/5:  19%|█▉        | 328/1718 [00:19<01:29, 15.46it/s, loss=0.641, sparse_categorical_accuracy=0.767]\u001b[A\n",
            "Epoch 1/5:  19%|█▉        | 330/1718 [00:19<01:38, 14.07it/s, loss=0.641, sparse_categorical_accuracy=0.767]\u001b[A\n",
            "Epoch 1/5:  19%|█▉        | 330/1718 [00:20<01:38, 14.07it/s, loss=0.64, sparse_categorical_accuracy=0.767] \u001b[A\n",
            "Epoch 1/5:  19%|█▉        | 330/1718 [00:20<01:38, 14.07it/s, loss=0.64, sparse_categorical_accuracy=0.768]\u001b[A\n",
            "Epoch 1/5:  19%|█▉        | 332/1718 [00:20<01:40, 13.79it/s, loss=0.64, sparse_categorical_accuracy=0.768]\u001b[A\n",
            "Epoch 1/5:  19%|█▉        | 332/1718 [00:20<01:40, 13.79it/s, loss=0.64, sparse_categorical_accuracy=0.768]\u001b[A\n",
            "Epoch 1/5:  19%|█▉        | 332/1718 [00:20<01:40, 13.79it/s, loss=0.64, sparse_categorical_accuracy=0.768]\u001b[A\n",
            "Epoch 1/5:  19%|█▉        | 334/1718 [00:20<01:36, 14.38it/s, loss=0.64, sparse_categorical_accuracy=0.768]\u001b[A\n",
            "Epoch 1/5:  19%|█▉        | 334/1718 [00:20<01:36, 14.38it/s, loss=0.64, sparse_categorical_accuracy=0.768]\u001b[A\n",
            "Epoch 1/5:  19%|█▉        | 334/1718 [00:20<01:36, 14.38it/s, loss=0.639, sparse_categorical_accuracy=0.768]\u001b[A\n",
            "Epoch 1/5:  20%|█▉        | 336/1718 [00:20<01:34, 14.58it/s, loss=0.639, sparse_categorical_accuracy=0.768]\u001b[A\n",
            "Epoch 1/5:  20%|█▉        | 336/1718 [00:20<01:34, 14.58it/s, loss=0.638, sparse_categorical_accuracy=0.768]\u001b[A\n",
            "Epoch 1/5:  20%|█▉        | 336/1718 [00:20<01:34, 14.58it/s, loss=0.637, sparse_categorical_accuracy=0.768]\u001b[A\n",
            "Epoch 1/5:  20%|█▉        | 338/1718 [00:20<01:37, 14.18it/s, loss=0.637, sparse_categorical_accuracy=0.768]\u001b[A\n",
            "Epoch 1/5:  20%|█▉        | 338/1718 [00:20<01:37, 14.18it/s, loss=0.637, sparse_categorical_accuracy=0.768]\u001b[A\n",
            "Epoch 1/5:  20%|█▉        | 338/1718 [00:20<01:37, 14.18it/s, loss=0.637, sparse_categorical_accuracy=0.768]\u001b[A\n",
            "Epoch 1/5:  20%|█▉        | 340/1718 [00:20<01:34, 14.51it/s, loss=0.637, sparse_categorical_accuracy=0.768]\u001b[A\n",
            "Epoch 1/5:  20%|█▉        | 340/1718 [00:20<01:34, 14.51it/s, loss=0.638, sparse_categorical_accuracy=0.768]\u001b[A\n",
            "Epoch 1/5:  20%|█▉        | 340/1718 [00:20<01:34, 14.51it/s, loss=0.638, sparse_categorical_accuracy=0.768]\u001b[A\n",
            "Epoch 1/5:  20%|█▉        | 342/1718 [00:20<01:35, 14.34it/s, loss=0.638, sparse_categorical_accuracy=0.768]\u001b[A\n",
            "Epoch 1/5:  20%|█▉        | 342/1718 [00:20<01:35, 14.34it/s, loss=0.637, sparse_categorical_accuracy=0.769]\u001b[A\n",
            "Epoch 1/5:  20%|█▉        | 342/1718 [00:20<01:35, 14.34it/s, loss=0.636, sparse_categorical_accuracy=0.769]\u001b[A\n",
            "Epoch 1/5:  20%|██        | 344/1718 [00:20<01:37, 14.13it/s, loss=0.636, sparse_categorical_accuracy=0.769]\u001b[A\n",
            "Epoch 1/5:  20%|██        | 344/1718 [00:20<01:37, 14.13it/s, loss=0.636, sparse_categorical_accuracy=0.769]\u001b[A\n",
            "Epoch 1/5:  20%|██        | 344/1718 [00:21<01:37, 14.13it/s, loss=0.636, sparse_categorical_accuracy=0.769]\u001b[A\n",
            "Epoch 1/5:  20%|██        | 346/1718 [00:21<01:35, 14.39it/s, loss=0.636, sparse_categorical_accuracy=0.769]\u001b[A\n",
            "Epoch 1/5:  20%|██        | 346/1718 [00:21<01:35, 14.39it/s, loss=0.635, sparse_categorical_accuracy=0.769]\u001b[A\n",
            "Epoch 1/5:  20%|██        | 346/1718 [00:21<01:35, 14.39it/s, loss=0.635, sparse_categorical_accuracy=0.769]\u001b[A\n",
            "Epoch 1/5:  20%|██        | 348/1718 [00:21<01:33, 14.58it/s, loss=0.635, sparse_categorical_accuracy=0.769]\u001b[A\n",
            "Epoch 1/5:  20%|██        | 348/1718 [00:21<01:33, 14.58it/s, loss=0.635, sparse_categorical_accuracy=0.769]\u001b[A\n",
            "Epoch 1/5:  20%|██        | 348/1718 [00:21<01:33, 14.58it/s, loss=0.634, sparse_categorical_accuracy=0.77] \u001b[A\n",
            "Epoch 1/5:  20%|██        | 350/1718 [00:21<01:30, 15.16it/s, loss=0.634, sparse_categorical_accuracy=0.77]\u001b[A\n",
            "Epoch 1/5:  20%|██        | 350/1718 [00:21<01:30, 15.16it/s, loss=0.634, sparse_categorical_accuracy=0.77]\u001b[A\n",
            "Epoch 1/5:  20%|██        | 350/1718 [00:21<01:30, 15.16it/s, loss=0.635, sparse_categorical_accuracy=0.77]\u001b[A\n",
            "Epoch 1/5:  20%|██        | 352/1718 [00:21<01:28, 15.49it/s, loss=0.635, sparse_categorical_accuracy=0.77]\u001b[A\n",
            "Epoch 1/5:  20%|██        | 352/1718 [00:21<01:28, 15.49it/s, loss=0.635, sparse_categorical_accuracy=0.77]\u001b[A\n",
            "Epoch 1/5:  20%|██        | 352/1718 [00:21<01:28, 15.49it/s, loss=0.635, sparse_categorical_accuracy=0.77]\u001b[A\n",
            "Epoch 1/5:  21%|██        | 354/1718 [00:21<01:28, 15.38it/s, loss=0.635, sparse_categorical_accuracy=0.77]\u001b[A\n",
            "Epoch 1/5:  21%|██        | 354/1718 [00:21<01:28, 15.38it/s, loss=0.634, sparse_categorical_accuracy=0.77]\u001b[A\n",
            "Epoch 1/5:  21%|██        | 354/1718 [00:21<01:28, 15.38it/s, loss=0.633, sparse_categorical_accuracy=0.77]\u001b[A\n",
            "Epoch 1/5:  21%|██        | 356/1718 [00:21<01:29, 15.23it/s, loss=0.633, sparse_categorical_accuracy=0.77]\u001b[A\n",
            "Epoch 1/5:  21%|██        | 356/1718 [00:21<01:29, 15.23it/s, loss=0.632, sparse_categorical_accuracy=0.771]\u001b[A\n",
            "Epoch 1/5:  21%|██        | 356/1718 [00:21<01:29, 15.23it/s, loss=0.633, sparse_categorical_accuracy=0.771]\u001b[A\n",
            "Epoch 1/5:  21%|██        | 358/1718 [00:21<01:34, 14.34it/s, loss=0.633, sparse_categorical_accuracy=0.771]\u001b[A\n",
            "Epoch 1/5:  21%|██        | 358/1718 [00:21<01:34, 14.34it/s, loss=0.633, sparse_categorical_accuracy=0.771]\u001b[A\n",
            "Epoch 1/5:  21%|██        | 358/1718 [00:21<01:34, 14.34it/s, loss=0.633, sparse_categorical_accuracy=0.771]\u001b[A\n",
            "Epoch 1/5:  21%|██        | 360/1718 [00:21<01:38, 13.80it/s, loss=0.633, sparse_categorical_accuracy=0.771]\u001b[A\n",
            "Epoch 1/5:  21%|██        | 360/1718 [00:22<01:38, 13.80it/s, loss=0.632, sparse_categorical_accuracy=0.771]\u001b[A\n",
            "Epoch 1/5:  21%|██        | 360/1718 [00:22<01:38, 13.80it/s, loss=0.633, sparse_categorical_accuracy=0.771]\u001b[A\n",
            "Epoch 1/5:  21%|██        | 362/1718 [00:22<01:41, 13.37it/s, loss=0.633, sparse_categorical_accuracy=0.771]\u001b[A\n",
            "Epoch 1/5:  21%|██        | 362/1718 [00:22<01:41, 13.37it/s, loss=0.633, sparse_categorical_accuracy=0.771]\u001b[A\n",
            "Epoch 1/5:  21%|██        | 362/1718 [00:22<01:41, 13.37it/s, loss=0.633, sparse_categorical_accuracy=0.771]\u001b[A\n",
            "Epoch 1/5:  21%|██        | 364/1718 [00:22<01:39, 13.59it/s, loss=0.633, sparse_categorical_accuracy=0.771]\u001b[A\n",
            "Epoch 1/5:  21%|██        | 364/1718 [00:22<01:39, 13.59it/s, loss=0.632, sparse_categorical_accuracy=0.771]\u001b[A\n",
            "Epoch 1/5:  21%|██        | 364/1718 [00:22<01:39, 13.59it/s, loss=0.633, sparse_categorical_accuracy=0.771]\u001b[A\n",
            "Epoch 1/5:  21%|██▏       | 366/1718 [00:22<01:43, 13.08it/s, loss=0.633, sparse_categorical_accuracy=0.771]\u001b[A\n",
            "Epoch 1/5:  21%|██▏       | 366/1718 [00:22<01:43, 13.08it/s, loss=0.633, sparse_categorical_accuracy=0.771]\u001b[A\n",
            "Epoch 1/5:  21%|██▏       | 366/1718 [00:22<01:43, 13.08it/s, loss=0.632, sparse_categorical_accuracy=0.771]\u001b[A\n",
            "Epoch 1/5:  21%|██▏       | 368/1718 [00:22<01:38, 13.68it/s, loss=0.632, sparse_categorical_accuracy=0.771]\u001b[A\n",
            "Epoch 1/5:  21%|██▏       | 368/1718 [00:22<01:38, 13.68it/s, loss=0.631, sparse_categorical_accuracy=0.771]\u001b[A\n",
            "Epoch 1/5:  21%|██▏       | 368/1718 [00:22<01:38, 13.68it/s, loss=0.63, sparse_categorical_accuracy=0.772] \u001b[A\n",
            "Epoch 1/5:  22%|██▏       | 370/1718 [00:22<01:38, 13.65it/s, loss=0.63, sparse_categorical_accuracy=0.772]\u001b[A\n",
            "Epoch 1/5:  22%|██▏       | 370/1718 [00:22<01:38, 13.65it/s, loss=0.63, sparse_categorical_accuracy=0.772]\u001b[A\n",
            "Epoch 1/5:  22%|██▏       | 370/1718 [00:22<01:38, 13.65it/s, loss=0.63, sparse_categorical_accuracy=0.772]\u001b[A\n",
            "Epoch 1/5:  22%|██▏       | 372/1718 [00:22<01:47, 12.47it/s, loss=0.63, sparse_categorical_accuracy=0.772]\u001b[A\n",
            "Epoch 1/5:  22%|██▏       | 372/1718 [00:23<01:47, 12.47it/s, loss=0.63, sparse_categorical_accuracy=0.772]\u001b[A\n",
            "Epoch 1/5:  22%|██▏       | 372/1718 [00:23<01:47, 12.47it/s, loss=0.63, sparse_categorical_accuracy=0.772]\u001b[A\n",
            "Epoch 1/5:  22%|██▏       | 374/1718 [00:23<01:43, 13.00it/s, loss=0.63, sparse_categorical_accuracy=0.772]\u001b[A\n",
            "Epoch 1/5:  22%|██▏       | 374/1718 [00:23<01:43, 13.00it/s, loss=0.63, sparse_categorical_accuracy=0.772]\u001b[A\n",
            "Epoch 1/5:  22%|██▏       | 374/1718 [00:23<01:43, 13.00it/s, loss=0.629, sparse_categorical_accuracy=0.772]\u001b[A\n",
            "Epoch 1/5:  22%|██▏       | 376/1718 [00:23<01:43, 12.99it/s, loss=0.629, sparse_categorical_accuracy=0.772]\u001b[A\n",
            "Epoch 1/5:  22%|██▏       | 376/1718 [00:23<01:43, 12.99it/s, loss=0.628, sparse_categorical_accuracy=0.772]\u001b[A\n",
            "Epoch 1/5:  22%|██▏       | 376/1718 [00:23<01:43, 12.99it/s, loss=0.628, sparse_categorical_accuracy=0.772]\u001b[A\n",
            "Epoch 1/5:  22%|██▏       | 378/1718 [00:23<01:37, 13.76it/s, loss=0.628, sparse_categorical_accuracy=0.772]\u001b[A\n",
            "Epoch 1/5:  22%|██▏       | 378/1718 [00:23<01:37, 13.76it/s, loss=0.628, sparse_categorical_accuracy=0.772]\u001b[A\n",
            "Epoch 1/5:  22%|██▏       | 378/1718 [00:23<01:37, 13.76it/s, loss=0.628, sparse_categorical_accuracy=0.773]\u001b[A\n",
            "Epoch 1/5:  22%|██▏       | 380/1718 [00:23<01:32, 14.47it/s, loss=0.628, sparse_categorical_accuracy=0.773]\u001b[A\n",
            "Epoch 1/5:  22%|██▏       | 380/1718 [00:23<01:32, 14.47it/s, loss=0.627, sparse_categorical_accuracy=0.773]\u001b[A\n",
            "Epoch 1/5:  22%|██▏       | 380/1718 [00:23<01:32, 14.47it/s, loss=0.627, sparse_categorical_accuracy=0.773]\u001b[A\n",
            "Epoch 1/5:  22%|██▏       | 382/1718 [00:23<01:34, 14.14it/s, loss=0.627, sparse_categorical_accuracy=0.773]\u001b[A\n",
            "Epoch 1/5:  22%|██▏       | 382/1718 [00:23<01:34, 14.14it/s, loss=0.627, sparse_categorical_accuracy=0.773]\u001b[A\n",
            "Epoch 1/5:  22%|██▏       | 382/1718 [00:23<01:34, 14.14it/s, loss=0.626, sparse_categorical_accuracy=0.774]\u001b[A\n",
            "Epoch 1/5:  22%|██▏       | 384/1718 [00:23<01:41, 13.09it/s, loss=0.626, sparse_categorical_accuracy=0.774]\u001b[A\n",
            "Epoch 1/5:  22%|██▏       | 384/1718 [00:23<01:41, 13.09it/s, loss=0.626, sparse_categorical_accuracy=0.773]\u001b[A\n",
            "Epoch 1/5:  22%|██▏       | 384/1718 [00:23<01:41, 13.09it/s, loss=0.626, sparse_categorical_accuracy=0.773]\u001b[A\n",
            "Epoch 1/5:  22%|██▏       | 386/1718 [00:23<01:43, 12.92it/s, loss=0.626, sparse_categorical_accuracy=0.773]\u001b[A\n",
            "Epoch 1/5:  22%|██▏       | 386/1718 [00:24<01:43, 12.92it/s, loss=0.626, sparse_categorical_accuracy=0.774]\u001b[A\n",
            "Epoch 1/5:  22%|██▏       | 386/1718 [00:24<01:43, 12.92it/s, loss=0.626, sparse_categorical_accuracy=0.773]\u001b[A\n",
            "Epoch 1/5:  23%|██▎       | 388/1718 [00:24<01:39, 13.30it/s, loss=0.626, sparse_categorical_accuracy=0.773]\u001b[A\n",
            "Epoch 1/5:  23%|██▎       | 388/1718 [00:24<01:39, 13.30it/s, loss=0.626, sparse_categorical_accuracy=0.774]\u001b[A\n",
            "Epoch 1/5:  23%|██▎       | 388/1718 [00:24<01:39, 13.30it/s, loss=0.626, sparse_categorical_accuracy=0.773]\u001b[A\n",
            "Epoch 1/5:  23%|██▎       | 390/1718 [00:24<01:32, 14.37it/s, loss=0.626, sparse_categorical_accuracy=0.773]\u001b[A\n",
            "Epoch 1/5:  23%|██▎       | 390/1718 [00:24<01:32, 14.37it/s, loss=0.626, sparse_categorical_accuracy=0.773]\u001b[A\n",
            "Epoch 1/5:  23%|██▎       | 390/1718 [00:24<01:32, 14.37it/s, loss=0.626, sparse_categorical_accuracy=0.773]\u001b[A\n",
            "Epoch 1/5:  23%|██▎       | 392/1718 [00:24<01:25, 15.49it/s, loss=0.626, sparse_categorical_accuracy=0.773]\u001b[A\n",
            "Epoch 1/5:  23%|██▎       | 392/1718 [00:24<01:25, 15.49it/s, loss=0.625, sparse_categorical_accuracy=0.773]\u001b[A\n",
            "Epoch 1/5:  23%|██▎       | 392/1718 [00:24<01:25, 15.49it/s, loss=0.625, sparse_categorical_accuracy=0.773]\u001b[A\n",
            "Epoch 1/5:  23%|██▎       | 394/1718 [00:24<01:22, 16.13it/s, loss=0.625, sparse_categorical_accuracy=0.773]\u001b[A\n",
            "Epoch 1/5:  23%|██▎       | 394/1718 [00:24<01:22, 16.13it/s, loss=0.625, sparse_categorical_accuracy=0.773]\u001b[A\n",
            "Epoch 1/5:  23%|██▎       | 394/1718 [00:24<01:22, 16.13it/s, loss=0.625, sparse_categorical_accuracy=0.773]\u001b[A\n",
            "Epoch 1/5:  23%|██▎       | 396/1718 [00:24<01:18, 16.83it/s, loss=0.625, sparse_categorical_accuracy=0.773]\u001b[A\n",
            "Epoch 1/5:  23%|██▎       | 396/1718 [00:24<01:18, 16.83it/s, loss=0.625, sparse_categorical_accuracy=0.773]\u001b[A\n",
            "Epoch 1/5:  23%|██▎       | 396/1718 [00:24<01:18, 16.83it/s, loss=0.624, sparse_categorical_accuracy=0.773]\u001b[A\n",
            "Epoch 1/5:  23%|██▎       | 398/1718 [00:24<01:15, 17.50it/s, loss=0.624, sparse_categorical_accuracy=0.773]\u001b[A\n",
            "Epoch 1/5:  23%|██▎       | 398/1718 [00:24<01:15, 17.50it/s, loss=0.625, sparse_categorical_accuracy=0.773]\u001b[A\n",
            "Epoch 1/5:  23%|██▎       | 398/1718 [00:24<01:15, 17.50it/s, loss=0.624, sparse_categorical_accuracy=0.773]\u001b[A\n",
            "Epoch 1/5:  23%|██▎       | 400/1718 [00:24<01:18, 16.80it/s, loss=0.624, sparse_categorical_accuracy=0.773]\u001b[A\n",
            "Epoch 1/5:  23%|██▎       | 400/1718 [00:24<01:18, 16.80it/s, loss=0.624, sparse_categorical_accuracy=0.773]\u001b[A\n",
            "Epoch 1/5:  23%|██▎       | 400/1718 [00:24<01:18, 16.80it/s, loss=0.624, sparse_categorical_accuracy=0.773]\u001b[A\n",
            "Epoch 1/5:  23%|██▎       | 402/1718 [00:24<01:21, 16.09it/s, loss=0.624, sparse_categorical_accuracy=0.773]\u001b[A\n",
            "Epoch 1/5:  23%|██▎       | 402/1718 [00:24<01:21, 16.09it/s, loss=0.624, sparse_categorical_accuracy=0.773]\u001b[A\n",
            "Epoch 1/5:  23%|██▎       | 402/1718 [00:25<01:21, 16.09it/s, loss=0.624, sparse_categorical_accuracy=0.773]\u001b[A\n",
            "Epoch 1/5:  24%|██▎       | 404/1718 [00:25<01:22, 15.98it/s, loss=0.624, sparse_categorical_accuracy=0.773]\u001b[A\n",
            "Epoch 1/5:  24%|██▎       | 404/1718 [00:25<01:22, 15.98it/s, loss=0.623, sparse_categorical_accuracy=0.774]\u001b[A\n",
            "Epoch 1/5:  24%|██▎       | 404/1718 [00:25<01:22, 15.98it/s, loss=0.623, sparse_categorical_accuracy=0.774]\u001b[A\n",
            "Epoch 1/5:  24%|██▎       | 406/1718 [00:25<01:18, 16.70it/s, loss=0.623, sparse_categorical_accuracy=0.774]\u001b[A\n",
            "Epoch 1/5:  24%|██▎       | 406/1718 [00:25<01:18, 16.70it/s, loss=0.623, sparse_categorical_accuracy=0.774]\u001b[A\n",
            "Epoch 1/5:  24%|██▎       | 406/1718 [00:25<01:18, 16.70it/s, loss=0.623, sparse_categorical_accuracy=0.774]\u001b[A\n",
            "Epoch 1/5:  24%|██▎       | 408/1718 [00:25<01:17, 17.01it/s, loss=0.623, sparse_categorical_accuracy=0.774]\u001b[A\n",
            "Epoch 1/5:  24%|██▎       | 408/1718 [00:25<01:17, 17.01it/s, loss=0.623, sparse_categorical_accuracy=0.774]\u001b[A\n",
            "Epoch 1/5:  24%|██▎       | 408/1718 [00:25<01:17, 17.01it/s, loss=0.623, sparse_categorical_accuracy=0.774]\u001b[A\n",
            "Epoch 1/5:  24%|██▍       | 410/1718 [00:25<01:14, 17.59it/s, loss=0.623, sparse_categorical_accuracy=0.774]\u001b[A\n",
            "Epoch 1/5:  24%|██▍       | 410/1718 [00:25<01:14, 17.59it/s, loss=0.622, sparse_categorical_accuracy=0.774]\u001b[A\n",
            "Epoch 1/5:  24%|██▍       | 410/1718 [00:25<01:14, 17.59it/s, loss=0.622, sparse_categorical_accuracy=0.775]\u001b[A\n",
            "Epoch 1/5:  24%|██▍       | 412/1718 [00:25<01:13, 17.80it/s, loss=0.622, sparse_categorical_accuracy=0.775]\u001b[A\n",
            "Epoch 1/5:  24%|██▍       | 412/1718 [00:25<01:13, 17.80it/s, loss=0.621, sparse_categorical_accuracy=0.775]\u001b[A\n",
            "Epoch 1/5:  24%|██▍       | 412/1718 [00:25<01:13, 17.80it/s, loss=0.622, sparse_categorical_accuracy=0.775]\u001b[A\n",
            "Epoch 1/5:  24%|██▍       | 414/1718 [00:25<01:12, 18.05it/s, loss=0.622, sparse_categorical_accuracy=0.775]\u001b[A\n",
            "Epoch 1/5:  24%|██▍       | 414/1718 [00:25<01:12, 18.05it/s, loss=0.621, sparse_categorical_accuracy=0.775]\u001b[A\n",
            "Epoch 1/5:  24%|██▍       | 414/1718 [00:25<01:12, 18.05it/s, loss=0.621, sparse_categorical_accuracy=0.775]\u001b[A\n",
            "Epoch 1/5:  24%|██▍       | 416/1718 [00:25<01:13, 17.62it/s, loss=0.621, sparse_categorical_accuracy=0.775]\u001b[A\n",
            "Epoch 1/5:  24%|██▍       | 416/1718 [00:25<01:13, 17.62it/s, loss=0.62, sparse_categorical_accuracy=0.775] \u001b[A\n",
            "Epoch 1/5:  24%|██▍       | 416/1718 [00:25<01:13, 17.62it/s, loss=0.619, sparse_categorical_accuracy=0.775]\u001b[A\n",
            "Epoch 1/5:  24%|██▍       | 418/1718 [00:25<01:17, 16.70it/s, loss=0.619, sparse_categorical_accuracy=0.775]\u001b[A\n",
            "Epoch 1/5:  24%|██▍       | 418/1718 [00:25<01:17, 16.70it/s, loss=0.618, sparse_categorical_accuracy=0.776]\u001b[A\n",
            "Epoch 1/5:  24%|██▍       | 418/1718 [00:25<01:17, 16.70it/s, loss=0.618, sparse_categorical_accuracy=0.776]\u001b[A\n",
            "Epoch 1/5:  24%|██▍       | 420/1718 [00:25<01:19, 16.26it/s, loss=0.618, sparse_categorical_accuracy=0.776]\u001b[A\n",
            "Epoch 1/5:  24%|██▍       | 420/1718 [00:26<01:19, 16.26it/s, loss=0.617, sparse_categorical_accuracy=0.776]\u001b[A\n",
            "Epoch 1/5:  24%|██▍       | 420/1718 [00:26<01:19, 16.26it/s, loss=0.617, sparse_categorical_accuracy=0.777]\u001b[A\n",
            "Epoch 1/5:  25%|██▍       | 422/1718 [00:26<01:21, 15.97it/s, loss=0.617, sparse_categorical_accuracy=0.777]\u001b[A\n",
            "Epoch 1/5:  25%|██▍       | 422/1718 [00:26<01:21, 15.97it/s, loss=0.616, sparse_categorical_accuracy=0.777]\u001b[A\n",
            "Epoch 1/5:  25%|██▍       | 422/1718 [00:26<01:21, 15.97it/s, loss=0.616, sparse_categorical_accuracy=0.777]\u001b[A\n",
            "Epoch 1/5:  25%|██▍       | 424/1718 [00:26<01:17, 16.68it/s, loss=0.616, sparse_categorical_accuracy=0.777]\u001b[A\n",
            "Epoch 1/5:  25%|██▍       | 424/1718 [00:26<01:17, 16.68it/s, loss=0.617, sparse_categorical_accuracy=0.776]\u001b[A\n",
            "Epoch 1/5:  25%|██▍       | 424/1718 [00:26<01:17, 16.68it/s, loss=0.617, sparse_categorical_accuracy=0.776]\u001b[A\n",
            "Epoch 1/5:  25%|██▍       | 426/1718 [00:26<01:16, 16.89it/s, loss=0.617, sparse_categorical_accuracy=0.776]\u001b[A\n",
            "Epoch 1/5:  25%|██▍       | 426/1718 [00:26<01:16, 16.89it/s, loss=0.616, sparse_categorical_accuracy=0.776]\u001b[A\n",
            "Epoch 1/5:  25%|██▍       | 426/1718 [00:26<01:16, 16.89it/s, loss=0.617, sparse_categorical_accuracy=0.777]\u001b[A\n",
            "Epoch 1/5:  25%|██▍       | 428/1718 [00:26<01:14, 17.40it/s, loss=0.617, sparse_categorical_accuracy=0.777]\u001b[A\n",
            "Epoch 1/5:  25%|██▍       | 428/1718 [00:26<01:14, 17.40it/s, loss=0.617, sparse_categorical_accuracy=0.777]\u001b[A\n",
            "Epoch 1/5:  25%|██▍       | 428/1718 [00:26<01:14, 17.40it/s, loss=0.617, sparse_categorical_accuracy=0.776]\u001b[A\n",
            "Epoch 1/5:  25%|██▌       | 430/1718 [00:26<01:15, 17.13it/s, loss=0.617, sparse_categorical_accuracy=0.776]\u001b[A\n",
            "Epoch 1/5:  25%|██▌       | 430/1718 [00:26<01:15, 17.13it/s, loss=0.617, sparse_categorical_accuracy=0.776]\u001b[A\n",
            "Epoch 1/5:  25%|██▌       | 430/1718 [00:26<01:15, 17.13it/s, loss=0.616, sparse_categorical_accuracy=0.777]\u001b[A\n",
            "Epoch 1/5:  25%|██▌       | 432/1718 [00:26<01:14, 17.22it/s, loss=0.616, sparse_categorical_accuracy=0.777]\u001b[A\n",
            "Epoch 1/5:  25%|██▌       | 432/1718 [00:26<01:14, 17.22it/s, loss=0.616, sparse_categorical_accuracy=0.777]\u001b[A\n",
            "Epoch 1/5:  25%|██▌       | 432/1718 [00:26<01:14, 17.22it/s, loss=0.617, sparse_categorical_accuracy=0.777]\u001b[A\n",
            "Epoch 1/5:  25%|██▌       | 434/1718 [00:26<01:18, 16.31it/s, loss=0.617, sparse_categorical_accuracy=0.777]\u001b[A\n",
            "Epoch 1/5:  25%|██▌       | 434/1718 [00:26<01:18, 16.31it/s, loss=0.616, sparse_categorical_accuracy=0.777]\u001b[A\n",
            "Epoch 1/5:  25%|██▌       | 434/1718 [00:26<01:18, 16.31it/s, loss=0.617, sparse_categorical_accuracy=0.777]\u001b[A\n",
            "Epoch 1/5:  25%|██▌       | 436/1718 [00:26<01:20, 15.83it/s, loss=0.617, sparse_categorical_accuracy=0.777]\u001b[A\n",
            "Epoch 1/5:  25%|██▌       | 436/1718 [00:26<01:20, 15.83it/s, loss=0.617, sparse_categorical_accuracy=0.777]\u001b[A\n",
            "Epoch 1/5:  25%|██▌       | 436/1718 [00:27<01:20, 15.83it/s, loss=0.617, sparse_categorical_accuracy=0.777]\u001b[A\n",
            "Epoch 1/5:  25%|██▌       | 438/1718 [00:27<01:18, 16.27it/s, loss=0.617, sparse_categorical_accuracy=0.777]\u001b[A\n",
            "Epoch 1/5:  25%|██▌       | 438/1718 [00:27<01:18, 16.27it/s, loss=0.617, sparse_categorical_accuracy=0.777]\u001b[A\n",
            "Epoch 1/5:  25%|██▌       | 438/1718 [00:27<01:18, 16.27it/s, loss=0.617, sparse_categorical_accuracy=0.777]\u001b[A\n",
            "Epoch 1/5:  26%|██▌       | 440/1718 [00:27<01:16, 16.74it/s, loss=0.617, sparse_categorical_accuracy=0.777]\u001b[A\n",
            "Epoch 1/5:  26%|██▌       | 440/1718 [00:27<01:16, 16.74it/s, loss=0.617, sparse_categorical_accuracy=0.777]\u001b[A\n",
            "Epoch 1/5:  26%|██▌       | 440/1718 [00:27<01:16, 16.74it/s, loss=0.618, sparse_categorical_accuracy=0.777]\u001b[A\n",
            "Epoch 1/5:  26%|██▌       | 442/1718 [00:27<01:15, 16.96it/s, loss=0.618, sparse_categorical_accuracy=0.777]\u001b[A\n",
            "Epoch 1/5:  26%|██▌       | 442/1718 [00:27<01:15, 16.96it/s, loss=0.617, sparse_categorical_accuracy=0.777]\u001b[A\n",
            "Epoch 1/5:  26%|██▌       | 442/1718 [00:27<01:15, 16.96it/s, loss=0.616, sparse_categorical_accuracy=0.777]\u001b[A\n",
            "Epoch 1/5:  26%|██▌       | 444/1718 [00:27<01:13, 17.36it/s, loss=0.616, sparse_categorical_accuracy=0.777]\u001b[A\n",
            "Epoch 1/5:  26%|██▌       | 444/1718 [00:27<01:13, 17.36it/s, loss=0.616, sparse_categorical_accuracy=0.777]\u001b[A\n",
            "Epoch 1/5:  26%|██▌       | 444/1718 [00:27<01:13, 17.36it/s, loss=0.616, sparse_categorical_accuracy=0.777]\u001b[A\n",
            "Epoch 1/5:  26%|██▌       | 446/1718 [00:27<01:13, 17.34it/s, loss=0.616, sparse_categorical_accuracy=0.777]\u001b[A\n",
            "Epoch 1/5:  26%|██▌       | 446/1718 [00:27<01:13, 17.34it/s, loss=0.616, sparse_categorical_accuracy=0.777]\u001b[A\n",
            "Epoch 1/5:  26%|██▌       | 446/1718 [00:27<01:13, 17.34it/s, loss=0.616, sparse_categorical_accuracy=0.777]\u001b[A\n",
            "Epoch 1/5:  26%|██▌       | 448/1718 [00:27<01:11, 17.74it/s, loss=0.616, sparse_categorical_accuracy=0.777]\u001b[A\n",
            "Epoch 1/5:  26%|██▌       | 448/1718 [00:27<01:11, 17.74it/s, loss=0.615, sparse_categorical_accuracy=0.778]\u001b[A\n",
            "Epoch 1/5:  26%|██▌       | 448/1718 [00:27<01:11, 17.74it/s, loss=0.615, sparse_categorical_accuracy=0.778]\u001b[A\n",
            "Epoch 1/5:  26%|██▌       | 450/1718 [00:27<01:13, 17.16it/s, loss=0.615, sparse_categorical_accuracy=0.778]\u001b[A\n",
            "Epoch 1/5:  26%|██▌       | 450/1718 [00:27<01:13, 17.16it/s, loss=0.615, sparse_categorical_accuracy=0.778]\u001b[A\n",
            "Epoch 1/5:  26%|██▌       | 450/1718 [00:27<01:13, 17.16it/s, loss=0.616, sparse_categorical_accuracy=0.778]\u001b[A\n",
            "Epoch 1/5:  26%|██▋       | 452/1718 [00:27<01:17, 16.35it/s, loss=0.616, sparse_categorical_accuracy=0.778]\u001b[A\n",
            "Epoch 1/5:  26%|██▋       | 452/1718 [00:27<01:17, 16.35it/s, loss=0.615, sparse_categorical_accuracy=0.778]\u001b[A\n",
            "Epoch 1/5:  26%|██▋       | 452/1718 [00:27<01:17, 16.35it/s, loss=0.614, sparse_categorical_accuracy=0.778]\u001b[A\n",
            "Epoch 1/5:  26%|██▋       | 454/1718 [00:27<01:18, 16.06it/s, loss=0.614, sparse_categorical_accuracy=0.778]\u001b[A\n",
            "Epoch 1/5:  26%|██▋       | 454/1718 [00:28<01:18, 16.06it/s, loss=0.614, sparse_categorical_accuracy=0.778]\u001b[A\n",
            "Epoch 1/5:  26%|██▋       | 454/1718 [00:28<01:18, 16.06it/s, loss=0.614, sparse_categorical_accuracy=0.778]\u001b[A\n",
            "Epoch 1/5:  27%|██▋       | 456/1718 [00:28<01:19, 15.95it/s, loss=0.614, sparse_categorical_accuracy=0.778]\u001b[A\n",
            "Epoch 1/5:  27%|██▋       | 456/1718 [00:28<01:19, 15.95it/s, loss=0.614, sparse_categorical_accuracy=0.778]\u001b[A\n",
            "Epoch 1/5:  27%|██▋       | 456/1718 [00:28<01:19, 15.95it/s, loss=0.613, sparse_categorical_accuracy=0.778]\u001b[A\n",
            "Epoch 1/5:  27%|██▋       | 458/1718 [00:28<01:15, 16.60it/s, loss=0.613, sparse_categorical_accuracy=0.778]\u001b[A\n",
            "Epoch 1/5:  27%|██▋       | 458/1718 [00:28<01:15, 16.60it/s, loss=0.613, sparse_categorical_accuracy=0.778]\u001b[A\n",
            "Epoch 1/5:  27%|██▋       | 458/1718 [00:28<01:15, 16.60it/s, loss=0.613, sparse_categorical_accuracy=0.778]\u001b[A\n",
            "Epoch 1/5:  27%|██▋       | 460/1718 [00:28<01:15, 16.68it/s, loss=0.613, sparse_categorical_accuracy=0.778]\u001b[A\n",
            "Epoch 1/5:  27%|██▋       | 460/1718 [00:28<01:15, 16.68it/s, loss=0.613, sparse_categorical_accuracy=0.778]\u001b[A\n",
            "Epoch 1/5:  27%|██▋       | 460/1718 [00:28<01:15, 16.68it/s, loss=0.613, sparse_categorical_accuracy=0.778]\u001b[A\n",
            "Epoch 1/5:  27%|██▋       | 462/1718 [00:28<01:13, 17.02it/s, loss=0.613, sparse_categorical_accuracy=0.778]\u001b[A\n",
            "Epoch 1/5:  27%|██▋       | 462/1718 [00:28<01:13, 17.02it/s, loss=0.613, sparse_categorical_accuracy=0.778]\u001b[A\n",
            "Epoch 1/5:  27%|██▋       | 462/1718 [00:28<01:13, 17.02it/s, loss=0.613, sparse_categorical_accuracy=0.778]\u001b[A\n",
            "Epoch 1/5:  27%|██▋       | 464/1718 [00:28<01:11, 17.55it/s, loss=0.613, sparse_categorical_accuracy=0.778]\u001b[A\n",
            "Epoch 1/5:  27%|██▋       | 464/1718 [00:28<01:11, 17.55it/s, loss=0.612, sparse_categorical_accuracy=0.779]\u001b[A\n",
            "Epoch 1/5:  27%|██▋       | 464/1718 [00:28<01:11, 17.55it/s, loss=0.612, sparse_categorical_accuracy=0.779]\u001b[A\n",
            "Epoch 1/5:  27%|██▋       | 466/1718 [00:28<01:12, 17.30it/s, loss=0.612, sparse_categorical_accuracy=0.779]\u001b[A\n",
            "Epoch 1/5:  27%|██▋       | 466/1718 [00:28<01:12, 17.30it/s, loss=0.612, sparse_categorical_accuracy=0.779]\u001b[A\n",
            "Epoch 1/5:  27%|██▋       | 466/1718 [00:28<01:12, 17.30it/s, loss=0.611, sparse_categorical_accuracy=0.779]\u001b[A\n",
            "Epoch 1/5:  27%|██▋       | 468/1718 [00:28<01:14, 16.67it/s, loss=0.611, sparse_categorical_accuracy=0.779]\u001b[A\n",
            "Epoch 1/5:  27%|██▋       | 468/1718 [00:28<01:14, 16.67it/s, loss=0.611, sparse_categorical_accuracy=0.78] \u001b[A\n",
            "Epoch 1/5:  27%|██▋       | 468/1718 [00:28<01:14, 16.67it/s, loss=0.61, sparse_categorical_accuracy=0.78] \u001b[A\n",
            "Epoch 1/5:  27%|██▋       | 470/1718 [00:28<01:16, 16.41it/s, loss=0.61, sparse_categorical_accuracy=0.78]\u001b[A\n",
            "Epoch 1/5:  27%|██▋       | 470/1718 [00:29<01:16, 16.41it/s, loss=0.609, sparse_categorical_accuracy=0.78]\u001b[A\n",
            "Epoch 1/5:  27%|██▋       | 470/1718 [00:29<01:16, 16.41it/s, loss=0.609, sparse_categorical_accuracy=0.78]\u001b[A\n",
            "Epoch 1/5:  27%|██▋       | 472/1718 [00:29<01:14, 16.70it/s, loss=0.609, sparse_categorical_accuracy=0.78]\u001b[A\n",
            "Epoch 1/5:  27%|██▋       | 472/1718 [00:29<01:14, 16.70it/s, loss=0.609, sparse_categorical_accuracy=0.78]\u001b[A\n",
            "Epoch 1/5:  27%|██▋       | 472/1718 [00:29<01:14, 16.70it/s, loss=0.609, sparse_categorical_accuracy=0.78]\u001b[A\n",
            "Epoch 1/5:  28%|██▊       | 474/1718 [00:29<01:13, 16.96it/s, loss=0.609, sparse_categorical_accuracy=0.78]\u001b[A\n",
            "Epoch 1/5:  28%|██▊       | 474/1718 [00:29<01:13, 16.96it/s, loss=0.609, sparse_categorical_accuracy=0.78]\u001b[A\n",
            "Epoch 1/5:  28%|██▊       | 474/1718 [00:29<01:13, 16.96it/s, loss=0.608, sparse_categorical_accuracy=0.78]\u001b[A\n",
            "Epoch 1/5:  28%|██▊       | 476/1718 [00:29<01:11, 17.31it/s, loss=0.608, sparse_categorical_accuracy=0.78]\u001b[A\n",
            "Epoch 1/5:  28%|██▊       | 476/1718 [00:29<01:11, 17.31it/s, loss=0.608, sparse_categorical_accuracy=0.781]\u001b[A\n",
            "Epoch 1/5:  28%|██▊       | 476/1718 [00:29<01:11, 17.31it/s, loss=0.607, sparse_categorical_accuracy=0.781]\u001b[A\n",
            "Epoch 1/5:  28%|██▊       | 478/1718 [00:29<01:11, 17.23it/s, loss=0.607, sparse_categorical_accuracy=0.781]\u001b[A\n",
            "Epoch 1/5:  28%|██▊       | 478/1718 [00:29<01:11, 17.23it/s, loss=0.607, sparse_categorical_accuracy=0.781]\u001b[A\n",
            "Epoch 1/5:  28%|██▊       | 478/1718 [00:29<01:11, 17.23it/s, loss=0.606, sparse_categorical_accuracy=0.781]\u001b[A\n",
            "Epoch 1/5:  28%|██▊       | 480/1718 [00:29<01:09, 17.77it/s, loss=0.606, sparse_categorical_accuracy=0.781]\u001b[A\n",
            "Epoch 1/5:  28%|██▊       | 480/1718 [00:29<01:09, 17.77it/s, loss=0.606, sparse_categorical_accuracy=0.781]\u001b[A\n",
            "Epoch 1/5:  28%|██▊       | 480/1718 [00:29<01:09, 17.77it/s, loss=0.606, sparse_categorical_accuracy=0.781]\u001b[A\n",
            "Epoch 1/5:  28%|██▊       | 482/1718 [00:29<01:09, 17.86it/s, loss=0.606, sparse_categorical_accuracy=0.781]\u001b[A\n",
            "Epoch 1/5:  28%|██▊       | 482/1718 [00:29<01:09, 17.86it/s, loss=0.605, sparse_categorical_accuracy=0.781]\u001b[A\n",
            "Epoch 1/5:  28%|██▊       | 482/1718 [00:29<01:09, 17.86it/s, loss=0.605, sparse_categorical_accuracy=0.781]\u001b[A\n",
            "Epoch 1/5:  28%|██▊       | 484/1718 [00:29<01:11, 17.16it/s, loss=0.605, sparse_categorical_accuracy=0.781]\u001b[A\n",
            "Epoch 1/5:  28%|██▊       | 484/1718 [00:29<01:11, 17.16it/s, loss=0.605, sparse_categorical_accuracy=0.781]\u001b[A\n",
            "Epoch 1/5:  28%|██▊       | 484/1718 [00:29<01:11, 17.16it/s, loss=0.605, sparse_categorical_accuracy=0.781]\u001b[A\n",
            "Epoch 1/5:  28%|██▊       | 486/1718 [00:29<01:15, 16.36it/s, loss=0.605, sparse_categorical_accuracy=0.781]\u001b[A\n",
            "Epoch 1/5:  28%|██▊       | 486/1718 [00:29<01:15, 16.36it/s, loss=0.605, sparse_categorical_accuracy=0.781]\u001b[A\n",
            "Epoch 1/5:  28%|██▊       | 486/1718 [00:30<01:15, 16.36it/s, loss=0.605, sparse_categorical_accuracy=0.781]\u001b[A\n",
            "Epoch 1/5:  28%|██▊       | 488/1718 [00:30<01:17, 15.83it/s, loss=0.605, sparse_categorical_accuracy=0.781]\u001b[A\n",
            "Epoch 1/5:  28%|██▊       | 488/1718 [00:30<01:17, 15.83it/s, loss=0.605, sparse_categorical_accuracy=0.781]\u001b[A\n",
            "Epoch 1/5:  28%|██▊       | 488/1718 [00:30<01:17, 15.83it/s, loss=0.605, sparse_categorical_accuracy=0.781]\u001b[A\n",
            "Epoch 1/5:  29%|██▊       | 490/1718 [00:30<01:13, 16.69it/s, loss=0.605, sparse_categorical_accuracy=0.781]\u001b[A\n",
            "Epoch 1/5:  29%|██▊       | 490/1718 [00:30<01:13, 16.69it/s, loss=0.605, sparse_categorical_accuracy=0.782]\u001b[A\n",
            "Epoch 1/5:  29%|██▊       | 490/1718 [00:30<01:13, 16.69it/s, loss=0.604, sparse_categorical_accuracy=0.782]\u001b[A\n",
            "Epoch 1/5:  29%|██▊       | 492/1718 [00:30<01:11, 17.27it/s, loss=0.604, sparse_categorical_accuracy=0.782]\u001b[A\n",
            "Epoch 1/5:  29%|██▊       | 492/1718 [00:30<01:11, 17.27it/s, loss=0.604, sparse_categorical_accuracy=0.782]\u001b[A\n",
            "Epoch 1/5:  29%|██▊       | 492/1718 [00:30<01:11, 17.27it/s, loss=0.603, sparse_categorical_accuracy=0.782]\u001b[A\n",
            "Epoch 1/5:  29%|██▉       | 494/1718 [00:30<01:09, 17.61it/s, loss=0.603, sparse_categorical_accuracy=0.782]\u001b[A\n",
            "Epoch 1/5:  29%|██▉       | 494/1718 [00:30<01:09, 17.61it/s, loss=0.603, sparse_categorical_accuracy=0.782]\u001b[A\n",
            "Epoch 1/5:  29%|██▉       | 494/1718 [00:30<01:09, 17.61it/s, loss=0.602, sparse_categorical_accuracy=0.782]\u001b[A\n",
            "Epoch 1/5:  29%|██▉       | 496/1718 [00:30<01:11, 17.18it/s, loss=0.602, sparse_categorical_accuracy=0.782]\u001b[A\n",
            "Epoch 1/5:  29%|██▉       | 496/1718 [00:30<01:11, 17.18it/s, loss=0.602, sparse_categorical_accuracy=0.782]\u001b[A\n",
            "Epoch 1/5:  29%|██▉       | 496/1718 [00:30<01:11, 17.18it/s, loss=0.602, sparse_categorical_accuracy=0.782]\u001b[A\n",
            "Epoch 1/5:  29%|██▉       | 498/1718 [00:30<01:10, 17.35it/s, loss=0.602, sparse_categorical_accuracy=0.782]\u001b[A\n",
            "Epoch 1/5:  29%|██▉       | 498/1718 [00:30<01:10, 17.35it/s, loss=0.602, sparse_categorical_accuracy=0.783]\u001b[A\n",
            "Epoch 1/5:  29%|██▉       | 498/1718 [00:30<01:10, 17.35it/s, loss=0.601, sparse_categorical_accuracy=0.783]\u001b[A\n",
            "Epoch 1/5:  29%|██▉       | 500/1718 [00:30<01:09, 17.41it/s, loss=0.601, sparse_categorical_accuracy=0.783]\u001b[A\n",
            "Epoch 1/5:  29%|██▉       | 500/1718 [00:30<01:09, 17.41it/s, loss=0.601, sparse_categorical_accuracy=0.783]\u001b[A\n",
            "Epoch 1/5:  29%|██▉       | 500/1718 [00:30<01:09, 17.41it/s, loss=0.601, sparse_categorical_accuracy=0.783]\u001b[A\n",
            "Epoch 1/5:  29%|██▉       | 502/1718 [00:30<01:12, 16.77it/s, loss=0.601, sparse_categorical_accuracy=0.783]\u001b[A\n",
            "Epoch 1/5:  29%|██▉       | 502/1718 [00:30<01:12, 16.77it/s, loss=0.601, sparse_categorical_accuracy=0.783]\u001b[A\n",
            "Epoch 1/5:  29%|██▉       | 502/1718 [00:30<01:12, 16.77it/s, loss=0.6, sparse_categorical_accuracy=0.783]  \u001b[A\n",
            "Epoch 1/5:  29%|██▉       | 504/1718 [00:30<01:15, 16.10it/s, loss=0.6, sparse_categorical_accuracy=0.783]\u001b[A\n",
            "Epoch 1/5:  29%|██▉       | 504/1718 [00:31<01:15, 16.10it/s, loss=0.6, sparse_categorical_accuracy=0.783]\u001b[A\n",
            "Epoch 1/5:  29%|██▉       | 504/1718 [00:31<01:15, 16.10it/s, loss=0.6, sparse_categorical_accuracy=0.783]\u001b[A\n",
            "Epoch 1/5:  29%|██▉       | 506/1718 [00:31<01:15, 16.11it/s, loss=0.6, sparse_categorical_accuracy=0.783]\u001b[A\n",
            "Epoch 1/5:  29%|██▉       | 506/1718 [00:31<01:15, 16.11it/s, loss=0.599, sparse_categorical_accuracy=0.783]\u001b[A\n",
            "Epoch 1/5:  29%|██▉       | 506/1718 [00:31<01:15, 16.11it/s, loss=0.599, sparse_categorical_accuracy=0.783]\u001b[A\n",
            "Epoch 1/5:  30%|██▉       | 508/1718 [00:31<01:11, 16.84it/s, loss=0.599, sparse_categorical_accuracy=0.783]\u001b[A\n",
            "Epoch 1/5:  30%|██▉       | 508/1718 [00:31<01:11, 16.84it/s, loss=0.599, sparse_categorical_accuracy=0.783]\u001b[A\n",
            "Epoch 1/5:  30%|██▉       | 508/1718 [00:31<01:11, 16.84it/s, loss=0.598, sparse_categorical_accuracy=0.784]\u001b[A\n",
            "Epoch 1/5:  30%|██▉       | 510/1718 [00:31<01:09, 17.26it/s, loss=0.598, sparse_categorical_accuracy=0.784]\u001b[A\n",
            "Epoch 1/5:  30%|██▉       | 510/1718 [00:31<01:09, 17.26it/s, loss=0.597, sparse_categorical_accuracy=0.784]\u001b[A\n",
            "Epoch 1/5:  30%|██▉       | 510/1718 [00:31<01:09, 17.26it/s, loss=0.598, sparse_categorical_accuracy=0.784]\u001b[A\n",
            "Epoch 1/5:  30%|██▉       | 512/1718 [00:31<01:10, 17.23it/s, loss=0.598, sparse_categorical_accuracy=0.784]\u001b[A\n",
            "Epoch 1/5:  30%|██▉       | 512/1718 [00:31<01:10, 17.23it/s, loss=0.597, sparse_categorical_accuracy=0.784]\u001b[A\n",
            "Epoch 1/5:  30%|██▉       | 512/1718 [00:31<01:10, 17.23it/s, loss=0.597, sparse_categorical_accuracy=0.784]\u001b[A\n",
            "Epoch 1/5:  30%|██▉       | 514/1718 [00:31<01:08, 17.54it/s, loss=0.597, sparse_categorical_accuracy=0.784]\u001b[A\n",
            "Epoch 1/5:  30%|██▉       | 514/1718 [00:31<01:08, 17.54it/s, loss=0.597, sparse_categorical_accuracy=0.784]\u001b[A\n",
            "Epoch 1/5:  30%|██▉       | 514/1718 [00:31<01:08, 17.54it/s, loss=0.596, sparse_categorical_accuracy=0.784]\u001b[A\n",
            "Epoch 1/5:  30%|███       | 516/1718 [00:31<01:07, 17.88it/s, loss=0.596, sparse_categorical_accuracy=0.784]\u001b[A\n",
            "Epoch 1/5:  30%|███       | 516/1718 [00:31<01:07, 17.88it/s, loss=0.597, sparse_categorical_accuracy=0.784]\u001b[A\n",
            "Epoch 1/5:  30%|███       | 516/1718 [00:31<01:07, 17.88it/s, loss=0.596, sparse_categorical_accuracy=0.784]\u001b[A\n",
            "Epoch 1/5:  30%|███       | 518/1718 [00:31<01:10, 16.93it/s, loss=0.596, sparse_categorical_accuracy=0.784]\u001b[A\n",
            "Epoch 1/5:  30%|███       | 518/1718 [00:31<01:10, 16.93it/s, loss=0.596, sparse_categorical_accuracy=0.785]\u001b[A\n",
            "Epoch 1/5:  30%|███       | 518/1718 [00:31<01:10, 16.93it/s, loss=0.596, sparse_categorical_accuracy=0.784]\u001b[A\n",
            "Epoch 1/5:  30%|███       | 520/1718 [00:31<01:14, 16.11it/s, loss=0.596, sparse_categorical_accuracy=0.784]\u001b[A\n",
            "Epoch 1/5:  30%|███       | 520/1718 [00:31<01:14, 16.11it/s, loss=0.596, sparse_categorical_accuracy=0.785]\u001b[A\n",
            "Epoch 1/5:  30%|███       | 520/1718 [00:32<01:14, 16.11it/s, loss=0.595, sparse_categorical_accuracy=0.785]\u001b[A\n",
            "Epoch 1/5:  30%|███       | 522/1718 [00:32<01:14, 15.97it/s, loss=0.595, sparse_categorical_accuracy=0.785]\u001b[A\n",
            "Epoch 1/5:  30%|███       | 522/1718 [00:32<01:14, 15.97it/s, loss=0.595, sparse_categorical_accuracy=0.785]\u001b[A\n",
            "Epoch 1/5:  30%|███       | 522/1718 [00:32<01:14, 15.97it/s, loss=0.595, sparse_categorical_accuracy=0.785]\u001b[A\n",
            "Epoch 1/5:  31%|███       | 524/1718 [00:32<01:11, 16.77it/s, loss=0.595, sparse_categorical_accuracy=0.785]\u001b[A\n",
            "Epoch 1/5:  31%|███       | 524/1718 [00:32<01:11, 16.77it/s, loss=0.595, sparse_categorical_accuracy=0.785]\u001b[A\n",
            "Epoch 1/5:  31%|███       | 524/1718 [00:32<01:11, 16.77it/s, loss=0.595, sparse_categorical_accuracy=0.785]\u001b[A\n",
            "Epoch 1/5:  31%|███       | 526/1718 [00:32<01:08, 17.39it/s, loss=0.595, sparse_categorical_accuracy=0.785]\u001b[A\n",
            "Epoch 1/5:  31%|███       | 526/1718 [00:32<01:08, 17.39it/s, loss=0.595, sparse_categorical_accuracy=0.785]\u001b[A\n",
            "Epoch 1/5:  31%|███       | 526/1718 [00:32<01:08, 17.39it/s, loss=0.595, sparse_categorical_accuracy=0.785]\u001b[A\n",
            "Epoch 1/5:  31%|███       | 528/1718 [00:32<01:07, 17.64it/s, loss=0.595, sparse_categorical_accuracy=0.785]\u001b[A\n",
            "Epoch 1/5:  31%|███       | 528/1718 [00:32<01:07, 17.64it/s, loss=0.594, sparse_categorical_accuracy=0.785]\u001b[A\n",
            "Epoch 1/5:  31%|███       | 528/1718 [00:32<01:07, 17.64it/s, loss=0.594, sparse_categorical_accuracy=0.785]\u001b[A\n",
            "Epoch 1/5:  31%|███       | 530/1718 [00:32<01:09, 17.19it/s, loss=0.594, sparse_categorical_accuracy=0.785]\u001b[A\n",
            "Epoch 1/5:  31%|███       | 530/1718 [00:32<01:09, 17.19it/s, loss=0.593, sparse_categorical_accuracy=0.786]\u001b[A\n",
            "Epoch 1/5:  31%|███       | 530/1718 [00:32<01:09, 17.19it/s, loss=0.593, sparse_categorical_accuracy=0.786]\u001b[A\n",
            "Epoch 1/5:  31%|███       | 532/1718 [00:32<01:09, 17.16it/s, loss=0.593, sparse_categorical_accuracy=0.786]\u001b[A\n",
            "Epoch 1/5:  31%|███       | 532/1718 [00:32<01:09, 17.16it/s, loss=0.593, sparse_categorical_accuracy=0.786]\u001b[A\n",
            "Epoch 1/5:  31%|███       | 532/1718 [00:32<01:09, 17.16it/s, loss=0.593, sparse_categorical_accuracy=0.786]\u001b[A\n",
            "Epoch 1/5:  31%|███       | 534/1718 [00:32<01:10, 16.69it/s, loss=0.593, sparse_categorical_accuracy=0.786]\u001b[A\n",
            "Epoch 1/5:  31%|███       | 534/1718 [00:32<01:10, 16.69it/s, loss=0.593, sparse_categorical_accuracy=0.786]\u001b[A\n",
            "Epoch 1/5:  31%|███       | 534/1718 [00:32<01:10, 16.69it/s, loss=0.592, sparse_categorical_accuracy=0.786]\u001b[A\n",
            "Epoch 1/5:  31%|███       | 536/1718 [00:32<01:12, 16.29it/s, loss=0.592, sparse_categorical_accuracy=0.786]\u001b[A\n",
            "Epoch 1/5:  31%|███       | 536/1718 [00:32<01:12, 16.29it/s, loss=0.592, sparse_categorical_accuracy=0.786]\u001b[A\n",
            "Epoch 1/5:  31%|███       | 536/1718 [00:32<01:12, 16.29it/s, loss=0.592, sparse_categorical_accuracy=0.786]\u001b[A\n",
            "Epoch 1/5:  31%|███▏      | 538/1718 [00:32<01:14, 15.81it/s, loss=0.592, sparse_categorical_accuracy=0.786]\u001b[A\n",
            "Epoch 1/5:  31%|███▏      | 538/1718 [00:33<01:14, 15.81it/s, loss=0.592, sparse_categorical_accuracy=0.786]\u001b[A\n",
            "Epoch 1/5:  31%|███▏      | 538/1718 [00:33<01:14, 15.81it/s, loss=0.593, sparse_categorical_accuracy=0.786]\u001b[A\n",
            "Epoch 1/5:  31%|███▏      | 540/1718 [00:33<01:13, 16.10it/s, loss=0.593, sparse_categorical_accuracy=0.786]\u001b[A\n",
            "Epoch 1/5:  31%|███▏      | 540/1718 [00:33<01:13, 16.10it/s, loss=0.593, sparse_categorical_accuracy=0.786]\u001b[A\n",
            "Epoch 1/5:  31%|███▏      | 540/1718 [00:33<01:13, 16.10it/s, loss=0.593, sparse_categorical_accuracy=0.786]\u001b[A\n",
            "Epoch 1/5:  32%|███▏      | 542/1718 [00:33<01:10, 16.76it/s, loss=0.593, sparse_categorical_accuracy=0.786]\u001b[A\n",
            "Epoch 1/5:  32%|███▏      | 542/1718 [00:33<01:10, 16.76it/s, loss=0.593, sparse_categorical_accuracy=0.786]\u001b[A\n",
            "Epoch 1/5:  32%|███▏      | 542/1718 [00:33<01:10, 16.76it/s, loss=0.593, sparse_categorical_accuracy=0.786]\u001b[A\n",
            "Epoch 1/5:  32%|███▏      | 544/1718 [00:33<01:08, 17.19it/s, loss=0.593, sparse_categorical_accuracy=0.786]\u001b[A\n",
            "Epoch 1/5:  32%|███▏      | 544/1718 [00:33<01:08, 17.19it/s, loss=0.593, sparse_categorical_accuracy=0.786]\u001b[A\n",
            "Epoch 1/5:  32%|███▏      | 544/1718 [00:33<01:08, 17.19it/s, loss=0.593, sparse_categorical_accuracy=0.786]\u001b[A\n",
            "Epoch 1/5:  32%|███▏      | 546/1718 [00:33<01:07, 17.41it/s, loss=0.593, sparse_categorical_accuracy=0.786]\u001b[A\n",
            "Epoch 1/5:  32%|███▏      | 546/1718 [00:33<01:07, 17.41it/s, loss=0.593, sparse_categorical_accuracy=0.787]\u001b[A\n",
            "Epoch 1/5:  32%|███▏      | 546/1718 [00:33<01:07, 17.41it/s, loss=0.593, sparse_categorical_accuracy=0.787]\u001b[A\n",
            "Epoch 1/5:  32%|███▏      | 548/1718 [00:33<01:09, 16.94it/s, loss=0.593, sparse_categorical_accuracy=0.787]\u001b[A\n",
            "Epoch 1/5:  32%|███▏      | 548/1718 [00:33<01:09, 16.94it/s, loss=0.592, sparse_categorical_accuracy=0.787]\u001b[A\n",
            "Epoch 1/5:  32%|███▏      | 548/1718 [00:33<01:09, 16.94it/s, loss=0.592, sparse_categorical_accuracy=0.786]\u001b[A\n",
            "Epoch 1/5:  32%|███▏      | 550/1718 [00:33<01:07, 17.38it/s, loss=0.592, sparse_categorical_accuracy=0.786]\u001b[A\n",
            "Epoch 1/5:  32%|███▏      | 550/1718 [00:33<01:07, 17.38it/s, loss=0.592, sparse_categorical_accuracy=0.786]\u001b[A\n",
            "Epoch 1/5:  32%|███▏      | 550/1718 [00:33<01:07, 17.38it/s, loss=0.592, sparse_categorical_accuracy=0.786]\u001b[A\n",
            "Epoch 1/5:  32%|███▏      | 552/1718 [00:33<01:10, 16.60it/s, loss=0.592, sparse_categorical_accuracy=0.786]\u001b[A\n",
            "Epoch 1/5:  32%|███▏      | 552/1718 [00:33<01:10, 16.60it/s, loss=0.592, sparse_categorical_accuracy=0.787]\u001b[A\n",
            "Epoch 1/5:  32%|███▏      | 552/1718 [00:33<01:10, 16.60it/s, loss=0.592, sparse_categorical_accuracy=0.786]\u001b[A\n",
            "Epoch 1/5:  32%|███▏      | 554/1718 [00:33<01:16, 15.13it/s, loss=0.592, sparse_categorical_accuracy=0.786]\u001b[A\n",
            "Epoch 1/5:  32%|███▏      | 554/1718 [00:34<01:16, 15.13it/s, loss=0.592, sparse_categorical_accuracy=0.786]\u001b[A\n",
            "Epoch 1/5:  32%|███▏      | 554/1718 [00:34<01:16, 15.13it/s, loss=0.592, sparse_categorical_accuracy=0.786]\u001b[A\n",
            "Epoch 1/5:  32%|███▏      | 556/1718 [00:34<01:19, 14.55it/s, loss=0.592, sparse_categorical_accuracy=0.786]\u001b[A\n",
            "Epoch 1/5:  32%|███▏      | 556/1718 [00:34<01:19, 14.55it/s, loss=0.591, sparse_categorical_accuracy=0.787]\u001b[A\n",
            "Epoch 1/5:  32%|███▏      | 556/1718 [00:34<01:19, 14.55it/s, loss=0.591, sparse_categorical_accuracy=0.787]\u001b[A\n",
            "Epoch 1/5:  32%|███▏      | 558/1718 [00:34<01:18, 14.72it/s, loss=0.591, sparse_categorical_accuracy=0.787]\u001b[A\n",
            "Epoch 1/5:  32%|███▏      | 558/1718 [00:34<01:18, 14.72it/s, loss=0.591, sparse_categorical_accuracy=0.787]\u001b[A\n",
            "Epoch 1/5:  32%|███▏      | 558/1718 [00:34<01:18, 14.72it/s, loss=0.591, sparse_categorical_accuracy=0.787]\u001b[A\n",
            "Epoch 1/5:  33%|███▎      | 560/1718 [00:34<01:17, 14.94it/s, loss=0.591, sparse_categorical_accuracy=0.787]\u001b[A\n",
            "Epoch 1/5:  33%|███▎      | 560/1718 [00:34<01:17, 14.94it/s, loss=0.591, sparse_categorical_accuracy=0.787]\u001b[A\n",
            "Epoch 1/5:  33%|███▎      | 560/1718 [00:34<01:17, 14.94it/s, loss=0.591, sparse_categorical_accuracy=0.787]\u001b[A\n",
            "Epoch 1/5:  33%|███▎      | 562/1718 [00:34<01:16, 15.15it/s, loss=0.591, sparse_categorical_accuracy=0.787]\u001b[A\n",
            "Epoch 1/5:  33%|███▎      | 562/1718 [00:34<01:16, 15.15it/s, loss=0.591, sparse_categorical_accuracy=0.787]\u001b[A\n",
            "Epoch 1/5:  33%|███▎      | 562/1718 [00:34<01:16, 15.15it/s, loss=0.59, sparse_categorical_accuracy=0.787] \u001b[A\n",
            "Epoch 1/5:  33%|███▎      | 564/1718 [00:34<01:20, 14.35it/s, loss=0.59, sparse_categorical_accuracy=0.787]\u001b[A\n",
            "Epoch 1/5:  33%|███▎      | 564/1718 [00:34<01:20, 14.35it/s, loss=0.59, sparse_categorical_accuracy=0.787]\u001b[A\n",
            "Epoch 1/5:  33%|███▎      | 564/1718 [00:34<01:20, 14.35it/s, loss=0.589, sparse_categorical_accuracy=0.787]\u001b[A\n",
            "Epoch 1/5:  33%|███▎      | 566/1718 [00:34<01:25, 13.40it/s, loss=0.589, sparse_categorical_accuracy=0.787]\u001b[A\n",
            "Epoch 1/5:  33%|███▎      | 566/1718 [00:34<01:25, 13.40it/s, loss=0.589, sparse_categorical_accuracy=0.787]\u001b[A\n",
            "Epoch 1/5:  33%|███▎      | 566/1718 [00:34<01:25, 13.40it/s, loss=0.589, sparse_categorical_accuracy=0.788]\u001b[A\n",
            "Epoch 1/5:  33%|███▎      | 568/1718 [00:34<01:30, 12.69it/s, loss=0.589, sparse_categorical_accuracy=0.788]\u001b[A\n",
            "Epoch 1/5:  33%|███▎      | 568/1718 [00:35<01:30, 12.69it/s, loss=0.589, sparse_categorical_accuracy=0.788]\u001b[A\n",
            "Epoch 1/5:  33%|███▎      | 568/1718 [00:35<01:30, 12.69it/s, loss=0.589, sparse_categorical_accuracy=0.788]\u001b[A\n",
            "Epoch 1/5:  33%|███▎      | 570/1718 [00:35<01:27, 13.13it/s, loss=0.589, sparse_categorical_accuracy=0.788]\u001b[A\n",
            "Epoch 1/5:  33%|███▎      | 570/1718 [00:35<01:27, 13.13it/s, loss=0.589, sparse_categorical_accuracy=0.788]\u001b[A\n",
            "Epoch 1/5:  33%|███▎      | 570/1718 [00:35<01:27, 13.13it/s, loss=0.588, sparse_categorical_accuracy=0.788]\u001b[A\n",
            "Epoch 1/5:  33%|███▎      | 572/1718 [00:35<01:24, 13.57it/s, loss=0.588, sparse_categorical_accuracy=0.788]\u001b[A\n",
            "Epoch 1/5:  33%|███▎      | 572/1718 [00:35<01:24, 13.57it/s, loss=0.588, sparse_categorical_accuracy=0.788]\u001b[A\n",
            "Epoch 1/5:  33%|███▎      | 572/1718 [00:35<01:24, 13.57it/s, loss=0.588, sparse_categorical_accuracy=0.788]\u001b[A\n",
            "Epoch 1/5:  33%|███▎      | 574/1718 [00:35<01:24, 13.56it/s, loss=0.588, sparse_categorical_accuracy=0.788]\u001b[A\n",
            "Epoch 1/5:  33%|███▎      | 574/1718 [00:35<01:24, 13.56it/s, loss=0.588, sparse_categorical_accuracy=0.788]\u001b[A\n",
            "Epoch 1/5:  33%|███▎      | 574/1718 [00:35<01:24, 13.56it/s, loss=0.587, sparse_categorical_accuracy=0.788]\u001b[A\n",
            "Epoch 1/5:  34%|███▎      | 576/1718 [00:35<01:21, 14.05it/s, loss=0.587, sparse_categorical_accuracy=0.788]\u001b[A\n",
            "Epoch 1/5:  34%|███▎      | 576/1718 [00:35<01:21, 14.05it/s, loss=0.587, sparse_categorical_accuracy=0.788]\u001b[A\n",
            "Epoch 1/5:  34%|███▎      | 576/1718 [00:35<01:21, 14.05it/s, loss=0.587, sparse_categorical_accuracy=0.788]\u001b[A\n",
            "Epoch 1/5:  34%|███▎      | 578/1718 [00:35<01:22, 13.74it/s, loss=0.587, sparse_categorical_accuracy=0.788]\u001b[A\n",
            "Epoch 1/5:  34%|███▎      | 578/1718 [00:35<01:22, 13.74it/s, loss=0.588, sparse_categorical_accuracy=0.788]\u001b[A\n",
            "Epoch 1/5:  34%|███▎      | 578/1718 [00:35<01:22, 13.74it/s, loss=0.588, sparse_categorical_accuracy=0.788]\u001b[A\n",
            "Epoch 1/5:  34%|███▍      | 580/1718 [00:35<01:28, 12.87it/s, loss=0.588, sparse_categorical_accuracy=0.788]\u001b[A\n",
            "Epoch 1/5:  34%|███▍      | 580/1718 [00:35<01:28, 12.87it/s, loss=0.588, sparse_categorical_accuracy=0.788]\u001b[A\n",
            "Epoch 1/5:  34%|███▍      | 580/1718 [00:36<01:28, 12.87it/s, loss=0.588, sparse_categorical_accuracy=0.788]\u001b[A\n",
            "Epoch 1/5:  34%|███▍      | 582/1718 [00:36<01:28, 12.88it/s, loss=0.588, sparse_categorical_accuracy=0.788]\u001b[A\n",
            "Epoch 1/5:  34%|███▍      | 582/1718 [00:36<01:28, 12.88it/s, loss=0.587, sparse_categorical_accuracy=0.788]\u001b[A\n",
            "Epoch 1/5:  34%|███▍      | 582/1718 [00:36<01:28, 12.88it/s, loss=0.587, sparse_categorical_accuracy=0.789]\u001b[A\n",
            "Epoch 1/5:  34%|███▍      | 584/1718 [00:36<01:28, 12.77it/s, loss=0.587, sparse_categorical_accuracy=0.789]\u001b[A\n",
            "Epoch 1/5:  34%|███▍      | 584/1718 [00:36<01:28, 12.77it/s, loss=0.587, sparse_categorical_accuracy=0.789]\u001b[A\n",
            "Epoch 1/5:  34%|███▍      | 584/1718 [00:36<01:28, 12.77it/s, loss=0.587, sparse_categorical_accuracy=0.789]\u001b[A\n",
            "Epoch 1/5:  34%|███▍      | 586/1718 [00:36<01:26, 13.03it/s, loss=0.587, sparse_categorical_accuracy=0.789]\u001b[A\n",
            "Epoch 1/5:  34%|███▍      | 586/1718 [00:36<01:26, 13.03it/s, loss=0.586, sparse_categorical_accuracy=0.789]\u001b[A\n",
            "Epoch 1/5:  34%|███▍      | 586/1718 [00:36<01:26, 13.03it/s, loss=0.586, sparse_categorical_accuracy=0.789]\u001b[A\n",
            "Epoch 1/5:  34%|███▍      | 588/1718 [00:36<01:25, 13.27it/s, loss=0.586, sparse_categorical_accuracy=0.789]\u001b[A\n",
            "Epoch 1/5:  34%|███▍      | 588/1718 [00:36<01:25, 13.27it/s, loss=0.586, sparse_categorical_accuracy=0.789]\u001b[A\n",
            "Epoch 1/5:  34%|███▍      | 588/1718 [00:36<01:25, 13.27it/s, loss=0.586, sparse_categorical_accuracy=0.789]\u001b[A\n",
            "Epoch 1/5:  34%|███▍      | 590/1718 [00:36<01:28, 12.74it/s, loss=0.586, sparse_categorical_accuracy=0.789]\u001b[A\n",
            "Epoch 1/5:  34%|███▍      | 590/1718 [00:36<01:28, 12.74it/s, loss=0.585, sparse_categorical_accuracy=0.789]\u001b[A\n",
            "Epoch 1/5:  34%|███▍      | 590/1718 [00:36<01:28, 12.74it/s, loss=0.585, sparse_categorical_accuracy=0.789]\u001b[A\n",
            "Epoch 1/5:  34%|███▍      | 592/1718 [00:36<01:29, 12.65it/s, loss=0.585, sparse_categorical_accuracy=0.789]\u001b[A\n",
            "Epoch 1/5:  34%|███▍      | 592/1718 [00:36<01:29, 12.65it/s, loss=0.585, sparse_categorical_accuracy=0.789]\u001b[A\n",
            "Epoch 1/5:  34%|███▍      | 592/1718 [00:36<01:29, 12.65it/s, loss=0.585, sparse_categorical_accuracy=0.789]\u001b[A\n",
            "Epoch 1/5:  35%|███▍      | 594/1718 [00:36<01:32, 12.10it/s, loss=0.585, sparse_categorical_accuracy=0.789]\u001b[A\n",
            "Epoch 1/5:  35%|███▍      | 594/1718 [00:37<01:32, 12.10it/s, loss=0.585, sparse_categorical_accuracy=0.79] \u001b[A\n",
            "Epoch 1/5:  35%|███▍      | 594/1718 [00:37<01:32, 12.10it/s, loss=0.584, sparse_categorical_accuracy=0.79]\u001b[A\n",
            "Epoch 1/5:  35%|███▍      | 596/1718 [00:37<01:36, 11.69it/s, loss=0.584, sparse_categorical_accuracy=0.79]\u001b[A\n",
            "Epoch 1/5:  35%|███▍      | 596/1718 [00:37<01:36, 11.69it/s, loss=0.584, sparse_categorical_accuracy=0.79]\u001b[A\n",
            "Epoch 1/5:  35%|███▍      | 596/1718 [00:37<01:36, 11.69it/s, loss=0.584, sparse_categorical_accuracy=0.79]\u001b[A\n",
            "Epoch 1/5:  35%|███▍      | 598/1718 [00:37<01:30, 12.40it/s, loss=0.584, sparse_categorical_accuracy=0.79]\u001b[A\n",
            "Epoch 1/5:  35%|███▍      | 598/1718 [00:37<01:30, 12.40it/s, loss=0.584, sparse_categorical_accuracy=0.79]\u001b[A\n",
            "Epoch 1/5:  35%|███▍      | 598/1718 [00:37<01:30, 12.40it/s, loss=0.584, sparse_categorical_accuracy=0.79]\u001b[A\n",
            "Epoch 1/5:  35%|███▍      | 600/1718 [00:37<01:27, 12.78it/s, loss=0.584, sparse_categorical_accuracy=0.79]\u001b[A\n",
            "Epoch 1/5:  35%|███▍      | 600/1718 [00:37<01:27, 12.78it/s, loss=0.583, sparse_categorical_accuracy=0.79]\u001b[A\n",
            "Epoch 1/5:  35%|███▍      | 600/1718 [00:37<01:27, 12.78it/s, loss=0.583, sparse_categorical_accuracy=0.79]\u001b[A\n",
            "Epoch 1/5:  35%|███▌      | 602/1718 [00:37<01:25, 13.00it/s, loss=0.583, sparse_categorical_accuracy=0.79]\u001b[A\n",
            "Epoch 1/5:  35%|███▌      | 602/1718 [00:37<01:25, 13.00it/s, loss=0.583, sparse_categorical_accuracy=0.79]\u001b[A\n",
            "Epoch 1/5:  35%|███▌      | 602/1718 [00:37<01:25, 13.00it/s, loss=0.582, sparse_categorical_accuracy=0.79]\u001b[A\n",
            "Epoch 1/5:  35%|███▌      | 604/1718 [00:37<01:29, 12.47it/s, loss=0.582, sparse_categorical_accuracy=0.79]\u001b[A\n",
            "Epoch 1/5:  35%|███▌      | 604/1718 [00:37<01:29, 12.47it/s, loss=0.582, sparse_categorical_accuracy=0.79]\u001b[A\n",
            "Epoch 1/5:  35%|███▌      | 604/1718 [00:37<01:29, 12.47it/s, loss=0.583, sparse_categorical_accuracy=0.79]\u001b[A\n",
            "Epoch 1/5:  35%|███▌      | 606/1718 [00:37<01:29, 12.42it/s, loss=0.583, sparse_categorical_accuracy=0.79]\u001b[A\n",
            "Epoch 1/5:  35%|███▌      | 606/1718 [00:38<01:29, 12.42it/s, loss=0.583, sparse_categorical_accuracy=0.79]\u001b[A\n",
            "Epoch 1/5:  35%|███▌      | 606/1718 [00:38<01:29, 12.42it/s, loss=0.583, sparse_categorical_accuracy=0.79]\u001b[A\n",
            "Epoch 1/5:  35%|███▌      | 608/1718 [00:38<01:25, 12.97it/s, loss=0.583, sparse_categorical_accuracy=0.79]\u001b[A\n",
            "Epoch 1/5:  35%|███▌      | 608/1718 [00:38<01:25, 12.97it/s, loss=0.583, sparse_categorical_accuracy=0.79]\u001b[A\n",
            "Epoch 1/5:  35%|███▌      | 608/1718 [00:38<01:25, 12.97it/s, loss=0.583, sparse_categorical_accuracy=0.79]\u001b[A\n",
            "Epoch 1/5:  36%|███▌      | 610/1718 [00:38<01:28, 12.50it/s, loss=0.583, sparse_categorical_accuracy=0.79]\u001b[A\n",
            "Epoch 1/5:  36%|███▌      | 610/1718 [00:38<01:28, 12.50it/s, loss=0.582, sparse_categorical_accuracy=0.79]\u001b[A\n",
            "Epoch 1/5:  36%|███▌      | 610/1718 [00:38<01:28, 12.50it/s, loss=0.582, sparse_categorical_accuracy=0.79]\u001b[A\n",
            "Epoch 1/5:  36%|███▌      | 612/1718 [00:38<01:22, 13.38it/s, loss=0.582, sparse_categorical_accuracy=0.79]\u001b[A\n",
            "Epoch 1/5:  36%|███▌      | 612/1718 [00:38<01:22, 13.38it/s, loss=0.582, sparse_categorical_accuracy=0.79]\u001b[A\n",
            "Epoch 1/5:  36%|███▌      | 612/1718 [00:38<01:22, 13.38it/s, loss=0.581, sparse_categorical_accuracy=0.791]\u001b[A\n",
            "Epoch 1/5:  36%|███▌      | 614/1718 [00:38<01:15, 14.55it/s, loss=0.581, sparse_categorical_accuracy=0.791]\u001b[A\n",
            "Epoch 1/5:  36%|███▌      | 614/1718 [00:38<01:15, 14.55it/s, loss=0.581, sparse_categorical_accuracy=0.79] \u001b[A\n",
            "Epoch 1/5:  36%|███▌      | 614/1718 [00:38<01:15, 14.55it/s, loss=0.581, sparse_categorical_accuracy=0.791]\u001b[A\n",
            "Epoch 1/5:  36%|███▌      | 616/1718 [00:38<01:11, 15.46it/s, loss=0.581, sparse_categorical_accuracy=0.791]\u001b[A\n",
            "Epoch 1/5:  36%|███▌      | 616/1718 [00:38<01:11, 15.46it/s, loss=0.581, sparse_categorical_accuracy=0.791]\u001b[A\n",
            "Epoch 1/5:  36%|███▌      | 616/1718 [00:38<01:11, 15.46it/s, loss=0.58, sparse_categorical_accuracy=0.791] \u001b[A\n",
            "Epoch 1/5:  36%|███▌      | 618/1718 [00:38<01:12, 15.13it/s, loss=0.58, sparse_categorical_accuracy=0.791]\u001b[A\n",
            "Epoch 1/5:  36%|███▌      | 618/1718 [00:38<01:12, 15.13it/s, loss=0.58, sparse_categorical_accuracy=0.791]\u001b[A\n",
            "Epoch 1/5:  36%|███▌      | 618/1718 [00:38<01:12, 15.13it/s, loss=0.58, sparse_categorical_accuracy=0.791]\u001b[A\n",
            "Epoch 1/5:  36%|███▌      | 620/1718 [00:38<01:15, 14.60it/s, loss=0.58, sparse_categorical_accuracy=0.791]\u001b[A\n",
            "Epoch 1/5:  36%|███▌      | 620/1718 [00:38<01:15, 14.60it/s, loss=0.579, sparse_categorical_accuracy=0.791]\u001b[A\n",
            "Epoch 1/5:  36%|███▌      | 620/1718 [00:39<01:15, 14.60it/s, loss=0.579, sparse_categorical_accuracy=0.791]\u001b[A\n",
            "Epoch 1/5:  36%|███▌      | 622/1718 [00:39<01:13, 14.89it/s, loss=0.579, sparse_categorical_accuracy=0.791]\u001b[A\n",
            "Epoch 1/5:  36%|███▌      | 622/1718 [00:39<01:13, 14.89it/s, loss=0.579, sparse_categorical_accuracy=0.791]\u001b[A\n",
            "Epoch 1/5:  36%|███▌      | 622/1718 [00:39<01:13, 14.89it/s, loss=0.579, sparse_categorical_accuracy=0.792]\u001b[A\n",
            "Epoch 1/5:  36%|███▋      | 624/1718 [00:39<01:09, 15.82it/s, loss=0.579, sparse_categorical_accuracy=0.792]\u001b[A\n",
            "Epoch 1/5:  36%|███▋      | 624/1718 [00:39<01:09, 15.82it/s, loss=0.579, sparse_categorical_accuracy=0.791]\u001b[A\n",
            "Epoch 1/5:  36%|███▋      | 624/1718 [00:39<01:09, 15.82it/s, loss=0.579, sparse_categorical_accuracy=0.792]\u001b[A\n",
            "Epoch 1/5:  36%|███▋      | 626/1718 [00:39<01:05, 16.55it/s, loss=0.579, sparse_categorical_accuracy=0.792]\u001b[A\n",
            "Epoch 1/5:  36%|███▋      | 626/1718 [00:39<01:05, 16.55it/s, loss=0.578, sparse_categorical_accuracy=0.792]\u001b[A\n",
            "Epoch 1/5:  36%|███▋      | 626/1718 [00:39<01:05, 16.55it/s, loss=0.578, sparse_categorical_accuracy=0.792]\u001b[A\n",
            "Epoch 1/5:  37%|███▋      | 628/1718 [00:39<01:03, 17.07it/s, loss=0.578, sparse_categorical_accuracy=0.792]\u001b[A\n",
            "Epoch 1/5:  37%|███▋      | 628/1718 [00:39<01:03, 17.07it/s, loss=0.578, sparse_categorical_accuracy=0.792]\u001b[A\n",
            "Epoch 1/5:  37%|███▋      | 628/1718 [00:39<01:03, 17.07it/s, loss=0.578, sparse_categorical_accuracy=0.792]\u001b[A\n",
            "Epoch 1/5:  37%|███▋      | 630/1718 [00:39<01:02, 17.51it/s, loss=0.578, sparse_categorical_accuracy=0.792]\u001b[A\n",
            "Epoch 1/5:  37%|███▋      | 630/1718 [00:39<01:02, 17.51it/s, loss=0.578, sparse_categorical_accuracy=0.792]\u001b[A\n",
            "Epoch 1/5:  37%|███▋      | 630/1718 [00:39<01:02, 17.51it/s, loss=0.578, sparse_categorical_accuracy=0.792]\u001b[A\n",
            "Epoch 1/5:  37%|███▋      | 632/1718 [00:39<01:03, 17.19it/s, loss=0.578, sparse_categorical_accuracy=0.792]\u001b[A\n",
            "Epoch 1/5:  37%|███▋      | 632/1718 [00:39<01:03, 17.19it/s, loss=0.578, sparse_categorical_accuracy=0.792]\u001b[A\n",
            "Epoch 1/5:  37%|███▋      | 632/1718 [00:39<01:03, 17.19it/s, loss=0.577, sparse_categorical_accuracy=0.792]\u001b[A\n",
            "Epoch 1/5:  37%|███▋      | 634/1718 [00:39<01:03, 17.06it/s, loss=0.577, sparse_categorical_accuracy=0.792]\u001b[A\n",
            "Epoch 1/5:  37%|███▋      | 634/1718 [00:39<01:03, 17.06it/s, loss=0.577, sparse_categorical_accuracy=0.792]\u001b[A\n",
            "Epoch 1/5:  37%|███▋      | 634/1718 [00:39<01:03, 17.06it/s, loss=0.577, sparse_categorical_accuracy=0.792]\u001b[A\n",
            "Epoch 1/5:  37%|███▋      | 636/1718 [00:39<01:09, 15.54it/s, loss=0.577, sparse_categorical_accuracy=0.792]\u001b[A\n",
            "Epoch 1/5:  37%|███▋      | 636/1718 [00:39<01:09, 15.54it/s, loss=0.577, sparse_categorical_accuracy=0.792]\u001b[A\n",
            "Epoch 1/5:  37%|███▋      | 636/1718 [00:39<01:09, 15.54it/s, loss=0.576, sparse_categorical_accuracy=0.792]\u001b[A\n",
            "Epoch 1/5:  37%|███▋      | 638/1718 [00:39<01:12, 14.95it/s, loss=0.576, sparse_categorical_accuracy=0.792]\u001b[A\n",
            "Epoch 1/5:  37%|███▋      | 638/1718 [00:40<01:12, 14.95it/s, loss=0.576, sparse_categorical_accuracy=0.792]\u001b[A\n",
            "Epoch 1/5:  37%|███▋      | 638/1718 [00:40<01:12, 14.95it/s, loss=0.576, sparse_categorical_accuracy=0.792]\u001b[A\n",
            "Epoch 1/5:  37%|███▋      | 640/1718 [00:40<01:07, 15.90it/s, loss=0.576, sparse_categorical_accuracy=0.792]\u001b[A\n",
            "Epoch 1/5:  37%|███▋      | 640/1718 [00:40<01:07, 15.90it/s, loss=0.576, sparse_categorical_accuracy=0.792]\u001b[A\n",
            "Epoch 1/5:  37%|███▋      | 640/1718 [00:40<01:07, 15.90it/s, loss=0.575, sparse_categorical_accuracy=0.792]\u001b[A\n",
            "Epoch 1/5:  37%|███▋      | 642/1718 [00:40<01:05, 16.44it/s, loss=0.575, sparse_categorical_accuracy=0.792]\u001b[A\n",
            "Epoch 1/5:  37%|███▋      | 642/1718 [00:40<01:05, 16.44it/s, loss=0.575, sparse_categorical_accuracy=0.792]\u001b[A\n",
            "Epoch 1/5:  37%|███▋      | 642/1718 [00:40<01:05, 16.44it/s, loss=0.575, sparse_categorical_accuracy=0.792]\u001b[A\n",
            "Epoch 1/5:  37%|███▋      | 644/1718 [00:40<01:04, 16.73it/s, loss=0.575, sparse_categorical_accuracy=0.792]\u001b[A\n",
            "Epoch 1/5:  37%|███▋      | 644/1718 [00:40<01:04, 16.73it/s, loss=0.574, sparse_categorical_accuracy=0.792]\u001b[A\n",
            "Epoch 1/5:  37%|███▋      | 644/1718 [00:40<01:04, 16.73it/s, loss=0.574, sparse_categorical_accuracy=0.793]\u001b[A\n",
            "Epoch 1/5:  38%|███▊      | 646/1718 [00:40<01:03, 16.84it/s, loss=0.574, sparse_categorical_accuracy=0.793]\u001b[A\n",
            "Epoch 1/5:  38%|███▊      | 646/1718 [00:40<01:03, 16.84it/s, loss=0.574, sparse_categorical_accuracy=0.793]\u001b[A\n",
            "Epoch 1/5:  38%|███▊      | 646/1718 [00:40<01:03, 16.84it/s, loss=0.574, sparse_categorical_accuracy=0.793]\u001b[A\n",
            "Epoch 1/5:  38%|███▊      | 648/1718 [00:40<01:02, 17.02it/s, loss=0.574, sparse_categorical_accuracy=0.793]\u001b[A\n",
            "Epoch 1/5:  38%|███▊      | 648/1718 [00:40<01:02, 17.02it/s, loss=0.574, sparse_categorical_accuracy=0.793]\u001b[A\n",
            "Epoch 1/5:  38%|███▊      | 648/1718 [00:40<01:02, 17.02it/s, loss=0.574, sparse_categorical_accuracy=0.793]\u001b[A\n",
            "Epoch 1/5:  38%|███▊      | 650/1718 [00:40<01:02, 17.01it/s, loss=0.574, sparse_categorical_accuracy=0.793]\u001b[A\n",
            "Epoch 1/5:  38%|███▊      | 650/1718 [00:40<01:02, 17.01it/s, loss=0.574, sparse_categorical_accuracy=0.793]\u001b[A\n",
            "Epoch 1/5:  38%|███▊      | 650/1718 [00:40<01:02, 17.01it/s, loss=0.573, sparse_categorical_accuracy=0.793]\u001b[A\n",
            "Epoch 1/5:  38%|███▊      | 652/1718 [00:40<01:06, 16.00it/s, loss=0.573, sparse_categorical_accuracy=0.793]\u001b[A\n",
            "Epoch 1/5:  38%|███▊      | 652/1718 [00:40<01:06, 16.00it/s, loss=0.573, sparse_categorical_accuracy=0.793]\u001b[A\n",
            "Epoch 1/5:  38%|███▊      | 652/1718 [00:40<01:06, 16.00it/s, loss=0.573, sparse_categorical_accuracy=0.793]\u001b[A\n",
            "Epoch 1/5:  38%|███▊      | 654/1718 [00:40<01:08, 15.44it/s, loss=0.573, sparse_categorical_accuracy=0.793]\u001b[A\n",
            "Epoch 1/5:  38%|███▊      | 654/1718 [00:41<01:08, 15.44it/s, loss=0.573, sparse_categorical_accuracy=0.793]\u001b[A\n",
            "Epoch 1/5:  38%|███▊      | 654/1718 [00:41<01:08, 15.44it/s, loss=0.573, sparse_categorical_accuracy=0.793]\u001b[A\n",
            "Epoch 1/5:  38%|███▊      | 656/1718 [00:41<01:07, 15.78it/s, loss=0.573, sparse_categorical_accuracy=0.793]\u001b[A\n",
            "Epoch 1/5:  38%|███▊      | 656/1718 [00:41<01:07, 15.78it/s, loss=0.573, sparse_categorical_accuracy=0.793]\u001b[A\n",
            "Epoch 1/5:  38%|███▊      | 656/1718 [00:41<01:07, 15.78it/s, loss=0.573, sparse_categorical_accuracy=0.793]\u001b[A\n",
            "Epoch 1/5:  38%|███▊      | 658/1718 [00:41<01:04, 16.42it/s, loss=0.573, sparse_categorical_accuracy=0.793]\u001b[A\n",
            "Epoch 1/5:  38%|███▊      | 658/1718 [00:41<01:04, 16.42it/s, loss=0.572, sparse_categorical_accuracy=0.794]\u001b[A\n",
            "Epoch 1/5:  38%|███▊      | 658/1718 [00:41<01:04, 16.42it/s, loss=0.572, sparse_categorical_accuracy=0.794]\u001b[A\n",
            "Epoch 1/5:  38%|███▊      | 660/1718 [00:41<01:02, 17.05it/s, loss=0.572, sparse_categorical_accuracy=0.794]\u001b[A\n",
            "Epoch 1/5:  38%|███▊      | 660/1718 [00:41<01:02, 17.05it/s, loss=0.572, sparse_categorical_accuracy=0.793]\u001b[A\n",
            "Epoch 1/5:  38%|███▊      | 660/1718 [00:41<01:02, 17.05it/s, loss=0.572, sparse_categorical_accuracy=0.793]\u001b[A\n",
            "Epoch 1/5:  39%|███▊      | 662/1718 [00:41<01:00, 17.32it/s, loss=0.572, sparse_categorical_accuracy=0.793]\u001b[A\n",
            "Epoch 1/5:  39%|███▊      | 662/1718 [00:41<01:00, 17.32it/s, loss=0.572, sparse_categorical_accuracy=0.794]\u001b[A\n",
            "Epoch 1/5:  39%|███▊      | 662/1718 [00:41<01:00, 17.32it/s, loss=0.571, sparse_categorical_accuracy=0.794]\u001b[A\n",
            "Epoch 1/5:  39%|███▊      | 664/1718 [00:41<00:59, 17.58it/s, loss=0.571, sparse_categorical_accuracy=0.794]\u001b[A\n",
            "Epoch 1/5:  39%|███▊      | 664/1718 [00:41<00:59, 17.58it/s, loss=0.571, sparse_categorical_accuracy=0.794]\u001b[A\n",
            "Epoch 1/5:  39%|███▊      | 664/1718 [00:41<00:59, 17.58it/s, loss=0.572, sparse_categorical_accuracy=0.794]\u001b[A\n",
            "Epoch 1/5:  39%|███▉      | 666/1718 [00:41<01:01, 17.05it/s, loss=0.572, sparse_categorical_accuracy=0.794]\u001b[A\n",
            "Epoch 1/5:  39%|███▉      | 666/1718 [00:41<01:01, 17.05it/s, loss=0.571, sparse_categorical_accuracy=0.794]\u001b[A\n",
            "Epoch 1/5:  39%|███▉      | 666/1718 [00:41<01:01, 17.05it/s, loss=0.571, sparse_categorical_accuracy=0.794]\u001b[A\n",
            "Epoch 1/5:  39%|███▉      | 668/1718 [00:41<01:06, 15.90it/s, loss=0.571, sparse_categorical_accuracy=0.794]\u001b[A\n",
            "Epoch 1/5:  39%|███▉      | 668/1718 [00:41<01:06, 15.90it/s, loss=0.571, sparse_categorical_accuracy=0.794]\u001b[A\n",
            "Epoch 1/5:  39%|███▉      | 668/1718 [00:41<01:06, 15.90it/s, loss=0.571, sparse_categorical_accuracy=0.794]\u001b[A\n",
            "Epoch 1/5:  39%|███▉      | 670/1718 [00:41<01:11, 14.72it/s, loss=0.571, sparse_categorical_accuracy=0.794]\u001b[A\n",
            "Epoch 1/5:  39%|███▉      | 670/1718 [00:42<01:11, 14.72it/s, loss=0.571, sparse_categorical_accuracy=0.794]\u001b[A\n",
            "Epoch 1/5:  39%|███▉      | 670/1718 [00:42<01:11, 14.72it/s, loss=0.571, sparse_categorical_accuracy=0.794]\u001b[A\n",
            "Epoch 1/5:  39%|███▉      | 672/1718 [00:42<01:08, 15.30it/s, loss=0.571, sparse_categorical_accuracy=0.794]\u001b[A\n",
            "Epoch 1/5:  39%|███▉      | 672/1718 [00:42<01:08, 15.30it/s, loss=0.571, sparse_categorical_accuracy=0.794]\u001b[A\n",
            "Epoch 1/5:  39%|███▉      | 672/1718 [00:42<01:08, 15.30it/s, loss=0.571, sparse_categorical_accuracy=0.793]\u001b[A\n",
            "Epoch 1/5:  39%|███▉      | 674/1718 [00:42<01:05, 15.83it/s, loss=0.571, sparse_categorical_accuracy=0.793]\u001b[A\n",
            "Epoch 1/5:  39%|███▉      | 674/1718 [00:42<01:05, 15.83it/s, loss=0.571, sparse_categorical_accuracy=0.794]\u001b[A\n",
            "Epoch 1/5:  39%|███▉      | 674/1718 [00:42<01:05, 15.83it/s, loss=0.57, sparse_categorical_accuracy=0.794] \u001b[A\n",
            "Epoch 1/5:  39%|███▉      | 676/1718 [00:42<01:03, 16.51it/s, loss=0.57, sparse_categorical_accuracy=0.794]\u001b[A\n",
            "Epoch 1/5:  39%|███▉      | 676/1718 [00:42<01:03, 16.51it/s, loss=0.57, sparse_categorical_accuracy=0.794]\u001b[A\n",
            "Epoch 1/5:  39%|███▉      | 676/1718 [00:42<01:03, 16.51it/s, loss=0.57, sparse_categorical_accuracy=0.794]\u001b[A\n",
            "Epoch 1/5:  39%|███▉      | 678/1718 [00:42<01:01, 17.05it/s, loss=0.57, sparse_categorical_accuracy=0.794]\u001b[A\n",
            "Epoch 1/5:  39%|███▉      | 678/1718 [00:42<01:01, 17.05it/s, loss=0.57, sparse_categorical_accuracy=0.794]\u001b[A\n",
            "Epoch 1/5:  39%|███▉      | 678/1718 [00:42<01:01, 17.05it/s, loss=0.57, sparse_categorical_accuracy=0.794]\u001b[A\n",
            "Epoch 1/5:  40%|███▉      | 680/1718 [00:42<00:59, 17.38it/s, loss=0.57, sparse_categorical_accuracy=0.794]\u001b[A\n",
            "Epoch 1/5:  40%|███▉      | 680/1718 [00:42<00:59, 17.38it/s, loss=0.569, sparse_categorical_accuracy=0.794]\u001b[A\n",
            "Epoch 1/5:  40%|███▉      | 680/1718 [00:42<00:59, 17.38it/s, loss=0.569, sparse_categorical_accuracy=0.794]\u001b[A\n",
            "Epoch 1/5:  40%|███▉      | 682/1718 [00:42<00:58, 17.73it/s, loss=0.569, sparse_categorical_accuracy=0.794]\u001b[A\n",
            "Epoch 1/5:  40%|███▉      | 682/1718 [00:42<00:58, 17.73it/s, loss=0.569, sparse_categorical_accuracy=0.794]\u001b[A\n",
            "Epoch 1/5:  40%|███▉      | 682/1718 [00:42<00:58, 17.73it/s, loss=0.569, sparse_categorical_accuracy=0.794]\u001b[A\n",
            "Epoch 1/5:  40%|███▉      | 684/1718 [00:42<01:02, 16.61it/s, loss=0.569, sparse_categorical_accuracy=0.794]\u001b[A\n",
            "Epoch 1/5:  40%|███▉      | 684/1718 [00:42<01:02, 16.61it/s, loss=0.569, sparse_categorical_accuracy=0.794]\u001b[A\n",
            "Epoch 1/5:  40%|███▉      | 684/1718 [00:42<01:02, 16.61it/s, loss=0.569, sparse_categorical_accuracy=0.794]\u001b[A\n",
            "Epoch 1/5:  40%|███▉      | 686/1718 [00:42<01:05, 15.86it/s, loss=0.569, sparse_categorical_accuracy=0.794]\u001b[A\n",
            "Epoch 1/5:  40%|███▉      | 686/1718 [00:42<01:05, 15.86it/s, loss=0.569, sparse_categorical_accuracy=0.794]\u001b[A\n",
            "Epoch 1/5:  40%|███▉      | 686/1718 [00:43<01:05, 15.86it/s, loss=0.569, sparse_categorical_accuracy=0.794]\u001b[A\n",
            "Epoch 1/5:  40%|████      | 688/1718 [00:43<01:07, 15.36it/s, loss=0.569, sparse_categorical_accuracy=0.794]\u001b[A\n",
            "Epoch 1/5:  40%|████      | 688/1718 [00:43<01:07, 15.36it/s, loss=0.569, sparse_categorical_accuracy=0.794]\u001b[A\n",
            "Epoch 1/5:  40%|████      | 688/1718 [00:43<01:07, 15.36it/s, loss=0.569, sparse_categorical_accuracy=0.794]\u001b[A\n",
            "Epoch 1/5:  40%|████      | 690/1718 [00:43<01:03, 16.09it/s, loss=0.569, sparse_categorical_accuracy=0.794]\u001b[A\n",
            "Epoch 1/5:  40%|████      | 690/1718 [00:43<01:03, 16.09it/s, loss=0.568, sparse_categorical_accuracy=0.795]\u001b[A\n",
            "Epoch 1/5:  40%|████      | 690/1718 [00:43<01:03, 16.09it/s, loss=0.568, sparse_categorical_accuracy=0.795]\u001b[A\n",
            "Epoch 1/5:  40%|████      | 692/1718 [00:43<01:01, 16.76it/s, loss=0.568, sparse_categorical_accuracy=0.795]\u001b[A\n",
            "Epoch 1/5:  40%|████      | 692/1718 [00:43<01:01, 16.76it/s, loss=0.568, sparse_categorical_accuracy=0.795]\u001b[A\n",
            "Epoch 1/5:  40%|████      | 692/1718 [00:43<01:01, 16.76it/s, loss=0.568, sparse_categorical_accuracy=0.795]\u001b[A\n",
            "Epoch 1/5:  40%|████      | 694/1718 [00:43<00:59, 17.16it/s, loss=0.568, sparse_categorical_accuracy=0.795]\u001b[A\n",
            "Epoch 1/5:  40%|████      | 694/1718 [00:43<00:59, 17.16it/s, loss=0.568, sparse_categorical_accuracy=0.795]\u001b[A\n",
            "Epoch 1/5:  40%|████      | 694/1718 [00:43<00:59, 17.16it/s, loss=0.568, sparse_categorical_accuracy=0.795]\u001b[A\n",
            "Epoch 1/5:  41%|████      | 696/1718 [00:43<00:59, 17.04it/s, loss=0.568, sparse_categorical_accuracy=0.795]\u001b[A\n",
            "Epoch 1/5:  41%|████      | 696/1718 [00:43<00:59, 17.04it/s, loss=0.568, sparse_categorical_accuracy=0.795]\u001b[A\n",
            "Epoch 1/5:  41%|████      | 696/1718 [00:43<00:59, 17.04it/s, loss=0.568, sparse_categorical_accuracy=0.795]\u001b[A\n",
            "Epoch 1/5:  41%|████      | 698/1718 [00:43<00:59, 17.05it/s, loss=0.568, sparse_categorical_accuracy=0.795]\u001b[A\n",
            "Epoch 1/5:  41%|████      | 698/1718 [00:43<00:59, 17.05it/s, loss=0.568, sparse_categorical_accuracy=0.795]\u001b[A\n",
            "Epoch 1/5:  41%|████      | 698/1718 [00:43<00:59, 17.05it/s, loss=0.567, sparse_categorical_accuracy=0.795]\u001b[A\n",
            "Epoch 1/5:  41%|████      | 700/1718 [00:43<01:01, 16.65it/s, loss=0.567, sparse_categorical_accuracy=0.795]\u001b[A\n",
            "Epoch 1/5:  41%|████      | 700/1718 [00:43<01:01, 16.65it/s, loss=0.567, sparse_categorical_accuracy=0.795]\u001b[A\n",
            "Epoch 1/5:  41%|████      | 700/1718 [00:43<01:01, 16.65it/s, loss=0.567, sparse_categorical_accuracy=0.795]\u001b[A\n",
            "Epoch 1/5:  41%|████      | 702/1718 [00:43<01:03, 15.95it/s, loss=0.567, sparse_categorical_accuracy=0.795]\u001b[A\n",
            "Epoch 1/5:  41%|████      | 702/1718 [00:43<01:03, 15.95it/s, loss=0.567, sparse_categorical_accuracy=0.795]\u001b[A\n",
            "Epoch 1/5:  41%|████      | 702/1718 [00:44<01:03, 15.95it/s, loss=0.567, sparse_categorical_accuracy=0.795]\u001b[A\n",
            "Epoch 1/5:  41%|████      | 704/1718 [00:44<01:07, 15.07it/s, loss=0.567, sparse_categorical_accuracy=0.795]\u001b[A\n",
            "Epoch 1/5:  41%|████      | 704/1718 [00:44<01:07, 15.07it/s, loss=0.567, sparse_categorical_accuracy=0.795]\u001b[A\n",
            "Epoch 1/5:  41%|████      | 704/1718 [00:44<01:07, 15.07it/s, loss=0.566, sparse_categorical_accuracy=0.795]\u001b[A\n",
            "Epoch 1/5:  41%|████      | 706/1718 [00:44<01:03, 15.91it/s, loss=0.566, sparse_categorical_accuracy=0.795]\u001b[A\n",
            "Epoch 1/5:  41%|████      | 706/1718 [00:44<01:03, 15.91it/s, loss=0.566, sparse_categorical_accuracy=0.795]\u001b[A\n",
            "Epoch 1/5:  41%|████      | 706/1718 [00:44<01:03, 15.91it/s, loss=0.566, sparse_categorical_accuracy=0.796]\u001b[A\n",
            "Epoch 1/5:  41%|████      | 708/1718 [00:44<01:01, 16.41it/s, loss=0.566, sparse_categorical_accuracy=0.796]\u001b[A\n",
            "Epoch 1/5:  41%|████      | 708/1718 [00:44<01:01, 16.41it/s, loss=0.566, sparse_categorical_accuracy=0.796]\u001b[A\n",
            "Epoch 1/5:  41%|████      | 708/1718 [00:44<01:01, 16.41it/s, loss=0.565, sparse_categorical_accuracy=0.796]\u001b[A\n",
            "Epoch 1/5:  41%|████▏     | 710/1718 [00:44<00:59, 16.88it/s, loss=0.565, sparse_categorical_accuracy=0.796]\u001b[A\n",
            "Epoch 1/5:  41%|████▏     | 710/1718 [00:44<00:59, 16.88it/s, loss=0.565, sparse_categorical_accuracy=0.796]\u001b[A\n",
            "Epoch 1/5:  41%|████▏     | 710/1718 [00:44<00:59, 16.88it/s, loss=0.565, sparse_categorical_accuracy=0.796]\u001b[A\n",
            "Epoch 1/5:  41%|████▏     | 712/1718 [00:44<00:58, 17.16it/s, loss=0.565, sparse_categorical_accuracy=0.796]\u001b[A\n",
            "Epoch 1/5:  41%|████▏     | 712/1718 [00:44<00:58, 17.16it/s, loss=0.565, sparse_categorical_accuracy=0.796]\u001b[A\n",
            "Epoch 1/5:  41%|████▏     | 712/1718 [00:44<00:58, 17.16it/s, loss=0.565, sparse_categorical_accuracy=0.796]\u001b[A\n",
            "Epoch 1/5:  42%|████▏     | 714/1718 [00:44<00:58, 17.28it/s, loss=0.565, sparse_categorical_accuracy=0.796]\u001b[A\n",
            "Epoch 1/5:  42%|████▏     | 714/1718 [00:44<00:58, 17.28it/s, loss=0.565, sparse_categorical_accuracy=0.796]\u001b[A\n",
            "Epoch 1/5:  42%|████▏     | 714/1718 [00:44<00:58, 17.28it/s, loss=0.564, sparse_categorical_accuracy=0.796]\u001b[A\n",
            "Epoch 1/5:  42%|████▏     | 716/1718 [00:44<00:59, 16.95it/s, loss=0.564, sparse_categorical_accuracy=0.796]\u001b[A\n",
            "Epoch 1/5:  42%|████▏     | 716/1718 [00:44<00:59, 16.95it/s, loss=0.564, sparse_categorical_accuracy=0.796]\u001b[A\n",
            "Epoch 1/5:  42%|████▏     | 716/1718 [00:44<00:59, 16.95it/s, loss=0.564, sparse_categorical_accuracy=0.796]\u001b[A\n",
            "Epoch 1/5:  42%|████▏     | 718/1718 [00:44<01:02, 16.10it/s, loss=0.564, sparse_categorical_accuracy=0.796]\u001b[A\n",
            "Epoch 1/5:  42%|████▏     | 718/1718 [00:44<01:02, 16.10it/s, loss=0.564, sparse_categorical_accuracy=0.796]\u001b[A\n",
            "Epoch 1/5:  42%|████▏     | 718/1718 [00:44<01:02, 16.10it/s, loss=0.564, sparse_categorical_accuracy=0.796]\u001b[A\n",
            "Epoch 1/5:  42%|████▏     | 720/1718 [00:44<01:05, 15.31it/s, loss=0.564, sparse_categorical_accuracy=0.796]\u001b[A\n",
            "Epoch 1/5:  42%|████▏     | 720/1718 [00:45<01:05, 15.31it/s, loss=0.564, sparse_categorical_accuracy=0.796]\u001b[A\n",
            "Epoch 1/5:  42%|████▏     | 720/1718 [00:45<01:05, 15.31it/s, loss=0.564, sparse_categorical_accuracy=0.796]\u001b[A\n",
            "Epoch 1/5:  42%|████▏     | 722/1718 [00:45<01:04, 15.40it/s, loss=0.564, sparse_categorical_accuracy=0.796]\u001b[A\n",
            "Epoch 1/5:  42%|████▏     | 722/1718 [00:45<01:04, 15.40it/s, loss=0.564, sparse_categorical_accuracy=0.797]\u001b[A\n",
            "Epoch 1/5:  42%|████▏     | 722/1718 [00:45<01:04, 15.40it/s, loss=0.563, sparse_categorical_accuracy=0.797]\u001b[A\n",
            "Epoch 1/5:  42%|████▏     | 724/1718 [00:45<01:02, 15.83it/s, loss=0.563, sparse_categorical_accuracy=0.797]\u001b[A\n",
            "Epoch 1/5:  42%|████▏     | 724/1718 [00:45<01:02, 15.83it/s, loss=0.563, sparse_categorical_accuracy=0.797]\u001b[A\n",
            "Epoch 1/5:  42%|████▏     | 724/1718 [00:45<01:02, 15.83it/s, loss=0.563, sparse_categorical_accuracy=0.797]\u001b[A\n",
            "Epoch 1/5:  42%|████▏     | 726/1718 [00:45<01:06, 14.83it/s, loss=0.563, sparse_categorical_accuracy=0.797]\u001b[A\n",
            "Epoch 1/5:  42%|████▏     | 726/1718 [00:45<01:06, 14.83it/s, loss=0.563, sparse_categorical_accuracy=0.797]\u001b[A\n",
            "Epoch 1/5:  42%|████▏     | 726/1718 [00:45<01:06, 14.83it/s, loss=0.563, sparse_categorical_accuracy=0.797]\u001b[A\n",
            "Epoch 1/5:  42%|████▏     | 728/1718 [00:45<01:06, 14.79it/s, loss=0.563, sparse_categorical_accuracy=0.797]\u001b[A\n",
            "Epoch 1/5:  42%|████▏     | 728/1718 [00:45<01:06, 14.79it/s, loss=0.563, sparse_categorical_accuracy=0.797]\u001b[A\n",
            "Epoch 1/5:  42%|████▏     | 728/1718 [00:45<01:06, 14.79it/s, loss=0.563, sparse_categorical_accuracy=0.797]\u001b[A\n",
            "Epoch 1/5:  42%|████▏     | 730/1718 [00:45<01:18, 12.57it/s, loss=0.563, sparse_categorical_accuracy=0.797]\u001b[A\n",
            "Epoch 1/5:  42%|████▏     | 730/1718 [00:45<01:18, 12.57it/s, loss=0.563, sparse_categorical_accuracy=0.797]\u001b[A\n",
            "Epoch 1/5:  42%|████▏     | 730/1718 [00:45<01:18, 12.57it/s, loss=0.563, sparse_categorical_accuracy=0.797]\u001b[A\n",
            "Epoch 1/5:  43%|████▎     | 732/1718 [00:45<01:24, 11.63it/s, loss=0.563, sparse_categorical_accuracy=0.797]\u001b[A\n",
            "Epoch 1/5:  43%|████▎     | 732/1718 [00:45<01:24, 11.63it/s, loss=0.562, sparse_categorical_accuracy=0.797]\u001b[A\n",
            "Epoch 1/5:  43%|████▎     | 732/1718 [00:46<01:24, 11.63it/s, loss=0.562, sparse_categorical_accuracy=0.797]\u001b[A\n",
            "Epoch 1/5:  43%|████▎     | 734/1718 [00:46<01:15, 13.09it/s, loss=0.562, sparse_categorical_accuracy=0.797]\u001b[A\n",
            "Epoch 1/5:  43%|████▎     | 734/1718 [00:46<01:15, 13.09it/s, loss=0.562, sparse_categorical_accuracy=0.797]\u001b[A\n",
            "Epoch 1/5:  43%|████▎     | 734/1718 [00:46<01:15, 13.09it/s, loss=0.562, sparse_categorical_accuracy=0.797]\u001b[A\n",
            "Epoch 1/5:  43%|████▎     | 736/1718 [00:46<01:10, 13.85it/s, loss=0.562, sparse_categorical_accuracy=0.797]\u001b[A\n",
            "Epoch 1/5:  43%|████▎     | 736/1718 [00:46<01:10, 13.85it/s, loss=0.562, sparse_categorical_accuracy=0.797]\u001b[A\n",
            "Epoch 1/5:  43%|████▎     | 736/1718 [00:46<01:10, 13.85it/s, loss=0.562, sparse_categorical_accuracy=0.797]\u001b[A\n",
            "Epoch 1/5:  43%|████▎     | 738/1718 [00:46<01:06, 14.78it/s, loss=0.562, sparse_categorical_accuracy=0.797]\u001b[A\n",
            "Epoch 1/5:  43%|████▎     | 738/1718 [00:46<01:06, 14.78it/s, loss=0.562, sparse_categorical_accuracy=0.797]\u001b[A\n",
            "Epoch 1/5:  43%|████▎     | 738/1718 [00:46<01:06, 14.78it/s, loss=0.562, sparse_categorical_accuracy=0.797]\u001b[A\n",
            "Epoch 1/5:  43%|████▎     | 740/1718 [00:46<01:03, 15.48it/s, loss=0.562, sparse_categorical_accuracy=0.797]\u001b[A\n",
            "Epoch 1/5:  43%|████▎     | 740/1718 [00:46<01:03, 15.48it/s, loss=0.562, sparse_categorical_accuracy=0.797]\u001b[A\n",
            "Epoch 1/5:  43%|████▎     | 740/1718 [00:46<01:03, 15.48it/s, loss=0.561, sparse_categorical_accuracy=0.797]\u001b[A\n",
            "Epoch 1/5:  43%|████▎     | 742/1718 [00:46<01:00, 16.23it/s, loss=0.561, sparse_categorical_accuracy=0.797]\u001b[A\n",
            "Epoch 1/5:  43%|████▎     | 742/1718 [00:46<01:00, 16.23it/s, loss=0.561, sparse_categorical_accuracy=0.797]\u001b[A\n",
            "Epoch 1/5:  43%|████▎     | 742/1718 [00:46<01:00, 16.23it/s, loss=0.561, sparse_categorical_accuracy=0.797]\u001b[A\n",
            "Epoch 1/5:  43%|████▎     | 744/1718 [00:46<00:58, 16.72it/s, loss=0.561, sparse_categorical_accuracy=0.797]\u001b[A\n",
            "Epoch 1/5:  43%|████▎     | 744/1718 [00:46<00:58, 16.72it/s, loss=0.56, sparse_categorical_accuracy=0.797] \u001b[A\n",
            "Epoch 1/5:  43%|████▎     | 744/1718 [00:46<00:58, 16.72it/s, loss=0.56, sparse_categorical_accuracy=0.797]\u001b[A\n",
            "Epoch 1/5:  43%|████▎     | 746/1718 [00:46<00:59, 16.38it/s, loss=0.56, sparse_categorical_accuracy=0.797]\u001b[A\n",
            "Epoch 1/5:  43%|████▎     | 746/1718 [00:46<00:59, 16.38it/s, loss=0.56, sparse_categorical_accuracy=0.797]\u001b[A\n",
            "Epoch 1/5:  43%|████▎     | 746/1718 [00:46<00:59, 16.38it/s, loss=0.56, sparse_categorical_accuracy=0.797]\u001b[A\n",
            "Epoch 1/5:  44%|████▎     | 748/1718 [00:46<01:00, 15.95it/s, loss=0.56, sparse_categorical_accuracy=0.797]\u001b[A\n",
            "Epoch 1/5:  44%|████▎     | 748/1718 [00:46<01:00, 15.95it/s, loss=0.56, sparse_categorical_accuracy=0.797]\u001b[A\n",
            "Epoch 1/5:  44%|████▎     | 748/1718 [00:47<01:00, 15.95it/s, loss=0.56, sparse_categorical_accuracy=0.797]\u001b[A\n",
            "Epoch 1/5:  44%|████▎     | 750/1718 [00:47<01:02, 15.38it/s, loss=0.56, sparse_categorical_accuracy=0.797]\u001b[A\n",
            "Epoch 1/5:  44%|████▎     | 750/1718 [00:47<01:02, 15.38it/s, loss=0.56, sparse_categorical_accuracy=0.797]\u001b[A\n",
            "Epoch 1/5:  44%|████▎     | 750/1718 [00:47<01:02, 15.38it/s, loss=0.56, sparse_categorical_accuracy=0.797]\u001b[A\n",
            "Epoch 1/5:  44%|████▍     | 752/1718 [00:47<01:03, 15.20it/s, loss=0.56, sparse_categorical_accuracy=0.797]\u001b[A\n",
            "Epoch 1/5:  44%|████▍     | 752/1718 [00:47<01:03, 15.20it/s, loss=0.56, sparse_categorical_accuracy=0.797]\u001b[A\n",
            "Epoch 1/5:  44%|████▍     | 752/1718 [00:47<01:03, 15.20it/s, loss=0.56, sparse_categorical_accuracy=0.797]\u001b[A\n",
            "Epoch 1/5:  44%|████▍     | 754/1718 [00:47<01:00, 15.97it/s, loss=0.56, sparse_categorical_accuracy=0.797]\u001b[A\n",
            "Epoch 1/5:  44%|████▍     | 754/1718 [00:47<01:00, 15.97it/s, loss=0.56, sparse_categorical_accuracy=0.797]\u001b[A\n",
            "Epoch 1/5:  44%|████▍     | 754/1718 [00:47<01:00, 15.97it/s, loss=0.559, sparse_categorical_accuracy=0.798]\u001b[A\n",
            "Epoch 1/5:  44%|████▍     | 756/1718 [00:47<00:58, 16.46it/s, loss=0.559, sparse_categorical_accuracy=0.798]\u001b[A\n",
            "Epoch 1/5:  44%|████▍     | 756/1718 [00:47<00:58, 16.46it/s, loss=0.559, sparse_categorical_accuracy=0.798]\u001b[A\n",
            "Epoch 1/5:  44%|████▍     | 756/1718 [00:47<00:58, 16.46it/s, loss=0.559, sparse_categorical_accuracy=0.798]\u001b[A\n",
            "Epoch 1/5:  44%|████▍     | 758/1718 [00:47<00:57, 16.77it/s, loss=0.559, sparse_categorical_accuracy=0.798]\u001b[A\n",
            "Epoch 1/5:  44%|████▍     | 758/1718 [00:47<00:57, 16.77it/s, loss=0.558, sparse_categorical_accuracy=0.798]\u001b[A\n",
            "Epoch 1/5:  44%|████▍     | 758/1718 [00:47<00:57, 16.77it/s, loss=0.558, sparse_categorical_accuracy=0.798]\u001b[A\n",
            "Epoch 1/5:  44%|████▍     | 760/1718 [00:47<00:55, 17.16it/s, loss=0.558, sparse_categorical_accuracy=0.798]\u001b[A\n",
            "Epoch 1/5:  44%|████▍     | 760/1718 [00:47<00:55, 17.16it/s, loss=0.558, sparse_categorical_accuracy=0.798]\u001b[A\n",
            "Epoch 1/5:  44%|████▍     | 760/1718 [00:47<00:55, 17.16it/s, loss=0.558, sparse_categorical_accuracy=0.798]\u001b[A\n",
            "Epoch 1/5:  44%|████▍     | 762/1718 [00:47<00:56, 16.80it/s, loss=0.558, sparse_categorical_accuracy=0.798]\u001b[A\n",
            "Epoch 1/5:  44%|████▍     | 762/1718 [00:47<00:56, 16.80it/s, loss=0.558, sparse_categorical_accuracy=0.798]\u001b[A\n",
            "Epoch 1/5:  44%|████▍     | 762/1718 [00:47<00:56, 16.80it/s, loss=0.558, sparse_categorical_accuracy=0.798]\u001b[A\n",
            "Epoch 1/5:  44%|████▍     | 764/1718 [00:47<01:00, 15.65it/s, loss=0.558, sparse_categorical_accuracy=0.798]\u001b[A\n",
            "Epoch 1/5:  44%|████▍     | 764/1718 [00:47<01:00, 15.65it/s, loss=0.557, sparse_categorical_accuracy=0.798]\u001b[A\n",
            "Epoch 1/5:  44%|████▍     | 764/1718 [00:48<01:00, 15.65it/s, loss=0.557, sparse_categorical_accuracy=0.798]\u001b[A\n",
            "Epoch 1/5:  45%|████▍     | 766/1718 [00:48<01:02, 15.34it/s, loss=0.557, sparse_categorical_accuracy=0.798]\u001b[A\n",
            "Epoch 1/5:  45%|████▍     | 766/1718 [00:48<01:02, 15.34it/s, loss=0.557, sparse_categorical_accuracy=0.799]\u001b[A\n",
            "Epoch 1/5:  45%|████▍     | 766/1718 [00:48<01:02, 15.34it/s, loss=0.557, sparse_categorical_accuracy=0.799]\u001b[A\n",
            "Epoch 1/5:  45%|████▍     | 768/1718 [00:48<00:59, 15.97it/s, loss=0.557, sparse_categorical_accuracy=0.799]\u001b[A\n",
            "Epoch 1/5:  45%|████▍     | 768/1718 [00:48<00:59, 15.97it/s, loss=0.557, sparse_categorical_accuracy=0.799]\u001b[A\n",
            "Epoch 1/5:  45%|████▍     | 768/1718 [00:48<00:59, 15.97it/s, loss=0.557, sparse_categorical_accuracy=0.799]\u001b[A\n",
            "Epoch 1/5:  45%|████▍     | 770/1718 [00:48<00:59, 15.91it/s, loss=0.557, sparse_categorical_accuracy=0.799]\u001b[A\n",
            "Epoch 1/5:  45%|████▍     | 770/1718 [00:48<00:59, 15.91it/s, loss=0.557, sparse_categorical_accuracy=0.799]\u001b[A\n",
            "Epoch 1/5:  45%|████▍     | 770/1718 [00:48<00:59, 15.91it/s, loss=0.557, sparse_categorical_accuracy=0.799]\u001b[A\n",
            "Epoch 1/5:  45%|████▍     | 772/1718 [00:48<00:56, 16.63it/s, loss=0.557, sparse_categorical_accuracy=0.799]\u001b[A\n",
            "Epoch 1/5:  45%|████▍     | 772/1718 [00:48<00:56, 16.63it/s, loss=0.556, sparse_categorical_accuracy=0.799]\u001b[A\n",
            "Epoch 1/5:  45%|████▍     | 772/1718 [00:48<00:56, 16.63it/s, loss=0.556, sparse_categorical_accuracy=0.799]\u001b[A\n",
            "Epoch 1/5:  45%|████▌     | 774/1718 [00:48<01:00, 15.55it/s, loss=0.556, sparse_categorical_accuracy=0.799]\u001b[A\n",
            "Epoch 1/5:  45%|████▌     | 774/1718 [00:48<01:00, 15.55it/s, loss=0.556, sparse_categorical_accuracy=0.799]\u001b[A\n",
            "Epoch 1/5:  45%|████▌     | 774/1718 [00:48<01:00, 15.55it/s, loss=0.556, sparse_categorical_accuracy=0.799]\u001b[A\n",
            "Epoch 1/5:  45%|████▌     | 776/1718 [00:48<01:04, 14.53it/s, loss=0.556, sparse_categorical_accuracy=0.799]\u001b[A\n",
            "Epoch 1/5:  45%|████▌     | 776/1718 [00:48<01:04, 14.53it/s, loss=0.556, sparse_categorical_accuracy=0.799]\u001b[A\n",
            "Epoch 1/5:  45%|████▌     | 776/1718 [00:48<01:04, 14.53it/s, loss=0.555, sparse_categorical_accuracy=0.799]\u001b[A\n",
            "Epoch 1/5:  45%|████▌     | 778/1718 [00:48<01:06, 14.07it/s, loss=0.555, sparse_categorical_accuracy=0.799]\u001b[A\n",
            "Epoch 1/5:  45%|████▌     | 778/1718 [00:48<01:06, 14.07it/s, loss=0.555, sparse_categorical_accuracy=0.8]  \u001b[A\n",
            "Epoch 1/5:  45%|████▌     | 778/1718 [00:48<01:06, 14.07it/s, loss=0.555, sparse_categorical_accuracy=0.799]\u001b[A\n",
            "Epoch 1/5:  45%|████▌     | 780/1718 [00:48<01:11, 13.08it/s, loss=0.555, sparse_categorical_accuracy=0.799]\u001b[A\n",
            "Epoch 1/5:  45%|████▌     | 780/1718 [00:49<01:11, 13.08it/s, loss=0.555, sparse_categorical_accuracy=0.799]\u001b[A\n",
            "Epoch 1/5:  45%|████▌     | 780/1718 [00:49<01:11, 13.08it/s, loss=0.555, sparse_categorical_accuracy=0.799]\u001b[A\n",
            "Epoch 1/5:  46%|████▌     | 782/1718 [00:49<01:10, 13.23it/s, loss=0.555, sparse_categorical_accuracy=0.799]\u001b[A\n",
            "Epoch 1/5:  46%|████▌     | 782/1718 [00:49<01:10, 13.23it/s, loss=0.555, sparse_categorical_accuracy=0.799]\u001b[A\n",
            "Epoch 1/5:  46%|████▌     | 782/1718 [00:49<01:10, 13.23it/s, loss=0.554, sparse_categorical_accuracy=0.799]\u001b[A\n",
            "Epoch 1/5:  46%|████▌     | 784/1718 [00:49<01:10, 13.22it/s, loss=0.554, sparse_categorical_accuracy=0.799]\u001b[A\n",
            "Epoch 1/5:  46%|████▌     | 784/1718 [00:49<01:10, 13.22it/s, loss=0.555, sparse_categorical_accuracy=0.8]  \u001b[A\n",
            "Epoch 1/5:  46%|████▌     | 784/1718 [00:49<01:10, 13.22it/s, loss=0.554, sparse_categorical_accuracy=0.8]\u001b[A\n",
            "Epoch 1/5:  46%|████▌     | 786/1718 [00:49<01:05, 14.30it/s, loss=0.554, sparse_categorical_accuracy=0.8]\u001b[A\n",
            "Epoch 1/5:  46%|████▌     | 786/1718 [00:49<01:05, 14.30it/s, loss=0.554, sparse_categorical_accuracy=0.8]\u001b[A\n",
            "Epoch 1/5:  46%|████▌     | 786/1718 [00:49<01:05, 14.30it/s, loss=0.554, sparse_categorical_accuracy=0.8]\u001b[A\n",
            "Epoch 1/5:  46%|████▌     | 788/1718 [00:49<01:03, 14.60it/s, loss=0.554, sparse_categorical_accuracy=0.8]\u001b[A\n",
            "Epoch 1/5:  46%|████▌     | 788/1718 [00:49<01:03, 14.60it/s, loss=0.554, sparse_categorical_accuracy=0.8]\u001b[A\n",
            "Epoch 1/5:  46%|████▌     | 788/1718 [00:49<01:03, 14.60it/s, loss=0.554, sparse_categorical_accuracy=0.8]\u001b[A\n",
            "Epoch 1/5:  46%|████▌     | 790/1718 [00:49<01:00, 15.31it/s, loss=0.554, sparse_categorical_accuracy=0.8]\u001b[A\n",
            "Epoch 1/5:  46%|████▌     | 790/1718 [00:49<01:00, 15.31it/s, loss=0.554, sparse_categorical_accuracy=0.8]\u001b[A\n",
            "Epoch 1/5:  46%|████▌     | 790/1718 [00:49<01:00, 15.31it/s, loss=0.553, sparse_categorical_accuracy=0.8]\u001b[A\n",
            "Epoch 1/5:  46%|████▌     | 792/1718 [00:49<01:05, 14.24it/s, loss=0.553, sparse_categorical_accuracy=0.8]\u001b[A\n",
            "Epoch 1/5:  46%|████▌     | 792/1718 [00:49<01:05, 14.24it/s, loss=0.553, sparse_categorical_accuracy=0.8]\u001b[A\n",
            "Epoch 1/5:  46%|████▌     | 792/1718 [00:49<01:05, 14.24it/s, loss=0.553, sparse_categorical_accuracy=0.8]\u001b[A\n",
            "Epoch 1/5:  46%|████▌     | 794/1718 [00:50<01:10, 13.04it/s, loss=0.553, sparse_categorical_accuracy=0.8]\u001b[A\n",
            "Epoch 1/5:  46%|████▌     | 794/1718 [00:50<01:10, 13.04it/s, loss=0.553, sparse_categorical_accuracy=0.8]\u001b[A\n",
            "Epoch 1/5:  46%|████▌     | 794/1718 [00:50<01:10, 13.04it/s, loss=0.553, sparse_categorical_accuracy=0.8]\u001b[A\n",
            "Epoch 1/5:  46%|████▋     | 796/1718 [00:50<01:08, 13.55it/s, loss=0.553, sparse_categorical_accuracy=0.8]\u001b[A\n",
            "Epoch 1/5:  46%|████▋     | 796/1718 [00:50<01:08, 13.55it/s, loss=0.552, sparse_categorical_accuracy=0.8]\u001b[A\n",
            "Epoch 1/5:  46%|████▋     | 796/1718 [00:50<01:08, 13.55it/s, loss=0.552, sparse_categorical_accuracy=0.8]\u001b[A\n",
            "Epoch 1/5:  46%|████▋     | 798/1718 [00:50<01:05, 14.05it/s, loss=0.552, sparse_categorical_accuracy=0.8]\u001b[A\n",
            "Epoch 1/5:  46%|████▋     | 798/1718 [00:50<01:05, 14.05it/s, loss=0.552, sparse_categorical_accuracy=0.8]\u001b[A\n",
            "Epoch 1/5:  46%|████▋     | 798/1718 [00:50<01:05, 14.05it/s, loss=0.552, sparse_categorical_accuracy=0.8]\u001b[A\n",
            "Epoch 1/5:  47%|████▋     | 800/1718 [00:50<01:02, 14.71it/s, loss=0.552, sparse_categorical_accuracy=0.8]\u001b[A\n",
            "Epoch 1/5:  47%|████▋     | 800/1718 [00:50<01:02, 14.71it/s, loss=0.552, sparse_categorical_accuracy=0.8]\u001b[A\n",
            "Epoch 1/5:  47%|████▋     | 800/1718 [00:50<01:02, 14.71it/s, loss=0.552, sparse_categorical_accuracy=0.8]\u001b[A\n",
            "Epoch 1/5:  47%|████▋     | 802/1718 [00:50<00:59, 15.45it/s, loss=0.552, sparse_categorical_accuracy=0.8]\u001b[A\n",
            "Epoch 1/5:  47%|████▋     | 802/1718 [00:50<00:59, 15.45it/s, loss=0.552, sparse_categorical_accuracy=0.8]\u001b[A\n",
            "Epoch 1/5:  47%|████▋     | 802/1718 [00:50<00:59, 15.45it/s, loss=0.551, sparse_categorical_accuracy=0.8]\u001b[A\n",
            "Epoch 1/5:  47%|████▋     | 804/1718 [00:50<01:02, 14.68it/s, loss=0.551, sparse_categorical_accuracy=0.8]\u001b[A\n",
            "Epoch 1/5:  47%|████▋     | 804/1718 [00:50<01:02, 14.68it/s, loss=0.551, sparse_categorical_accuracy=0.8]\u001b[A\n",
            "Epoch 1/5:  47%|████▋     | 804/1718 [00:50<01:02, 14.68it/s, loss=0.551, sparse_categorical_accuracy=0.8]\u001b[A\n",
            "Epoch 1/5:  47%|████▋     | 806/1718 [00:50<01:08, 13.30it/s, loss=0.551, sparse_categorical_accuracy=0.8]\u001b[A\n",
            "Epoch 1/5:  47%|████▋     | 806/1718 [00:50<01:08, 13.30it/s, loss=0.551, sparse_categorical_accuracy=0.8]\u001b[A\n",
            "Epoch 1/5:  47%|████▋     | 806/1718 [00:50<01:08, 13.30it/s, loss=0.551, sparse_categorical_accuracy=0.8]\u001b[A\n",
            "Epoch 1/5:  47%|████▋     | 808/1718 [00:50<01:08, 13.29it/s, loss=0.551, sparse_categorical_accuracy=0.8]\u001b[A\n",
            "Epoch 1/5:  47%|████▋     | 808/1718 [00:51<01:08, 13.29it/s, loss=0.551, sparse_categorical_accuracy=0.8]\u001b[A\n",
            "Epoch 1/5:  47%|████▋     | 808/1718 [00:51<01:08, 13.29it/s, loss=0.551, sparse_categorical_accuracy=0.8]\u001b[A\n",
            "Epoch 1/5:  47%|████▋     | 810/1718 [00:51<01:07, 13.55it/s, loss=0.551, sparse_categorical_accuracy=0.8]\u001b[A\n",
            "Epoch 1/5:  47%|████▋     | 810/1718 [00:51<01:07, 13.55it/s, loss=0.551, sparse_categorical_accuracy=0.8]\u001b[A\n",
            "Epoch 1/5:  47%|████▋     | 810/1718 [00:51<01:07, 13.55it/s, loss=0.55, sparse_categorical_accuracy=0.8] \u001b[A\n",
            "Epoch 1/5:  47%|████▋     | 812/1718 [00:51<01:09, 13.08it/s, loss=0.55, sparse_categorical_accuracy=0.8]\u001b[A\n",
            "Epoch 1/5:  47%|████▋     | 812/1718 [00:51<01:09, 13.08it/s, loss=0.55, sparse_categorical_accuracy=0.801]\u001b[A\n",
            "Epoch 1/5:  47%|████▋     | 812/1718 [00:51<01:09, 13.08it/s, loss=0.55, sparse_categorical_accuracy=0.801]\u001b[A\n",
            "Epoch 1/5:  47%|████▋     | 814/1718 [00:51<01:11, 12.65it/s, loss=0.55, sparse_categorical_accuracy=0.801]\u001b[A\n",
            "Epoch 1/5:  47%|████▋     | 814/1718 [00:51<01:11, 12.65it/s, loss=0.55, sparse_categorical_accuracy=0.801]\u001b[A\n",
            "Epoch 1/5:  47%|████▋     | 814/1718 [00:51<01:11, 12.65it/s, loss=0.549, sparse_categorical_accuracy=0.801]\u001b[A\n",
            "Epoch 1/5:  47%|████▋     | 816/1718 [00:51<01:08, 13.11it/s, loss=0.549, sparse_categorical_accuracy=0.801]\u001b[A\n",
            "Epoch 1/5:  47%|████▋     | 816/1718 [00:51<01:08, 13.11it/s, loss=0.549, sparse_categorical_accuracy=0.801]\u001b[A\n",
            "Epoch 1/5:  47%|████▋     | 816/1718 [00:51<01:08, 13.11it/s, loss=0.549, sparse_categorical_accuracy=0.801]\u001b[A\n",
            "Epoch 1/5:  48%|████▊     | 818/1718 [00:51<01:12, 12.42it/s, loss=0.549, sparse_categorical_accuracy=0.801]\u001b[A\n",
            "Epoch 1/5:  48%|████▊     | 818/1718 [00:51<01:12, 12.42it/s, loss=0.549, sparse_categorical_accuracy=0.801]\u001b[A\n",
            "Epoch 1/5:  48%|████▊     | 818/1718 [00:51<01:12, 12.42it/s, loss=0.549, sparse_categorical_accuracy=0.801]\u001b[A\n",
            "Epoch 1/5:  48%|████▊     | 820/1718 [00:51<01:17, 11.65it/s, loss=0.549, sparse_categorical_accuracy=0.801]\u001b[A\n",
            "Epoch 1/5:  48%|████▊     | 820/1718 [00:52<01:17, 11.65it/s, loss=0.549, sparse_categorical_accuracy=0.801]\u001b[A\n",
            "Epoch 1/5:  48%|████▊     | 820/1718 [00:52<01:17, 11.65it/s, loss=0.549, sparse_categorical_accuracy=0.801]\u001b[A\n",
            "Epoch 1/5:  48%|████▊     | 822/1718 [00:52<01:17, 11.52it/s, loss=0.549, sparse_categorical_accuracy=0.801]\u001b[A\n",
            "Epoch 1/5:  48%|████▊     | 822/1718 [00:52<01:17, 11.52it/s, loss=0.549, sparse_categorical_accuracy=0.801]\u001b[A\n",
            "Epoch 1/5:  48%|████▊     | 822/1718 [00:52<01:17, 11.52it/s, loss=0.549, sparse_categorical_accuracy=0.801]\u001b[A\n",
            "Epoch 1/5:  48%|████▊     | 824/1718 [00:52<01:18, 11.42it/s, loss=0.549, sparse_categorical_accuracy=0.801]\u001b[A\n",
            "Epoch 1/5:  48%|████▊     | 824/1718 [00:52<01:18, 11.42it/s, loss=0.549, sparse_categorical_accuracy=0.801]\u001b[A\n",
            "Epoch 1/5:  48%|████▊     | 824/1718 [00:52<01:18, 11.42it/s, loss=0.549, sparse_categorical_accuracy=0.801]\u001b[A\n",
            "Epoch 1/5:  48%|████▊     | 826/1718 [00:52<01:18, 11.39it/s, loss=0.549, sparse_categorical_accuracy=0.801]\u001b[A\n",
            "Epoch 1/5:  48%|████▊     | 826/1718 [00:52<01:18, 11.39it/s, loss=0.549, sparse_categorical_accuracy=0.801]\u001b[A\n",
            "Epoch 1/5:  48%|████▊     | 826/1718 [00:52<01:18, 11.39it/s, loss=0.549, sparse_categorical_accuracy=0.801]\u001b[A\n",
            "Epoch 1/5:  48%|████▊     | 828/1718 [00:52<01:18, 11.41it/s, loss=0.549, sparse_categorical_accuracy=0.801]\u001b[A\n",
            "Epoch 1/5:  48%|████▊     | 828/1718 [00:52<01:18, 11.41it/s, loss=0.549, sparse_categorical_accuracy=0.801]\u001b[A\n",
            "Epoch 1/5:  48%|████▊     | 828/1718 [00:52<01:18, 11.41it/s, loss=0.549, sparse_categorical_accuracy=0.801]\u001b[A\n",
            "Epoch 1/5:  48%|████▊     | 830/1718 [00:52<01:19, 11.15it/s, loss=0.549, sparse_categorical_accuracy=0.801]\u001b[A\n",
            "Epoch 1/5:  48%|████▊     | 830/1718 [00:52<01:19, 11.15it/s, loss=0.548, sparse_categorical_accuracy=0.801]\u001b[A\n",
            "Epoch 1/5:  48%|████▊     | 830/1718 [00:53<01:19, 11.15it/s, loss=0.548, sparse_categorical_accuracy=0.801]\u001b[A\n",
            "Epoch 1/5:  48%|████▊     | 832/1718 [00:53<01:14, 11.91it/s, loss=0.548, sparse_categorical_accuracy=0.801]\u001b[A\n",
            "Epoch 1/5:  48%|████▊     | 832/1718 [00:53<01:14, 11.91it/s, loss=0.548, sparse_categorical_accuracy=0.801]\u001b[A\n",
            "Epoch 1/5:  48%|████▊     | 832/1718 [00:53<01:14, 11.91it/s, loss=0.547, sparse_categorical_accuracy=0.801]\u001b[A\n",
            "Epoch 1/5:  49%|████▊     | 834/1718 [00:53<01:07, 13.00it/s, loss=0.547, sparse_categorical_accuracy=0.801]\u001b[A\n",
            "Epoch 1/5:  49%|████▊     | 834/1718 [00:53<01:07, 13.00it/s, loss=0.547, sparse_categorical_accuracy=0.801]\u001b[A\n",
            "Epoch 1/5:  49%|████▊     | 834/1718 [00:53<01:07, 13.00it/s, loss=0.547, sparse_categorical_accuracy=0.802]\u001b[A\n",
            "Epoch 1/5:  49%|████▊     | 836/1718 [00:53<01:03, 13.95it/s, loss=0.547, sparse_categorical_accuracy=0.802]\u001b[A\n",
            "Epoch 1/5:  49%|████▊     | 836/1718 [00:53<01:03, 13.95it/s, loss=0.547, sparse_categorical_accuracy=0.802]\u001b[A\n",
            "Epoch 1/5:  49%|████▊     | 836/1718 [00:53<01:03, 13.95it/s, loss=0.546, sparse_categorical_accuracy=0.802]\u001b[A\n",
            "Epoch 1/5:  49%|████▉     | 838/1718 [00:53<01:00, 14.59it/s, loss=0.546, sparse_categorical_accuracy=0.802]\u001b[A\n",
            "Epoch 1/5:  49%|████▉     | 838/1718 [00:53<01:00, 14.59it/s, loss=0.546, sparse_categorical_accuracy=0.802]\u001b[A\n",
            "Epoch 1/5:  49%|████▉     | 838/1718 [00:53<01:00, 14.59it/s, loss=0.546, sparse_categorical_accuracy=0.802]\u001b[A\n",
            "Epoch 1/5:  49%|████▉     | 840/1718 [00:53<00:59, 14.84it/s, loss=0.546, sparse_categorical_accuracy=0.802]\u001b[A\n",
            "Epoch 1/5:  49%|████▉     | 840/1718 [00:53<00:59, 14.84it/s, loss=0.546, sparse_categorical_accuracy=0.802]\u001b[A\n",
            "Epoch 1/5:  49%|████▉     | 840/1718 [00:53<00:59, 14.84it/s, loss=0.546, sparse_categorical_accuracy=0.802]\u001b[A\n",
            "Epoch 1/5:  49%|████▉     | 842/1718 [00:53<00:56, 15.45it/s, loss=0.546, sparse_categorical_accuracy=0.802]\u001b[A\n",
            "Epoch 1/5:  49%|████▉     | 842/1718 [00:53<00:56, 15.45it/s, loss=0.546, sparse_categorical_accuracy=0.802]\u001b[A\n",
            "Epoch 1/5:  49%|████▉     | 842/1718 [00:53<00:56, 15.45it/s, loss=0.546, sparse_categorical_accuracy=0.802]\u001b[A\n",
            "Epoch 1/5:  49%|████▉     | 844/1718 [00:53<00:57, 15.07it/s, loss=0.546, sparse_categorical_accuracy=0.802]\u001b[A\n",
            "Epoch 1/5:  49%|████▉     | 844/1718 [00:53<00:57, 15.07it/s, loss=0.546, sparse_categorical_accuracy=0.802]\u001b[A\n",
            "Epoch 1/5:  49%|████▉     | 844/1718 [00:53<00:57, 15.07it/s, loss=0.546, sparse_categorical_accuracy=0.802]\u001b[A\n",
            "Epoch 1/5:  49%|████▉     | 846/1718 [00:53<00:58, 14.91it/s, loss=0.546, sparse_categorical_accuracy=0.802]\u001b[A\n",
            "Epoch 1/5:  49%|████▉     | 846/1718 [00:53<00:58, 14.91it/s, loss=0.546, sparse_categorical_accuracy=0.802]\u001b[A\n",
            "Epoch 1/5:  49%|████▉     | 846/1718 [00:54<00:58, 14.91it/s, loss=0.546, sparse_categorical_accuracy=0.802]\u001b[A\n",
            "Epoch 1/5:  49%|████▉     | 848/1718 [00:54<00:59, 14.55it/s, loss=0.546, sparse_categorical_accuracy=0.802]\u001b[A\n",
            "Epoch 1/5:  49%|████▉     | 848/1718 [00:54<00:59, 14.55it/s, loss=0.545, sparse_categorical_accuracy=0.802]\u001b[A\n",
            "Epoch 1/5:  49%|████▉     | 848/1718 [00:54<00:59, 14.55it/s, loss=0.545, sparse_categorical_accuracy=0.802]\u001b[A\n",
            "Epoch 1/5:  49%|████▉     | 850/1718 [00:54<00:59, 14.56it/s, loss=0.545, sparse_categorical_accuracy=0.802]\u001b[A\n",
            "Epoch 1/5:  49%|████▉     | 850/1718 [00:54<00:59, 14.56it/s, loss=0.545, sparse_categorical_accuracy=0.802]\u001b[A\n",
            "Epoch 1/5:  49%|████▉     | 850/1718 [00:54<00:59, 14.56it/s, loss=0.545, sparse_categorical_accuracy=0.802]\u001b[A\n",
            "Epoch 1/5:  50%|████▉     | 852/1718 [00:54<00:58, 14.72it/s, loss=0.545, sparse_categorical_accuracy=0.802]\u001b[A\n",
            "Epoch 1/5:  50%|████▉     | 852/1718 [00:54<00:58, 14.72it/s, loss=0.545, sparse_categorical_accuracy=0.802]\u001b[A\n",
            "Epoch 1/5:  50%|████▉     | 852/1718 [00:54<00:58, 14.72it/s, loss=0.545, sparse_categorical_accuracy=0.802]\u001b[A\n",
            "Epoch 1/5:  50%|████▉     | 854/1718 [00:54<00:57, 14.97it/s, loss=0.545, sparse_categorical_accuracy=0.802]\u001b[A\n",
            "Epoch 1/5:  50%|████▉     | 854/1718 [00:54<00:57, 14.97it/s, loss=0.545, sparse_categorical_accuracy=0.802]\u001b[A\n",
            "Epoch 1/5:  50%|████▉     | 854/1718 [00:54<00:57, 14.97it/s, loss=0.545, sparse_categorical_accuracy=0.802]\u001b[A\n",
            "Epoch 1/5:  50%|████▉     | 856/1718 [00:54<00:57, 14.91it/s, loss=0.545, sparse_categorical_accuracy=0.802]\u001b[A\n",
            "Epoch 1/5:  50%|████▉     | 856/1718 [00:54<00:57, 14.91it/s, loss=0.545, sparse_categorical_accuracy=0.802]\u001b[A\n",
            "Epoch 1/5:  50%|████▉     | 856/1718 [00:54<00:57, 14.91it/s, loss=0.545, sparse_categorical_accuracy=0.802]\u001b[A\n",
            "Epoch 1/5:  50%|████▉     | 858/1718 [00:54<00:56, 15.15it/s, loss=0.545, sparse_categorical_accuracy=0.802]\u001b[A\n",
            "Epoch 1/5:  50%|████▉     | 858/1718 [00:54<00:56, 15.15it/s, loss=0.545, sparse_categorical_accuracy=0.802]\u001b[A\n",
            "Epoch 1/5:  50%|████▉     | 858/1718 [00:54<00:56, 15.15it/s, loss=0.545, sparse_categorical_accuracy=0.802]\u001b[A\n",
            "Epoch 1/5:  50%|█████     | 860/1718 [00:54<00:58, 14.60it/s, loss=0.545, sparse_categorical_accuracy=0.802]\u001b[A\n",
            "Epoch 1/5:  50%|█████     | 860/1718 [00:54<00:58, 14.60it/s, loss=0.544, sparse_categorical_accuracy=0.802]\u001b[A\n",
            "Epoch 1/5:  50%|█████     | 860/1718 [00:54<00:58, 14.60it/s, loss=0.544, sparse_categorical_accuracy=0.802]\u001b[A\n",
            "Epoch 1/5:  50%|█████     | 862/1718 [00:55<00:59, 14.45it/s, loss=0.544, sparse_categorical_accuracy=0.802]\u001b[A\n",
            "Epoch 1/5:  50%|█████     | 862/1718 [00:55<00:59, 14.45it/s, loss=0.544, sparse_categorical_accuracy=0.802]\u001b[A\n",
            "Epoch 1/5:  50%|█████     | 862/1718 [00:55<00:59, 14.45it/s, loss=0.544, sparse_categorical_accuracy=0.802]\u001b[A\n",
            "Epoch 1/5:  50%|█████     | 864/1718 [00:55<00:55, 15.31it/s, loss=0.544, sparse_categorical_accuracy=0.802]\u001b[A\n",
            "Epoch 1/5:  50%|█████     | 864/1718 [00:55<00:55, 15.31it/s, loss=0.544, sparse_categorical_accuracy=0.802]\u001b[A\n",
            "Epoch 1/5:  50%|█████     | 864/1718 [00:55<00:55, 15.31it/s, loss=0.544, sparse_categorical_accuracy=0.802]\u001b[A\n",
            "Epoch 1/5:  50%|█████     | 866/1718 [00:55<00:53, 16.01it/s, loss=0.544, sparse_categorical_accuracy=0.802]\u001b[A\n",
            "Epoch 1/5:  50%|█████     | 866/1718 [00:55<00:53, 16.01it/s, loss=0.543, sparse_categorical_accuracy=0.802]\u001b[A\n",
            "Epoch 1/5:  50%|█████     | 866/1718 [00:55<00:53, 16.01it/s, loss=0.543, sparse_categorical_accuracy=0.802]\u001b[A\n",
            "Epoch 1/5:  51%|█████     | 868/1718 [00:55<00:51, 16.48it/s, loss=0.543, sparse_categorical_accuracy=0.802]\u001b[A\n",
            "Epoch 1/5:  51%|█████     | 868/1718 [00:55<00:51, 16.48it/s, loss=0.543, sparse_categorical_accuracy=0.802]\u001b[A\n",
            "Epoch 1/5:  51%|█████     | 868/1718 [00:55<00:51, 16.48it/s, loss=0.543, sparse_categorical_accuracy=0.802]\u001b[A\n",
            "Epoch 1/5:  51%|█████     | 870/1718 [00:55<00:50, 16.78it/s, loss=0.543, sparse_categorical_accuracy=0.802]\u001b[A\n",
            "Epoch 1/5:  51%|█████     | 870/1718 [00:55<00:50, 16.78it/s, loss=0.543, sparse_categorical_accuracy=0.802]\u001b[A\n",
            "Epoch 1/5:  51%|█████     | 870/1718 [00:55<00:50, 16.78it/s, loss=0.543, sparse_categorical_accuracy=0.803]\u001b[A\n",
            "Epoch 1/5:  51%|█████     | 872/1718 [00:55<00:51, 16.42it/s, loss=0.543, sparse_categorical_accuracy=0.803]\u001b[A\n",
            "Epoch 1/5:  51%|█████     | 872/1718 [00:55<00:51, 16.42it/s, loss=0.543, sparse_categorical_accuracy=0.803]\u001b[A\n",
            "Epoch 1/5:  51%|█████     | 872/1718 [00:55<00:51, 16.42it/s, loss=0.542, sparse_categorical_accuracy=0.803]\u001b[A\n",
            "Epoch 1/5:  51%|█████     | 874/1718 [00:55<00:51, 16.37it/s, loss=0.542, sparse_categorical_accuracy=0.803]\u001b[A\n",
            "Epoch 1/5:  51%|█████     | 874/1718 [00:55<00:51, 16.37it/s, loss=0.543, sparse_categorical_accuracy=0.803]\u001b[A\n",
            "Epoch 1/5:  51%|█████     | 874/1718 [00:55<00:51, 16.37it/s, loss=0.543, sparse_categorical_accuracy=0.803]\u001b[A\n",
            "Epoch 1/5:  51%|█████     | 876/1718 [00:55<00:53, 15.74it/s, loss=0.543, sparse_categorical_accuracy=0.803]\u001b[A\n",
            "Epoch 1/5:  51%|█████     | 876/1718 [00:55<00:53, 15.74it/s, loss=0.543, sparse_categorical_accuracy=0.802]\u001b[A\n",
            "Epoch 1/5:  51%|█████     | 876/1718 [00:55<00:53, 15.74it/s, loss=0.543, sparse_categorical_accuracy=0.802]\u001b[A\n",
            "Epoch 1/5:  51%|█████     | 878/1718 [00:55<00:54, 15.44it/s, loss=0.543, sparse_categorical_accuracy=0.802]\u001b[A\n",
            "Epoch 1/5:  51%|█████     | 878/1718 [00:56<00:54, 15.44it/s, loss=0.543, sparse_categorical_accuracy=0.803]\u001b[A\n",
            "Epoch 1/5:  51%|█████     | 878/1718 [00:56<00:54, 15.44it/s, loss=0.543, sparse_categorical_accuracy=0.803]\u001b[A\n",
            "Epoch 1/5:  51%|█████     | 880/1718 [00:56<00:53, 15.55it/s, loss=0.543, sparse_categorical_accuracy=0.803]\u001b[A\n",
            "Epoch 1/5:  51%|█████     | 880/1718 [00:56<00:53, 15.55it/s, loss=0.543, sparse_categorical_accuracy=0.803]\u001b[A\n",
            "Epoch 1/5:  51%|█████     | 880/1718 [00:56<00:53, 15.55it/s, loss=0.543, sparse_categorical_accuracy=0.803]\u001b[A\n",
            "Epoch 1/5:  51%|█████▏    | 882/1718 [00:56<00:51, 16.17it/s, loss=0.543, sparse_categorical_accuracy=0.803]\u001b[A\n",
            "Epoch 1/5:  51%|█████▏    | 882/1718 [00:56<00:51, 16.17it/s, loss=0.542, sparse_categorical_accuracy=0.803]\u001b[A\n",
            "Epoch 1/5:  51%|█████▏    | 882/1718 [00:56<00:51, 16.17it/s, loss=0.543, sparse_categorical_accuracy=0.803]\u001b[A\n",
            "Epoch 1/5:  51%|█████▏    | 884/1718 [00:56<00:50, 16.62it/s, loss=0.543, sparse_categorical_accuracy=0.803]\u001b[A\n",
            "Epoch 1/5:  51%|█████▏    | 884/1718 [00:56<00:50, 16.62it/s, loss=0.542, sparse_categorical_accuracy=0.803]\u001b[A\n",
            "Epoch 1/5:  51%|█████▏    | 884/1718 [00:56<00:50, 16.62it/s, loss=0.543, sparse_categorical_accuracy=0.803]\u001b[A\n",
            "Epoch 1/5:  52%|█████▏    | 886/1718 [00:56<00:49, 16.93it/s, loss=0.543, sparse_categorical_accuracy=0.803]\u001b[A\n",
            "Epoch 1/5:  52%|█████▏    | 886/1718 [00:56<00:49, 16.93it/s, loss=0.542, sparse_categorical_accuracy=0.803]\u001b[A\n",
            "Epoch 1/5:  52%|█████▏    | 886/1718 [00:56<00:49, 16.93it/s, loss=0.543, sparse_categorical_accuracy=0.803]\u001b[A\n",
            "Epoch 1/5:  52%|█████▏    | 888/1718 [00:56<00:48, 17.10it/s, loss=0.543, sparse_categorical_accuracy=0.803]\u001b[A\n",
            "Epoch 1/5:  52%|█████▏    | 888/1718 [00:56<00:48, 17.10it/s, loss=0.542, sparse_categorical_accuracy=0.803]\u001b[A\n",
            "Epoch 1/5:  52%|█████▏    | 888/1718 [00:56<00:48, 17.10it/s, loss=0.542, sparse_categorical_accuracy=0.803]\u001b[A\n",
            "Epoch 1/5:  52%|█████▏    | 890/1718 [00:56<00:50, 16.38it/s, loss=0.542, sparse_categorical_accuracy=0.803]\u001b[A\n",
            "Epoch 1/5:  52%|█████▏    | 890/1718 [00:56<00:50, 16.38it/s, loss=0.542, sparse_categorical_accuracy=0.803]\u001b[A\n",
            "Epoch 1/5:  52%|█████▏    | 890/1718 [00:56<00:50, 16.38it/s, loss=0.542, sparse_categorical_accuracy=0.803]\u001b[A\n",
            "Epoch 1/5:  52%|█████▏    | 892/1718 [00:56<00:51, 16.02it/s, loss=0.542, sparse_categorical_accuracy=0.803]\u001b[A\n",
            "Epoch 1/5:  52%|█████▏    | 892/1718 [00:56<00:51, 16.02it/s, loss=0.542, sparse_categorical_accuracy=0.803]\u001b[A\n",
            "Epoch 1/5:  52%|█████▏    | 892/1718 [00:56<00:51, 16.02it/s, loss=0.542, sparse_categorical_accuracy=0.803]\u001b[A\n",
            "Epoch 1/5:  52%|█████▏    | 894/1718 [00:56<00:53, 15.35it/s, loss=0.542, sparse_categorical_accuracy=0.803]\u001b[A\n",
            "Epoch 1/5:  52%|█████▏    | 894/1718 [00:57<00:53, 15.35it/s, loss=0.542, sparse_categorical_accuracy=0.803]\u001b[A\n",
            "Epoch 1/5:  52%|█████▏    | 894/1718 [00:57<00:53, 15.35it/s, loss=0.542, sparse_categorical_accuracy=0.803]\u001b[A\n",
            "Epoch 1/5:  52%|█████▏    | 896/1718 [00:57<00:52, 15.78it/s, loss=0.542, sparse_categorical_accuracy=0.803]\u001b[A\n",
            "Epoch 1/5:  52%|█████▏    | 896/1718 [00:57<00:52, 15.78it/s, loss=0.542, sparse_categorical_accuracy=0.803]\u001b[A\n",
            "Epoch 1/5:  52%|█████▏    | 896/1718 [00:57<00:52, 15.78it/s, loss=0.542, sparse_categorical_accuracy=0.803]\u001b[A\n",
            "Epoch 1/5:  52%|█████▏    | 898/1718 [00:57<00:50, 16.24it/s, loss=0.542, sparse_categorical_accuracy=0.803]\u001b[A\n",
            "Epoch 1/5:  52%|█████▏    | 898/1718 [00:57<00:50, 16.24it/s, loss=0.542, sparse_categorical_accuracy=0.803]\u001b[A\n",
            "Epoch 1/5:  52%|█████▏    | 898/1718 [00:57<00:50, 16.24it/s, loss=0.542, sparse_categorical_accuracy=0.803]\u001b[A\n",
            "Epoch 1/5:  52%|█████▏    | 900/1718 [00:57<00:49, 16.57it/s, loss=0.542, sparse_categorical_accuracy=0.803]\u001b[A\n",
            "Epoch 1/5:  52%|█████▏    | 900/1718 [00:57<00:49, 16.57it/s, loss=0.542, sparse_categorical_accuracy=0.803]\u001b[A\n",
            "Epoch 1/5:  52%|█████▏    | 900/1718 [00:57<00:49, 16.57it/s, loss=0.542, sparse_categorical_accuracy=0.803]\u001b[A\n",
            "Epoch 1/5:  53%|█████▎    | 902/1718 [00:57<00:48, 16.83it/s, loss=0.542, sparse_categorical_accuracy=0.803]\u001b[A\n",
            "Epoch 1/5:  53%|█████▎    | 902/1718 [00:57<00:48, 16.83it/s, loss=0.542, sparse_categorical_accuracy=0.803]\u001b[A\n",
            "Epoch 1/5:  53%|█████▎    | 902/1718 [00:57<00:48, 16.83it/s, loss=0.542, sparse_categorical_accuracy=0.803]\u001b[A\n",
            "Epoch 1/5:  53%|█████▎    | 904/1718 [00:57<00:47, 17.11it/s, loss=0.542, sparse_categorical_accuracy=0.803]\u001b[A\n",
            "Epoch 1/5:  53%|█████▎    | 904/1718 [00:57<00:47, 17.11it/s, loss=0.542, sparse_categorical_accuracy=0.803]\u001b[A\n",
            "Epoch 1/5:  53%|█████▎    | 904/1718 [00:57<00:47, 17.11it/s, loss=0.541, sparse_categorical_accuracy=0.803]\u001b[A\n",
            "Epoch 1/5:  53%|█████▎    | 906/1718 [00:57<00:48, 16.74it/s, loss=0.541, sparse_categorical_accuracy=0.803]\u001b[A\n",
            "Epoch 1/5:  53%|█████▎    | 906/1718 [00:57<00:48, 16.74it/s, loss=0.541, sparse_categorical_accuracy=0.803]\u001b[A\n",
            "Epoch 1/5:  53%|█████▎    | 906/1718 [00:57<00:48, 16.74it/s, loss=0.542, sparse_categorical_accuracy=0.803]\u001b[A\n",
            "Epoch 1/5:  53%|█████▎    | 908/1718 [00:57<00:49, 16.46it/s, loss=0.542, sparse_categorical_accuracy=0.803]\u001b[A\n",
            "Epoch 1/5:  53%|█████▎    | 908/1718 [00:57<00:49, 16.46it/s, loss=0.542, sparse_categorical_accuracy=0.803]\u001b[A\n",
            "Epoch 1/5:  53%|█████▎    | 908/1718 [00:57<00:49, 16.46it/s, loss=0.542, sparse_categorical_accuracy=0.803]\u001b[A\n",
            "Epoch 1/5:  53%|█████▎    | 910/1718 [00:57<00:52, 15.43it/s, loss=0.542, sparse_categorical_accuracy=0.803]\u001b[A\n",
            "Epoch 1/5:  53%|█████▎    | 910/1718 [00:58<00:52, 15.43it/s, loss=0.541, sparse_categorical_accuracy=0.803]\u001b[A\n",
            "Epoch 1/5:  53%|█████▎    | 910/1718 [00:58<00:52, 15.43it/s, loss=0.541, sparse_categorical_accuracy=0.803]\u001b[A\n",
            "Epoch 1/5:  53%|█████▎    | 912/1718 [00:58<00:52, 15.36it/s, loss=0.541, sparse_categorical_accuracy=0.803]\u001b[A\n",
            "Epoch 1/5:  53%|█████▎    | 912/1718 [00:58<00:52, 15.36it/s, loss=0.541, sparse_categorical_accuracy=0.803]\u001b[A\n",
            "Epoch 1/5:  53%|█████▎    | 912/1718 [00:58<00:52, 15.36it/s, loss=0.541, sparse_categorical_accuracy=0.804]\u001b[A\n",
            "Epoch 1/5:  53%|█████▎    | 914/1718 [00:58<00:49, 16.16it/s, loss=0.541, sparse_categorical_accuracy=0.804]\u001b[A\n",
            "Epoch 1/5:  53%|█████▎    | 914/1718 [00:58<00:49, 16.16it/s, loss=0.541, sparse_categorical_accuracy=0.804]\u001b[A\n",
            "Epoch 1/5:  53%|█████▎    | 914/1718 [00:58<00:49, 16.16it/s, loss=0.541, sparse_categorical_accuracy=0.804]\u001b[A\n",
            "Epoch 1/5:  53%|█████▎    | 916/1718 [00:58<00:48, 16.59it/s, loss=0.541, sparse_categorical_accuracy=0.804]\u001b[A\n",
            "Epoch 1/5:  53%|█████▎    | 916/1718 [00:58<00:48, 16.59it/s, loss=0.541, sparse_categorical_accuracy=0.804]\u001b[A\n",
            "Epoch 1/5:  53%|█████▎    | 916/1718 [00:58<00:48, 16.59it/s, loss=0.541, sparse_categorical_accuracy=0.804]\u001b[A\n",
            "Epoch 1/5:  53%|█████▎    | 918/1718 [00:58<00:47, 16.98it/s, loss=0.541, sparse_categorical_accuracy=0.804]\u001b[A\n",
            "Epoch 1/5:  53%|█████▎    | 918/1718 [00:58<00:47, 16.98it/s, loss=0.54, sparse_categorical_accuracy=0.804] \u001b[A\n",
            "Epoch 1/5:  53%|█████▎    | 918/1718 [00:58<00:47, 16.98it/s, loss=0.54, sparse_categorical_accuracy=0.804]\u001b[A\n",
            "Epoch 1/5:  54%|█████▎    | 920/1718 [00:58<00:46, 17.16it/s, loss=0.54, sparse_categorical_accuracy=0.804]\u001b[A\n",
            "Epoch 1/5:  54%|█████▎    | 920/1718 [00:58<00:46, 17.16it/s, loss=0.54, sparse_categorical_accuracy=0.804]\u001b[A\n",
            "Epoch 1/5:  54%|█████▎    | 920/1718 [00:58<00:46, 17.16it/s, loss=0.541, sparse_categorical_accuracy=0.804]\u001b[A\n",
            "Epoch 1/5:  54%|█████▎    | 922/1718 [00:58<00:45, 17.33it/s, loss=0.541, sparse_categorical_accuracy=0.804]\u001b[A\n",
            "Epoch 1/5:  54%|█████▎    | 922/1718 [00:58<00:45, 17.33it/s, loss=0.541, sparse_categorical_accuracy=0.804]\u001b[A\n",
            "Epoch 1/5:  54%|█████▎    | 922/1718 [00:58<00:45, 17.33it/s, loss=0.54, sparse_categorical_accuracy=0.804] \u001b[A\n",
            "Epoch 1/5:  54%|█████▍    | 924/1718 [00:58<00:49, 16.00it/s, loss=0.54, sparse_categorical_accuracy=0.804]\u001b[A\n",
            "Epoch 1/5:  54%|█████▍    | 924/1718 [00:58<00:49, 16.00it/s, loss=0.54, sparse_categorical_accuracy=0.804]\u001b[A\n",
            "Epoch 1/5:  54%|█████▍    | 924/1718 [00:58<00:49, 16.00it/s, loss=0.541, sparse_categorical_accuracy=0.804]\u001b[A\n",
            "Epoch 1/5:  54%|█████▍    | 926/1718 [00:58<00:51, 15.44it/s, loss=0.541, sparse_categorical_accuracy=0.804]\u001b[A\n",
            "Epoch 1/5:  54%|█████▍    | 926/1718 [00:58<00:51, 15.44it/s, loss=0.541, sparse_categorical_accuracy=0.804]\u001b[A\n",
            "Epoch 1/5:  54%|█████▍    | 926/1718 [00:59<00:51, 15.44it/s, loss=0.54, sparse_categorical_accuracy=0.804] \u001b[A\n",
            "Epoch 1/5:  54%|█████▍    | 928/1718 [00:59<00:52, 15.08it/s, loss=0.54, sparse_categorical_accuracy=0.804]\u001b[A\n",
            "Epoch 1/5:  54%|█████▍    | 928/1718 [00:59<00:52, 15.08it/s, loss=0.54, sparse_categorical_accuracy=0.804]\u001b[A\n",
            "Epoch 1/5:  54%|█████▍    | 928/1718 [00:59<00:52, 15.08it/s, loss=0.54, sparse_categorical_accuracy=0.804]\u001b[A\n",
            "Epoch 1/5:  54%|█████▍    | 930/1718 [00:59<00:50, 15.76it/s, loss=0.54, sparse_categorical_accuracy=0.804]\u001b[A\n",
            "Epoch 1/5:  54%|█████▍    | 930/1718 [00:59<00:50, 15.76it/s, loss=0.54, sparse_categorical_accuracy=0.804]\u001b[A\n",
            "Epoch 1/5:  54%|█████▍    | 930/1718 [00:59<00:50, 15.76it/s, loss=0.54, sparse_categorical_accuracy=0.804]\u001b[A\n",
            "Epoch 1/5:  54%|█████▍    | 932/1718 [00:59<00:48, 16.31it/s, loss=0.54, sparse_categorical_accuracy=0.804]\u001b[A\n",
            "Epoch 1/5:  54%|█████▍    | 932/1718 [00:59<00:48, 16.31it/s, loss=0.54, sparse_categorical_accuracy=0.804]\u001b[A\n",
            "Epoch 1/5:  54%|█████▍    | 932/1718 [00:59<00:48, 16.31it/s, loss=0.54, sparse_categorical_accuracy=0.804]\u001b[A\n",
            "Epoch 1/5:  54%|█████▍    | 934/1718 [00:59<00:47, 16.57it/s, loss=0.54, sparse_categorical_accuracy=0.804]\u001b[A\n",
            "Epoch 1/5:  54%|█████▍    | 934/1718 [00:59<00:47, 16.57it/s, loss=0.539, sparse_categorical_accuracy=0.804]\u001b[A\n",
            "Epoch 1/5:  54%|█████▍    | 934/1718 [00:59<00:47, 16.57it/s, loss=0.54, sparse_categorical_accuracy=0.804] \u001b[A\n",
            "Epoch 1/5:  54%|█████▍    | 936/1718 [00:59<00:46, 16.90it/s, loss=0.54, sparse_categorical_accuracy=0.804]\u001b[A\n",
            "Epoch 1/5:  54%|█████▍    | 936/1718 [00:59<00:46, 16.90it/s, loss=0.539, sparse_categorical_accuracy=0.804]\u001b[A\n",
            "Epoch 1/5:  54%|█████▍    | 936/1718 [00:59<00:46, 16.90it/s, loss=0.539, sparse_categorical_accuracy=0.804]\u001b[A\n",
            "Epoch 1/5:  55%|█████▍    | 938/1718 [00:59<00:45, 17.00it/s, loss=0.539, sparse_categorical_accuracy=0.804]\u001b[A\n",
            "Epoch 1/5:  55%|█████▍    | 938/1718 [00:59<00:45, 17.00it/s, loss=0.54, sparse_categorical_accuracy=0.804] \u001b[A\n",
            "Epoch 1/5:  55%|█████▍    | 938/1718 [00:59<00:45, 17.00it/s, loss=0.54, sparse_categorical_accuracy=0.804]\u001b[A\n",
            "Epoch 1/5:  55%|█████▍    | 940/1718 [00:59<00:48, 15.97it/s, loss=0.54, sparse_categorical_accuracy=0.804]\u001b[A\n",
            "Epoch 1/5:  55%|█████▍    | 940/1718 [00:59<00:48, 15.97it/s, loss=0.54, sparse_categorical_accuracy=0.804]\u001b[A\n",
            "Epoch 1/5:  55%|█████▍    | 940/1718 [00:59<00:48, 15.97it/s, loss=0.539, sparse_categorical_accuracy=0.804]\u001b[A\n",
            "Epoch 1/5:  55%|█████▍    | 942/1718 [00:59<00:51, 15.19it/s, loss=0.539, sparse_categorical_accuracy=0.804]\u001b[A\n",
            "Epoch 1/5:  55%|█████▍    | 942/1718 [01:00<00:51, 15.19it/s, loss=0.539, sparse_categorical_accuracy=0.804]\u001b[A\n",
            "Epoch 1/5:  55%|█████▍    | 942/1718 [01:00<00:51, 15.19it/s, loss=0.539, sparse_categorical_accuracy=0.804]\u001b[A\n",
            "Epoch 1/5:  55%|█████▍    | 944/1718 [01:00<00:53, 14.55it/s, loss=0.539, sparse_categorical_accuracy=0.804]\u001b[A\n",
            "Epoch 1/5:  55%|█████▍    | 944/1718 [01:00<00:53, 14.55it/s, loss=0.539, sparse_categorical_accuracy=0.804]\u001b[A\n",
            "Epoch 1/5:  55%|█████▍    | 944/1718 [01:00<00:53, 14.55it/s, loss=0.539, sparse_categorical_accuracy=0.805]\u001b[A\n",
            "Epoch 1/5:  55%|█████▌    | 946/1718 [01:00<00:50, 15.25it/s, loss=0.539, sparse_categorical_accuracy=0.805]\u001b[A\n",
            "Epoch 1/5:  55%|█████▌    | 946/1718 [01:00<00:50, 15.25it/s, loss=0.539, sparse_categorical_accuracy=0.805]\u001b[A\n",
            "Epoch 1/5:  55%|█████▌    | 946/1718 [01:00<00:50, 15.25it/s, loss=0.539, sparse_categorical_accuracy=0.805]\u001b[A\n",
            "Epoch 1/5:  55%|█████▌    | 948/1718 [01:00<00:48, 15.72it/s, loss=0.539, sparse_categorical_accuracy=0.805]\u001b[A\n",
            "Epoch 1/5:  55%|█████▌    | 948/1718 [01:00<00:48, 15.72it/s, loss=0.538, sparse_categorical_accuracy=0.805]\u001b[A\n",
            "Epoch 1/5:  55%|█████▌    | 948/1718 [01:00<00:48, 15.72it/s, loss=0.538, sparse_categorical_accuracy=0.805]\u001b[A\n",
            "Epoch 1/5:  55%|█████▌    | 950/1718 [01:00<00:47, 16.12it/s, loss=0.538, sparse_categorical_accuracy=0.805]\u001b[A\n",
            "Epoch 1/5:  55%|█████▌    | 950/1718 [01:00<00:47, 16.12it/s, loss=0.538, sparse_categorical_accuracy=0.805]\u001b[A\n",
            "Epoch 1/5:  55%|█████▌    | 950/1718 [01:00<00:47, 16.12it/s, loss=0.538, sparse_categorical_accuracy=0.805]\u001b[A\n",
            "Epoch 1/5:  55%|█████▌    | 952/1718 [01:00<00:46, 16.34it/s, loss=0.538, sparse_categorical_accuracy=0.805]\u001b[A\n",
            "Epoch 1/5:  55%|█████▌    | 952/1718 [01:00<00:46, 16.34it/s, loss=0.538, sparse_categorical_accuracy=0.805]\u001b[A\n",
            "Epoch 1/5:  55%|█████▌    | 952/1718 [01:00<00:46, 16.34it/s, loss=0.538, sparse_categorical_accuracy=0.805]\u001b[A\n",
            "Epoch 1/5:  56%|█████▌    | 954/1718 [01:00<00:45, 16.70it/s, loss=0.538, sparse_categorical_accuracy=0.805]\u001b[A\n",
            "Epoch 1/5:  56%|█████▌    | 954/1718 [01:00<00:45, 16.70it/s, loss=0.538, sparse_categorical_accuracy=0.805]\u001b[A\n",
            "Epoch 1/5:  56%|█████▌    | 954/1718 [01:00<00:45, 16.70it/s, loss=0.538, sparse_categorical_accuracy=0.805]\u001b[A\n",
            "Epoch 1/5:  56%|█████▌    | 956/1718 [01:00<00:48, 15.57it/s, loss=0.538, sparse_categorical_accuracy=0.805]\u001b[A\n",
            "Epoch 1/5:  56%|█████▌    | 956/1718 [01:00<00:48, 15.57it/s, loss=0.537, sparse_categorical_accuracy=0.805]\u001b[A\n",
            "Epoch 1/5:  56%|█████▌    | 956/1718 [01:00<00:48, 15.57it/s, loss=0.537, sparse_categorical_accuracy=0.805]\u001b[A\n",
            "Epoch 1/5:  56%|█████▌    | 958/1718 [01:00<00:50, 15.05it/s, loss=0.537, sparse_categorical_accuracy=0.805]\u001b[A\n",
            "Epoch 1/5:  56%|█████▌    | 958/1718 [01:01<00:50, 15.05it/s, loss=0.537, sparse_categorical_accuracy=0.805]\u001b[A\n",
            "Epoch 1/5:  56%|█████▌    | 958/1718 [01:01<00:50, 15.05it/s, loss=0.537, sparse_categorical_accuracy=0.805]\u001b[A\n",
            "Epoch 1/5:  56%|█████▌    | 960/1718 [01:01<00:49, 15.20it/s, loss=0.537, sparse_categorical_accuracy=0.805]\u001b[A\n",
            "Epoch 1/5:  56%|█████▌    | 960/1718 [01:01<00:49, 15.20it/s, loss=0.537, sparse_categorical_accuracy=0.805]\u001b[A\n",
            "Epoch 1/5:  56%|█████▌    | 960/1718 [01:01<00:49, 15.20it/s, loss=0.537, sparse_categorical_accuracy=0.805]\u001b[A\n",
            "Epoch 1/5:  56%|█████▌    | 962/1718 [01:01<00:49, 15.41it/s, loss=0.537, sparse_categorical_accuracy=0.805]\u001b[A\n",
            "Epoch 1/5:  56%|█████▌    | 962/1718 [01:01<00:49, 15.41it/s, loss=0.537, sparse_categorical_accuracy=0.805]\u001b[A\n",
            "Epoch 1/5:  56%|█████▌    | 962/1718 [01:01<00:49, 15.41it/s, loss=0.537, sparse_categorical_accuracy=0.805]\u001b[A\n",
            "Epoch 1/5:  56%|█████▌    | 964/1718 [01:01<00:47, 15.88it/s, loss=0.537, sparse_categorical_accuracy=0.805]\u001b[A\n",
            "Epoch 1/5:  56%|█████▌    | 964/1718 [01:01<00:47, 15.88it/s, loss=0.537, sparse_categorical_accuracy=0.805]\u001b[A\n",
            "Epoch 1/5:  56%|█████▌    | 964/1718 [01:01<00:47, 15.88it/s, loss=0.537, sparse_categorical_accuracy=0.805]\u001b[A\n",
            "Epoch 1/5:  56%|█████▌    | 966/1718 [01:01<00:46, 16.32it/s, loss=0.537, sparse_categorical_accuracy=0.805]\u001b[A\n",
            "Epoch 1/5:  56%|█████▌    | 966/1718 [01:01<00:46, 16.32it/s, loss=0.537, sparse_categorical_accuracy=0.806]\u001b[A\n",
            "Epoch 1/5:  56%|█████▌    | 966/1718 [01:01<00:46, 16.32it/s, loss=0.536, sparse_categorical_accuracy=0.806]\u001b[A\n",
            "Epoch 1/5:  56%|█████▋    | 968/1718 [01:01<00:44, 16.75it/s, loss=0.536, sparse_categorical_accuracy=0.806]\u001b[A\n",
            "Epoch 1/5:  56%|█████▋    | 968/1718 [01:01<00:44, 16.75it/s, loss=0.537, sparse_categorical_accuracy=0.806]\u001b[A\n",
            "Epoch 1/5:  56%|█████▋    | 968/1718 [01:01<00:44, 16.75it/s, loss=0.536, sparse_categorical_accuracy=0.806]\u001b[A\n",
            "Epoch 1/5:  56%|█████▋    | 970/1718 [01:01<00:44, 16.78it/s, loss=0.536, sparse_categorical_accuracy=0.806]\u001b[A\n",
            "Epoch 1/5:  56%|█████▋    | 970/1718 [01:01<00:44, 16.78it/s, loss=0.536, sparse_categorical_accuracy=0.806]\u001b[A\n",
            "Epoch 1/5:  56%|█████▋    | 970/1718 [01:01<00:44, 16.78it/s, loss=0.536, sparse_categorical_accuracy=0.806]\u001b[A\n",
            "Epoch 1/5:  57%|█████▋    | 972/1718 [01:01<00:48, 15.41it/s, loss=0.536, sparse_categorical_accuracy=0.806]\u001b[A\n",
            "Epoch 1/5:  57%|█████▋    | 972/1718 [01:01<00:48, 15.41it/s, loss=0.536, sparse_categorical_accuracy=0.806]\u001b[A\n",
            "Epoch 1/5:  57%|█████▋    | 972/1718 [01:01<00:48, 15.41it/s, loss=0.536, sparse_categorical_accuracy=0.806]\u001b[A\n",
            "Epoch 1/5:  57%|█████▋    | 974/1718 [01:01<00:49, 15.08it/s, loss=0.536, sparse_categorical_accuracy=0.806]\u001b[A\n",
            "Epoch 1/5:  57%|█████▋    | 974/1718 [01:02<00:49, 15.08it/s, loss=0.536, sparse_categorical_accuracy=0.806]\u001b[A\n",
            "Epoch 1/5:  57%|█████▋    | 974/1718 [01:02<00:49, 15.08it/s, loss=0.536, sparse_categorical_accuracy=0.806]\u001b[A\n",
            "Epoch 1/5:  57%|█████▋    | 976/1718 [01:02<00:48, 15.21it/s, loss=0.536, sparse_categorical_accuracy=0.806]\u001b[A\n",
            "Epoch 1/5:  57%|█████▋    | 976/1718 [01:02<00:48, 15.21it/s, loss=0.536, sparse_categorical_accuracy=0.806]\u001b[A\n",
            "Epoch 1/5:  57%|█████▋    | 976/1718 [01:02<00:48, 15.21it/s, loss=0.536, sparse_categorical_accuracy=0.806]\u001b[A\n",
            "Epoch 1/5:  57%|█████▋    | 978/1718 [01:02<00:47, 15.71it/s, loss=0.536, sparse_categorical_accuracy=0.806]\u001b[A\n",
            "Epoch 1/5:  57%|█████▋    | 978/1718 [01:02<00:47, 15.71it/s, loss=0.536, sparse_categorical_accuracy=0.806]\u001b[A\n",
            "Epoch 1/5:  57%|█████▋    | 978/1718 [01:02<00:47, 15.71it/s, loss=0.535, sparse_categorical_accuracy=0.806]\u001b[A\n",
            "Epoch 1/5:  57%|█████▋    | 980/1718 [01:02<00:46, 15.81it/s, loss=0.535, sparse_categorical_accuracy=0.806]\u001b[A\n",
            "Epoch 1/5:  57%|█████▋    | 980/1718 [01:02<00:46, 15.81it/s, loss=0.536, sparse_categorical_accuracy=0.806]\u001b[A\n",
            "Epoch 1/5:  57%|█████▋    | 980/1718 [01:02<00:46, 15.81it/s, loss=0.535, sparse_categorical_accuracy=0.806]\u001b[A\n",
            "Epoch 1/5:  57%|█████▋    | 982/1718 [01:02<00:46, 15.72it/s, loss=0.535, sparse_categorical_accuracy=0.806]\u001b[A\n",
            "Epoch 1/5:  57%|█████▋    | 982/1718 [01:02<00:46, 15.72it/s, loss=0.535, sparse_categorical_accuracy=0.806]\u001b[A\n",
            "Epoch 1/5:  57%|█████▋    | 982/1718 [01:02<00:46, 15.72it/s, loss=0.536, sparse_categorical_accuracy=0.806]\u001b[A\n",
            "Epoch 1/5:  57%|█████▋    | 984/1718 [01:02<00:45, 16.27it/s, loss=0.536, sparse_categorical_accuracy=0.806]\u001b[A\n",
            "Epoch 1/5:  57%|█████▋    | 984/1718 [01:02<00:45, 16.27it/s, loss=0.535, sparse_categorical_accuracy=0.806]\u001b[A\n",
            "Epoch 1/5:  57%|█████▋    | 984/1718 [01:02<00:45, 16.27it/s, loss=0.535, sparse_categorical_accuracy=0.806]\u001b[A\n",
            "Epoch 1/5:  57%|█████▋    | 986/1718 [01:02<00:45, 16.19it/s, loss=0.535, sparse_categorical_accuracy=0.806]\u001b[A\n",
            "Epoch 1/5:  57%|█████▋    | 986/1718 [01:02<00:45, 16.19it/s, loss=0.535, sparse_categorical_accuracy=0.806]\u001b[A\n",
            "Epoch 1/5:  57%|█████▋    | 986/1718 [01:02<00:45, 16.19it/s, loss=0.535, sparse_categorical_accuracy=0.806]\u001b[A\n",
            "Epoch 1/5:  58%|█████▊    | 988/1718 [01:02<00:48, 15.17it/s, loss=0.535, sparse_categorical_accuracy=0.806]\u001b[A\n",
            "Epoch 1/5:  58%|█████▊    | 988/1718 [01:02<00:48, 15.17it/s, loss=0.535, sparse_categorical_accuracy=0.806]\u001b[A\n",
            "Epoch 1/5:  58%|█████▊    | 988/1718 [01:02<00:48, 15.17it/s, loss=0.535, sparse_categorical_accuracy=0.806]\u001b[A\n",
            "Epoch 1/5:  58%|█████▊    | 990/1718 [01:02<00:50, 14.48it/s, loss=0.535, sparse_categorical_accuracy=0.806]\u001b[A\n",
            "Epoch 1/5:  58%|█████▊    | 990/1718 [01:03<00:50, 14.48it/s, loss=0.535, sparse_categorical_accuracy=0.806]\u001b[A\n",
            "Epoch 1/5:  58%|█████▊    | 990/1718 [01:03<00:50, 14.48it/s, loss=0.535, sparse_categorical_accuracy=0.806]\u001b[A\n",
            "Epoch 1/5:  58%|█████▊    | 992/1718 [01:03<00:50, 14.43it/s, loss=0.535, sparse_categorical_accuracy=0.806]\u001b[A\n",
            "Epoch 1/5:  58%|█████▊    | 992/1718 [01:03<00:50, 14.43it/s, loss=0.534, sparse_categorical_accuracy=0.806]\u001b[A\n",
            "Epoch 1/5:  58%|█████▊    | 992/1718 [01:03<00:50, 14.43it/s, loss=0.534, sparse_categorical_accuracy=0.806]\u001b[A\n",
            "Epoch 1/5:  58%|█████▊    | 994/1718 [01:03<00:53, 13.58it/s, loss=0.534, sparse_categorical_accuracy=0.806]\u001b[A\n",
            "Epoch 1/5:  58%|█████▊    | 994/1718 [01:03<00:53, 13.58it/s, loss=0.534, sparse_categorical_accuracy=0.806]\u001b[A\n",
            "Epoch 1/5:  58%|█████▊    | 994/1718 [01:03<00:53, 13.58it/s, loss=0.534, sparse_categorical_accuracy=0.806]\u001b[A\n",
            "Epoch 1/5:  58%|█████▊    | 996/1718 [01:03<00:54, 13.21it/s, loss=0.534, sparse_categorical_accuracy=0.806]\u001b[A\n",
            "Epoch 1/5:  58%|█████▊    | 996/1718 [01:03<00:54, 13.21it/s, loss=0.534, sparse_categorical_accuracy=0.807]\u001b[A\n",
            "Epoch 1/5:  58%|█████▊    | 996/1718 [01:03<00:54, 13.21it/s, loss=0.534, sparse_categorical_accuracy=0.807]\u001b[A\n",
            "Epoch 1/5:  58%|█████▊    | 998/1718 [01:03<00:54, 13.27it/s, loss=0.534, sparse_categorical_accuracy=0.807]\u001b[A\n",
            "Epoch 1/5:  58%|█████▊    | 998/1718 [01:03<00:54, 13.27it/s, loss=0.534, sparse_categorical_accuracy=0.807]\u001b[A\n",
            "Epoch 1/5:  58%|█████▊    | 998/1718 [01:03<00:54, 13.27it/s, loss=0.534, sparse_categorical_accuracy=0.807]\u001b[A\n",
            "Epoch 1/5:  58%|█████▊    | 1000/1718 [01:03<00:54, 13.07it/s, loss=0.534, sparse_categorical_accuracy=0.807]\u001b[A\n",
            "Epoch 1/5:  58%|█████▊    | 1000/1718 [01:03<00:54, 13.07it/s, loss=0.534, sparse_categorical_accuracy=0.807]\u001b[A\n",
            "Epoch 1/5:  58%|█████▊    | 1000/1718 [01:03<00:54, 13.07it/s, loss=0.534, sparse_categorical_accuracy=0.807]\u001b[A\n",
            "Epoch 1/5:  58%|█████▊    | 1002/1718 [01:03<00:56, 12.73it/s, loss=0.534, sparse_categorical_accuracy=0.807]\u001b[A\n",
            "Epoch 1/5:  58%|█████▊    | 1002/1718 [01:03<00:56, 12.73it/s, loss=0.534, sparse_categorical_accuracy=0.806]\u001b[A\n",
            "Epoch 1/5:  58%|█████▊    | 1002/1718 [01:04<00:56, 12.73it/s, loss=0.534, sparse_categorical_accuracy=0.806]\u001b[A\n",
            "Epoch 1/5:  58%|█████▊    | 1004/1718 [01:04<00:52, 13.58it/s, loss=0.534, sparse_categorical_accuracy=0.806]\u001b[A\n",
            "Epoch 1/5:  58%|█████▊    | 1004/1718 [01:04<00:52, 13.58it/s, loss=0.533, sparse_categorical_accuracy=0.806]\u001b[A\n",
            "Epoch 1/5:  58%|█████▊    | 1004/1718 [01:04<00:52, 13.58it/s, loss=0.533, sparse_categorical_accuracy=0.806]\u001b[A\n",
            "Epoch 1/5:  59%|█████▊    | 1006/1718 [01:04<00:50, 14.18it/s, loss=0.533, sparse_categorical_accuracy=0.806]\u001b[A\n",
            "Epoch 1/5:  59%|█████▊    | 1006/1718 [01:04<00:50, 14.18it/s, loss=0.533, sparse_categorical_accuracy=0.807]\u001b[A\n",
            "Epoch 1/5:  59%|█████▊    | 1006/1718 [01:04<00:50, 14.18it/s, loss=0.533, sparse_categorical_accuracy=0.807]\u001b[A\n",
            "Epoch 1/5:  59%|█████▊    | 1008/1718 [01:04<00:47, 15.00it/s, loss=0.533, sparse_categorical_accuracy=0.807]\u001b[A\n",
            "Epoch 1/5:  59%|█████▊    | 1008/1718 [01:04<00:47, 15.00it/s, loss=0.533, sparse_categorical_accuracy=0.807]\u001b[A\n",
            "Epoch 1/5:  59%|█████▊    | 1008/1718 [01:04<00:47, 15.00it/s, loss=0.532, sparse_categorical_accuracy=0.807]\u001b[A\n",
            "Epoch 1/5:  59%|█████▉    | 1010/1718 [01:04<00:45, 15.62it/s, loss=0.532, sparse_categorical_accuracy=0.807]\u001b[A\n",
            "Epoch 1/5:  59%|█████▉    | 1010/1718 [01:04<00:45, 15.62it/s, loss=0.532, sparse_categorical_accuracy=0.807]\u001b[A\n",
            "Epoch 1/5:  59%|█████▉    | 1010/1718 [01:04<00:45, 15.62it/s, loss=0.533, sparse_categorical_accuracy=0.807]\u001b[A\n",
            "Epoch 1/5:  59%|█████▉    | 1012/1718 [01:04<00:43, 16.11it/s, loss=0.533, sparse_categorical_accuracy=0.807]\u001b[A\n",
            "Epoch 1/5:  59%|█████▉    | 1012/1718 [01:04<00:43, 16.11it/s, loss=0.533, sparse_categorical_accuracy=0.807]\u001b[A\n",
            "Epoch 1/5:  59%|█████▉    | 1012/1718 [01:04<00:43, 16.11it/s, loss=0.532, sparse_categorical_accuracy=0.807]\u001b[A\n",
            "Epoch 1/5:  59%|█████▉    | 1014/1718 [01:04<00:43, 16.09it/s, loss=0.532, sparse_categorical_accuracy=0.807]\u001b[A\n",
            "Epoch 1/5:  59%|█████▉    | 1014/1718 [01:04<00:43, 16.09it/s, loss=0.532, sparse_categorical_accuracy=0.807]\u001b[A\n",
            "Epoch 1/5:  59%|█████▉    | 1014/1718 [01:04<00:43, 16.09it/s, loss=0.532, sparse_categorical_accuracy=0.807]\u001b[A\n",
            "Epoch 1/5:  59%|█████▉    | 1016/1718 [01:04<00:50, 13.92it/s, loss=0.532, sparse_categorical_accuracy=0.807]\u001b[A\n",
            "Epoch 1/5:  59%|█████▉    | 1016/1718 [01:04<00:50, 13.92it/s, loss=0.532, sparse_categorical_accuracy=0.807]\u001b[A\n",
            "Epoch 1/5:  59%|█████▉    | 1016/1718 [01:05<00:50, 13.92it/s, loss=0.532, sparse_categorical_accuracy=0.807]\u001b[A\n",
            "Epoch 1/5:  59%|█████▉    | 1018/1718 [01:05<00:52, 13.36it/s, loss=0.532, sparse_categorical_accuracy=0.807]\u001b[A\n",
            "Epoch 1/5:  59%|█████▉    | 1018/1718 [01:05<00:52, 13.36it/s, loss=0.532, sparse_categorical_accuracy=0.807]\u001b[A\n",
            "Epoch 1/5:  59%|█████▉    | 1018/1718 [01:05<00:52, 13.36it/s, loss=0.532, sparse_categorical_accuracy=0.807]\u001b[A\n",
            "Epoch 1/5:  59%|█████▉    | 1020/1718 [01:05<00:52, 13.40it/s, loss=0.532, sparse_categorical_accuracy=0.807]\u001b[A\n",
            "Epoch 1/5:  59%|█████▉    | 1020/1718 [01:05<00:52, 13.40it/s, loss=0.532, sparse_categorical_accuracy=0.807]\u001b[A\n",
            "Epoch 1/5:  59%|█████▉    | 1020/1718 [01:05<00:52, 13.40it/s, loss=0.532, sparse_categorical_accuracy=0.807]\u001b[A\n",
            "Epoch 1/5:  59%|█████▉    | 1022/1718 [01:05<00:51, 13.47it/s, loss=0.532, sparse_categorical_accuracy=0.807]\u001b[A\n",
            "Epoch 1/5:  59%|█████▉    | 1022/1718 [01:05<00:51, 13.47it/s, loss=0.532, sparse_categorical_accuracy=0.807]\u001b[A\n",
            "Epoch 1/5:  59%|█████▉    | 1022/1718 [01:05<00:51, 13.47it/s, loss=0.532, sparse_categorical_accuracy=0.807]\u001b[A\n",
            "Epoch 1/5:  60%|█████▉    | 1024/1718 [01:05<00:48, 14.30it/s, loss=0.532, sparse_categorical_accuracy=0.807]\u001b[A\n",
            "Epoch 1/5:  60%|█████▉    | 1024/1718 [01:05<00:48, 14.30it/s, loss=0.532, sparse_categorical_accuracy=0.807]\u001b[A\n",
            "Epoch 1/5:  60%|█████▉    | 1024/1718 [01:05<00:48, 14.30it/s, loss=0.532, sparse_categorical_accuracy=0.807]\u001b[A\n",
            "Epoch 1/5:  60%|█████▉    | 1026/1718 [01:05<00:47, 14.66it/s, loss=0.532, sparse_categorical_accuracy=0.807]\u001b[A\n",
            "Epoch 1/5:  60%|█████▉    | 1026/1718 [01:05<00:47, 14.66it/s, loss=0.531, sparse_categorical_accuracy=0.807]\u001b[A\n",
            "Epoch 1/5:  60%|█████▉    | 1026/1718 [01:05<00:47, 14.66it/s, loss=0.531, sparse_categorical_accuracy=0.807]\u001b[A\n",
            "Epoch 1/5:  60%|█████▉    | 1028/1718 [01:05<00:49, 14.00it/s, loss=0.531, sparse_categorical_accuracy=0.807]\u001b[A\n",
            "Epoch 1/5:  60%|█████▉    | 1028/1718 [01:05<00:49, 14.00it/s, loss=0.532, sparse_categorical_accuracy=0.807]\u001b[A\n",
            "Epoch 1/5:  60%|█████▉    | 1028/1718 [01:05<00:49, 14.00it/s, loss=0.532, sparse_categorical_accuracy=0.807]\u001b[A\n",
            "Epoch 1/5:  60%|█████▉    | 1030/1718 [01:05<00:54, 12.72it/s, loss=0.532, sparse_categorical_accuracy=0.807]\u001b[A\n",
            "Epoch 1/5:  60%|█████▉    | 1030/1718 [01:05<00:54, 12.72it/s, loss=0.531, sparse_categorical_accuracy=0.807]\u001b[A\n",
            "Epoch 1/5:  60%|█████▉    | 1030/1718 [01:06<00:54, 12.72it/s, loss=0.531, sparse_categorical_accuracy=0.808]\u001b[A\n",
            "Epoch 1/5:  60%|██████    | 1032/1718 [01:06<00:55, 12.45it/s, loss=0.531, sparse_categorical_accuracy=0.808]\u001b[A\n",
            "Epoch 1/5:  60%|██████    | 1032/1718 [01:06<00:55, 12.45it/s, loss=0.531, sparse_categorical_accuracy=0.808]\u001b[A\n",
            "Epoch 1/5:  60%|██████    | 1032/1718 [01:06<00:55, 12.45it/s, loss=0.531, sparse_categorical_accuracy=0.808]\u001b[A\n",
            "Epoch 1/5:  60%|██████    | 1034/1718 [01:06<00:55, 12.38it/s, loss=0.531, sparse_categorical_accuracy=0.808]\u001b[A\n",
            "Epoch 1/5:  60%|██████    | 1034/1718 [01:06<00:55, 12.38it/s, loss=0.531, sparse_categorical_accuracy=0.808]\u001b[A\n",
            "Epoch 1/5:  60%|██████    | 1034/1718 [01:06<00:55, 12.38it/s, loss=0.531, sparse_categorical_accuracy=0.808]\u001b[A\n",
            "Epoch 1/5:  60%|██████    | 1036/1718 [01:06<00:54, 12.56it/s, loss=0.531, sparse_categorical_accuracy=0.808]\u001b[A\n",
            "Epoch 1/5:  60%|██████    | 1036/1718 [01:06<00:54, 12.56it/s, loss=0.531, sparse_categorical_accuracy=0.808]\u001b[A\n",
            "Epoch 1/5:  60%|██████    | 1036/1718 [01:06<00:54, 12.56it/s, loss=0.531, sparse_categorical_accuracy=0.808]\u001b[A\n",
            "Epoch 1/5:  60%|██████    | 1038/1718 [01:06<00:53, 12.76it/s, loss=0.531, sparse_categorical_accuracy=0.808]\u001b[A\n",
            "Epoch 1/5:  60%|██████    | 1038/1718 [01:06<00:53, 12.76it/s, loss=0.53, sparse_categorical_accuracy=0.808] \u001b[A\n",
            "Epoch 1/5:  60%|██████    | 1038/1718 [01:06<00:53, 12.76it/s, loss=0.53, sparse_categorical_accuracy=0.808]\u001b[A\n",
            "Epoch 1/5:  61%|██████    | 1040/1718 [01:06<00:54, 12.49it/s, loss=0.53, sparse_categorical_accuracy=0.808]\u001b[A\n",
            "Epoch 1/5:  61%|██████    | 1040/1718 [01:06<00:54, 12.49it/s, loss=0.53, sparse_categorical_accuracy=0.808]\u001b[A\n",
            "Epoch 1/5:  61%|██████    | 1040/1718 [01:06<00:54, 12.49it/s, loss=0.53, sparse_categorical_accuracy=0.808]\u001b[A\n",
            "Epoch 1/5:  61%|██████    | 1042/1718 [01:06<00:55, 12.15it/s, loss=0.53, sparse_categorical_accuracy=0.808]\u001b[A\n",
            "Epoch 1/5:  61%|██████    | 1042/1718 [01:06<00:55, 12.15it/s, loss=0.53, sparse_categorical_accuracy=0.808]\u001b[A\n",
            "Epoch 1/5:  61%|██████    | 1042/1718 [01:07<00:55, 12.15it/s, loss=0.53, sparse_categorical_accuracy=0.808]\u001b[A\n",
            "Epoch 1/5:  61%|██████    | 1044/1718 [01:07<00:55, 12.19it/s, loss=0.53, sparse_categorical_accuracy=0.808]\u001b[A\n",
            "Epoch 1/5:  61%|██████    | 1044/1718 [01:07<00:55, 12.19it/s, loss=0.529, sparse_categorical_accuracy=0.808]\u001b[A\n",
            "Epoch 1/5:  61%|██████    | 1044/1718 [01:07<00:55, 12.19it/s, loss=0.529, sparse_categorical_accuracy=0.808]\u001b[A\n",
            "Epoch 1/5:  61%|██████    | 1046/1718 [01:07<00:54, 12.27it/s, loss=0.529, sparse_categorical_accuracy=0.808]\u001b[A\n",
            "Epoch 1/5:  61%|██████    | 1046/1718 [01:07<00:54, 12.27it/s, loss=0.53, sparse_categorical_accuracy=0.808] \u001b[A\n",
            "Epoch 1/5:  61%|██████    | 1046/1718 [01:07<00:54, 12.27it/s, loss=0.53, sparse_categorical_accuracy=0.808]\u001b[A\n",
            "Epoch 1/5:  61%|██████    | 1048/1718 [01:07<00:55, 11.97it/s, loss=0.53, sparse_categorical_accuracy=0.808]\u001b[A\n",
            "Epoch 1/5:  61%|██████    | 1048/1718 [01:07<00:55, 11.97it/s, loss=0.53, sparse_categorical_accuracy=0.808]\u001b[A\n",
            "Epoch 1/5:  61%|██████    | 1048/1718 [01:07<00:55, 11.97it/s, loss=0.53, sparse_categorical_accuracy=0.808]\u001b[A\n",
            "Epoch 1/5:  61%|██████    | 1050/1718 [01:07<00:50, 13.17it/s, loss=0.53, sparse_categorical_accuracy=0.808]\u001b[A\n",
            "Epoch 1/5:  61%|██████    | 1050/1718 [01:07<00:50, 13.17it/s, loss=0.53, sparse_categorical_accuracy=0.808]\u001b[A\n",
            "Epoch 1/5:  61%|██████    | 1050/1718 [01:07<00:50, 13.17it/s, loss=0.53, sparse_categorical_accuracy=0.808]\u001b[A\n",
            "Epoch 1/5:  61%|██████    | 1052/1718 [01:07<00:46, 14.21it/s, loss=0.53, sparse_categorical_accuracy=0.808]\u001b[A\n",
            "Epoch 1/5:  61%|██████    | 1052/1718 [01:07<00:46, 14.21it/s, loss=0.53, sparse_categorical_accuracy=0.808]\u001b[A\n",
            "Epoch 1/5:  61%|██████    | 1052/1718 [01:07<00:46, 14.21it/s, loss=0.53, sparse_categorical_accuracy=0.808]\u001b[A\n",
            "Epoch 1/5:  61%|██████▏   | 1054/1718 [01:07<00:46, 14.28it/s, loss=0.53, sparse_categorical_accuracy=0.808]\u001b[A\n",
            "Epoch 1/5:  61%|██████▏   | 1054/1718 [01:07<00:46, 14.28it/s, loss=0.53, sparse_categorical_accuracy=0.808]\u001b[A\n",
            "Epoch 1/5:  61%|██████▏   | 1054/1718 [01:07<00:46, 14.28it/s, loss=0.53, sparse_categorical_accuracy=0.808]\u001b[A\n",
            "Epoch 1/5:  61%|██████▏   | 1056/1718 [01:07<00:46, 14.22it/s, loss=0.53, sparse_categorical_accuracy=0.808]\u001b[A\n",
            "Epoch 1/5:  61%|██████▏   | 1056/1718 [01:07<00:46, 14.22it/s, loss=0.53, sparse_categorical_accuracy=0.808]\u001b[A\n",
            "Epoch 1/5:  61%|██████▏   | 1056/1718 [01:08<00:46, 14.22it/s, loss=0.53, sparse_categorical_accuracy=0.808]\u001b[A\n",
            "Epoch 1/5:  62%|██████▏   | 1058/1718 [01:08<00:45, 14.37it/s, loss=0.53, sparse_categorical_accuracy=0.808]\u001b[A\n",
            "Epoch 1/5:  62%|██████▏   | 1058/1718 [01:08<00:45, 14.37it/s, loss=0.529, sparse_categorical_accuracy=0.808]\u001b[A\n",
            "Epoch 1/5:  62%|██████▏   | 1058/1718 [01:08<00:45, 14.37it/s, loss=0.529, sparse_categorical_accuracy=0.809]\u001b[A\n",
            "Epoch 1/5:  62%|██████▏   | 1060/1718 [01:08<00:44, 14.84it/s, loss=0.529, sparse_categorical_accuracy=0.809]\u001b[A\n",
            "Epoch 1/5:  62%|██████▏   | 1060/1718 [01:08<00:44, 14.84it/s, loss=0.529, sparse_categorical_accuracy=0.809]\u001b[A\n",
            "Epoch 1/5:  62%|██████▏   | 1060/1718 [01:08<00:44, 14.84it/s, loss=0.529, sparse_categorical_accuracy=0.809]\u001b[A\n",
            "Epoch 1/5:  62%|██████▏   | 1062/1718 [01:08<00:42, 15.44it/s, loss=0.529, sparse_categorical_accuracy=0.809]\u001b[A\n",
            "Epoch 1/5:  62%|██████▏   | 1062/1718 [01:08<00:42, 15.44it/s, loss=0.529, sparse_categorical_accuracy=0.808]\u001b[A\n",
            "Epoch 1/5:  62%|██████▏   | 1062/1718 [01:08<00:42, 15.44it/s, loss=0.529, sparse_categorical_accuracy=0.809]\u001b[A\n",
            "Epoch 1/5:  62%|██████▏   | 1064/1718 [01:08<00:41, 15.71it/s, loss=0.529, sparse_categorical_accuracy=0.809]\u001b[A\n",
            "Epoch 1/5:  62%|██████▏   | 1064/1718 [01:08<00:41, 15.71it/s, loss=0.529, sparse_categorical_accuracy=0.809]\u001b[A\n",
            "Epoch 1/5:  62%|██████▏   | 1064/1718 [01:08<00:41, 15.71it/s, loss=0.529, sparse_categorical_accuracy=0.809]\u001b[A\n",
            "Epoch 1/5:  62%|██████▏   | 1066/1718 [01:08<00:40, 16.26it/s, loss=0.529, sparse_categorical_accuracy=0.809]\u001b[A\n",
            "Epoch 1/5:  62%|██████▏   | 1066/1718 [01:08<00:40, 16.26it/s, loss=0.529, sparse_categorical_accuracy=0.809]\u001b[A\n",
            "Epoch 1/5:  62%|██████▏   | 1066/1718 [01:08<00:40, 16.26it/s, loss=0.528, sparse_categorical_accuracy=0.809]\u001b[A\n",
            "Epoch 1/5:  62%|██████▏   | 1068/1718 [01:08<00:39, 16.63it/s, loss=0.528, sparse_categorical_accuracy=0.809]\u001b[A\n",
            "Epoch 1/5:  62%|██████▏   | 1068/1718 [01:08<00:39, 16.63it/s, loss=0.528, sparse_categorical_accuracy=0.809]\u001b[A\n",
            "Epoch 1/5:  62%|██████▏   | 1068/1718 [01:08<00:39, 16.63it/s, loss=0.528, sparse_categorical_accuracy=0.809]\u001b[A\n",
            "Epoch 1/5:  62%|██████▏   | 1070/1718 [01:08<00:39, 16.52it/s, loss=0.528, sparse_categorical_accuracy=0.809]\u001b[A\n",
            "Epoch 1/5:  62%|██████▏   | 1070/1718 [01:08<00:39, 16.52it/s, loss=0.528, sparse_categorical_accuracy=0.809]\u001b[A\n",
            "Epoch 1/5:  62%|██████▏   | 1070/1718 [01:08<00:39, 16.52it/s, loss=0.528, sparse_categorical_accuracy=0.809]\u001b[A\n",
            "Epoch 1/5:  62%|██████▏   | 1072/1718 [01:08<00:40, 16.09it/s, loss=0.528, sparse_categorical_accuracy=0.809]\u001b[A\n",
            "Epoch 1/5:  62%|██████▏   | 1072/1718 [01:08<00:40, 16.09it/s, loss=0.528, sparse_categorical_accuracy=0.809]\u001b[A\n",
            "Epoch 1/5:  62%|██████▏   | 1072/1718 [01:09<00:40, 16.09it/s, loss=0.528, sparse_categorical_accuracy=0.809]\u001b[A\n",
            "Epoch 1/5:  63%|██████▎   | 1074/1718 [01:09<00:42, 15.15it/s, loss=0.528, sparse_categorical_accuracy=0.809]\u001b[A\n",
            "Epoch 1/5:  63%|██████▎   | 1074/1718 [01:09<00:42, 15.15it/s, loss=0.528, sparse_categorical_accuracy=0.809]\u001b[A\n",
            "Epoch 1/5:  63%|██████▎   | 1074/1718 [01:09<00:42, 15.15it/s, loss=0.528, sparse_categorical_accuracy=0.809]\u001b[A\n",
            "Epoch 1/5:  63%|██████▎   | 1076/1718 [01:09<00:40, 15.72it/s, loss=0.528, sparse_categorical_accuracy=0.809]\u001b[A\n",
            "Epoch 1/5:  63%|██████▎   | 1076/1718 [01:09<00:40, 15.72it/s, loss=0.527, sparse_categorical_accuracy=0.809]\u001b[A\n",
            "Epoch 1/5:  63%|██████▎   | 1076/1718 [01:09<00:40, 15.72it/s, loss=0.527, sparse_categorical_accuracy=0.809]\u001b[A\n",
            "Epoch 1/5:  63%|██████▎   | 1078/1718 [01:09<00:41, 15.58it/s, loss=0.527, sparse_categorical_accuracy=0.809]\u001b[A\n",
            "Epoch 1/5:  63%|██████▎   | 1078/1718 [01:09<00:41, 15.58it/s, loss=0.527, sparse_categorical_accuracy=0.809]\u001b[A\n",
            "Epoch 1/5:  63%|██████▎   | 1078/1718 [01:09<00:41, 15.58it/s, loss=0.527, sparse_categorical_accuracy=0.809]\u001b[A\n",
            "Epoch 1/5:  63%|██████▎   | 1080/1718 [01:09<00:39, 15.95it/s, loss=0.527, sparse_categorical_accuracy=0.809]\u001b[A\n",
            "Epoch 1/5:  63%|██████▎   | 1080/1718 [01:09<00:39, 15.95it/s, loss=0.527, sparse_categorical_accuracy=0.809]\u001b[A\n",
            "Epoch 1/5:  63%|██████▎   | 1080/1718 [01:09<00:39, 15.95it/s, loss=0.527, sparse_categorical_accuracy=0.809]\u001b[A\n",
            "Epoch 1/5:  63%|██████▎   | 1082/1718 [01:09<00:38, 16.41it/s, loss=0.527, sparse_categorical_accuracy=0.809]\u001b[A\n",
            "Epoch 1/5:  63%|██████▎   | 1082/1718 [01:09<00:38, 16.41it/s, loss=0.527, sparse_categorical_accuracy=0.809]\u001b[A\n",
            "Epoch 1/5:  63%|██████▎   | 1082/1718 [01:09<00:38, 16.41it/s, loss=0.526, sparse_categorical_accuracy=0.809]\u001b[A\n",
            "Epoch 1/5:  63%|██████▎   | 1084/1718 [01:09<00:38, 16.68it/s, loss=0.526, sparse_categorical_accuracy=0.809]\u001b[A\n",
            "Epoch 1/5:  63%|██████▎   | 1084/1718 [01:09<00:38, 16.68it/s, loss=0.526, sparse_categorical_accuracy=0.809]\u001b[A\n",
            "Epoch 1/5:  63%|██████▎   | 1084/1718 [01:09<00:38, 16.68it/s, loss=0.526, sparse_categorical_accuracy=0.809]\u001b[A\n",
            "Epoch 1/5:  63%|██████▎   | 1086/1718 [01:09<00:40, 15.79it/s, loss=0.526, sparse_categorical_accuracy=0.809]\u001b[A\n",
            "Epoch 1/5:  63%|██████▎   | 1086/1718 [01:09<00:40, 15.79it/s, loss=0.526, sparse_categorical_accuracy=0.809]\u001b[A\n",
            "Epoch 1/5:  63%|██████▎   | 1086/1718 [01:09<00:40, 15.79it/s, loss=0.526, sparse_categorical_accuracy=0.809]\u001b[A\n",
            "Epoch 1/5:  63%|██████▎   | 1088/1718 [01:09<00:41, 15.23it/s, loss=0.526, sparse_categorical_accuracy=0.809]\u001b[A\n",
            "Epoch 1/5:  63%|██████▎   | 1088/1718 [01:09<00:41, 15.23it/s, loss=0.526, sparse_categorical_accuracy=0.809]\u001b[A\n",
            "Epoch 1/5:  63%|██████▎   | 1088/1718 [01:10<00:41, 15.23it/s, loss=0.526, sparse_categorical_accuracy=0.809]\u001b[A\n",
            "Epoch 1/5:  63%|██████▎   | 1090/1718 [01:10<00:41, 15.26it/s, loss=0.526, sparse_categorical_accuracy=0.809]\u001b[A\n",
            "Epoch 1/5:  63%|██████▎   | 1090/1718 [01:10<00:41, 15.26it/s, loss=0.526, sparse_categorical_accuracy=0.809]\u001b[A\n",
            "Epoch 1/5:  63%|██████▎   | 1090/1718 [01:10<00:41, 15.26it/s, loss=0.526, sparse_categorical_accuracy=0.809]\u001b[A\n",
            "Epoch 1/5:  64%|██████▎   | 1092/1718 [01:10<00:39, 15.76it/s, loss=0.526, sparse_categorical_accuracy=0.809]\u001b[A\n",
            "Epoch 1/5:  64%|██████▎   | 1092/1718 [01:10<00:39, 15.76it/s, loss=0.526, sparse_categorical_accuracy=0.809]\u001b[A\n",
            "Epoch 1/5:  64%|██████▎   | 1092/1718 [01:10<00:39, 15.76it/s, loss=0.526, sparse_categorical_accuracy=0.809]\u001b[A\n",
            "Epoch 1/5:  64%|██████▎   | 1094/1718 [01:10<00:40, 15.38it/s, loss=0.526, sparse_categorical_accuracy=0.809]\u001b[A\n",
            "Epoch 1/5:  64%|██████▎   | 1094/1718 [01:10<00:40, 15.38it/s, loss=0.526, sparse_categorical_accuracy=0.809]\u001b[A\n",
            "Epoch 1/5:  64%|██████▎   | 1094/1718 [01:10<00:40, 15.38it/s, loss=0.526, sparse_categorical_accuracy=0.809]\u001b[A\n",
            "Epoch 1/5:  64%|██████▍   | 1096/1718 [01:10<00:39, 15.74it/s, loss=0.526, sparse_categorical_accuracy=0.809]\u001b[A\n",
            "Epoch 1/5:  64%|██████▍   | 1096/1718 [01:10<00:39, 15.74it/s, loss=0.526, sparse_categorical_accuracy=0.809]\u001b[A\n",
            "Epoch 1/5:  64%|██████▍   | 1096/1718 [01:10<00:39, 15.74it/s, loss=0.526, sparse_categorical_accuracy=0.809]\u001b[A\n",
            "Epoch 1/5:  64%|██████▍   | 1098/1718 [01:10<00:37, 16.32it/s, loss=0.526, sparse_categorical_accuracy=0.809]\u001b[A\n",
            "Epoch 1/5:  64%|██████▍   | 1098/1718 [01:10<00:37, 16.32it/s, loss=0.526, sparse_categorical_accuracy=0.809]\u001b[A\n",
            "Epoch 1/5:  64%|██████▍   | 1098/1718 [01:10<00:37, 16.32it/s, loss=0.526, sparse_categorical_accuracy=0.809]\u001b[A\n",
            "Epoch 1/5:  64%|██████▍   | 1100/1718 [01:10<00:36, 16.71it/s, loss=0.526, sparse_categorical_accuracy=0.809]\u001b[A\n",
            "Epoch 1/5:  64%|██████▍   | 1100/1718 [01:10<00:36, 16.71it/s, loss=0.526, sparse_categorical_accuracy=0.809]\u001b[A\n",
            "Epoch 1/5:  64%|██████▍   | 1100/1718 [01:10<00:36, 16.71it/s, loss=0.526, sparse_categorical_accuracy=0.809]\u001b[A\n",
            "Epoch 1/5:  64%|██████▍   | 1102/1718 [01:10<00:38, 16.16it/s, loss=0.526, sparse_categorical_accuracy=0.809]\u001b[A\n",
            "Epoch 1/5:  64%|██████▍   | 1102/1718 [01:10<00:38, 16.16it/s, loss=0.526, sparse_categorical_accuracy=0.809]\u001b[A\n",
            "Epoch 1/5:  64%|██████▍   | 1102/1718 [01:10<00:38, 16.16it/s, loss=0.526, sparse_categorical_accuracy=0.809]\u001b[A\n",
            "Epoch 1/5:  64%|██████▍   | 1104/1718 [01:10<00:40, 15.05it/s, loss=0.526, sparse_categorical_accuracy=0.809]\u001b[A\n",
            "Epoch 1/5:  64%|██████▍   | 1104/1718 [01:11<00:40, 15.05it/s, loss=0.526, sparse_categorical_accuracy=0.809]\u001b[A\n",
            "Epoch 1/5:  64%|██████▍   | 1104/1718 [01:11<00:40, 15.05it/s, loss=0.526, sparse_categorical_accuracy=0.809]\u001b[A\n",
            "Epoch 1/5:  64%|██████▍   | 1106/1718 [01:11<00:42, 14.53it/s, loss=0.526, sparse_categorical_accuracy=0.809]\u001b[A\n",
            "Epoch 1/5:  64%|██████▍   | 1106/1718 [01:11<00:42, 14.53it/s, loss=0.526, sparse_categorical_accuracy=0.809]\u001b[A\n",
            "Epoch 1/5:  64%|██████▍   | 1106/1718 [01:11<00:42, 14.53it/s, loss=0.526, sparse_categorical_accuracy=0.809]\u001b[A\n",
            "Epoch 1/5:  64%|██████▍   | 1108/1718 [01:11<00:40, 14.98it/s, loss=0.526, sparse_categorical_accuracy=0.809]\u001b[A\n",
            "Epoch 1/5:  64%|██████▍   | 1108/1718 [01:11<00:40, 14.98it/s, loss=0.526, sparse_categorical_accuracy=0.809]\u001b[A\n",
            "Epoch 1/5:  64%|██████▍   | 1108/1718 [01:11<00:40, 14.98it/s, loss=0.525, sparse_categorical_accuracy=0.81] \u001b[A\n",
            "Epoch 1/5:  65%|██████▍   | 1110/1718 [01:11<00:40, 14.83it/s, loss=0.525, sparse_categorical_accuracy=0.81]\u001b[A\n",
            "Epoch 1/5:  65%|██████▍   | 1110/1718 [01:11<00:40, 14.83it/s, loss=0.526, sparse_categorical_accuracy=0.81]\u001b[A\n",
            "Epoch 1/5:  65%|██████▍   | 1110/1718 [01:11<00:40, 14.83it/s, loss=0.525, sparse_categorical_accuracy=0.81]\u001b[A\n",
            "Epoch 1/5:  65%|██████▍   | 1112/1718 [01:11<00:39, 15.31it/s, loss=0.525, sparse_categorical_accuracy=0.81]\u001b[A\n",
            "Epoch 1/5:  65%|██████▍   | 1112/1718 [01:11<00:39, 15.31it/s, loss=0.526, sparse_categorical_accuracy=0.81]\u001b[A\n",
            "Epoch 1/5:  65%|██████▍   | 1112/1718 [01:11<00:39, 15.31it/s, loss=0.525, sparse_categorical_accuracy=0.81]\u001b[A\n",
            "Epoch 1/5:  65%|██████▍   | 1114/1718 [01:11<00:38, 15.62it/s, loss=0.525, sparse_categorical_accuracy=0.81]\u001b[A\n",
            "Epoch 1/5:  65%|██████▍   | 1114/1718 [01:11<00:38, 15.62it/s, loss=0.525, sparse_categorical_accuracy=0.81]\u001b[A\n",
            "Epoch 1/5:  65%|██████▍   | 1114/1718 [01:11<00:38, 15.62it/s, loss=0.525, sparse_categorical_accuracy=0.81]\u001b[A\n",
            "Epoch 1/5:  65%|██████▍   | 1116/1718 [01:11<00:38, 15.69it/s, loss=0.525, sparse_categorical_accuracy=0.81]\u001b[A\n",
            "Epoch 1/5:  65%|██████▍   | 1116/1718 [01:11<00:38, 15.69it/s, loss=0.525, sparse_categorical_accuracy=0.81]\u001b[A\n",
            "Epoch 1/5:  65%|██████▍   | 1116/1718 [01:11<00:38, 15.69it/s, loss=0.525, sparse_categorical_accuracy=0.81]\u001b[A\n",
            "Epoch 1/5:  65%|██████▌   | 1118/1718 [01:11<00:40, 14.92it/s, loss=0.525, sparse_categorical_accuracy=0.81]\u001b[A\n",
            "Epoch 1/5:  65%|██████▌   | 1118/1718 [01:11<00:40, 14.92it/s, loss=0.525, sparse_categorical_accuracy=0.81]\u001b[A\n",
            "Epoch 1/5:  65%|██████▌   | 1118/1718 [01:11<00:40, 14.92it/s, loss=0.525, sparse_categorical_accuracy=0.81]\u001b[A\n",
            "Epoch 1/5:  65%|██████▌   | 1120/1718 [01:11<00:40, 14.77it/s, loss=0.525, sparse_categorical_accuracy=0.81]\u001b[A\n",
            "Epoch 1/5:  65%|██████▌   | 1120/1718 [01:12<00:40, 14.77it/s, loss=0.525, sparse_categorical_accuracy=0.81]\u001b[A\n",
            "Epoch 1/5:  65%|██████▌   | 1120/1718 [01:12<00:40, 14.77it/s, loss=0.525, sparse_categorical_accuracy=0.81]\u001b[A\n",
            "Epoch 1/5:  65%|██████▌   | 1122/1718 [01:12<00:38, 15.30it/s, loss=0.525, sparse_categorical_accuracy=0.81]\u001b[A\n",
            "Epoch 1/5:  65%|██████▌   | 1122/1718 [01:12<00:38, 15.30it/s, loss=0.525, sparse_categorical_accuracy=0.81]\u001b[A\n",
            "Epoch 1/5:  65%|██████▌   | 1122/1718 [01:12<00:38, 15.30it/s, loss=0.525, sparse_categorical_accuracy=0.81]\u001b[A\n",
            "Epoch 1/5:  65%|██████▌   | 1124/1718 [01:12<00:37, 15.85it/s, loss=0.525, sparse_categorical_accuracy=0.81]\u001b[A\n",
            "Epoch 1/5:  65%|██████▌   | 1124/1718 [01:12<00:37, 15.85it/s, loss=0.525, sparse_categorical_accuracy=0.81]\u001b[A\n",
            "Epoch 1/5:  65%|██████▌   | 1124/1718 [01:12<00:37, 15.85it/s, loss=0.524, sparse_categorical_accuracy=0.81]\u001b[A\n",
            "Epoch 1/5:  66%|██████▌   | 1126/1718 [01:12<00:37, 15.65it/s, loss=0.524, sparse_categorical_accuracy=0.81]\u001b[A\n",
            "Epoch 1/5:  66%|██████▌   | 1126/1718 [01:12<00:37, 15.65it/s, loss=0.524, sparse_categorical_accuracy=0.81]\u001b[A\n",
            "Epoch 1/5:  66%|██████▌   | 1126/1718 [01:12<00:37, 15.65it/s, loss=0.524, sparse_categorical_accuracy=0.81]\u001b[A\n",
            "Epoch 1/5:  66%|██████▌   | 1128/1718 [01:12<00:37, 15.87it/s, loss=0.524, sparse_categorical_accuracy=0.81]\u001b[A\n",
            "Epoch 1/5:  66%|██████▌   | 1128/1718 [01:12<00:37, 15.87it/s, loss=0.524, sparse_categorical_accuracy=0.81]\u001b[A\n",
            "Epoch 1/5:  66%|██████▌   | 1128/1718 [01:12<00:37, 15.87it/s, loss=0.524, sparse_categorical_accuracy=0.81]\u001b[A\n",
            "Epoch 1/5:  66%|██████▌   | 1130/1718 [01:12<00:35, 16.41it/s, loss=0.524, sparse_categorical_accuracy=0.81]\u001b[A\n",
            "Epoch 1/5:  66%|██████▌   | 1130/1718 [01:12<00:35, 16.41it/s, loss=0.524, sparse_categorical_accuracy=0.81]\u001b[A\n",
            "Epoch 1/5:  66%|██████▌   | 1130/1718 [01:12<00:35, 16.41it/s, loss=0.524, sparse_categorical_accuracy=0.81]\u001b[A\n",
            "Epoch 1/5:  66%|██████▌   | 1132/1718 [01:12<00:36, 16.04it/s, loss=0.524, sparse_categorical_accuracy=0.81]\u001b[A\n",
            "Epoch 1/5:  66%|██████▌   | 1132/1718 [01:12<00:36, 16.04it/s, loss=0.524, sparse_categorical_accuracy=0.81]\u001b[A\n",
            "Epoch 1/5:  66%|██████▌   | 1132/1718 [01:12<00:36, 16.04it/s, loss=0.524, sparse_categorical_accuracy=0.81]\u001b[A\n",
            "Epoch 1/5:  66%|██████▌   | 1134/1718 [01:12<00:38, 15.27it/s, loss=0.524, sparse_categorical_accuracy=0.81]\u001b[A\n",
            "Epoch 1/5:  66%|██████▌   | 1134/1718 [01:12<00:38, 15.27it/s, loss=0.524, sparse_categorical_accuracy=0.81]\u001b[A\n",
            "Epoch 1/5:  66%|██████▌   | 1134/1718 [01:13<00:38, 15.27it/s, loss=0.524, sparse_categorical_accuracy=0.81]\u001b[A\n",
            "Epoch 1/5:  66%|██████▌   | 1136/1718 [01:13<00:39, 14.87it/s, loss=0.524, sparse_categorical_accuracy=0.81]\u001b[A\n",
            "Epoch 1/5:  66%|██████▌   | 1136/1718 [01:13<00:39, 14.87it/s, loss=0.524, sparse_categorical_accuracy=0.81]\u001b[A\n",
            "Epoch 1/5:  66%|██████▌   | 1136/1718 [01:13<00:39, 14.87it/s, loss=0.524, sparse_categorical_accuracy=0.81]\u001b[A\n",
            "Epoch 1/5:  66%|██████▌   | 1138/1718 [01:13<00:37, 15.40it/s, loss=0.524, sparse_categorical_accuracy=0.81]\u001b[A\n",
            "Epoch 1/5:  66%|██████▌   | 1138/1718 [01:13<00:37, 15.40it/s, loss=0.524, sparse_categorical_accuracy=0.81]\u001b[A\n",
            "Epoch 1/5:  66%|██████▌   | 1138/1718 [01:13<00:37, 15.40it/s, loss=0.523, sparse_categorical_accuracy=0.81]\u001b[A\n",
            "Epoch 1/5:  66%|██████▋   | 1140/1718 [01:13<00:36, 15.79it/s, loss=0.523, sparse_categorical_accuracy=0.81]\u001b[A\n",
            "Epoch 1/5:  66%|██████▋   | 1140/1718 [01:13<00:36, 15.79it/s, loss=0.523, sparse_categorical_accuracy=0.81]\u001b[A\n",
            "Epoch 1/5:  66%|██████▋   | 1140/1718 [01:13<00:36, 15.79it/s, loss=0.523, sparse_categorical_accuracy=0.81]\u001b[A\n",
            "Epoch 1/5:  66%|██████▋   | 1142/1718 [01:13<00:35, 16.03it/s, loss=0.523, sparse_categorical_accuracy=0.81]\u001b[A\n",
            "Epoch 1/5:  66%|██████▋   | 1142/1718 [01:13<00:35, 16.03it/s, loss=0.523, sparse_categorical_accuracy=0.811]\u001b[A\n",
            "Epoch 1/5:  66%|██████▋   | 1142/1718 [01:13<00:35, 16.03it/s, loss=0.523, sparse_categorical_accuracy=0.811]\u001b[A\n",
            "Epoch 1/5:  67%|██████▋   | 1144/1718 [01:13<00:36, 15.59it/s, loss=0.523, sparse_categorical_accuracy=0.811]\u001b[A\n",
            "Epoch 1/5:  67%|██████▋   | 1144/1718 [01:13<00:36, 15.59it/s, loss=0.523, sparse_categorical_accuracy=0.811]\u001b[A\n",
            "Epoch 1/5:  67%|██████▋   | 1144/1718 [01:13<00:36, 15.59it/s, loss=0.523, sparse_categorical_accuracy=0.811]\u001b[A\n",
            "Epoch 1/5:  67%|██████▋   | 1146/1718 [01:13<00:36, 15.83it/s, loss=0.523, sparse_categorical_accuracy=0.811]\u001b[A\n",
            "Epoch 1/5:  67%|██████▋   | 1146/1718 [01:13<00:36, 15.83it/s, loss=0.523, sparse_categorical_accuracy=0.811]\u001b[A\n",
            "Epoch 1/5:  67%|██████▋   | 1146/1718 [01:13<00:36, 15.83it/s, loss=0.523, sparse_categorical_accuracy=0.811]\u001b[A\n",
            "Epoch 1/5:  67%|██████▋   | 1148/1718 [01:13<00:38, 14.94it/s, loss=0.523, sparse_categorical_accuracy=0.811]\u001b[A\n",
            "Epoch 1/5:  67%|██████▋   | 1148/1718 [01:13<00:38, 14.94it/s, loss=0.523, sparse_categorical_accuracy=0.811]\u001b[A\n",
            "Epoch 1/5:  67%|██████▋   | 1148/1718 [01:13<00:38, 14.94it/s, loss=0.523, sparse_categorical_accuracy=0.811]\u001b[A\n",
            "Epoch 1/5:  67%|██████▋   | 1150/1718 [01:13<00:40, 14.10it/s, loss=0.523, sparse_categorical_accuracy=0.811]\u001b[A\n",
            "Epoch 1/5:  67%|██████▋   | 1150/1718 [01:14<00:40, 14.10it/s, loss=0.522, sparse_categorical_accuracy=0.811]\u001b[A\n",
            "Epoch 1/5:  67%|██████▋   | 1150/1718 [01:14<00:40, 14.10it/s, loss=0.522, sparse_categorical_accuracy=0.811]\u001b[A\n",
            "Epoch 1/5:  67%|██████▋   | 1152/1718 [01:14<00:39, 14.27it/s, loss=0.522, sparse_categorical_accuracy=0.811]\u001b[A\n",
            "Epoch 1/5:  67%|██████▋   | 1152/1718 [01:14<00:39, 14.27it/s, loss=0.522, sparse_categorical_accuracy=0.811]\u001b[A\n",
            "Epoch 1/5:  67%|██████▋   | 1152/1718 [01:14<00:39, 14.27it/s, loss=0.522, sparse_categorical_accuracy=0.811]\u001b[A\n",
            "Epoch 1/5:  67%|██████▋   | 1154/1718 [01:14<00:38, 14.84it/s, loss=0.522, sparse_categorical_accuracy=0.811]\u001b[A\n",
            "Epoch 1/5:  67%|██████▋   | 1154/1718 [01:14<00:38, 14.84it/s, loss=0.522, sparse_categorical_accuracy=0.811]\u001b[A\n",
            "Epoch 1/5:  67%|██████▋   | 1154/1718 [01:14<00:38, 14.84it/s, loss=0.522, sparse_categorical_accuracy=0.811]\u001b[A\n",
            "Epoch 1/5:  67%|██████▋   | 1156/1718 [01:14<00:36, 15.43it/s, loss=0.522, sparse_categorical_accuracy=0.811]\u001b[A\n",
            "Epoch 1/5:  67%|██████▋   | 1156/1718 [01:14<00:36, 15.43it/s, loss=0.521, sparse_categorical_accuracy=0.811]\u001b[A\n",
            "Epoch 1/5:  67%|██████▋   | 1156/1718 [01:14<00:36, 15.43it/s, loss=0.521, sparse_categorical_accuracy=0.811]\u001b[A\n",
            "Epoch 1/5:  67%|██████▋   | 1158/1718 [01:14<00:35, 15.80it/s, loss=0.521, sparse_categorical_accuracy=0.811]\u001b[A\n",
            "Epoch 1/5:  67%|██████▋   | 1158/1718 [01:14<00:35, 15.80it/s, loss=0.521, sparse_categorical_accuracy=0.811]\u001b[A\n",
            "Epoch 1/5:  67%|██████▋   | 1158/1718 [01:14<00:35, 15.80it/s, loss=0.521, sparse_categorical_accuracy=0.811]\u001b[A\n",
            "Epoch 1/5:  68%|██████▊   | 1160/1718 [01:14<00:35, 15.75it/s, loss=0.521, sparse_categorical_accuracy=0.811]\u001b[A\n",
            "Epoch 1/5:  68%|██████▊   | 1160/1718 [01:14<00:35, 15.75it/s, loss=0.522, sparse_categorical_accuracy=0.811]\u001b[A\n",
            "Epoch 1/5:  68%|██████▊   | 1160/1718 [01:14<00:35, 15.75it/s, loss=0.521, sparse_categorical_accuracy=0.811]\u001b[A\n",
            "Epoch 1/5:  68%|██████▊   | 1162/1718 [01:14<00:35, 15.67it/s, loss=0.521, sparse_categorical_accuracy=0.811]\u001b[A\n",
            "Epoch 1/5:  68%|██████▊   | 1162/1718 [01:14<00:35, 15.67it/s, loss=0.521, sparse_categorical_accuracy=0.811]\u001b[A\n",
            "Epoch 1/5:  68%|██████▊   | 1162/1718 [01:14<00:35, 15.67it/s, loss=0.521, sparse_categorical_accuracy=0.811]\u001b[A\n",
            "Epoch 1/5:  68%|██████▊   | 1164/1718 [01:14<00:36, 15.38it/s, loss=0.521, sparse_categorical_accuracy=0.811]\u001b[A\n",
            "Epoch 1/5:  68%|██████▊   | 1164/1718 [01:14<00:36, 15.38it/s, loss=0.521, sparse_categorical_accuracy=0.812]\u001b[A\n",
            "Epoch 1/5:  68%|██████▊   | 1164/1718 [01:14<00:36, 15.38it/s, loss=0.521, sparse_categorical_accuracy=0.812]\u001b[A\n",
            "Epoch 1/5:  68%|██████▊   | 1166/1718 [01:14<00:35, 15.58it/s, loss=0.521, sparse_categorical_accuracy=0.812]\u001b[A\n",
            "Epoch 1/5:  68%|██████▊   | 1166/1718 [01:15<00:35, 15.58it/s, loss=0.52, sparse_categorical_accuracy=0.812] \u001b[A\n",
            "Epoch 1/5:  68%|██████▊   | 1166/1718 [01:15<00:35, 15.58it/s, loss=0.52, sparse_categorical_accuracy=0.812]\u001b[A\n",
            "Epoch 1/5:  68%|██████▊   | 1168/1718 [01:15<00:35, 15.28it/s, loss=0.52, sparse_categorical_accuracy=0.812]\u001b[A\n",
            "Epoch 1/5:  68%|██████▊   | 1168/1718 [01:15<00:35, 15.28it/s, loss=0.52, sparse_categorical_accuracy=0.812]\u001b[A\n",
            "Epoch 1/5:  68%|██████▊   | 1168/1718 [01:15<00:35, 15.28it/s, loss=0.52, sparse_categorical_accuracy=0.812]\u001b[A\n",
            "Epoch 1/5:  68%|██████▊   | 1170/1718 [01:15<00:34, 15.83it/s, loss=0.52, sparse_categorical_accuracy=0.812]\u001b[A\n",
            "Epoch 1/5:  68%|██████▊   | 1170/1718 [01:15<00:34, 15.83it/s, loss=0.52, sparse_categorical_accuracy=0.812]\u001b[A\n",
            "Epoch 1/5:  68%|██████▊   | 1170/1718 [01:15<00:34, 15.83it/s, loss=0.52, sparse_categorical_accuracy=0.812]\u001b[A\n",
            "Epoch 1/5:  68%|██████▊   | 1172/1718 [01:15<00:34, 16.00it/s, loss=0.52, sparse_categorical_accuracy=0.812]\u001b[A\n",
            "Epoch 1/5:  68%|██████▊   | 1172/1718 [01:15<00:34, 16.00it/s, loss=0.52, sparse_categorical_accuracy=0.812]\u001b[A\n",
            "Epoch 1/5:  68%|██████▊   | 1172/1718 [01:15<00:34, 16.00it/s, loss=0.52, sparse_categorical_accuracy=0.812]\u001b[A\n",
            "Epoch 1/5:  68%|██████▊   | 1174/1718 [01:15<00:33, 16.08it/s, loss=0.52, sparse_categorical_accuracy=0.812]\u001b[A\n",
            "Epoch 1/5:  68%|██████▊   | 1174/1718 [01:15<00:33, 16.08it/s, loss=0.52, sparse_categorical_accuracy=0.812]\u001b[A\n",
            "Epoch 1/5:  68%|██████▊   | 1174/1718 [01:15<00:33, 16.08it/s, loss=0.52, sparse_categorical_accuracy=0.812]\u001b[A\n",
            "Epoch 1/5:  68%|██████▊   | 1176/1718 [01:15<00:34, 15.68it/s, loss=0.52, sparse_categorical_accuracy=0.812]\u001b[A\n",
            "Epoch 1/5:  68%|██████▊   | 1176/1718 [01:15<00:34, 15.68it/s, loss=0.52, sparse_categorical_accuracy=0.812]\u001b[A\n",
            "Epoch 1/5:  68%|██████▊   | 1176/1718 [01:15<00:34, 15.68it/s, loss=0.52, sparse_categorical_accuracy=0.812]\u001b[A\n",
            "Epoch 1/5:  69%|██████▊   | 1178/1718 [01:15<00:34, 15.55it/s, loss=0.52, sparse_categorical_accuracy=0.812]\u001b[A\n",
            "Epoch 1/5:  69%|██████▊   | 1178/1718 [01:15<00:34, 15.55it/s, loss=0.52, sparse_categorical_accuracy=0.812]\u001b[A\n",
            "Epoch 1/5:  69%|██████▊   | 1178/1718 [01:15<00:34, 15.55it/s, loss=0.52, sparse_categorical_accuracy=0.812]\u001b[A\n",
            "Epoch 1/5:  69%|██████▊   | 1180/1718 [01:15<00:35, 15.11it/s, loss=0.52, sparse_categorical_accuracy=0.812]\u001b[A\n",
            "Epoch 1/5:  69%|██████▊   | 1180/1718 [01:15<00:35, 15.11it/s, loss=0.519, sparse_categorical_accuracy=0.812]\u001b[A\n",
            "Epoch 1/5:  69%|██████▊   | 1180/1718 [01:15<00:35, 15.11it/s, loss=0.52, sparse_categorical_accuracy=0.812] \u001b[A\n",
            "Epoch 1/5:  69%|██████▉   | 1182/1718 [01:15<00:35, 14.89it/s, loss=0.52, sparse_categorical_accuracy=0.812]\u001b[A\n",
            "Epoch 1/5:  69%|██████▉   | 1182/1718 [01:16<00:35, 14.89it/s, loss=0.52, sparse_categorical_accuracy=0.812]\u001b[A\n",
            "Epoch 1/5:  69%|██████▉   | 1182/1718 [01:16<00:35, 14.89it/s, loss=0.52, sparse_categorical_accuracy=0.812]\u001b[A\n",
            "Epoch 1/5:  69%|██████▉   | 1184/1718 [01:16<00:34, 15.29it/s, loss=0.52, sparse_categorical_accuracy=0.812]\u001b[A\n",
            "Epoch 1/5:  69%|██████▉   | 1184/1718 [01:16<00:34, 15.29it/s, loss=0.519, sparse_categorical_accuracy=0.812]\u001b[A\n",
            "Epoch 1/5:  69%|██████▉   | 1184/1718 [01:16<00:34, 15.29it/s, loss=0.519, sparse_categorical_accuracy=0.812]\u001b[A\n",
            "Epoch 1/5:  69%|██████▉   | 1186/1718 [01:16<00:34, 15.31it/s, loss=0.519, sparse_categorical_accuracy=0.812]\u001b[A\n",
            "Epoch 1/5:  69%|██████▉   | 1186/1718 [01:16<00:34, 15.31it/s, loss=0.519, sparse_categorical_accuracy=0.812]\u001b[A\n",
            "Epoch 1/5:  69%|██████▉   | 1186/1718 [01:16<00:34, 15.31it/s, loss=0.519, sparse_categorical_accuracy=0.813]\u001b[A\n",
            "Epoch 1/5:  69%|██████▉   | 1188/1718 [01:16<00:34, 15.33it/s, loss=0.519, sparse_categorical_accuracy=0.813]\u001b[A\n",
            "Epoch 1/5:  69%|██████▉   | 1188/1718 [01:16<00:34, 15.33it/s, loss=0.519, sparse_categorical_accuracy=0.813]\u001b[A\n",
            "Epoch 1/5:  69%|██████▉   | 1188/1718 [01:16<00:34, 15.33it/s, loss=0.519, sparse_categorical_accuracy=0.813]\u001b[A\n",
            "Epoch 1/5:  69%|██████▉   | 1190/1718 [01:16<00:34, 15.35it/s, loss=0.519, sparse_categorical_accuracy=0.813]\u001b[A\n",
            "Epoch 1/5:  69%|██████▉   | 1190/1718 [01:16<00:34, 15.35it/s, loss=0.519, sparse_categorical_accuracy=0.813]\u001b[A\n",
            "Epoch 1/5:  69%|██████▉   | 1190/1718 [01:16<00:34, 15.35it/s, loss=0.519, sparse_categorical_accuracy=0.813]\u001b[A\n",
            "Epoch 1/5:  69%|██████▉   | 1192/1718 [01:16<00:37, 14.10it/s, loss=0.519, sparse_categorical_accuracy=0.813]\u001b[A\n",
            "Epoch 1/5:  69%|██████▉   | 1192/1718 [01:16<00:37, 14.10it/s, loss=0.519, sparse_categorical_accuracy=0.813]\u001b[A\n",
            "Epoch 1/5:  69%|██████▉   | 1192/1718 [01:16<00:37, 14.10it/s, loss=0.518, sparse_categorical_accuracy=0.813]\u001b[A\n",
            "Epoch 1/5:  69%|██████▉   | 1194/1718 [01:16<00:38, 13.73it/s, loss=0.518, sparse_categorical_accuracy=0.813]\u001b[A\n",
            "Epoch 1/5:  69%|██████▉   | 1194/1718 [01:16<00:38, 13.73it/s, loss=0.518, sparse_categorical_accuracy=0.813]\u001b[A\n",
            "Epoch 1/5:  69%|██████▉   | 1194/1718 [01:16<00:38, 13.73it/s, loss=0.518, sparse_categorical_accuracy=0.813]\u001b[A\n",
            "Epoch 1/5:  70%|██████▉   | 1196/1718 [01:16<00:38, 13.64it/s, loss=0.518, sparse_categorical_accuracy=0.813]\u001b[A\n",
            "Epoch 1/5:  70%|██████▉   | 1196/1718 [01:17<00:38, 13.64it/s, loss=0.518, sparse_categorical_accuracy=0.813]\u001b[A\n",
            "Epoch 1/5:  70%|██████▉   | 1196/1718 [01:17<00:38, 13.64it/s, loss=0.518, sparse_categorical_accuracy=0.813]\u001b[A\n",
            "Epoch 1/5:  70%|██████▉   | 1198/1718 [01:17<00:37, 14.04it/s, loss=0.518, sparse_categorical_accuracy=0.813]\u001b[A\n",
            "Epoch 1/5:  70%|██████▉   | 1198/1718 [01:17<00:37, 14.04it/s, loss=0.518, sparse_categorical_accuracy=0.813]\u001b[A\n",
            "Epoch 1/5:  70%|██████▉   | 1198/1718 [01:17<00:37, 14.04it/s, loss=0.518, sparse_categorical_accuracy=0.813]\u001b[A\n",
            "Epoch 1/5:  70%|██████▉   | 1200/1718 [01:17<00:34, 14.88it/s, loss=0.518, sparse_categorical_accuracy=0.813]\u001b[A\n",
            "Epoch 1/5:  70%|██████▉   | 1200/1718 [01:17<00:34, 14.88it/s, loss=0.518, sparse_categorical_accuracy=0.813]\u001b[A\n",
            "Epoch 1/5:  70%|██████▉   | 1200/1718 [01:17<00:34, 14.88it/s, loss=0.518, sparse_categorical_accuracy=0.813]\u001b[A\n",
            "Epoch 1/5:  70%|██████▉   | 1202/1718 [01:17<00:33, 15.25it/s, loss=0.518, sparse_categorical_accuracy=0.813]\u001b[A\n",
            "Epoch 1/5:  70%|██████▉   | 1202/1718 [01:17<00:33, 15.25it/s, loss=0.518, sparse_categorical_accuracy=0.813]\u001b[A\n",
            "Epoch 1/5:  70%|██████▉   | 1202/1718 [01:17<00:33, 15.25it/s, loss=0.518, sparse_categorical_accuracy=0.813]\u001b[A\n",
            "Epoch 1/5:  70%|███████   | 1204/1718 [01:17<00:33, 15.24it/s, loss=0.518, sparse_categorical_accuracy=0.813]\u001b[A\n",
            "Epoch 1/5:  70%|███████   | 1204/1718 [01:17<00:33, 15.24it/s, loss=0.518, sparse_categorical_accuracy=0.813]\u001b[A\n",
            "Epoch 1/5:  70%|███████   | 1204/1718 [01:17<00:33, 15.24it/s, loss=0.517, sparse_categorical_accuracy=0.813]\u001b[A\n",
            "Epoch 1/5:  70%|███████   | 1206/1718 [01:17<00:35, 14.46it/s, loss=0.517, sparse_categorical_accuracy=0.813]\u001b[A\n",
            "Epoch 1/5:  70%|███████   | 1206/1718 [01:17<00:35, 14.46it/s, loss=0.517, sparse_categorical_accuracy=0.813]\u001b[A\n",
            "Epoch 1/5:  70%|███████   | 1206/1718 [01:17<00:35, 14.46it/s, loss=0.517, sparse_categorical_accuracy=0.813]\u001b[A\n",
            "Epoch 1/5:  70%|███████   | 1208/1718 [01:17<00:38, 13.42it/s, loss=0.517, sparse_categorical_accuracy=0.813]\u001b[A\n",
            "Epoch 1/5:  70%|███████   | 1208/1718 [01:17<00:38, 13.42it/s, loss=0.517, sparse_categorical_accuracy=0.813]\u001b[A\n",
            "Epoch 1/5:  70%|███████   | 1208/1718 [01:17<00:38, 13.42it/s, loss=0.517, sparse_categorical_accuracy=0.813]\u001b[A\n",
            "Epoch 1/5:  70%|███████   | 1210/1718 [01:17<00:39, 12.74it/s, loss=0.517, sparse_categorical_accuracy=0.813]\u001b[A\n",
            "Epoch 1/5:  70%|███████   | 1210/1718 [01:18<00:39, 12.74it/s, loss=0.516, sparse_categorical_accuracy=0.813]\u001b[A\n",
            "Epoch 1/5:  70%|███████   | 1210/1718 [01:18<00:39, 12.74it/s, loss=0.516, sparse_categorical_accuracy=0.813]\u001b[A\n",
            "Epoch 1/5:  71%|███████   | 1212/1718 [01:18<00:41, 12.06it/s, loss=0.516, sparse_categorical_accuracy=0.813]\u001b[A\n",
            "Epoch 1/5:  71%|███████   | 1212/1718 [01:18<00:41, 12.06it/s, loss=0.516, sparse_categorical_accuracy=0.813]\u001b[A\n",
            "Epoch 1/5:  71%|███████   | 1212/1718 [01:18<00:41, 12.06it/s, loss=0.516, sparse_categorical_accuracy=0.813]\u001b[A\n",
            "Epoch 1/5:  71%|███████   | 1214/1718 [01:18<00:39, 12.87it/s, loss=0.516, sparse_categorical_accuracy=0.813]\u001b[A\n",
            "Epoch 1/5:  71%|███████   | 1214/1718 [01:18<00:39, 12.87it/s, loss=0.516, sparse_categorical_accuracy=0.814]\u001b[A\n",
            "Epoch 1/5:  71%|███████   | 1214/1718 [01:18<00:39, 12.87it/s, loss=0.516, sparse_categorical_accuracy=0.813]\u001b[A\n",
            "Epoch 1/5:  71%|███████   | 1216/1718 [01:18<00:36, 13.61it/s, loss=0.516, sparse_categorical_accuracy=0.813]\u001b[A\n",
            "Epoch 1/5:  71%|███████   | 1216/1718 [01:18<00:36, 13.61it/s, loss=0.516, sparse_categorical_accuracy=0.814]\u001b[A\n",
            "Epoch 1/5:  71%|███████   | 1216/1718 [01:18<00:36, 13.61it/s, loss=0.516, sparse_categorical_accuracy=0.814]\u001b[A\n",
            "Epoch 1/5:  71%|███████   | 1218/1718 [01:18<00:35, 13.91it/s, loss=0.516, sparse_categorical_accuracy=0.814]\u001b[A\n",
            "Epoch 1/5:  71%|███████   | 1218/1718 [01:18<00:35, 13.91it/s, loss=0.516, sparse_categorical_accuracy=0.814]\u001b[A\n",
            "Epoch 1/5:  71%|███████   | 1218/1718 [01:18<00:35, 13.91it/s, loss=0.516, sparse_categorical_accuracy=0.814]\u001b[A\n",
            "Epoch 1/5:  71%|███████   | 1220/1718 [01:18<00:36, 13.71it/s, loss=0.516, sparse_categorical_accuracy=0.814]\u001b[A\n",
            "Epoch 1/5:  71%|███████   | 1220/1718 [01:18<00:36, 13.71it/s, loss=0.516, sparse_categorical_accuracy=0.814]\u001b[A\n",
            "Epoch 1/5:  71%|███████   | 1220/1718 [01:18<00:36, 13.71it/s, loss=0.516, sparse_categorical_accuracy=0.814]\u001b[A\n",
            "Epoch 1/5:  71%|███████   | 1222/1718 [01:18<00:37, 13.11it/s, loss=0.516, sparse_categorical_accuracy=0.814]\u001b[A\n",
            "Epoch 1/5:  71%|███████   | 1222/1718 [01:18<00:37, 13.11it/s, loss=0.516, sparse_categorical_accuracy=0.814]\u001b[A\n",
            "Epoch 1/5:  71%|███████   | 1222/1718 [01:19<00:37, 13.11it/s, loss=0.516, sparse_categorical_accuracy=0.814]\u001b[A\n",
            "Epoch 1/5:  71%|███████   | 1224/1718 [01:19<00:39, 12.44it/s, loss=0.516, sparse_categorical_accuracy=0.814]\u001b[A\n",
            "Epoch 1/5:  71%|███████   | 1224/1718 [01:19<00:39, 12.44it/s, loss=0.516, sparse_categorical_accuracy=0.814]\u001b[A\n",
            "Epoch 1/5:  71%|███████   | 1224/1718 [01:19<00:39, 12.44it/s, loss=0.516, sparse_categorical_accuracy=0.814]\u001b[A\n",
            "Epoch 1/5:  71%|███████▏  | 1226/1718 [01:19<00:37, 13.12it/s, loss=0.516, sparse_categorical_accuracy=0.814]\u001b[A\n",
            "Epoch 1/5:  71%|███████▏  | 1226/1718 [01:19<00:37, 13.12it/s, loss=0.516, sparse_categorical_accuracy=0.814]\u001b[A\n",
            "Epoch 1/5:  71%|███████▏  | 1226/1718 [01:19<00:37, 13.12it/s, loss=0.516, sparse_categorical_accuracy=0.814]\u001b[A\n",
            "Epoch 1/5:  71%|███████▏  | 1228/1718 [01:19<00:34, 14.12it/s, loss=0.516, sparse_categorical_accuracy=0.814]\u001b[A\n",
            "Epoch 1/5:  71%|███████▏  | 1228/1718 [01:19<00:34, 14.12it/s, loss=0.516, sparse_categorical_accuracy=0.814]\u001b[A\n",
            "Epoch 1/5:  71%|███████▏  | 1228/1718 [01:19<00:34, 14.12it/s, loss=0.516, sparse_categorical_accuracy=0.814]\u001b[A\n",
            "Epoch 1/5:  72%|███████▏  | 1230/1718 [01:19<00:32, 14.87it/s, loss=0.516, sparse_categorical_accuracy=0.814]\u001b[A\n",
            "Epoch 1/5:  72%|███████▏  | 1230/1718 [01:19<00:32, 14.87it/s, loss=0.516, sparse_categorical_accuracy=0.814]\u001b[A\n",
            "Epoch 1/5:  72%|███████▏  | 1230/1718 [01:19<00:32, 14.87it/s, loss=0.516, sparse_categorical_accuracy=0.814]\u001b[A\n",
            "Epoch 1/5:  72%|███████▏  | 1232/1718 [01:19<00:33, 14.36it/s, loss=0.516, sparse_categorical_accuracy=0.814]\u001b[A\n",
            "Epoch 1/5:  72%|███████▏  | 1232/1718 [01:19<00:33, 14.36it/s, loss=0.515, sparse_categorical_accuracy=0.814]\u001b[A\n",
            "Epoch 1/5:  72%|███████▏  | 1232/1718 [01:19<00:33, 14.36it/s, loss=0.515, sparse_categorical_accuracy=0.814]\u001b[A\n",
            "Epoch 1/5:  72%|███████▏  | 1234/1718 [01:19<00:36, 13.21it/s, loss=0.515, sparse_categorical_accuracy=0.814]\u001b[A\n",
            "Epoch 1/5:  72%|███████▏  | 1234/1718 [01:19<00:36, 13.21it/s, loss=0.516, sparse_categorical_accuracy=0.814]\u001b[A\n",
            "Epoch 1/5:  72%|███████▏  | 1234/1718 [01:19<00:36, 13.21it/s, loss=0.515, sparse_categorical_accuracy=0.814]\u001b[A\n",
            "Epoch 1/5:  72%|███████▏  | 1236/1718 [01:19<00:38, 12.36it/s, loss=0.515, sparse_categorical_accuracy=0.814]\u001b[A\n",
            "Epoch 1/5:  72%|███████▏  | 1236/1718 [01:20<00:38, 12.36it/s, loss=0.515, sparse_categorical_accuracy=0.814]\u001b[A\n",
            "Epoch 1/5:  72%|███████▏  | 1236/1718 [01:20<00:38, 12.36it/s, loss=0.515, sparse_categorical_accuracy=0.814]\u001b[A\n",
            "Epoch 1/5:  72%|███████▏  | 1238/1718 [01:20<00:40, 11.99it/s, loss=0.515, sparse_categorical_accuracy=0.814]\u001b[A\n",
            "Epoch 1/5:  72%|███████▏  | 1238/1718 [01:20<00:40, 11.99it/s, loss=0.515, sparse_categorical_accuracy=0.814]\u001b[A\n",
            "Epoch 1/5:  72%|███████▏  | 1238/1718 [01:20<00:40, 11.99it/s, loss=0.515, sparse_categorical_accuracy=0.814]\u001b[A\n",
            "Epoch 1/5:  72%|███████▏  | 1240/1718 [01:20<00:41, 11.48it/s, loss=0.515, sparse_categorical_accuracy=0.814]\u001b[A\n",
            "Epoch 1/5:  72%|███████▏  | 1240/1718 [01:20<00:41, 11.48it/s, loss=0.516, sparse_categorical_accuracy=0.814]\u001b[A\n",
            "Epoch 1/5:  72%|███████▏  | 1240/1718 [01:20<00:41, 11.48it/s, loss=0.516, sparse_categorical_accuracy=0.814]\u001b[A\n",
            "Epoch 1/5:  72%|███████▏  | 1242/1718 [01:20<00:41, 11.49it/s, loss=0.516, sparse_categorical_accuracy=0.814]\u001b[A\n",
            "Epoch 1/5:  72%|███████▏  | 1242/1718 [01:20<00:41, 11.49it/s, loss=0.515, sparse_categorical_accuracy=0.814]\u001b[A\n",
            "Epoch 1/5:  72%|███████▏  | 1242/1718 [01:20<00:41, 11.49it/s, loss=0.515, sparse_categorical_accuracy=0.814]\u001b[A\n",
            "Epoch 1/5:  72%|███████▏  | 1244/1718 [01:20<00:41, 11.34it/s, loss=0.515, sparse_categorical_accuracy=0.814]\u001b[A\n",
            "Epoch 1/5:  72%|███████▏  | 1244/1718 [01:20<00:41, 11.34it/s, loss=0.515, sparse_categorical_accuracy=0.814]\u001b[A\n",
            "Epoch 1/5:  72%|███████▏  | 1244/1718 [01:20<00:41, 11.34it/s, loss=0.515, sparse_categorical_accuracy=0.814]\u001b[A\n",
            "Epoch 1/5:  73%|███████▎  | 1246/1718 [01:20<00:40, 11.71it/s, loss=0.515, sparse_categorical_accuracy=0.814]\u001b[A\n",
            "Epoch 1/5:  73%|███████▎  | 1246/1718 [01:20<00:40, 11.71it/s, loss=0.515, sparse_categorical_accuracy=0.814]\u001b[A\n",
            "Epoch 1/5:  73%|███████▎  | 1246/1718 [01:20<00:40, 11.71it/s, loss=0.515, sparse_categorical_accuracy=0.814]\u001b[A\n",
            "Epoch 1/5:  73%|███████▎  | 1248/1718 [01:20<00:38, 12.18it/s, loss=0.515, sparse_categorical_accuracy=0.814]\u001b[A\n",
            "Epoch 1/5:  73%|███████▎  | 1248/1718 [01:21<00:38, 12.18it/s, loss=0.515, sparse_categorical_accuracy=0.814]\u001b[A\n",
            "Epoch 1/5:  73%|███████▎  | 1248/1718 [01:21<00:38, 12.18it/s, loss=0.515, sparse_categorical_accuracy=0.814]\u001b[A\n",
            "Epoch 1/5:  73%|███████▎  | 1250/1718 [01:21<00:36, 12.86it/s, loss=0.515, sparse_categorical_accuracy=0.814]\u001b[A\n",
            "Epoch 1/5:  73%|███████▎  | 1250/1718 [01:21<00:36, 12.86it/s, loss=0.515, sparse_categorical_accuracy=0.814]\u001b[A\n",
            "Epoch 1/5:  73%|███████▎  | 1250/1718 [01:21<00:36, 12.86it/s, loss=0.515, sparse_categorical_accuracy=0.814]\u001b[A\n",
            "Epoch 1/5:  73%|███████▎  | 1252/1718 [01:21<00:33, 13.73it/s, loss=0.515, sparse_categorical_accuracy=0.814]\u001b[A\n",
            "Epoch 1/5:  73%|███████▎  | 1252/1718 [01:21<00:33, 13.73it/s, loss=0.515, sparse_categorical_accuracy=0.814]\u001b[A\n",
            "Epoch 1/5:  73%|███████▎  | 1252/1718 [01:21<00:33, 13.73it/s, loss=0.515, sparse_categorical_accuracy=0.814]\u001b[A\n",
            "Epoch 1/5:  73%|███████▎  | 1254/1718 [01:21<00:32, 14.15it/s, loss=0.515, sparse_categorical_accuracy=0.814]\u001b[A\n",
            "Epoch 1/5:  73%|███████▎  | 1254/1718 [01:21<00:32, 14.15it/s, loss=0.515, sparse_categorical_accuracy=0.814]\u001b[A\n",
            "Epoch 1/5:  73%|███████▎  | 1254/1718 [01:21<00:32, 14.15it/s, loss=0.515, sparse_categorical_accuracy=0.814]\u001b[A\n",
            "Epoch 1/5:  73%|███████▎  | 1256/1718 [01:21<00:31, 14.88it/s, loss=0.515, sparse_categorical_accuracy=0.814]\u001b[A\n",
            "Epoch 1/5:  73%|███████▎  | 1256/1718 [01:21<00:31, 14.88it/s, loss=0.515, sparse_categorical_accuracy=0.814]\u001b[A\n",
            "Epoch 1/5:  73%|███████▎  | 1256/1718 [01:21<00:31, 14.88it/s, loss=0.514, sparse_categorical_accuracy=0.814]\u001b[A\n",
            "Epoch 1/5:  73%|███████▎  | 1258/1718 [01:21<00:29, 15.40it/s, loss=0.514, sparse_categorical_accuracy=0.814]\u001b[A\n",
            "Epoch 1/5:  73%|███████▎  | 1258/1718 [01:21<00:29, 15.40it/s, loss=0.515, sparse_categorical_accuracy=0.814]\u001b[A\n",
            "Epoch 1/5:  73%|███████▎  | 1258/1718 [01:21<00:29, 15.40it/s, loss=0.515, sparse_categorical_accuracy=0.814]\u001b[A\n",
            "Epoch 1/5:  73%|███████▎  | 1260/1718 [01:21<00:32, 14.11it/s, loss=0.515, sparse_categorical_accuracy=0.814]\u001b[A\n",
            "Epoch 1/5:  73%|███████▎  | 1260/1718 [01:21<00:32, 14.11it/s, loss=0.515, sparse_categorical_accuracy=0.814]\u001b[A\n",
            "Epoch 1/5:  73%|███████▎  | 1260/1718 [01:21<00:32, 14.11it/s, loss=0.515, sparse_categorical_accuracy=0.814]\u001b[A\n",
            "Epoch 1/5:  73%|███████▎  | 1262/1718 [01:21<00:36, 12.42it/s, loss=0.515, sparse_categorical_accuracy=0.814]\u001b[A\n",
            "Epoch 1/5:  73%|███████▎  | 1262/1718 [01:22<00:36, 12.42it/s, loss=0.515, sparse_categorical_accuracy=0.814]\u001b[A\n",
            "Epoch 1/5:  73%|███████▎  | 1262/1718 [01:22<00:36, 12.42it/s, loss=0.515, sparse_categorical_accuracy=0.814]\u001b[A\n",
            "Epoch 1/5:  74%|███████▎  | 1264/1718 [01:22<00:38, 11.69it/s, loss=0.515, sparse_categorical_accuracy=0.814]\u001b[A\n",
            "Epoch 1/5:  74%|███████▎  | 1264/1718 [01:22<00:38, 11.69it/s, loss=0.514, sparse_categorical_accuracy=0.814]\u001b[A\n",
            "Epoch 1/5:  74%|███████▎  | 1264/1718 [01:22<00:38, 11.69it/s, loss=0.514, sparse_categorical_accuracy=0.815]\u001b[A\n",
            "Epoch 1/5:  74%|███████▎  | 1266/1718 [01:22<00:38, 11.73it/s, loss=0.514, sparse_categorical_accuracy=0.815]\u001b[A\n",
            "Epoch 1/5:  74%|███████▎  | 1266/1718 [01:22<00:38, 11.73it/s, loss=0.514, sparse_categorical_accuracy=0.815]\u001b[A\n",
            "Epoch 1/5:  74%|███████▎  | 1266/1718 [01:22<00:38, 11.73it/s, loss=0.514, sparse_categorical_accuracy=0.815]\u001b[A\n",
            "Epoch 1/5:  74%|███████▍  | 1268/1718 [01:22<00:37, 11.85it/s, loss=0.514, sparse_categorical_accuracy=0.815]\u001b[A\n",
            "Epoch 1/5:  74%|███████▍  | 1268/1718 [01:22<00:37, 11.85it/s, loss=0.514, sparse_categorical_accuracy=0.815]\u001b[A\n",
            "Epoch 1/5:  74%|███████▍  | 1268/1718 [01:22<00:37, 11.85it/s, loss=0.513, sparse_categorical_accuracy=0.815]\u001b[A\n",
            "Epoch 1/5:  74%|███████▍  | 1270/1718 [01:22<00:34, 13.00it/s, loss=0.513, sparse_categorical_accuracy=0.815]\u001b[A\n",
            "Epoch 1/5:  74%|███████▍  | 1270/1718 [01:22<00:34, 13.00it/s, loss=0.513, sparse_categorical_accuracy=0.815]\u001b[A\n",
            "Epoch 1/5:  74%|███████▍  | 1270/1718 [01:22<00:34, 13.00it/s, loss=0.513, sparse_categorical_accuracy=0.815]\u001b[A\n",
            "Epoch 1/5:  74%|███████▍  | 1272/1718 [01:22<00:33, 13.31it/s, loss=0.513, sparse_categorical_accuracy=0.815]\u001b[A\n",
            "Epoch 1/5:  74%|███████▍  | 1272/1718 [01:22<00:33, 13.31it/s, loss=0.514, sparse_categorical_accuracy=0.815]\u001b[A\n",
            "Epoch 1/5:  74%|███████▍  | 1272/1718 [01:22<00:33, 13.31it/s, loss=0.513, sparse_categorical_accuracy=0.815]\u001b[A\n",
            "Epoch 1/5:  74%|███████▍  | 1274/1718 [01:22<00:33, 13.36it/s, loss=0.513, sparse_categorical_accuracy=0.815]\u001b[A\n",
            "Epoch 1/5:  74%|███████▍  | 1274/1718 [01:22<00:33, 13.36it/s, loss=0.514, sparse_categorical_accuracy=0.815]\u001b[A\n",
            "Epoch 1/5:  74%|███████▍  | 1274/1718 [01:23<00:33, 13.36it/s, loss=0.513, sparse_categorical_accuracy=0.815]\u001b[A\n",
            "Epoch 1/5:  74%|███████▍  | 1276/1718 [01:23<00:32, 13.42it/s, loss=0.513, sparse_categorical_accuracy=0.815]\u001b[A\n",
            "Epoch 1/5:  74%|███████▍  | 1276/1718 [01:23<00:32, 13.42it/s, loss=0.514, sparse_categorical_accuracy=0.815]\u001b[A\n",
            "Epoch 1/5:  74%|███████▍  | 1276/1718 [01:23<00:32, 13.42it/s, loss=0.514, sparse_categorical_accuracy=0.815]\u001b[A\n",
            "Epoch 1/5:  74%|███████▍  | 1278/1718 [01:23<00:31, 14.17it/s, loss=0.514, sparse_categorical_accuracy=0.815]\u001b[A\n",
            "Epoch 1/5:  74%|███████▍  | 1278/1718 [01:23<00:31, 14.17it/s, loss=0.514, sparse_categorical_accuracy=0.815]\u001b[A\n",
            "Epoch 1/5:  74%|███████▍  | 1278/1718 [01:23<00:31, 14.17it/s, loss=0.513, sparse_categorical_accuracy=0.815]\u001b[A\n",
            "Epoch 1/5:  75%|███████▍  | 1280/1718 [01:23<00:29, 14.94it/s, loss=0.513, sparse_categorical_accuracy=0.815]\u001b[A\n",
            "Epoch 1/5:  75%|███████▍  | 1280/1718 [01:23<00:29, 14.94it/s, loss=0.514, sparse_categorical_accuracy=0.815]\u001b[A\n",
            "Epoch 1/5:  75%|███████▍  | 1280/1718 [01:23<00:29, 14.94it/s, loss=0.514, sparse_categorical_accuracy=0.815]\u001b[A\n",
            "Epoch 1/5:  75%|███████▍  | 1282/1718 [01:23<00:28, 15.43it/s, loss=0.514, sparse_categorical_accuracy=0.815]\u001b[A\n",
            "Epoch 1/5:  75%|███████▍  | 1282/1718 [01:23<00:28, 15.43it/s, loss=0.513, sparse_categorical_accuracy=0.815]\u001b[A\n",
            "Epoch 1/5:  75%|███████▍  | 1282/1718 [01:23<00:28, 15.43it/s, loss=0.513, sparse_categorical_accuracy=0.815]\u001b[A\n",
            "Epoch 1/5:  75%|███████▍  | 1284/1718 [01:23<00:27, 15.95it/s, loss=0.513, sparse_categorical_accuracy=0.815]\u001b[A\n",
            "Epoch 1/5:  75%|███████▍  | 1284/1718 [01:23<00:27, 15.95it/s, loss=0.513, sparse_categorical_accuracy=0.815]\u001b[A\n",
            "Epoch 1/5:  75%|███████▍  | 1284/1718 [01:23<00:27, 15.95it/s, loss=0.513, sparse_categorical_accuracy=0.815]\u001b[A\n",
            "Epoch 1/5:  75%|███████▍  | 1286/1718 [01:23<00:26, 16.12it/s, loss=0.513, sparse_categorical_accuracy=0.815]\u001b[A\n",
            "Epoch 1/5:  75%|███████▍  | 1286/1718 [01:23<00:26, 16.12it/s, loss=0.513, sparse_categorical_accuracy=0.815]\u001b[A\n",
            "Epoch 1/5:  75%|███████▍  | 1286/1718 [01:23<00:26, 16.12it/s, loss=0.513, sparse_categorical_accuracy=0.815]\u001b[A\n",
            "Epoch 1/5:  75%|███████▍  | 1288/1718 [01:23<00:29, 14.72it/s, loss=0.513, sparse_categorical_accuracy=0.815]\u001b[A\n",
            "Epoch 1/5:  75%|███████▍  | 1288/1718 [01:23<00:29, 14.72it/s, loss=0.513, sparse_categorical_accuracy=0.815]\u001b[A\n",
            "Epoch 1/5:  75%|███████▍  | 1288/1718 [01:23<00:29, 14.72it/s, loss=0.513, sparse_categorical_accuracy=0.815]\u001b[A\n",
            "Epoch 1/5:  75%|███████▌  | 1290/1718 [01:23<00:30, 13.86it/s, loss=0.513, sparse_categorical_accuracy=0.815]\u001b[A\n",
            "Epoch 1/5:  75%|███████▌  | 1290/1718 [01:24<00:30, 13.86it/s, loss=0.513, sparse_categorical_accuracy=0.815]\u001b[A\n",
            "Epoch 1/5:  75%|███████▌  | 1290/1718 [01:24<00:30, 13.86it/s, loss=0.513, sparse_categorical_accuracy=0.815]\u001b[A\n",
            "Epoch 1/5:  75%|███████▌  | 1292/1718 [01:24<00:32, 13.13it/s, loss=0.513, sparse_categorical_accuracy=0.815]\u001b[A\n",
            "Epoch 1/5:  75%|███████▌  | 1292/1718 [01:24<00:32, 13.13it/s, loss=0.513, sparse_categorical_accuracy=0.815]\u001b[A\n",
            "Epoch 1/5:  75%|███████▌  | 1292/1718 [01:24<00:32, 13.13it/s, loss=0.513, sparse_categorical_accuracy=0.815]\u001b[A\n",
            "Epoch 1/5:  75%|███████▌  | 1294/1718 [01:24<00:33, 12.60it/s, loss=0.513, sparse_categorical_accuracy=0.815]\u001b[A\n",
            "Epoch 1/5:  75%|███████▌  | 1294/1718 [01:24<00:33, 12.60it/s, loss=0.513, sparse_categorical_accuracy=0.815]\u001b[A\n",
            "Epoch 1/5:  75%|███████▌  | 1294/1718 [01:24<00:33, 12.60it/s, loss=0.513, sparse_categorical_accuracy=0.815]\u001b[A\n",
            "Epoch 1/5:  75%|███████▌  | 1296/1718 [01:24<00:33, 12.69it/s, loss=0.513, sparse_categorical_accuracy=0.815]\u001b[A\n",
            "Epoch 1/5:  75%|███████▌  | 1296/1718 [01:24<00:33, 12.69it/s, loss=0.513, sparse_categorical_accuracy=0.815]\u001b[A\n",
            "Epoch 1/5:  75%|███████▌  | 1296/1718 [01:24<00:33, 12.69it/s, loss=0.513, sparse_categorical_accuracy=0.815]\u001b[A\n",
            "Epoch 1/5:  76%|███████▌  | 1298/1718 [01:24<00:34, 12.17it/s, loss=0.513, sparse_categorical_accuracy=0.815]\u001b[A\n",
            "Epoch 1/5:  76%|███████▌  | 1298/1718 [01:24<00:34, 12.17it/s, loss=0.513, sparse_categorical_accuracy=0.815]\u001b[A\n",
            "Epoch 1/5:  76%|███████▌  | 1298/1718 [01:24<00:34, 12.17it/s, loss=0.513, sparse_categorical_accuracy=0.815]\u001b[A\n",
            "Epoch 1/5:  76%|███████▌  | 1300/1718 [01:24<00:34, 12.06it/s, loss=0.513, sparse_categorical_accuracy=0.815]\u001b[A\n",
            "Epoch 1/5:  76%|███████▌  | 1300/1718 [01:24<00:34, 12.06it/s, loss=0.513, sparse_categorical_accuracy=0.815]\u001b[A\n",
            "Epoch 1/5:  76%|███████▌  | 1300/1718 [01:24<00:34, 12.06it/s, loss=0.512, sparse_categorical_accuracy=0.815]\u001b[A\n",
            "Epoch 1/5:  76%|███████▌  | 1302/1718 [01:24<00:32, 12.78it/s, loss=0.512, sparse_categorical_accuracy=0.815]\u001b[A\n",
            "Epoch 1/5:  76%|███████▌  | 1302/1718 [01:25<00:32, 12.78it/s, loss=0.512, sparse_categorical_accuracy=0.815]\u001b[A\n",
            "Epoch 1/5:  76%|███████▌  | 1302/1718 [01:25<00:32, 12.78it/s, loss=0.512, sparse_categorical_accuracy=0.815]\u001b[A\n",
            "Epoch 1/5:  76%|███████▌  | 1304/1718 [01:25<00:30, 13.52it/s, loss=0.512, sparse_categorical_accuracy=0.815]\u001b[A\n",
            "Epoch 1/5:  76%|███████▌  | 1304/1718 [01:25<00:30, 13.52it/s, loss=0.512, sparse_categorical_accuracy=0.815]\u001b[A\n",
            "Epoch 1/5:  76%|███████▌  | 1304/1718 [01:25<00:30, 13.52it/s, loss=0.512, sparse_categorical_accuracy=0.815]\u001b[A\n",
            "Epoch 1/5:  76%|███████▌  | 1306/1718 [01:25<00:29, 13.89it/s, loss=0.512, sparse_categorical_accuracy=0.815]\u001b[A\n",
            "Epoch 1/5:  76%|███████▌  | 1306/1718 [01:25<00:29, 13.89it/s, loss=0.512, sparse_categorical_accuracy=0.815]\u001b[A\n",
            "Epoch 1/5:  76%|███████▌  | 1306/1718 [01:25<00:29, 13.89it/s, loss=0.512, sparse_categorical_accuracy=0.815]\u001b[A\n",
            "Epoch 1/5:  76%|███████▌  | 1308/1718 [01:25<00:29, 14.09it/s, loss=0.512, sparse_categorical_accuracy=0.815]\u001b[A\n",
            "Epoch 1/5:  76%|███████▌  | 1308/1718 [01:25<00:29, 14.09it/s, loss=0.511, sparse_categorical_accuracy=0.815]\u001b[A\n",
            "Epoch 1/5:  76%|███████▌  | 1308/1718 [01:25<00:29, 14.09it/s, loss=0.511, sparse_categorical_accuracy=0.815]\u001b[A\n",
            "Epoch 1/5:  76%|███████▋  | 1310/1718 [01:25<00:28, 14.50it/s, loss=0.511, sparse_categorical_accuracy=0.815]\u001b[A\n",
            "Epoch 1/5:  76%|███████▋  | 1310/1718 [01:25<00:28, 14.50it/s, loss=0.511, sparse_categorical_accuracy=0.815]\u001b[A\n",
            "Epoch 1/5:  76%|███████▋  | 1310/1718 [01:25<00:28, 14.50it/s, loss=0.511, sparse_categorical_accuracy=0.815]\u001b[A\n",
            "Epoch 1/5:  76%|███████▋  | 1312/1718 [01:25<00:27, 14.57it/s, loss=0.511, sparse_categorical_accuracy=0.815]\u001b[A\n",
            "Epoch 1/5:  76%|███████▋  | 1312/1718 [01:25<00:27, 14.57it/s, loss=0.511, sparse_categorical_accuracy=0.816]\u001b[A\n",
            "Epoch 1/5:  76%|███████▋  | 1312/1718 [01:25<00:27, 14.57it/s, loss=0.511, sparse_categorical_accuracy=0.815]\u001b[A\n",
            "Epoch 1/5:  76%|███████▋  | 1314/1718 [01:25<00:28, 14.27it/s, loss=0.511, sparse_categorical_accuracy=0.815]\u001b[A\n",
            "Epoch 1/5:  76%|███████▋  | 1314/1718 [01:25<00:28, 14.27it/s, loss=0.511, sparse_categorical_accuracy=0.815]\u001b[A\n",
            "Epoch 1/5:  76%|███████▋  | 1314/1718 [01:25<00:28, 14.27it/s, loss=0.511, sparse_categorical_accuracy=0.816]\u001b[A\n",
            "Epoch 1/5:  77%|███████▋  | 1316/1718 [01:25<00:30, 13.15it/s, loss=0.511, sparse_categorical_accuracy=0.816]\u001b[A\n",
            "Epoch 1/5:  77%|███████▋  | 1316/1718 [01:26<00:30, 13.15it/s, loss=0.511, sparse_categorical_accuracy=0.816]\u001b[A\n",
            "Epoch 1/5:  77%|███████▋  | 1316/1718 [01:26<00:30, 13.15it/s, loss=0.511, sparse_categorical_accuracy=0.816]\u001b[A\n",
            "Epoch 1/5:  77%|███████▋  | 1318/1718 [01:26<00:30, 13.02it/s, loss=0.511, sparse_categorical_accuracy=0.816]\u001b[A\n",
            "Epoch 1/5:  77%|███████▋  | 1318/1718 [01:26<00:30, 13.02it/s, loss=0.511, sparse_categorical_accuracy=0.816]\u001b[A\n",
            "Epoch 1/5:  77%|███████▋  | 1318/1718 [01:26<00:30, 13.02it/s, loss=0.511, sparse_categorical_accuracy=0.816]\u001b[A\n",
            "Epoch 1/5:  77%|███████▋  | 1320/1718 [01:26<00:30, 12.94it/s, loss=0.511, sparse_categorical_accuracy=0.816]\u001b[A\n",
            "Epoch 1/5:  77%|███████▋  | 1320/1718 [01:26<00:30, 12.94it/s, loss=0.51, sparse_categorical_accuracy=0.816] \u001b[A\n",
            "Epoch 1/5:  77%|███████▋  | 1320/1718 [01:26<00:30, 12.94it/s, loss=0.51, sparse_categorical_accuracy=0.816]\u001b[A\n",
            "Epoch 1/5:  77%|███████▋  | 1322/1718 [01:26<00:30, 12.99it/s, loss=0.51, sparse_categorical_accuracy=0.816]\u001b[A\n",
            "Epoch 1/5:  77%|███████▋  | 1322/1718 [01:26<00:30, 12.99it/s, loss=0.511, sparse_categorical_accuracy=0.816]\u001b[A\n",
            "Epoch 1/5:  77%|███████▋  | 1322/1718 [01:26<00:30, 12.99it/s, loss=0.51, sparse_categorical_accuracy=0.816] \u001b[A\n",
            "Epoch 1/5:  77%|███████▋  | 1324/1718 [01:26<00:29, 13.24it/s, loss=0.51, sparse_categorical_accuracy=0.816]\u001b[A\n",
            "Epoch 1/5:  77%|███████▋  | 1324/1718 [01:26<00:29, 13.24it/s, loss=0.511, sparse_categorical_accuracy=0.816]\u001b[A\n",
            "Epoch 1/5:  77%|███████▋  | 1324/1718 [01:26<00:29, 13.24it/s, loss=0.51, sparse_categorical_accuracy=0.816] \u001b[A\n",
            "Epoch 1/5:  77%|███████▋  | 1326/1718 [01:26<00:28, 13.77it/s, loss=0.51, sparse_categorical_accuracy=0.816]\u001b[A\n",
            "Epoch 1/5:  77%|███████▋  | 1326/1718 [01:26<00:28, 13.77it/s, loss=0.51, sparse_categorical_accuracy=0.816]\u001b[A\n",
            "Epoch 1/5:  77%|███████▋  | 1326/1718 [01:26<00:28, 13.77it/s, loss=0.51, sparse_categorical_accuracy=0.816]\u001b[A\n",
            "Epoch 1/5:  77%|███████▋  | 1328/1718 [01:26<00:28, 13.83it/s, loss=0.51, sparse_categorical_accuracy=0.816]\u001b[A\n",
            "Epoch 1/5:  77%|███████▋  | 1328/1718 [01:26<00:28, 13.83it/s, loss=0.51, sparse_categorical_accuracy=0.816]\u001b[A\n",
            "Epoch 1/5:  77%|███████▋  | 1328/1718 [01:26<00:28, 13.83it/s, loss=0.51, sparse_categorical_accuracy=0.816]\u001b[A\n",
            "Epoch 1/5:  77%|███████▋  | 1330/1718 [01:26<00:26, 14.55it/s, loss=0.51, sparse_categorical_accuracy=0.816]\u001b[A\n",
            "Epoch 1/5:  77%|███████▋  | 1330/1718 [01:27<00:26, 14.55it/s, loss=0.51, sparse_categorical_accuracy=0.816]\u001b[A\n",
            "Epoch 1/5:  77%|███████▋  | 1330/1718 [01:27<00:26, 14.55it/s, loss=0.51, sparse_categorical_accuracy=0.816]\u001b[A\n",
            "Epoch 1/5:  78%|███████▊  | 1332/1718 [01:27<00:25, 14.98it/s, loss=0.51, sparse_categorical_accuracy=0.816]\u001b[A\n",
            "Epoch 1/5:  78%|███████▊  | 1332/1718 [01:27<00:25, 14.98it/s, loss=0.509, sparse_categorical_accuracy=0.816]\u001b[A\n",
            "Epoch 1/5:  78%|███████▊  | 1332/1718 [01:27<00:25, 14.98it/s, loss=0.509, sparse_categorical_accuracy=0.816]\u001b[A\n",
            "Epoch 1/5:  78%|███████▊  | 1334/1718 [01:27<00:24, 15.44it/s, loss=0.509, sparse_categorical_accuracy=0.816]\u001b[A\n",
            "Epoch 1/5:  78%|███████▊  | 1334/1718 [01:27<00:24, 15.44it/s, loss=0.509, sparse_categorical_accuracy=0.816]\u001b[A\n",
            "Epoch 1/5:  78%|███████▊  | 1334/1718 [01:27<00:24, 15.44it/s, loss=0.509, sparse_categorical_accuracy=0.816]\u001b[A\n",
            "Epoch 1/5:  78%|███████▊  | 1336/1718 [01:27<00:24, 15.32it/s, loss=0.509, sparse_categorical_accuracy=0.816]\u001b[A\n",
            "Epoch 1/5:  78%|███████▊  | 1336/1718 [01:27<00:24, 15.32it/s, loss=0.509, sparse_categorical_accuracy=0.816]\u001b[A\n",
            "Epoch 1/5:  78%|███████▊  | 1336/1718 [01:27<00:24, 15.32it/s, loss=0.509, sparse_categorical_accuracy=0.816]\u001b[A\n",
            "Epoch 1/5:  78%|███████▊  | 1338/1718 [01:27<00:23, 15.88it/s, loss=0.509, sparse_categorical_accuracy=0.816]\u001b[A\n",
            "Epoch 1/5:  78%|███████▊  | 1338/1718 [01:27<00:23, 15.88it/s, loss=0.509, sparse_categorical_accuracy=0.816]\u001b[A\n",
            "Epoch 1/5:  78%|███████▊  | 1338/1718 [01:27<00:23, 15.88it/s, loss=0.509, sparse_categorical_accuracy=0.816]\u001b[A\n",
            "Epoch 1/5:  78%|███████▊  | 1340/1718 [01:27<00:23, 16.03it/s, loss=0.509, sparse_categorical_accuracy=0.816]\u001b[A\n",
            "Epoch 1/5:  78%|███████▊  | 1340/1718 [01:27<00:23, 16.03it/s, loss=0.509, sparse_categorical_accuracy=0.816]\u001b[A\n",
            "Epoch 1/5:  78%|███████▊  | 1340/1718 [01:27<00:23, 16.03it/s, loss=0.509, sparse_categorical_accuracy=0.816]\u001b[A\n",
            "Epoch 1/5:  78%|███████▊  | 1342/1718 [01:27<00:23, 15.81it/s, loss=0.509, sparse_categorical_accuracy=0.816]\u001b[A\n",
            "Epoch 1/5:  78%|███████▊  | 1342/1718 [01:27<00:23, 15.81it/s, loss=0.509, sparse_categorical_accuracy=0.816]\u001b[A\n",
            "Epoch 1/5:  78%|███████▊  | 1342/1718 [01:27<00:23, 15.81it/s, loss=0.509, sparse_categorical_accuracy=0.816]\u001b[A\n",
            "Epoch 1/5:  78%|███████▊  | 1344/1718 [01:27<00:25, 14.77it/s, loss=0.509, sparse_categorical_accuracy=0.816]\u001b[A\n",
            "Epoch 1/5:  78%|███████▊  | 1344/1718 [01:27<00:25, 14.77it/s, loss=0.509, sparse_categorical_accuracy=0.816]\u001b[A\n",
            "Epoch 1/5:  78%|███████▊  | 1344/1718 [01:28<00:25, 14.77it/s, loss=0.509, sparse_categorical_accuracy=0.816]\u001b[A\n",
            "Epoch 1/5:  78%|███████▊  | 1346/1718 [01:28<00:27, 13.73it/s, loss=0.509, sparse_categorical_accuracy=0.816]\u001b[A\n",
            "Epoch 1/5:  78%|███████▊  | 1346/1718 [01:28<00:27, 13.73it/s, loss=0.509, sparse_categorical_accuracy=0.816]\u001b[A\n",
            "Epoch 1/5:  78%|███████▊  | 1346/1718 [01:28<00:27, 13.73it/s, loss=0.509, sparse_categorical_accuracy=0.816]\u001b[A\n",
            "Epoch 1/5:  78%|███████▊  | 1348/1718 [01:28<00:27, 13.38it/s, loss=0.509, sparse_categorical_accuracy=0.816]\u001b[A\n",
            "Epoch 1/5:  78%|███████▊  | 1348/1718 [01:28<00:27, 13.38it/s, loss=0.508, sparse_categorical_accuracy=0.816]\u001b[A\n",
            "Epoch 1/5:  78%|███████▊  | 1348/1718 [01:28<00:27, 13.38it/s, loss=0.508, sparse_categorical_accuracy=0.816]\u001b[A\n",
            "Epoch 1/5:  79%|███████▊  | 1350/1718 [01:28<00:28, 12.96it/s, loss=0.508, sparse_categorical_accuracy=0.816]\u001b[A\n",
            "Epoch 1/5:  79%|███████▊  | 1350/1718 [01:28<00:28, 12.96it/s, loss=0.508, sparse_categorical_accuracy=0.817]\u001b[A\n",
            "Epoch 1/5:  79%|███████▊  | 1350/1718 [01:28<00:28, 12.96it/s, loss=0.508, sparse_categorical_accuracy=0.816]\u001b[A\n",
            "Epoch 1/5:  79%|███████▊  | 1352/1718 [01:28<00:27, 13.38it/s, loss=0.508, sparse_categorical_accuracy=0.816]\u001b[A\n",
            "Epoch 1/5:  79%|███████▊  | 1352/1718 [01:28<00:27, 13.38it/s, loss=0.508, sparse_categorical_accuracy=0.816]\u001b[A\n",
            "Epoch 1/5:  79%|███████▊  | 1352/1718 [01:28<00:27, 13.38it/s, loss=0.508, sparse_categorical_accuracy=0.817]\u001b[A\n",
            "Epoch 1/5:  79%|███████▉  | 1354/1718 [01:28<00:25, 14.22it/s, loss=0.508, sparse_categorical_accuracy=0.817]\u001b[A\n",
            "Epoch 1/5:  79%|███████▉  | 1354/1718 [01:28<00:25, 14.22it/s, loss=0.508, sparse_categorical_accuracy=0.817]\u001b[A\n",
            "Epoch 1/5:  79%|███████▉  | 1354/1718 [01:28<00:25, 14.22it/s, loss=0.508, sparse_categorical_accuracy=0.817]\u001b[A\n",
            "Epoch 1/5:  79%|███████▉  | 1356/1718 [01:28<00:26, 13.54it/s, loss=0.508, sparse_categorical_accuracy=0.817]\u001b[A\n",
            "Epoch 1/5:  79%|███████▉  | 1356/1718 [01:28<00:26, 13.54it/s, loss=0.508, sparse_categorical_accuracy=0.817]\u001b[A\n",
            "Epoch 1/5:  79%|███████▉  | 1356/1718 [01:28<00:26, 13.54it/s, loss=0.508, sparse_categorical_accuracy=0.817]\u001b[A\n",
            "Epoch 1/5:  79%|███████▉  | 1358/1718 [01:28<00:25, 14.19it/s, loss=0.508, sparse_categorical_accuracy=0.817]\u001b[A\n",
            "Epoch 1/5:  79%|███████▉  | 1358/1718 [01:28<00:25, 14.19it/s, loss=0.508, sparse_categorical_accuracy=0.816]\u001b[A\n",
            "Epoch 1/5:  79%|███████▉  | 1358/1718 [01:29<00:25, 14.19it/s, loss=0.508, sparse_categorical_accuracy=0.816]\u001b[A\n",
            "Epoch 1/5:  79%|███████▉  | 1360/1718 [01:29<00:24, 14.71it/s, loss=0.508, sparse_categorical_accuracy=0.816]\u001b[A\n",
            "Epoch 1/5:  79%|███████▉  | 1360/1718 [01:29<00:24, 14.71it/s, loss=0.508, sparse_categorical_accuracy=0.816]\u001b[A\n",
            "Epoch 1/5:  79%|███████▉  | 1360/1718 [01:29<00:24, 14.71it/s, loss=0.508, sparse_categorical_accuracy=0.816]\u001b[A\n",
            "Epoch 1/5:  79%|███████▉  | 1362/1718 [01:29<00:24, 14.42it/s, loss=0.508, sparse_categorical_accuracy=0.816]\u001b[A\n",
            "Epoch 1/5:  79%|███████▉  | 1362/1718 [01:29<00:24, 14.42it/s, loss=0.508, sparse_categorical_accuracy=0.817]\u001b[A\n",
            "Epoch 1/5:  79%|███████▉  | 1362/1718 [01:29<00:24, 14.42it/s, loss=0.508, sparse_categorical_accuracy=0.817]\u001b[A\n",
            "Epoch 1/5:  79%|███████▉  | 1364/1718 [01:29<00:24, 14.41it/s, loss=0.508, sparse_categorical_accuracy=0.817]\u001b[A\n",
            "Epoch 1/5:  79%|███████▉  | 1364/1718 [01:29<00:24, 14.41it/s, loss=0.508, sparse_categorical_accuracy=0.817]\u001b[A\n",
            "Epoch 1/5:  79%|███████▉  | 1364/1718 [01:29<00:24, 14.41it/s, loss=0.508, sparse_categorical_accuracy=0.817]\u001b[A\n",
            "Epoch 1/5:  80%|███████▉  | 1366/1718 [01:29<00:25, 14.00it/s, loss=0.508, sparse_categorical_accuracy=0.817]\u001b[A\n",
            "Epoch 1/5:  80%|███████▉  | 1366/1718 [01:29<00:25, 14.00it/s, loss=0.508, sparse_categorical_accuracy=0.817]\u001b[A\n",
            "Epoch 1/5:  80%|███████▉  | 1366/1718 [01:29<00:25, 14.00it/s, loss=0.508, sparse_categorical_accuracy=0.817]\u001b[A\n",
            "Epoch 1/5:  80%|███████▉  | 1368/1718 [01:29<00:24, 14.56it/s, loss=0.508, sparse_categorical_accuracy=0.817]\u001b[A\n",
            "Epoch 1/5:  80%|███████▉  | 1368/1718 [01:29<00:24, 14.56it/s, loss=0.508, sparse_categorical_accuracy=0.817]\u001b[A\n",
            "Epoch 1/5:  80%|███████▉  | 1368/1718 [01:29<00:24, 14.56it/s, loss=0.507, sparse_categorical_accuracy=0.817]\u001b[A\n",
            "Epoch 1/5:  80%|███████▉  | 1370/1718 [01:29<00:25, 13.48it/s, loss=0.507, sparse_categorical_accuracy=0.817]\u001b[A\n",
            "Epoch 1/5:  80%|███████▉  | 1370/1718 [01:29<00:25, 13.48it/s, loss=0.507, sparse_categorical_accuracy=0.817]\u001b[A\n",
            "Epoch 1/5:  80%|███████▉  | 1370/1718 [01:29<00:25, 13.48it/s, loss=0.507, sparse_categorical_accuracy=0.817]\u001b[A\n",
            "Epoch 1/5:  80%|███████▉  | 1372/1718 [01:29<00:25, 13.51it/s, loss=0.507, sparse_categorical_accuracy=0.817]\u001b[A\n",
            "Epoch 1/5:  80%|███████▉  | 1372/1718 [01:30<00:25, 13.51it/s, loss=0.507, sparse_categorical_accuracy=0.817]\u001b[A\n",
            "Epoch 1/5:  80%|███████▉  | 1372/1718 [01:30<00:25, 13.51it/s, loss=0.507, sparse_categorical_accuracy=0.817]\u001b[A\n",
            "Epoch 1/5:  80%|███████▉  | 1374/1718 [01:30<00:25, 13.59it/s, loss=0.507, sparse_categorical_accuracy=0.817]\u001b[A\n",
            "Epoch 1/5:  80%|███████▉  | 1374/1718 [01:30<00:25, 13.59it/s, loss=0.507, sparse_categorical_accuracy=0.817]\u001b[A\n",
            "Epoch 1/5:  80%|███████▉  | 1374/1718 [01:30<00:25, 13.59it/s, loss=0.507, sparse_categorical_accuracy=0.817]\u001b[A\n",
            "Epoch 1/5:  80%|████████  | 1376/1718 [01:30<00:25, 13.55it/s, loss=0.507, sparse_categorical_accuracy=0.817]\u001b[A\n",
            "Epoch 1/5:  80%|████████  | 1376/1718 [01:30<00:25, 13.55it/s, loss=0.507, sparse_categorical_accuracy=0.817]\u001b[A\n",
            "Epoch 1/5:  80%|████████  | 1376/1718 [01:30<00:25, 13.55it/s, loss=0.507, sparse_categorical_accuracy=0.817]\u001b[A\n",
            "Epoch 1/5:  80%|████████  | 1378/1718 [01:30<00:24, 13.84it/s, loss=0.507, sparse_categorical_accuracy=0.817]\u001b[A\n",
            "Epoch 1/5:  80%|████████  | 1378/1718 [01:30<00:24, 13.84it/s, loss=0.507, sparse_categorical_accuracy=0.817]\u001b[A\n",
            "Epoch 1/5:  80%|████████  | 1378/1718 [01:30<00:24, 13.84it/s, loss=0.507, sparse_categorical_accuracy=0.817]\u001b[A\n",
            "Epoch 1/5:  80%|████████  | 1380/1718 [01:30<00:23, 14.23it/s, loss=0.507, sparse_categorical_accuracy=0.817]\u001b[A\n",
            "Epoch 1/5:  80%|████████  | 1380/1718 [01:30<00:23, 14.23it/s, loss=0.507, sparse_categorical_accuracy=0.817]\u001b[A\n",
            "Epoch 1/5:  80%|████████  | 1380/1718 [01:30<00:23, 14.23it/s, loss=0.507, sparse_categorical_accuracy=0.817]\u001b[A\n",
            "Epoch 1/5:  80%|████████  | 1382/1718 [01:30<00:22, 14.75it/s, loss=0.507, sparse_categorical_accuracy=0.817]\u001b[A\n",
            "Epoch 1/5:  80%|████████  | 1382/1718 [01:30<00:22, 14.75it/s, loss=0.507, sparse_categorical_accuracy=0.817]\u001b[A\n",
            "Epoch 1/5:  80%|████████  | 1382/1718 [01:30<00:22, 14.75it/s, loss=0.507, sparse_categorical_accuracy=0.817]\u001b[A\n",
            "Epoch 1/5:  81%|████████  | 1384/1718 [01:30<00:23, 14.20it/s, loss=0.507, sparse_categorical_accuracy=0.817]\u001b[A\n",
            "Epoch 1/5:  81%|████████  | 1384/1718 [01:30<00:23, 14.20it/s, loss=0.507, sparse_categorical_accuracy=0.817]\u001b[A\n",
            "Epoch 1/5:  81%|████████  | 1384/1718 [01:30<00:23, 14.20it/s, loss=0.507, sparse_categorical_accuracy=0.817]\u001b[A\n",
            "Epoch 1/5:  81%|████████  | 1386/1718 [01:30<00:23, 14.25it/s, loss=0.507, sparse_categorical_accuracy=0.817]\u001b[A\n",
            "Epoch 1/5:  81%|████████  | 1386/1718 [01:30<00:23, 14.25it/s, loss=0.507, sparse_categorical_accuracy=0.817]\u001b[A\n",
            "Epoch 1/5:  81%|████████  | 1386/1718 [01:31<00:23, 14.25it/s, loss=0.507, sparse_categorical_accuracy=0.817]\u001b[A\n",
            "Epoch 1/5:  81%|████████  | 1388/1718 [01:31<00:22, 14.43it/s, loss=0.507, sparse_categorical_accuracy=0.817]\u001b[A\n",
            "Epoch 1/5:  81%|████████  | 1388/1718 [01:31<00:22, 14.43it/s, loss=0.507, sparse_categorical_accuracy=0.817]\u001b[A\n",
            "Epoch 1/5:  81%|████████  | 1388/1718 [01:31<00:22, 14.43it/s, loss=0.506, sparse_categorical_accuracy=0.817]\u001b[A\n",
            "Epoch 1/5:  81%|████████  | 1390/1718 [01:31<00:22, 14.58it/s, loss=0.506, sparse_categorical_accuracy=0.817]\u001b[A\n",
            "Epoch 1/5:  81%|████████  | 1390/1718 [01:31<00:22, 14.58it/s, loss=0.507, sparse_categorical_accuracy=0.817]\u001b[A\n",
            "Epoch 1/5:  81%|████████  | 1390/1718 [01:31<00:22, 14.58it/s, loss=0.506, sparse_categorical_accuracy=0.817]\u001b[A\n",
            "Epoch 1/5:  81%|████████  | 1392/1718 [01:31<00:21, 14.89it/s, loss=0.506, sparse_categorical_accuracy=0.817]\u001b[A\n",
            "Epoch 1/5:  81%|████████  | 1392/1718 [01:31<00:21, 14.89it/s, loss=0.506, sparse_categorical_accuracy=0.817]\u001b[A\n",
            "Epoch 1/5:  81%|████████  | 1392/1718 [01:31<00:21, 14.89it/s, loss=0.506, sparse_categorical_accuracy=0.817]\u001b[A\n",
            "Epoch 1/5:  81%|████████  | 1394/1718 [01:31<00:21, 15.22it/s, loss=0.506, sparse_categorical_accuracy=0.817]\u001b[A\n",
            "Epoch 1/5:  81%|████████  | 1394/1718 [01:31<00:21, 15.22it/s, loss=0.506, sparse_categorical_accuracy=0.817]\u001b[A\n",
            "Epoch 1/5:  81%|████████  | 1394/1718 [01:31<00:21, 15.22it/s, loss=0.506, sparse_categorical_accuracy=0.817]\u001b[A\n",
            "Epoch 1/5:  81%|████████▏ | 1396/1718 [01:31<00:21, 15.31it/s, loss=0.506, sparse_categorical_accuracy=0.817]\u001b[A\n",
            "Epoch 1/5:  81%|████████▏ | 1396/1718 [01:31<00:21, 15.31it/s, loss=0.506, sparse_categorical_accuracy=0.817]\u001b[A\n",
            "Epoch 1/5:  81%|████████▏ | 1396/1718 [01:31<00:21, 15.31it/s, loss=0.506, sparse_categorical_accuracy=0.817]\u001b[A\n",
            "Epoch 1/5:  81%|████████▏ | 1398/1718 [01:31<00:21, 14.81it/s, loss=0.506, sparse_categorical_accuracy=0.817]\u001b[A\n",
            "Epoch 1/5:  81%|████████▏ | 1398/1718 [01:31<00:21, 14.81it/s, loss=0.506, sparse_categorical_accuracy=0.817]\u001b[A\n",
            "Epoch 1/5:  81%|████████▏ | 1398/1718 [01:31<00:21, 14.81it/s, loss=0.505, sparse_categorical_accuracy=0.817]\u001b[A\n",
            "Epoch 1/5:  81%|████████▏ | 1400/1718 [01:31<00:23, 13.44it/s, loss=0.505, sparse_categorical_accuracy=0.817]\u001b[A\n",
            "Epoch 1/5:  81%|████████▏ | 1400/1718 [01:31<00:23, 13.44it/s, loss=0.506, sparse_categorical_accuracy=0.817]\u001b[A\n",
            "Epoch 1/5:  81%|████████▏ | 1400/1718 [01:32<00:23, 13.44it/s, loss=0.506, sparse_categorical_accuracy=0.817]\u001b[A\n",
            "Epoch 1/5:  82%|████████▏ | 1402/1718 [01:32<00:23, 13.49it/s, loss=0.506, sparse_categorical_accuracy=0.817]\u001b[A\n",
            "Epoch 1/5:  82%|████████▏ | 1402/1718 [01:32<00:23, 13.49it/s, loss=0.506, sparse_categorical_accuracy=0.817]\u001b[A\n",
            "Epoch 1/5:  82%|████████▏ | 1402/1718 [01:32<00:23, 13.49it/s, loss=0.506, sparse_categorical_accuracy=0.817]\u001b[A\n",
            "Epoch 1/5:  82%|████████▏ | 1404/1718 [01:32<00:23, 13.23it/s, loss=0.506, sparse_categorical_accuracy=0.817]\u001b[A\n",
            "Epoch 1/5:  82%|████████▏ | 1404/1718 [01:32<00:23, 13.23it/s, loss=0.505, sparse_categorical_accuracy=0.817]\u001b[A\n",
            "Epoch 1/5:  82%|████████▏ | 1404/1718 [01:32<00:23, 13.23it/s, loss=0.506, sparse_categorical_accuracy=0.817]\u001b[A\n",
            "Epoch 1/5:  82%|████████▏ | 1406/1718 [01:32<00:22, 13.61it/s, loss=0.506, sparse_categorical_accuracy=0.817]\u001b[A\n",
            "Epoch 1/5:  82%|████████▏ | 1406/1718 [01:32<00:22, 13.61it/s, loss=0.505, sparse_categorical_accuracy=0.817]\u001b[A\n",
            "Epoch 1/5:  82%|████████▏ | 1406/1718 [01:32<00:22, 13.61it/s, loss=0.505, sparse_categorical_accuracy=0.817]\u001b[A\n",
            "Epoch 1/5:  82%|████████▏ | 1408/1718 [01:32<00:21, 14.11it/s, loss=0.505, sparse_categorical_accuracy=0.817]\u001b[A\n",
            "Epoch 1/5:  82%|████████▏ | 1408/1718 [01:32<00:21, 14.11it/s, loss=0.505, sparse_categorical_accuracy=0.817]\u001b[A\n",
            "Epoch 1/5:  82%|████████▏ | 1408/1718 [01:32<00:21, 14.11it/s, loss=0.505, sparse_categorical_accuracy=0.817]\u001b[A\n",
            "Epoch 1/5:  82%|████████▏ | 1410/1718 [01:32<00:21, 14.38it/s, loss=0.505, sparse_categorical_accuracy=0.817]\u001b[A\n",
            "Epoch 1/5:  82%|████████▏ | 1410/1718 [01:32<00:21, 14.38it/s, loss=0.505, sparse_categorical_accuracy=0.818]\u001b[A\n",
            "Epoch 1/5:  82%|████████▏ | 1410/1718 [01:32<00:21, 14.38it/s, loss=0.505, sparse_categorical_accuracy=0.818]\u001b[A\n",
            "Epoch 1/5:  82%|████████▏ | 1412/1718 [01:32<00:21, 14.25it/s, loss=0.505, sparse_categorical_accuracy=0.818]\u001b[A\n",
            "Epoch 1/5:  82%|████████▏ | 1412/1718 [01:32<00:21, 14.25it/s, loss=0.505, sparse_categorical_accuracy=0.818]\u001b[A\n",
            "Epoch 1/5:  82%|████████▏ | 1412/1718 [01:32<00:21, 14.25it/s, loss=0.505, sparse_categorical_accuracy=0.818]\u001b[A\n",
            "Epoch 1/5:  82%|████████▏ | 1414/1718 [01:32<00:22, 13.73it/s, loss=0.505, sparse_categorical_accuracy=0.818]\u001b[A\n",
            "Epoch 1/5:  82%|████████▏ | 1414/1718 [01:32<00:22, 13.73it/s, loss=0.505, sparse_categorical_accuracy=0.818]\u001b[A\n",
            "Epoch 1/5:  82%|████████▏ | 1414/1718 [01:33<00:22, 13.73it/s, loss=0.505, sparse_categorical_accuracy=0.818]\u001b[A\n",
            "Epoch 1/5:  82%|████████▏ | 1416/1718 [01:33<00:23, 12.96it/s, loss=0.505, sparse_categorical_accuracy=0.818]\u001b[A\n",
            "Epoch 1/5:  82%|████████▏ | 1416/1718 [01:33<00:23, 12.96it/s, loss=0.504, sparse_categorical_accuracy=0.818]\u001b[A\n",
            "Epoch 1/5:  82%|████████▏ | 1416/1718 [01:33<00:23, 12.96it/s, loss=0.504, sparse_categorical_accuracy=0.818]\u001b[A\n",
            "Epoch 1/5:  83%|████████▎ | 1418/1718 [01:33<00:23, 12.83it/s, loss=0.504, sparse_categorical_accuracy=0.818]\u001b[A\n",
            "Epoch 1/5:  83%|████████▎ | 1418/1718 [01:33<00:23, 12.83it/s, loss=0.504, sparse_categorical_accuracy=0.818]\u001b[A\n",
            "Epoch 1/5:  83%|████████▎ | 1418/1718 [01:33<00:23, 12.83it/s, loss=0.504, sparse_categorical_accuracy=0.818]\u001b[A\n",
            "Epoch 1/5:  83%|████████▎ | 1420/1718 [01:33<00:23, 12.73it/s, loss=0.504, sparse_categorical_accuracy=0.818]\u001b[A\n",
            "Epoch 1/5:  83%|████████▎ | 1420/1718 [01:33<00:23, 12.73it/s, loss=0.504, sparse_categorical_accuracy=0.818]\u001b[A\n",
            "Epoch 1/5:  83%|████████▎ | 1420/1718 [01:33<00:23, 12.73it/s, loss=0.504, sparse_categorical_accuracy=0.818]\u001b[A\n",
            "Epoch 1/5:  83%|████████▎ | 1422/1718 [01:33<00:23, 12.44it/s, loss=0.504, sparse_categorical_accuracy=0.818]\u001b[A\n",
            "Epoch 1/5:  83%|████████▎ | 1422/1718 [01:33<00:23, 12.44it/s, loss=0.504, sparse_categorical_accuracy=0.818]\u001b[A\n",
            "Epoch 1/5:  83%|████████▎ | 1422/1718 [01:33<00:23, 12.44it/s, loss=0.504, sparse_categorical_accuracy=0.818]\u001b[A\n",
            "Epoch 1/5:  83%|████████▎ | 1424/1718 [01:33<00:24, 12.03it/s, loss=0.504, sparse_categorical_accuracy=0.818]\u001b[A\n",
            "Epoch 1/5:  83%|████████▎ | 1424/1718 [01:33<00:24, 12.03it/s, loss=0.504, sparse_categorical_accuracy=0.818]\u001b[A\n",
            "Epoch 1/5:  83%|████████▎ | 1424/1718 [01:33<00:24, 12.03it/s, loss=0.504, sparse_categorical_accuracy=0.818]\u001b[A\n",
            "Epoch 1/5:  83%|████████▎ | 1426/1718 [01:33<00:24, 11.90it/s, loss=0.504, sparse_categorical_accuracy=0.818]\u001b[A\n",
            "Epoch 1/5:  83%|████████▎ | 1426/1718 [01:33<00:24, 11.90it/s, loss=0.504, sparse_categorical_accuracy=0.818]\u001b[A\n",
            "Epoch 1/5:  83%|████████▎ | 1426/1718 [01:34<00:24, 11.90it/s, loss=0.504, sparse_categorical_accuracy=0.818]\u001b[A\n",
            "Epoch 1/5:  83%|████████▎ | 1428/1718 [01:34<00:23, 12.41it/s, loss=0.504, sparse_categorical_accuracy=0.818]\u001b[A\n",
            "Epoch 1/5:  83%|████████▎ | 1428/1718 [01:34<00:23, 12.41it/s, loss=0.504, sparse_categorical_accuracy=0.818]\u001b[A\n",
            "Epoch 1/5:  83%|████████▎ | 1428/1718 [01:34<00:23, 12.41it/s, loss=0.505, sparse_categorical_accuracy=0.818]\u001b[A\n",
            "Epoch 1/5:  83%|████████▎ | 1430/1718 [01:34<00:21, 13.30it/s, loss=0.505, sparse_categorical_accuracy=0.818]\u001b[A\n",
            "Epoch 1/5:  83%|████████▎ | 1430/1718 [01:34<00:21, 13.30it/s, loss=0.505, sparse_categorical_accuracy=0.818]\u001b[A\n",
            "Epoch 1/5:  83%|████████▎ | 1430/1718 [01:34<00:21, 13.30it/s, loss=0.505, sparse_categorical_accuracy=0.818]\u001b[A\n",
            "Epoch 1/5:  83%|████████▎ | 1432/1718 [01:34<00:20, 13.63it/s, loss=0.505, sparse_categorical_accuracy=0.818]\u001b[A\n",
            "Epoch 1/5:  83%|████████▎ | 1432/1718 [01:34<00:20, 13.63it/s, loss=0.505, sparse_categorical_accuracy=0.818]\u001b[A\n",
            "Epoch 1/5:  83%|████████▎ | 1432/1718 [01:34<00:20, 13.63it/s, loss=0.504, sparse_categorical_accuracy=0.818]\u001b[A\n",
            "Epoch 1/5:  83%|████████▎ | 1434/1718 [01:34<00:19, 14.51it/s, loss=0.504, sparse_categorical_accuracy=0.818]\u001b[A\n",
            "Epoch 1/5:  83%|████████▎ | 1434/1718 [01:34<00:19, 14.51it/s, loss=0.504, sparse_categorical_accuracy=0.818]\u001b[A\n",
            "Epoch 1/5:  83%|████████▎ | 1434/1718 [01:34<00:19, 14.51it/s, loss=0.504, sparse_categorical_accuracy=0.818]\u001b[A\n",
            "Epoch 1/5:  84%|████████▎ | 1436/1718 [01:34<00:19, 14.65it/s, loss=0.504, sparse_categorical_accuracy=0.818]\u001b[A\n",
            "Epoch 1/5:  84%|████████▎ | 1436/1718 [01:34<00:19, 14.65it/s, loss=0.504, sparse_categorical_accuracy=0.818]\u001b[A\n",
            "Epoch 1/5:  84%|████████▎ | 1436/1718 [01:34<00:19, 14.65it/s, loss=0.504, sparse_categorical_accuracy=0.818]\u001b[A\n",
            "Epoch 1/5:  84%|████████▎ | 1438/1718 [01:34<00:19, 14.69it/s, loss=0.504, sparse_categorical_accuracy=0.818]\u001b[A\n",
            "Epoch 1/5:  84%|████████▎ | 1438/1718 [01:34<00:19, 14.69it/s, loss=0.504, sparse_categorical_accuracy=0.818]\u001b[A\n",
            "Epoch 1/5:  84%|████████▎ | 1438/1718 [01:34<00:19, 14.69it/s, loss=0.504, sparse_categorical_accuracy=0.818]\u001b[A\n",
            "Epoch 1/5:  84%|████████▍ | 1440/1718 [01:34<00:19, 14.08it/s, loss=0.504, sparse_categorical_accuracy=0.818]\u001b[A\n",
            "Epoch 1/5:  84%|████████▍ | 1440/1718 [01:34<00:19, 14.08it/s, loss=0.504, sparse_categorical_accuracy=0.818]\u001b[A\n",
            "Epoch 1/5:  84%|████████▍ | 1440/1718 [01:34<00:19, 14.08it/s, loss=0.504, sparse_categorical_accuracy=0.818]\u001b[A\n",
            "Epoch 1/5:  84%|████████▍ | 1442/1718 [01:34<00:19, 14.07it/s, loss=0.504, sparse_categorical_accuracy=0.818]\u001b[A\n",
            "Epoch 1/5:  84%|████████▍ | 1442/1718 [01:35<00:19, 14.07it/s, loss=0.504, sparse_categorical_accuracy=0.818]\u001b[A\n",
            "Epoch 1/5:  84%|████████▍ | 1442/1718 [01:35<00:19, 14.07it/s, loss=0.504, sparse_categorical_accuracy=0.818]\u001b[A\n",
            "Epoch 1/5:  84%|████████▍ | 1444/1718 [01:35<00:19, 14.29it/s, loss=0.504, sparse_categorical_accuracy=0.818]\u001b[A\n",
            "Epoch 1/5:  84%|████████▍ | 1444/1718 [01:35<00:19, 14.29it/s, loss=0.504, sparse_categorical_accuracy=0.818]\u001b[A\n",
            "Epoch 1/5:  84%|████████▍ | 1444/1718 [01:35<00:19, 14.29it/s, loss=0.504, sparse_categorical_accuracy=0.818]\u001b[A\n",
            "Epoch 1/5:  84%|████████▍ | 1446/1718 [01:35<00:18, 14.48it/s, loss=0.504, sparse_categorical_accuracy=0.818]\u001b[A\n",
            "Epoch 1/5:  84%|████████▍ | 1446/1718 [01:35<00:18, 14.48it/s, loss=0.503, sparse_categorical_accuracy=0.818]\u001b[A\n",
            "Epoch 1/5:  84%|████████▍ | 1446/1718 [01:35<00:18, 14.48it/s, loss=0.503, sparse_categorical_accuracy=0.818]\u001b[A\n",
            "Epoch 1/5:  84%|████████▍ | 1448/1718 [01:35<00:18, 14.42it/s, loss=0.503, sparse_categorical_accuracy=0.818]\u001b[A\n",
            "Epoch 1/5:  84%|████████▍ | 1448/1718 [01:35<00:18, 14.42it/s, loss=0.503, sparse_categorical_accuracy=0.818]\u001b[A\n",
            "Epoch 1/5:  84%|████████▍ | 1448/1718 [01:35<00:18, 14.42it/s, loss=0.504, sparse_categorical_accuracy=0.818]\u001b[A\n",
            "Epoch 1/5:  84%|████████▍ | 1450/1718 [01:35<00:19, 13.91it/s, loss=0.504, sparse_categorical_accuracy=0.818]\u001b[A\n",
            "Epoch 1/5:  84%|████████▍ | 1450/1718 [01:35<00:19, 13.91it/s, loss=0.503, sparse_categorical_accuracy=0.818]\u001b[A\n",
            "Epoch 1/5:  84%|████████▍ | 1450/1718 [01:35<00:19, 13.91it/s, loss=0.503, sparse_categorical_accuracy=0.818]\u001b[A\n",
            "Epoch 1/5:  85%|████████▍ | 1452/1718 [01:35<00:19, 13.93it/s, loss=0.503, sparse_categorical_accuracy=0.818]\u001b[A\n",
            "Epoch 1/5:  85%|████████▍ | 1452/1718 [01:35<00:19, 13.93it/s, loss=0.503, sparse_categorical_accuracy=0.818]\u001b[A\n",
            "Epoch 1/5:  85%|████████▍ | 1452/1718 [01:35<00:19, 13.93it/s, loss=0.503, sparse_categorical_accuracy=0.818]\u001b[A\n",
            "Epoch 1/5:  85%|████████▍ | 1454/1718 [01:35<00:20, 12.67it/s, loss=0.503, sparse_categorical_accuracy=0.818]\u001b[A\n",
            "Epoch 1/5:  85%|████████▍ | 1454/1718 [01:35<00:20, 12.67it/s, loss=0.503, sparse_categorical_accuracy=0.818]\u001b[A\n",
            "Epoch 1/5:  85%|████████▍ | 1454/1718 [01:36<00:20, 12.67it/s, loss=0.503, sparse_categorical_accuracy=0.818]\u001b[A\n",
            "Epoch 1/5:  85%|████████▍ | 1456/1718 [01:36<00:22, 11.80it/s, loss=0.503, sparse_categorical_accuracy=0.818]\u001b[A\n",
            "Epoch 1/5:  85%|████████▍ | 1456/1718 [01:36<00:22, 11.80it/s, loss=0.503, sparse_categorical_accuracy=0.818]\u001b[A\n",
            "Epoch 1/5:  85%|████████▍ | 1456/1718 [01:36<00:22, 11.80it/s, loss=0.503, sparse_categorical_accuracy=0.818]\u001b[A\n",
            "Epoch 1/5:  85%|████████▍ | 1458/1718 [01:36<00:21, 11.97it/s, loss=0.503, sparse_categorical_accuracy=0.818]\u001b[A\n",
            "Epoch 1/5:  85%|████████▍ | 1458/1718 [01:36<00:21, 11.97it/s, loss=0.503, sparse_categorical_accuracy=0.818]\u001b[A\n",
            "Epoch 1/5:  85%|████████▍ | 1458/1718 [01:36<00:21, 11.97it/s, loss=0.503, sparse_categorical_accuracy=0.818]\u001b[A\n",
            "Epoch 1/5:  85%|████████▍ | 1460/1718 [01:36<00:20, 12.35it/s, loss=0.503, sparse_categorical_accuracy=0.818]\u001b[A\n",
            "Epoch 1/5:  85%|████████▍ | 1460/1718 [01:36<00:20, 12.35it/s, loss=0.503, sparse_categorical_accuracy=0.818]\u001b[A\n",
            "Epoch 1/5:  85%|████████▍ | 1460/1718 [01:36<00:20, 12.35it/s, loss=0.503, sparse_categorical_accuracy=0.818]\u001b[A\n",
            "Epoch 1/5:  85%|████████▌ | 1462/1718 [01:36<00:19, 13.00it/s, loss=0.503, sparse_categorical_accuracy=0.818]\u001b[A\n",
            "Epoch 1/5:  85%|████████▌ | 1462/1718 [01:36<00:19, 13.00it/s, loss=0.503, sparse_categorical_accuracy=0.818]\u001b[A\n",
            "Epoch 1/5:  85%|████████▌ | 1462/1718 [01:36<00:19, 13.00it/s, loss=0.503, sparse_categorical_accuracy=0.818]\u001b[A\n",
            "Epoch 1/5:  85%|████████▌ | 1464/1718 [01:36<00:18, 13.53it/s, loss=0.503, sparse_categorical_accuracy=0.818]\u001b[A\n",
            "Epoch 1/5:  85%|████████▌ | 1464/1718 [01:36<00:18, 13.53it/s, loss=0.503, sparse_categorical_accuracy=0.818]\u001b[A\n",
            "Epoch 1/5:  85%|████████▌ | 1464/1718 [01:36<00:18, 13.53it/s, loss=0.502, sparse_categorical_accuracy=0.818]\u001b[A\n",
            "Epoch 1/5:  85%|████████▌ | 1466/1718 [01:36<00:20, 12.46it/s, loss=0.502, sparse_categorical_accuracy=0.818]\u001b[A\n",
            "Epoch 1/5:  85%|████████▌ | 1466/1718 [01:36<00:20, 12.46it/s, loss=0.503, sparse_categorical_accuracy=0.818]\u001b[A\n",
            "Epoch 1/5:  85%|████████▌ | 1466/1718 [01:37<00:20, 12.46it/s, loss=0.502, sparse_categorical_accuracy=0.819]\u001b[A\n",
            "Epoch 1/5:  85%|████████▌ | 1468/1718 [01:37<00:20, 12.44it/s, loss=0.502, sparse_categorical_accuracy=0.819]\u001b[A\n",
            "Epoch 1/5:  85%|████████▌ | 1468/1718 [01:37<00:20, 12.44it/s, loss=0.503, sparse_categorical_accuracy=0.818]\u001b[A\n",
            "Epoch 1/5:  85%|████████▌ | 1468/1718 [01:37<00:20, 12.44it/s, loss=0.502, sparse_categorical_accuracy=0.818]\u001b[A\n",
            "Epoch 1/5:  86%|████████▌ | 1470/1718 [01:37<00:20, 12.33it/s, loss=0.502, sparse_categorical_accuracy=0.818]\u001b[A\n",
            "Epoch 1/5:  86%|████████▌ | 1470/1718 [01:37<00:20, 12.33it/s, loss=0.502, sparse_categorical_accuracy=0.819]\u001b[A\n",
            "Epoch 1/5:  86%|████████▌ | 1470/1718 [01:37<00:20, 12.33it/s, loss=0.502, sparse_categorical_accuracy=0.819]\u001b[A\n",
            "Epoch 1/5:  86%|████████▌ | 1472/1718 [01:37<00:20, 12.16it/s, loss=0.502, sparse_categorical_accuracy=0.819]\u001b[A\n",
            "Epoch 1/5:  86%|████████▌ | 1472/1718 [01:37<00:20, 12.16it/s, loss=0.502, sparse_categorical_accuracy=0.819]\u001b[A\n",
            "Epoch 1/5:  86%|████████▌ | 1472/1718 [01:37<00:20, 12.16it/s, loss=0.502, sparse_categorical_accuracy=0.819]\u001b[A\n",
            "Epoch 1/5:  86%|████████▌ | 1474/1718 [01:37<00:19, 12.38it/s, loss=0.502, sparse_categorical_accuracy=0.819]\u001b[A\n",
            "Epoch 1/5:  86%|████████▌ | 1474/1718 [01:37<00:19, 12.38it/s, loss=0.502, sparse_categorical_accuracy=0.819]\u001b[A\n",
            "Epoch 1/5:  86%|████████▌ | 1474/1718 [01:37<00:19, 12.38it/s, loss=0.502, sparse_categorical_accuracy=0.819]\u001b[A\n",
            "Epoch 1/5:  86%|████████▌ | 1476/1718 [01:37<00:19, 12.21it/s, loss=0.502, sparse_categorical_accuracy=0.819]\u001b[A\n",
            "Epoch 1/5:  86%|████████▌ | 1476/1718 [01:37<00:19, 12.21it/s, loss=0.502, sparse_categorical_accuracy=0.819]\u001b[A\n",
            "Epoch 1/5:  86%|████████▌ | 1476/1718 [01:37<00:19, 12.21it/s, loss=0.502, sparse_categorical_accuracy=0.819]\u001b[A\n",
            "Epoch 1/5:  86%|████████▌ | 1478/1718 [01:37<00:20, 11.96it/s, loss=0.502, sparse_categorical_accuracy=0.819]\u001b[A\n",
            "Epoch 1/5:  86%|████████▌ | 1478/1718 [01:37<00:20, 11.96it/s, loss=0.502, sparse_categorical_accuracy=0.819]\u001b[A\n",
            "Epoch 1/5:  86%|████████▌ | 1478/1718 [01:38<00:20, 11.96it/s, loss=0.502, sparse_categorical_accuracy=0.819]\u001b[A\n",
            "Epoch 1/5:  86%|████████▌ | 1480/1718 [01:38<00:20, 11.66it/s, loss=0.502, sparse_categorical_accuracy=0.819]\u001b[A\n",
            "Epoch 1/5:  86%|████████▌ | 1480/1718 [01:38<00:20, 11.66it/s, loss=0.502, sparse_categorical_accuracy=0.819]\u001b[A\n",
            "Epoch 1/5:  86%|████████▌ | 1480/1718 [01:38<00:20, 11.66it/s, loss=0.502, sparse_categorical_accuracy=0.819]\u001b[A\n",
            "Epoch 1/5:  86%|████████▋ | 1482/1718 [01:38<00:19, 11.92it/s, loss=0.502, sparse_categorical_accuracy=0.819]\u001b[A\n",
            "Epoch 1/5:  86%|████████▋ | 1482/1718 [01:38<00:19, 11.92it/s, loss=0.502, sparse_categorical_accuracy=0.819]\u001b[A\n",
            "Epoch 1/5:  86%|████████▋ | 1482/1718 [01:38<00:19, 11.92it/s, loss=0.502, sparse_categorical_accuracy=0.819]\u001b[A\n",
            "Epoch 1/5:  86%|████████▋ | 1484/1718 [01:38<00:17, 13.06it/s, loss=0.502, sparse_categorical_accuracy=0.819]\u001b[A\n",
            "Epoch 1/5:  86%|████████▋ | 1484/1718 [01:38<00:17, 13.06it/s, loss=0.502, sparse_categorical_accuracy=0.819]\u001b[A\n",
            "Epoch 1/5:  86%|████████▋ | 1484/1718 [01:38<00:17, 13.06it/s, loss=0.502, sparse_categorical_accuracy=0.819]\u001b[A\n",
            "Epoch 1/5:  86%|████████▋ | 1486/1718 [01:38<00:16, 14.06it/s, loss=0.502, sparse_categorical_accuracy=0.819]\u001b[A\n",
            "Epoch 1/5:  86%|████████▋ | 1486/1718 [01:38<00:16, 14.06it/s, loss=0.502, sparse_categorical_accuracy=0.819]\u001b[A\n",
            "Epoch 1/5:  86%|████████▋ | 1486/1718 [01:38<00:16, 14.06it/s, loss=0.502, sparse_categorical_accuracy=0.819]\u001b[A\n",
            "Epoch 1/5:  87%|████████▋ | 1488/1718 [01:38<00:15, 14.90it/s, loss=0.502, sparse_categorical_accuracy=0.819]\u001b[A\n",
            "Epoch 1/5:  87%|████████▋ | 1488/1718 [01:38<00:15, 14.90it/s, loss=0.501, sparse_categorical_accuracy=0.819]\u001b[A\n",
            "Epoch 1/5:  87%|████████▋ | 1488/1718 [01:38<00:15, 14.90it/s, loss=0.501, sparse_categorical_accuracy=0.819]\u001b[A\n",
            "Epoch 1/5:  87%|████████▋ | 1490/1718 [01:38<00:14, 15.51it/s, loss=0.501, sparse_categorical_accuracy=0.819]\u001b[A\n",
            "Epoch 1/5:  87%|████████▋ | 1490/1718 [01:38<00:14, 15.51it/s, loss=0.502, sparse_categorical_accuracy=0.819]\u001b[A\n",
            "Epoch 1/5:  87%|████████▋ | 1490/1718 [01:38<00:14, 15.51it/s, loss=0.501, sparse_categorical_accuracy=0.819]\u001b[A\n",
            "Epoch 1/5:  87%|████████▋ | 1492/1718 [01:38<00:15, 14.78it/s, loss=0.501, sparse_categorical_accuracy=0.819]\u001b[A\n",
            "Epoch 1/5:  87%|████████▋ | 1492/1718 [01:38<00:15, 14.78it/s, loss=0.501, sparse_categorical_accuracy=0.819]\u001b[A\n",
            "Epoch 1/5:  87%|████████▋ | 1492/1718 [01:38<00:15, 14.78it/s, loss=0.501, sparse_categorical_accuracy=0.819]\u001b[A\n",
            "Epoch 1/5:  87%|████████▋ | 1494/1718 [01:38<00:15, 14.72it/s, loss=0.501, sparse_categorical_accuracy=0.819]\u001b[A\n",
            "Epoch 1/5:  87%|████████▋ | 1494/1718 [01:39<00:15, 14.72it/s, loss=0.501, sparse_categorical_accuracy=0.819]\u001b[A\n",
            "Epoch 1/5:  87%|████████▋ | 1494/1718 [01:39<00:15, 14.72it/s, loss=0.501, sparse_categorical_accuracy=0.819]\u001b[A\n",
            "Epoch 1/5:  87%|████████▋ | 1496/1718 [01:39<00:15, 14.17it/s, loss=0.501, sparse_categorical_accuracy=0.819]\u001b[A\n",
            "Epoch 1/5:  87%|████████▋ | 1496/1718 [01:39<00:15, 14.17it/s, loss=0.501, sparse_categorical_accuracy=0.819]\u001b[A\n",
            "Epoch 1/5:  87%|████████▋ | 1496/1718 [01:39<00:15, 14.17it/s, loss=0.501, sparse_categorical_accuracy=0.819]\u001b[A\n",
            "Epoch 1/5:  87%|████████▋ | 1498/1718 [01:39<00:15, 14.26it/s, loss=0.501, sparse_categorical_accuracy=0.819]\u001b[A\n",
            "Epoch 1/5:  87%|████████▋ | 1498/1718 [01:39<00:15, 14.26it/s, loss=0.501, sparse_categorical_accuracy=0.819]\u001b[A\n",
            "Epoch 1/5:  87%|████████▋ | 1498/1718 [01:39<00:15, 14.26it/s, loss=0.501, sparse_categorical_accuracy=0.819]\u001b[A\n",
            "Epoch 1/5:  87%|████████▋ | 1500/1718 [01:39<00:14, 14.94it/s, loss=0.501, sparse_categorical_accuracy=0.819]\u001b[A\n",
            "Epoch 1/5:  87%|████████▋ | 1500/1718 [01:39<00:14, 14.94it/s, loss=0.501, sparse_categorical_accuracy=0.819]\u001b[A\n",
            "Epoch 1/5:  87%|████████▋ | 1500/1718 [01:39<00:14, 14.94it/s, loss=0.501, sparse_categorical_accuracy=0.819]\u001b[A\n",
            "Epoch 1/5:  87%|████████▋ | 1502/1718 [01:39<00:13, 15.59it/s, loss=0.501, sparse_categorical_accuracy=0.819]\u001b[A\n",
            "Epoch 1/5:  87%|████████▋ | 1502/1718 [01:39<00:13, 15.59it/s, loss=0.501, sparse_categorical_accuracy=0.819]\u001b[A\n",
            "Epoch 1/5:  87%|████████▋ | 1502/1718 [01:39<00:13, 15.59it/s, loss=0.501, sparse_categorical_accuracy=0.819]\u001b[A\n",
            "Epoch 1/5:  88%|████████▊ | 1504/1718 [01:39<00:13, 15.96it/s, loss=0.501, sparse_categorical_accuracy=0.819]\u001b[A\n",
            "Epoch 1/5:  88%|████████▊ | 1504/1718 [01:39<00:13, 15.96it/s, loss=0.501, sparse_categorical_accuracy=0.819]\u001b[A\n",
            "Epoch 1/5:  88%|████████▊ | 1504/1718 [01:39<00:13, 15.96it/s, loss=0.501, sparse_categorical_accuracy=0.819]\u001b[A\n",
            "Epoch 1/5:  88%|████████▊ | 1506/1718 [01:39<00:13, 15.96it/s, loss=0.501, sparse_categorical_accuracy=0.819]\u001b[A\n",
            "Epoch 1/5:  88%|████████▊ | 1506/1718 [01:39<00:13, 15.96it/s, loss=0.501, sparse_categorical_accuracy=0.819]\u001b[A\n",
            "Epoch 1/5:  88%|████████▊ | 1506/1718 [01:39<00:13, 15.96it/s, loss=0.501, sparse_categorical_accuracy=0.819]\u001b[A\n",
            "Epoch 1/5:  88%|████████▊ | 1508/1718 [01:39<00:13, 15.11it/s, loss=0.501, sparse_categorical_accuracy=0.819]\u001b[A\n",
            "Epoch 1/5:  88%|████████▊ | 1508/1718 [01:39<00:13, 15.11it/s, loss=0.501, sparse_categorical_accuracy=0.819]\u001b[A\n",
            "Epoch 1/5:  88%|████████▊ | 1508/1718 [01:40<00:13, 15.11it/s, loss=0.501, sparse_categorical_accuracy=0.819]\u001b[A\n",
            "Epoch 1/5:  88%|████████▊ | 1510/1718 [01:40<00:14, 14.80it/s, loss=0.501, sparse_categorical_accuracy=0.819]\u001b[A\n",
            "Epoch 1/5:  88%|████████▊ | 1510/1718 [01:40<00:14, 14.80it/s, loss=0.501, sparse_categorical_accuracy=0.819]\u001b[A\n",
            "Epoch 1/5:  88%|████████▊ | 1510/1718 [01:40<00:14, 14.80it/s, loss=0.501, sparse_categorical_accuracy=0.819]\u001b[A\n",
            "Epoch 1/5:  88%|████████▊ | 1512/1718 [01:40<00:14, 14.24it/s, loss=0.501, sparse_categorical_accuracy=0.819]\u001b[A\n",
            "Epoch 1/5:  88%|████████▊ | 1512/1718 [01:40<00:14, 14.24it/s, loss=0.5, sparse_categorical_accuracy=0.819]  \u001b[A\n",
            "Epoch 1/5:  88%|████████▊ | 1512/1718 [01:40<00:14, 14.24it/s, loss=0.5, sparse_categorical_accuracy=0.819]\u001b[A\n",
            "Epoch 1/5:  88%|████████▊ | 1514/1718 [01:40<00:13, 14.72it/s, loss=0.5, sparse_categorical_accuracy=0.819]\u001b[A\n",
            "Epoch 1/5:  88%|████████▊ | 1514/1718 [01:40<00:13, 14.72it/s, loss=0.5, sparse_categorical_accuracy=0.819]\u001b[A\n",
            "Epoch 1/5:  88%|████████▊ | 1514/1718 [01:40<00:13, 14.72it/s, loss=0.5, sparse_categorical_accuracy=0.819]\u001b[A\n",
            "Epoch 1/5:  88%|████████▊ | 1516/1718 [01:40<00:13, 14.90it/s, loss=0.5, sparse_categorical_accuracy=0.819]\u001b[A\n",
            "Epoch 1/5:  88%|████████▊ | 1516/1718 [01:40<00:13, 14.90it/s, loss=0.501, sparse_categorical_accuracy=0.819]\u001b[A\n",
            "Epoch 1/5:  88%|████████▊ | 1516/1718 [01:40<00:13, 14.90it/s, loss=0.5, sparse_categorical_accuracy=0.819]  \u001b[A\n",
            "Epoch 1/5:  88%|████████▊ | 1518/1718 [01:40<00:13, 15.28it/s, loss=0.5, sparse_categorical_accuracy=0.819]\u001b[A\n",
            "Epoch 1/5:  88%|████████▊ | 1518/1718 [01:40<00:13, 15.28it/s, loss=0.5, sparse_categorical_accuracy=0.819]\u001b[A\n",
            "Epoch 1/5:  88%|████████▊ | 1518/1718 [01:40<00:13, 15.28it/s, loss=0.5, sparse_categorical_accuracy=0.819]\u001b[A\n",
            "Epoch 1/5:  88%|████████▊ | 1520/1718 [01:40<00:12, 15.30it/s, loss=0.5, sparse_categorical_accuracy=0.819]\u001b[A\n",
            "Epoch 1/5:  88%|████████▊ | 1520/1718 [01:40<00:12, 15.30it/s, loss=0.5, sparse_categorical_accuracy=0.819]\u001b[A\n",
            "Epoch 1/5:  88%|████████▊ | 1520/1718 [01:40<00:12, 15.30it/s, loss=0.5, sparse_categorical_accuracy=0.819]\u001b[A\n",
            "Epoch 1/5:  89%|████████▊ | 1522/1718 [01:40<00:13, 14.54it/s, loss=0.5, sparse_categorical_accuracy=0.819]\u001b[A\n",
            "Epoch 1/5:  89%|████████▊ | 1522/1718 [01:40<00:13, 14.54it/s, loss=0.5, sparse_categorical_accuracy=0.819]\u001b[A\n",
            "Epoch 1/5:  89%|████████▊ | 1522/1718 [01:40<00:13, 14.54it/s, loss=0.5, sparse_categorical_accuracy=0.819]\u001b[A\n",
            "Epoch 1/5:  89%|████████▊ | 1524/1718 [01:40<00:13, 14.32it/s, loss=0.5, sparse_categorical_accuracy=0.819]\u001b[A\n",
            "Epoch 1/5:  89%|████████▊ | 1524/1718 [01:41<00:13, 14.32it/s, loss=0.5, sparse_categorical_accuracy=0.819]\u001b[A\n",
            "Epoch 1/5:  89%|████████▊ | 1524/1718 [01:41<00:13, 14.32it/s, loss=0.5, sparse_categorical_accuracy=0.819]\u001b[A\n",
            "Epoch 1/5:  89%|████████▉ | 1526/1718 [01:41<00:14, 13.64it/s, loss=0.5, sparse_categorical_accuracy=0.819]\u001b[A\n",
            "Epoch 1/5:  89%|████████▉ | 1526/1718 [01:41<00:14, 13.64it/s, loss=0.5, sparse_categorical_accuracy=0.819]\u001b[A\n",
            "Epoch 1/5:  89%|████████▉ | 1526/1718 [01:41<00:14, 13.64it/s, loss=0.5, sparse_categorical_accuracy=0.819]\u001b[A\n",
            "Epoch 1/5:  89%|████████▉ | 1528/1718 [01:41<00:13, 13.99it/s, loss=0.5, sparse_categorical_accuracy=0.819]\u001b[A\n",
            "Epoch 1/5:  89%|████████▉ | 1528/1718 [01:41<00:13, 13.99it/s, loss=0.5, sparse_categorical_accuracy=0.819]\u001b[A\n",
            "Epoch 1/5:  89%|████████▉ | 1528/1718 [01:41<00:13, 13.99it/s, loss=0.5, sparse_categorical_accuracy=0.819]\u001b[A\n",
            "Epoch 1/5:  89%|████████▉ | 1530/1718 [01:41<00:12, 14.63it/s, loss=0.5, sparse_categorical_accuracy=0.819]\u001b[A\n",
            "Epoch 1/5:  89%|████████▉ | 1530/1718 [01:41<00:12, 14.63it/s, loss=0.5, sparse_categorical_accuracy=0.819]\u001b[A\n",
            "Epoch 1/5:  89%|████████▉ | 1530/1718 [01:41<00:12, 14.63it/s, loss=0.5, sparse_categorical_accuracy=0.819]\u001b[A\n",
            "Epoch 1/5:  89%|████████▉ | 1532/1718 [01:41<00:12, 14.99it/s, loss=0.5, sparse_categorical_accuracy=0.819]\u001b[A\n",
            "Epoch 1/5:  89%|████████▉ | 1532/1718 [01:41<00:12, 14.99it/s, loss=0.5, sparse_categorical_accuracy=0.819]\u001b[A\n",
            "Epoch 1/5:  89%|████████▉ | 1532/1718 [01:41<00:12, 14.99it/s, loss=0.5, sparse_categorical_accuracy=0.819]\u001b[A\n",
            "Epoch 1/5:  89%|████████▉ | 1534/1718 [01:41<00:12, 15.32it/s, loss=0.5, sparse_categorical_accuracy=0.819]\u001b[A\n",
            "Epoch 1/5:  89%|████████▉ | 1534/1718 [01:41<00:12, 15.32it/s, loss=0.5, sparse_categorical_accuracy=0.819]\u001b[A\n",
            "Epoch 1/5:  89%|████████▉ | 1534/1718 [01:41<00:12, 15.32it/s, loss=0.5, sparse_categorical_accuracy=0.819]\u001b[A\n",
            "Epoch 1/5:  89%|████████▉ | 1536/1718 [01:41<00:12, 14.77it/s, loss=0.5, sparse_categorical_accuracy=0.819]\u001b[A\n",
            "Epoch 1/5:  89%|████████▉ | 1536/1718 [01:41<00:12, 14.77it/s, loss=0.5, sparse_categorical_accuracy=0.819]\u001b[A\n",
            "Epoch 1/5:  89%|████████▉ | 1536/1718 [01:41<00:12, 14.77it/s, loss=0.499, sparse_categorical_accuracy=0.819]\u001b[A\n",
            "Epoch 1/5:  90%|████████▉ | 1538/1718 [01:41<00:13, 13.63it/s, loss=0.499, sparse_categorical_accuracy=0.819]\u001b[A\n",
            "Epoch 1/5:  90%|████████▉ | 1538/1718 [01:42<00:13, 13.63it/s, loss=0.499, sparse_categorical_accuracy=0.819]\u001b[A\n",
            "Epoch 1/5:  90%|████████▉ | 1538/1718 [01:42<00:13, 13.63it/s, loss=0.5, sparse_categorical_accuracy=0.819]  \u001b[A\n",
            "Epoch 1/5:  90%|████████▉ | 1540/1718 [01:42<00:13, 13.34it/s, loss=0.5, sparse_categorical_accuracy=0.819]\u001b[A\n",
            "Epoch 1/5:  90%|████████▉ | 1540/1718 [01:42<00:13, 13.34it/s, loss=0.499, sparse_categorical_accuracy=0.819]\u001b[A\n",
            "Epoch 1/5:  90%|████████▉ | 1540/1718 [01:42<00:13, 13.34it/s, loss=0.499, sparse_categorical_accuracy=0.819]\u001b[A\n",
            "Epoch 1/5:  90%|████████▉ | 1542/1718 [01:42<00:13, 13.24it/s, loss=0.499, sparse_categorical_accuracy=0.819]\u001b[A\n",
            "Epoch 1/5:  90%|████████▉ | 1542/1718 [01:42<00:13, 13.24it/s, loss=0.499, sparse_categorical_accuracy=0.819]\u001b[A\n",
            "Epoch 1/5:  90%|████████▉ | 1542/1718 [01:42<00:13, 13.24it/s, loss=0.499, sparse_categorical_accuracy=0.819]\u001b[A\n",
            "Epoch 1/5:  90%|████████▉ | 1544/1718 [01:42<00:12, 14.17it/s, loss=0.499, sparse_categorical_accuracy=0.819]\u001b[A\n",
            "Epoch 1/5:  90%|████████▉ | 1544/1718 [01:42<00:12, 14.17it/s, loss=0.499, sparse_categorical_accuracy=0.819]\u001b[A\n",
            "Epoch 1/5:  90%|████████▉ | 1544/1718 [01:42<00:12, 14.17it/s, loss=0.499, sparse_categorical_accuracy=0.819]\u001b[A\n",
            "Epoch 1/5:  90%|████████▉ | 1546/1718 [01:42<00:11, 14.91it/s, loss=0.499, sparse_categorical_accuracy=0.819]\u001b[A\n",
            "Epoch 1/5:  90%|████████▉ | 1546/1718 [01:42<00:11, 14.91it/s, loss=0.499, sparse_categorical_accuracy=0.819]\u001b[A\n",
            "Epoch 1/5:  90%|████████▉ | 1546/1718 [01:42<00:11, 14.91it/s, loss=0.499, sparse_categorical_accuracy=0.819]\u001b[A\n",
            "Epoch 1/5:  90%|█████████ | 1548/1718 [01:42<00:11, 15.45it/s, loss=0.499, sparse_categorical_accuracy=0.819]\u001b[A\n",
            "Epoch 1/5:  90%|█████████ | 1548/1718 [01:42<00:11, 15.45it/s, loss=0.499, sparse_categorical_accuracy=0.82] \u001b[A\n",
            "Epoch 1/5:  90%|█████████ | 1548/1718 [01:42<00:11, 15.45it/s, loss=0.499, sparse_categorical_accuracy=0.82]\u001b[A\n",
            "Epoch 1/5:  90%|█████████ | 1550/1718 [01:42<00:11, 15.23it/s, loss=0.499, sparse_categorical_accuracy=0.82]\u001b[A\n",
            "Epoch 1/5:  90%|█████████ | 1550/1718 [01:42<00:11, 15.23it/s, loss=0.499, sparse_categorical_accuracy=0.82]\u001b[A\n",
            "Epoch 1/5:  90%|█████████ | 1550/1718 [01:42<00:11, 15.23it/s, loss=0.499, sparse_categorical_accuracy=0.82]\u001b[A\n",
            "Epoch 1/5:  90%|█████████ | 1552/1718 [01:42<00:11, 14.15it/s, loss=0.499, sparse_categorical_accuracy=0.82]\u001b[A\n",
            "Epoch 1/5:  90%|█████████ | 1552/1718 [01:43<00:11, 14.15it/s, loss=0.499, sparse_categorical_accuracy=0.82]\u001b[A\n",
            "Epoch 1/5:  90%|█████████ | 1552/1718 [01:43<00:11, 14.15it/s, loss=0.499, sparse_categorical_accuracy=0.82]\u001b[A\n",
            "Epoch 1/5:  90%|█████████ | 1554/1718 [01:43<00:12, 13.63it/s, loss=0.499, sparse_categorical_accuracy=0.82]\u001b[A\n",
            "Epoch 1/5:  90%|█████████ | 1554/1718 [01:43<00:12, 13.63it/s, loss=0.499, sparse_categorical_accuracy=0.82]\u001b[A\n",
            "Epoch 1/5:  90%|█████████ | 1554/1718 [01:43<00:12, 13.63it/s, loss=0.499, sparse_categorical_accuracy=0.82]\u001b[A\n",
            "Epoch 1/5:  91%|█████████ | 1556/1718 [01:43<00:11, 14.10it/s, loss=0.499, sparse_categorical_accuracy=0.82]\u001b[A\n",
            "Epoch 1/5:  91%|█████████ | 1556/1718 [01:43<00:11, 14.10it/s, loss=0.499, sparse_categorical_accuracy=0.82]\u001b[A\n",
            "Epoch 1/5:  91%|█████████ | 1556/1718 [01:43<00:11, 14.10it/s, loss=0.499, sparse_categorical_accuracy=0.82]\u001b[A\n",
            "Epoch 1/5:  91%|█████████ | 1558/1718 [01:43<00:11, 13.57it/s, loss=0.499, sparse_categorical_accuracy=0.82]\u001b[A\n",
            "Epoch 1/5:  91%|█████████ | 1558/1718 [01:43<00:11, 13.57it/s, loss=0.498, sparse_categorical_accuracy=0.82]\u001b[A\n",
            "Epoch 1/5:  91%|█████████ | 1558/1718 [01:43<00:11, 13.57it/s, loss=0.498, sparse_categorical_accuracy=0.82]\u001b[A\n",
            "Epoch 1/5:  91%|█████████ | 1560/1718 [01:43<00:11, 13.98it/s, loss=0.498, sparse_categorical_accuracy=0.82]\u001b[A\n",
            "Epoch 1/5:  91%|█████████ | 1560/1718 [01:43<00:11, 13.98it/s, loss=0.498, sparse_categorical_accuracy=0.82]\u001b[A\n",
            "Epoch 1/5:  91%|█████████ | 1560/1718 [01:43<00:11, 13.98it/s, loss=0.498, sparse_categorical_accuracy=0.82]\u001b[A\n",
            "Epoch 1/5:  91%|█████████ | 1562/1718 [01:43<00:10, 14.42it/s, loss=0.498, sparse_categorical_accuracy=0.82]\u001b[A\n",
            "Epoch 1/5:  91%|█████████ | 1562/1718 [01:43<00:10, 14.42it/s, loss=0.498, sparse_categorical_accuracy=0.82]\u001b[A\n",
            "Epoch 1/5:  91%|█████████ | 1562/1718 [01:43<00:10, 14.42it/s, loss=0.498, sparse_categorical_accuracy=0.82]\u001b[A\n",
            "Epoch 1/5:  91%|█████████ | 1564/1718 [01:43<00:11, 13.80it/s, loss=0.498, sparse_categorical_accuracy=0.82]\u001b[A\n",
            "Epoch 1/5:  91%|█████████ | 1564/1718 [01:43<00:11, 13.80it/s, loss=0.498, sparse_categorical_accuracy=0.82]\u001b[A\n",
            "Epoch 1/5:  91%|█████████ | 1564/1718 [01:43<00:11, 13.80it/s, loss=0.498, sparse_categorical_accuracy=0.82]\u001b[A\n",
            "Epoch 1/5:  91%|█████████ | 1566/1718 [01:43<00:11, 13.68it/s, loss=0.498, sparse_categorical_accuracy=0.82]\u001b[A\n",
            "Epoch 1/5:  91%|█████████ | 1566/1718 [01:44<00:11, 13.68it/s, loss=0.498, sparse_categorical_accuracy=0.82]\u001b[A\n",
            "Epoch 1/5:  91%|█████████ | 1566/1718 [01:44<00:11, 13.68it/s, loss=0.498, sparse_categorical_accuracy=0.82]\u001b[A\n",
            "Epoch 1/5:  91%|█████████▏| 1568/1718 [01:44<00:10, 13.68it/s, loss=0.498, sparse_categorical_accuracy=0.82]\u001b[A\n",
            "Epoch 1/5:  91%|█████████▏| 1568/1718 [01:44<00:10, 13.68it/s, loss=0.498, sparse_categorical_accuracy=0.82]\u001b[A\n",
            "Epoch 1/5:  91%|█████████▏| 1568/1718 [01:44<00:10, 13.68it/s, loss=0.498, sparse_categorical_accuracy=0.82]\u001b[A\n",
            "Epoch 1/5:  91%|█████████▏| 1570/1718 [01:44<00:10, 14.30it/s, loss=0.498, sparse_categorical_accuracy=0.82]\u001b[A\n",
            "Epoch 1/5:  91%|█████████▏| 1570/1718 [01:44<00:10, 14.30it/s, loss=0.498, sparse_categorical_accuracy=0.82]\u001b[A\n",
            "Epoch 1/5:  91%|█████████▏| 1570/1718 [01:44<00:10, 14.30it/s, loss=0.498, sparse_categorical_accuracy=0.82]\u001b[A\n",
            "Epoch 1/5:  92%|█████████▏| 1572/1718 [01:44<00:10, 14.37it/s, loss=0.498, sparse_categorical_accuracy=0.82]\u001b[A\n",
            "Epoch 1/5:  92%|█████████▏| 1572/1718 [01:44<00:10, 14.37it/s, loss=0.498, sparse_categorical_accuracy=0.82]\u001b[A\n",
            "Epoch 1/5:  92%|█████████▏| 1572/1718 [01:44<00:10, 14.37it/s, loss=0.498, sparse_categorical_accuracy=0.82]\u001b[A\n",
            "Epoch 1/5:  92%|█████████▏| 1574/1718 [01:44<00:09, 14.74it/s, loss=0.498, sparse_categorical_accuracy=0.82]\u001b[A\n",
            "Epoch 1/5:  92%|█████████▏| 1574/1718 [01:44<00:09, 14.74it/s, loss=0.498, sparse_categorical_accuracy=0.82]\u001b[A\n",
            "Epoch 1/5:  92%|█████████▏| 1574/1718 [01:44<00:09, 14.74it/s, loss=0.498, sparse_categorical_accuracy=0.82]\u001b[A\n",
            "Epoch 1/5:  92%|█████████▏| 1576/1718 [01:44<00:09, 15.26it/s, loss=0.498, sparse_categorical_accuracy=0.82]\u001b[A\n",
            "Epoch 1/5:  92%|█████████▏| 1576/1718 [01:44<00:09, 15.26it/s, loss=0.498, sparse_categorical_accuracy=0.82]\u001b[A\n",
            "Epoch 1/5:  92%|█████████▏| 1576/1718 [01:44<00:09, 15.26it/s, loss=0.498, sparse_categorical_accuracy=0.82]\u001b[A\n",
            "Epoch 1/5:  92%|█████████▏| 1578/1718 [01:44<00:09, 14.72it/s, loss=0.498, sparse_categorical_accuracy=0.82]\u001b[A\n",
            "Epoch 1/5:  92%|█████████▏| 1578/1718 [01:44<00:09, 14.72it/s, loss=0.498, sparse_categorical_accuracy=0.82]\u001b[A\n",
            "Epoch 1/5:  92%|█████████▏| 1578/1718 [01:44<00:09, 14.72it/s, loss=0.498, sparse_categorical_accuracy=0.82]\u001b[A\n",
            "Epoch 1/5:  92%|█████████▏| 1580/1718 [01:44<00:09, 14.18it/s, loss=0.498, sparse_categorical_accuracy=0.82]\u001b[A\n",
            "Epoch 1/5:  92%|█████████▏| 1580/1718 [01:44<00:09, 14.18it/s, loss=0.498, sparse_categorical_accuracy=0.82]\u001b[A\n",
            "Epoch 1/5:  92%|█████████▏| 1580/1718 [01:45<00:09, 14.18it/s, loss=0.498, sparse_categorical_accuracy=0.82]\u001b[A\n",
            "Epoch 1/5:  92%|█████████▏| 1582/1718 [01:45<00:09, 13.71it/s, loss=0.498, sparse_categorical_accuracy=0.82]\u001b[A\n",
            "Epoch 1/5:  92%|█████████▏| 1582/1718 [01:45<00:09, 13.71it/s, loss=0.498, sparse_categorical_accuracy=0.82]\u001b[A\n",
            "Epoch 1/5:  92%|█████████▏| 1582/1718 [01:45<00:09, 13.71it/s, loss=0.498, sparse_categorical_accuracy=0.82]\u001b[A\n",
            "Epoch 1/5:  92%|█████████▏| 1584/1718 [01:45<00:10, 13.16it/s, loss=0.498, sparse_categorical_accuracy=0.82]\u001b[A\n",
            "Epoch 1/5:  92%|█████████▏| 1584/1718 [01:45<00:10, 13.16it/s, loss=0.497, sparse_categorical_accuracy=0.82]\u001b[A\n",
            "Epoch 1/5:  92%|█████████▏| 1584/1718 [01:45<00:10, 13.16it/s, loss=0.497, sparse_categorical_accuracy=0.82]\u001b[A\n",
            "Epoch 1/5:  92%|█████████▏| 1586/1718 [01:45<00:09, 13.28it/s, loss=0.497, sparse_categorical_accuracy=0.82]\u001b[A\n",
            "Epoch 1/5:  92%|█████████▏| 1586/1718 [01:45<00:09, 13.28it/s, loss=0.497, sparse_categorical_accuracy=0.82]\u001b[A\n",
            "Epoch 1/5:  92%|█████████▏| 1586/1718 [01:45<00:09, 13.28it/s, loss=0.497, sparse_categorical_accuracy=0.82]\u001b[A\n",
            "Epoch 1/5:  92%|█████████▏| 1588/1718 [01:45<00:09, 14.00it/s, loss=0.497, sparse_categorical_accuracy=0.82]\u001b[A\n",
            "Epoch 1/5:  92%|█████████▏| 1588/1718 [01:45<00:09, 14.00it/s, loss=0.497, sparse_categorical_accuracy=0.82]\u001b[A\n",
            "Epoch 1/5:  92%|█████████▏| 1588/1718 [01:45<00:09, 14.00it/s, loss=0.497, sparse_categorical_accuracy=0.82]\u001b[A\n",
            "Epoch 1/5:  93%|█████████▎| 1590/1718 [01:45<00:08, 14.88it/s, loss=0.497, sparse_categorical_accuracy=0.82]\u001b[A\n",
            "Epoch 1/5:  93%|█████████▎| 1590/1718 [01:45<00:08, 14.88it/s, loss=0.497, sparse_categorical_accuracy=0.82]\u001b[A\n",
            "Epoch 1/5:  93%|█████████▎| 1590/1718 [01:45<00:08, 14.88it/s, loss=0.497, sparse_categorical_accuracy=0.82]\u001b[A\n",
            "Epoch 1/5:  93%|█████████▎| 1592/1718 [01:45<00:08, 14.27it/s, loss=0.497, sparse_categorical_accuracy=0.82]\u001b[A\n",
            "Epoch 1/5:  93%|█████████▎| 1592/1718 [01:45<00:08, 14.27it/s, loss=0.497, sparse_categorical_accuracy=0.82]\u001b[A\n",
            "Epoch 1/5:  93%|█████████▎| 1592/1718 [01:45<00:08, 14.27it/s, loss=0.497, sparse_categorical_accuracy=0.82]\u001b[A\n",
            "Epoch 1/5:  93%|█████████▎| 1594/1718 [01:45<00:08, 14.12it/s, loss=0.497, sparse_categorical_accuracy=0.82]\u001b[A\n",
            "Epoch 1/5:  93%|█████████▎| 1594/1718 [01:45<00:08, 14.12it/s, loss=0.497, sparse_categorical_accuracy=0.82]\u001b[A\n",
            "Epoch 1/5:  93%|█████████▎| 1594/1718 [01:46<00:08, 14.12it/s, loss=0.497, sparse_categorical_accuracy=0.82]\u001b[A\n",
            "Epoch 1/5:  93%|█████████▎| 1596/1718 [01:46<00:08, 14.59it/s, loss=0.497, sparse_categorical_accuracy=0.82]\u001b[A\n",
            "Epoch 1/5:  93%|█████████▎| 1596/1718 [01:46<00:08, 14.59it/s, loss=0.497, sparse_categorical_accuracy=0.82]\u001b[A\n",
            "Epoch 1/5:  93%|█████████▎| 1596/1718 [01:46<00:08, 14.59it/s, loss=0.497, sparse_categorical_accuracy=0.82]\u001b[A\n",
            "Epoch 1/5:  93%|█████████▎| 1598/1718 [01:46<00:07, 15.29it/s, loss=0.497, sparse_categorical_accuracy=0.82]\u001b[A\n",
            "Epoch 1/5:  93%|█████████▎| 1598/1718 [01:46<00:07, 15.29it/s, loss=0.497, sparse_categorical_accuracy=0.82]\u001b[A\n",
            "Epoch 1/5:  93%|█████████▎| 1598/1718 [01:46<00:07, 15.29it/s, loss=0.497, sparse_categorical_accuracy=0.82]\u001b[A\n",
            "Epoch 1/5:  93%|█████████▎| 1600/1718 [01:46<00:07, 15.71it/s, loss=0.497, sparse_categorical_accuracy=0.82]\u001b[A\n",
            "Epoch 1/5:  93%|█████████▎| 1600/1718 [01:46<00:07, 15.71it/s, loss=0.497, sparse_categorical_accuracy=0.82]\u001b[A\n",
            "Epoch 1/5:  93%|█████████▎| 1600/1718 [01:46<00:07, 15.71it/s, loss=0.497, sparse_categorical_accuracy=0.82]\u001b[A\n",
            "Epoch 1/5:  93%|█████████▎| 1602/1718 [01:46<00:07, 16.10it/s, loss=0.497, sparse_categorical_accuracy=0.82]\u001b[A\n",
            "Epoch 1/5:  93%|█████████▎| 1602/1718 [01:46<00:07, 16.10it/s, loss=0.497, sparse_categorical_accuracy=0.82]\u001b[A\n",
            "Epoch 1/5:  93%|█████████▎| 1602/1718 [01:46<00:07, 16.10it/s, loss=0.497, sparse_categorical_accuracy=0.82]\u001b[A\n",
            "Epoch 1/5:  93%|█████████▎| 1604/1718 [01:46<00:07, 15.94it/s, loss=0.497, sparse_categorical_accuracy=0.82]\u001b[A\n",
            "Epoch 1/5:  93%|█████████▎| 1604/1718 [01:46<00:07, 15.94it/s, loss=0.497, sparse_categorical_accuracy=0.82]\u001b[A\n",
            "Epoch 1/5:  93%|█████████▎| 1604/1718 [01:46<00:07, 15.94it/s, loss=0.497, sparse_categorical_accuracy=0.82]\u001b[A\n",
            "Epoch 1/5:  93%|█████████▎| 1606/1718 [01:46<00:06, 16.35it/s, loss=0.497, sparse_categorical_accuracy=0.82]\u001b[A\n",
            "Epoch 1/5:  93%|█████████▎| 1606/1718 [01:46<00:06, 16.35it/s, loss=0.497, sparse_categorical_accuracy=0.82]\u001b[A\n",
            "Epoch 1/5:  93%|█████████▎| 1606/1718 [01:46<00:06, 16.35it/s, loss=0.496, sparse_categorical_accuracy=0.82]\u001b[A\n",
            "Epoch 1/5:  94%|█████████▎| 1608/1718 [01:46<00:06, 15.87it/s, loss=0.496, sparse_categorical_accuracy=0.82]\u001b[A\n",
            "Epoch 1/5:  94%|█████████▎| 1608/1718 [01:46<00:06, 15.87it/s, loss=0.497, sparse_categorical_accuracy=0.82]\u001b[A\n",
            "Epoch 1/5:  94%|█████████▎| 1608/1718 [01:46<00:06, 15.87it/s, loss=0.497, sparse_categorical_accuracy=0.82]\u001b[A\n",
            "Epoch 1/5:  94%|█████████▎| 1610/1718 [01:46<00:07, 14.78it/s, loss=0.497, sparse_categorical_accuracy=0.82]\u001b[A\n",
            "Epoch 1/5:  94%|█████████▎| 1610/1718 [01:47<00:07, 14.78it/s, loss=0.497, sparse_categorical_accuracy=0.82]\u001b[A\n",
            "Epoch 1/5:  94%|█████████▎| 1610/1718 [01:47<00:07, 14.78it/s, loss=0.497, sparse_categorical_accuracy=0.82]\u001b[A\n",
            "Epoch 1/5:  94%|█████████▍| 1612/1718 [01:47<00:08, 13.24it/s, loss=0.497, sparse_categorical_accuracy=0.82]\u001b[A\n",
            "Epoch 1/5:  94%|█████████▍| 1612/1718 [01:47<00:08, 13.24it/s, loss=0.497, sparse_categorical_accuracy=0.82]\u001b[A\n",
            "Epoch 1/5:  94%|█████████▍| 1612/1718 [01:47<00:08, 13.24it/s, loss=0.497, sparse_categorical_accuracy=0.821]\u001b[A\n",
            "Epoch 1/5:  94%|█████████▍| 1614/1718 [01:47<00:08, 12.55it/s, loss=0.497, sparse_categorical_accuracy=0.821]\u001b[A\n",
            "Epoch 1/5:  94%|█████████▍| 1614/1718 [01:47<00:08, 12.55it/s, loss=0.497, sparse_categorical_accuracy=0.821]\u001b[A\n",
            "Epoch 1/5:  94%|█████████▍| 1614/1718 [01:47<00:08, 12.55it/s, loss=0.497, sparse_categorical_accuracy=0.821]\u001b[A\n",
            "Epoch 1/5:  94%|█████████▍| 1616/1718 [01:47<00:07, 12.93it/s, loss=0.497, sparse_categorical_accuracy=0.821]\u001b[A\n",
            "Epoch 1/5:  94%|█████████▍| 1616/1718 [01:47<00:07, 12.93it/s, loss=0.497, sparse_categorical_accuracy=0.821]\u001b[A\n",
            "Epoch 1/5:  94%|█████████▍| 1616/1718 [01:47<00:07, 12.93it/s, loss=0.497, sparse_categorical_accuracy=0.821]\u001b[A\n",
            "Epoch 1/5:  94%|█████████▍| 1618/1718 [01:47<00:07, 13.02it/s, loss=0.497, sparse_categorical_accuracy=0.821]\u001b[A\n",
            "Epoch 1/5:  94%|█████████▍| 1618/1718 [01:47<00:07, 13.02it/s, loss=0.497, sparse_categorical_accuracy=0.821]\u001b[A\n",
            "Epoch 1/5:  94%|█████████▍| 1618/1718 [01:47<00:07, 13.02it/s, loss=0.497, sparse_categorical_accuracy=0.821]\u001b[A\n",
            "Epoch 1/5:  94%|█████████▍| 1620/1718 [01:47<00:07, 12.88it/s, loss=0.497, sparse_categorical_accuracy=0.821]\u001b[A\n",
            "Epoch 1/5:  94%|█████████▍| 1620/1718 [01:47<00:07, 12.88it/s, loss=0.497, sparse_categorical_accuracy=0.821]\u001b[A\n",
            "Epoch 1/5:  94%|█████████▍| 1620/1718 [01:47<00:07, 12.88it/s, loss=0.496, sparse_categorical_accuracy=0.821]\u001b[A\n",
            "Epoch 1/5:  94%|█████████▍| 1622/1718 [01:47<00:07, 13.23it/s, loss=0.496, sparse_categorical_accuracy=0.821]\u001b[A\n",
            "Epoch 1/5:  94%|█████████▍| 1622/1718 [01:47<00:07, 13.23it/s, loss=0.496, sparse_categorical_accuracy=0.821]\u001b[A\n",
            "Epoch 1/5:  94%|█████████▍| 1622/1718 [01:48<00:07, 13.23it/s, loss=0.496, sparse_categorical_accuracy=0.821]\u001b[A\n",
            "Epoch 1/5:  95%|█████████▍| 1624/1718 [01:48<00:06, 13.91it/s, loss=0.496, sparse_categorical_accuracy=0.821]\u001b[A\n",
            "Epoch 1/5:  95%|█████████▍| 1624/1718 [01:48<00:06, 13.91it/s, loss=0.496, sparse_categorical_accuracy=0.821]\u001b[A\n",
            "Epoch 1/5:  95%|█████████▍| 1624/1718 [01:48<00:06, 13.91it/s, loss=0.497, sparse_categorical_accuracy=0.821]\u001b[A\n",
            "Epoch 1/5:  95%|█████████▍| 1626/1718 [01:48<00:06, 14.34it/s, loss=0.497, sparse_categorical_accuracy=0.821]\u001b[A\n",
            "Epoch 1/5:  95%|█████████▍| 1626/1718 [01:48<00:06, 14.34it/s, loss=0.496, sparse_categorical_accuracy=0.821]\u001b[A\n",
            "Epoch 1/5:  95%|█████████▍| 1626/1718 [01:48<00:06, 14.34it/s, loss=0.496, sparse_categorical_accuracy=0.821]\u001b[A\n",
            "Epoch 1/5:  95%|█████████▍| 1628/1718 [01:48<00:05, 15.04it/s, loss=0.496, sparse_categorical_accuracy=0.821]\u001b[A\n",
            "Epoch 1/5:  95%|█████████▍| 1628/1718 [01:48<00:05, 15.04it/s, loss=0.496, sparse_categorical_accuracy=0.821]\u001b[A\n",
            "Epoch 1/5:  95%|█████████▍| 1628/1718 [01:48<00:05, 15.04it/s, loss=0.496, sparse_categorical_accuracy=0.821]\u001b[A\n",
            "Epoch 1/5:  95%|█████████▍| 1630/1718 [01:48<00:06, 14.28it/s, loss=0.496, sparse_categorical_accuracy=0.821]\u001b[A\n",
            "Epoch 1/5:  95%|█████████▍| 1630/1718 [01:48<00:06, 14.28it/s, loss=0.496, sparse_categorical_accuracy=0.821]\u001b[A\n",
            "Epoch 1/5:  95%|█████████▍| 1630/1718 [01:48<00:06, 14.28it/s, loss=0.496, sparse_categorical_accuracy=0.821]\u001b[A\n",
            "Epoch 1/5:  95%|█████████▍| 1632/1718 [01:48<00:06, 13.47it/s, loss=0.496, sparse_categorical_accuracy=0.821]\u001b[A\n",
            "Epoch 1/5:  95%|█████████▍| 1632/1718 [01:48<00:06, 13.47it/s, loss=0.496, sparse_categorical_accuracy=0.821]\u001b[A\n",
            "Epoch 1/5:  95%|█████████▍| 1632/1718 [01:48<00:06, 13.47it/s, loss=0.496, sparse_categorical_accuracy=0.821]\u001b[A\n",
            "Epoch 1/5:  95%|█████████▌| 1634/1718 [01:48<00:06, 13.13it/s, loss=0.496, sparse_categorical_accuracy=0.821]\u001b[A\n",
            "Epoch 1/5:  95%|█████████▌| 1634/1718 [01:48<00:06, 13.13it/s, loss=0.496, sparse_categorical_accuracy=0.821]\u001b[A\n",
            "Epoch 1/5:  95%|█████████▌| 1634/1718 [01:48<00:06, 13.13it/s, loss=0.496, sparse_categorical_accuracy=0.821]\u001b[A\n",
            "Epoch 1/5:  95%|█████████▌| 1636/1718 [01:48<00:06, 12.31it/s, loss=0.496, sparse_categorical_accuracy=0.821]\u001b[A\n",
            "Epoch 1/5:  95%|█████████▌| 1636/1718 [01:49<00:06, 12.31it/s, loss=0.496, sparse_categorical_accuracy=0.821]\u001b[A\n",
            "Epoch 1/5:  95%|█████████▌| 1636/1718 [01:49<00:06, 12.31it/s, loss=0.496, sparse_categorical_accuracy=0.821]\u001b[A\n",
            "Epoch 1/5:  95%|█████████▌| 1638/1718 [01:49<00:06, 11.89it/s, loss=0.496, sparse_categorical_accuracy=0.821]\u001b[A\n",
            "Epoch 1/5:  95%|█████████▌| 1638/1718 [01:49<00:06, 11.89it/s, loss=0.496, sparse_categorical_accuracy=0.821]\u001b[A\n",
            "Epoch 1/5:  95%|█████████▌| 1638/1718 [01:49<00:06, 11.89it/s, loss=0.496, sparse_categorical_accuracy=0.821]\u001b[A\n",
            "Epoch 1/5:  95%|█████████▌| 1640/1718 [01:49<00:06, 11.66it/s, loss=0.496, sparse_categorical_accuracy=0.821]\u001b[A\n",
            "Epoch 1/5:  95%|█████████▌| 1640/1718 [01:49<00:06, 11.66it/s, loss=0.496, sparse_categorical_accuracy=0.821]\u001b[A\n",
            "Epoch 1/5:  95%|█████████▌| 1640/1718 [01:49<00:06, 11.66it/s, loss=0.495, sparse_categorical_accuracy=0.821]\u001b[A\n",
            "Epoch 1/5:  96%|█████████▌| 1642/1718 [01:49<00:06, 12.02it/s, loss=0.495, sparse_categorical_accuracy=0.821]\u001b[A\n",
            "Epoch 1/5:  96%|█████████▌| 1642/1718 [01:49<00:06, 12.02it/s, loss=0.496, sparse_categorical_accuracy=0.821]\u001b[A\n",
            "Epoch 1/5:  96%|█████████▌| 1642/1718 [01:49<00:06, 12.02it/s, loss=0.495, sparse_categorical_accuracy=0.821]\u001b[A\n",
            "Epoch 1/5:  96%|█████████▌| 1644/1718 [01:49<00:06, 12.31it/s, loss=0.495, sparse_categorical_accuracy=0.821]\u001b[A\n",
            "Epoch 1/5:  96%|█████████▌| 1644/1718 [01:49<00:06, 12.31it/s, loss=0.495, sparse_categorical_accuracy=0.821]\u001b[A\n",
            "Epoch 1/5:  96%|█████████▌| 1644/1718 [01:49<00:06, 12.31it/s, loss=0.495, sparse_categorical_accuracy=0.821]\u001b[A\n",
            "Epoch 1/5:  96%|█████████▌| 1646/1718 [01:49<00:06, 11.86it/s, loss=0.495, sparse_categorical_accuracy=0.821]\u001b[A\n",
            "Epoch 1/5:  96%|█████████▌| 1646/1718 [01:49<00:06, 11.86it/s, loss=0.495, sparse_categorical_accuracy=0.821]\u001b[A\n",
            "Epoch 1/5:  96%|█████████▌| 1646/1718 [01:49<00:06, 11.86it/s, loss=0.495, sparse_categorical_accuracy=0.821]\u001b[A\n",
            "Epoch 1/5:  96%|█████████▌| 1648/1718 [01:49<00:05, 11.96it/s, loss=0.495, sparse_categorical_accuracy=0.821]\u001b[A\n",
            "Epoch 1/5:  96%|█████████▌| 1648/1718 [01:50<00:05, 11.96it/s, loss=0.495, sparse_categorical_accuracy=0.821]\u001b[A\n",
            "Epoch 1/5:  96%|█████████▌| 1648/1718 [01:50<00:05, 11.96it/s, loss=0.495, sparse_categorical_accuracy=0.821]\u001b[A\n",
            "Epoch 1/5:  96%|█████████▌| 1650/1718 [01:50<00:05, 13.17it/s, loss=0.495, sparse_categorical_accuracy=0.821]\u001b[A\n",
            "Epoch 1/5:  96%|█████████▌| 1650/1718 [01:50<00:05, 13.17it/s, loss=0.495, sparse_categorical_accuracy=0.821]\u001b[A\n",
            "Epoch 1/5:  96%|█████████▌| 1650/1718 [01:50<00:05, 13.17it/s, loss=0.495, sparse_categorical_accuracy=0.821]\u001b[A\n",
            "Epoch 1/5:  96%|█████████▌| 1652/1718 [01:50<00:04, 14.29it/s, loss=0.495, sparse_categorical_accuracy=0.821]\u001b[A\n",
            "Epoch 1/5:  96%|█████████▌| 1652/1718 [01:50<00:04, 14.29it/s, loss=0.495, sparse_categorical_accuracy=0.821]\u001b[A\n",
            "Epoch 1/5:  96%|█████████▌| 1652/1718 [01:50<00:04, 14.29it/s, loss=0.495, sparse_categorical_accuracy=0.821]\u001b[A\n",
            "Epoch 1/5:  96%|█████████▋| 1654/1718 [01:50<00:04, 15.21it/s, loss=0.495, sparse_categorical_accuracy=0.821]\u001b[A\n",
            "Epoch 1/5:  96%|█████████▋| 1654/1718 [01:50<00:04, 15.21it/s, loss=0.495, sparse_categorical_accuracy=0.821]\u001b[A\n",
            "Epoch 1/5:  96%|█████████▋| 1654/1718 [01:50<00:04, 15.21it/s, loss=0.495, sparse_categorical_accuracy=0.821]\u001b[A\n",
            "Epoch 1/5:  96%|█████████▋| 1656/1718 [01:50<00:03, 15.91it/s, loss=0.495, sparse_categorical_accuracy=0.821]\u001b[A\n",
            "Epoch 1/5:  96%|█████████▋| 1656/1718 [01:50<00:03, 15.91it/s, loss=0.495, sparse_categorical_accuracy=0.821]\u001b[A\n",
            "Epoch 1/5:  96%|█████████▋| 1656/1718 [01:50<00:03, 15.91it/s, loss=0.495, sparse_categorical_accuracy=0.821]\u001b[A\n",
            "Epoch 1/5:  97%|█████████▋| 1658/1718 [01:50<00:03, 16.51it/s, loss=0.495, sparse_categorical_accuracy=0.821]\u001b[A\n",
            "Epoch 1/5:  97%|█████████▋| 1658/1718 [01:50<00:03, 16.51it/s, loss=0.495, sparse_categorical_accuracy=0.821]\u001b[A\n",
            "Epoch 1/5:  97%|█████████▋| 1658/1718 [01:50<00:03, 16.51it/s, loss=0.495, sparse_categorical_accuracy=0.821]\u001b[A\n",
            "Epoch 1/5:  97%|█████████▋| 1660/1718 [01:50<00:03, 16.73it/s, loss=0.495, sparse_categorical_accuracy=0.821]\u001b[A\n",
            "Epoch 1/5:  97%|█████████▋| 1660/1718 [01:50<00:03, 16.73it/s, loss=0.495, sparse_categorical_accuracy=0.821]\u001b[A\n",
            "Epoch 1/5:  97%|█████████▋| 1660/1718 [01:50<00:03, 16.73it/s, loss=0.495, sparse_categorical_accuracy=0.821]\u001b[A\n",
            "Epoch 1/5:  97%|█████████▋| 1662/1718 [01:50<00:03, 14.70it/s, loss=0.495, sparse_categorical_accuracy=0.821]\u001b[A\n",
            "Epoch 1/5:  97%|█████████▋| 1662/1718 [01:50<00:03, 14.70it/s, loss=0.495, sparse_categorical_accuracy=0.821]\u001b[A\n",
            "Epoch 1/5:  97%|█████████▋| 1662/1718 [01:50<00:03, 14.70it/s, loss=0.495, sparse_categorical_accuracy=0.821]\u001b[A\n",
            "Epoch 1/5:  97%|█████████▋| 1664/1718 [01:50<00:03, 13.52it/s, loss=0.495, sparse_categorical_accuracy=0.821]\u001b[A\n",
            "Epoch 1/5:  97%|█████████▋| 1664/1718 [01:51<00:03, 13.52it/s, loss=0.495, sparse_categorical_accuracy=0.822]\u001b[A\n",
            "Epoch 1/5:  97%|█████████▋| 1664/1718 [01:51<00:03, 13.52it/s, loss=0.495, sparse_categorical_accuracy=0.822]\u001b[A\n",
            "Epoch 1/5:  97%|█████████▋| 1666/1718 [01:51<00:04, 12.86it/s, loss=0.495, sparse_categorical_accuracy=0.822]\u001b[A\n",
            "Epoch 1/5:  97%|█████████▋| 1666/1718 [01:51<00:04, 12.86it/s, loss=0.495, sparse_categorical_accuracy=0.822]\u001b[A\n",
            "Epoch 1/5:  97%|█████████▋| 1666/1718 [01:51<00:04, 12.86it/s, loss=0.495, sparse_categorical_accuracy=0.822]\u001b[A\n",
            "Epoch 1/5:  97%|█████████▋| 1668/1718 [01:51<00:03, 12.73it/s, loss=0.495, sparse_categorical_accuracy=0.822]\u001b[A\n",
            "Epoch 1/5:  97%|█████████▋| 1668/1718 [01:51<00:03, 12.73it/s, loss=0.495, sparse_categorical_accuracy=0.822]\u001b[A\n",
            "Epoch 1/5:  97%|█████████▋| 1668/1718 [01:51<00:03, 12.73it/s, loss=0.495, sparse_categorical_accuracy=0.822]\u001b[A\n",
            "Epoch 1/5:  97%|█████████▋| 1670/1718 [01:51<00:03, 13.08it/s, loss=0.495, sparse_categorical_accuracy=0.822]\u001b[A\n",
            "Epoch 1/5:  97%|█████████▋| 1670/1718 [01:51<00:03, 13.08it/s, loss=0.495, sparse_categorical_accuracy=0.822]\u001b[A\n",
            "Epoch 1/5:  97%|█████████▋| 1670/1718 [01:51<00:03, 13.08it/s, loss=0.495, sparse_categorical_accuracy=0.821]\u001b[A\n",
            "Epoch 1/5:  97%|█████████▋| 1672/1718 [01:51<00:03, 13.28it/s, loss=0.495, sparse_categorical_accuracy=0.821]\u001b[A\n",
            "Epoch 1/5:  97%|█████████▋| 1672/1718 [01:51<00:03, 13.28it/s, loss=0.495, sparse_categorical_accuracy=0.822]\u001b[A\n",
            "Epoch 1/5:  97%|█████████▋| 1672/1718 [01:51<00:03, 13.28it/s, loss=0.495, sparse_categorical_accuracy=0.822]\u001b[A\n",
            "Epoch 1/5:  97%|█████████▋| 1674/1718 [01:51<00:03, 13.20it/s, loss=0.495, sparse_categorical_accuracy=0.822]\u001b[A\n",
            "Epoch 1/5:  97%|█████████▋| 1674/1718 [01:51<00:03, 13.20it/s, loss=0.495, sparse_categorical_accuracy=0.822]\u001b[A\n",
            "Epoch 1/5:  97%|█████████▋| 1674/1718 [01:51<00:03, 13.20it/s, loss=0.495, sparse_categorical_accuracy=0.822]\u001b[A\n",
            "Epoch 1/5:  98%|█████████▊| 1676/1718 [01:51<00:03, 11.80it/s, loss=0.495, sparse_categorical_accuracy=0.822]\u001b[A\n",
            "Epoch 1/5:  98%|█████████▊| 1676/1718 [01:52<00:03, 11.80it/s, loss=0.495, sparse_categorical_accuracy=0.822]\u001b[A\n",
            "Epoch 1/5:  98%|█████████▊| 1676/1718 [01:52<00:03, 11.80it/s, loss=0.494, sparse_categorical_accuracy=0.822]\u001b[A\n",
            "Epoch 1/5:  98%|█████████▊| 1678/1718 [01:52<00:03, 11.65it/s, loss=0.494, sparse_categorical_accuracy=0.822]\u001b[A\n",
            "Epoch 1/5:  98%|█████████▊| 1678/1718 [01:52<00:03, 11.65it/s, loss=0.494, sparse_categorical_accuracy=0.822]\u001b[A\n",
            "Epoch 1/5:  98%|█████████▊| 1678/1718 [01:52<00:03, 11.65it/s, loss=0.494, sparse_categorical_accuracy=0.822]\u001b[A\n",
            "Epoch 1/5:  98%|█████████▊| 1680/1718 [01:52<00:03, 11.93it/s, loss=0.494, sparse_categorical_accuracy=0.822]\u001b[A\n",
            "Epoch 1/5:  98%|█████████▊| 1680/1718 [01:52<00:03, 11.93it/s, loss=0.494, sparse_categorical_accuracy=0.822]\u001b[A\n",
            "Epoch 1/5:  98%|█████████▊| 1680/1718 [01:52<00:03, 11.93it/s, loss=0.494, sparse_categorical_accuracy=0.822]\u001b[A\n",
            "Epoch 1/5:  98%|█████████▊| 1682/1718 [01:52<00:03, 11.90it/s, loss=0.494, sparse_categorical_accuracy=0.822]\u001b[A\n",
            "Epoch 1/5:  98%|█████████▊| 1682/1718 [01:52<00:03, 11.90it/s, loss=0.494, sparse_categorical_accuracy=0.822]\u001b[A\n",
            "Epoch 1/5:  98%|█████████▊| 1682/1718 [01:52<00:03, 11.90it/s, loss=0.494, sparse_categorical_accuracy=0.822]\u001b[A\n",
            "Epoch 1/5:  98%|█████████▊| 1684/1718 [01:52<00:02, 12.40it/s, loss=0.494, sparse_categorical_accuracy=0.822]\u001b[A\n",
            "Epoch 1/5:  98%|█████████▊| 1684/1718 [01:52<00:02, 12.40it/s, loss=0.494, sparse_categorical_accuracy=0.822]\u001b[A\n",
            "Epoch 1/5:  98%|█████████▊| 1684/1718 [01:52<00:02, 12.40it/s, loss=0.494, sparse_categorical_accuracy=0.822]\u001b[A\n",
            "Epoch 1/5:  98%|█████████▊| 1686/1718 [01:52<00:02, 12.71it/s, loss=0.494, sparse_categorical_accuracy=0.822]\u001b[A\n",
            "Epoch 1/5:  98%|█████████▊| 1686/1718 [01:52<00:02, 12.71it/s, loss=0.494, sparse_categorical_accuracy=0.822]\u001b[A\n",
            "Epoch 1/5:  98%|█████████▊| 1686/1718 [01:52<00:02, 12.71it/s, loss=0.494, sparse_categorical_accuracy=0.822]\u001b[A\n",
            "Epoch 1/5:  98%|█████████▊| 1688/1718 [01:52<00:02, 12.36it/s, loss=0.494, sparse_categorical_accuracy=0.822]\u001b[A\n",
            "Epoch 1/5:  98%|█████████▊| 1688/1718 [01:53<00:02, 12.36it/s, loss=0.494, sparse_categorical_accuracy=0.822]\u001b[A\n",
            "Epoch 1/5:  98%|█████████▊| 1688/1718 [01:53<00:02, 12.36it/s, loss=0.494, sparse_categorical_accuracy=0.822]\u001b[A\n",
            "Epoch 1/5:  98%|█████████▊| 1690/1718 [01:53<00:02, 11.88it/s, loss=0.494, sparse_categorical_accuracy=0.822]\u001b[A\n",
            "Epoch 1/5:  98%|█████████▊| 1690/1718 [01:53<00:02, 11.88it/s, loss=0.494, sparse_categorical_accuracy=0.821]\u001b[A\n",
            "Epoch 1/5:  98%|█████████▊| 1690/1718 [01:53<00:02, 11.88it/s, loss=0.494, sparse_categorical_accuracy=0.821]\u001b[A\n",
            "Epoch 1/5:  98%|█████████▊| 1692/1718 [01:53<00:02, 12.10it/s, loss=0.494, sparse_categorical_accuracy=0.821]\u001b[A\n",
            "Epoch 1/5:  98%|█████████▊| 1692/1718 [01:53<00:02, 12.10it/s, loss=0.494, sparse_categorical_accuracy=0.821]\u001b[A\n",
            "Epoch 1/5:  98%|█████████▊| 1692/1718 [01:53<00:02, 12.10it/s, loss=0.494, sparse_categorical_accuracy=0.821]\u001b[A\n",
            "Epoch 1/5:  99%|█████████▊| 1694/1718 [01:53<00:01, 12.55it/s, loss=0.494, sparse_categorical_accuracy=0.821]\u001b[A\n",
            "Epoch 1/5:  99%|█████████▊| 1694/1718 [01:53<00:01, 12.55it/s, loss=0.494, sparse_categorical_accuracy=0.821]\u001b[A\n",
            "Epoch 1/5:  99%|█████████▊| 1694/1718 [01:53<00:01, 12.55it/s, loss=0.494, sparse_categorical_accuracy=0.821]\u001b[A\n",
            "Epoch 1/5:  99%|█████████▊| 1696/1718 [01:53<00:01, 13.57it/s, loss=0.494, sparse_categorical_accuracy=0.821]\u001b[A\n",
            "Epoch 1/5:  99%|█████████▊| 1696/1718 [01:53<00:01, 13.57it/s, loss=0.494, sparse_categorical_accuracy=0.822]\u001b[A\n",
            "Epoch 1/5:  99%|█████████▊| 1696/1718 [01:53<00:01, 13.57it/s, loss=0.494, sparse_categorical_accuracy=0.822]\u001b[A\n",
            "Epoch 1/5:  99%|█████████▉| 1698/1718 [01:53<00:01, 14.41it/s, loss=0.494, sparse_categorical_accuracy=0.822]\u001b[A\n",
            "Epoch 1/5:  99%|█████████▉| 1698/1718 [01:53<00:01, 14.41it/s, loss=0.494, sparse_categorical_accuracy=0.822]\u001b[A\n",
            "Epoch 1/5:  99%|█████████▉| 1698/1718 [01:53<00:01, 14.41it/s, loss=0.494, sparse_categorical_accuracy=0.822]\u001b[A\n",
            "Epoch 1/5:  99%|█████████▉| 1700/1718 [01:53<00:01, 14.46it/s, loss=0.494, sparse_categorical_accuracy=0.822]\u001b[A\n",
            "Epoch 1/5:  99%|█████████▉| 1700/1718 [01:53<00:01, 14.46it/s, loss=0.494, sparse_categorical_accuracy=0.822]\u001b[A\n",
            "Epoch 1/5:  99%|█████████▉| 1700/1718 [01:53<00:01, 14.46it/s, loss=0.494, sparse_categorical_accuracy=0.822]\u001b[A\n",
            "Epoch 1/5:  99%|█████████▉| 1702/1718 [01:53<00:01, 14.49it/s, loss=0.494, sparse_categorical_accuracy=0.822]\u001b[A\n",
            "Epoch 1/5:  99%|█████████▉| 1702/1718 [01:54<00:01, 14.49it/s, loss=0.494, sparse_categorical_accuracy=0.822]\u001b[A\n",
            "Epoch 1/5:  99%|█████████▉| 1702/1718 [01:54<00:01, 14.49it/s, loss=0.494, sparse_categorical_accuracy=0.822]\u001b[A\n",
            "Epoch 1/5:  99%|█████████▉| 1704/1718 [01:54<00:00, 14.79it/s, loss=0.494, sparse_categorical_accuracy=0.822]\u001b[A\n",
            "Epoch 1/5:  99%|█████████▉| 1704/1718 [01:54<00:00, 14.79it/s, loss=0.494, sparse_categorical_accuracy=0.822]\u001b[A\n",
            "Epoch 1/5:  99%|█████████▉| 1704/1718 [01:54<00:00, 14.79it/s, loss=0.494, sparse_categorical_accuracy=0.822]\u001b[A\n",
            "Epoch 1/5:  99%|█████████▉| 1706/1718 [01:54<00:00, 15.46it/s, loss=0.494, sparse_categorical_accuracy=0.822]\u001b[A\n",
            "Epoch 1/5:  99%|█████████▉| 1706/1718 [01:54<00:00, 15.46it/s, loss=0.494, sparse_categorical_accuracy=0.822]\u001b[A\n",
            "Epoch 1/5:  99%|█████████▉| 1706/1718 [01:54<00:00, 15.46it/s, loss=0.494, sparse_categorical_accuracy=0.822]\u001b[A\n",
            "Epoch 1/5:  99%|█████████▉| 1708/1718 [01:54<00:00, 15.88it/s, loss=0.494, sparse_categorical_accuracy=0.822]\u001b[A\n",
            "Epoch 1/5:  99%|█████████▉| 1708/1718 [01:54<00:00, 15.88it/s, loss=0.494, sparse_categorical_accuracy=0.821]\u001b[A\n",
            "Epoch 1/5:  99%|█████████▉| 1708/1718 [01:54<00:00, 15.88it/s, loss=0.494, sparse_categorical_accuracy=0.821]\u001b[A\n",
            "Epoch 1/5: 100%|█████████▉| 1710/1718 [01:54<00:00, 16.22it/s, loss=0.494, sparse_categorical_accuracy=0.821]\u001b[A\n",
            "Epoch 1/5: 100%|█████████▉| 1710/1718 [01:54<00:00, 16.22it/s, loss=0.494, sparse_categorical_accuracy=0.822]\u001b[A\n",
            "Epoch 1/5: 100%|█████████▉| 1710/1718 [01:54<00:00, 16.22it/s, loss=0.494, sparse_categorical_accuracy=0.821]\u001b[A\n",
            "Epoch 1/5: 100%|█████████▉| 1712/1718 [01:54<00:00, 16.57it/s, loss=0.494, sparse_categorical_accuracy=0.821]\u001b[A\n",
            "Epoch 1/5: 100%|█████████▉| 1712/1718 [01:54<00:00, 16.57it/s, loss=0.494, sparse_categorical_accuracy=0.821]\u001b[A\n",
            "Epoch 1/5: 100%|█████████▉| 1712/1718 [01:54<00:00, 16.57it/s, loss=0.494, sparse_categorical_accuracy=0.821]\u001b[A\n",
            "Epoch 1/5: 100%|█████████▉| 1714/1718 [01:54<00:00, 16.84it/s, loss=0.494, sparse_categorical_accuracy=0.821]\u001b[A\n",
            "Epoch 1/5: 100%|█████████▉| 1714/1718 [01:54<00:00, 16.84it/s, loss=0.494, sparse_categorical_accuracy=0.821]\u001b[A\n",
            "Epoch 1/5: 100%|█████████▉| 1714/1718 [01:54<00:00, 16.84it/s, loss=0.494, sparse_categorical_accuracy=0.821]\u001b[A\n",
            "Epoch 1/5: 100%|█████████▉| 1716/1718 [01:54<00:00, 16.12it/s, loss=0.494, sparse_categorical_accuracy=0.821]\u001b[A\n",
            "Epoch 1/5: 100%|█████████▉| 1716/1718 [01:54<00:00, 16.12it/s, loss=0.494, sparse_categorical_accuracy=0.821]\u001b[A\n",
            "Epoch 1/5: 100%|█████████▉| 1716/1718 [01:54<00:00, 16.12it/s, loss=0.494, sparse_categorical_accuracy=0.821]\u001b[A\n",
            "Epoch 1/5: 100%|██████████| 1718/1718 [01:54<00:00, 14.95it/s, loss=0.494, sparse_categorical_accuracy=0.821]\n",
            "All epochs:   0%|          | 0/5 [01:54<?, ?it/s]\n"
          ]
        },
        {
          "ename": "AttributeError",
          "evalue": "'Mean' object has no attribute 'reset_states'",
          "output_type": "error",
          "traceback": [
            "\u001b[0;31m---------------------------------------------------------------------------\u001b[0m",
            "\u001b[0;31mAttributeError\u001b[0m                            Traceback (most recent call last)",
            "\u001b[0;32m<ipython-input-379-1bedc0e871df>\u001b[0m in \u001b[0;36m<cell line: 1>\u001b[0;34m()\u001b[0m\n\u001b[1;32m     26\u001b[0m             \u001b[0msteps\u001b[0m\u001b[0;34m.\u001b[0m\u001b[0mset_postfix\u001b[0m\u001b[0;34m(\u001b[0m\u001b[0mstatus\u001b[0m\u001b[0;34m)\u001b[0m\u001b[0;34m\u001b[0m\u001b[0;34m\u001b[0m\u001b[0m\n\u001b[1;32m     27\u001b[0m         \u001b[0;32mfor\u001b[0m \u001b[0mmetric\u001b[0m \u001b[0;32min\u001b[0m \u001b[0;34m[\u001b[0m\u001b[0mmean_loss\u001b[0m\u001b[0;34m]\u001b[0m \u001b[0;34m+\u001b[0m \u001b[0mmetrics\u001b[0m\u001b[0;34m:\u001b[0m\u001b[0;34m\u001b[0m\u001b[0;34m\u001b[0m\u001b[0m\n\u001b[0;32m---> 28\u001b[0;31m             \u001b[0mmetric\u001b[0m\u001b[0;34m.\u001b[0m\u001b[0mreset_states\u001b[0m\u001b[0;34m(\u001b[0m\u001b[0;34m)\u001b[0m\u001b[0;34m\u001b[0m\u001b[0;34m\u001b[0m\u001b[0m\n\u001b[0m",
            "\u001b[0;31mAttributeError\u001b[0m: 'Mean' object has no attribute 'reset_states'"
          ]
        }
      ],
      "source": [
        "with trange(1, n_epochs + 1, desc=\"All epochs\") as epochs:\n",
        "    for epoch in epochs:\n",
        "        with trange(1, n_steps + 1, desc=f\"Epoch {epoch}/{n_epochs}\") as steps:\n",
        "            for step in steps:\n",
        "                X_batch, y_batch = random_batch(X_train, y_train)\n",
        "                with tf.GradientTape() as tape:\n",
        "                    y_pred = model(X_batch)\n",
        "                    main_loss = tf.reduce_mean(loss_fn(y_batch, y_pred))\n",
        "                    loss = tf.add_n([main_loss] + model.losses)\n",
        "                gradients = tape.gradient(loss, model.trainable_variables)\n",
        "                optimizer.apply_gradients(zip(gradients, model.trainable_variables))\n",
        "                for variable in model.variables:\n",
        "                    if variable.constraint is not None:\n",
        "                        variable.assign(variable.constraint(variable))\n",
        "                status = OrderedDict()\n",
        "                mean_loss(loss)\n",
        "                status[\"loss\"] = mean_loss.result().numpy()\n",
        "                for metric in metrics:\n",
        "                    metric(y_batch, y_pred)\n",
        "                    status[metric.name] = metric.result().numpy()\n",
        "                steps.set_postfix(status)\n",
        "            y_pred = model(X_valid)\n",
        "            status[\"val_loss\"] = np.mean(loss_fn(y_valid, y_pred))\n",
        "            status[\"val_accuracy\"] = np.mean(tf.keras.metrics.sparse_categorical_accuracy(\n",
        "                tf.constant(y_valid, dtype=np.float32), y_pred))\n",
        "            steps.set_postfix(status)\n",
        "        for metric in [mean_loss] + metrics:\n",
        "            metric.reset_states()\n"
      ]
    },
    {
      "cell_type": "markdown",
      "metadata": {
        "id": "qt9pd6eJAxr1"
      },
      "source": [
        "### b.\n",
        "_문제: 상위 층과 하위 층에 학습률이 다른 옵티마이저를 따로 사용해보세요._"
      ]
    },
    {
      "cell_type": "code",
      "execution_count": null,
      "metadata": {
        "id": "7W2-nkwWAxr1"
      },
      "outputs": [],
      "source": [
        "tf.keras.utils.set_random_seed(42)"
      ]
    },
    {
      "cell_type": "code",
      "execution_count": null,
      "metadata": {
        "id": "ZESiHnZtAxr1"
      },
      "outputs": [],
      "source": [
        "lower_layers = tf.keras.Sequential([\n",
        "    tf.keras.layers.Flatten(input_shape=[28, 28]),\n",
        "    tf.keras.layers.Dense(100, activation=\"relu\"),\n",
        "])\n",
        "upper_layers = tf.keras.Sequential([\n",
        "    tf.keras.layers.Dense(10, activation=\"softmax\"),\n",
        "])\n",
        "model = tf.keras.Sequential([\n",
        "    lower_layers, upper_layers\n",
        "])"
      ]
    },
    {
      "cell_type": "code",
      "execution_count": null,
      "metadata": {
        "id": "lQZwhSFPAxr1"
      },
      "outputs": [],
      "source": [
        "lower_optimizer = tf.keras.optimizers.SGD(learning_rate=1e-4)\n",
        "upper_optimizer = tf.keras.optimizers.Nadam(learning_rate=1e-3)"
      ]
    },
    {
      "cell_type": "code",
      "execution_count": null,
      "metadata": {
        "id": "rRadcAKJAxr1"
      },
      "outputs": [],
      "source": [
        "n_epochs = 5\n",
        "batch_size = 32\n",
        "n_steps = len(X_train) // batch_size\n",
        "loss_fn = tf.keras.losses.sparse_categorical_crossentropy\n",
        "mean_loss = tf.keras.metrics.Mean()\n",
        "metrics = [tf.keras.metrics.SparseCategoricalAccuracy()]"
      ]
    },
    {
      "cell_type": "code",
      "execution_count": null,
      "metadata": {
        "colab": {
          "base_uri": "https://localhost:8080/",
          "height": 209,
          "referenced_widgets": [
            "5d4e8f146ea84d9399168f62a0b20a22",
            "7295024fb6e14912933f06f2e7fdd50a",
            "ff605a415aa3435f94d0c156cef6712f",
            "30814c93255b447baf16bb77ba004624",
            "af7953b6788f424694947f25f10d22b7",
            "2b05554510514e5b81e456e3051ecfc6",
            "3b45c0028c3647cbbc910744e7f1572a",
            "7ae7c237afcd401aba969bf38ee82f7d",
            "3659d1e6ae574720bfc5dcca4674f199",
            "dfc48b5ccf6944ea9244bc4d8e2ca61e",
            "e00cb0b2fb3d4a0da8d7997584797650",
            "ca930a32ebd849889cf12875dd0f67b6",
            "ada21ea4ca974932bacd823dc608d922",
            "43deb6bade0048b0a177bb1705e6f8c0",
            "05ebedfd4ec54fcf9e1e74834cab8aab",
            "03ed7016a45f4668937766a6ada6f341",
            "4d9e7c0435734007a80ba323ffcd6e8a",
            "6e1b71a829694e5ea98b8ad1974c0ffd",
            "2e9d4374618347769bfc17b696739864",
            "e185797b956345c6850e54d6863a8c88",
            "ce76b277e82f49ce9dfbb77432c6e17f",
            "2d9e4688242740e18e6504c563af7b06",
            "f0e31186bd2d48bfb2cb19bba6a72e7d",
            "45cb7611404344bb9b0c700b68f830ff",
            "8adcc12c64cc4c89903f307df647941b",
            "8fb9c0ddd14b4970be3f839a7f9b3f7c",
            "949de89c5b5341f7b9109debf207d9f7",
            "b089decce7a54a7c88d8fdafc41fa507",
            "a3e33c9748d14c9ba725fbcc1dc214b7",
            "7d39078a748a4f3cb6873ffad42e24a9",
            "ac0c420d7c0a4cba97b812536938f593",
            "d07e79cfcebd40b0a07a95c1acbfa4ef",
            "daeafd631cc94a8ba3185a65adfa9dd3",
            "baeae41f27eb44aa9ee10b0175a23963",
            "5e1c0d1633914a3e9c727f8d5e8d0a02",
            "144f057af6864174970cc00b84129319",
            "7b1a6f1880084faf81d9a6d90218209e",
            "1f61d7bbd81f420f99192e371fd7492f",
            "840429aa8c824433b0ba04b72ae9df19",
            "80c2a1dd166f4181b25d405094164a97",
            "b8e8750c344f4920a5c18a19807995a9",
            "5d126c9362ad483f96d21e36bfd2e18a",
            "a661a05063744fe5bb21718539f354da",
            "368897a043de49a6a63b37b100af0a9f",
            "c497ac7d70cb49ccb3444a9887570a8b",
            "ad194a229a3347e681d81290887db18b",
            "49c1e31accf24ddca07c3244fd7c2c28",
            "4c339586df73458f892ce3b4a35680b4",
            "4c63ae7ca560448f88139e9124c5e849",
            "46b590f489d34e15852c03f378d9edc6",
            "85bfd752cafd42ee8649e345f9fbe603",
            "6ec9aef1644d4729a38f2775e3a3364e",
            "2550a941d6e34f99a07cd67c0fad7385",
            "1dbdb1d667f049e199b1964260444ea8",
            "a7e86ff605f44c798eaf5ec67ca19a04",
            "c89d971ed2dc41dc8b3bc9ca1d23f885",
            "37cacb046e2b41198083898375175e06",
            "1a34e2c9150b4400ba819d480a46ae4f",
            "17fe2f0e26dd42d593d427eb42400677",
            "93f2b8bdb0144bc18c2cf3adde03a1c2",
            "91a39369e173414189c4ee832b73cdfa",
            "8068340cdc544fb3a2f2812c0eb7d812",
            "aef4e23b50e6425ab9e30d3f122ca19f",
            "37e7134b26154e39b0b824a848b1a98c",
            "197aa6c1f53946689081da33ac857a48",
            "885e07d27de14b5090594de705c72292"
          ]
        },
        "id": "jHSdXV7QAxr1",
        "outputId": "15a1b144-7143-4af7-ef1c-5e8ff0a866ab"
      },
      "outputs": [
        {
          "output_type": "display_data",
          "data": {
            "text/plain": [
              "All epochs:   0%|          | 0/5 [00:00<?, ?it/s]"
            ],
            "application/vnd.jupyter.widget-view+json": {
              "version_major": 2,
              "version_minor": 0,
              "model_id": "5d4e8f146ea84d9399168f62a0b20a22"
            }
          },
          "metadata": {}
        },
        {
          "output_type": "display_data",
          "data": {
            "text/plain": [
              "Epoch 1/5:   0%|          | 0/1718 [00:00<?, ?it/s]"
            ],
            "application/vnd.jupyter.widget-view+json": {
              "version_major": 2,
              "version_minor": 0,
              "model_id": "ca930a32ebd849889cf12875dd0f67b6"
            }
          },
          "metadata": {}
        },
        {
          "output_type": "display_data",
          "data": {
            "text/plain": [
              "Epoch 2/5:   0%|          | 0/1718 [00:00<?, ?it/s]"
            ],
            "application/vnd.jupyter.widget-view+json": {
              "version_major": 2,
              "version_minor": 0,
              "model_id": "f0e31186bd2d48bfb2cb19bba6a72e7d"
            }
          },
          "metadata": {}
        },
        {
          "output_type": "display_data",
          "data": {
            "text/plain": [
              "Epoch 3/5:   0%|          | 0/1718 [00:00<?, ?it/s]"
            ],
            "application/vnd.jupyter.widget-view+json": {
              "version_major": 2,
              "version_minor": 0,
              "model_id": "baeae41f27eb44aa9ee10b0175a23963"
            }
          },
          "metadata": {}
        },
        {
          "output_type": "display_data",
          "data": {
            "text/plain": [
              "Epoch 4/5:   0%|          | 0/1718 [00:00<?, ?it/s]"
            ],
            "application/vnd.jupyter.widget-view+json": {
              "version_major": 2,
              "version_minor": 0,
              "model_id": "c497ac7d70cb49ccb3444a9887570a8b"
            }
          },
          "metadata": {}
        },
        {
          "output_type": "display_data",
          "data": {
            "text/plain": [
              "Epoch 5/5:   0%|          | 0/1718 [00:00<?, ?it/s]"
            ],
            "application/vnd.jupyter.widget-view+json": {
              "version_major": 2,
              "version_minor": 0,
              "model_id": "c89d971ed2dc41dc8b3bc9ca1d23f885"
            }
          },
          "metadata": {}
        }
      ],
      "source": [
        "with trange(1, n_epochs + 1, desc=\"All epochs\") as epochs:\n",
        "    for epoch in epochs:\n",
        "        with trange(1, n_steps + 1, desc=f\"Epoch {epoch}/{n_epochs}\") as steps:\n",
        "            for step in steps:\n",
        "                X_batch, y_batch = random_batch(X_train, y_train)\n",
        "                with tf.GradientTape(persistent=True) as tape:\n",
        "                    y_pred = model(X_batch)\n",
        "                    main_loss = tf.reduce_mean(loss_fn(y_batch, y_pred))\n",
        "                    loss = tf.add_n([main_loss] + model.losses)\n",
        "                for layers, optimizer in ((lower_layers, lower_optimizer),\n",
        "                                          (upper_layers, upper_optimizer)):\n",
        "                    gradients = tape.gradient(loss, layers.trainable_variables)\n",
        "                    optimizer.apply_gradients(zip(gradients, layers.trainable_variables))\n",
        "                del tape\n",
        "                for variable in model.variables:\n",
        "                    if variable.constraint is not None:\n",
        "                        variable.assign(variable.constraint(variable))\n",
        "                status = OrderedDict()\n",
        "                mean_loss(loss)\n",
        "                status[\"loss\"] = mean_loss.result().numpy()\n",
        "                for metric in metrics:\n",
        "                    metric(y_batch, y_pred)\n",
        "                    status[metric.name] = metric.result().numpy()\n",
        "                steps.set_postfix(status)\n",
        "            y_pred = model(X_valid)\n",
        "            status[\"val_loss\"] = np.mean(loss_fn(y_valid, y_pred))\n",
        "            status[\"val_accuracy\"] = np.mean(tf.keras.metrics.sparse_categorical_accuracy(\n",
        "                tf.constant(y_valid, dtype=np.float32), y_pred))\n",
        "            steps.set_postfix(status)\n",
        "        for metric in [mean_loss] + metrics:\n",
        "            metric.reset_states()"
      ]
    }
  ],
  "metadata": {
    "accelerator": "GPU",
    "colab": {
      "provenance": []
    },
    "gpuClass": "standard",
    "kernelspec": {
      "display_name": "Python 3 (ipykernel)",
      "language": "python",
      "name": "python3"
    },
    "language_info": {
      "codemirror_mode": {
        "name": "ipython",
        "version": 3
      },
      "file_extension": ".py",
      "mimetype": "text/x-python",
      "name": "python",
      "nbconvert_exporter": "python",
      "pygments_lexer": "ipython3",
      "version": "3.10.9"
    },
    "widgets": {
      "application/vnd.jupyter.widget-state+json": {
        "e593a5241b8d44ed99f448bd431da411": {
          "model_module": "@jupyter-widgets/controls",
          "model_name": "HBoxModel",
          "model_module_version": "1.5.0",
          "state": {
            "_dom_classes": [],
            "_model_module": "@jupyter-widgets/controls",
            "_model_module_version": "1.5.0",
            "_model_name": "HBoxModel",
            "_view_count": null,
            "_view_module": "@jupyter-widgets/controls",
            "_view_module_version": "1.5.0",
            "_view_name": "HBoxView",
            "box_style": "",
            "children": [
              "IPY_MODEL_8806ef0fc0c748379a3d56146690b5a2",
              "IPY_MODEL_84a8e9a8661c4779af4dfe3a445a3576",
              "IPY_MODEL_429658200e424f519d88f2e165f7effc"
            ],
            "layout": "IPY_MODEL_eb71a955064a4c64adf96b629a0ae381"
          }
        },
        "8806ef0fc0c748379a3d56146690b5a2": {
          "model_module": "@jupyter-widgets/controls",
          "model_name": "HTMLModel",
          "model_module_version": "1.5.0",
          "state": {
            "_dom_classes": [],
            "_model_module": "@jupyter-widgets/controls",
            "_model_module_version": "1.5.0",
            "_model_name": "HTMLModel",
            "_view_count": null,
            "_view_module": "@jupyter-widgets/controls",
            "_view_module_version": "1.5.0",
            "_view_name": "HTMLView",
            "description": "",
            "description_tooltip": null,
            "layout": "IPY_MODEL_ff54289fba384597848d41674bd53909",
            "placeholder": "​",
            "style": "IPY_MODEL_e98258ef2daf4b5cb3defa802b95a8f2",
            "value": "All epochs: 100%"
          }
        },
        "84a8e9a8661c4779af4dfe3a445a3576": {
          "model_module": "@jupyter-widgets/controls",
          "model_name": "FloatProgressModel",
          "model_module_version": "1.5.0",
          "state": {
            "_dom_classes": [],
            "_model_module": "@jupyter-widgets/controls",
            "_model_module_version": "1.5.0",
            "_model_name": "FloatProgressModel",
            "_view_count": null,
            "_view_module": "@jupyter-widgets/controls",
            "_view_module_version": "1.5.0",
            "_view_name": "ProgressView",
            "bar_style": "success",
            "description": "",
            "description_tooltip": null,
            "layout": "IPY_MODEL_ea88e562b283474db0d66c5e8da78e7a",
            "max": 5,
            "min": 0,
            "orientation": "horizontal",
            "style": "IPY_MODEL_cdc5517881d34975a4ddc499fbd087f7",
            "value": 5
          }
        },
        "429658200e424f519d88f2e165f7effc": {
          "model_module": "@jupyter-widgets/controls",
          "model_name": "HTMLModel",
          "model_module_version": "1.5.0",
          "state": {
            "_dom_classes": [],
            "_model_module": "@jupyter-widgets/controls",
            "_model_module_version": "1.5.0",
            "_model_name": "HTMLModel",
            "_view_count": null,
            "_view_module": "@jupyter-widgets/controls",
            "_view_module_version": "1.5.0",
            "_view_name": "HTMLView",
            "description": "",
            "description_tooltip": null,
            "layout": "IPY_MODEL_3a6ae70475ed437cbb643c1048deb00e",
            "placeholder": "​",
            "style": "IPY_MODEL_b46c44164ffd442185efcea730834f91",
            "value": " 5/5 [00:34&lt;00:00,  6.84s/it]"
          }
        },
        "eb71a955064a4c64adf96b629a0ae381": {
          "model_module": "@jupyter-widgets/base",
          "model_name": "LayoutModel",
          "model_module_version": "1.2.0",
          "state": {
            "_model_module": "@jupyter-widgets/base",
            "_model_module_version": "1.2.0",
            "_model_name": "LayoutModel",
            "_view_count": null,
            "_view_module": "@jupyter-widgets/base",
            "_view_module_version": "1.2.0",
            "_view_name": "LayoutView",
            "align_content": null,
            "align_items": null,
            "align_self": null,
            "border": null,
            "bottom": null,
            "display": null,
            "flex": null,
            "flex_flow": null,
            "grid_area": null,
            "grid_auto_columns": null,
            "grid_auto_flow": null,
            "grid_auto_rows": null,
            "grid_column": null,
            "grid_gap": null,
            "grid_row": null,
            "grid_template_areas": null,
            "grid_template_columns": null,
            "grid_template_rows": null,
            "height": null,
            "justify_content": null,
            "justify_items": null,
            "left": null,
            "margin": null,
            "max_height": null,
            "max_width": null,
            "min_height": null,
            "min_width": null,
            "object_fit": null,
            "object_position": null,
            "order": null,
            "overflow": null,
            "overflow_x": null,
            "overflow_y": null,
            "padding": null,
            "right": null,
            "top": null,
            "visibility": null,
            "width": null
          }
        },
        "ff54289fba384597848d41674bd53909": {
          "model_module": "@jupyter-widgets/base",
          "model_name": "LayoutModel",
          "model_module_version": "1.2.0",
          "state": {
            "_model_module": "@jupyter-widgets/base",
            "_model_module_version": "1.2.0",
            "_model_name": "LayoutModel",
            "_view_count": null,
            "_view_module": "@jupyter-widgets/base",
            "_view_module_version": "1.2.0",
            "_view_name": "LayoutView",
            "align_content": null,
            "align_items": null,
            "align_self": null,
            "border": null,
            "bottom": null,
            "display": null,
            "flex": null,
            "flex_flow": null,
            "grid_area": null,
            "grid_auto_columns": null,
            "grid_auto_flow": null,
            "grid_auto_rows": null,
            "grid_column": null,
            "grid_gap": null,
            "grid_row": null,
            "grid_template_areas": null,
            "grid_template_columns": null,
            "grid_template_rows": null,
            "height": null,
            "justify_content": null,
            "justify_items": null,
            "left": null,
            "margin": null,
            "max_height": null,
            "max_width": null,
            "min_height": null,
            "min_width": null,
            "object_fit": null,
            "object_position": null,
            "order": null,
            "overflow": null,
            "overflow_x": null,
            "overflow_y": null,
            "padding": null,
            "right": null,
            "top": null,
            "visibility": null,
            "width": null
          }
        },
        "e98258ef2daf4b5cb3defa802b95a8f2": {
          "model_module": "@jupyter-widgets/controls",
          "model_name": "DescriptionStyleModel",
          "model_module_version": "1.5.0",
          "state": {
            "_model_module": "@jupyter-widgets/controls",
            "_model_module_version": "1.5.0",
            "_model_name": "DescriptionStyleModel",
            "_view_count": null,
            "_view_module": "@jupyter-widgets/base",
            "_view_module_version": "1.2.0",
            "_view_name": "StyleView",
            "description_width": ""
          }
        },
        "ea88e562b283474db0d66c5e8da78e7a": {
          "model_module": "@jupyter-widgets/base",
          "model_name": "LayoutModel",
          "model_module_version": "1.2.0",
          "state": {
            "_model_module": "@jupyter-widgets/base",
            "_model_module_version": "1.2.0",
            "_model_name": "LayoutModel",
            "_view_count": null,
            "_view_module": "@jupyter-widgets/base",
            "_view_module_version": "1.2.0",
            "_view_name": "LayoutView",
            "align_content": null,
            "align_items": null,
            "align_self": null,
            "border": null,
            "bottom": null,
            "display": null,
            "flex": null,
            "flex_flow": null,
            "grid_area": null,
            "grid_auto_columns": null,
            "grid_auto_flow": null,
            "grid_auto_rows": null,
            "grid_column": null,
            "grid_gap": null,
            "grid_row": null,
            "grid_template_areas": null,
            "grid_template_columns": null,
            "grid_template_rows": null,
            "height": null,
            "justify_content": null,
            "justify_items": null,
            "left": null,
            "margin": null,
            "max_height": null,
            "max_width": null,
            "min_height": null,
            "min_width": null,
            "object_fit": null,
            "object_position": null,
            "order": null,
            "overflow": null,
            "overflow_x": null,
            "overflow_y": null,
            "padding": null,
            "right": null,
            "top": null,
            "visibility": null,
            "width": null
          }
        },
        "cdc5517881d34975a4ddc499fbd087f7": {
          "model_module": "@jupyter-widgets/controls",
          "model_name": "ProgressStyleModel",
          "model_module_version": "1.5.0",
          "state": {
            "_model_module": "@jupyter-widgets/controls",
            "_model_module_version": "1.5.0",
            "_model_name": "ProgressStyleModel",
            "_view_count": null,
            "_view_module": "@jupyter-widgets/base",
            "_view_module_version": "1.2.0",
            "_view_name": "StyleView",
            "bar_color": null,
            "description_width": ""
          }
        },
        "3a6ae70475ed437cbb643c1048deb00e": {
          "model_module": "@jupyter-widgets/base",
          "model_name": "LayoutModel",
          "model_module_version": "1.2.0",
          "state": {
            "_model_module": "@jupyter-widgets/base",
            "_model_module_version": "1.2.0",
            "_model_name": "LayoutModel",
            "_view_count": null,
            "_view_module": "@jupyter-widgets/base",
            "_view_module_version": "1.2.0",
            "_view_name": "LayoutView",
            "align_content": null,
            "align_items": null,
            "align_self": null,
            "border": null,
            "bottom": null,
            "display": null,
            "flex": null,
            "flex_flow": null,
            "grid_area": null,
            "grid_auto_columns": null,
            "grid_auto_flow": null,
            "grid_auto_rows": null,
            "grid_column": null,
            "grid_gap": null,
            "grid_row": null,
            "grid_template_areas": null,
            "grid_template_columns": null,
            "grid_template_rows": null,
            "height": null,
            "justify_content": null,
            "justify_items": null,
            "left": null,
            "margin": null,
            "max_height": null,
            "max_width": null,
            "min_height": null,
            "min_width": null,
            "object_fit": null,
            "object_position": null,
            "order": null,
            "overflow": null,
            "overflow_x": null,
            "overflow_y": null,
            "padding": null,
            "right": null,
            "top": null,
            "visibility": null,
            "width": null
          }
        },
        "b46c44164ffd442185efcea730834f91": {
          "model_module": "@jupyter-widgets/controls",
          "model_name": "DescriptionStyleModel",
          "model_module_version": "1.5.0",
          "state": {
            "_model_module": "@jupyter-widgets/controls",
            "_model_module_version": "1.5.0",
            "_model_name": "DescriptionStyleModel",
            "_view_count": null,
            "_view_module": "@jupyter-widgets/base",
            "_view_module_version": "1.2.0",
            "_view_name": "StyleView",
            "description_width": ""
          }
        },
        "f7b2267996574d8986e80c295059bb42": {
          "model_module": "@jupyter-widgets/controls",
          "model_name": "HBoxModel",
          "model_module_version": "1.5.0",
          "state": {
            "_dom_classes": [],
            "_model_module": "@jupyter-widgets/controls",
            "_model_module_version": "1.5.0",
            "_model_name": "HBoxModel",
            "_view_count": null,
            "_view_module": "@jupyter-widgets/controls",
            "_view_module_version": "1.5.0",
            "_view_name": "HBoxView",
            "box_style": "",
            "children": [
              "IPY_MODEL_44bccc54092448f99db0566aeb69333d",
              "IPY_MODEL_85dcf484389449929746aa13df982cd1",
              "IPY_MODEL_d54bc5fd12174a7db88eba2c78a0c388"
            ],
            "layout": "IPY_MODEL_140936ae0ded4165839188989accf0fd"
          }
        },
        "44bccc54092448f99db0566aeb69333d": {
          "model_module": "@jupyter-widgets/controls",
          "model_name": "HTMLModel",
          "model_module_version": "1.5.0",
          "state": {
            "_dom_classes": [],
            "_model_module": "@jupyter-widgets/controls",
            "_model_module_version": "1.5.0",
            "_model_name": "HTMLModel",
            "_view_count": null,
            "_view_module": "@jupyter-widgets/controls",
            "_view_module_version": "1.5.0",
            "_view_name": "HTMLView",
            "description": "",
            "description_tooltip": null,
            "layout": "IPY_MODEL_773171184d944860af9335f2ac80ad31",
            "placeholder": "​",
            "style": "IPY_MODEL_0e2af8454c774354b5e01e4c28d427e2",
            "value": "Epoch 1/5: 100%"
          }
        },
        "85dcf484389449929746aa13df982cd1": {
          "model_module": "@jupyter-widgets/controls",
          "model_name": "FloatProgressModel",
          "model_module_version": "1.5.0",
          "state": {
            "_dom_classes": [],
            "_model_module": "@jupyter-widgets/controls",
            "_model_module_version": "1.5.0",
            "_model_name": "FloatProgressModel",
            "_view_count": null,
            "_view_module": "@jupyter-widgets/controls",
            "_view_module_version": "1.5.0",
            "_view_name": "ProgressView",
            "bar_style": "success",
            "description": "",
            "description_tooltip": null,
            "layout": "IPY_MODEL_2bea8139a1644646b1c85e79009afd86",
            "max": 362,
            "min": 0,
            "orientation": "horizontal",
            "style": "IPY_MODEL_6800c0c05ec54f3caf65888f07a5c6c9",
            "value": 362
          }
        },
        "d54bc5fd12174a7db88eba2c78a0c388": {
          "model_module": "@jupyter-widgets/controls",
          "model_name": "HTMLModel",
          "model_module_version": "1.5.0",
          "state": {
            "_dom_classes": [],
            "_model_module": "@jupyter-widgets/controls",
            "_model_module_version": "1.5.0",
            "_model_name": "HTMLModel",
            "_view_count": null,
            "_view_module": "@jupyter-widgets/controls",
            "_view_module_version": "1.5.0",
            "_view_name": "HTMLView",
            "description": "",
            "description_tooltip": null,
            "layout": "IPY_MODEL_9e62b2b6b4a9482790b281e90147bea7",
            "placeholder": "​",
            "style": "IPY_MODEL_2e3f1a346844471fb3fab643d6188e26",
            "value": " 362/362 [00:06&lt;00:00, 45.72it/s, loss=0.676, mean_absolute_error=0.504]"
          }
        },
        "140936ae0ded4165839188989accf0fd": {
          "model_module": "@jupyter-widgets/base",
          "model_name": "LayoutModel",
          "model_module_version": "1.2.0",
          "state": {
            "_model_module": "@jupyter-widgets/base",
            "_model_module_version": "1.2.0",
            "_model_name": "LayoutModel",
            "_view_count": null,
            "_view_module": "@jupyter-widgets/base",
            "_view_module_version": "1.2.0",
            "_view_name": "LayoutView",
            "align_content": null,
            "align_items": null,
            "align_self": null,
            "border": null,
            "bottom": null,
            "display": null,
            "flex": null,
            "flex_flow": null,
            "grid_area": null,
            "grid_auto_columns": null,
            "grid_auto_flow": null,
            "grid_auto_rows": null,
            "grid_column": null,
            "grid_gap": null,
            "grid_row": null,
            "grid_template_areas": null,
            "grid_template_columns": null,
            "grid_template_rows": null,
            "height": null,
            "justify_content": null,
            "justify_items": null,
            "left": null,
            "margin": null,
            "max_height": null,
            "max_width": null,
            "min_height": null,
            "min_width": null,
            "object_fit": null,
            "object_position": null,
            "order": null,
            "overflow": null,
            "overflow_x": null,
            "overflow_y": null,
            "padding": null,
            "right": null,
            "top": null,
            "visibility": null,
            "width": null
          }
        },
        "773171184d944860af9335f2ac80ad31": {
          "model_module": "@jupyter-widgets/base",
          "model_name": "LayoutModel",
          "model_module_version": "1.2.0",
          "state": {
            "_model_module": "@jupyter-widgets/base",
            "_model_module_version": "1.2.0",
            "_model_name": "LayoutModel",
            "_view_count": null,
            "_view_module": "@jupyter-widgets/base",
            "_view_module_version": "1.2.0",
            "_view_name": "LayoutView",
            "align_content": null,
            "align_items": null,
            "align_self": null,
            "border": null,
            "bottom": null,
            "display": null,
            "flex": null,
            "flex_flow": null,
            "grid_area": null,
            "grid_auto_columns": null,
            "grid_auto_flow": null,
            "grid_auto_rows": null,
            "grid_column": null,
            "grid_gap": null,
            "grid_row": null,
            "grid_template_areas": null,
            "grid_template_columns": null,
            "grid_template_rows": null,
            "height": null,
            "justify_content": null,
            "justify_items": null,
            "left": null,
            "margin": null,
            "max_height": null,
            "max_width": null,
            "min_height": null,
            "min_width": null,
            "object_fit": null,
            "object_position": null,
            "order": null,
            "overflow": null,
            "overflow_x": null,
            "overflow_y": null,
            "padding": null,
            "right": null,
            "top": null,
            "visibility": null,
            "width": null
          }
        },
        "0e2af8454c774354b5e01e4c28d427e2": {
          "model_module": "@jupyter-widgets/controls",
          "model_name": "DescriptionStyleModel",
          "model_module_version": "1.5.0",
          "state": {
            "_model_module": "@jupyter-widgets/controls",
            "_model_module_version": "1.5.0",
            "_model_name": "DescriptionStyleModel",
            "_view_count": null,
            "_view_module": "@jupyter-widgets/base",
            "_view_module_version": "1.2.0",
            "_view_name": "StyleView",
            "description_width": ""
          }
        },
        "2bea8139a1644646b1c85e79009afd86": {
          "model_module": "@jupyter-widgets/base",
          "model_name": "LayoutModel",
          "model_module_version": "1.2.0",
          "state": {
            "_model_module": "@jupyter-widgets/base",
            "_model_module_version": "1.2.0",
            "_model_name": "LayoutModel",
            "_view_count": null,
            "_view_module": "@jupyter-widgets/base",
            "_view_module_version": "1.2.0",
            "_view_name": "LayoutView",
            "align_content": null,
            "align_items": null,
            "align_self": null,
            "border": null,
            "bottom": null,
            "display": null,
            "flex": null,
            "flex_flow": null,
            "grid_area": null,
            "grid_auto_columns": null,
            "grid_auto_flow": null,
            "grid_auto_rows": null,
            "grid_column": null,
            "grid_gap": null,
            "grid_row": null,
            "grid_template_areas": null,
            "grid_template_columns": null,
            "grid_template_rows": null,
            "height": null,
            "justify_content": null,
            "justify_items": null,
            "left": null,
            "margin": null,
            "max_height": null,
            "max_width": null,
            "min_height": null,
            "min_width": null,
            "object_fit": null,
            "object_position": null,
            "order": null,
            "overflow": null,
            "overflow_x": null,
            "overflow_y": null,
            "padding": null,
            "right": null,
            "top": null,
            "visibility": null,
            "width": null
          }
        },
        "6800c0c05ec54f3caf65888f07a5c6c9": {
          "model_module": "@jupyter-widgets/controls",
          "model_name": "ProgressStyleModel",
          "model_module_version": "1.5.0",
          "state": {
            "_model_module": "@jupyter-widgets/controls",
            "_model_module_version": "1.5.0",
            "_model_name": "ProgressStyleModel",
            "_view_count": null,
            "_view_module": "@jupyter-widgets/base",
            "_view_module_version": "1.2.0",
            "_view_name": "StyleView",
            "bar_color": null,
            "description_width": ""
          }
        },
        "9e62b2b6b4a9482790b281e90147bea7": {
          "model_module": "@jupyter-widgets/base",
          "model_name": "LayoutModel",
          "model_module_version": "1.2.0",
          "state": {
            "_model_module": "@jupyter-widgets/base",
            "_model_module_version": "1.2.0",
            "_model_name": "LayoutModel",
            "_view_count": null,
            "_view_module": "@jupyter-widgets/base",
            "_view_module_version": "1.2.0",
            "_view_name": "LayoutView",
            "align_content": null,
            "align_items": null,
            "align_self": null,
            "border": null,
            "bottom": null,
            "display": null,
            "flex": null,
            "flex_flow": null,
            "grid_area": null,
            "grid_auto_columns": null,
            "grid_auto_flow": null,
            "grid_auto_rows": null,
            "grid_column": null,
            "grid_gap": null,
            "grid_row": null,
            "grid_template_areas": null,
            "grid_template_columns": null,
            "grid_template_rows": null,
            "height": null,
            "justify_content": null,
            "justify_items": null,
            "left": null,
            "margin": null,
            "max_height": null,
            "max_width": null,
            "min_height": null,
            "min_width": null,
            "object_fit": null,
            "object_position": null,
            "order": null,
            "overflow": null,
            "overflow_x": null,
            "overflow_y": null,
            "padding": null,
            "right": null,
            "top": null,
            "visibility": null,
            "width": null
          }
        },
        "2e3f1a346844471fb3fab643d6188e26": {
          "model_module": "@jupyter-widgets/controls",
          "model_name": "DescriptionStyleModel",
          "model_module_version": "1.5.0",
          "state": {
            "_model_module": "@jupyter-widgets/controls",
            "_model_module_version": "1.5.0",
            "_model_name": "DescriptionStyleModel",
            "_view_count": null,
            "_view_module": "@jupyter-widgets/base",
            "_view_module_version": "1.2.0",
            "_view_name": "StyleView",
            "description_width": ""
          }
        },
        "eaf498e6f7a644d3bfa1d044256067ef": {
          "model_module": "@jupyter-widgets/controls",
          "model_name": "HBoxModel",
          "model_module_version": "1.5.0",
          "state": {
            "_dom_classes": [],
            "_model_module": "@jupyter-widgets/controls",
            "_model_module_version": "1.5.0",
            "_model_name": "HBoxModel",
            "_view_count": null,
            "_view_module": "@jupyter-widgets/controls",
            "_view_module_version": "1.5.0",
            "_view_name": "HBoxView",
            "box_style": "",
            "children": [
              "IPY_MODEL_6ae85a4465be4d3f8ad73d047071afd0",
              "IPY_MODEL_02dbebc64fc143fdbaac11688c756529",
              "IPY_MODEL_1bdc5c3357344011b4928ed49ec54c73"
            ],
            "layout": "IPY_MODEL_17f7097a864a4ff5ab710968ca6f237a"
          }
        },
        "6ae85a4465be4d3f8ad73d047071afd0": {
          "model_module": "@jupyter-widgets/controls",
          "model_name": "HTMLModel",
          "model_module_version": "1.5.0",
          "state": {
            "_dom_classes": [],
            "_model_module": "@jupyter-widgets/controls",
            "_model_module_version": "1.5.0",
            "_model_name": "HTMLModel",
            "_view_count": null,
            "_view_module": "@jupyter-widgets/controls",
            "_view_module_version": "1.5.0",
            "_view_name": "HTMLView",
            "description": "",
            "description_tooltip": null,
            "layout": "IPY_MODEL_5f9ddae8700a4c26bc0a3c87f15bf590",
            "placeholder": "​",
            "style": "IPY_MODEL_dea6bb2491e24ab19aef6a26df91e03c",
            "value": "Epoch 2/5: 100%"
          }
        },
        "02dbebc64fc143fdbaac11688c756529": {
          "model_module": "@jupyter-widgets/controls",
          "model_name": "FloatProgressModel",
          "model_module_version": "1.5.0",
          "state": {
            "_dom_classes": [],
            "_model_module": "@jupyter-widgets/controls",
            "_model_module_version": "1.5.0",
            "_model_name": "FloatProgressModel",
            "_view_count": null,
            "_view_module": "@jupyter-widgets/controls",
            "_view_module_version": "1.5.0",
            "_view_name": "ProgressView",
            "bar_style": "success",
            "description": "",
            "description_tooltip": null,
            "layout": "IPY_MODEL_fbac2871c02a4736a4cde808ba031d82",
            "max": 362,
            "min": 0,
            "orientation": "horizontal",
            "style": "IPY_MODEL_a281e30af9bc435fa6c5d7e7117717d7",
            "value": 362
          }
        },
        "1bdc5c3357344011b4928ed49ec54c73": {
          "model_module": "@jupyter-widgets/controls",
          "model_name": "HTMLModel",
          "model_module_version": "1.5.0",
          "state": {
            "_dom_classes": [],
            "_model_module": "@jupyter-widgets/controls",
            "_model_module_version": "1.5.0",
            "_model_name": "HTMLModel",
            "_view_count": null,
            "_view_module": "@jupyter-widgets/controls",
            "_view_module_version": "1.5.0",
            "_view_name": "HTMLView",
            "description": "",
            "description_tooltip": null,
            "layout": "IPY_MODEL_89ae1ad5288c4568b10843e09b1a4e19",
            "placeholder": "​",
            "style": "IPY_MODEL_0765fd15d29f4cb199e4ba2052dc1380",
            "value": " 362/362 [00:06&lt;00:00, 56.87it/s, loss=0.633, mean_absolute_error=0.497]"
          }
        },
        "17f7097a864a4ff5ab710968ca6f237a": {
          "model_module": "@jupyter-widgets/base",
          "model_name": "LayoutModel",
          "model_module_version": "1.2.0",
          "state": {
            "_model_module": "@jupyter-widgets/base",
            "_model_module_version": "1.2.0",
            "_model_name": "LayoutModel",
            "_view_count": null,
            "_view_module": "@jupyter-widgets/base",
            "_view_module_version": "1.2.0",
            "_view_name": "LayoutView",
            "align_content": null,
            "align_items": null,
            "align_self": null,
            "border": null,
            "bottom": null,
            "display": null,
            "flex": null,
            "flex_flow": null,
            "grid_area": null,
            "grid_auto_columns": null,
            "grid_auto_flow": null,
            "grid_auto_rows": null,
            "grid_column": null,
            "grid_gap": null,
            "grid_row": null,
            "grid_template_areas": null,
            "grid_template_columns": null,
            "grid_template_rows": null,
            "height": null,
            "justify_content": null,
            "justify_items": null,
            "left": null,
            "margin": null,
            "max_height": null,
            "max_width": null,
            "min_height": null,
            "min_width": null,
            "object_fit": null,
            "object_position": null,
            "order": null,
            "overflow": null,
            "overflow_x": null,
            "overflow_y": null,
            "padding": null,
            "right": null,
            "top": null,
            "visibility": null,
            "width": null
          }
        },
        "5f9ddae8700a4c26bc0a3c87f15bf590": {
          "model_module": "@jupyter-widgets/base",
          "model_name": "LayoutModel",
          "model_module_version": "1.2.0",
          "state": {
            "_model_module": "@jupyter-widgets/base",
            "_model_module_version": "1.2.0",
            "_model_name": "LayoutModel",
            "_view_count": null,
            "_view_module": "@jupyter-widgets/base",
            "_view_module_version": "1.2.0",
            "_view_name": "LayoutView",
            "align_content": null,
            "align_items": null,
            "align_self": null,
            "border": null,
            "bottom": null,
            "display": null,
            "flex": null,
            "flex_flow": null,
            "grid_area": null,
            "grid_auto_columns": null,
            "grid_auto_flow": null,
            "grid_auto_rows": null,
            "grid_column": null,
            "grid_gap": null,
            "grid_row": null,
            "grid_template_areas": null,
            "grid_template_columns": null,
            "grid_template_rows": null,
            "height": null,
            "justify_content": null,
            "justify_items": null,
            "left": null,
            "margin": null,
            "max_height": null,
            "max_width": null,
            "min_height": null,
            "min_width": null,
            "object_fit": null,
            "object_position": null,
            "order": null,
            "overflow": null,
            "overflow_x": null,
            "overflow_y": null,
            "padding": null,
            "right": null,
            "top": null,
            "visibility": null,
            "width": null
          }
        },
        "dea6bb2491e24ab19aef6a26df91e03c": {
          "model_module": "@jupyter-widgets/controls",
          "model_name": "DescriptionStyleModel",
          "model_module_version": "1.5.0",
          "state": {
            "_model_module": "@jupyter-widgets/controls",
            "_model_module_version": "1.5.0",
            "_model_name": "DescriptionStyleModel",
            "_view_count": null,
            "_view_module": "@jupyter-widgets/base",
            "_view_module_version": "1.2.0",
            "_view_name": "StyleView",
            "description_width": ""
          }
        },
        "fbac2871c02a4736a4cde808ba031d82": {
          "model_module": "@jupyter-widgets/base",
          "model_name": "LayoutModel",
          "model_module_version": "1.2.0",
          "state": {
            "_model_module": "@jupyter-widgets/base",
            "_model_module_version": "1.2.0",
            "_model_name": "LayoutModel",
            "_view_count": null,
            "_view_module": "@jupyter-widgets/base",
            "_view_module_version": "1.2.0",
            "_view_name": "LayoutView",
            "align_content": null,
            "align_items": null,
            "align_self": null,
            "border": null,
            "bottom": null,
            "display": null,
            "flex": null,
            "flex_flow": null,
            "grid_area": null,
            "grid_auto_columns": null,
            "grid_auto_flow": null,
            "grid_auto_rows": null,
            "grid_column": null,
            "grid_gap": null,
            "grid_row": null,
            "grid_template_areas": null,
            "grid_template_columns": null,
            "grid_template_rows": null,
            "height": null,
            "justify_content": null,
            "justify_items": null,
            "left": null,
            "margin": null,
            "max_height": null,
            "max_width": null,
            "min_height": null,
            "min_width": null,
            "object_fit": null,
            "object_position": null,
            "order": null,
            "overflow": null,
            "overflow_x": null,
            "overflow_y": null,
            "padding": null,
            "right": null,
            "top": null,
            "visibility": null,
            "width": null
          }
        },
        "a281e30af9bc435fa6c5d7e7117717d7": {
          "model_module": "@jupyter-widgets/controls",
          "model_name": "ProgressStyleModel",
          "model_module_version": "1.5.0",
          "state": {
            "_model_module": "@jupyter-widgets/controls",
            "_model_module_version": "1.5.0",
            "_model_name": "ProgressStyleModel",
            "_view_count": null,
            "_view_module": "@jupyter-widgets/base",
            "_view_module_version": "1.2.0",
            "_view_name": "StyleView",
            "bar_color": null,
            "description_width": ""
          }
        },
        "89ae1ad5288c4568b10843e09b1a4e19": {
          "model_module": "@jupyter-widgets/base",
          "model_name": "LayoutModel",
          "model_module_version": "1.2.0",
          "state": {
            "_model_module": "@jupyter-widgets/base",
            "_model_module_version": "1.2.0",
            "_model_name": "LayoutModel",
            "_view_count": null,
            "_view_module": "@jupyter-widgets/base",
            "_view_module_version": "1.2.0",
            "_view_name": "LayoutView",
            "align_content": null,
            "align_items": null,
            "align_self": null,
            "border": null,
            "bottom": null,
            "display": null,
            "flex": null,
            "flex_flow": null,
            "grid_area": null,
            "grid_auto_columns": null,
            "grid_auto_flow": null,
            "grid_auto_rows": null,
            "grid_column": null,
            "grid_gap": null,
            "grid_row": null,
            "grid_template_areas": null,
            "grid_template_columns": null,
            "grid_template_rows": null,
            "height": null,
            "justify_content": null,
            "justify_items": null,
            "left": null,
            "margin": null,
            "max_height": null,
            "max_width": null,
            "min_height": null,
            "min_width": null,
            "object_fit": null,
            "object_position": null,
            "order": null,
            "overflow": null,
            "overflow_x": null,
            "overflow_y": null,
            "padding": null,
            "right": null,
            "top": null,
            "visibility": null,
            "width": null
          }
        },
        "0765fd15d29f4cb199e4ba2052dc1380": {
          "model_module": "@jupyter-widgets/controls",
          "model_name": "DescriptionStyleModel",
          "model_module_version": "1.5.0",
          "state": {
            "_model_module": "@jupyter-widgets/controls",
            "_model_module_version": "1.5.0",
            "_model_name": "DescriptionStyleModel",
            "_view_count": null,
            "_view_module": "@jupyter-widgets/base",
            "_view_module_version": "1.2.0",
            "_view_name": "StyleView",
            "description_width": ""
          }
        },
        "0940d99b57c04f0bab5140980362fcbc": {
          "model_module": "@jupyter-widgets/controls",
          "model_name": "HBoxModel",
          "model_module_version": "1.5.0",
          "state": {
            "_dom_classes": [],
            "_model_module": "@jupyter-widgets/controls",
            "_model_module_version": "1.5.0",
            "_model_name": "HBoxModel",
            "_view_count": null,
            "_view_module": "@jupyter-widgets/controls",
            "_view_module_version": "1.5.0",
            "_view_name": "HBoxView",
            "box_style": "",
            "children": [
              "IPY_MODEL_12355cd4f2ce420a8204f1517013a49b",
              "IPY_MODEL_5f1907a04d6f416591d6dfbb8a5c2034",
              "IPY_MODEL_93e0e6fe8a3d4dec9ba4454bfab155e2"
            ],
            "layout": "IPY_MODEL_91dbeacf3278411e9bf3d0205fa0fd67"
          }
        },
        "12355cd4f2ce420a8204f1517013a49b": {
          "model_module": "@jupyter-widgets/controls",
          "model_name": "HTMLModel",
          "model_module_version": "1.5.0",
          "state": {
            "_dom_classes": [],
            "_model_module": "@jupyter-widgets/controls",
            "_model_module_version": "1.5.0",
            "_model_name": "HTMLModel",
            "_view_count": null,
            "_view_module": "@jupyter-widgets/controls",
            "_view_module_version": "1.5.0",
            "_view_name": "HTMLView",
            "description": "",
            "description_tooltip": null,
            "layout": "IPY_MODEL_ab8aa6b5bafc4789b42f68a7f6b79bc9",
            "placeholder": "​",
            "style": "IPY_MODEL_ad492c643ab24f1cbbc25dd31f313b50",
            "value": "Epoch 3/5: 100%"
          }
        },
        "5f1907a04d6f416591d6dfbb8a5c2034": {
          "model_module": "@jupyter-widgets/controls",
          "model_name": "FloatProgressModel",
          "model_module_version": "1.5.0",
          "state": {
            "_dom_classes": [],
            "_model_module": "@jupyter-widgets/controls",
            "_model_module_version": "1.5.0",
            "_model_name": "FloatProgressModel",
            "_view_count": null,
            "_view_module": "@jupyter-widgets/controls",
            "_view_module_version": "1.5.0",
            "_view_name": "ProgressView",
            "bar_style": "success",
            "description": "",
            "description_tooltip": null,
            "layout": "IPY_MODEL_d1ff579fe62a43a0a27202f53d705c1f",
            "max": 362,
            "min": 0,
            "orientation": "horizontal",
            "style": "IPY_MODEL_5ae6523218c5402cb84d21cfe559b6e2",
            "value": 362
          }
        },
        "93e0e6fe8a3d4dec9ba4454bfab155e2": {
          "model_module": "@jupyter-widgets/controls",
          "model_name": "HTMLModel",
          "model_module_version": "1.5.0",
          "state": {
            "_dom_classes": [],
            "_model_module": "@jupyter-widgets/controls",
            "_model_module_version": "1.5.0",
            "_model_name": "HTMLModel",
            "_view_count": null,
            "_view_module": "@jupyter-widgets/controls",
            "_view_module_version": "1.5.0",
            "_view_name": "HTMLView",
            "description": "",
            "description_tooltip": null,
            "layout": "IPY_MODEL_8eb343a19b5441d9be04cb8813067880",
            "placeholder": "​",
            "style": "IPY_MODEL_25e3c54988894854989b216354f1eaae",
            "value": " 362/362 [00:07&lt;00:00, 58.03it/s, loss=0.624, mean_absolute_error=0.498]"
          }
        },
        "91dbeacf3278411e9bf3d0205fa0fd67": {
          "model_module": "@jupyter-widgets/base",
          "model_name": "LayoutModel",
          "model_module_version": "1.2.0",
          "state": {
            "_model_module": "@jupyter-widgets/base",
            "_model_module_version": "1.2.0",
            "_model_name": "LayoutModel",
            "_view_count": null,
            "_view_module": "@jupyter-widgets/base",
            "_view_module_version": "1.2.0",
            "_view_name": "LayoutView",
            "align_content": null,
            "align_items": null,
            "align_self": null,
            "border": null,
            "bottom": null,
            "display": null,
            "flex": null,
            "flex_flow": null,
            "grid_area": null,
            "grid_auto_columns": null,
            "grid_auto_flow": null,
            "grid_auto_rows": null,
            "grid_column": null,
            "grid_gap": null,
            "grid_row": null,
            "grid_template_areas": null,
            "grid_template_columns": null,
            "grid_template_rows": null,
            "height": null,
            "justify_content": null,
            "justify_items": null,
            "left": null,
            "margin": null,
            "max_height": null,
            "max_width": null,
            "min_height": null,
            "min_width": null,
            "object_fit": null,
            "object_position": null,
            "order": null,
            "overflow": null,
            "overflow_x": null,
            "overflow_y": null,
            "padding": null,
            "right": null,
            "top": null,
            "visibility": null,
            "width": null
          }
        },
        "ab8aa6b5bafc4789b42f68a7f6b79bc9": {
          "model_module": "@jupyter-widgets/base",
          "model_name": "LayoutModel",
          "model_module_version": "1.2.0",
          "state": {
            "_model_module": "@jupyter-widgets/base",
            "_model_module_version": "1.2.0",
            "_model_name": "LayoutModel",
            "_view_count": null,
            "_view_module": "@jupyter-widgets/base",
            "_view_module_version": "1.2.0",
            "_view_name": "LayoutView",
            "align_content": null,
            "align_items": null,
            "align_self": null,
            "border": null,
            "bottom": null,
            "display": null,
            "flex": null,
            "flex_flow": null,
            "grid_area": null,
            "grid_auto_columns": null,
            "grid_auto_flow": null,
            "grid_auto_rows": null,
            "grid_column": null,
            "grid_gap": null,
            "grid_row": null,
            "grid_template_areas": null,
            "grid_template_columns": null,
            "grid_template_rows": null,
            "height": null,
            "justify_content": null,
            "justify_items": null,
            "left": null,
            "margin": null,
            "max_height": null,
            "max_width": null,
            "min_height": null,
            "min_width": null,
            "object_fit": null,
            "object_position": null,
            "order": null,
            "overflow": null,
            "overflow_x": null,
            "overflow_y": null,
            "padding": null,
            "right": null,
            "top": null,
            "visibility": null,
            "width": null
          }
        },
        "ad492c643ab24f1cbbc25dd31f313b50": {
          "model_module": "@jupyter-widgets/controls",
          "model_name": "DescriptionStyleModel",
          "model_module_version": "1.5.0",
          "state": {
            "_model_module": "@jupyter-widgets/controls",
            "_model_module_version": "1.5.0",
            "_model_name": "DescriptionStyleModel",
            "_view_count": null,
            "_view_module": "@jupyter-widgets/base",
            "_view_module_version": "1.2.0",
            "_view_name": "StyleView",
            "description_width": ""
          }
        },
        "d1ff579fe62a43a0a27202f53d705c1f": {
          "model_module": "@jupyter-widgets/base",
          "model_name": "LayoutModel",
          "model_module_version": "1.2.0",
          "state": {
            "_model_module": "@jupyter-widgets/base",
            "_model_module_version": "1.2.0",
            "_model_name": "LayoutModel",
            "_view_count": null,
            "_view_module": "@jupyter-widgets/base",
            "_view_module_version": "1.2.0",
            "_view_name": "LayoutView",
            "align_content": null,
            "align_items": null,
            "align_self": null,
            "border": null,
            "bottom": null,
            "display": null,
            "flex": null,
            "flex_flow": null,
            "grid_area": null,
            "grid_auto_columns": null,
            "grid_auto_flow": null,
            "grid_auto_rows": null,
            "grid_column": null,
            "grid_gap": null,
            "grid_row": null,
            "grid_template_areas": null,
            "grid_template_columns": null,
            "grid_template_rows": null,
            "height": null,
            "justify_content": null,
            "justify_items": null,
            "left": null,
            "margin": null,
            "max_height": null,
            "max_width": null,
            "min_height": null,
            "min_width": null,
            "object_fit": null,
            "object_position": null,
            "order": null,
            "overflow": null,
            "overflow_x": null,
            "overflow_y": null,
            "padding": null,
            "right": null,
            "top": null,
            "visibility": null,
            "width": null
          }
        },
        "5ae6523218c5402cb84d21cfe559b6e2": {
          "model_module": "@jupyter-widgets/controls",
          "model_name": "ProgressStyleModel",
          "model_module_version": "1.5.0",
          "state": {
            "_model_module": "@jupyter-widgets/controls",
            "_model_module_version": "1.5.0",
            "_model_name": "ProgressStyleModel",
            "_view_count": null,
            "_view_module": "@jupyter-widgets/base",
            "_view_module_version": "1.2.0",
            "_view_name": "StyleView",
            "bar_color": null,
            "description_width": ""
          }
        },
        "8eb343a19b5441d9be04cb8813067880": {
          "model_module": "@jupyter-widgets/base",
          "model_name": "LayoutModel",
          "model_module_version": "1.2.0",
          "state": {
            "_model_module": "@jupyter-widgets/base",
            "_model_module_version": "1.2.0",
            "_model_name": "LayoutModel",
            "_view_count": null,
            "_view_module": "@jupyter-widgets/base",
            "_view_module_version": "1.2.0",
            "_view_name": "LayoutView",
            "align_content": null,
            "align_items": null,
            "align_self": null,
            "border": null,
            "bottom": null,
            "display": null,
            "flex": null,
            "flex_flow": null,
            "grid_area": null,
            "grid_auto_columns": null,
            "grid_auto_flow": null,
            "grid_auto_rows": null,
            "grid_column": null,
            "grid_gap": null,
            "grid_row": null,
            "grid_template_areas": null,
            "grid_template_columns": null,
            "grid_template_rows": null,
            "height": null,
            "justify_content": null,
            "justify_items": null,
            "left": null,
            "margin": null,
            "max_height": null,
            "max_width": null,
            "min_height": null,
            "min_width": null,
            "object_fit": null,
            "object_position": null,
            "order": null,
            "overflow": null,
            "overflow_x": null,
            "overflow_y": null,
            "padding": null,
            "right": null,
            "top": null,
            "visibility": null,
            "width": null
          }
        },
        "25e3c54988894854989b216354f1eaae": {
          "model_module": "@jupyter-widgets/controls",
          "model_name": "DescriptionStyleModel",
          "model_module_version": "1.5.0",
          "state": {
            "_model_module": "@jupyter-widgets/controls",
            "_model_module_version": "1.5.0",
            "_model_name": "DescriptionStyleModel",
            "_view_count": null,
            "_view_module": "@jupyter-widgets/base",
            "_view_module_version": "1.2.0",
            "_view_name": "StyleView",
            "description_width": ""
          }
        },
        "3a78ba5865d447f68a274e4c73a3a8d4": {
          "model_module": "@jupyter-widgets/controls",
          "model_name": "HBoxModel",
          "model_module_version": "1.5.0",
          "state": {
            "_dom_classes": [],
            "_model_module": "@jupyter-widgets/controls",
            "_model_module_version": "1.5.0",
            "_model_name": "HBoxModel",
            "_view_count": null,
            "_view_module": "@jupyter-widgets/controls",
            "_view_module_version": "1.5.0",
            "_view_name": "HBoxView",
            "box_style": "",
            "children": [
              "IPY_MODEL_b05cd9e9b3b64a66b9c406cfd51953e7",
              "IPY_MODEL_f0f2f5bc89cb4d1f98ba694fe1525a9d",
              "IPY_MODEL_55034ab0f57649ee9c7f230a098ea174"
            ],
            "layout": "IPY_MODEL_42648b1e10dd4ef5be1f09d9b8b1d3d3"
          }
        },
        "b05cd9e9b3b64a66b9c406cfd51953e7": {
          "model_module": "@jupyter-widgets/controls",
          "model_name": "HTMLModel",
          "model_module_version": "1.5.0",
          "state": {
            "_dom_classes": [],
            "_model_module": "@jupyter-widgets/controls",
            "_model_module_version": "1.5.0",
            "_model_name": "HTMLModel",
            "_view_count": null,
            "_view_module": "@jupyter-widgets/controls",
            "_view_module_version": "1.5.0",
            "_view_name": "HTMLView",
            "description": "",
            "description_tooltip": null,
            "layout": "IPY_MODEL_64cae0ba53de4ee8b12dfeb1a4bd13fe",
            "placeholder": "​",
            "style": "IPY_MODEL_1c92ffd2d2044f2889e3d295ca4d2400",
            "value": "Epoch 4/5: 100%"
          }
        },
        "f0f2f5bc89cb4d1f98ba694fe1525a9d": {
          "model_module": "@jupyter-widgets/controls",
          "model_name": "FloatProgressModel",
          "model_module_version": "1.5.0",
          "state": {
            "_dom_classes": [],
            "_model_module": "@jupyter-widgets/controls",
            "_model_module_version": "1.5.0",
            "_model_name": "FloatProgressModel",
            "_view_count": null,
            "_view_module": "@jupyter-widgets/controls",
            "_view_module_version": "1.5.0",
            "_view_name": "ProgressView",
            "bar_style": "success",
            "description": "",
            "description_tooltip": null,
            "layout": "IPY_MODEL_5fb7a86014af45a994654bc5d44757be",
            "max": 362,
            "min": 0,
            "orientation": "horizontal",
            "style": "IPY_MODEL_c4805b48675b4004be8f766176336399",
            "value": 362
          }
        },
        "55034ab0f57649ee9c7f230a098ea174": {
          "model_module": "@jupyter-widgets/controls",
          "model_name": "HTMLModel",
          "model_module_version": "1.5.0",
          "state": {
            "_dom_classes": [],
            "_model_module": "@jupyter-widgets/controls",
            "_model_module_version": "1.5.0",
            "_model_name": "HTMLModel",
            "_view_count": null,
            "_view_module": "@jupyter-widgets/controls",
            "_view_module_version": "1.5.0",
            "_view_name": "HTMLView",
            "description": "",
            "description_tooltip": null,
            "layout": "IPY_MODEL_62792003e83240e585f81e5d068e6b6f",
            "placeholder": "​",
            "style": "IPY_MODEL_68159a1057bf4bd19143b60a15c2ed64",
            "value": " 362/362 [00:06&lt;00:00, 55.13it/s, loss=0.604, mean_absolute_error=0.494]"
          }
        },
        "42648b1e10dd4ef5be1f09d9b8b1d3d3": {
          "model_module": "@jupyter-widgets/base",
          "model_name": "LayoutModel",
          "model_module_version": "1.2.0",
          "state": {
            "_model_module": "@jupyter-widgets/base",
            "_model_module_version": "1.2.0",
            "_model_name": "LayoutModel",
            "_view_count": null,
            "_view_module": "@jupyter-widgets/base",
            "_view_module_version": "1.2.0",
            "_view_name": "LayoutView",
            "align_content": null,
            "align_items": null,
            "align_self": null,
            "border": null,
            "bottom": null,
            "display": null,
            "flex": null,
            "flex_flow": null,
            "grid_area": null,
            "grid_auto_columns": null,
            "grid_auto_flow": null,
            "grid_auto_rows": null,
            "grid_column": null,
            "grid_gap": null,
            "grid_row": null,
            "grid_template_areas": null,
            "grid_template_columns": null,
            "grid_template_rows": null,
            "height": null,
            "justify_content": null,
            "justify_items": null,
            "left": null,
            "margin": null,
            "max_height": null,
            "max_width": null,
            "min_height": null,
            "min_width": null,
            "object_fit": null,
            "object_position": null,
            "order": null,
            "overflow": null,
            "overflow_x": null,
            "overflow_y": null,
            "padding": null,
            "right": null,
            "top": null,
            "visibility": null,
            "width": null
          }
        },
        "64cae0ba53de4ee8b12dfeb1a4bd13fe": {
          "model_module": "@jupyter-widgets/base",
          "model_name": "LayoutModel",
          "model_module_version": "1.2.0",
          "state": {
            "_model_module": "@jupyter-widgets/base",
            "_model_module_version": "1.2.0",
            "_model_name": "LayoutModel",
            "_view_count": null,
            "_view_module": "@jupyter-widgets/base",
            "_view_module_version": "1.2.0",
            "_view_name": "LayoutView",
            "align_content": null,
            "align_items": null,
            "align_self": null,
            "border": null,
            "bottom": null,
            "display": null,
            "flex": null,
            "flex_flow": null,
            "grid_area": null,
            "grid_auto_columns": null,
            "grid_auto_flow": null,
            "grid_auto_rows": null,
            "grid_column": null,
            "grid_gap": null,
            "grid_row": null,
            "grid_template_areas": null,
            "grid_template_columns": null,
            "grid_template_rows": null,
            "height": null,
            "justify_content": null,
            "justify_items": null,
            "left": null,
            "margin": null,
            "max_height": null,
            "max_width": null,
            "min_height": null,
            "min_width": null,
            "object_fit": null,
            "object_position": null,
            "order": null,
            "overflow": null,
            "overflow_x": null,
            "overflow_y": null,
            "padding": null,
            "right": null,
            "top": null,
            "visibility": null,
            "width": null
          }
        },
        "1c92ffd2d2044f2889e3d295ca4d2400": {
          "model_module": "@jupyter-widgets/controls",
          "model_name": "DescriptionStyleModel",
          "model_module_version": "1.5.0",
          "state": {
            "_model_module": "@jupyter-widgets/controls",
            "_model_module_version": "1.5.0",
            "_model_name": "DescriptionStyleModel",
            "_view_count": null,
            "_view_module": "@jupyter-widgets/base",
            "_view_module_version": "1.2.0",
            "_view_name": "StyleView",
            "description_width": ""
          }
        },
        "5fb7a86014af45a994654bc5d44757be": {
          "model_module": "@jupyter-widgets/base",
          "model_name": "LayoutModel",
          "model_module_version": "1.2.0",
          "state": {
            "_model_module": "@jupyter-widgets/base",
            "_model_module_version": "1.2.0",
            "_model_name": "LayoutModel",
            "_view_count": null,
            "_view_module": "@jupyter-widgets/base",
            "_view_module_version": "1.2.0",
            "_view_name": "LayoutView",
            "align_content": null,
            "align_items": null,
            "align_self": null,
            "border": null,
            "bottom": null,
            "display": null,
            "flex": null,
            "flex_flow": null,
            "grid_area": null,
            "grid_auto_columns": null,
            "grid_auto_flow": null,
            "grid_auto_rows": null,
            "grid_column": null,
            "grid_gap": null,
            "grid_row": null,
            "grid_template_areas": null,
            "grid_template_columns": null,
            "grid_template_rows": null,
            "height": null,
            "justify_content": null,
            "justify_items": null,
            "left": null,
            "margin": null,
            "max_height": null,
            "max_width": null,
            "min_height": null,
            "min_width": null,
            "object_fit": null,
            "object_position": null,
            "order": null,
            "overflow": null,
            "overflow_x": null,
            "overflow_y": null,
            "padding": null,
            "right": null,
            "top": null,
            "visibility": null,
            "width": null
          }
        },
        "c4805b48675b4004be8f766176336399": {
          "model_module": "@jupyter-widgets/controls",
          "model_name": "ProgressStyleModel",
          "model_module_version": "1.5.0",
          "state": {
            "_model_module": "@jupyter-widgets/controls",
            "_model_module_version": "1.5.0",
            "_model_name": "ProgressStyleModel",
            "_view_count": null,
            "_view_module": "@jupyter-widgets/base",
            "_view_module_version": "1.2.0",
            "_view_name": "StyleView",
            "bar_color": null,
            "description_width": ""
          }
        },
        "62792003e83240e585f81e5d068e6b6f": {
          "model_module": "@jupyter-widgets/base",
          "model_name": "LayoutModel",
          "model_module_version": "1.2.0",
          "state": {
            "_model_module": "@jupyter-widgets/base",
            "_model_module_version": "1.2.0",
            "_model_name": "LayoutModel",
            "_view_count": null,
            "_view_module": "@jupyter-widgets/base",
            "_view_module_version": "1.2.0",
            "_view_name": "LayoutView",
            "align_content": null,
            "align_items": null,
            "align_self": null,
            "border": null,
            "bottom": null,
            "display": null,
            "flex": null,
            "flex_flow": null,
            "grid_area": null,
            "grid_auto_columns": null,
            "grid_auto_flow": null,
            "grid_auto_rows": null,
            "grid_column": null,
            "grid_gap": null,
            "grid_row": null,
            "grid_template_areas": null,
            "grid_template_columns": null,
            "grid_template_rows": null,
            "height": null,
            "justify_content": null,
            "justify_items": null,
            "left": null,
            "margin": null,
            "max_height": null,
            "max_width": null,
            "min_height": null,
            "min_width": null,
            "object_fit": null,
            "object_position": null,
            "order": null,
            "overflow": null,
            "overflow_x": null,
            "overflow_y": null,
            "padding": null,
            "right": null,
            "top": null,
            "visibility": null,
            "width": null
          }
        },
        "68159a1057bf4bd19143b60a15c2ed64": {
          "model_module": "@jupyter-widgets/controls",
          "model_name": "DescriptionStyleModel",
          "model_module_version": "1.5.0",
          "state": {
            "_model_module": "@jupyter-widgets/controls",
            "_model_module_version": "1.5.0",
            "_model_name": "DescriptionStyleModel",
            "_view_count": null,
            "_view_module": "@jupyter-widgets/base",
            "_view_module_version": "1.2.0",
            "_view_name": "StyleView",
            "description_width": ""
          }
        },
        "9dc7451db5274a9b822c612b531f2b92": {
          "model_module": "@jupyter-widgets/controls",
          "model_name": "HBoxModel",
          "model_module_version": "1.5.0",
          "state": {
            "_dom_classes": [],
            "_model_module": "@jupyter-widgets/controls",
            "_model_module_version": "1.5.0",
            "_model_name": "HBoxModel",
            "_view_count": null,
            "_view_module": "@jupyter-widgets/controls",
            "_view_module_version": "1.5.0",
            "_view_name": "HBoxView",
            "box_style": "",
            "children": [
              "IPY_MODEL_d6afb5651cf54d14bd0b3462470999b9",
              "IPY_MODEL_d4ad7b7008eb4f4b829b76f6e92d8d88",
              "IPY_MODEL_228bfa3e9a714d899fa087dd9f528b03"
            ],
            "layout": "IPY_MODEL_c26625f17c094e1aac4587a441f10c17"
          }
        },
        "d6afb5651cf54d14bd0b3462470999b9": {
          "model_module": "@jupyter-widgets/controls",
          "model_name": "HTMLModel",
          "model_module_version": "1.5.0",
          "state": {
            "_dom_classes": [],
            "_model_module": "@jupyter-widgets/controls",
            "_model_module_version": "1.5.0",
            "_model_name": "HTMLModel",
            "_view_count": null,
            "_view_module": "@jupyter-widgets/controls",
            "_view_module_version": "1.5.0",
            "_view_name": "HTMLView",
            "description": "",
            "description_tooltip": null,
            "layout": "IPY_MODEL_798bd66f76244413aa7fad4be1a5580f",
            "placeholder": "​",
            "style": "IPY_MODEL_0a96edbe20144016be1776bbed4c0384",
            "value": "Epoch 5/5: 100%"
          }
        },
        "d4ad7b7008eb4f4b829b76f6e92d8d88": {
          "model_module": "@jupyter-widgets/controls",
          "model_name": "FloatProgressModel",
          "model_module_version": "1.5.0",
          "state": {
            "_dom_classes": [],
            "_model_module": "@jupyter-widgets/controls",
            "_model_module_version": "1.5.0",
            "_model_name": "FloatProgressModel",
            "_view_count": null,
            "_view_module": "@jupyter-widgets/controls",
            "_view_module_version": "1.5.0",
            "_view_name": "ProgressView",
            "bar_style": "success",
            "description": "",
            "description_tooltip": null,
            "layout": "IPY_MODEL_c24a35d73f0e4cfd9a10cf5fe8ad7aad",
            "max": 362,
            "min": 0,
            "orientation": "horizontal",
            "style": "IPY_MODEL_ff290b8f6aeb4d5dafa010459dadb0a2",
            "value": 362
          }
        },
        "228bfa3e9a714d899fa087dd9f528b03": {
          "model_module": "@jupyter-widgets/controls",
          "model_name": "HTMLModel",
          "model_module_version": "1.5.0",
          "state": {
            "_dom_classes": [],
            "_model_module": "@jupyter-widgets/controls",
            "_model_module_version": "1.5.0",
            "_model_name": "HTMLModel",
            "_view_count": null,
            "_view_module": "@jupyter-widgets/controls",
            "_view_module_version": "1.5.0",
            "_view_name": "HTMLView",
            "description": "",
            "description_tooltip": null,
            "layout": "IPY_MODEL_c171b8b4dd8943ddbb129ef53266bb3f",
            "placeholder": "​",
            "style": "IPY_MODEL_3e1dbf3276b644888f5414c64dfb1539",
            "value": " 362/362 [00:06&lt;00:00, 59.65it/s, loss=0.626, mean_absolute_error=0.502]"
          }
        },
        "c26625f17c094e1aac4587a441f10c17": {
          "model_module": "@jupyter-widgets/base",
          "model_name": "LayoutModel",
          "model_module_version": "1.2.0",
          "state": {
            "_model_module": "@jupyter-widgets/base",
            "_model_module_version": "1.2.0",
            "_model_name": "LayoutModel",
            "_view_count": null,
            "_view_module": "@jupyter-widgets/base",
            "_view_module_version": "1.2.0",
            "_view_name": "LayoutView",
            "align_content": null,
            "align_items": null,
            "align_self": null,
            "border": null,
            "bottom": null,
            "display": null,
            "flex": null,
            "flex_flow": null,
            "grid_area": null,
            "grid_auto_columns": null,
            "grid_auto_flow": null,
            "grid_auto_rows": null,
            "grid_column": null,
            "grid_gap": null,
            "grid_row": null,
            "grid_template_areas": null,
            "grid_template_columns": null,
            "grid_template_rows": null,
            "height": null,
            "justify_content": null,
            "justify_items": null,
            "left": null,
            "margin": null,
            "max_height": null,
            "max_width": null,
            "min_height": null,
            "min_width": null,
            "object_fit": null,
            "object_position": null,
            "order": null,
            "overflow": null,
            "overflow_x": null,
            "overflow_y": null,
            "padding": null,
            "right": null,
            "top": null,
            "visibility": null,
            "width": null
          }
        },
        "798bd66f76244413aa7fad4be1a5580f": {
          "model_module": "@jupyter-widgets/base",
          "model_name": "LayoutModel",
          "model_module_version": "1.2.0",
          "state": {
            "_model_module": "@jupyter-widgets/base",
            "_model_module_version": "1.2.0",
            "_model_name": "LayoutModel",
            "_view_count": null,
            "_view_module": "@jupyter-widgets/base",
            "_view_module_version": "1.2.0",
            "_view_name": "LayoutView",
            "align_content": null,
            "align_items": null,
            "align_self": null,
            "border": null,
            "bottom": null,
            "display": null,
            "flex": null,
            "flex_flow": null,
            "grid_area": null,
            "grid_auto_columns": null,
            "grid_auto_flow": null,
            "grid_auto_rows": null,
            "grid_column": null,
            "grid_gap": null,
            "grid_row": null,
            "grid_template_areas": null,
            "grid_template_columns": null,
            "grid_template_rows": null,
            "height": null,
            "justify_content": null,
            "justify_items": null,
            "left": null,
            "margin": null,
            "max_height": null,
            "max_width": null,
            "min_height": null,
            "min_width": null,
            "object_fit": null,
            "object_position": null,
            "order": null,
            "overflow": null,
            "overflow_x": null,
            "overflow_y": null,
            "padding": null,
            "right": null,
            "top": null,
            "visibility": null,
            "width": null
          }
        },
        "0a96edbe20144016be1776bbed4c0384": {
          "model_module": "@jupyter-widgets/controls",
          "model_name": "DescriptionStyleModel",
          "model_module_version": "1.5.0",
          "state": {
            "_model_module": "@jupyter-widgets/controls",
            "_model_module_version": "1.5.0",
            "_model_name": "DescriptionStyleModel",
            "_view_count": null,
            "_view_module": "@jupyter-widgets/base",
            "_view_module_version": "1.2.0",
            "_view_name": "StyleView",
            "description_width": ""
          }
        },
        "c24a35d73f0e4cfd9a10cf5fe8ad7aad": {
          "model_module": "@jupyter-widgets/base",
          "model_name": "LayoutModel",
          "model_module_version": "1.2.0",
          "state": {
            "_model_module": "@jupyter-widgets/base",
            "_model_module_version": "1.2.0",
            "_model_name": "LayoutModel",
            "_view_count": null,
            "_view_module": "@jupyter-widgets/base",
            "_view_module_version": "1.2.0",
            "_view_name": "LayoutView",
            "align_content": null,
            "align_items": null,
            "align_self": null,
            "border": null,
            "bottom": null,
            "display": null,
            "flex": null,
            "flex_flow": null,
            "grid_area": null,
            "grid_auto_columns": null,
            "grid_auto_flow": null,
            "grid_auto_rows": null,
            "grid_column": null,
            "grid_gap": null,
            "grid_row": null,
            "grid_template_areas": null,
            "grid_template_columns": null,
            "grid_template_rows": null,
            "height": null,
            "justify_content": null,
            "justify_items": null,
            "left": null,
            "margin": null,
            "max_height": null,
            "max_width": null,
            "min_height": null,
            "min_width": null,
            "object_fit": null,
            "object_position": null,
            "order": null,
            "overflow": null,
            "overflow_x": null,
            "overflow_y": null,
            "padding": null,
            "right": null,
            "top": null,
            "visibility": null,
            "width": null
          }
        },
        "ff290b8f6aeb4d5dafa010459dadb0a2": {
          "model_module": "@jupyter-widgets/controls",
          "model_name": "ProgressStyleModel",
          "model_module_version": "1.5.0",
          "state": {
            "_model_module": "@jupyter-widgets/controls",
            "_model_module_version": "1.5.0",
            "_model_name": "ProgressStyleModel",
            "_view_count": null,
            "_view_module": "@jupyter-widgets/base",
            "_view_module_version": "1.2.0",
            "_view_name": "StyleView",
            "bar_color": null,
            "description_width": ""
          }
        },
        "c171b8b4dd8943ddbb129ef53266bb3f": {
          "model_module": "@jupyter-widgets/base",
          "model_name": "LayoutModel",
          "model_module_version": "1.2.0",
          "state": {
            "_model_module": "@jupyter-widgets/base",
            "_model_module_version": "1.2.0",
            "_model_name": "LayoutModel",
            "_view_count": null,
            "_view_module": "@jupyter-widgets/base",
            "_view_module_version": "1.2.0",
            "_view_name": "LayoutView",
            "align_content": null,
            "align_items": null,
            "align_self": null,
            "border": null,
            "bottom": null,
            "display": null,
            "flex": null,
            "flex_flow": null,
            "grid_area": null,
            "grid_auto_columns": null,
            "grid_auto_flow": null,
            "grid_auto_rows": null,
            "grid_column": null,
            "grid_gap": null,
            "grid_row": null,
            "grid_template_areas": null,
            "grid_template_columns": null,
            "grid_template_rows": null,
            "height": null,
            "justify_content": null,
            "justify_items": null,
            "left": null,
            "margin": null,
            "max_height": null,
            "max_width": null,
            "min_height": null,
            "min_width": null,
            "object_fit": null,
            "object_position": null,
            "order": null,
            "overflow": null,
            "overflow_x": null,
            "overflow_y": null,
            "padding": null,
            "right": null,
            "top": null,
            "visibility": null,
            "width": null
          }
        },
        "3e1dbf3276b644888f5414c64dfb1539": {
          "model_module": "@jupyter-widgets/controls",
          "model_name": "DescriptionStyleModel",
          "model_module_version": "1.5.0",
          "state": {
            "_model_module": "@jupyter-widgets/controls",
            "_model_module_version": "1.5.0",
            "_model_name": "DescriptionStyleModel",
            "_view_count": null,
            "_view_module": "@jupyter-widgets/base",
            "_view_module_version": "1.2.0",
            "_view_name": "StyleView",
            "description_width": ""
          }
        },
        "5d4e8f146ea84d9399168f62a0b20a22": {
          "model_module": "@jupyter-widgets/controls",
          "model_name": "HBoxModel",
          "model_module_version": "1.5.0",
          "state": {
            "_dom_classes": [],
            "_model_module": "@jupyter-widgets/controls",
            "_model_module_version": "1.5.0",
            "_model_name": "HBoxModel",
            "_view_count": null,
            "_view_module": "@jupyter-widgets/controls",
            "_view_module_version": "1.5.0",
            "_view_name": "HBoxView",
            "box_style": "",
            "children": [
              "IPY_MODEL_7295024fb6e14912933f06f2e7fdd50a",
              "IPY_MODEL_ff605a415aa3435f94d0c156cef6712f",
              "IPY_MODEL_30814c93255b447baf16bb77ba004624"
            ],
            "layout": "IPY_MODEL_af7953b6788f424694947f25f10d22b7"
          }
        },
        "7295024fb6e14912933f06f2e7fdd50a": {
          "model_module": "@jupyter-widgets/controls",
          "model_name": "HTMLModel",
          "model_module_version": "1.5.0",
          "state": {
            "_dom_classes": [],
            "_model_module": "@jupyter-widgets/controls",
            "_model_module_version": "1.5.0",
            "_model_name": "HTMLModel",
            "_view_count": null,
            "_view_module": "@jupyter-widgets/controls",
            "_view_module_version": "1.5.0",
            "_view_name": "HTMLView",
            "description": "",
            "description_tooltip": null,
            "layout": "IPY_MODEL_2b05554510514e5b81e456e3051ecfc6",
            "placeholder": "​",
            "style": "IPY_MODEL_3b45c0028c3647cbbc910744e7f1572a",
            "value": "All epochs: 100%"
          }
        },
        "ff605a415aa3435f94d0c156cef6712f": {
          "model_module": "@jupyter-widgets/controls",
          "model_name": "FloatProgressModel",
          "model_module_version": "1.5.0",
          "state": {
            "_dom_classes": [],
            "_model_module": "@jupyter-widgets/controls",
            "_model_module_version": "1.5.0",
            "_model_name": "FloatProgressModel",
            "_view_count": null,
            "_view_module": "@jupyter-widgets/controls",
            "_view_module_version": "1.5.0",
            "_view_name": "ProgressView",
            "bar_style": "success",
            "description": "",
            "description_tooltip": null,
            "layout": "IPY_MODEL_7ae7c237afcd401aba969bf38ee82f7d",
            "max": 5,
            "min": 0,
            "orientation": "horizontal",
            "style": "IPY_MODEL_3659d1e6ae574720bfc5dcca4674f199",
            "value": 5
          }
        },
        "30814c93255b447baf16bb77ba004624": {
          "model_module": "@jupyter-widgets/controls",
          "model_name": "HTMLModel",
          "model_module_version": "1.5.0",
          "state": {
            "_dom_classes": [],
            "_model_module": "@jupyter-widgets/controls",
            "_model_module_version": "1.5.0",
            "_model_name": "HTMLModel",
            "_view_count": null,
            "_view_module": "@jupyter-widgets/controls",
            "_view_module_version": "1.5.0",
            "_view_name": "HTMLView",
            "description": "",
            "description_tooltip": null,
            "layout": "IPY_MODEL_dfc48b5ccf6944ea9244bc4d8e2ca61e",
            "placeholder": "​",
            "style": "IPY_MODEL_e00cb0b2fb3d4a0da8d7997584797650",
            "value": " 5/5 [02:51&lt;00:00, 34.26s/it]"
          }
        },
        "af7953b6788f424694947f25f10d22b7": {
          "model_module": "@jupyter-widgets/base",
          "model_name": "LayoutModel",
          "model_module_version": "1.2.0",
          "state": {
            "_model_module": "@jupyter-widgets/base",
            "_model_module_version": "1.2.0",
            "_model_name": "LayoutModel",
            "_view_count": null,
            "_view_module": "@jupyter-widgets/base",
            "_view_module_version": "1.2.0",
            "_view_name": "LayoutView",
            "align_content": null,
            "align_items": null,
            "align_self": null,
            "border": null,
            "bottom": null,
            "display": null,
            "flex": null,
            "flex_flow": null,
            "grid_area": null,
            "grid_auto_columns": null,
            "grid_auto_flow": null,
            "grid_auto_rows": null,
            "grid_column": null,
            "grid_gap": null,
            "grid_row": null,
            "grid_template_areas": null,
            "grid_template_columns": null,
            "grid_template_rows": null,
            "height": null,
            "justify_content": null,
            "justify_items": null,
            "left": null,
            "margin": null,
            "max_height": null,
            "max_width": null,
            "min_height": null,
            "min_width": null,
            "object_fit": null,
            "object_position": null,
            "order": null,
            "overflow": null,
            "overflow_x": null,
            "overflow_y": null,
            "padding": null,
            "right": null,
            "top": null,
            "visibility": null,
            "width": null
          }
        },
        "2b05554510514e5b81e456e3051ecfc6": {
          "model_module": "@jupyter-widgets/base",
          "model_name": "LayoutModel",
          "model_module_version": "1.2.0",
          "state": {
            "_model_module": "@jupyter-widgets/base",
            "_model_module_version": "1.2.0",
            "_model_name": "LayoutModel",
            "_view_count": null,
            "_view_module": "@jupyter-widgets/base",
            "_view_module_version": "1.2.0",
            "_view_name": "LayoutView",
            "align_content": null,
            "align_items": null,
            "align_self": null,
            "border": null,
            "bottom": null,
            "display": null,
            "flex": null,
            "flex_flow": null,
            "grid_area": null,
            "grid_auto_columns": null,
            "grid_auto_flow": null,
            "grid_auto_rows": null,
            "grid_column": null,
            "grid_gap": null,
            "grid_row": null,
            "grid_template_areas": null,
            "grid_template_columns": null,
            "grid_template_rows": null,
            "height": null,
            "justify_content": null,
            "justify_items": null,
            "left": null,
            "margin": null,
            "max_height": null,
            "max_width": null,
            "min_height": null,
            "min_width": null,
            "object_fit": null,
            "object_position": null,
            "order": null,
            "overflow": null,
            "overflow_x": null,
            "overflow_y": null,
            "padding": null,
            "right": null,
            "top": null,
            "visibility": null,
            "width": null
          }
        },
        "3b45c0028c3647cbbc910744e7f1572a": {
          "model_module": "@jupyter-widgets/controls",
          "model_name": "DescriptionStyleModel",
          "model_module_version": "1.5.0",
          "state": {
            "_model_module": "@jupyter-widgets/controls",
            "_model_module_version": "1.5.0",
            "_model_name": "DescriptionStyleModel",
            "_view_count": null,
            "_view_module": "@jupyter-widgets/base",
            "_view_module_version": "1.2.0",
            "_view_name": "StyleView",
            "description_width": ""
          }
        },
        "7ae7c237afcd401aba969bf38ee82f7d": {
          "model_module": "@jupyter-widgets/base",
          "model_name": "LayoutModel",
          "model_module_version": "1.2.0",
          "state": {
            "_model_module": "@jupyter-widgets/base",
            "_model_module_version": "1.2.0",
            "_model_name": "LayoutModel",
            "_view_count": null,
            "_view_module": "@jupyter-widgets/base",
            "_view_module_version": "1.2.0",
            "_view_name": "LayoutView",
            "align_content": null,
            "align_items": null,
            "align_self": null,
            "border": null,
            "bottom": null,
            "display": null,
            "flex": null,
            "flex_flow": null,
            "grid_area": null,
            "grid_auto_columns": null,
            "grid_auto_flow": null,
            "grid_auto_rows": null,
            "grid_column": null,
            "grid_gap": null,
            "grid_row": null,
            "grid_template_areas": null,
            "grid_template_columns": null,
            "grid_template_rows": null,
            "height": null,
            "justify_content": null,
            "justify_items": null,
            "left": null,
            "margin": null,
            "max_height": null,
            "max_width": null,
            "min_height": null,
            "min_width": null,
            "object_fit": null,
            "object_position": null,
            "order": null,
            "overflow": null,
            "overflow_x": null,
            "overflow_y": null,
            "padding": null,
            "right": null,
            "top": null,
            "visibility": null,
            "width": null
          }
        },
        "3659d1e6ae574720bfc5dcca4674f199": {
          "model_module": "@jupyter-widgets/controls",
          "model_name": "ProgressStyleModel",
          "model_module_version": "1.5.0",
          "state": {
            "_model_module": "@jupyter-widgets/controls",
            "_model_module_version": "1.5.0",
            "_model_name": "ProgressStyleModel",
            "_view_count": null,
            "_view_module": "@jupyter-widgets/base",
            "_view_module_version": "1.2.0",
            "_view_name": "StyleView",
            "bar_color": null,
            "description_width": ""
          }
        },
        "dfc48b5ccf6944ea9244bc4d8e2ca61e": {
          "model_module": "@jupyter-widgets/base",
          "model_name": "LayoutModel",
          "model_module_version": "1.2.0",
          "state": {
            "_model_module": "@jupyter-widgets/base",
            "_model_module_version": "1.2.0",
            "_model_name": "LayoutModel",
            "_view_count": null,
            "_view_module": "@jupyter-widgets/base",
            "_view_module_version": "1.2.0",
            "_view_name": "LayoutView",
            "align_content": null,
            "align_items": null,
            "align_self": null,
            "border": null,
            "bottom": null,
            "display": null,
            "flex": null,
            "flex_flow": null,
            "grid_area": null,
            "grid_auto_columns": null,
            "grid_auto_flow": null,
            "grid_auto_rows": null,
            "grid_column": null,
            "grid_gap": null,
            "grid_row": null,
            "grid_template_areas": null,
            "grid_template_columns": null,
            "grid_template_rows": null,
            "height": null,
            "justify_content": null,
            "justify_items": null,
            "left": null,
            "margin": null,
            "max_height": null,
            "max_width": null,
            "min_height": null,
            "min_width": null,
            "object_fit": null,
            "object_position": null,
            "order": null,
            "overflow": null,
            "overflow_x": null,
            "overflow_y": null,
            "padding": null,
            "right": null,
            "top": null,
            "visibility": null,
            "width": null
          }
        },
        "e00cb0b2fb3d4a0da8d7997584797650": {
          "model_module": "@jupyter-widgets/controls",
          "model_name": "DescriptionStyleModel",
          "model_module_version": "1.5.0",
          "state": {
            "_model_module": "@jupyter-widgets/controls",
            "_model_module_version": "1.5.0",
            "_model_name": "DescriptionStyleModel",
            "_view_count": null,
            "_view_module": "@jupyter-widgets/base",
            "_view_module_version": "1.2.0",
            "_view_name": "StyleView",
            "description_width": ""
          }
        },
        "ca930a32ebd849889cf12875dd0f67b6": {
          "model_module": "@jupyter-widgets/controls",
          "model_name": "HBoxModel",
          "model_module_version": "1.5.0",
          "state": {
            "_dom_classes": [],
            "_model_module": "@jupyter-widgets/controls",
            "_model_module_version": "1.5.0",
            "_model_name": "HBoxModel",
            "_view_count": null,
            "_view_module": "@jupyter-widgets/controls",
            "_view_module_version": "1.5.0",
            "_view_name": "HBoxView",
            "box_style": "",
            "children": [
              "IPY_MODEL_ada21ea4ca974932bacd823dc608d922",
              "IPY_MODEL_43deb6bade0048b0a177bb1705e6f8c0",
              "IPY_MODEL_05ebedfd4ec54fcf9e1e74834cab8aab"
            ],
            "layout": "IPY_MODEL_03ed7016a45f4668937766a6ada6f341"
          }
        },
        "ada21ea4ca974932bacd823dc608d922": {
          "model_module": "@jupyter-widgets/controls",
          "model_name": "HTMLModel",
          "model_module_version": "1.5.0",
          "state": {
            "_dom_classes": [],
            "_model_module": "@jupyter-widgets/controls",
            "_model_module_version": "1.5.0",
            "_model_name": "HTMLModel",
            "_view_count": null,
            "_view_module": "@jupyter-widgets/controls",
            "_view_module_version": "1.5.0",
            "_view_name": "HTMLView",
            "description": "",
            "description_tooltip": null,
            "layout": "IPY_MODEL_4d9e7c0435734007a80ba323ffcd6e8a",
            "placeholder": "​",
            "style": "IPY_MODEL_6e1b71a829694e5ea98b8ad1974c0ffd",
            "value": "Epoch 1/5: 100%"
          }
        },
        "43deb6bade0048b0a177bb1705e6f8c0": {
          "model_module": "@jupyter-widgets/controls",
          "model_name": "FloatProgressModel",
          "model_module_version": "1.5.0",
          "state": {
            "_dom_classes": [],
            "_model_module": "@jupyter-widgets/controls",
            "_model_module_version": "1.5.0",
            "_model_name": "FloatProgressModel",
            "_view_count": null,
            "_view_module": "@jupyter-widgets/controls",
            "_view_module_version": "1.5.0",
            "_view_name": "ProgressView",
            "bar_style": "success",
            "description": "",
            "description_tooltip": null,
            "layout": "IPY_MODEL_2e9d4374618347769bfc17b696739864",
            "max": 1718,
            "min": 0,
            "orientation": "horizontal",
            "style": "IPY_MODEL_e185797b956345c6850e54d6863a8c88",
            "value": 1718
          }
        },
        "05ebedfd4ec54fcf9e1e74834cab8aab": {
          "model_module": "@jupyter-widgets/controls",
          "model_name": "HTMLModel",
          "model_module_version": "1.5.0",
          "state": {
            "_dom_classes": [],
            "_model_module": "@jupyter-widgets/controls",
            "_model_module_version": "1.5.0",
            "_model_name": "HTMLModel",
            "_view_count": null,
            "_view_module": "@jupyter-widgets/controls",
            "_view_module_version": "1.5.0",
            "_view_name": "HTMLView",
            "description": "",
            "description_tooltip": null,
            "layout": "IPY_MODEL_ce76b277e82f49ce9dfbb77432c6e17f",
            "placeholder": "​",
            "style": "IPY_MODEL_2d9e4688242740e18e6504c563af7b06",
            "value": " 1718/1718 [00:35&lt;00:00, 52.68it/s, loss=1.04, sparse_categorical_accuracy=0.679]"
          }
        },
        "03ed7016a45f4668937766a6ada6f341": {
          "model_module": "@jupyter-widgets/base",
          "model_name": "LayoutModel",
          "model_module_version": "1.2.0",
          "state": {
            "_model_module": "@jupyter-widgets/base",
            "_model_module_version": "1.2.0",
            "_model_name": "LayoutModel",
            "_view_count": null,
            "_view_module": "@jupyter-widgets/base",
            "_view_module_version": "1.2.0",
            "_view_name": "LayoutView",
            "align_content": null,
            "align_items": null,
            "align_self": null,
            "border": null,
            "bottom": null,
            "display": null,
            "flex": null,
            "flex_flow": null,
            "grid_area": null,
            "grid_auto_columns": null,
            "grid_auto_flow": null,
            "grid_auto_rows": null,
            "grid_column": null,
            "grid_gap": null,
            "grid_row": null,
            "grid_template_areas": null,
            "grid_template_columns": null,
            "grid_template_rows": null,
            "height": null,
            "justify_content": null,
            "justify_items": null,
            "left": null,
            "margin": null,
            "max_height": null,
            "max_width": null,
            "min_height": null,
            "min_width": null,
            "object_fit": null,
            "object_position": null,
            "order": null,
            "overflow": null,
            "overflow_x": null,
            "overflow_y": null,
            "padding": null,
            "right": null,
            "top": null,
            "visibility": null,
            "width": null
          }
        },
        "4d9e7c0435734007a80ba323ffcd6e8a": {
          "model_module": "@jupyter-widgets/base",
          "model_name": "LayoutModel",
          "model_module_version": "1.2.0",
          "state": {
            "_model_module": "@jupyter-widgets/base",
            "_model_module_version": "1.2.0",
            "_model_name": "LayoutModel",
            "_view_count": null,
            "_view_module": "@jupyter-widgets/base",
            "_view_module_version": "1.2.0",
            "_view_name": "LayoutView",
            "align_content": null,
            "align_items": null,
            "align_self": null,
            "border": null,
            "bottom": null,
            "display": null,
            "flex": null,
            "flex_flow": null,
            "grid_area": null,
            "grid_auto_columns": null,
            "grid_auto_flow": null,
            "grid_auto_rows": null,
            "grid_column": null,
            "grid_gap": null,
            "grid_row": null,
            "grid_template_areas": null,
            "grid_template_columns": null,
            "grid_template_rows": null,
            "height": null,
            "justify_content": null,
            "justify_items": null,
            "left": null,
            "margin": null,
            "max_height": null,
            "max_width": null,
            "min_height": null,
            "min_width": null,
            "object_fit": null,
            "object_position": null,
            "order": null,
            "overflow": null,
            "overflow_x": null,
            "overflow_y": null,
            "padding": null,
            "right": null,
            "top": null,
            "visibility": null,
            "width": null
          }
        },
        "6e1b71a829694e5ea98b8ad1974c0ffd": {
          "model_module": "@jupyter-widgets/controls",
          "model_name": "DescriptionStyleModel",
          "model_module_version": "1.5.0",
          "state": {
            "_model_module": "@jupyter-widgets/controls",
            "_model_module_version": "1.5.0",
            "_model_name": "DescriptionStyleModel",
            "_view_count": null,
            "_view_module": "@jupyter-widgets/base",
            "_view_module_version": "1.2.0",
            "_view_name": "StyleView",
            "description_width": ""
          }
        },
        "2e9d4374618347769bfc17b696739864": {
          "model_module": "@jupyter-widgets/base",
          "model_name": "LayoutModel",
          "model_module_version": "1.2.0",
          "state": {
            "_model_module": "@jupyter-widgets/base",
            "_model_module_version": "1.2.0",
            "_model_name": "LayoutModel",
            "_view_count": null,
            "_view_module": "@jupyter-widgets/base",
            "_view_module_version": "1.2.0",
            "_view_name": "LayoutView",
            "align_content": null,
            "align_items": null,
            "align_self": null,
            "border": null,
            "bottom": null,
            "display": null,
            "flex": null,
            "flex_flow": null,
            "grid_area": null,
            "grid_auto_columns": null,
            "grid_auto_flow": null,
            "grid_auto_rows": null,
            "grid_column": null,
            "grid_gap": null,
            "grid_row": null,
            "grid_template_areas": null,
            "grid_template_columns": null,
            "grid_template_rows": null,
            "height": null,
            "justify_content": null,
            "justify_items": null,
            "left": null,
            "margin": null,
            "max_height": null,
            "max_width": null,
            "min_height": null,
            "min_width": null,
            "object_fit": null,
            "object_position": null,
            "order": null,
            "overflow": null,
            "overflow_x": null,
            "overflow_y": null,
            "padding": null,
            "right": null,
            "top": null,
            "visibility": null,
            "width": null
          }
        },
        "e185797b956345c6850e54d6863a8c88": {
          "model_module": "@jupyter-widgets/controls",
          "model_name": "ProgressStyleModel",
          "model_module_version": "1.5.0",
          "state": {
            "_model_module": "@jupyter-widgets/controls",
            "_model_module_version": "1.5.0",
            "_model_name": "ProgressStyleModel",
            "_view_count": null,
            "_view_module": "@jupyter-widgets/base",
            "_view_module_version": "1.2.0",
            "_view_name": "StyleView",
            "bar_color": null,
            "description_width": ""
          }
        },
        "ce76b277e82f49ce9dfbb77432c6e17f": {
          "model_module": "@jupyter-widgets/base",
          "model_name": "LayoutModel",
          "model_module_version": "1.2.0",
          "state": {
            "_model_module": "@jupyter-widgets/base",
            "_model_module_version": "1.2.0",
            "_model_name": "LayoutModel",
            "_view_count": null,
            "_view_module": "@jupyter-widgets/base",
            "_view_module_version": "1.2.0",
            "_view_name": "LayoutView",
            "align_content": null,
            "align_items": null,
            "align_self": null,
            "border": null,
            "bottom": null,
            "display": null,
            "flex": null,
            "flex_flow": null,
            "grid_area": null,
            "grid_auto_columns": null,
            "grid_auto_flow": null,
            "grid_auto_rows": null,
            "grid_column": null,
            "grid_gap": null,
            "grid_row": null,
            "grid_template_areas": null,
            "grid_template_columns": null,
            "grid_template_rows": null,
            "height": null,
            "justify_content": null,
            "justify_items": null,
            "left": null,
            "margin": null,
            "max_height": null,
            "max_width": null,
            "min_height": null,
            "min_width": null,
            "object_fit": null,
            "object_position": null,
            "order": null,
            "overflow": null,
            "overflow_x": null,
            "overflow_y": null,
            "padding": null,
            "right": null,
            "top": null,
            "visibility": null,
            "width": null
          }
        },
        "2d9e4688242740e18e6504c563af7b06": {
          "model_module": "@jupyter-widgets/controls",
          "model_name": "DescriptionStyleModel",
          "model_module_version": "1.5.0",
          "state": {
            "_model_module": "@jupyter-widgets/controls",
            "_model_module_version": "1.5.0",
            "_model_name": "DescriptionStyleModel",
            "_view_count": null,
            "_view_module": "@jupyter-widgets/base",
            "_view_module_version": "1.2.0",
            "_view_name": "StyleView",
            "description_width": ""
          }
        },
        "f0e31186bd2d48bfb2cb19bba6a72e7d": {
          "model_module": "@jupyter-widgets/controls",
          "model_name": "HBoxModel",
          "model_module_version": "1.5.0",
          "state": {
            "_dom_classes": [],
            "_model_module": "@jupyter-widgets/controls",
            "_model_module_version": "1.5.0",
            "_model_name": "HBoxModel",
            "_view_count": null,
            "_view_module": "@jupyter-widgets/controls",
            "_view_module_version": "1.5.0",
            "_view_name": "HBoxView",
            "box_style": "",
            "children": [
              "IPY_MODEL_45cb7611404344bb9b0c700b68f830ff",
              "IPY_MODEL_8adcc12c64cc4c89903f307df647941b",
              "IPY_MODEL_8fb9c0ddd14b4970be3f839a7f9b3f7c"
            ],
            "layout": "IPY_MODEL_949de89c5b5341f7b9109debf207d9f7"
          }
        },
        "45cb7611404344bb9b0c700b68f830ff": {
          "model_module": "@jupyter-widgets/controls",
          "model_name": "HTMLModel",
          "model_module_version": "1.5.0",
          "state": {
            "_dom_classes": [],
            "_model_module": "@jupyter-widgets/controls",
            "_model_module_version": "1.5.0",
            "_model_name": "HTMLModel",
            "_view_count": null,
            "_view_module": "@jupyter-widgets/controls",
            "_view_module_version": "1.5.0",
            "_view_name": "HTMLView",
            "description": "",
            "description_tooltip": null,
            "layout": "IPY_MODEL_b089decce7a54a7c88d8fdafc41fa507",
            "placeholder": "​",
            "style": "IPY_MODEL_a3e33c9748d14c9ba725fbcc1dc214b7",
            "value": "Epoch 2/5: 100%"
          }
        },
        "8adcc12c64cc4c89903f307df647941b": {
          "model_module": "@jupyter-widgets/controls",
          "model_name": "FloatProgressModel",
          "model_module_version": "1.5.0",
          "state": {
            "_dom_classes": [],
            "_model_module": "@jupyter-widgets/controls",
            "_model_module_version": "1.5.0",
            "_model_name": "FloatProgressModel",
            "_view_count": null,
            "_view_module": "@jupyter-widgets/controls",
            "_view_module_version": "1.5.0",
            "_view_name": "ProgressView",
            "bar_style": "success",
            "description": "",
            "description_tooltip": null,
            "layout": "IPY_MODEL_7d39078a748a4f3cb6873ffad42e24a9",
            "max": 1718,
            "min": 0,
            "orientation": "horizontal",
            "style": "IPY_MODEL_ac0c420d7c0a4cba97b812536938f593",
            "value": 1718
          }
        },
        "8fb9c0ddd14b4970be3f839a7f9b3f7c": {
          "model_module": "@jupyter-widgets/controls",
          "model_name": "HTMLModel",
          "model_module_version": "1.5.0",
          "state": {
            "_dom_classes": [],
            "_model_module": "@jupyter-widgets/controls",
            "_model_module_version": "1.5.0",
            "_model_name": "HTMLModel",
            "_view_count": null,
            "_view_module": "@jupyter-widgets/controls",
            "_view_module_version": "1.5.0",
            "_view_name": "HTMLView",
            "description": "",
            "description_tooltip": null,
            "layout": "IPY_MODEL_d07e79cfcebd40b0a07a95c1acbfa4ef",
            "placeholder": "​",
            "style": "IPY_MODEL_daeafd631cc94a8ba3185a65adfa9dd3",
            "value": " 1718/1718 [00:34&lt;00:00, 46.26it/s, loss=0.634, sparse_categorical_accuracy=0.788]"
          }
        },
        "949de89c5b5341f7b9109debf207d9f7": {
          "model_module": "@jupyter-widgets/base",
          "model_name": "LayoutModel",
          "model_module_version": "1.2.0",
          "state": {
            "_model_module": "@jupyter-widgets/base",
            "_model_module_version": "1.2.0",
            "_model_name": "LayoutModel",
            "_view_count": null,
            "_view_module": "@jupyter-widgets/base",
            "_view_module_version": "1.2.0",
            "_view_name": "LayoutView",
            "align_content": null,
            "align_items": null,
            "align_self": null,
            "border": null,
            "bottom": null,
            "display": null,
            "flex": null,
            "flex_flow": null,
            "grid_area": null,
            "grid_auto_columns": null,
            "grid_auto_flow": null,
            "grid_auto_rows": null,
            "grid_column": null,
            "grid_gap": null,
            "grid_row": null,
            "grid_template_areas": null,
            "grid_template_columns": null,
            "grid_template_rows": null,
            "height": null,
            "justify_content": null,
            "justify_items": null,
            "left": null,
            "margin": null,
            "max_height": null,
            "max_width": null,
            "min_height": null,
            "min_width": null,
            "object_fit": null,
            "object_position": null,
            "order": null,
            "overflow": null,
            "overflow_x": null,
            "overflow_y": null,
            "padding": null,
            "right": null,
            "top": null,
            "visibility": null,
            "width": null
          }
        },
        "b089decce7a54a7c88d8fdafc41fa507": {
          "model_module": "@jupyter-widgets/base",
          "model_name": "LayoutModel",
          "model_module_version": "1.2.0",
          "state": {
            "_model_module": "@jupyter-widgets/base",
            "_model_module_version": "1.2.0",
            "_model_name": "LayoutModel",
            "_view_count": null,
            "_view_module": "@jupyter-widgets/base",
            "_view_module_version": "1.2.0",
            "_view_name": "LayoutView",
            "align_content": null,
            "align_items": null,
            "align_self": null,
            "border": null,
            "bottom": null,
            "display": null,
            "flex": null,
            "flex_flow": null,
            "grid_area": null,
            "grid_auto_columns": null,
            "grid_auto_flow": null,
            "grid_auto_rows": null,
            "grid_column": null,
            "grid_gap": null,
            "grid_row": null,
            "grid_template_areas": null,
            "grid_template_columns": null,
            "grid_template_rows": null,
            "height": null,
            "justify_content": null,
            "justify_items": null,
            "left": null,
            "margin": null,
            "max_height": null,
            "max_width": null,
            "min_height": null,
            "min_width": null,
            "object_fit": null,
            "object_position": null,
            "order": null,
            "overflow": null,
            "overflow_x": null,
            "overflow_y": null,
            "padding": null,
            "right": null,
            "top": null,
            "visibility": null,
            "width": null
          }
        },
        "a3e33c9748d14c9ba725fbcc1dc214b7": {
          "model_module": "@jupyter-widgets/controls",
          "model_name": "DescriptionStyleModel",
          "model_module_version": "1.5.0",
          "state": {
            "_model_module": "@jupyter-widgets/controls",
            "_model_module_version": "1.5.0",
            "_model_name": "DescriptionStyleModel",
            "_view_count": null,
            "_view_module": "@jupyter-widgets/base",
            "_view_module_version": "1.2.0",
            "_view_name": "StyleView",
            "description_width": ""
          }
        },
        "7d39078a748a4f3cb6873ffad42e24a9": {
          "model_module": "@jupyter-widgets/base",
          "model_name": "LayoutModel",
          "model_module_version": "1.2.0",
          "state": {
            "_model_module": "@jupyter-widgets/base",
            "_model_module_version": "1.2.0",
            "_model_name": "LayoutModel",
            "_view_count": null,
            "_view_module": "@jupyter-widgets/base",
            "_view_module_version": "1.2.0",
            "_view_name": "LayoutView",
            "align_content": null,
            "align_items": null,
            "align_self": null,
            "border": null,
            "bottom": null,
            "display": null,
            "flex": null,
            "flex_flow": null,
            "grid_area": null,
            "grid_auto_columns": null,
            "grid_auto_flow": null,
            "grid_auto_rows": null,
            "grid_column": null,
            "grid_gap": null,
            "grid_row": null,
            "grid_template_areas": null,
            "grid_template_columns": null,
            "grid_template_rows": null,
            "height": null,
            "justify_content": null,
            "justify_items": null,
            "left": null,
            "margin": null,
            "max_height": null,
            "max_width": null,
            "min_height": null,
            "min_width": null,
            "object_fit": null,
            "object_position": null,
            "order": null,
            "overflow": null,
            "overflow_x": null,
            "overflow_y": null,
            "padding": null,
            "right": null,
            "top": null,
            "visibility": null,
            "width": null
          }
        },
        "ac0c420d7c0a4cba97b812536938f593": {
          "model_module": "@jupyter-widgets/controls",
          "model_name": "ProgressStyleModel",
          "model_module_version": "1.5.0",
          "state": {
            "_model_module": "@jupyter-widgets/controls",
            "_model_module_version": "1.5.0",
            "_model_name": "ProgressStyleModel",
            "_view_count": null,
            "_view_module": "@jupyter-widgets/base",
            "_view_module_version": "1.2.0",
            "_view_name": "StyleView",
            "bar_color": null,
            "description_width": ""
          }
        },
        "d07e79cfcebd40b0a07a95c1acbfa4ef": {
          "model_module": "@jupyter-widgets/base",
          "model_name": "LayoutModel",
          "model_module_version": "1.2.0",
          "state": {
            "_model_module": "@jupyter-widgets/base",
            "_model_module_version": "1.2.0",
            "_model_name": "LayoutModel",
            "_view_count": null,
            "_view_module": "@jupyter-widgets/base",
            "_view_module_version": "1.2.0",
            "_view_name": "LayoutView",
            "align_content": null,
            "align_items": null,
            "align_self": null,
            "border": null,
            "bottom": null,
            "display": null,
            "flex": null,
            "flex_flow": null,
            "grid_area": null,
            "grid_auto_columns": null,
            "grid_auto_flow": null,
            "grid_auto_rows": null,
            "grid_column": null,
            "grid_gap": null,
            "grid_row": null,
            "grid_template_areas": null,
            "grid_template_columns": null,
            "grid_template_rows": null,
            "height": null,
            "justify_content": null,
            "justify_items": null,
            "left": null,
            "margin": null,
            "max_height": null,
            "max_width": null,
            "min_height": null,
            "min_width": null,
            "object_fit": null,
            "object_position": null,
            "order": null,
            "overflow": null,
            "overflow_x": null,
            "overflow_y": null,
            "padding": null,
            "right": null,
            "top": null,
            "visibility": null,
            "width": null
          }
        },
        "daeafd631cc94a8ba3185a65adfa9dd3": {
          "model_module": "@jupyter-widgets/controls",
          "model_name": "DescriptionStyleModel",
          "model_module_version": "1.5.0",
          "state": {
            "_model_module": "@jupyter-widgets/controls",
            "_model_module_version": "1.5.0",
            "_model_name": "DescriptionStyleModel",
            "_view_count": null,
            "_view_module": "@jupyter-widgets/base",
            "_view_module_version": "1.2.0",
            "_view_name": "StyleView",
            "description_width": ""
          }
        },
        "baeae41f27eb44aa9ee10b0175a23963": {
          "model_module": "@jupyter-widgets/controls",
          "model_name": "HBoxModel",
          "model_module_version": "1.5.0",
          "state": {
            "_dom_classes": [],
            "_model_module": "@jupyter-widgets/controls",
            "_model_module_version": "1.5.0",
            "_model_name": "HBoxModel",
            "_view_count": null,
            "_view_module": "@jupyter-widgets/controls",
            "_view_module_version": "1.5.0",
            "_view_name": "HBoxView",
            "box_style": "",
            "children": [
              "IPY_MODEL_5e1c0d1633914a3e9c727f8d5e8d0a02",
              "IPY_MODEL_144f057af6864174970cc00b84129319",
              "IPY_MODEL_7b1a6f1880084faf81d9a6d90218209e"
            ],
            "layout": "IPY_MODEL_1f61d7bbd81f420f99192e371fd7492f"
          }
        },
        "5e1c0d1633914a3e9c727f8d5e8d0a02": {
          "model_module": "@jupyter-widgets/controls",
          "model_name": "HTMLModel",
          "model_module_version": "1.5.0",
          "state": {
            "_dom_classes": [],
            "_model_module": "@jupyter-widgets/controls",
            "_model_module_version": "1.5.0",
            "_model_name": "HTMLModel",
            "_view_count": null,
            "_view_module": "@jupyter-widgets/controls",
            "_view_module_version": "1.5.0",
            "_view_name": "HTMLView",
            "description": "",
            "description_tooltip": null,
            "layout": "IPY_MODEL_840429aa8c824433b0ba04b72ae9df19",
            "placeholder": "​",
            "style": "IPY_MODEL_80c2a1dd166f4181b25d405094164a97",
            "value": "Epoch 3/5: 100%"
          }
        },
        "144f057af6864174970cc00b84129319": {
          "model_module": "@jupyter-widgets/controls",
          "model_name": "FloatProgressModel",
          "model_module_version": "1.5.0",
          "state": {
            "_dom_classes": [],
            "_model_module": "@jupyter-widgets/controls",
            "_model_module_version": "1.5.0",
            "_model_name": "FloatProgressModel",
            "_view_count": null,
            "_view_module": "@jupyter-widgets/controls",
            "_view_module_version": "1.5.0",
            "_view_name": "ProgressView",
            "bar_style": "success",
            "description": "",
            "description_tooltip": null,
            "layout": "IPY_MODEL_b8e8750c344f4920a5c18a19807995a9",
            "max": 1718,
            "min": 0,
            "orientation": "horizontal",
            "style": "IPY_MODEL_5d126c9362ad483f96d21e36bfd2e18a",
            "value": 1718
          }
        },
        "7b1a6f1880084faf81d9a6d90218209e": {
          "model_module": "@jupyter-widgets/controls",
          "model_name": "HTMLModel",
          "model_module_version": "1.5.0",
          "state": {
            "_dom_classes": [],
            "_model_module": "@jupyter-widgets/controls",
            "_model_module_version": "1.5.0",
            "_model_name": "HTMLModel",
            "_view_count": null,
            "_view_module": "@jupyter-widgets/controls",
            "_view_module_version": "1.5.0",
            "_view_name": "HTMLView",
            "description": "",
            "description_tooltip": null,
            "layout": "IPY_MODEL_a661a05063744fe5bb21718539f354da",
            "placeholder": "​",
            "style": "IPY_MODEL_368897a043de49a6a63b37b100af0a9f",
            "value": " 1718/1718 [00:33&lt;00:00, 55.39it/s, loss=0.564, sparse_categorical_accuracy=0.805]"
          }
        },
        "1f61d7bbd81f420f99192e371fd7492f": {
          "model_module": "@jupyter-widgets/base",
          "model_name": "LayoutModel",
          "model_module_version": "1.2.0",
          "state": {
            "_model_module": "@jupyter-widgets/base",
            "_model_module_version": "1.2.0",
            "_model_name": "LayoutModel",
            "_view_count": null,
            "_view_module": "@jupyter-widgets/base",
            "_view_module_version": "1.2.0",
            "_view_name": "LayoutView",
            "align_content": null,
            "align_items": null,
            "align_self": null,
            "border": null,
            "bottom": null,
            "display": null,
            "flex": null,
            "flex_flow": null,
            "grid_area": null,
            "grid_auto_columns": null,
            "grid_auto_flow": null,
            "grid_auto_rows": null,
            "grid_column": null,
            "grid_gap": null,
            "grid_row": null,
            "grid_template_areas": null,
            "grid_template_columns": null,
            "grid_template_rows": null,
            "height": null,
            "justify_content": null,
            "justify_items": null,
            "left": null,
            "margin": null,
            "max_height": null,
            "max_width": null,
            "min_height": null,
            "min_width": null,
            "object_fit": null,
            "object_position": null,
            "order": null,
            "overflow": null,
            "overflow_x": null,
            "overflow_y": null,
            "padding": null,
            "right": null,
            "top": null,
            "visibility": null,
            "width": null
          }
        },
        "840429aa8c824433b0ba04b72ae9df19": {
          "model_module": "@jupyter-widgets/base",
          "model_name": "LayoutModel",
          "model_module_version": "1.2.0",
          "state": {
            "_model_module": "@jupyter-widgets/base",
            "_model_module_version": "1.2.0",
            "_model_name": "LayoutModel",
            "_view_count": null,
            "_view_module": "@jupyter-widgets/base",
            "_view_module_version": "1.2.0",
            "_view_name": "LayoutView",
            "align_content": null,
            "align_items": null,
            "align_self": null,
            "border": null,
            "bottom": null,
            "display": null,
            "flex": null,
            "flex_flow": null,
            "grid_area": null,
            "grid_auto_columns": null,
            "grid_auto_flow": null,
            "grid_auto_rows": null,
            "grid_column": null,
            "grid_gap": null,
            "grid_row": null,
            "grid_template_areas": null,
            "grid_template_columns": null,
            "grid_template_rows": null,
            "height": null,
            "justify_content": null,
            "justify_items": null,
            "left": null,
            "margin": null,
            "max_height": null,
            "max_width": null,
            "min_height": null,
            "min_width": null,
            "object_fit": null,
            "object_position": null,
            "order": null,
            "overflow": null,
            "overflow_x": null,
            "overflow_y": null,
            "padding": null,
            "right": null,
            "top": null,
            "visibility": null,
            "width": null
          }
        },
        "80c2a1dd166f4181b25d405094164a97": {
          "model_module": "@jupyter-widgets/controls",
          "model_name": "DescriptionStyleModel",
          "model_module_version": "1.5.0",
          "state": {
            "_model_module": "@jupyter-widgets/controls",
            "_model_module_version": "1.5.0",
            "_model_name": "DescriptionStyleModel",
            "_view_count": null,
            "_view_module": "@jupyter-widgets/base",
            "_view_module_version": "1.2.0",
            "_view_name": "StyleView",
            "description_width": ""
          }
        },
        "b8e8750c344f4920a5c18a19807995a9": {
          "model_module": "@jupyter-widgets/base",
          "model_name": "LayoutModel",
          "model_module_version": "1.2.0",
          "state": {
            "_model_module": "@jupyter-widgets/base",
            "_model_module_version": "1.2.0",
            "_model_name": "LayoutModel",
            "_view_count": null,
            "_view_module": "@jupyter-widgets/base",
            "_view_module_version": "1.2.0",
            "_view_name": "LayoutView",
            "align_content": null,
            "align_items": null,
            "align_self": null,
            "border": null,
            "bottom": null,
            "display": null,
            "flex": null,
            "flex_flow": null,
            "grid_area": null,
            "grid_auto_columns": null,
            "grid_auto_flow": null,
            "grid_auto_rows": null,
            "grid_column": null,
            "grid_gap": null,
            "grid_row": null,
            "grid_template_areas": null,
            "grid_template_columns": null,
            "grid_template_rows": null,
            "height": null,
            "justify_content": null,
            "justify_items": null,
            "left": null,
            "margin": null,
            "max_height": null,
            "max_width": null,
            "min_height": null,
            "min_width": null,
            "object_fit": null,
            "object_position": null,
            "order": null,
            "overflow": null,
            "overflow_x": null,
            "overflow_y": null,
            "padding": null,
            "right": null,
            "top": null,
            "visibility": null,
            "width": null
          }
        },
        "5d126c9362ad483f96d21e36bfd2e18a": {
          "model_module": "@jupyter-widgets/controls",
          "model_name": "ProgressStyleModel",
          "model_module_version": "1.5.0",
          "state": {
            "_model_module": "@jupyter-widgets/controls",
            "_model_module_version": "1.5.0",
            "_model_name": "ProgressStyleModel",
            "_view_count": null,
            "_view_module": "@jupyter-widgets/base",
            "_view_module_version": "1.2.0",
            "_view_name": "StyleView",
            "bar_color": null,
            "description_width": ""
          }
        },
        "a661a05063744fe5bb21718539f354da": {
          "model_module": "@jupyter-widgets/base",
          "model_name": "LayoutModel",
          "model_module_version": "1.2.0",
          "state": {
            "_model_module": "@jupyter-widgets/base",
            "_model_module_version": "1.2.0",
            "_model_name": "LayoutModel",
            "_view_count": null,
            "_view_module": "@jupyter-widgets/base",
            "_view_module_version": "1.2.0",
            "_view_name": "LayoutView",
            "align_content": null,
            "align_items": null,
            "align_self": null,
            "border": null,
            "bottom": null,
            "display": null,
            "flex": null,
            "flex_flow": null,
            "grid_area": null,
            "grid_auto_columns": null,
            "grid_auto_flow": null,
            "grid_auto_rows": null,
            "grid_column": null,
            "grid_gap": null,
            "grid_row": null,
            "grid_template_areas": null,
            "grid_template_columns": null,
            "grid_template_rows": null,
            "height": null,
            "justify_content": null,
            "justify_items": null,
            "left": null,
            "margin": null,
            "max_height": null,
            "max_width": null,
            "min_height": null,
            "min_width": null,
            "object_fit": null,
            "object_position": null,
            "order": null,
            "overflow": null,
            "overflow_x": null,
            "overflow_y": null,
            "padding": null,
            "right": null,
            "top": null,
            "visibility": null,
            "width": null
          }
        },
        "368897a043de49a6a63b37b100af0a9f": {
          "model_module": "@jupyter-widgets/controls",
          "model_name": "DescriptionStyleModel",
          "model_module_version": "1.5.0",
          "state": {
            "_model_module": "@jupyter-widgets/controls",
            "_model_module_version": "1.5.0",
            "_model_name": "DescriptionStyleModel",
            "_view_count": null,
            "_view_module": "@jupyter-widgets/base",
            "_view_module_version": "1.2.0",
            "_view_name": "StyleView",
            "description_width": ""
          }
        },
        "c497ac7d70cb49ccb3444a9887570a8b": {
          "model_module": "@jupyter-widgets/controls",
          "model_name": "HBoxModel",
          "model_module_version": "1.5.0",
          "state": {
            "_dom_classes": [],
            "_model_module": "@jupyter-widgets/controls",
            "_model_module_version": "1.5.0",
            "_model_name": "HBoxModel",
            "_view_count": null,
            "_view_module": "@jupyter-widgets/controls",
            "_view_module_version": "1.5.0",
            "_view_name": "HBoxView",
            "box_style": "",
            "children": [
              "IPY_MODEL_ad194a229a3347e681d81290887db18b",
              "IPY_MODEL_49c1e31accf24ddca07c3244fd7c2c28",
              "IPY_MODEL_4c339586df73458f892ce3b4a35680b4"
            ],
            "layout": "IPY_MODEL_4c63ae7ca560448f88139e9124c5e849"
          }
        },
        "ad194a229a3347e681d81290887db18b": {
          "model_module": "@jupyter-widgets/controls",
          "model_name": "HTMLModel",
          "model_module_version": "1.5.0",
          "state": {
            "_dom_classes": [],
            "_model_module": "@jupyter-widgets/controls",
            "_model_module_version": "1.5.0",
            "_model_name": "HTMLModel",
            "_view_count": null,
            "_view_module": "@jupyter-widgets/controls",
            "_view_module_version": "1.5.0",
            "_view_name": "HTMLView",
            "description": "",
            "description_tooltip": null,
            "layout": "IPY_MODEL_46b590f489d34e15852c03f378d9edc6",
            "placeholder": "​",
            "style": "IPY_MODEL_85bfd752cafd42ee8649e345f9fbe603",
            "value": "Epoch 4/5: 100%"
          }
        },
        "49c1e31accf24ddca07c3244fd7c2c28": {
          "model_module": "@jupyter-widgets/controls",
          "model_name": "FloatProgressModel",
          "model_module_version": "1.5.0",
          "state": {
            "_dom_classes": [],
            "_model_module": "@jupyter-widgets/controls",
            "_model_module_version": "1.5.0",
            "_model_name": "FloatProgressModel",
            "_view_count": null,
            "_view_module": "@jupyter-widgets/controls",
            "_view_module_version": "1.5.0",
            "_view_name": "ProgressView",
            "bar_style": "success",
            "description": "",
            "description_tooltip": null,
            "layout": "IPY_MODEL_6ec9aef1644d4729a38f2775e3a3364e",
            "max": 1718,
            "min": 0,
            "orientation": "horizontal",
            "style": "IPY_MODEL_2550a941d6e34f99a07cd67c0fad7385",
            "value": 1718
          }
        },
        "4c339586df73458f892ce3b4a35680b4": {
          "model_module": "@jupyter-widgets/controls",
          "model_name": "HTMLModel",
          "model_module_version": "1.5.0",
          "state": {
            "_dom_classes": [],
            "_model_module": "@jupyter-widgets/controls",
            "_model_module_version": "1.5.0",
            "_model_name": "HTMLModel",
            "_view_count": null,
            "_view_module": "@jupyter-widgets/controls",
            "_view_module_version": "1.5.0",
            "_view_name": "HTMLView",
            "description": "",
            "description_tooltip": null,
            "layout": "IPY_MODEL_1dbdb1d667f049e199b1964260444ea8",
            "placeholder": "​",
            "style": "IPY_MODEL_a7e86ff605f44c798eaf5ec67ca19a04",
            "value": " 1718/1718 [00:34&lt;00:00, 54.23it/s, loss=0.531, sparse_categorical_accuracy=0.815]"
          }
        },
        "4c63ae7ca560448f88139e9124c5e849": {
          "model_module": "@jupyter-widgets/base",
          "model_name": "LayoutModel",
          "model_module_version": "1.2.0",
          "state": {
            "_model_module": "@jupyter-widgets/base",
            "_model_module_version": "1.2.0",
            "_model_name": "LayoutModel",
            "_view_count": null,
            "_view_module": "@jupyter-widgets/base",
            "_view_module_version": "1.2.0",
            "_view_name": "LayoutView",
            "align_content": null,
            "align_items": null,
            "align_self": null,
            "border": null,
            "bottom": null,
            "display": null,
            "flex": null,
            "flex_flow": null,
            "grid_area": null,
            "grid_auto_columns": null,
            "grid_auto_flow": null,
            "grid_auto_rows": null,
            "grid_column": null,
            "grid_gap": null,
            "grid_row": null,
            "grid_template_areas": null,
            "grid_template_columns": null,
            "grid_template_rows": null,
            "height": null,
            "justify_content": null,
            "justify_items": null,
            "left": null,
            "margin": null,
            "max_height": null,
            "max_width": null,
            "min_height": null,
            "min_width": null,
            "object_fit": null,
            "object_position": null,
            "order": null,
            "overflow": null,
            "overflow_x": null,
            "overflow_y": null,
            "padding": null,
            "right": null,
            "top": null,
            "visibility": null,
            "width": null
          }
        },
        "46b590f489d34e15852c03f378d9edc6": {
          "model_module": "@jupyter-widgets/base",
          "model_name": "LayoutModel",
          "model_module_version": "1.2.0",
          "state": {
            "_model_module": "@jupyter-widgets/base",
            "_model_module_version": "1.2.0",
            "_model_name": "LayoutModel",
            "_view_count": null,
            "_view_module": "@jupyter-widgets/base",
            "_view_module_version": "1.2.0",
            "_view_name": "LayoutView",
            "align_content": null,
            "align_items": null,
            "align_self": null,
            "border": null,
            "bottom": null,
            "display": null,
            "flex": null,
            "flex_flow": null,
            "grid_area": null,
            "grid_auto_columns": null,
            "grid_auto_flow": null,
            "grid_auto_rows": null,
            "grid_column": null,
            "grid_gap": null,
            "grid_row": null,
            "grid_template_areas": null,
            "grid_template_columns": null,
            "grid_template_rows": null,
            "height": null,
            "justify_content": null,
            "justify_items": null,
            "left": null,
            "margin": null,
            "max_height": null,
            "max_width": null,
            "min_height": null,
            "min_width": null,
            "object_fit": null,
            "object_position": null,
            "order": null,
            "overflow": null,
            "overflow_x": null,
            "overflow_y": null,
            "padding": null,
            "right": null,
            "top": null,
            "visibility": null,
            "width": null
          }
        },
        "85bfd752cafd42ee8649e345f9fbe603": {
          "model_module": "@jupyter-widgets/controls",
          "model_name": "DescriptionStyleModel",
          "model_module_version": "1.5.0",
          "state": {
            "_model_module": "@jupyter-widgets/controls",
            "_model_module_version": "1.5.0",
            "_model_name": "DescriptionStyleModel",
            "_view_count": null,
            "_view_module": "@jupyter-widgets/base",
            "_view_module_version": "1.2.0",
            "_view_name": "StyleView",
            "description_width": ""
          }
        },
        "6ec9aef1644d4729a38f2775e3a3364e": {
          "model_module": "@jupyter-widgets/base",
          "model_name": "LayoutModel",
          "model_module_version": "1.2.0",
          "state": {
            "_model_module": "@jupyter-widgets/base",
            "_model_module_version": "1.2.0",
            "_model_name": "LayoutModel",
            "_view_count": null,
            "_view_module": "@jupyter-widgets/base",
            "_view_module_version": "1.2.0",
            "_view_name": "LayoutView",
            "align_content": null,
            "align_items": null,
            "align_self": null,
            "border": null,
            "bottom": null,
            "display": null,
            "flex": null,
            "flex_flow": null,
            "grid_area": null,
            "grid_auto_columns": null,
            "grid_auto_flow": null,
            "grid_auto_rows": null,
            "grid_column": null,
            "grid_gap": null,
            "grid_row": null,
            "grid_template_areas": null,
            "grid_template_columns": null,
            "grid_template_rows": null,
            "height": null,
            "justify_content": null,
            "justify_items": null,
            "left": null,
            "margin": null,
            "max_height": null,
            "max_width": null,
            "min_height": null,
            "min_width": null,
            "object_fit": null,
            "object_position": null,
            "order": null,
            "overflow": null,
            "overflow_x": null,
            "overflow_y": null,
            "padding": null,
            "right": null,
            "top": null,
            "visibility": null,
            "width": null
          }
        },
        "2550a941d6e34f99a07cd67c0fad7385": {
          "model_module": "@jupyter-widgets/controls",
          "model_name": "ProgressStyleModel",
          "model_module_version": "1.5.0",
          "state": {
            "_model_module": "@jupyter-widgets/controls",
            "_model_module_version": "1.5.0",
            "_model_name": "ProgressStyleModel",
            "_view_count": null,
            "_view_module": "@jupyter-widgets/base",
            "_view_module_version": "1.2.0",
            "_view_name": "StyleView",
            "bar_color": null,
            "description_width": ""
          }
        },
        "1dbdb1d667f049e199b1964260444ea8": {
          "model_module": "@jupyter-widgets/base",
          "model_name": "LayoutModel",
          "model_module_version": "1.2.0",
          "state": {
            "_model_module": "@jupyter-widgets/base",
            "_model_module_version": "1.2.0",
            "_model_name": "LayoutModel",
            "_view_count": null,
            "_view_module": "@jupyter-widgets/base",
            "_view_module_version": "1.2.0",
            "_view_name": "LayoutView",
            "align_content": null,
            "align_items": null,
            "align_self": null,
            "border": null,
            "bottom": null,
            "display": null,
            "flex": null,
            "flex_flow": null,
            "grid_area": null,
            "grid_auto_columns": null,
            "grid_auto_flow": null,
            "grid_auto_rows": null,
            "grid_column": null,
            "grid_gap": null,
            "grid_row": null,
            "grid_template_areas": null,
            "grid_template_columns": null,
            "grid_template_rows": null,
            "height": null,
            "justify_content": null,
            "justify_items": null,
            "left": null,
            "margin": null,
            "max_height": null,
            "max_width": null,
            "min_height": null,
            "min_width": null,
            "object_fit": null,
            "object_position": null,
            "order": null,
            "overflow": null,
            "overflow_x": null,
            "overflow_y": null,
            "padding": null,
            "right": null,
            "top": null,
            "visibility": null,
            "width": null
          }
        },
        "a7e86ff605f44c798eaf5ec67ca19a04": {
          "model_module": "@jupyter-widgets/controls",
          "model_name": "DescriptionStyleModel",
          "model_module_version": "1.5.0",
          "state": {
            "_model_module": "@jupyter-widgets/controls",
            "_model_module_version": "1.5.0",
            "_model_name": "DescriptionStyleModel",
            "_view_count": null,
            "_view_module": "@jupyter-widgets/base",
            "_view_module_version": "1.2.0",
            "_view_name": "StyleView",
            "description_width": ""
          }
        },
        "c89d971ed2dc41dc8b3bc9ca1d23f885": {
          "model_module": "@jupyter-widgets/controls",
          "model_name": "HBoxModel",
          "model_module_version": "1.5.0",
          "state": {
            "_dom_classes": [],
            "_model_module": "@jupyter-widgets/controls",
            "_model_module_version": "1.5.0",
            "_model_name": "HBoxModel",
            "_view_count": null,
            "_view_module": "@jupyter-widgets/controls",
            "_view_module_version": "1.5.0",
            "_view_name": "HBoxView",
            "box_style": "",
            "children": [
              "IPY_MODEL_37cacb046e2b41198083898375175e06",
              "IPY_MODEL_1a34e2c9150b4400ba819d480a46ae4f",
              "IPY_MODEL_17fe2f0e26dd42d593d427eb42400677"
            ],
            "layout": "IPY_MODEL_93f2b8bdb0144bc18c2cf3adde03a1c2"
          }
        },
        "37cacb046e2b41198083898375175e06": {
          "model_module": "@jupyter-widgets/controls",
          "model_name": "HTMLModel",
          "model_module_version": "1.5.0",
          "state": {
            "_dom_classes": [],
            "_model_module": "@jupyter-widgets/controls",
            "_model_module_version": "1.5.0",
            "_model_name": "HTMLModel",
            "_view_count": null,
            "_view_module": "@jupyter-widgets/controls",
            "_view_module_version": "1.5.0",
            "_view_name": "HTMLView",
            "description": "",
            "description_tooltip": null,
            "layout": "IPY_MODEL_91a39369e173414189c4ee832b73cdfa",
            "placeholder": "​",
            "style": "IPY_MODEL_8068340cdc544fb3a2f2812c0eb7d812",
            "value": "Epoch 5/5: 100%"
          }
        },
        "1a34e2c9150b4400ba819d480a46ae4f": {
          "model_module": "@jupyter-widgets/controls",
          "model_name": "FloatProgressModel",
          "model_module_version": "1.5.0",
          "state": {
            "_dom_classes": [],
            "_model_module": "@jupyter-widgets/controls",
            "_model_module_version": "1.5.0",
            "_model_name": "FloatProgressModel",
            "_view_count": null,
            "_view_module": "@jupyter-widgets/controls",
            "_view_module_version": "1.5.0",
            "_view_name": "ProgressView",
            "bar_style": "success",
            "description": "",
            "description_tooltip": null,
            "layout": "IPY_MODEL_aef4e23b50e6425ab9e30d3f122ca19f",
            "max": 1718,
            "min": 0,
            "orientation": "horizontal",
            "style": "IPY_MODEL_37e7134b26154e39b0b824a848b1a98c",
            "value": 1718
          }
        },
        "17fe2f0e26dd42d593d427eb42400677": {
          "model_module": "@jupyter-widgets/controls",
          "model_name": "HTMLModel",
          "model_module_version": "1.5.0",
          "state": {
            "_dom_classes": [],
            "_model_module": "@jupyter-widgets/controls",
            "_model_module_version": "1.5.0",
            "_model_name": "HTMLModel",
            "_view_count": null,
            "_view_module": "@jupyter-widgets/controls",
            "_view_module_version": "1.5.0",
            "_view_name": "HTMLView",
            "description": "",
            "description_tooltip": null,
            "layout": "IPY_MODEL_197aa6c1f53946689081da33ac857a48",
            "placeholder": "​",
            "style": "IPY_MODEL_885e07d27de14b5090594de705c72292",
            "value": " 1718/1718 [00:34&lt;00:00, 53.22it/s, loss=0.516, sparse_categorical_accuracy=0.82]"
          }
        },
        "93f2b8bdb0144bc18c2cf3adde03a1c2": {
          "model_module": "@jupyter-widgets/base",
          "model_name": "LayoutModel",
          "model_module_version": "1.2.0",
          "state": {
            "_model_module": "@jupyter-widgets/base",
            "_model_module_version": "1.2.0",
            "_model_name": "LayoutModel",
            "_view_count": null,
            "_view_module": "@jupyter-widgets/base",
            "_view_module_version": "1.2.0",
            "_view_name": "LayoutView",
            "align_content": null,
            "align_items": null,
            "align_self": null,
            "border": null,
            "bottom": null,
            "display": null,
            "flex": null,
            "flex_flow": null,
            "grid_area": null,
            "grid_auto_columns": null,
            "grid_auto_flow": null,
            "grid_auto_rows": null,
            "grid_column": null,
            "grid_gap": null,
            "grid_row": null,
            "grid_template_areas": null,
            "grid_template_columns": null,
            "grid_template_rows": null,
            "height": null,
            "justify_content": null,
            "justify_items": null,
            "left": null,
            "margin": null,
            "max_height": null,
            "max_width": null,
            "min_height": null,
            "min_width": null,
            "object_fit": null,
            "object_position": null,
            "order": null,
            "overflow": null,
            "overflow_x": null,
            "overflow_y": null,
            "padding": null,
            "right": null,
            "top": null,
            "visibility": null,
            "width": null
          }
        },
        "91a39369e173414189c4ee832b73cdfa": {
          "model_module": "@jupyter-widgets/base",
          "model_name": "LayoutModel",
          "model_module_version": "1.2.0",
          "state": {
            "_model_module": "@jupyter-widgets/base",
            "_model_module_version": "1.2.0",
            "_model_name": "LayoutModel",
            "_view_count": null,
            "_view_module": "@jupyter-widgets/base",
            "_view_module_version": "1.2.0",
            "_view_name": "LayoutView",
            "align_content": null,
            "align_items": null,
            "align_self": null,
            "border": null,
            "bottom": null,
            "display": null,
            "flex": null,
            "flex_flow": null,
            "grid_area": null,
            "grid_auto_columns": null,
            "grid_auto_flow": null,
            "grid_auto_rows": null,
            "grid_column": null,
            "grid_gap": null,
            "grid_row": null,
            "grid_template_areas": null,
            "grid_template_columns": null,
            "grid_template_rows": null,
            "height": null,
            "justify_content": null,
            "justify_items": null,
            "left": null,
            "margin": null,
            "max_height": null,
            "max_width": null,
            "min_height": null,
            "min_width": null,
            "object_fit": null,
            "object_position": null,
            "order": null,
            "overflow": null,
            "overflow_x": null,
            "overflow_y": null,
            "padding": null,
            "right": null,
            "top": null,
            "visibility": null,
            "width": null
          }
        },
        "8068340cdc544fb3a2f2812c0eb7d812": {
          "model_module": "@jupyter-widgets/controls",
          "model_name": "DescriptionStyleModel",
          "model_module_version": "1.5.0",
          "state": {
            "_model_module": "@jupyter-widgets/controls",
            "_model_module_version": "1.5.0",
            "_model_name": "DescriptionStyleModel",
            "_view_count": null,
            "_view_module": "@jupyter-widgets/base",
            "_view_module_version": "1.2.0",
            "_view_name": "StyleView",
            "description_width": ""
          }
        },
        "aef4e23b50e6425ab9e30d3f122ca19f": {
          "model_module": "@jupyter-widgets/base",
          "model_name": "LayoutModel",
          "model_module_version": "1.2.0",
          "state": {
            "_model_module": "@jupyter-widgets/base",
            "_model_module_version": "1.2.0",
            "_model_name": "LayoutModel",
            "_view_count": null,
            "_view_module": "@jupyter-widgets/base",
            "_view_module_version": "1.2.0",
            "_view_name": "LayoutView",
            "align_content": null,
            "align_items": null,
            "align_self": null,
            "border": null,
            "bottom": null,
            "display": null,
            "flex": null,
            "flex_flow": null,
            "grid_area": null,
            "grid_auto_columns": null,
            "grid_auto_flow": null,
            "grid_auto_rows": null,
            "grid_column": null,
            "grid_gap": null,
            "grid_row": null,
            "grid_template_areas": null,
            "grid_template_columns": null,
            "grid_template_rows": null,
            "height": null,
            "justify_content": null,
            "justify_items": null,
            "left": null,
            "margin": null,
            "max_height": null,
            "max_width": null,
            "min_height": null,
            "min_width": null,
            "object_fit": null,
            "object_position": null,
            "order": null,
            "overflow": null,
            "overflow_x": null,
            "overflow_y": null,
            "padding": null,
            "right": null,
            "top": null,
            "visibility": null,
            "width": null
          }
        },
        "37e7134b26154e39b0b824a848b1a98c": {
          "model_module": "@jupyter-widgets/controls",
          "model_name": "ProgressStyleModel",
          "model_module_version": "1.5.0",
          "state": {
            "_model_module": "@jupyter-widgets/controls",
            "_model_module_version": "1.5.0",
            "_model_name": "ProgressStyleModel",
            "_view_count": null,
            "_view_module": "@jupyter-widgets/base",
            "_view_module_version": "1.2.0",
            "_view_name": "StyleView",
            "bar_color": null,
            "description_width": ""
          }
        },
        "197aa6c1f53946689081da33ac857a48": {
          "model_module": "@jupyter-widgets/base",
          "model_name": "LayoutModel",
          "model_module_version": "1.2.0",
          "state": {
            "_model_module": "@jupyter-widgets/base",
            "_model_module_version": "1.2.0",
            "_model_name": "LayoutModel",
            "_view_count": null,
            "_view_module": "@jupyter-widgets/base",
            "_view_module_version": "1.2.0",
            "_view_name": "LayoutView",
            "align_content": null,
            "align_items": null,
            "align_self": null,
            "border": null,
            "bottom": null,
            "display": null,
            "flex": null,
            "flex_flow": null,
            "grid_area": null,
            "grid_auto_columns": null,
            "grid_auto_flow": null,
            "grid_auto_rows": null,
            "grid_column": null,
            "grid_gap": null,
            "grid_row": null,
            "grid_template_areas": null,
            "grid_template_columns": null,
            "grid_template_rows": null,
            "height": null,
            "justify_content": null,
            "justify_items": null,
            "left": null,
            "margin": null,
            "max_height": null,
            "max_width": null,
            "min_height": null,
            "min_width": null,
            "object_fit": null,
            "object_position": null,
            "order": null,
            "overflow": null,
            "overflow_x": null,
            "overflow_y": null,
            "padding": null,
            "right": null,
            "top": null,
            "visibility": null,
            "width": null
          }
        },
        "885e07d27de14b5090594de705c72292": {
          "model_module": "@jupyter-widgets/controls",
          "model_name": "DescriptionStyleModel",
          "model_module_version": "1.5.0",
          "state": {
            "_model_module": "@jupyter-widgets/controls",
            "_model_module_version": "1.5.0",
            "_model_name": "DescriptionStyleModel",
            "_view_count": null,
            "_view_module": "@jupyter-widgets/base",
            "_view_module_version": "1.2.0",
            "_view_name": "StyleView",
            "description_width": ""
          }
        }
      }
    }
  },
  "nbformat": 4,
  "nbformat_minor": 0
}